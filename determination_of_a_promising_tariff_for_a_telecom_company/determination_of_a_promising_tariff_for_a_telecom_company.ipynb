{
 "cells": [
  {
   "cell_type": "markdown",
   "metadata": {},
   "source": [
    "# Определение перспективного тарифа для телеком-компании(на примере федерального оператора сотовой сети \"Мегалайн\")"
   ]
  },
  {
   "cell_type": "markdown",
   "metadata": {
    "toc": true
   },
   "source": [
    "<h1>Содержание<span class=\"tocSkip\"></span></h1>\n",
    "<div class=\"toc\"><ul class=\"toc-item\"><li><span><a href=\"#Описание-проекта\" data-toc-modified-id=\"Описание-проекта-1\"><span class=\"toc-item-num\">1&nbsp;&nbsp;</span>Описание проекта</a></span><ul class=\"toc-item\"><li><span><a href=\"#Описание-тарифов-оператора-сотовой-связи\" data-toc-modified-id=\"Описание-тарифов-оператора-сотовой-связи-1.1\"><span class=\"toc-item-num\">1.1&nbsp;&nbsp;</span>Описание тарифов оператора сотовой связи</a></span></li><li><span><a href=\"#О-параметрах-округления\" data-toc-modified-id=\"О-параметрах-округления-1.2\"><span class=\"toc-item-num\">1.2&nbsp;&nbsp;</span>О параметрах округления</a></span></li></ul></li><li><span><a href=\"#Изучение-общей-информации-и-файлов-данных\" data-toc-modified-id=\"Изучение-общей-информации-и-файлов-данных-2\"><span class=\"toc-item-num\">2&nbsp;&nbsp;</span>Изучение общей информации и файлов данных</a></span><ul class=\"toc-item\"><li><span><a href=\"#Файлы-данных\" data-toc-modified-id=\"Файлы-данных-2.1\"><span class=\"toc-item-num\">2.1&nbsp;&nbsp;</span>Файлы данных</a></span></li><li><span><a href=\"#Описание-данных\" data-toc-modified-id=\"Описание-данных-2.2\"><span class=\"toc-item-num\">2.2&nbsp;&nbsp;</span>Описание данных</a></span></li><li><span><a href=\"#Изучение-файлов-данных\" data-toc-modified-id=\"Изучение-файлов-данных-2.3\"><span class=\"toc-item-num\">2.3&nbsp;&nbsp;</span>Изучение файлов данных</a></span></li><li><span><a href=\"#Вывод\" data-toc-modified-id=\"Вывод-2.4\"><span class=\"toc-item-num\">2.4&nbsp;&nbsp;</span>Вывод</a></span></li></ul></li><li><span><a href=\"#Предобработка-данных\" data-toc-modified-id=\"Предобработка-данных-3\"><span class=\"toc-item-num\">3&nbsp;&nbsp;</span>Предобработка данных</a></span><ul class=\"toc-item\"><li><span><a href=\"#Объединение-таблиц-данных\" data-toc-modified-id=\"Объединение-таблиц-данных-3.1\"><span class=\"toc-item-num\">3.1&nbsp;&nbsp;</span>Объединение таблиц данных</a></span><ul class=\"toc-item\"><li><span><a href=\"#Подготовка-таблиц-к-объединению,-группировка-данных\" data-toc-modified-id=\"Подготовка-таблиц-к-объединению,-группировка-данных-3.1.1\"><span class=\"toc-item-num\">3.1.1&nbsp;&nbsp;</span>Подготовка таблиц к объединению, группировка данных</a></span></li><li><span><a href=\"#Объединение-таблиц-между-собой\" data-toc-modified-id=\"Объединение-таблиц-между-собой-3.1.2\"><span class=\"toc-item-num\">3.1.2&nbsp;&nbsp;</span>Объединение таблиц между собой</a></span></li><li><span><a href=\"#Вывод\" data-toc-modified-id=\"Вывод-3.1.3\"><span class=\"toc-item-num\">3.1.3&nbsp;&nbsp;</span>Вывод</a></span></li></ul></li><li><span><a href=\"#Изменение-названий-столбцов\" data-toc-modified-id=\"Изменение-названий-столбцов-3.2\"><span class=\"toc-item-num\">3.2&nbsp;&nbsp;</span>Изменение названий столбцов</a></span><ul class=\"toc-item\"><li><span><a href=\"#Вывод\" data-toc-modified-id=\"Вывод-3.2.1\"><span class=\"toc-item-num\">3.2.1&nbsp;&nbsp;</span>Вывод</a></span></li></ul></li><li><span><a href=\"#Анализ-и-обработка-пропусков\" data-toc-modified-id=\"Анализ-и-обработка-пропусков-3.3\"><span class=\"toc-item-num\">3.3&nbsp;&nbsp;</span>Анализ и обработка пропусков</a></span><ul class=\"toc-item\"><li><span><a href=\"#Вывод\" data-toc-modified-id=\"Вывод-3.3.1\"><span class=\"toc-item-num\">3.3.1&nbsp;&nbsp;</span>Вывод</a></span></li></ul></li><li><span><a href=\"#Приведение-данных-к-нужным-типам\" data-toc-modified-id=\"Приведение-данных-к-нужным-типам-3.4\"><span class=\"toc-item-num\">3.4&nbsp;&nbsp;</span>Приведение данных к нужным типам</a></span><ul class=\"toc-item\"><li><span><a href=\"#Вывод\" data-toc-modified-id=\"Вывод-3.4.1\"><span class=\"toc-item-num\">3.4.1&nbsp;&nbsp;</span>Вывод</a></span></li></ul></li><li><span><a href=\"#Поиск-и-удаление-явных-дубликатов\" data-toc-modified-id=\"Поиск-и-удаление-явных-дубликатов-3.5\"><span class=\"toc-item-num\">3.5&nbsp;&nbsp;</span>Поиск и удаление явных дубликатов</a></span><ul class=\"toc-item\"><li><span><a href=\"#Вывод\" data-toc-modified-id=\"Вывод-3.5.1\"><span class=\"toc-item-num\">3.5.1&nbsp;&nbsp;</span>Вывод</a></span></li></ul></li><li><span><a href=\"#Вывод-по-итогам-предобработки-данных\" data-toc-modified-id=\"Вывод-по-итогам-предобработки-данных-3.6\"><span class=\"toc-item-num\">3.6&nbsp;&nbsp;</span>Вывод по итогам предобработки данных</a></span></li></ul></li><li><span><a href=\"#Расчеты-и-добавление-результатов-в-таблицу\" data-toc-modified-id=\"Расчеты-и-добавление-результатов-в-таблицу-4\"><span class=\"toc-item-num\">4&nbsp;&nbsp;</span>Расчеты и добавление результатов в таблицу</a></span><ul class=\"toc-item\"><li><span><a href=\"#Расчет-и-добавление-в-таблицу-ключевых-сущностей-для-анализа-по-каждому-пользователю\" data-toc-modified-id=\"Расчет-и-добавление-в-таблицу-ключевых-сущностей-для-анализа-по-каждому-пользователю-4.1\"><span class=\"toc-item-num\">4.1&nbsp;&nbsp;</span>Расчет и добавление в таблицу ключевых сущностей для анализа по каждому пользователю</a></span></li><li><span><a href=\"#Вывод\" data-toc-modified-id=\"Вывод-4.2\"><span class=\"toc-item-num\">4.2&nbsp;&nbsp;</span>Вывод</a></span></li></ul></li><li><span><a href=\"#Анализ-данных\" data-toc-modified-id=\"Анализ-данных-5\"><span class=\"toc-item-num\">5&nbsp;&nbsp;</span>Анализ данных</a></span><ul class=\"toc-item\"><li><span><a href=\"#Описание-поведения-клиентов-оператора\" data-toc-modified-id=\"Описание-поведения-клиентов-оператора-5.1\"><span class=\"toc-item-num\">5.1&nbsp;&nbsp;</span>Описание поведения клиентов оператора</a></span></li><li><span><a href=\"#Вывод\" data-toc-modified-id=\"Вывод-5.2\"><span class=\"toc-item-num\">5.2&nbsp;&nbsp;</span>Вывод</a></span></li></ul></li><li><span><a href=\"#Проверка-гипотез\" data-toc-modified-id=\"Проверка-гипотез-6\"><span class=\"toc-item-num\">6&nbsp;&nbsp;</span>Проверка гипотез</a></span><ul class=\"toc-item\"><li><span><a href=\"#Гипотезы-для-проверки:\" data-toc-modified-id=\"Гипотезы-для-проверки:-6.1\"><span class=\"toc-item-num\">6.1&nbsp;&nbsp;</span>Гипотезы для проверки:</a></span></li><li><span><a href=\"#Вывод\" data-toc-modified-id=\"Вывод-6.2\"><span class=\"toc-item-num\">6.2&nbsp;&nbsp;</span>Вывод</a></span></li></ul></li><li><span><a href=\"#Вывод-по-проектной-работе\" data-toc-modified-id=\"Вывод-по-проектной-работе-7\"><span class=\"toc-item-num\">7&nbsp;&nbsp;</span>Вывод по проектной работе</a></span></li></ul></div>"
   ]
  },
  {
   "cell_type": "markdown",
   "metadata": {},
   "source": [
    "## Описание проекта\n",
    "«Мегалайн» — федерального оператора сотовой связи. Клиентам предлагают два тарифных плана: «Смарт» и «Ультра». Чтобы скорректировать рекламный бюджет, коммерческий департамент хочет понять, какой тариф приносит больше денег.\n",
    "В данном проекте предстоит сделать предварительный анализ тарифов на небольшой выборке клиентов. В распоряжении данные 500 пользователей «Мегалайна»: кто они, откуда, каким тарифом пользуются, сколько звонков и сообщений каждый отправил за 2018 год. \n",
    "\n",
    "Цель проекта -  проанализировать поведение клиентов и сделать вывод — какой тариф лучше.\n",
    "\n",
    "### Описание тарифов оператора сотовой связи\n",
    "\n",
    "1. Тариф «Смарт»\n",
    "- Ежемесячная плата: 550 рублей\n",
    "- Включено 500 минут разговора, 50 сообщений и 15 Гб интернет-трафика\n",
    "- Стоимость услуг сверх тарифного пакета: 1. минута разговора: 3 рубля («Мегалайн» всегда округляет вверх значения минут и мегабайтов. Если пользователь проговорил всего 1 секунду, в тарифе засчитывается целая минута); 2. сообщение: 3 рубля; 3. 1 Гб интернет-трафика: 200 рублей.\n",
    "\n",
    "2. Тариф «Ультра»\n",
    "- Ежемесячная плата: 1950 рублей\n",
    "- Включено 3000 минут разговора, 1000 сообщений и 30 Гб интернет-трафика\n",
    "- Стоимость услуг сверх тарифного пакета: 1. минута разговора: 1 рубль; 2. сообщение: 1 рубль; 3. 1 Гб интернет-трафика: 150 рублей.\n",
    "\n",
    "### О параметрах округления \n",
    "«Мегалайн» всегда округляет секунды до минут, а мегабайты — до гигабайт. Каждый звонок округляется отдельно: даже если он длился всего 1 секунду, будет засчитан как 1 минута.\n",
    "Для веб-трафика отдельные сессии не считаются. Вместо этого общая сумма за месяц округляется в бо́льшую сторону. Если абонент использует 1025 мегабайт в этом месяце, с него возьмут плату за 2 гигабайта."
   ]
  },
  {
   "cell_type": "markdown",
   "metadata": {},
   "source": [
    "## Изучение общей информации и файлов данных"
   ]
  },
  {
   "cell_type": "markdown",
   "metadata": {},
   "source": [
    "### Файлы данных\n",
    "В нашем распоряжении следующие файлы данных:\n",
    "1. /datasets/users.csv\n",
    "2. /datasets/calls.csv\n",
    "3. /datasets/messages.csv\n",
    "4. /datasets/internet.csv\n",
    "5. /datasets/tariffs.csv\n",
    "\n",
    "### Описание данных\n",
    "1. Таблица users (информация о пользователях):\n",
    "- user_id — уникальный идентификатор пользователя\n",
    "- first_name — имя пользователя\n",
    "- last_name — фамилия пользователя\n",
    "- age — возраст пользователя (годы)\n",
    "- reg_date — дата подключения тарифа (день, месяц, год)\n",
    "- churn_date — дата прекращения пользования тарифом (если значение пропущено, то тариф ещё действовал на момент выгрузки данных)\n",
    "- city — город проживания пользователя\n",
    "- tarif — название тарифного плана\n",
    "\n",
    "2. Таблица calls (информация о звонках):\n",
    "- id — уникальный номер звонка\n",
    "- call_date — дата звонка\n",
    "- duration — длительность звонка в минутах\n",
    "- user_id — идентификатор пользователя, сделавшего звонок\n",
    "\n",
    "3. Таблица messages (информация о сообщениях):\n",
    "- id — уникальный номер сообщения\n",
    "- message_date — дата сообщения\n",
    "- user_id — идентификатор пользователя, отправившего сообщение\n",
    "\n",
    "4. Таблица internet (информация об интернет-сессиях):\n",
    "- id — уникальный номер сессии\n",
    "- mb_used — объём потраченного за сессию интернет-трафика (в мегабайтах)\n",
    "- session_date — дата интернет-сессии\n",
    "- user_id — идентификатор пользователя\n",
    "\n",
    "5. Таблица tariffs (информация о тарифах):\n",
    "- tariff_name — название тарифа\n",
    "- rub_monthly_fee — ежемесячная абонентская плата в рублях\n",
    "- minutes_included — количество минут разговора в месяц, включённых в абонентскую плату\n",
    "- messages_included — количество сообщений в месяц, включённых в абонентскую плату\n",
    "- mb_per_month_included — объём интернет-трафика, включённого в абонентскую плату (в мегабайтах)\n",
    "- rub_per_minute — стоимость минуты разговора сверх тарифного пакета (например, если в тарифе 100 минут разговора в месяц, то со 101 минуты будет взиматься плата)\n",
    "- rub_per_message — стоимость отправки сообщения сверх тарифного пакета\n",
    "- rub_per_gb — стоимость дополнительного гигабайта интернет-трафика сверх тарифного пакета (1 гигабайт = 1024 мегабайта)"
   ]
  },
  {
   "cell_type": "markdown",
   "metadata": {},
   "source": [
    "### Изучение файлов данных"
   ]
  },
  {
   "cell_type": "code",
   "execution_count": 79,
   "metadata": {},
   "outputs": [],
   "source": [
    "import pandas as pd # импорт библиотеки Pandas \n",
    "import statistics as st # импорт библиотеки статистики\n",
    "import matplotlib.pyplot as plt # импорт библиотеки для создания графиков\n",
    "import seaborn as sns # импорт библиотеки для построения графиков и тепловых карт\n",
    "import math # импорт библиотеки для математических операций\n",
    "import numpy as np # импорт библиотеки с математическими операциями\n",
    "from scipy import stats as st # импорт инструментария для проверки гипотез"
   ]
  },
  {
   "cell_type": "code",
   "execution_count": 80,
   "metadata": {},
   "outputs": [],
   "source": [
    "# убираем ограничения по строкам и столбцам, чтобы увидеть больше особнностей масивов данных\n",
    "pd.set_option('display.max_rows', None)\n",
    "pd.set_option('display.max_columns', None)"
   ]
  },
  {
   "cell_type": "code",
   "execution_count": 81,
   "metadata": {
    "scrolled": true
   },
   "outputs": [
    {
     "data": {
      "text/html": [
       "<div>\n",
       "<style scoped>\n",
       "    .dataframe tbody tr th:only-of-type {\n",
       "        vertical-align: middle;\n",
       "    }\n",
       "\n",
       "    .dataframe tbody tr th {\n",
       "        vertical-align: top;\n",
       "    }\n",
       "\n",
       "    .dataframe thead th {\n",
       "        text-align: right;\n",
       "    }\n",
       "</style>\n",
       "<table border=\"1\" class=\"dataframe\">\n",
       "  <thead>\n",
       "    <tr style=\"text-align: right;\">\n",
       "      <th></th>\n",
       "      <th>user_id</th>\n",
       "      <th>age</th>\n",
       "      <th>churn_date</th>\n",
       "      <th>city</th>\n",
       "      <th>first_name</th>\n",
       "      <th>last_name</th>\n",
       "      <th>reg_date</th>\n",
       "      <th>tariff</th>\n",
       "    </tr>\n",
       "  </thead>\n",
       "  <tbody>\n",
       "    <tr>\n",
       "      <td>0</td>\n",
       "      <td>1000</td>\n",
       "      <td>52</td>\n",
       "      <td>NaN</td>\n",
       "      <td>Краснодар</td>\n",
       "      <td>Рафаил</td>\n",
       "      <td>Верещагин</td>\n",
       "      <td>2018-05-25</td>\n",
       "      <td>ultra</td>\n",
       "    </tr>\n",
       "    <tr>\n",
       "      <td>1</td>\n",
       "      <td>1001</td>\n",
       "      <td>41</td>\n",
       "      <td>NaN</td>\n",
       "      <td>Москва</td>\n",
       "      <td>Иван</td>\n",
       "      <td>Ежов</td>\n",
       "      <td>2018-11-01</td>\n",
       "      <td>smart</td>\n",
       "    </tr>\n",
       "    <tr>\n",
       "      <td>2</td>\n",
       "      <td>1002</td>\n",
       "      <td>59</td>\n",
       "      <td>NaN</td>\n",
       "      <td>Стерлитамак</td>\n",
       "      <td>Евгений</td>\n",
       "      <td>Абрамович</td>\n",
       "      <td>2018-06-17</td>\n",
       "      <td>smart</td>\n",
       "    </tr>\n",
       "    <tr>\n",
       "      <td>3</td>\n",
       "      <td>1003</td>\n",
       "      <td>23</td>\n",
       "      <td>NaN</td>\n",
       "      <td>Москва</td>\n",
       "      <td>Белла</td>\n",
       "      <td>Белякова</td>\n",
       "      <td>2018-08-17</td>\n",
       "      <td>ultra</td>\n",
       "    </tr>\n",
       "    <tr>\n",
       "      <td>4</td>\n",
       "      <td>1004</td>\n",
       "      <td>68</td>\n",
       "      <td>NaN</td>\n",
       "      <td>Новокузнецк</td>\n",
       "      <td>Татьяна</td>\n",
       "      <td>Авдеенко</td>\n",
       "      <td>2018-05-14</td>\n",
       "      <td>ultra</td>\n",
       "    </tr>\n",
       "    <tr>\n",
       "      <td>5</td>\n",
       "      <td>1005</td>\n",
       "      <td>67</td>\n",
       "      <td>NaN</td>\n",
       "      <td>Набережные Челны</td>\n",
       "      <td>Афанасий</td>\n",
       "      <td>Горлов</td>\n",
       "      <td>2018-01-25</td>\n",
       "      <td>smart</td>\n",
       "    </tr>\n",
       "    <tr>\n",
       "      <td>6</td>\n",
       "      <td>1006</td>\n",
       "      <td>21</td>\n",
       "      <td>NaN</td>\n",
       "      <td>Ульяновск</td>\n",
       "      <td>Леонид</td>\n",
       "      <td>Ермолаев</td>\n",
       "      <td>2018-02-26</td>\n",
       "      <td>smart</td>\n",
       "    </tr>\n",
       "    <tr>\n",
       "      <td>7</td>\n",
       "      <td>1007</td>\n",
       "      <td>65</td>\n",
       "      <td>NaN</td>\n",
       "      <td>Москва</td>\n",
       "      <td>Юна</td>\n",
       "      <td>Березина</td>\n",
       "      <td>2018-04-19</td>\n",
       "      <td>smart</td>\n",
       "    </tr>\n",
       "    <tr>\n",
       "      <td>8</td>\n",
       "      <td>1008</td>\n",
       "      <td>63</td>\n",
       "      <td>NaN</td>\n",
       "      <td>Челябинск</td>\n",
       "      <td>Рустэм</td>\n",
       "      <td>Пономарёв</td>\n",
       "      <td>2018-12-19</td>\n",
       "      <td>smart</td>\n",
       "    </tr>\n",
       "    <tr>\n",
       "      <td>9</td>\n",
       "      <td>1009</td>\n",
       "      <td>24</td>\n",
       "      <td>NaN</td>\n",
       "      <td>Пермь</td>\n",
       "      <td>Василиса</td>\n",
       "      <td>Блинова</td>\n",
       "      <td>2018-03-22</td>\n",
       "      <td>smart</td>\n",
       "    </tr>\n",
       "  </tbody>\n",
       "</table>\n",
       "</div>"
      ],
      "text/plain": [
       "   user_id  age churn_date              city first_name  last_name  \\\n",
       "0     1000   52        NaN         Краснодар     Рафаил  Верещагин   \n",
       "1     1001   41        NaN            Москва       Иван       Ежов   \n",
       "2     1002   59        NaN       Стерлитамак    Евгений  Абрамович   \n",
       "3     1003   23        NaN            Москва      Белла   Белякова   \n",
       "4     1004   68        NaN       Новокузнецк    Татьяна   Авдеенко   \n",
       "5     1005   67        NaN  Набережные Челны   Афанасий     Горлов   \n",
       "6     1006   21        NaN         Ульяновск     Леонид   Ермолаев   \n",
       "7     1007   65        NaN            Москва        Юна   Березина   \n",
       "8     1008   63        NaN         Челябинск     Рустэм  Пономарёв   \n",
       "9     1009   24        NaN             Пермь   Василиса    Блинова   \n",
       "\n",
       "     reg_date tariff  \n",
       "0  2018-05-25  ultra  \n",
       "1  2018-11-01  smart  \n",
       "2  2018-06-17  smart  \n",
       "3  2018-08-17  ultra  \n",
       "4  2018-05-14  ultra  \n",
       "5  2018-01-25  smart  \n",
       "6  2018-02-26  smart  \n",
       "7  2018-04-19  smart  \n",
       "8  2018-12-19  smart  \n",
       "9  2018-03-22  smart  "
      ]
     },
     "metadata": {},
     "output_type": "display_data"
    },
    {
     "data": {
      "text/html": [
       "<div>\n",
       "<style scoped>\n",
       "    .dataframe tbody tr th:only-of-type {\n",
       "        vertical-align: middle;\n",
       "    }\n",
       "\n",
       "    .dataframe tbody tr th {\n",
       "        vertical-align: top;\n",
       "    }\n",
       "\n",
       "    .dataframe thead th {\n",
       "        text-align: right;\n",
       "    }\n",
       "</style>\n",
       "<table border=\"1\" class=\"dataframe\">\n",
       "  <thead>\n",
       "    <tr style=\"text-align: right;\">\n",
       "      <th></th>\n",
       "      <th>user_id</th>\n",
       "      <th>age</th>\n",
       "      <th>churn_date</th>\n",
       "      <th>city</th>\n",
       "      <th>first_name</th>\n",
       "      <th>last_name</th>\n",
       "      <th>reg_date</th>\n",
       "      <th>tariff</th>\n",
       "    </tr>\n",
       "  </thead>\n",
       "  <tbody>\n",
       "    <tr>\n",
       "      <td>490</td>\n",
       "      <td>1490</td>\n",
       "      <td>30</td>\n",
       "      <td>NaN</td>\n",
       "      <td>Москва</td>\n",
       "      <td>Радомир</td>\n",
       "      <td>Алесин</td>\n",
       "      <td>2018-04-03</td>\n",
       "      <td>smart</td>\n",
       "    </tr>\n",
       "    <tr>\n",
       "      <td>491</td>\n",
       "      <td>1491</td>\n",
       "      <td>56</td>\n",
       "      <td>NaN</td>\n",
       "      <td>Челябинск</td>\n",
       "      <td>Радислав</td>\n",
       "      <td>Андрейкин</td>\n",
       "      <td>2018-04-25</td>\n",
       "      <td>ultra</td>\n",
       "    </tr>\n",
       "    <tr>\n",
       "      <td>492</td>\n",
       "      <td>1492</td>\n",
       "      <td>63</td>\n",
       "      <td>NaN</td>\n",
       "      <td>Санкт-Петербург</td>\n",
       "      <td>Руслана</td>\n",
       "      <td>Артёменко</td>\n",
       "      <td>2018-06-26</td>\n",
       "      <td>smart</td>\n",
       "    </tr>\n",
       "    <tr>\n",
       "      <td>493</td>\n",
       "      <td>1493</td>\n",
       "      <td>71</td>\n",
       "      <td>NaN</td>\n",
       "      <td>Красноярск</td>\n",
       "      <td>Таисия</td>\n",
       "      <td>Ахматулина</td>\n",
       "      <td>2018-11-24</td>\n",
       "      <td>ultra</td>\n",
       "    </tr>\n",
       "    <tr>\n",
       "      <td>494</td>\n",
       "      <td>1494</td>\n",
       "      <td>62</td>\n",
       "      <td>NaN</td>\n",
       "      <td>Омск</td>\n",
       "      <td>Ренат</td>\n",
       "      <td>Андропов</td>\n",
       "      <td>2018-08-17</td>\n",
       "      <td>smart</td>\n",
       "    </tr>\n",
       "    <tr>\n",
       "      <td>495</td>\n",
       "      <td>1495</td>\n",
       "      <td>65</td>\n",
       "      <td>NaN</td>\n",
       "      <td>Иркутск</td>\n",
       "      <td>Авксентий</td>\n",
       "      <td>Фокин</td>\n",
       "      <td>2018-08-28</td>\n",
       "      <td>ultra</td>\n",
       "    </tr>\n",
       "    <tr>\n",
       "      <td>496</td>\n",
       "      <td>1496</td>\n",
       "      <td>36</td>\n",
       "      <td>NaN</td>\n",
       "      <td>Вологда</td>\n",
       "      <td>Трифон</td>\n",
       "      <td>Блохин</td>\n",
       "      <td>2018-01-27</td>\n",
       "      <td>smart</td>\n",
       "    </tr>\n",
       "    <tr>\n",
       "      <td>497</td>\n",
       "      <td>1497</td>\n",
       "      <td>32</td>\n",
       "      <td>NaN</td>\n",
       "      <td>Челябинск</td>\n",
       "      <td>Каролина</td>\n",
       "      <td>Агеева</td>\n",
       "      <td>2018-10-09</td>\n",
       "      <td>smart</td>\n",
       "    </tr>\n",
       "    <tr>\n",
       "      <td>498</td>\n",
       "      <td>1498</td>\n",
       "      <td>68</td>\n",
       "      <td>2018-10-25</td>\n",
       "      <td>Владикавказ</td>\n",
       "      <td>Всеволод</td>\n",
       "      <td>Акимчин</td>\n",
       "      <td>2018-07-19</td>\n",
       "      <td>smart</td>\n",
       "    </tr>\n",
       "    <tr>\n",
       "      <td>499</td>\n",
       "      <td>1499</td>\n",
       "      <td>35</td>\n",
       "      <td>NaN</td>\n",
       "      <td>Пермь</td>\n",
       "      <td>Гектор</td>\n",
       "      <td>Корнилов</td>\n",
       "      <td>2018-09-27</td>\n",
       "      <td>smart</td>\n",
       "    </tr>\n",
       "  </tbody>\n",
       "</table>\n",
       "</div>"
      ],
      "text/plain": [
       "     user_id  age  churn_date             city first_name   last_name  \\\n",
       "490     1490   30         NaN           Москва    Радомир      Алесин   \n",
       "491     1491   56         NaN        Челябинск   Радислав   Андрейкин   \n",
       "492     1492   63         NaN  Санкт-Петербург    Руслана   Артёменко   \n",
       "493     1493   71         NaN       Красноярск     Таисия  Ахматулина   \n",
       "494     1494   62         NaN             Омск      Ренат    Андропов   \n",
       "495     1495   65         NaN          Иркутск  Авксентий       Фокин   \n",
       "496     1496   36         NaN          Вологда     Трифон      Блохин   \n",
       "497     1497   32         NaN        Челябинск   Каролина      Агеева   \n",
       "498     1498   68  2018-10-25      Владикавказ   Всеволод     Акимчин   \n",
       "499     1499   35         NaN            Пермь     Гектор    Корнилов   \n",
       "\n",
       "       reg_date tariff  \n",
       "490  2018-04-03  smart  \n",
       "491  2018-04-25  ultra  \n",
       "492  2018-06-26  smart  \n",
       "493  2018-11-24  ultra  \n",
       "494  2018-08-17  smart  \n",
       "495  2018-08-28  ultra  \n",
       "496  2018-01-27  smart  \n",
       "497  2018-10-09  smart  \n",
       "498  2018-07-19  smart  \n",
       "499  2018-09-27  smart  "
      ]
     },
     "metadata": {},
     "output_type": "display_data"
    },
    {
     "name": "stdout",
     "output_type": "stream",
     "text": [
      "<class 'pandas.core.frame.DataFrame'>\n",
      "RangeIndex: 500 entries, 0 to 499\n",
      "Data columns (total 8 columns):\n",
      "user_id       500 non-null int64\n",
      "age           500 non-null int64\n",
      "churn_date    38 non-null object\n",
      "city          500 non-null object\n",
      "first_name    500 non-null object\n",
      "last_name     500 non-null object\n",
      "reg_date      500 non-null object\n",
      "tariff        500 non-null object\n",
      "dtypes: int64(2), object(6)\n",
      "memory usage: 31.4+ KB\n"
     ]
    },
    {
     "data": {
      "text/html": [
       "<div>\n",
       "<style scoped>\n",
       "    .dataframe tbody tr th:only-of-type {\n",
       "        vertical-align: middle;\n",
       "    }\n",
       "\n",
       "    .dataframe tbody tr th {\n",
       "        vertical-align: top;\n",
       "    }\n",
       "\n",
       "    .dataframe thead th {\n",
       "        text-align: right;\n",
       "    }\n",
       "</style>\n",
       "<table border=\"1\" class=\"dataframe\">\n",
       "  <thead>\n",
       "    <tr style=\"text-align: right;\">\n",
       "      <th></th>\n",
       "      <th>user_id</th>\n",
       "      <th>age</th>\n",
       "      <th>churn_date</th>\n",
       "      <th>city</th>\n",
       "      <th>first_name</th>\n",
       "      <th>last_name</th>\n",
       "      <th>reg_date</th>\n",
       "      <th>tariff</th>\n",
       "    </tr>\n",
       "  </thead>\n",
       "  <tbody>\n",
       "    <tr>\n",
       "      <td>count</td>\n",
       "      <td>500.000000</td>\n",
       "      <td>500.00000</td>\n",
       "      <td>38</td>\n",
       "      <td>500</td>\n",
       "      <td>500</td>\n",
       "      <td>500</td>\n",
       "      <td>500</td>\n",
       "      <td>500</td>\n",
       "    </tr>\n",
       "    <tr>\n",
       "      <td>unique</td>\n",
       "      <td>NaN</td>\n",
       "      <td>NaN</td>\n",
       "      <td>33</td>\n",
       "      <td>76</td>\n",
       "      <td>246</td>\n",
       "      <td>419</td>\n",
       "      <td>270</td>\n",
       "      <td>2</td>\n",
       "    </tr>\n",
       "    <tr>\n",
       "      <td>top</td>\n",
       "      <td>NaN</td>\n",
       "      <td>NaN</td>\n",
       "      <td>2018-10-03</td>\n",
       "      <td>Москва</td>\n",
       "      <td>Радим</td>\n",
       "      <td>Андреенко</td>\n",
       "      <td>2018-05-28</td>\n",
       "      <td>smart</td>\n",
       "    </tr>\n",
       "    <tr>\n",
       "      <td>freq</td>\n",
       "      <td>NaN</td>\n",
       "      <td>NaN</td>\n",
       "      <td>2</td>\n",
       "      <td>99</td>\n",
       "      <td>6</td>\n",
       "      <td>5</td>\n",
       "      <td>8</td>\n",
       "      <td>351</td>\n",
       "    </tr>\n",
       "    <tr>\n",
       "      <td>mean</td>\n",
       "      <td>1249.500000</td>\n",
       "      <td>46.58800</td>\n",
       "      <td>NaN</td>\n",
       "      <td>NaN</td>\n",
       "      <td>NaN</td>\n",
       "      <td>NaN</td>\n",
       "      <td>NaN</td>\n",
       "      <td>NaN</td>\n",
       "    </tr>\n",
       "    <tr>\n",
       "      <td>std</td>\n",
       "      <td>144.481833</td>\n",
       "      <td>16.66763</td>\n",
       "      <td>NaN</td>\n",
       "      <td>NaN</td>\n",
       "      <td>NaN</td>\n",
       "      <td>NaN</td>\n",
       "      <td>NaN</td>\n",
       "      <td>NaN</td>\n",
       "    </tr>\n",
       "    <tr>\n",
       "      <td>min</td>\n",
       "      <td>1000.000000</td>\n",
       "      <td>18.00000</td>\n",
       "      <td>NaN</td>\n",
       "      <td>NaN</td>\n",
       "      <td>NaN</td>\n",
       "      <td>NaN</td>\n",
       "      <td>NaN</td>\n",
       "      <td>NaN</td>\n",
       "    </tr>\n",
       "    <tr>\n",
       "      <td>25%</td>\n",
       "      <td>1124.750000</td>\n",
       "      <td>32.00000</td>\n",
       "      <td>NaN</td>\n",
       "      <td>NaN</td>\n",
       "      <td>NaN</td>\n",
       "      <td>NaN</td>\n",
       "      <td>NaN</td>\n",
       "      <td>NaN</td>\n",
       "    </tr>\n",
       "    <tr>\n",
       "      <td>50%</td>\n",
       "      <td>1249.500000</td>\n",
       "      <td>46.00000</td>\n",
       "      <td>NaN</td>\n",
       "      <td>NaN</td>\n",
       "      <td>NaN</td>\n",
       "      <td>NaN</td>\n",
       "      <td>NaN</td>\n",
       "      <td>NaN</td>\n",
       "    </tr>\n",
       "    <tr>\n",
       "      <td>75%</td>\n",
       "      <td>1374.250000</td>\n",
       "      <td>62.00000</td>\n",
       "      <td>NaN</td>\n",
       "      <td>NaN</td>\n",
       "      <td>NaN</td>\n",
       "      <td>NaN</td>\n",
       "      <td>NaN</td>\n",
       "      <td>NaN</td>\n",
       "    </tr>\n",
       "    <tr>\n",
       "      <td>max</td>\n",
       "      <td>1499.000000</td>\n",
       "      <td>75.00000</td>\n",
       "      <td>NaN</td>\n",
       "      <td>NaN</td>\n",
       "      <td>NaN</td>\n",
       "      <td>NaN</td>\n",
       "      <td>NaN</td>\n",
       "      <td>NaN</td>\n",
       "    </tr>\n",
       "  </tbody>\n",
       "</table>\n",
       "</div>"
      ],
      "text/plain": [
       "            user_id        age  churn_date    city first_name  last_name  \\\n",
       "count    500.000000  500.00000          38     500        500        500   \n",
       "unique          NaN        NaN          33      76        246        419   \n",
       "top             NaN        NaN  2018-10-03  Москва      Радим  Андреенко   \n",
       "freq            NaN        NaN           2      99          6          5   \n",
       "mean    1249.500000   46.58800         NaN     NaN        NaN        NaN   \n",
       "std      144.481833   16.66763         NaN     NaN        NaN        NaN   \n",
       "min     1000.000000   18.00000         NaN     NaN        NaN        NaN   \n",
       "25%     1124.750000   32.00000         NaN     NaN        NaN        NaN   \n",
       "50%     1249.500000   46.00000         NaN     NaN        NaN        NaN   \n",
       "75%     1374.250000   62.00000         NaN     NaN        NaN        NaN   \n",
       "max     1499.000000   75.00000         NaN     NaN        NaN        NaN   \n",
       "\n",
       "          reg_date tariff  \n",
       "count          500    500  \n",
       "unique         270      2  \n",
       "top     2018-05-28  smart  \n",
       "freq             8    351  \n",
       "mean           NaN    NaN  \n",
       "std            NaN    NaN  \n",
       "min            NaN    NaN  \n",
       "25%            NaN    NaN  \n",
       "50%            NaN    NaN  \n",
       "75%            NaN    NaN  \n",
       "max            NaN    NaN  "
      ]
     },
     "execution_count": 81,
     "metadata": {},
     "output_type": "execute_result"
    }
   ],
   "source": [
    "# изучаем таблицу users\n",
    "data_users = pd.read_csv('/datasets/users.csv', sep=',') # чтение файла с данными и сохранение его в переменную data_users\n",
    "\n",
    "display(data_users.head(10)) # отражение первых 10 строк таблицы для обзорного анализа данных по столбцам, типам и характеру информации\n",
    "display(data_users.tail(10)) # отражение последних 10 строк таблицы для обзорного анализа данных по столбцам, типам и характеру информации\n",
    "\n",
    "data_users.info() # вывод сводной информации о массиве данных для анализа\n",
    "data_users.columns # проверка перечня названий столбцов\n",
    "\n",
    "data_users.describe(include=['object', 'int64']) # просмотр информации о данных"
   ]
  },
  {
   "cell_type": "code",
   "execution_count": 82,
   "metadata": {
    "scrolled": true
   },
   "outputs": [
    {
     "data": {
      "text/html": [
       "<div>\n",
       "<style scoped>\n",
       "    .dataframe tbody tr th:only-of-type {\n",
       "        vertical-align: middle;\n",
       "    }\n",
       "\n",
       "    .dataframe tbody tr th {\n",
       "        vertical-align: top;\n",
       "    }\n",
       "\n",
       "    .dataframe thead th {\n",
       "        text-align: right;\n",
       "    }\n",
       "</style>\n",
       "<table border=\"1\" class=\"dataframe\">\n",
       "  <thead>\n",
       "    <tr style=\"text-align: right;\">\n",
       "      <th></th>\n",
       "      <th>id</th>\n",
       "      <th>call_date</th>\n",
       "      <th>duration</th>\n",
       "      <th>user_id</th>\n",
       "    </tr>\n",
       "  </thead>\n",
       "  <tbody>\n",
       "    <tr>\n",
       "      <td>0</td>\n",
       "      <td>1000_0</td>\n",
       "      <td>2018-07-25</td>\n",
       "      <td>0.00</td>\n",
       "      <td>1000</td>\n",
       "    </tr>\n",
       "    <tr>\n",
       "      <td>1</td>\n",
       "      <td>1000_1</td>\n",
       "      <td>2018-08-17</td>\n",
       "      <td>0.00</td>\n",
       "      <td>1000</td>\n",
       "    </tr>\n",
       "    <tr>\n",
       "      <td>2</td>\n",
       "      <td>1000_2</td>\n",
       "      <td>2018-06-11</td>\n",
       "      <td>2.85</td>\n",
       "      <td>1000</td>\n",
       "    </tr>\n",
       "    <tr>\n",
       "      <td>3</td>\n",
       "      <td>1000_3</td>\n",
       "      <td>2018-09-21</td>\n",
       "      <td>13.80</td>\n",
       "      <td>1000</td>\n",
       "    </tr>\n",
       "    <tr>\n",
       "      <td>4</td>\n",
       "      <td>1000_4</td>\n",
       "      <td>2018-12-15</td>\n",
       "      <td>5.18</td>\n",
       "      <td>1000</td>\n",
       "    </tr>\n",
       "    <tr>\n",
       "      <td>5</td>\n",
       "      <td>1000_5</td>\n",
       "      <td>2018-11-02</td>\n",
       "      <td>0.00</td>\n",
       "      <td>1000</td>\n",
       "    </tr>\n",
       "    <tr>\n",
       "      <td>6</td>\n",
       "      <td>1000_6</td>\n",
       "      <td>2018-10-18</td>\n",
       "      <td>0.00</td>\n",
       "      <td>1000</td>\n",
       "    </tr>\n",
       "    <tr>\n",
       "      <td>7</td>\n",
       "      <td>1000_7</td>\n",
       "      <td>2018-08-22</td>\n",
       "      <td>18.31</td>\n",
       "      <td>1000</td>\n",
       "    </tr>\n",
       "    <tr>\n",
       "      <td>8</td>\n",
       "      <td>1000_8</td>\n",
       "      <td>2018-09-15</td>\n",
       "      <td>18.44</td>\n",
       "      <td>1000</td>\n",
       "    </tr>\n",
       "    <tr>\n",
       "      <td>9</td>\n",
       "      <td>1000_9</td>\n",
       "      <td>2018-08-15</td>\n",
       "      <td>0.00</td>\n",
       "      <td>1000</td>\n",
       "    </tr>\n",
       "  </tbody>\n",
       "</table>\n",
       "</div>"
      ],
      "text/plain": [
       "       id   call_date  duration  user_id\n",
       "0  1000_0  2018-07-25      0.00     1000\n",
       "1  1000_1  2018-08-17      0.00     1000\n",
       "2  1000_2  2018-06-11      2.85     1000\n",
       "3  1000_3  2018-09-21     13.80     1000\n",
       "4  1000_4  2018-12-15      5.18     1000\n",
       "5  1000_5  2018-11-02      0.00     1000\n",
       "6  1000_6  2018-10-18      0.00     1000\n",
       "7  1000_7  2018-08-22     18.31     1000\n",
       "8  1000_8  2018-09-15     18.44     1000\n",
       "9  1000_9  2018-08-15      0.00     1000"
      ]
     },
     "metadata": {},
     "output_type": "display_data"
    },
    {
     "data": {
      "text/html": [
       "<div>\n",
       "<style scoped>\n",
       "    .dataframe tbody tr th:only-of-type {\n",
       "        vertical-align: middle;\n",
       "    }\n",
       "\n",
       "    .dataframe tbody tr th {\n",
       "        vertical-align: top;\n",
       "    }\n",
       "\n",
       "    .dataframe thead th {\n",
       "        text-align: right;\n",
       "    }\n",
       "</style>\n",
       "<table border=\"1\" class=\"dataframe\">\n",
       "  <thead>\n",
       "    <tr style=\"text-align: right;\">\n",
       "      <th></th>\n",
       "      <th>id</th>\n",
       "      <th>call_date</th>\n",
       "      <th>duration</th>\n",
       "      <th>user_id</th>\n",
       "    </tr>\n",
       "  </thead>\n",
       "  <tbody>\n",
       "    <tr>\n",
       "      <td>202597</td>\n",
       "      <td>1499_210</td>\n",
       "      <td>2018-10-02</td>\n",
       "      <td>8.86</td>\n",
       "      <td>1499</td>\n",
       "    </tr>\n",
       "    <tr>\n",
       "      <td>202598</td>\n",
       "      <td>1499_211</td>\n",
       "      <td>2018-12-29</td>\n",
       "      <td>4.58</td>\n",
       "      <td>1499</td>\n",
       "    </tr>\n",
       "    <tr>\n",
       "      <td>202599</td>\n",
       "      <td>1499_212</td>\n",
       "      <td>2018-12-30</td>\n",
       "      <td>1.35</td>\n",
       "      <td>1499</td>\n",
       "    </tr>\n",
       "    <tr>\n",
       "      <td>202600</td>\n",
       "      <td>1499_213</td>\n",
       "      <td>2018-10-17</td>\n",
       "      <td>10.77</td>\n",
       "      <td>1499</td>\n",
       "    </tr>\n",
       "    <tr>\n",
       "      <td>202601</td>\n",
       "      <td>1499_214</td>\n",
       "      <td>2018-12-05</td>\n",
       "      <td>2.42</td>\n",
       "      <td>1499</td>\n",
       "    </tr>\n",
       "    <tr>\n",
       "      <td>202602</td>\n",
       "      <td>1499_215</td>\n",
       "      <td>2018-12-26</td>\n",
       "      <td>0.76</td>\n",
       "      <td>1499</td>\n",
       "    </tr>\n",
       "    <tr>\n",
       "      <td>202603</td>\n",
       "      <td>1499_216</td>\n",
       "      <td>2018-10-18</td>\n",
       "      <td>18.83</td>\n",
       "      <td>1499</td>\n",
       "    </tr>\n",
       "    <tr>\n",
       "      <td>202604</td>\n",
       "      <td>1499_217</td>\n",
       "      <td>2018-11-10</td>\n",
       "      <td>10.81</td>\n",
       "      <td>1499</td>\n",
       "    </tr>\n",
       "    <tr>\n",
       "      <td>202605</td>\n",
       "      <td>1499_218</td>\n",
       "      <td>2018-10-06</td>\n",
       "      <td>4.27</td>\n",
       "      <td>1499</td>\n",
       "    </tr>\n",
       "    <tr>\n",
       "      <td>202606</td>\n",
       "      <td>1499_219</td>\n",
       "      <td>2018-12-14</td>\n",
       "      <td>19.62</td>\n",
       "      <td>1499</td>\n",
       "    </tr>\n",
       "  </tbody>\n",
       "</table>\n",
       "</div>"
      ],
      "text/plain": [
       "              id   call_date  duration  user_id\n",
       "202597  1499_210  2018-10-02      8.86     1499\n",
       "202598  1499_211  2018-12-29      4.58     1499\n",
       "202599  1499_212  2018-12-30      1.35     1499\n",
       "202600  1499_213  2018-10-17     10.77     1499\n",
       "202601  1499_214  2018-12-05      2.42     1499\n",
       "202602  1499_215  2018-12-26      0.76     1499\n",
       "202603  1499_216  2018-10-18     18.83     1499\n",
       "202604  1499_217  2018-11-10     10.81     1499\n",
       "202605  1499_218  2018-10-06      4.27     1499\n",
       "202606  1499_219  2018-12-14     19.62     1499"
      ]
     },
     "metadata": {},
     "output_type": "display_data"
    },
    {
     "name": "stdout",
     "output_type": "stream",
     "text": [
      "<class 'pandas.core.frame.DataFrame'>\n",
      "RangeIndex: 202607 entries, 0 to 202606\n",
      "Data columns (total 4 columns):\n",
      "id           202607 non-null object\n",
      "call_date    202607 non-null object\n",
      "duration     202607 non-null float64\n",
      "user_id      202607 non-null int64\n",
      "dtypes: float64(1), int64(1), object(2)\n",
      "memory usage: 6.2+ MB\n"
     ]
    },
    {
     "data": {
      "text/html": [
       "<div>\n",
       "<style scoped>\n",
       "    .dataframe tbody tr th:only-of-type {\n",
       "        vertical-align: middle;\n",
       "    }\n",
       "\n",
       "    .dataframe tbody tr th {\n",
       "        vertical-align: top;\n",
       "    }\n",
       "\n",
       "    .dataframe thead th {\n",
       "        text-align: right;\n",
       "    }\n",
       "</style>\n",
       "<table border=\"1\" class=\"dataframe\">\n",
       "  <thead>\n",
       "    <tr style=\"text-align: right;\">\n",
       "      <th></th>\n",
       "      <th>id</th>\n",
       "      <th>call_date</th>\n",
       "      <th>duration</th>\n",
       "      <th>user_id</th>\n",
       "    </tr>\n",
       "  </thead>\n",
       "  <tbody>\n",
       "    <tr>\n",
       "      <td>count</td>\n",
       "      <td>202607</td>\n",
       "      <td>202607</td>\n",
       "      <td>202607.000000</td>\n",
       "      <td>202607.000000</td>\n",
       "    </tr>\n",
       "    <tr>\n",
       "      <td>unique</td>\n",
       "      <td>202607</td>\n",
       "      <td>365</td>\n",
       "      <td>NaN</td>\n",
       "      <td>NaN</td>\n",
       "    </tr>\n",
       "    <tr>\n",
       "      <td>top</td>\n",
       "      <td>1495_21</td>\n",
       "      <td>2018-12-31</td>\n",
       "      <td>NaN</td>\n",
       "      <td>NaN</td>\n",
       "    </tr>\n",
       "    <tr>\n",
       "      <td>freq</td>\n",
       "      <td>1</td>\n",
       "      <td>1435</td>\n",
       "      <td>NaN</td>\n",
       "      <td>NaN</td>\n",
       "    </tr>\n",
       "    <tr>\n",
       "      <td>mean</td>\n",
       "      <td>NaN</td>\n",
       "      <td>NaN</td>\n",
       "      <td>6.755887</td>\n",
       "      <td>1253.940619</td>\n",
       "    </tr>\n",
       "    <tr>\n",
       "      <td>std</td>\n",
       "      <td>NaN</td>\n",
       "      <td>NaN</td>\n",
       "      <td>5.843365</td>\n",
       "      <td>144.722751</td>\n",
       "    </tr>\n",
       "    <tr>\n",
       "      <td>min</td>\n",
       "      <td>NaN</td>\n",
       "      <td>NaN</td>\n",
       "      <td>0.000000</td>\n",
       "      <td>1000.000000</td>\n",
       "    </tr>\n",
       "    <tr>\n",
       "      <td>25%</td>\n",
       "      <td>NaN</td>\n",
       "      <td>NaN</td>\n",
       "      <td>1.300000</td>\n",
       "      <td>1126.000000</td>\n",
       "    </tr>\n",
       "    <tr>\n",
       "      <td>50%</td>\n",
       "      <td>NaN</td>\n",
       "      <td>NaN</td>\n",
       "      <td>6.000000</td>\n",
       "      <td>1260.000000</td>\n",
       "    </tr>\n",
       "    <tr>\n",
       "      <td>75%</td>\n",
       "      <td>NaN</td>\n",
       "      <td>NaN</td>\n",
       "      <td>10.700000</td>\n",
       "      <td>1379.000000</td>\n",
       "    </tr>\n",
       "    <tr>\n",
       "      <td>max</td>\n",
       "      <td>NaN</td>\n",
       "      <td>NaN</td>\n",
       "      <td>38.000000</td>\n",
       "      <td>1499.000000</td>\n",
       "    </tr>\n",
       "  </tbody>\n",
       "</table>\n",
       "</div>"
      ],
      "text/plain": [
       "             id   call_date       duration        user_id\n",
       "count    202607      202607  202607.000000  202607.000000\n",
       "unique   202607         365            NaN            NaN\n",
       "top     1495_21  2018-12-31            NaN            NaN\n",
       "freq          1        1435            NaN            NaN\n",
       "mean        NaN         NaN       6.755887    1253.940619\n",
       "std         NaN         NaN       5.843365     144.722751\n",
       "min         NaN         NaN       0.000000    1000.000000\n",
       "25%         NaN         NaN       1.300000    1126.000000\n",
       "50%         NaN         NaN       6.000000    1260.000000\n",
       "75%         NaN         NaN      10.700000    1379.000000\n",
       "max         NaN         NaN      38.000000    1499.000000"
      ]
     },
     "execution_count": 82,
     "metadata": {},
     "output_type": "execute_result"
    }
   ],
   "source": [
    "# изучаем таблицу calls\n",
    "data_calls = pd.read_csv('/datasets/calls.csv', sep=',') # чтение файла с данными и сохранение его в переменную data_calls\n",
    "\n",
    "display(data_calls.head(10)) # отражение первых 10 строк таблицы для обзорного анализа данных по столбцам, типам и характеру информации\n",
    "display(data_calls.tail(10)) # отражение последних 10 строк таблицы для обзорного анализа данных по столбцам, типам и характеру информации\n",
    "\n",
    "data_calls.info() # вывод сводной информации о массиве данных для анализа\n",
    "data_calls.columns # проверка перечня названий столбцов\n",
    "\n",
    "data_calls.describe(include=['object', 'int64', 'float64']) # просмотр информации о данных"
   ]
  },
  {
   "cell_type": "code",
   "execution_count": 83,
   "metadata": {
    "scrolled": true
   },
   "outputs": [
    {
     "data": {
      "text/html": [
       "<div>\n",
       "<style scoped>\n",
       "    .dataframe tbody tr th:only-of-type {\n",
       "        vertical-align: middle;\n",
       "    }\n",
       "\n",
       "    .dataframe tbody tr th {\n",
       "        vertical-align: top;\n",
       "    }\n",
       "\n",
       "    .dataframe thead th {\n",
       "        text-align: right;\n",
       "    }\n",
       "</style>\n",
       "<table border=\"1\" class=\"dataframe\">\n",
       "  <thead>\n",
       "    <tr style=\"text-align: right;\">\n",
       "      <th></th>\n",
       "      <th>id</th>\n",
       "      <th>message_date</th>\n",
       "      <th>user_id</th>\n",
       "    </tr>\n",
       "  </thead>\n",
       "  <tbody>\n",
       "    <tr>\n",
       "      <td>0</td>\n",
       "      <td>1000_0</td>\n",
       "      <td>2018-06-27</td>\n",
       "      <td>1000</td>\n",
       "    </tr>\n",
       "    <tr>\n",
       "      <td>1</td>\n",
       "      <td>1000_1</td>\n",
       "      <td>2018-10-08</td>\n",
       "      <td>1000</td>\n",
       "    </tr>\n",
       "    <tr>\n",
       "      <td>2</td>\n",
       "      <td>1000_2</td>\n",
       "      <td>2018-08-04</td>\n",
       "      <td>1000</td>\n",
       "    </tr>\n",
       "    <tr>\n",
       "      <td>3</td>\n",
       "      <td>1000_3</td>\n",
       "      <td>2018-06-16</td>\n",
       "      <td>1000</td>\n",
       "    </tr>\n",
       "    <tr>\n",
       "      <td>4</td>\n",
       "      <td>1000_4</td>\n",
       "      <td>2018-12-05</td>\n",
       "      <td>1000</td>\n",
       "    </tr>\n",
       "    <tr>\n",
       "      <td>5</td>\n",
       "      <td>1000_5</td>\n",
       "      <td>2018-06-20</td>\n",
       "      <td>1000</td>\n",
       "    </tr>\n",
       "    <tr>\n",
       "      <td>6</td>\n",
       "      <td>1000_6</td>\n",
       "      <td>2018-11-19</td>\n",
       "      <td>1000</td>\n",
       "    </tr>\n",
       "    <tr>\n",
       "      <td>7</td>\n",
       "      <td>1000_7</td>\n",
       "      <td>2018-10-29</td>\n",
       "      <td>1000</td>\n",
       "    </tr>\n",
       "    <tr>\n",
       "      <td>8</td>\n",
       "      <td>1000_8</td>\n",
       "      <td>2018-06-25</td>\n",
       "      <td>1000</td>\n",
       "    </tr>\n",
       "    <tr>\n",
       "      <td>9</td>\n",
       "      <td>1000_9</td>\n",
       "      <td>2018-12-18</td>\n",
       "      <td>1000</td>\n",
       "    </tr>\n",
       "  </tbody>\n",
       "</table>\n",
       "</div>"
      ],
      "text/plain": [
       "       id message_date  user_id\n",
       "0  1000_0   2018-06-27     1000\n",
       "1  1000_1   2018-10-08     1000\n",
       "2  1000_2   2018-08-04     1000\n",
       "3  1000_3   2018-06-16     1000\n",
       "4  1000_4   2018-12-05     1000\n",
       "5  1000_5   2018-06-20     1000\n",
       "6  1000_6   2018-11-19     1000\n",
       "7  1000_7   2018-10-29     1000\n",
       "8  1000_8   2018-06-25     1000\n",
       "9  1000_9   2018-12-18     1000"
      ]
     },
     "metadata": {},
     "output_type": "display_data"
    },
    {
     "data": {
      "text/html": [
       "<div>\n",
       "<style scoped>\n",
       "    .dataframe tbody tr th:only-of-type {\n",
       "        vertical-align: middle;\n",
       "    }\n",
       "\n",
       "    .dataframe tbody tr th {\n",
       "        vertical-align: top;\n",
       "    }\n",
       "\n",
       "    .dataframe thead th {\n",
       "        text-align: right;\n",
       "    }\n",
       "</style>\n",
       "<table border=\"1\" class=\"dataframe\">\n",
       "  <thead>\n",
       "    <tr style=\"text-align: right;\">\n",
       "      <th></th>\n",
       "      <th>id</th>\n",
       "      <th>message_date</th>\n",
       "      <th>user_id</th>\n",
       "    </tr>\n",
       "  </thead>\n",
       "  <tbody>\n",
       "    <tr>\n",
       "      <td>123026</td>\n",
       "      <td>1499_174</td>\n",
       "      <td>2018-12-14</td>\n",
       "      <td>1499</td>\n",
       "    </tr>\n",
       "    <tr>\n",
       "      <td>123027</td>\n",
       "      <td>1499_175</td>\n",
       "      <td>2018-10-09</td>\n",
       "      <td>1499</td>\n",
       "    </tr>\n",
       "    <tr>\n",
       "      <td>123028</td>\n",
       "      <td>1499_176</td>\n",
       "      <td>2018-12-17</td>\n",
       "      <td>1499</td>\n",
       "    </tr>\n",
       "    <tr>\n",
       "      <td>123029</td>\n",
       "      <td>1499_177</td>\n",
       "      <td>2018-12-30</td>\n",
       "      <td>1499</td>\n",
       "    </tr>\n",
       "    <tr>\n",
       "      <td>123030</td>\n",
       "      <td>1499_178</td>\n",
       "      <td>2018-10-25</td>\n",
       "      <td>1499</td>\n",
       "    </tr>\n",
       "    <tr>\n",
       "      <td>123031</td>\n",
       "      <td>1499_179</td>\n",
       "      <td>2018-12-12</td>\n",
       "      <td>1499</td>\n",
       "    </tr>\n",
       "    <tr>\n",
       "      <td>123032</td>\n",
       "      <td>1499_180</td>\n",
       "      <td>2018-09-28</td>\n",
       "      <td>1499</td>\n",
       "    </tr>\n",
       "    <tr>\n",
       "      <td>123033</td>\n",
       "      <td>1499_181</td>\n",
       "      <td>2018-09-27</td>\n",
       "      <td>1499</td>\n",
       "    </tr>\n",
       "    <tr>\n",
       "      <td>123034</td>\n",
       "      <td>1499_182</td>\n",
       "      <td>2018-11-15</td>\n",
       "      <td>1499</td>\n",
       "    </tr>\n",
       "    <tr>\n",
       "      <td>123035</td>\n",
       "      <td>1499_183</td>\n",
       "      <td>2018-11-16</td>\n",
       "      <td>1499</td>\n",
       "    </tr>\n",
       "  </tbody>\n",
       "</table>\n",
       "</div>"
      ],
      "text/plain": [
       "              id message_date  user_id\n",
       "123026  1499_174   2018-12-14     1499\n",
       "123027  1499_175   2018-10-09     1499\n",
       "123028  1499_176   2018-12-17     1499\n",
       "123029  1499_177   2018-12-30     1499\n",
       "123030  1499_178   2018-10-25     1499\n",
       "123031  1499_179   2018-12-12     1499\n",
       "123032  1499_180   2018-09-28     1499\n",
       "123033  1499_181   2018-09-27     1499\n",
       "123034  1499_182   2018-11-15     1499\n",
       "123035  1499_183   2018-11-16     1499"
      ]
     },
     "metadata": {},
     "output_type": "display_data"
    },
    {
     "name": "stdout",
     "output_type": "stream",
     "text": [
      "<class 'pandas.core.frame.DataFrame'>\n",
      "RangeIndex: 123036 entries, 0 to 123035\n",
      "Data columns (total 3 columns):\n",
      "id              123036 non-null object\n",
      "message_date    123036 non-null object\n",
      "user_id         123036 non-null int64\n",
      "dtypes: int64(1), object(2)\n",
      "memory usage: 2.8+ MB\n"
     ]
    },
    {
     "data": {
      "text/html": [
       "<div>\n",
       "<style scoped>\n",
       "    .dataframe tbody tr th:only-of-type {\n",
       "        vertical-align: middle;\n",
       "    }\n",
       "\n",
       "    .dataframe tbody tr th {\n",
       "        vertical-align: top;\n",
       "    }\n",
       "\n",
       "    .dataframe thead th {\n",
       "        text-align: right;\n",
       "    }\n",
       "</style>\n",
       "<table border=\"1\" class=\"dataframe\">\n",
       "  <thead>\n",
       "    <tr style=\"text-align: right;\">\n",
       "      <th></th>\n",
       "      <th>id</th>\n",
       "      <th>message_date</th>\n",
       "      <th>user_id</th>\n",
       "    </tr>\n",
       "  </thead>\n",
       "  <tbody>\n",
       "    <tr>\n",
       "      <td>count</td>\n",
       "      <td>123036</td>\n",
       "      <td>123036</td>\n",
       "      <td>123036.000000</td>\n",
       "    </tr>\n",
       "    <tr>\n",
       "      <td>unique</td>\n",
       "      <td>123036</td>\n",
       "      <td>364</td>\n",
       "      <td>NaN</td>\n",
       "    </tr>\n",
       "    <tr>\n",
       "      <td>top</td>\n",
       "      <td>1252_7</td>\n",
       "      <td>2018-12-31</td>\n",
       "      <td>NaN</td>\n",
       "    </tr>\n",
       "    <tr>\n",
       "      <td>freq</td>\n",
       "      <td>1</td>\n",
       "      <td>859</td>\n",
       "      <td>NaN</td>\n",
       "    </tr>\n",
       "    <tr>\n",
       "      <td>mean</td>\n",
       "      <td>NaN</td>\n",
       "      <td>NaN</td>\n",
       "      <td>1256.989410</td>\n",
       "    </tr>\n",
       "    <tr>\n",
       "      <td>std</td>\n",
       "      <td>NaN</td>\n",
       "      <td>NaN</td>\n",
       "      <td>143.523967</td>\n",
       "    </tr>\n",
       "    <tr>\n",
       "      <td>min</td>\n",
       "      <td>NaN</td>\n",
       "      <td>NaN</td>\n",
       "      <td>1000.000000</td>\n",
       "    </tr>\n",
       "    <tr>\n",
       "      <td>25%</td>\n",
       "      <td>NaN</td>\n",
       "      <td>NaN</td>\n",
       "      <td>1134.000000</td>\n",
       "    </tr>\n",
       "    <tr>\n",
       "      <td>50%</td>\n",
       "      <td>NaN</td>\n",
       "      <td>NaN</td>\n",
       "      <td>1271.000000</td>\n",
       "    </tr>\n",
       "    <tr>\n",
       "      <td>75%</td>\n",
       "      <td>NaN</td>\n",
       "      <td>NaN</td>\n",
       "      <td>1381.000000</td>\n",
       "    </tr>\n",
       "    <tr>\n",
       "      <td>max</td>\n",
       "      <td>NaN</td>\n",
       "      <td>NaN</td>\n",
       "      <td>1499.000000</td>\n",
       "    </tr>\n",
       "  </tbody>\n",
       "</table>\n",
       "</div>"
      ],
      "text/plain": [
       "            id message_date        user_id\n",
       "count   123036       123036  123036.000000\n",
       "unique  123036          364            NaN\n",
       "top     1252_7   2018-12-31            NaN\n",
       "freq         1          859            NaN\n",
       "mean       NaN          NaN    1256.989410\n",
       "std        NaN          NaN     143.523967\n",
       "min        NaN          NaN    1000.000000\n",
       "25%        NaN          NaN    1134.000000\n",
       "50%        NaN          NaN    1271.000000\n",
       "75%        NaN          NaN    1381.000000\n",
       "max        NaN          NaN    1499.000000"
      ]
     },
     "execution_count": 83,
     "metadata": {},
     "output_type": "execute_result"
    }
   ],
   "source": [
    "# изучаем таблицу messages\n",
    "data_messages = pd.read_csv('/datasets/messages.csv', sep=',') # чтение файла с данными и сохранение его в переменную data_messages\n",
    "\n",
    "display(data_messages.head(10)) # отражение первых 10 строк таблицы для обзорного анализа данных по столбцам, типам и характеру информации\n",
    "display(data_messages.tail(10)) # отражение последних 10 строк таблицы для обзорного анализа данных по столбцам, типам и характеру информации\n",
    "\n",
    "data_messages.info() # вывод сводной информации о массиве данных для анализа\n",
    "data_messages.columns # проверка перечня названий столбцов\n",
    "\n",
    "data_messages.describe(include=['object', 'int64']) # просмотр информации о данных"
   ]
  },
  {
   "cell_type": "code",
   "execution_count": 84,
   "metadata": {
    "scrolled": true
   },
   "outputs": [
    {
     "data": {
      "text/html": [
       "<div>\n",
       "<style scoped>\n",
       "    .dataframe tbody tr th:only-of-type {\n",
       "        vertical-align: middle;\n",
       "    }\n",
       "\n",
       "    .dataframe tbody tr th {\n",
       "        vertical-align: top;\n",
       "    }\n",
       "\n",
       "    .dataframe thead th {\n",
       "        text-align: right;\n",
       "    }\n",
       "</style>\n",
       "<table border=\"1\" class=\"dataframe\">\n",
       "  <thead>\n",
       "    <tr style=\"text-align: right;\">\n",
       "      <th></th>\n",
       "      <th>Unnamed: 0</th>\n",
       "      <th>id</th>\n",
       "      <th>mb_used</th>\n",
       "      <th>session_date</th>\n",
       "      <th>user_id</th>\n",
       "    </tr>\n",
       "  </thead>\n",
       "  <tbody>\n",
       "    <tr>\n",
       "      <td>0</td>\n",
       "      <td>0</td>\n",
       "      <td>1000_0</td>\n",
       "      <td>112.95</td>\n",
       "      <td>2018-11-25</td>\n",
       "      <td>1000</td>\n",
       "    </tr>\n",
       "    <tr>\n",
       "      <td>1</td>\n",
       "      <td>1</td>\n",
       "      <td>1000_1</td>\n",
       "      <td>1052.81</td>\n",
       "      <td>2018-09-07</td>\n",
       "      <td>1000</td>\n",
       "    </tr>\n",
       "    <tr>\n",
       "      <td>2</td>\n",
       "      <td>2</td>\n",
       "      <td>1000_2</td>\n",
       "      <td>1197.26</td>\n",
       "      <td>2018-06-25</td>\n",
       "      <td>1000</td>\n",
       "    </tr>\n",
       "    <tr>\n",
       "      <td>3</td>\n",
       "      <td>3</td>\n",
       "      <td>1000_3</td>\n",
       "      <td>550.27</td>\n",
       "      <td>2018-08-22</td>\n",
       "      <td>1000</td>\n",
       "    </tr>\n",
       "    <tr>\n",
       "      <td>4</td>\n",
       "      <td>4</td>\n",
       "      <td>1000_4</td>\n",
       "      <td>302.56</td>\n",
       "      <td>2018-09-24</td>\n",
       "      <td>1000</td>\n",
       "    </tr>\n",
       "    <tr>\n",
       "      <td>5</td>\n",
       "      <td>5</td>\n",
       "      <td>1000_5</td>\n",
       "      <td>399.97</td>\n",
       "      <td>2018-10-02</td>\n",
       "      <td>1000</td>\n",
       "    </tr>\n",
       "    <tr>\n",
       "      <td>6</td>\n",
       "      <td>6</td>\n",
       "      <td>1000_6</td>\n",
       "      <td>540.08</td>\n",
       "      <td>2018-09-07</td>\n",
       "      <td>1000</td>\n",
       "    </tr>\n",
       "    <tr>\n",
       "      <td>7</td>\n",
       "      <td>7</td>\n",
       "      <td>1000_7</td>\n",
       "      <td>415.70</td>\n",
       "      <td>2018-07-11</td>\n",
       "      <td>1000</td>\n",
       "    </tr>\n",
       "    <tr>\n",
       "      <td>8</td>\n",
       "      <td>8</td>\n",
       "      <td>1000_8</td>\n",
       "      <td>505.40</td>\n",
       "      <td>2018-10-08</td>\n",
       "      <td>1000</td>\n",
       "    </tr>\n",
       "    <tr>\n",
       "      <td>9</td>\n",
       "      <td>9</td>\n",
       "      <td>1000_9</td>\n",
       "      <td>345.54</td>\n",
       "      <td>2018-09-03</td>\n",
       "      <td>1000</td>\n",
       "    </tr>\n",
       "  </tbody>\n",
       "</table>\n",
       "</div>"
      ],
      "text/plain": [
       "   Unnamed: 0      id  mb_used session_date  user_id\n",
       "0           0  1000_0   112.95   2018-11-25     1000\n",
       "1           1  1000_1  1052.81   2018-09-07     1000\n",
       "2           2  1000_2  1197.26   2018-06-25     1000\n",
       "3           3  1000_3   550.27   2018-08-22     1000\n",
       "4           4  1000_4   302.56   2018-09-24     1000\n",
       "5           5  1000_5   399.97   2018-10-02     1000\n",
       "6           6  1000_6   540.08   2018-09-07     1000\n",
       "7           7  1000_7   415.70   2018-07-11     1000\n",
       "8           8  1000_8   505.40   2018-10-08     1000\n",
       "9           9  1000_9   345.54   2018-09-03     1000"
      ]
     },
     "metadata": {},
     "output_type": "display_data"
    },
    {
     "data": {
      "text/html": [
       "<div>\n",
       "<style scoped>\n",
       "    .dataframe tbody tr th:only-of-type {\n",
       "        vertical-align: middle;\n",
       "    }\n",
       "\n",
       "    .dataframe tbody tr th {\n",
       "        vertical-align: top;\n",
       "    }\n",
       "\n",
       "    .dataframe thead th {\n",
       "        text-align: right;\n",
       "    }\n",
       "</style>\n",
       "<table border=\"1\" class=\"dataframe\">\n",
       "  <thead>\n",
       "    <tr style=\"text-align: right;\">\n",
       "      <th></th>\n",
       "      <th>Unnamed: 0</th>\n",
       "      <th>id</th>\n",
       "      <th>mb_used</th>\n",
       "      <th>session_date</th>\n",
       "      <th>user_id</th>\n",
       "    </tr>\n",
       "  </thead>\n",
       "  <tbody>\n",
       "    <tr>\n",
       "      <td>149386</td>\n",
       "      <td>149386</td>\n",
       "      <td>1499_147</td>\n",
       "      <td>0.00</td>\n",
       "      <td>2018-10-21</td>\n",
       "      <td>1499</td>\n",
       "    </tr>\n",
       "    <tr>\n",
       "      <td>149387</td>\n",
       "      <td>149387</td>\n",
       "      <td>1499_148</td>\n",
       "      <td>268.19</td>\n",
       "      <td>2018-11-13</td>\n",
       "      <td>1499</td>\n",
       "    </tr>\n",
       "    <tr>\n",
       "      <td>149388</td>\n",
       "      <td>149388</td>\n",
       "      <td>1499_149</td>\n",
       "      <td>778.68</td>\n",
       "      <td>2018-11-24</td>\n",
       "      <td>1499</td>\n",
       "    </tr>\n",
       "    <tr>\n",
       "      <td>149389</td>\n",
       "      <td>149389</td>\n",
       "      <td>1499_150</td>\n",
       "      <td>273.98</td>\n",
       "      <td>2018-11-20</td>\n",
       "      <td>1499</td>\n",
       "    </tr>\n",
       "    <tr>\n",
       "      <td>149390</td>\n",
       "      <td>149390</td>\n",
       "      <td>1499_151</td>\n",
       "      <td>752.72</td>\n",
       "      <td>2018-10-11</td>\n",
       "      <td>1499</td>\n",
       "    </tr>\n",
       "    <tr>\n",
       "      <td>149391</td>\n",
       "      <td>149391</td>\n",
       "      <td>1499_152</td>\n",
       "      <td>318.90</td>\n",
       "      <td>2018-10-03</td>\n",
       "      <td>1499</td>\n",
       "    </tr>\n",
       "    <tr>\n",
       "      <td>149392</td>\n",
       "      <td>149392</td>\n",
       "      <td>1499_153</td>\n",
       "      <td>490.13</td>\n",
       "      <td>2018-12-14</td>\n",
       "      <td>1499</td>\n",
       "    </tr>\n",
       "    <tr>\n",
       "      <td>149393</td>\n",
       "      <td>149393</td>\n",
       "      <td>1499_154</td>\n",
       "      <td>0.00</td>\n",
       "      <td>2018-10-27</td>\n",
       "      <td>1499</td>\n",
       "    </tr>\n",
       "    <tr>\n",
       "      <td>149394</td>\n",
       "      <td>149394</td>\n",
       "      <td>1499_155</td>\n",
       "      <td>1246.32</td>\n",
       "      <td>2018-11-26</td>\n",
       "      <td>1499</td>\n",
       "    </tr>\n",
       "    <tr>\n",
       "      <td>149395</td>\n",
       "      <td>149395</td>\n",
       "      <td>1499_156</td>\n",
       "      <td>544.37</td>\n",
       "      <td>2018-10-26</td>\n",
       "      <td>1499</td>\n",
       "    </tr>\n",
       "  </tbody>\n",
       "</table>\n",
       "</div>"
      ],
      "text/plain": [
       "        Unnamed: 0        id  mb_used session_date  user_id\n",
       "149386      149386  1499_147     0.00   2018-10-21     1499\n",
       "149387      149387  1499_148   268.19   2018-11-13     1499\n",
       "149388      149388  1499_149   778.68   2018-11-24     1499\n",
       "149389      149389  1499_150   273.98   2018-11-20     1499\n",
       "149390      149390  1499_151   752.72   2018-10-11     1499\n",
       "149391      149391  1499_152   318.90   2018-10-03     1499\n",
       "149392      149392  1499_153   490.13   2018-12-14     1499\n",
       "149393      149393  1499_154     0.00   2018-10-27     1499\n",
       "149394      149394  1499_155  1246.32   2018-11-26     1499\n",
       "149395      149395  1499_156   544.37   2018-10-26     1499"
      ]
     },
     "metadata": {},
     "output_type": "display_data"
    },
    {
     "name": "stdout",
     "output_type": "stream",
     "text": [
      "<class 'pandas.core.frame.DataFrame'>\n",
      "RangeIndex: 149396 entries, 0 to 149395\n",
      "Data columns (total 5 columns):\n",
      "Unnamed: 0      149396 non-null int64\n",
      "id              149396 non-null object\n",
      "mb_used         149396 non-null float64\n",
      "session_date    149396 non-null object\n",
      "user_id         149396 non-null int64\n",
      "dtypes: float64(1), int64(2), object(2)\n",
      "memory usage: 5.7+ MB\n"
     ]
    },
    {
     "data": {
      "text/html": [
       "<div>\n",
       "<style scoped>\n",
       "    .dataframe tbody tr th:only-of-type {\n",
       "        vertical-align: middle;\n",
       "    }\n",
       "\n",
       "    .dataframe tbody tr th {\n",
       "        vertical-align: top;\n",
       "    }\n",
       "\n",
       "    .dataframe thead th {\n",
       "        text-align: right;\n",
       "    }\n",
       "</style>\n",
       "<table border=\"1\" class=\"dataframe\">\n",
       "  <thead>\n",
       "    <tr style=\"text-align: right;\">\n",
       "      <th></th>\n",
       "      <th>Unnamed: 0</th>\n",
       "      <th>id</th>\n",
       "      <th>mb_used</th>\n",
       "      <th>session_date</th>\n",
       "      <th>user_id</th>\n",
       "    </tr>\n",
       "  </thead>\n",
       "  <tbody>\n",
       "    <tr>\n",
       "      <td>count</td>\n",
       "      <td>149396.000000</td>\n",
       "      <td>149396</td>\n",
       "      <td>149396.000000</td>\n",
       "      <td>149396</td>\n",
       "      <td>149396.000000</td>\n",
       "    </tr>\n",
       "    <tr>\n",
       "      <td>unique</td>\n",
       "      <td>NaN</td>\n",
       "      <td>149396</td>\n",
       "      <td>NaN</td>\n",
       "      <td>365</td>\n",
       "      <td>NaN</td>\n",
       "    </tr>\n",
       "    <tr>\n",
       "      <td>top</td>\n",
       "      <td>NaN</td>\n",
       "      <td>1252_7</td>\n",
       "      <td>NaN</td>\n",
       "      <td>2018-12-31</td>\n",
       "      <td>NaN</td>\n",
       "    </tr>\n",
       "    <tr>\n",
       "      <td>freq</td>\n",
       "      <td>NaN</td>\n",
       "      <td>1</td>\n",
       "      <td>NaN</td>\n",
       "      <td>1057</td>\n",
       "      <td>NaN</td>\n",
       "    </tr>\n",
       "    <tr>\n",
       "      <td>mean</td>\n",
       "      <td>74697.500000</td>\n",
       "      <td>NaN</td>\n",
       "      <td>370.192426</td>\n",
       "      <td>NaN</td>\n",
       "      <td>1252.099842</td>\n",
       "    </tr>\n",
       "    <tr>\n",
       "      <td>std</td>\n",
       "      <td>43127.054745</td>\n",
       "      <td>NaN</td>\n",
       "      <td>278.300951</td>\n",
       "      <td>NaN</td>\n",
       "      <td>144.050823</td>\n",
       "    </tr>\n",
       "    <tr>\n",
       "      <td>min</td>\n",
       "      <td>0.000000</td>\n",
       "      <td>NaN</td>\n",
       "      <td>0.000000</td>\n",
       "      <td>NaN</td>\n",
       "      <td>1000.000000</td>\n",
       "    </tr>\n",
       "    <tr>\n",
       "      <td>25%</td>\n",
       "      <td>37348.750000</td>\n",
       "      <td>NaN</td>\n",
       "      <td>138.187500</td>\n",
       "      <td>NaN</td>\n",
       "      <td>1130.000000</td>\n",
       "    </tr>\n",
       "    <tr>\n",
       "      <td>50%</td>\n",
       "      <td>74697.500000</td>\n",
       "      <td>NaN</td>\n",
       "      <td>348.015000</td>\n",
       "      <td>NaN</td>\n",
       "      <td>1251.000000</td>\n",
       "    </tr>\n",
       "    <tr>\n",
       "      <td>75%</td>\n",
       "      <td>112046.250000</td>\n",
       "      <td>NaN</td>\n",
       "      <td>559.552500</td>\n",
       "      <td>NaN</td>\n",
       "      <td>1380.000000</td>\n",
       "    </tr>\n",
       "    <tr>\n",
       "      <td>max</td>\n",
       "      <td>149395.000000</td>\n",
       "      <td>NaN</td>\n",
       "      <td>1724.830000</td>\n",
       "      <td>NaN</td>\n",
       "      <td>1499.000000</td>\n",
       "    </tr>\n",
       "  </tbody>\n",
       "</table>\n",
       "</div>"
      ],
      "text/plain": [
       "           Unnamed: 0      id        mb_used session_date        user_id\n",
       "count   149396.000000  149396  149396.000000       149396  149396.000000\n",
       "unique            NaN  149396            NaN          365            NaN\n",
       "top               NaN  1252_7            NaN   2018-12-31            NaN\n",
       "freq              NaN       1            NaN         1057            NaN\n",
       "mean     74697.500000     NaN     370.192426          NaN    1252.099842\n",
       "std      43127.054745     NaN     278.300951          NaN     144.050823\n",
       "min          0.000000     NaN       0.000000          NaN    1000.000000\n",
       "25%      37348.750000     NaN     138.187500          NaN    1130.000000\n",
       "50%      74697.500000     NaN     348.015000          NaN    1251.000000\n",
       "75%     112046.250000     NaN     559.552500          NaN    1380.000000\n",
       "max     149395.000000     NaN    1724.830000          NaN    1499.000000"
      ]
     },
     "execution_count": 84,
     "metadata": {},
     "output_type": "execute_result"
    }
   ],
   "source": [
    "# изучаем таблицу internet\n",
    "data_internet = pd.read_csv('/datasets/internet.csv', sep=',') # чтение файла с данными и сохранение его в переменную data_internet\n",
    "\n",
    "display(data_internet.head(10)) # отражение первых 10 строк таблицы для обзорного анализа данных по столбцам, типам и характеру информации\n",
    "display(data_internet.tail(10)) # отражение последних 10 строк таблицы для обзорного анализа данных по столбцам, типам и характеру информации\n",
    "\n",
    "data_internet.info() # вывод сводной информации о массиве данных для анализа\n",
    "data_internet.columns # проверка перечня названий столбцов\n",
    "\n",
    "data_internet.describe(include=['object', 'int64', 'float64']) # просмотр информации о данных"
   ]
  },
  {
   "cell_type": "code",
   "execution_count": 85,
   "metadata": {
    "scrolled": true
   },
   "outputs": [
    {
     "data": {
      "text/html": [
       "<div>\n",
       "<style scoped>\n",
       "    .dataframe tbody tr th:only-of-type {\n",
       "        vertical-align: middle;\n",
       "    }\n",
       "\n",
       "    .dataframe tbody tr th {\n",
       "        vertical-align: top;\n",
       "    }\n",
       "\n",
       "    .dataframe thead th {\n",
       "        text-align: right;\n",
       "    }\n",
       "</style>\n",
       "<table border=\"1\" class=\"dataframe\">\n",
       "  <thead>\n",
       "    <tr style=\"text-align: right;\">\n",
       "      <th></th>\n",
       "      <th>messages_included</th>\n",
       "      <th>mb_per_month_included</th>\n",
       "      <th>minutes_included</th>\n",
       "      <th>rub_monthly_fee</th>\n",
       "      <th>rub_per_gb</th>\n",
       "      <th>rub_per_message</th>\n",
       "      <th>rub_per_minute</th>\n",
       "      <th>tariff_name</th>\n",
       "    </tr>\n",
       "  </thead>\n",
       "  <tbody>\n",
       "    <tr>\n",
       "      <td>0</td>\n",
       "      <td>50</td>\n",
       "      <td>15360</td>\n",
       "      <td>500</td>\n",
       "      <td>550</td>\n",
       "      <td>200</td>\n",
       "      <td>3</td>\n",
       "      <td>3</td>\n",
       "      <td>smart</td>\n",
       "    </tr>\n",
       "    <tr>\n",
       "      <td>1</td>\n",
       "      <td>1000</td>\n",
       "      <td>30720</td>\n",
       "      <td>3000</td>\n",
       "      <td>1950</td>\n",
       "      <td>150</td>\n",
       "      <td>1</td>\n",
       "      <td>1</td>\n",
       "      <td>ultra</td>\n",
       "    </tr>\n",
       "  </tbody>\n",
       "</table>\n",
       "</div>"
      ],
      "text/plain": [
       "   messages_included  mb_per_month_included  minutes_included  \\\n",
       "0                 50                  15360               500   \n",
       "1               1000                  30720              3000   \n",
       "\n",
       "   rub_monthly_fee  rub_per_gb  rub_per_message  rub_per_minute tariff_name  \n",
       "0              550         200                3               3       smart  \n",
       "1             1950         150                1               1       ultra  "
      ]
     },
     "metadata": {},
     "output_type": "display_data"
    },
    {
     "data": {
      "text/html": [
       "<div>\n",
       "<style scoped>\n",
       "    .dataframe tbody tr th:only-of-type {\n",
       "        vertical-align: middle;\n",
       "    }\n",
       "\n",
       "    .dataframe tbody tr th {\n",
       "        vertical-align: top;\n",
       "    }\n",
       "\n",
       "    .dataframe thead th {\n",
       "        text-align: right;\n",
       "    }\n",
       "</style>\n",
       "<table border=\"1\" class=\"dataframe\">\n",
       "  <thead>\n",
       "    <tr style=\"text-align: right;\">\n",
       "      <th></th>\n",
       "      <th>messages_included</th>\n",
       "      <th>mb_per_month_included</th>\n",
       "      <th>minutes_included</th>\n",
       "      <th>rub_monthly_fee</th>\n",
       "      <th>rub_per_gb</th>\n",
       "      <th>rub_per_message</th>\n",
       "      <th>rub_per_minute</th>\n",
       "      <th>tariff_name</th>\n",
       "    </tr>\n",
       "  </thead>\n",
       "  <tbody>\n",
       "    <tr>\n",
       "      <td>0</td>\n",
       "      <td>50</td>\n",
       "      <td>15360</td>\n",
       "      <td>500</td>\n",
       "      <td>550</td>\n",
       "      <td>200</td>\n",
       "      <td>3</td>\n",
       "      <td>3</td>\n",
       "      <td>smart</td>\n",
       "    </tr>\n",
       "    <tr>\n",
       "      <td>1</td>\n",
       "      <td>1000</td>\n",
       "      <td>30720</td>\n",
       "      <td>3000</td>\n",
       "      <td>1950</td>\n",
       "      <td>150</td>\n",
       "      <td>1</td>\n",
       "      <td>1</td>\n",
       "      <td>ultra</td>\n",
       "    </tr>\n",
       "  </tbody>\n",
       "</table>\n",
       "</div>"
      ],
      "text/plain": [
       "   messages_included  mb_per_month_included  minutes_included  \\\n",
       "0                 50                  15360               500   \n",
       "1               1000                  30720              3000   \n",
       "\n",
       "   rub_monthly_fee  rub_per_gb  rub_per_message  rub_per_minute tariff_name  \n",
       "0              550         200                3               3       smart  \n",
       "1             1950         150                1               1       ultra  "
      ]
     },
     "metadata": {},
     "output_type": "display_data"
    },
    {
     "name": "stdout",
     "output_type": "stream",
     "text": [
      "<class 'pandas.core.frame.DataFrame'>\n",
      "RangeIndex: 2 entries, 0 to 1\n",
      "Data columns (total 8 columns):\n",
      "messages_included        2 non-null int64\n",
      "mb_per_month_included    2 non-null int64\n",
      "minutes_included         2 non-null int64\n",
      "rub_monthly_fee          2 non-null int64\n",
      "rub_per_gb               2 non-null int64\n",
      "rub_per_message          2 non-null int64\n",
      "rub_per_minute           2 non-null int64\n",
      "tariff_name              2 non-null object\n",
      "dtypes: int64(7), object(1)\n",
      "memory usage: 256.0+ bytes\n"
     ]
    },
    {
     "data": {
      "text/plain": [
       "Index(['messages_included', 'mb_per_month_included', 'minutes_included',\n",
       "       'rub_monthly_fee', 'rub_per_gb', 'rub_per_message', 'rub_per_minute',\n",
       "       'tariff_name'],\n",
       "      dtype='object')"
      ]
     },
     "execution_count": 85,
     "metadata": {},
     "output_type": "execute_result"
    }
   ],
   "source": [
    "# изучаем таблицу tariffs\n",
    "data_tariffs = pd.read_csv('/datasets/tariffs.csv', sep=',') # чтение файла с данными и сохранение его в переменную data_tariffs\n",
    "\n",
    "display(data_tariffs.head(10)) # отражение первых 10 строк таблицы для обзорного анализа данных по столбцам, типам и характеру информации\n",
    "display(data_tariffs.tail(10)) # отражение последних 10 строк таблицы для обзорного анализа данных по столбцам, типам и характеру информации\n",
    "\n",
    "data_tariffs.info() # вывод сводной информации о массиве данных для анализа\n",
    "data_tariffs.columns # проверка перечня названий столбцов"
   ]
  },
  {
   "cell_type": "markdown",
   "metadata": {},
   "source": [
    "### Вывод"
   ]
  },
  {
   "cell_type": "markdown",
   "metadata": {},
   "source": [
    "Проанализирована таблица users, выявлены следующие особенности и сформулированы следующие предложения по их обработке:\n",
    "1. churn_date - из формата object необходимо перевести в формат дат, а пропущенные значения будет обоснованно ответить как unknown;\n",
    "2. reg_date - из формата object целесообразней перевести в формат даты;\n",
    "3. tariff - значения столбца являются категорийными по сути и указывают на отношение к тому или иному тарифу, поэтому для удобства(для работы с тарифами той или иной категории в дальнейшем) будет добавлен столбец tariff_category с обозначением тарифа smart как 0, тарифа ultra как 1.\n",
    "\n",
    "Проанализирована таблица calls, выявлены следующие особенности и сформулированы следующие предложения по их обработке:\n",
    "1. call_date - из формата object необходимо перевести в формат дат, а пропущенные значения будет обоснованно ответить как unknown;\n",
    "2. duration - из формата float64 данные будут переведены в формат int64 с округлением в большую сторону до целых, т.к. «Мегалайн» всегда округляет секунды до минут и т.к. каждый звонок, если он длится всего 1 секунду и будет засчитан как 1 минута, то эти звонки возможно сгруппировать для удобства анализа в дальнейшем в рамках сводных таблиц;\n",
    "3. id - лучше переименовать в call_id, чтобы не было путаницы в объедененном массиве данных.\n",
    "\n",
    "Проанализирована таблица messages, выявлены следующие особенности и сформулированы следующие предложения по их обработке:\n",
    "1. message_date - из формата object необходимо перевести в формат дат, а пропущенные значения будет обоснованно ответить как unknown;\n",
    "2. id - лучше переименовать в message_id, чтобы не было путаницы в объедененном массиве данных, эти сообщения возможно сгруппировать для удобства анализа в дальнейшем в рамках сводных таблиц.\n",
    "\n",
    "Проанализирована таблица internet, выявлены следующие особенности и сформулированы следующие предложения по их обработке:\n",
    "1. Unnamed: 0 - столбец, который дублирует индекс, для оптимизации памяти го рекомендуется удалить из датасета;\n",
    "2. session_date - из формата object необходимо перевести в формат дат, а пропущенные значения будет обоснованно ответить как unknown;\n",
    "3. mb_used - из формата float64 данные будут переведены в формат int64 с округлением в большую сторону до целых, т.к. для веб-трафика отдельные сессии не считаются, а вместо этого общая сумма за месяц округляется в бо́льшую сторону;\n",
    "4. id - лучше переименовать в session_id, чтобы не было путаницы в объедененном массиве данных, эти сесссии возможно сгруппировать для удобства анализа в дальнейшем в рамках сводных таблиц.\n",
    "\n",
    "Проанализирована таблица tariffs, выявлены следующие особенности и сформулированы следующие предложения по их обработке:\n",
    "1. tariff_name - значения столбца являются категорийными по сути и указывают на отношение к тому или иному тарифу, поэтому для удобства(для работы с тарифами той или иной категории в дальнейшем) будет добавлен столбец tariff_category с обозначением тарифа smart как 0, тарифа ultra как 1.\n",
    "\n",
    "Для удобства анализа и оценки массива данных согласно целям проекта - данные будут объединены в один датасет по уникальному ключу user_id, который присутствует в каждом из датасетов с данными(кроме датасета с описанием имеющихся тарифов). "
   ]
  },
  {
   "cell_type": "markdown",
   "metadata": {},
   "source": [
    "## Предобработка данных"
   ]
  },
  {
   "cell_type": "markdown",
   "metadata": {},
   "source": [
    "### Объединение таблиц данных"
   ]
  },
  {
   "cell_type": "markdown",
   "metadata": {},
   "source": [
    "#### Подготовка таблиц к объединению, группировка данных"
   ]
  },
  {
   "cell_type": "code",
   "execution_count": 86,
   "metadata": {
    "scrolled": true
   },
   "outputs": [
    {
     "data": {
      "text/html": [
       "<div>\n",
       "<style scoped>\n",
       "    .dataframe tbody tr th:only-of-type {\n",
       "        vertical-align: middle;\n",
       "    }\n",
       "\n",
       "    .dataframe tbody tr th {\n",
       "        vertical-align: top;\n",
       "    }\n",
       "\n",
       "    .dataframe thead th {\n",
       "        text-align: right;\n",
       "    }\n",
       "</style>\n",
       "<table border=\"1\" class=\"dataframe\">\n",
       "  <thead>\n",
       "    <tr style=\"text-align: right;\">\n",
       "      <th></th>\n",
       "      <th>user_id</th>\n",
       "      <th>month</th>\n",
       "      <th>duration</th>\n",
       "      <th>calls_count</th>\n",
       "    </tr>\n",
       "  </thead>\n",
       "  <tbody>\n",
       "    <tr>\n",
       "      <td>0</td>\n",
       "      <td>1000</td>\n",
       "      <td>5</td>\n",
       "      <td>159</td>\n",
       "      <td>22</td>\n",
       "    </tr>\n",
       "    <tr>\n",
       "      <td>1</td>\n",
       "      <td>1000</td>\n",
       "      <td>6</td>\n",
       "      <td>172</td>\n",
       "      <td>43</td>\n",
       "    </tr>\n",
       "    <tr>\n",
       "      <td>2</td>\n",
       "      <td>1000</td>\n",
       "      <td>7</td>\n",
       "      <td>340</td>\n",
       "      <td>47</td>\n",
       "    </tr>\n",
       "    <tr>\n",
       "      <td>3</td>\n",
       "      <td>1000</td>\n",
       "      <td>8</td>\n",
       "      <td>408</td>\n",
       "      <td>52</td>\n",
       "    </tr>\n",
       "    <tr>\n",
       "      <td>4</td>\n",
       "      <td>1000</td>\n",
       "      <td>9</td>\n",
       "      <td>466</td>\n",
       "      <td>58</td>\n",
       "    </tr>\n",
       "    <tr>\n",
       "      <td>5</td>\n",
       "      <td>1000</td>\n",
       "      <td>10</td>\n",
       "      <td>350</td>\n",
       "      <td>57</td>\n",
       "    </tr>\n",
       "    <tr>\n",
       "      <td>6</td>\n",
       "      <td>1000</td>\n",
       "      <td>11</td>\n",
       "      <td>338</td>\n",
       "      <td>43</td>\n",
       "    </tr>\n",
       "    <tr>\n",
       "      <td>7</td>\n",
       "      <td>1000</td>\n",
       "      <td>12</td>\n",
       "      <td>333</td>\n",
       "      <td>46</td>\n",
       "    </tr>\n",
       "    <tr>\n",
       "      <td>8</td>\n",
       "      <td>1001</td>\n",
       "      <td>11</td>\n",
       "      <td>430</td>\n",
       "      <td>59</td>\n",
       "    </tr>\n",
       "    <tr>\n",
       "      <td>9</td>\n",
       "      <td>1001</td>\n",
       "      <td>12</td>\n",
       "      <td>414</td>\n",
       "      <td>63</td>\n",
       "    </tr>\n",
       "  </tbody>\n",
       "</table>\n",
       "</div>"
      ],
      "text/plain": [
       "   user_id  month  duration  calls_count\n",
       "0     1000      5       159           22\n",
       "1     1000      6       172           43\n",
       "2     1000      7       340           47\n",
       "3     1000      8       408           52\n",
       "4     1000      9       466           58\n",
       "5     1000     10       350           57\n",
       "6     1000     11       338           43\n",
       "7     1000     12       333           46\n",
       "8     1001     11       430           59\n",
       "9     1001     12       414           63"
      ]
     },
     "metadata": {},
     "output_type": "display_data"
    },
    {
     "name": "stdout",
     "output_type": "stream",
     "text": [
      "<class 'pandas.core.frame.DataFrame'>\n",
      "RangeIndex: 3174 entries, 0 to 3173\n",
      "Data columns (total 4 columns):\n",
      "user_id        3174 non-null int64\n",
      "month          3174 non-null int64\n",
      "duration       3174 non-null int64\n",
      "calls_count    3174 non-null int64\n",
      "dtypes: int64(4)\n",
      "memory usage: 99.3 KB\n"
     ]
    },
    {
     "data": {
      "text/plain": [
       "None"
      ]
     },
     "metadata": {},
     "output_type": "display_data"
    },
    {
     "data": {
      "text/plain": [
       "Index(['user_id', 'month', 'duration', 'calls_count'], dtype='object')"
      ]
     },
     "metadata": {},
     "output_type": "display_data"
    }
   ],
   "source": [
    "# подготовка к объединению таблицы data_calls\n",
    "# округление каждого разговора в duration до 1 минуты в большую сторону\n",
    "data_calls['duration'] = data_calls['duration'].apply(np.ceil)\n",
    "\n",
    "data_calls['duration'] = data_calls['duration'].fillna(0)\n",
    "data_calls['duration'] = data_calls['duration'].astype('int64')\n",
    "\n",
    "# перевод call_date в формат даты и времени, добавление в таблицу столбца month\n",
    "data_calls['call_date'] = pd.to_datetime(data_calls['call_date']).dt.tz_localize(None)\n",
    "data_calls['month'] = data_calls['call_date'].dt.month\n",
    "\n",
    "# группировка таблицы по month и user_id\n",
    "data_calls_pivot = data_calls.pivot_table(index=['user_id', 'month'], values='duration', aggfunc=['sum', 'count']).reset_index()\n",
    "data_calls_pivot.columns = ['user_id', 'month', 'duration', 'calls_count']\n",
    "# проверка получившегося датасета\n",
    "display(data_calls_pivot.head(10))\n",
    "display(data_calls_pivot.info())\n",
    "display(data_calls_pivot.columns)"
   ]
  },
  {
   "cell_type": "code",
   "execution_count": 87,
   "metadata": {
    "scrolled": true
   },
   "outputs": [
    {
     "data": {
      "text/html": [
       "<div>\n",
       "<style scoped>\n",
       "    .dataframe tbody tr th:only-of-type {\n",
       "        vertical-align: middle;\n",
       "    }\n",
       "\n",
       "    .dataframe tbody tr th {\n",
       "        vertical-align: top;\n",
       "    }\n",
       "\n",
       "    .dataframe thead th {\n",
       "        text-align: right;\n",
       "    }\n",
       "</style>\n",
       "<table border=\"1\" class=\"dataframe\">\n",
       "  <thead>\n",
       "    <tr style=\"text-align: right;\">\n",
       "      <th></th>\n",
       "      <th>user_id</th>\n",
       "      <th>month</th>\n",
       "      <th>messages</th>\n",
       "    </tr>\n",
       "  </thead>\n",
       "  <tbody>\n",
       "    <tr>\n",
       "      <td>0</td>\n",
       "      <td>1000</td>\n",
       "      <td>5</td>\n",
       "      <td>22</td>\n",
       "    </tr>\n",
       "    <tr>\n",
       "      <td>1</td>\n",
       "      <td>1000</td>\n",
       "      <td>6</td>\n",
       "      <td>60</td>\n",
       "    </tr>\n",
       "    <tr>\n",
       "      <td>2</td>\n",
       "      <td>1000</td>\n",
       "      <td>7</td>\n",
       "      <td>75</td>\n",
       "    </tr>\n",
       "    <tr>\n",
       "      <td>3</td>\n",
       "      <td>1000</td>\n",
       "      <td>8</td>\n",
       "      <td>81</td>\n",
       "    </tr>\n",
       "    <tr>\n",
       "      <td>4</td>\n",
       "      <td>1000</td>\n",
       "      <td>9</td>\n",
       "      <td>57</td>\n",
       "    </tr>\n",
       "    <tr>\n",
       "      <td>5</td>\n",
       "      <td>1000</td>\n",
       "      <td>10</td>\n",
       "      <td>73</td>\n",
       "    </tr>\n",
       "    <tr>\n",
       "      <td>6</td>\n",
       "      <td>1000</td>\n",
       "      <td>11</td>\n",
       "      <td>58</td>\n",
       "    </tr>\n",
       "    <tr>\n",
       "      <td>7</td>\n",
       "      <td>1000</td>\n",
       "      <td>12</td>\n",
       "      <td>70</td>\n",
       "    </tr>\n",
       "    <tr>\n",
       "      <td>8</td>\n",
       "      <td>1002</td>\n",
       "      <td>6</td>\n",
       "      <td>4</td>\n",
       "    </tr>\n",
       "    <tr>\n",
       "      <td>9</td>\n",
       "      <td>1002</td>\n",
       "      <td>7</td>\n",
       "      <td>11</td>\n",
       "    </tr>\n",
       "  </tbody>\n",
       "</table>\n",
       "</div>"
      ],
      "text/plain": [
       "   user_id  month  messages\n",
       "0     1000      5        22\n",
       "1     1000      6        60\n",
       "2     1000      7        75\n",
       "3     1000      8        81\n",
       "4     1000      9        57\n",
       "5     1000     10        73\n",
       "6     1000     11        58\n",
       "7     1000     12        70\n",
       "8     1002      6         4\n",
       "9     1002      7        11"
      ]
     },
     "metadata": {},
     "output_type": "display_data"
    },
    {
     "name": "stdout",
     "output_type": "stream",
     "text": [
      "<class 'pandas.core.frame.DataFrame'>\n",
      "RangeIndex: 2717 entries, 0 to 2716\n",
      "Data columns (total 3 columns):\n",
      "user_id     2717 non-null int64\n",
      "month       2717 non-null int64\n",
      "messages    2717 non-null int64\n",
      "dtypes: int64(3)\n",
      "memory usage: 63.8 KB\n"
     ]
    },
    {
     "data": {
      "text/plain": [
       "None"
      ]
     },
     "metadata": {},
     "output_type": "display_data"
    }
   ],
   "source": [
    "# подготовка к объединению таблицы data_messages\n",
    "# перевод message_data в формат даты и времени, добавление в таблицу столбца month\n",
    "data_messages['message_date'] = pd.to_datetime(data_messages['message_date']).dt.tz_localize(None)\n",
    "data_messages['month'] = data_messages['message_date'].dt.month\n",
    "\n",
    "# группировка таблицы по month и user_id\n",
    "data_messages_pivot = data_messages.pivot_table(index=['user_id', 'month'], values='id', aggfunc='count').reset_index()\n",
    "data_messages_pivot.set_axis(['user_id', 'month', 'messages'], axis='columns', inplace=True)\n",
    "\n",
    "# проверка получившегося датасета\n",
    "display(data_messages_pivot.head(10))\n",
    "display(data_messages_pivot.info())"
   ]
  },
  {
   "cell_type": "code",
   "execution_count": 88,
   "metadata": {
    "scrolled": true
   },
   "outputs": [
    {
     "data": {
      "text/html": [
       "<div>\n",
       "<style scoped>\n",
       "    .dataframe tbody tr th:only-of-type {\n",
       "        vertical-align: middle;\n",
       "    }\n",
       "\n",
       "    .dataframe tbody tr th {\n",
       "        vertical-align: top;\n",
       "    }\n",
       "\n",
       "    .dataframe thead th {\n",
       "        text-align: right;\n",
       "    }\n",
       "</style>\n",
       "<table border=\"1\" class=\"dataframe\">\n",
       "  <thead>\n",
       "    <tr style=\"text-align: right;\">\n",
       "      <th></th>\n",
       "      <th>user_id</th>\n",
       "      <th>month</th>\n",
       "      <th>mb_used</th>\n",
       "    </tr>\n",
       "  </thead>\n",
       "  <tbody>\n",
       "    <tr>\n",
       "      <td>0</td>\n",
       "      <td>1000</td>\n",
       "      <td>5</td>\n",
       "      <td>2253</td>\n",
       "    </tr>\n",
       "    <tr>\n",
       "      <td>1</td>\n",
       "      <td>1000</td>\n",
       "      <td>6</td>\n",
       "      <td>23234</td>\n",
       "    </tr>\n",
       "    <tr>\n",
       "      <td>2</td>\n",
       "      <td>1000</td>\n",
       "      <td>7</td>\n",
       "      <td>14004</td>\n",
       "    </tr>\n",
       "    <tr>\n",
       "      <td>3</td>\n",
       "      <td>1000</td>\n",
       "      <td>8</td>\n",
       "      <td>14056</td>\n",
       "    </tr>\n",
       "    <tr>\n",
       "      <td>4</td>\n",
       "      <td>1000</td>\n",
       "      <td>9</td>\n",
       "      <td>14569</td>\n",
       "    </tr>\n",
       "    <tr>\n",
       "      <td>5</td>\n",
       "      <td>1000</td>\n",
       "      <td>10</td>\n",
       "      <td>14703</td>\n",
       "    </tr>\n",
       "    <tr>\n",
       "      <td>6</td>\n",
       "      <td>1000</td>\n",
       "      <td>11</td>\n",
       "      <td>14757</td>\n",
       "    </tr>\n",
       "    <tr>\n",
       "      <td>7</td>\n",
       "      <td>1000</td>\n",
       "      <td>12</td>\n",
       "      <td>9818</td>\n",
       "    </tr>\n",
       "    <tr>\n",
       "      <td>8</td>\n",
       "      <td>1001</td>\n",
       "      <td>11</td>\n",
       "      <td>18430</td>\n",
       "    </tr>\n",
       "    <tr>\n",
       "      <td>9</td>\n",
       "      <td>1001</td>\n",
       "      <td>12</td>\n",
       "      <td>14037</td>\n",
       "    </tr>\n",
       "  </tbody>\n",
       "</table>\n",
       "</div>"
      ],
      "text/plain": [
       "   user_id  month  mb_used\n",
       "0     1000      5     2253\n",
       "1     1000      6    23234\n",
       "2     1000      7    14004\n",
       "3     1000      8    14056\n",
       "4     1000      9    14569\n",
       "5     1000     10    14703\n",
       "6     1000     11    14757\n",
       "7     1000     12     9818\n",
       "8     1001     11    18430\n",
       "9     1001     12    14037"
      ]
     },
     "metadata": {},
     "output_type": "display_data"
    },
    {
     "name": "stdout",
     "output_type": "stream",
     "text": [
      "<class 'pandas.core.frame.DataFrame'>\n",
      "RangeIndex: 3203 entries, 0 to 3202\n",
      "Data columns (total 3 columns):\n",
      "user_id    3203 non-null int64\n",
      "month      3203 non-null int64\n",
      "mb_used    3203 non-null int64\n",
      "dtypes: int64(3)\n",
      "memory usage: 75.2 KB\n"
     ]
    },
    {
     "data": {
      "text/plain": [
       "None"
      ]
     },
     "metadata": {},
     "output_type": "display_data"
    },
    {
     "data": {
      "text/html": [
       "<div>\n",
       "<style scoped>\n",
       "    .dataframe tbody tr th:only-of-type {\n",
       "        vertical-align: middle;\n",
       "    }\n",
       "\n",
       "    .dataframe tbody tr th {\n",
       "        vertical-align: top;\n",
       "    }\n",
       "\n",
       "    .dataframe thead th {\n",
       "        text-align: right;\n",
       "    }\n",
       "</style>\n",
       "<table border=\"1\" class=\"dataframe\">\n",
       "  <thead>\n",
       "    <tr style=\"text-align: right;\">\n",
       "      <th></th>\n",
       "      <th>user_id</th>\n",
       "      <th>month</th>\n",
       "      <th>mb_used</th>\n",
       "    </tr>\n",
       "  </thead>\n",
       "  <tbody>\n",
       "    <tr>\n",
       "      <td>count</td>\n",
       "      <td>3203.000000</td>\n",
       "      <td>3203.000000</td>\n",
       "      <td>3203.000000</td>\n",
       "    </tr>\n",
       "    <tr>\n",
       "      <td>mean</td>\n",
       "      <td>1251.393069</td>\n",
       "      <td>8.320949</td>\n",
       "      <td>17267.201686</td>\n",
       "    </tr>\n",
       "    <tr>\n",
       "      <td>std</td>\n",
       "      <td>144.824407</td>\n",
       "      <td>2.903834</td>\n",
       "      <td>7516.369407</td>\n",
       "    </tr>\n",
       "    <tr>\n",
       "      <td>min</td>\n",
       "      <td>1000.000000</td>\n",
       "      <td>1.000000</td>\n",
       "      <td>0.000000</td>\n",
       "    </tr>\n",
       "    <tr>\n",
       "      <td>25%</td>\n",
       "      <td>1124.000000</td>\n",
       "      <td>6.000000</td>\n",
       "      <td>12527.500000</td>\n",
       "    </tr>\n",
       "    <tr>\n",
       "      <td>50%</td>\n",
       "      <td>1251.000000</td>\n",
       "      <td>9.000000</td>\n",
       "      <td>16964.000000</td>\n",
       "    </tr>\n",
       "    <tr>\n",
       "      <td>75%</td>\n",
       "      <td>1379.000000</td>\n",
       "      <td>11.000000</td>\n",
       "      <td>21432.500000</td>\n",
       "    </tr>\n",
       "    <tr>\n",
       "      <td>max</td>\n",
       "      <td>1499.000000</td>\n",
       "      <td>12.000000</td>\n",
       "      <td>49746.000000</td>\n",
       "    </tr>\n",
       "  </tbody>\n",
       "</table>\n",
       "</div>"
      ],
      "text/plain": [
       "           user_id        month       mb_used\n",
       "count  3203.000000  3203.000000   3203.000000\n",
       "mean   1251.393069     8.320949  17267.201686\n",
       "std     144.824407     2.903834   7516.369407\n",
       "min    1000.000000     1.000000      0.000000\n",
       "25%    1124.000000     6.000000  12527.500000\n",
       "50%    1251.000000     9.000000  16964.000000\n",
       "75%    1379.000000    11.000000  21432.500000\n",
       "max    1499.000000    12.000000  49746.000000"
      ]
     },
     "metadata": {},
     "output_type": "display_data"
    }
   ],
   "source": [
    "# подготовка к объединению таблицы data_internet\n",
    "# перевод session_date в формат даты и времени, добавление в таблицу столбца month\n",
    "data_internet['session_date'] = pd.to_datetime(data_internet['session_date']).dt.tz_localize(None)\n",
    "data_internet['month'] = data_internet['session_date'].dt.month\n",
    "\n",
    "# группировка таблицы по month и user_id\n",
    "data_internet_pivot = data_internet.pivot_table(index=['user_id', 'month'], values='mb_used', aggfunc='sum').reset_index()\n",
    "\n",
    "# округление суммы месячных сессий до 1 мб\n",
    "for i in range(len(data_internet_pivot)):\n",
    "    if i > 0:\n",
    "        data_internet_pivot.loc[i ,'mb_used'] = math.ceil(data_internet_pivot.loc[i ,'mb_used'])\n",
    "\n",
    "# из формата float64 переведем значения mb_used в int64\n",
    "data_internet_pivot['mb_used'] = data_internet_pivot['mb_used'].astype('int64')\n",
    "\n",
    "# проверка получившегося датасета\n",
    "display(data_internet_pivot.head(10))\n",
    "display(data_internet_pivot.info())\n",
    "display(data_internet_pivot.describe())"
   ]
  },
  {
   "cell_type": "code",
   "execution_count": 89,
   "metadata": {},
   "outputs": [
    {
     "data": {
      "text/plain": [
       "Index(['messages_included', 'mb_per_month_included', 'minutes_included',\n",
       "       'rub_monthly_fee', 'rub_per_gb', 'rub_per_message', 'rub_per_minute',\n",
       "       'tariff'],\n",
       "      dtype='object')"
      ]
     },
     "metadata": {},
     "output_type": "display_data"
    }
   ],
   "source": [
    "# подготовка к объединению data_tariffs\n",
    "# корректировка названия столбца tariff_name\n",
    "data_tariffs.rename(columns={'tariff_name': 'tariff'}, inplace=True)\n",
    "display(data_tariffs.columns)"
   ]
  },
  {
   "cell_type": "markdown",
   "metadata": {},
   "source": [
    "#### Объединение таблиц между собой"
   ]
  },
  {
   "cell_type": "code",
   "execution_count": 90,
   "metadata": {
    "scrolled": true
   },
   "outputs": [
    {
     "name": "stdout",
     "output_type": "stream",
     "text": [
      "<class 'pandas.core.frame.DataFrame'>\n",
      "Int64Index: 3222 entries, 0 to 3221\n",
      "Data columns (total 20 columns):\n",
      "user_id                  3222 non-null int64\n",
      "age                      3182 non-null float64\n",
      "churn_date               189 non-null object\n",
      "city                     3182 non-null object\n",
      "first_name               3182 non-null object\n",
      "last_name                3182 non-null object\n",
      "reg_date                 3182 non-null object\n",
      "tariff                   3182 non-null object\n",
      "month                    3214 non-null float64\n",
      "duration                 3174 non-null float64\n",
      "calls_count              3174 non-null float64\n",
      "messages                 2717 non-null float64\n",
      "mb_used                  3203 non-null float64\n",
      "messages_included        3182 non-null float64\n",
      "mb_per_month_included    3182 non-null float64\n",
      "minutes_included         3182 non-null float64\n",
      "rub_monthly_fee          3182 non-null float64\n",
      "rub_per_gb               3182 non-null float64\n",
      "rub_per_message          3182 non-null float64\n",
      "rub_per_minute           3182 non-null float64\n",
      "dtypes: float64(13), int64(1), object(6)\n",
      "memory usage: 528.6+ KB\n"
     ]
    }
   ],
   "source": [
    "# объединим таблицы между собой по ключу user_id\n",
    "# объединение таблиц users и calls\n",
    "sub_data_1 = data_users.merge(data_calls_pivot, on='user_id', how='left')\n",
    "sub_data_2 = sub_data_1.merge(data_messages_pivot, how='outer')\n",
    "sub_data_3 = sub_data_2.merge(data_internet_pivot, how='outer')\n",
    "data = sub_data_3.merge(data_tariffs, on='tariff', how='left')\n",
    "\n",
    "# проверка сводного датасета\n",
    "data.info()"
   ]
  },
  {
   "cell_type": "markdown",
   "metadata": {},
   "source": [
    "#### Вывод"
   ]
  },
  {
   "cell_type": "markdown",
   "metadata": {},
   "source": [
    "На этапе объединения таблиц данных были проведены следующие процедуры:\n",
    "1. Анализ и обработка данных таблицы data_calls: \n",
    "    - округление каждого разговора в duration до 1 минуты в большую сторону согласно тарифному плану оператора связи(т.к. по правилам каждый звонок должен быть округлен, обратное - округление сумм всех длительностей звонков недопустимо), трансформация данных для сводной таблицы в формат int64;\n",
    "    - перевод call_date в формат даты и времени, добавление в таблицу столбца month для дальнейшего объединения по данному столбцу в том числе;\n",
    "    - группировка таблицы по month и user_id;\n",
    "    - стандартная проверка получившегося датасета.\n",
    "2. Анализ и обработка данных таблицы data_messages: \n",
    "    - перевод message_data в формат даты и времени, добавление в таблицу столбца month для дальнейшего объединения по данному столбцу в том числе;\n",
    "    - группировка таблицы по month и user_id;\n",
    "    - проверка получившегося датасета.\n",
    "3. Анализ и обработка данных таблицы data_internet: \n",
    "    - перевод session_date в формат даты и времени, добавление в таблицу столбца month для дальнейшего объединения по данному столбцу в том числе;\n",
    "    - группировка таблицы по month и user_id;\n",
    "    - округление суммы месячных сессий до 1 мб(т.к. по правилам таррифного плана округляется суммарный трафик за месяц);\n",
    "    - из формата float64 переведем значения mb_used в int64 для удобства просмотра таблицы;\n",
    "    - проверка получившегося датасета.\n",
    "4. Анализ и обработка данных таблицы data_tariffs: корректировка названия столбца tariff_name на tariff с целью удобстав объединения датасетов.\n",
    "\n",
    "В результате объединения получен сводный обработанный и сгрупированный датасет удобный для дальнейшего анализа и менее ресурсоемкий в части объема данных в результате группировок."
   ]
  },
  {
   "cell_type": "markdown",
   "metadata": {},
   "source": [
    "### Изменение названий столбцов"
   ]
  },
  {
   "cell_type": "code",
   "execution_count": 91,
   "metadata": {},
   "outputs": [
    {
     "data": {
      "text/plain": [
       "Index(['user_id', 'age', 'churn_date', 'city', 'first_name', 'last_name',\n",
       "       'reg_date', 'tariff', 'month', 'duration', 'calls_count', 'messages',\n",
       "       'mb_used', 'messages_included', 'mb_per_month_included',\n",
       "       'minutes_included', 'rub_monthly_fee', 'rub_per_gb', 'rub_per_message',\n",
       "       'rub_per_minute'],\n",
       "      dtype='object')"
      ]
     },
     "metadata": {},
     "output_type": "display_data"
    }
   ],
   "source": [
    "# проверка названий столбцов и корректировка\n",
    "display(data.columns)"
   ]
  },
  {
   "cell_type": "markdown",
   "metadata": {},
   "source": [
    "#### Вывод"
   ]
  },
  {
   "cell_type": "markdown",
   "metadata": {},
   "source": [
    "В наименования столцов нет необходимости вносить изменения, наименования понятны и в змеином стиле."
   ]
  },
  {
   "cell_type": "markdown",
   "metadata": {},
   "source": [
    "### Анализ и обработка пропусков"
   ]
  },
  {
   "cell_type": "code",
   "execution_count": 92,
   "metadata": {
    "scrolled": true
   },
   "outputs": [
    {
     "data": {
      "text/plain": [
       "user_id                     0\n",
       "age                        40\n",
       "churn_date               3033\n",
       "city                       40\n",
       "first_name                 40\n",
       "last_name                  40\n",
       "reg_date                   40\n",
       "tariff                     40\n",
       "month                       8\n",
       "duration                   48\n",
       "calls_count                48\n",
       "messages                  505\n",
       "mb_used                    19\n",
       "messages_included          40\n",
       "mb_per_month_included      40\n",
       "minutes_included           40\n",
       "rub_monthly_fee            40\n",
       "rub_per_gb                 40\n",
       "rub_per_message            40\n",
       "rub_per_minute             40\n",
       "dtype: int64"
      ]
     },
     "metadata": {},
     "output_type": "display_data"
    },
    {
     "data": {
      "text/plain": [
       "user_id                     0\n",
       "age                        40\n",
       "churn_date               3033\n",
       "city                       40\n",
       "first_name                 40\n",
       "last_name                  40\n",
       "reg_date                   40\n",
       "tariff                     40\n",
       "month                       8\n",
       "duration                   48\n",
       "calls_count                48\n",
       "messages                  505\n",
       "mb_used                    19\n",
       "messages_included          40\n",
       "mb_per_month_included      40\n",
       "minutes_included           40\n",
       "rub_monthly_fee            40\n",
       "rub_per_gb                 40\n",
       "rub_per_message            40\n",
       "rub_per_minute             40\n",
       "dtype: int64"
      ]
     },
     "metadata": {},
     "output_type": "display_data"
    },
    {
     "data": {
      "text/html": [
       "<div>\n",
       "<style scoped>\n",
       "    .dataframe tbody tr th:only-of-type {\n",
       "        vertical-align: middle;\n",
       "    }\n",
       "\n",
       "    .dataframe tbody tr th {\n",
       "        vertical-align: top;\n",
       "    }\n",
       "\n",
       "    .dataframe thead th {\n",
       "        text-align: right;\n",
       "    }\n",
       "</style>\n",
       "<table border=\"1\" class=\"dataframe\">\n",
       "  <thead>\n",
       "    <tr style=\"text-align: right;\">\n",
       "      <th></th>\n",
       "      <th>user_id</th>\n",
       "      <th>age</th>\n",
       "      <th>churn_date</th>\n",
       "      <th>city</th>\n",
       "      <th>first_name</th>\n",
       "      <th>last_name</th>\n",
       "      <th>reg_date</th>\n",
       "      <th>tariff</th>\n",
       "      <th>month</th>\n",
       "      <th>duration</th>\n",
       "      <th>calls_count</th>\n",
       "      <th>messages</th>\n",
       "      <th>mb_used</th>\n",
       "      <th>messages_included</th>\n",
       "      <th>mb_per_month_included</th>\n",
       "      <th>minutes_included</th>\n",
       "      <th>rub_monthly_fee</th>\n",
       "      <th>rub_per_gb</th>\n",
       "      <th>rub_per_message</th>\n",
       "      <th>rub_per_minute</th>\n",
       "    </tr>\n",
       "  </thead>\n",
       "  <tbody>\n",
       "    <tr>\n",
       "      <td>3212</td>\n",
       "      <td>1473</td>\n",
       "      <td>NaN</td>\n",
       "      <td>NaN</td>\n",
       "      <td>NaN</td>\n",
       "      <td>NaN</td>\n",
       "      <td>NaN</td>\n",
       "      <td>NaN</td>\n",
       "      <td>NaN</td>\n",
       "      <td>9.0</td>\n",
       "      <td>NaN</td>\n",
       "      <td>NaN</td>\n",
       "      <td>19.0</td>\n",
       "      <td>17290.0</td>\n",
       "      <td>NaN</td>\n",
       "      <td>NaN</td>\n",
       "      <td>NaN</td>\n",
       "      <td>NaN</td>\n",
       "      <td>NaN</td>\n",
       "      <td>NaN</td>\n",
       "      <td>NaN</td>\n",
       "    </tr>\n",
       "    <tr>\n",
       "      <td>3213</td>\n",
       "      <td>1473</td>\n",
       "      <td>NaN</td>\n",
       "      <td>NaN</td>\n",
       "      <td>NaN</td>\n",
       "      <td>NaN</td>\n",
       "      <td>NaN</td>\n",
       "      <td>NaN</td>\n",
       "      <td>NaN</td>\n",
       "      <td>10.0</td>\n",
       "      <td>NaN</td>\n",
       "      <td>NaN</td>\n",
       "      <td>20.0</td>\n",
       "      <td>13689.0</td>\n",
       "      <td>NaN</td>\n",
       "      <td>NaN</td>\n",
       "      <td>NaN</td>\n",
       "      <td>NaN</td>\n",
       "      <td>NaN</td>\n",
       "      <td>NaN</td>\n",
       "      <td>NaN</td>\n",
       "    </tr>\n",
       "    <tr>\n",
       "      <td>3214</td>\n",
       "      <td>1473</td>\n",
       "      <td>NaN</td>\n",
       "      <td>NaN</td>\n",
       "      <td>NaN</td>\n",
       "      <td>NaN</td>\n",
       "      <td>NaN</td>\n",
       "      <td>NaN</td>\n",
       "      <td>NaN</td>\n",
       "      <td>11.0</td>\n",
       "      <td>NaN</td>\n",
       "      <td>NaN</td>\n",
       "      <td>14.0</td>\n",
       "      <td>21674.0</td>\n",
       "      <td>NaN</td>\n",
       "      <td>NaN</td>\n",
       "      <td>NaN</td>\n",
       "      <td>NaN</td>\n",
       "      <td>NaN</td>\n",
       "      <td>NaN</td>\n",
       "      <td>NaN</td>\n",
       "    </tr>\n",
       "    <tr>\n",
       "      <td>3215</td>\n",
       "      <td>1473</td>\n",
       "      <td>NaN</td>\n",
       "      <td>NaN</td>\n",
       "      <td>NaN</td>\n",
       "      <td>NaN</td>\n",
       "      <td>NaN</td>\n",
       "      <td>NaN</td>\n",
       "      <td>NaN</td>\n",
       "      <td>12.0</td>\n",
       "      <td>NaN</td>\n",
       "      <td>NaN</td>\n",
       "      <td>20.0</td>\n",
       "      <td>18419.0</td>\n",
       "      <td>NaN</td>\n",
       "      <td>NaN</td>\n",
       "      <td>NaN</td>\n",
       "      <td>NaN</td>\n",
       "      <td>NaN</td>\n",
       "      <td>NaN</td>\n",
       "      <td>NaN</td>\n",
       "    </tr>\n",
       "    <tr>\n",
       "      <td>3216</td>\n",
       "      <td>1489</td>\n",
       "      <td>NaN</td>\n",
       "      <td>NaN</td>\n",
       "      <td>NaN</td>\n",
       "      <td>NaN</td>\n",
       "      <td>NaN</td>\n",
       "      <td>NaN</td>\n",
       "      <td>NaN</td>\n",
       "      <td>8.0</td>\n",
       "      <td>NaN</td>\n",
       "      <td>NaN</td>\n",
       "      <td>17.0</td>\n",
       "      <td>11051.0</td>\n",
       "      <td>NaN</td>\n",
       "      <td>NaN</td>\n",
       "      <td>NaN</td>\n",
       "      <td>NaN</td>\n",
       "      <td>NaN</td>\n",
       "      <td>NaN</td>\n",
       "      <td>NaN</td>\n",
       "    </tr>\n",
       "    <tr>\n",
       "      <td>3217</td>\n",
       "      <td>1489</td>\n",
       "      <td>NaN</td>\n",
       "      <td>NaN</td>\n",
       "      <td>NaN</td>\n",
       "      <td>NaN</td>\n",
       "      <td>NaN</td>\n",
       "      <td>NaN</td>\n",
       "      <td>NaN</td>\n",
       "      <td>9.0</td>\n",
       "      <td>NaN</td>\n",
       "      <td>NaN</td>\n",
       "      <td>32.0</td>\n",
       "      <td>17207.0</td>\n",
       "      <td>NaN</td>\n",
       "      <td>NaN</td>\n",
       "      <td>NaN</td>\n",
       "      <td>NaN</td>\n",
       "      <td>NaN</td>\n",
       "      <td>NaN</td>\n",
       "      <td>NaN</td>\n",
       "    </tr>\n",
       "    <tr>\n",
       "      <td>3218</td>\n",
       "      <td>1489</td>\n",
       "      <td>NaN</td>\n",
       "      <td>NaN</td>\n",
       "      <td>NaN</td>\n",
       "      <td>NaN</td>\n",
       "      <td>NaN</td>\n",
       "      <td>NaN</td>\n",
       "      <td>NaN</td>\n",
       "      <td>10.0</td>\n",
       "      <td>NaN</td>\n",
       "      <td>NaN</td>\n",
       "      <td>21.0</td>\n",
       "      <td>19560.0</td>\n",
       "      <td>NaN</td>\n",
       "      <td>NaN</td>\n",
       "      <td>NaN</td>\n",
       "      <td>NaN</td>\n",
       "      <td>NaN</td>\n",
       "      <td>NaN</td>\n",
       "      <td>NaN</td>\n",
       "    </tr>\n",
       "    <tr>\n",
       "      <td>3219</td>\n",
       "      <td>1489</td>\n",
       "      <td>NaN</td>\n",
       "      <td>NaN</td>\n",
       "      <td>NaN</td>\n",
       "      <td>NaN</td>\n",
       "      <td>NaN</td>\n",
       "      <td>NaN</td>\n",
       "      <td>NaN</td>\n",
       "      <td>11.0</td>\n",
       "      <td>NaN</td>\n",
       "      <td>NaN</td>\n",
       "      <td>20.0</td>\n",
       "      <td>17492.0</td>\n",
       "      <td>NaN</td>\n",
       "      <td>NaN</td>\n",
       "      <td>NaN</td>\n",
       "      <td>NaN</td>\n",
       "      <td>NaN</td>\n",
       "      <td>NaN</td>\n",
       "      <td>NaN</td>\n",
       "    </tr>\n",
       "    <tr>\n",
       "      <td>3220</td>\n",
       "      <td>1489</td>\n",
       "      <td>NaN</td>\n",
       "      <td>NaN</td>\n",
       "      <td>NaN</td>\n",
       "      <td>NaN</td>\n",
       "      <td>NaN</td>\n",
       "      <td>NaN</td>\n",
       "      <td>NaN</td>\n",
       "      <td>12.0</td>\n",
       "      <td>NaN</td>\n",
       "      <td>NaN</td>\n",
       "      <td>35.0</td>\n",
       "      <td>17323.0</td>\n",
       "      <td>NaN</td>\n",
       "      <td>NaN</td>\n",
       "      <td>NaN</td>\n",
       "      <td>NaN</td>\n",
       "      <td>NaN</td>\n",
       "      <td>NaN</td>\n",
       "      <td>NaN</td>\n",
       "    </tr>\n",
       "    <tr>\n",
       "      <td>3221</td>\n",
       "      <td>1476</td>\n",
       "      <td>NaN</td>\n",
       "      <td>NaN</td>\n",
       "      <td>NaN</td>\n",
       "      <td>NaN</td>\n",
       "      <td>NaN</td>\n",
       "      <td>NaN</td>\n",
       "      <td>NaN</td>\n",
       "      <td>4.0</td>\n",
       "      <td>NaN</td>\n",
       "      <td>NaN</td>\n",
       "      <td>NaN</td>\n",
       "      <td>531.0</td>\n",
       "      <td>NaN</td>\n",
       "      <td>NaN</td>\n",
       "      <td>NaN</td>\n",
       "      <td>NaN</td>\n",
       "      <td>NaN</td>\n",
       "      <td>NaN</td>\n",
       "      <td>NaN</td>\n",
       "    </tr>\n",
       "  </tbody>\n",
       "</table>\n",
       "</div>"
      ],
      "text/plain": [
       "      user_id  age churn_date city first_name last_name reg_date tariff  \\\n",
       "3212     1473  NaN        NaN  NaN        NaN       NaN      NaN    NaN   \n",
       "3213     1473  NaN        NaN  NaN        NaN       NaN      NaN    NaN   \n",
       "3214     1473  NaN        NaN  NaN        NaN       NaN      NaN    NaN   \n",
       "3215     1473  NaN        NaN  NaN        NaN       NaN      NaN    NaN   \n",
       "3216     1489  NaN        NaN  NaN        NaN       NaN      NaN    NaN   \n",
       "3217     1489  NaN        NaN  NaN        NaN       NaN      NaN    NaN   \n",
       "3218     1489  NaN        NaN  NaN        NaN       NaN      NaN    NaN   \n",
       "3219     1489  NaN        NaN  NaN        NaN       NaN      NaN    NaN   \n",
       "3220     1489  NaN        NaN  NaN        NaN       NaN      NaN    NaN   \n",
       "3221     1476  NaN        NaN  NaN        NaN       NaN      NaN    NaN   \n",
       "\n",
       "      month  duration  calls_count  messages  mb_used  messages_included  \\\n",
       "3212    9.0       NaN          NaN      19.0  17290.0                NaN   \n",
       "3213   10.0       NaN          NaN      20.0  13689.0                NaN   \n",
       "3214   11.0       NaN          NaN      14.0  21674.0                NaN   \n",
       "3215   12.0       NaN          NaN      20.0  18419.0                NaN   \n",
       "3216    8.0       NaN          NaN      17.0  11051.0                NaN   \n",
       "3217    9.0       NaN          NaN      32.0  17207.0                NaN   \n",
       "3218   10.0       NaN          NaN      21.0  19560.0                NaN   \n",
       "3219   11.0       NaN          NaN      20.0  17492.0                NaN   \n",
       "3220   12.0       NaN          NaN      35.0  17323.0                NaN   \n",
       "3221    4.0       NaN          NaN       NaN    531.0                NaN   \n",
       "\n",
       "      mb_per_month_included  minutes_included  rub_monthly_fee  rub_per_gb  \\\n",
       "3212                    NaN               NaN              NaN         NaN   \n",
       "3213                    NaN               NaN              NaN         NaN   \n",
       "3214                    NaN               NaN              NaN         NaN   \n",
       "3215                    NaN               NaN              NaN         NaN   \n",
       "3216                    NaN               NaN              NaN         NaN   \n",
       "3217                    NaN               NaN              NaN         NaN   \n",
       "3218                    NaN               NaN              NaN         NaN   \n",
       "3219                    NaN               NaN              NaN         NaN   \n",
       "3220                    NaN               NaN              NaN         NaN   \n",
       "3221                    NaN               NaN              NaN         NaN   \n",
       "\n",
       "      rub_per_message  rub_per_minute  \n",
       "3212              NaN             NaN  \n",
       "3213              NaN             NaN  \n",
       "3214              NaN             NaN  \n",
       "3215              NaN             NaN  \n",
       "3216              NaN             NaN  \n",
       "3217              NaN             NaN  \n",
       "3218              NaN             NaN  \n",
       "3219              NaN             NaN  \n",
       "3220              NaN             NaN  \n",
       "3221              NaN             NaN  "
      ]
     },
     "metadata": {},
     "output_type": "display_data"
    },
    {
     "data": {
      "text/plain": [
       "user_id                     0\n",
       "age                         0\n",
       "churn_date               2987\n",
       "city                        0\n",
       "first_name                  0\n",
       "last_name                   0\n",
       "reg_date                    0\n",
       "tariff                      0\n",
       "month                       0\n",
       "duration                    0\n",
       "calls_count                 0\n",
       "messages                    0\n",
       "mb_used                     0\n",
       "messages_included           0\n",
       "mb_per_month_included       0\n",
       "minutes_included            0\n",
       "rub_monthly_fee             0\n",
       "rub_per_gb                  0\n",
       "rub_per_message             0\n",
       "rub_per_minute              0\n",
       "dtype: int64"
      ]
     },
     "metadata": {},
     "output_type": "display_data"
    },
    {
     "data": {
      "text/html": [
       "<div>\n",
       "<style scoped>\n",
       "    .dataframe tbody tr th:only-of-type {\n",
       "        vertical-align: middle;\n",
       "    }\n",
       "\n",
       "    .dataframe tbody tr th {\n",
       "        vertical-align: top;\n",
       "    }\n",
       "\n",
       "    .dataframe thead th {\n",
       "        text-align: right;\n",
       "    }\n",
       "</style>\n",
       "<table border=\"1\" class=\"dataframe\">\n",
       "  <thead>\n",
       "    <tr style=\"text-align: right;\">\n",
       "      <th></th>\n",
       "      <th>user_id</th>\n",
       "      <th>age</th>\n",
       "      <th>churn_date</th>\n",
       "      <th>city</th>\n",
       "      <th>first_name</th>\n",
       "      <th>last_name</th>\n",
       "      <th>reg_date</th>\n",
       "      <th>tariff</th>\n",
       "      <th>month</th>\n",
       "      <th>duration</th>\n",
       "      <th>calls_count</th>\n",
       "      <th>messages</th>\n",
       "      <th>mb_used</th>\n",
       "      <th>messages_included</th>\n",
       "      <th>mb_per_month_included</th>\n",
       "      <th>minutes_included</th>\n",
       "      <th>rub_monthly_fee</th>\n",
       "      <th>rub_per_gb</th>\n",
       "      <th>rub_per_message</th>\n",
       "      <th>rub_per_minute</th>\n",
       "    </tr>\n",
       "  </thead>\n",
       "  <tbody>\n",
       "    <tr>\n",
       "      <td>3164</td>\n",
       "      <td>1497</td>\n",
       "      <td>32.0</td>\n",
       "      <td>NaN</td>\n",
       "      <td>Челябинск</td>\n",
       "      <td>Каролина</td>\n",
       "      <td>Агеева</td>\n",
       "      <td>2018-10-09</td>\n",
       "      <td>smart</td>\n",
       "      <td>11.0</td>\n",
       "      <td>371.0</td>\n",
       "      <td>64.0</td>\n",
       "      <td>14.0</td>\n",
       "      <td>14157.0</td>\n",
       "      <td>50.0</td>\n",
       "      <td>15360.0</td>\n",
       "      <td>500.0</td>\n",
       "      <td>550.0</td>\n",
       "      <td>200.0</td>\n",
       "      <td>3.0</td>\n",
       "      <td>3.0</td>\n",
       "    </tr>\n",
       "    <tr>\n",
       "      <td>3165</td>\n",
       "      <td>1497</td>\n",
       "      <td>32.0</td>\n",
       "      <td>NaN</td>\n",
       "      <td>Челябинск</td>\n",
       "      <td>Каролина</td>\n",
       "      <td>Агеева</td>\n",
       "      <td>2018-10-09</td>\n",
       "      <td>smart</td>\n",
       "      <td>12.0</td>\n",
       "      <td>545.0</td>\n",
       "      <td>71.0</td>\n",
       "      <td>17.0</td>\n",
       "      <td>19919.0</td>\n",
       "      <td>50.0</td>\n",
       "      <td>15360.0</td>\n",
       "      <td>500.0</td>\n",
       "      <td>550.0</td>\n",
       "      <td>200.0</td>\n",
       "      <td>3.0</td>\n",
       "      <td>3.0</td>\n",
       "    </tr>\n",
       "    <tr>\n",
       "      <td>3166</td>\n",
       "      <td>1498</td>\n",
       "      <td>68.0</td>\n",
       "      <td>2018-10-25</td>\n",
       "      <td>Владикавказ</td>\n",
       "      <td>Всеволод</td>\n",
       "      <td>Акимчин</td>\n",
       "      <td>2018-07-19</td>\n",
       "      <td>smart</td>\n",
       "      <td>7.0</td>\n",
       "      <td>175.0</td>\n",
       "      <td>23.0</td>\n",
       "      <td>20.0</td>\n",
       "      <td>7477.0</td>\n",
       "      <td>50.0</td>\n",
       "      <td>15360.0</td>\n",
       "      <td>500.0</td>\n",
       "      <td>550.0</td>\n",
       "      <td>200.0</td>\n",
       "      <td>3.0</td>\n",
       "      <td>3.0</td>\n",
       "    </tr>\n",
       "    <tr>\n",
       "      <td>3167</td>\n",
       "      <td>1498</td>\n",
       "      <td>68.0</td>\n",
       "      <td>2018-10-25</td>\n",
       "      <td>Владикавказ</td>\n",
       "      <td>Всеволод</td>\n",
       "      <td>Акимчин</td>\n",
       "      <td>2018-07-19</td>\n",
       "      <td>smart</td>\n",
       "      <td>8.0</td>\n",
       "      <td>400.0</td>\n",
       "      <td>57.0</td>\n",
       "      <td>62.0</td>\n",
       "      <td>24236.0</td>\n",
       "      <td>50.0</td>\n",
       "      <td>15360.0</td>\n",
       "      <td>500.0</td>\n",
       "      <td>550.0</td>\n",
       "      <td>200.0</td>\n",
       "      <td>3.0</td>\n",
       "      <td>3.0</td>\n",
       "    </tr>\n",
       "    <tr>\n",
       "      <td>3168</td>\n",
       "      <td>1498</td>\n",
       "      <td>68.0</td>\n",
       "      <td>2018-10-25</td>\n",
       "      <td>Владикавказ</td>\n",
       "      <td>Всеволод</td>\n",
       "      <td>Акимчин</td>\n",
       "      <td>2018-07-19</td>\n",
       "      <td>smart</td>\n",
       "      <td>9.0</td>\n",
       "      <td>471.0</td>\n",
       "      <td>59.0</td>\n",
       "      <td>44.0</td>\n",
       "      <td>22135.0</td>\n",
       "      <td>50.0</td>\n",
       "      <td>15360.0</td>\n",
       "      <td>500.0</td>\n",
       "      <td>550.0</td>\n",
       "      <td>200.0</td>\n",
       "      <td>3.0</td>\n",
       "      <td>3.0</td>\n",
       "    </tr>\n",
       "    <tr>\n",
       "      <td>3169</td>\n",
       "      <td>1498</td>\n",
       "      <td>68.0</td>\n",
       "      <td>2018-10-25</td>\n",
       "      <td>Владикавказ</td>\n",
       "      <td>Всеволод</td>\n",
       "      <td>Акимчин</td>\n",
       "      <td>2018-07-19</td>\n",
       "      <td>smart</td>\n",
       "      <td>10.0</td>\n",
       "      <td>247.0</td>\n",
       "      <td>41.0</td>\n",
       "      <td>42.0</td>\n",
       "      <td>20580.0</td>\n",
       "      <td>50.0</td>\n",
       "      <td>15360.0</td>\n",
       "      <td>500.0</td>\n",
       "      <td>550.0</td>\n",
       "      <td>200.0</td>\n",
       "      <td>3.0</td>\n",
       "      <td>3.0</td>\n",
       "    </tr>\n",
       "    <tr>\n",
       "      <td>3170</td>\n",
       "      <td>1499</td>\n",
       "      <td>35.0</td>\n",
       "      <td>NaN</td>\n",
       "      <td>Пермь</td>\n",
       "      <td>Гектор</td>\n",
       "      <td>Корнилов</td>\n",
       "      <td>2018-09-27</td>\n",
       "      <td>smart</td>\n",
       "      <td>9.0</td>\n",
       "      <td>70.0</td>\n",
       "      <td>9.0</td>\n",
       "      <td>11.0</td>\n",
       "      <td>1846.0</td>\n",
       "      <td>50.0</td>\n",
       "      <td>15360.0</td>\n",
       "      <td>500.0</td>\n",
       "      <td>550.0</td>\n",
       "      <td>200.0</td>\n",
       "      <td>3.0</td>\n",
       "      <td>3.0</td>\n",
       "    </tr>\n",
       "    <tr>\n",
       "      <td>3171</td>\n",
       "      <td>1499</td>\n",
       "      <td>35.0</td>\n",
       "      <td>NaN</td>\n",
       "      <td>Пермь</td>\n",
       "      <td>Гектор</td>\n",
       "      <td>Корнилов</td>\n",
       "      <td>2018-09-27</td>\n",
       "      <td>smart</td>\n",
       "      <td>10.0</td>\n",
       "      <td>449.0</td>\n",
       "      <td>68.0</td>\n",
       "      <td>48.0</td>\n",
       "      <td>17789.0</td>\n",
       "      <td>50.0</td>\n",
       "      <td>15360.0</td>\n",
       "      <td>500.0</td>\n",
       "      <td>550.0</td>\n",
       "      <td>200.0</td>\n",
       "      <td>3.0</td>\n",
       "      <td>3.0</td>\n",
       "    </tr>\n",
       "    <tr>\n",
       "      <td>3172</td>\n",
       "      <td>1499</td>\n",
       "      <td>35.0</td>\n",
       "      <td>NaN</td>\n",
       "      <td>Пермь</td>\n",
       "      <td>Гектор</td>\n",
       "      <td>Корнилов</td>\n",
       "      <td>2018-09-27</td>\n",
       "      <td>smart</td>\n",
       "      <td>11.0</td>\n",
       "      <td>612.0</td>\n",
       "      <td>74.0</td>\n",
       "      <td>59.0</td>\n",
       "      <td>17964.0</td>\n",
       "      <td>50.0</td>\n",
       "      <td>15360.0</td>\n",
       "      <td>500.0</td>\n",
       "      <td>550.0</td>\n",
       "      <td>200.0</td>\n",
       "      <td>3.0</td>\n",
       "      <td>3.0</td>\n",
       "    </tr>\n",
       "    <tr>\n",
       "      <td>3173</td>\n",
       "      <td>1499</td>\n",
       "      <td>35.0</td>\n",
       "      <td>NaN</td>\n",
       "      <td>Пермь</td>\n",
       "      <td>Гектор</td>\n",
       "      <td>Корнилов</td>\n",
       "      <td>2018-09-27</td>\n",
       "      <td>smart</td>\n",
       "      <td>12.0</td>\n",
       "      <td>492.0</td>\n",
       "      <td>69.0</td>\n",
       "      <td>66.0</td>\n",
       "      <td>13056.0</td>\n",
       "      <td>50.0</td>\n",
       "      <td>15360.0</td>\n",
       "      <td>500.0</td>\n",
       "      <td>550.0</td>\n",
       "      <td>200.0</td>\n",
       "      <td>3.0</td>\n",
       "      <td>3.0</td>\n",
       "    </tr>\n",
       "  </tbody>\n",
       "</table>\n",
       "</div>"
      ],
      "text/plain": [
       "      user_id   age  churn_date         city first_name last_name    reg_date  \\\n",
       "3164     1497  32.0         NaN    Челябинск   Каролина    Агеева  2018-10-09   \n",
       "3165     1497  32.0         NaN    Челябинск   Каролина    Агеева  2018-10-09   \n",
       "3166     1498  68.0  2018-10-25  Владикавказ   Всеволод   Акимчин  2018-07-19   \n",
       "3167     1498  68.0  2018-10-25  Владикавказ   Всеволод   Акимчин  2018-07-19   \n",
       "3168     1498  68.0  2018-10-25  Владикавказ   Всеволод   Акимчин  2018-07-19   \n",
       "3169     1498  68.0  2018-10-25  Владикавказ   Всеволод   Акимчин  2018-07-19   \n",
       "3170     1499  35.0         NaN        Пермь     Гектор  Корнилов  2018-09-27   \n",
       "3171     1499  35.0         NaN        Пермь     Гектор  Корнилов  2018-09-27   \n",
       "3172     1499  35.0         NaN        Пермь     Гектор  Корнилов  2018-09-27   \n",
       "3173     1499  35.0         NaN        Пермь     Гектор  Корнилов  2018-09-27   \n",
       "\n",
       "     tariff  month  duration  calls_count  messages  mb_used  \\\n",
       "3164  smart   11.0     371.0         64.0      14.0  14157.0   \n",
       "3165  smart   12.0     545.0         71.0      17.0  19919.0   \n",
       "3166  smart    7.0     175.0         23.0      20.0   7477.0   \n",
       "3167  smart    8.0     400.0         57.0      62.0  24236.0   \n",
       "3168  smart    9.0     471.0         59.0      44.0  22135.0   \n",
       "3169  smart   10.0     247.0         41.0      42.0  20580.0   \n",
       "3170  smart    9.0      70.0          9.0      11.0   1846.0   \n",
       "3171  smart   10.0     449.0         68.0      48.0  17789.0   \n",
       "3172  smart   11.0     612.0         74.0      59.0  17964.0   \n",
       "3173  smart   12.0     492.0         69.0      66.0  13056.0   \n",
       "\n",
       "      messages_included  mb_per_month_included  minutes_included  \\\n",
       "3164               50.0                15360.0             500.0   \n",
       "3165               50.0                15360.0             500.0   \n",
       "3166               50.0                15360.0             500.0   \n",
       "3167               50.0                15360.0             500.0   \n",
       "3168               50.0                15360.0             500.0   \n",
       "3169               50.0                15360.0             500.0   \n",
       "3170               50.0                15360.0             500.0   \n",
       "3171               50.0                15360.0             500.0   \n",
       "3172               50.0                15360.0             500.0   \n",
       "3173               50.0                15360.0             500.0   \n",
       "\n",
       "      rub_monthly_fee  rub_per_gb  rub_per_message  rub_per_minute  \n",
       "3164            550.0       200.0              3.0             3.0  \n",
       "3165            550.0       200.0              3.0             3.0  \n",
       "3166            550.0       200.0              3.0             3.0  \n",
       "3167            550.0       200.0              3.0             3.0  \n",
       "3168            550.0       200.0              3.0             3.0  \n",
       "3169            550.0       200.0              3.0             3.0  \n",
       "3170            550.0       200.0              3.0             3.0  \n",
       "3171            550.0       200.0              3.0             3.0  \n",
       "3172            550.0       200.0              3.0             3.0  \n",
       "3173            550.0       200.0              3.0             3.0  "
      ]
     },
     "metadata": {},
     "output_type": "display_data"
    }
   ],
   "source": [
    "# подсчет пропусков\n",
    "display(data.isna().sum()) # NaN\n",
    "display(data.isnull().sum()) # '0'\n",
    "display(data.tail(10)) # NaN\n",
    "\n",
    "# найдено 40 пропусков в конце таблицы, эти пропуски необходимо удалить, величина ниже погрешности\n",
    "data = data[((data['month'] > 0) & (data['age'] > 0))]\n",
    "data = data.reset_index(drop=True)\n",
    "data['messages'] = data['messages'].fillna(0)\n",
    "data['mb_used'] = data['mb_used'].fillna(0)\n",
    "display(data.isna().sum()) # NaN\n",
    "display(data.tail(10)) # NaN"
   ]
  },
  {
   "cell_type": "markdown",
   "metadata": {},
   "source": [
    "#### Вывод"
   ]
  },
  {
   "cell_type": "markdown",
   "metadata": {},
   "source": [
    "Обнаруженные аномалии в виде пропусков в количестве 48 строк в конце таблицы были удалены путем фильтрации значений по месяцам и по возрасту больше 0, т.к. количество данных ниже минимальных погрешностей и на дальнейший анализ не повлияет.\n",
    "Нулевыми значениями были заполнены столбцы messages, mb_used, нулевые значения говорят о том, что клиенты оператора не пользовались частью услуг."
   ]
  },
  {
   "cell_type": "markdown",
   "metadata": {},
   "source": [
    "### Приведение данных к нужным типам"
   ]
  },
  {
   "cell_type": "code",
   "execution_count": 93,
   "metadata": {
    "scrolled": true
   },
   "outputs": [
    {
     "name": "stdout",
     "output_type": "stream",
     "text": [
      "<class 'pandas.core.frame.DataFrame'>\n",
      "RangeIndex: 3174 entries, 0 to 3173\n",
      "Data columns (total 20 columns):\n",
      "user_id                  3174 non-null int64\n",
      "age                      3174 non-null float64\n",
      "churn_date               187 non-null object\n",
      "city                     3174 non-null object\n",
      "first_name               3174 non-null object\n",
      "last_name                3174 non-null object\n",
      "reg_date                 3174 non-null object\n",
      "tariff                   3174 non-null object\n",
      "month                    3174 non-null float64\n",
      "duration                 3174 non-null float64\n",
      "calls_count              3174 non-null float64\n",
      "messages                 3174 non-null float64\n",
      "mb_used                  3174 non-null float64\n",
      "messages_included        3174 non-null float64\n",
      "mb_per_month_included    3174 non-null float64\n",
      "minutes_included         3174 non-null float64\n",
      "rub_monthly_fee          3174 non-null float64\n",
      "rub_per_gb               3174 non-null float64\n",
      "rub_per_message          3174 non-null float64\n",
      "rub_per_minute           3174 non-null float64\n",
      "dtypes: float64(13), int64(1), object(6)\n",
      "memory usage: 496.1+ KB\n"
     ]
    },
    {
     "data": {
      "text/plain": [
       "None"
      ]
     },
     "metadata": {},
     "output_type": "display_data"
    },
    {
     "name": "stdout",
     "output_type": "stream",
     "text": [
      "<class 'pandas.core.frame.DataFrame'>\n",
      "RangeIndex: 3174 entries, 0 to 3173\n",
      "Data columns (total 20 columns):\n",
      "user_id                  3174 non-null int64\n",
      "age                      3174 non-null int64\n",
      "churn_date               187 non-null datetime64[ns]\n",
      "city                     3174 non-null object\n",
      "first_name               3174 non-null object\n",
      "last_name                3174 non-null object\n",
      "reg_date                 3174 non-null datetime64[ns]\n",
      "tariff                   3174 non-null object\n",
      "month                    3174 non-null int64\n",
      "duration                 3174 non-null int64\n",
      "calls_count              3174 non-null int64\n",
      "messages                 3174 non-null int64\n",
      "mb_used                  3174 non-null int64\n",
      "messages_included        3174 non-null int64\n",
      "mb_per_month_included    3174 non-null int64\n",
      "minutes_included         3174 non-null int64\n",
      "rub_monthly_fee          3174 non-null int64\n",
      "rub_per_gb               3174 non-null int64\n",
      "rub_per_message          3174 non-null int64\n",
      "rub_per_minute           3174 non-null int64\n",
      "dtypes: datetime64[ns](2), int64(14), object(4)\n",
      "memory usage: 496.1+ KB\n"
     ]
    },
    {
     "data": {
      "text/plain": [
       "None"
      ]
     },
     "metadata": {},
     "output_type": "display_data"
    },
    {
     "data": {
      "text/html": [
       "<div>\n",
       "<style scoped>\n",
       "    .dataframe tbody tr th:only-of-type {\n",
       "        vertical-align: middle;\n",
       "    }\n",
       "\n",
       "    .dataframe tbody tr th {\n",
       "        vertical-align: top;\n",
       "    }\n",
       "\n",
       "    .dataframe thead th {\n",
       "        text-align: right;\n",
       "    }\n",
       "</style>\n",
       "<table border=\"1\" class=\"dataframe\">\n",
       "  <thead>\n",
       "    <tr style=\"text-align: right;\">\n",
       "      <th></th>\n",
       "      <th>user_id</th>\n",
       "      <th>age</th>\n",
       "      <th>churn_date</th>\n",
       "      <th>city</th>\n",
       "      <th>first_name</th>\n",
       "      <th>last_name</th>\n",
       "      <th>reg_date</th>\n",
       "      <th>tariff</th>\n",
       "      <th>month</th>\n",
       "      <th>duration</th>\n",
       "      <th>calls_count</th>\n",
       "      <th>messages</th>\n",
       "      <th>mb_used</th>\n",
       "      <th>messages_included</th>\n",
       "      <th>mb_per_month_included</th>\n",
       "      <th>minutes_included</th>\n",
       "      <th>rub_monthly_fee</th>\n",
       "      <th>rub_per_gb</th>\n",
       "      <th>rub_per_message</th>\n",
       "      <th>rub_per_minute</th>\n",
       "    </tr>\n",
       "  </thead>\n",
       "  <tbody>\n",
       "    <tr>\n",
       "      <td>0</td>\n",
       "      <td>1000</td>\n",
       "      <td>52</td>\n",
       "      <td>NaT</td>\n",
       "      <td>Краснодар</td>\n",
       "      <td>Рафаил</td>\n",
       "      <td>Верещагин</td>\n",
       "      <td>2018-05-25</td>\n",
       "      <td>ultra</td>\n",
       "      <td>5</td>\n",
       "      <td>159</td>\n",
       "      <td>22</td>\n",
       "      <td>22</td>\n",
       "      <td>2253</td>\n",
       "      <td>1000</td>\n",
       "      <td>30720</td>\n",
       "      <td>3000</td>\n",
       "      <td>1950</td>\n",
       "      <td>150</td>\n",
       "      <td>1</td>\n",
       "      <td>1</td>\n",
       "    </tr>\n",
       "    <tr>\n",
       "      <td>1</td>\n",
       "      <td>1000</td>\n",
       "      <td>52</td>\n",
       "      <td>NaT</td>\n",
       "      <td>Краснодар</td>\n",
       "      <td>Рафаил</td>\n",
       "      <td>Верещагин</td>\n",
       "      <td>2018-05-25</td>\n",
       "      <td>ultra</td>\n",
       "      <td>6</td>\n",
       "      <td>172</td>\n",
       "      <td>43</td>\n",
       "      <td>60</td>\n",
       "      <td>23234</td>\n",
       "      <td>1000</td>\n",
       "      <td>30720</td>\n",
       "      <td>3000</td>\n",
       "      <td>1950</td>\n",
       "      <td>150</td>\n",
       "      <td>1</td>\n",
       "      <td>1</td>\n",
       "    </tr>\n",
       "    <tr>\n",
       "      <td>2</td>\n",
       "      <td>1000</td>\n",
       "      <td>52</td>\n",
       "      <td>NaT</td>\n",
       "      <td>Краснодар</td>\n",
       "      <td>Рафаил</td>\n",
       "      <td>Верещагин</td>\n",
       "      <td>2018-05-25</td>\n",
       "      <td>ultra</td>\n",
       "      <td>7</td>\n",
       "      <td>340</td>\n",
       "      <td>47</td>\n",
       "      <td>75</td>\n",
       "      <td>14004</td>\n",
       "      <td>1000</td>\n",
       "      <td>30720</td>\n",
       "      <td>3000</td>\n",
       "      <td>1950</td>\n",
       "      <td>150</td>\n",
       "      <td>1</td>\n",
       "      <td>1</td>\n",
       "    </tr>\n",
       "    <tr>\n",
       "      <td>3</td>\n",
       "      <td>1000</td>\n",
       "      <td>52</td>\n",
       "      <td>NaT</td>\n",
       "      <td>Краснодар</td>\n",
       "      <td>Рафаил</td>\n",
       "      <td>Верещагин</td>\n",
       "      <td>2018-05-25</td>\n",
       "      <td>ultra</td>\n",
       "      <td>8</td>\n",
       "      <td>408</td>\n",
       "      <td>52</td>\n",
       "      <td>81</td>\n",
       "      <td>14056</td>\n",
       "      <td>1000</td>\n",
       "      <td>30720</td>\n",
       "      <td>3000</td>\n",
       "      <td>1950</td>\n",
       "      <td>150</td>\n",
       "      <td>1</td>\n",
       "      <td>1</td>\n",
       "    </tr>\n",
       "    <tr>\n",
       "      <td>4</td>\n",
       "      <td>1000</td>\n",
       "      <td>52</td>\n",
       "      <td>NaT</td>\n",
       "      <td>Краснодар</td>\n",
       "      <td>Рафаил</td>\n",
       "      <td>Верещагин</td>\n",
       "      <td>2018-05-25</td>\n",
       "      <td>ultra</td>\n",
       "      <td>9</td>\n",
       "      <td>466</td>\n",
       "      <td>58</td>\n",
       "      <td>57</td>\n",
       "      <td>14569</td>\n",
       "      <td>1000</td>\n",
       "      <td>30720</td>\n",
       "      <td>3000</td>\n",
       "      <td>1950</td>\n",
       "      <td>150</td>\n",
       "      <td>1</td>\n",
       "      <td>1</td>\n",
       "    </tr>\n",
       "    <tr>\n",
       "      <td>5</td>\n",
       "      <td>1000</td>\n",
       "      <td>52</td>\n",
       "      <td>NaT</td>\n",
       "      <td>Краснодар</td>\n",
       "      <td>Рафаил</td>\n",
       "      <td>Верещагин</td>\n",
       "      <td>2018-05-25</td>\n",
       "      <td>ultra</td>\n",
       "      <td>10</td>\n",
       "      <td>350</td>\n",
       "      <td>57</td>\n",
       "      <td>73</td>\n",
       "      <td>14703</td>\n",
       "      <td>1000</td>\n",
       "      <td>30720</td>\n",
       "      <td>3000</td>\n",
       "      <td>1950</td>\n",
       "      <td>150</td>\n",
       "      <td>1</td>\n",
       "      <td>1</td>\n",
       "    </tr>\n",
       "    <tr>\n",
       "      <td>6</td>\n",
       "      <td>1000</td>\n",
       "      <td>52</td>\n",
       "      <td>NaT</td>\n",
       "      <td>Краснодар</td>\n",
       "      <td>Рафаил</td>\n",
       "      <td>Верещагин</td>\n",
       "      <td>2018-05-25</td>\n",
       "      <td>ultra</td>\n",
       "      <td>11</td>\n",
       "      <td>338</td>\n",
       "      <td>43</td>\n",
       "      <td>58</td>\n",
       "      <td>14757</td>\n",
       "      <td>1000</td>\n",
       "      <td>30720</td>\n",
       "      <td>3000</td>\n",
       "      <td>1950</td>\n",
       "      <td>150</td>\n",
       "      <td>1</td>\n",
       "      <td>1</td>\n",
       "    </tr>\n",
       "    <tr>\n",
       "      <td>7</td>\n",
       "      <td>1000</td>\n",
       "      <td>52</td>\n",
       "      <td>NaT</td>\n",
       "      <td>Краснодар</td>\n",
       "      <td>Рафаил</td>\n",
       "      <td>Верещагин</td>\n",
       "      <td>2018-05-25</td>\n",
       "      <td>ultra</td>\n",
       "      <td>12</td>\n",
       "      <td>333</td>\n",
       "      <td>46</td>\n",
       "      <td>70</td>\n",
       "      <td>9818</td>\n",
       "      <td>1000</td>\n",
       "      <td>30720</td>\n",
       "      <td>3000</td>\n",
       "      <td>1950</td>\n",
       "      <td>150</td>\n",
       "      <td>1</td>\n",
       "      <td>1</td>\n",
       "    </tr>\n",
       "    <tr>\n",
       "      <td>8</td>\n",
       "      <td>1001</td>\n",
       "      <td>41</td>\n",
       "      <td>NaT</td>\n",
       "      <td>Москва</td>\n",
       "      <td>Иван</td>\n",
       "      <td>Ежов</td>\n",
       "      <td>2018-11-01</td>\n",
       "      <td>smart</td>\n",
       "      <td>11</td>\n",
       "      <td>430</td>\n",
       "      <td>59</td>\n",
       "      <td>0</td>\n",
       "      <td>18430</td>\n",
       "      <td>50</td>\n",
       "      <td>15360</td>\n",
       "      <td>500</td>\n",
       "      <td>550</td>\n",
       "      <td>200</td>\n",
       "      <td>3</td>\n",
       "      <td>3</td>\n",
       "    </tr>\n",
       "    <tr>\n",
       "      <td>9</td>\n",
       "      <td>1001</td>\n",
       "      <td>41</td>\n",
       "      <td>NaT</td>\n",
       "      <td>Москва</td>\n",
       "      <td>Иван</td>\n",
       "      <td>Ежов</td>\n",
       "      <td>2018-11-01</td>\n",
       "      <td>smart</td>\n",
       "      <td>12</td>\n",
       "      <td>414</td>\n",
       "      <td>63</td>\n",
       "      <td>0</td>\n",
       "      <td>14037</td>\n",
       "      <td>50</td>\n",
       "      <td>15360</td>\n",
       "      <td>500</td>\n",
       "      <td>550</td>\n",
       "      <td>200</td>\n",
       "      <td>3</td>\n",
       "      <td>3</td>\n",
       "    </tr>\n",
       "  </tbody>\n",
       "</table>\n",
       "</div>"
      ],
      "text/plain": [
       "   user_id  age churn_date       city first_name  last_name   reg_date tariff  \\\n",
       "0     1000   52        NaT  Краснодар     Рафаил  Верещагин 2018-05-25  ultra   \n",
       "1     1000   52        NaT  Краснодар     Рафаил  Верещагин 2018-05-25  ultra   \n",
       "2     1000   52        NaT  Краснодар     Рафаил  Верещагин 2018-05-25  ultra   \n",
       "3     1000   52        NaT  Краснодар     Рафаил  Верещагин 2018-05-25  ultra   \n",
       "4     1000   52        NaT  Краснодар     Рафаил  Верещагин 2018-05-25  ultra   \n",
       "5     1000   52        NaT  Краснодар     Рафаил  Верещагин 2018-05-25  ultra   \n",
       "6     1000   52        NaT  Краснодар     Рафаил  Верещагин 2018-05-25  ultra   \n",
       "7     1000   52        NaT  Краснодар     Рафаил  Верещагин 2018-05-25  ultra   \n",
       "8     1001   41        NaT     Москва       Иван       Ежов 2018-11-01  smart   \n",
       "9     1001   41        NaT     Москва       Иван       Ежов 2018-11-01  smart   \n",
       "\n",
       "   month  duration  calls_count  messages  mb_used  messages_included  \\\n",
       "0      5       159           22        22     2253               1000   \n",
       "1      6       172           43        60    23234               1000   \n",
       "2      7       340           47        75    14004               1000   \n",
       "3      8       408           52        81    14056               1000   \n",
       "4      9       466           58        57    14569               1000   \n",
       "5     10       350           57        73    14703               1000   \n",
       "6     11       338           43        58    14757               1000   \n",
       "7     12       333           46        70     9818               1000   \n",
       "8     11       430           59         0    18430                 50   \n",
       "9     12       414           63         0    14037                 50   \n",
       "\n",
       "   mb_per_month_included  minutes_included  rub_monthly_fee  rub_per_gb  \\\n",
       "0                  30720              3000             1950         150   \n",
       "1                  30720              3000             1950         150   \n",
       "2                  30720              3000             1950         150   \n",
       "3                  30720              3000             1950         150   \n",
       "4                  30720              3000             1950         150   \n",
       "5                  30720              3000             1950         150   \n",
       "6                  30720              3000             1950         150   \n",
       "7                  30720              3000             1950         150   \n",
       "8                  15360               500              550         200   \n",
       "9                  15360               500              550         200   \n",
       "\n",
       "   rub_per_message  rub_per_minute  \n",
       "0                1               1  \n",
       "1                1               1  \n",
       "2                1               1  \n",
       "3                1               1  \n",
       "4                1               1  \n",
       "5                1               1  \n",
       "6                1               1  \n",
       "7                1               1  \n",
       "8                3               3  \n",
       "9                3               3  "
      ]
     },
     "metadata": {},
     "output_type": "display_data"
    }
   ],
   "source": [
    "# рассмотрим датасет и приведем типы данных к оптимальным для удобства последующего анализа выборки\n",
    "display(data.info())\n",
    "\n",
    "# воспользуемся методом astype для перевода данных в необходимые типы для удобства чтения и обработки информации массива данных\n",
    "try:\n",
    "    data['age'] = data['age'].astype('int64')\n",
    "    data['churn_date'] = pd.to_datetime(data['churn_date']).dt.tz_localize(None)\n",
    "    data['reg_date'] = pd.to_datetime(data['reg_date']).dt.tz_localize(None)\n",
    "    data['month'] = data['month'].astype('int64') \n",
    "    data['duration'] = data['duration'].astype('int64')     \n",
    "    data['calls_count'] = data['calls_count'].astype('int64')     \n",
    "    data['messages'] = data['messages'].astype('int64')     \n",
    "    data['mb_used'] = data['mb_used'].astype('int64')     \n",
    "    data['messages_included'] = data['messages_included'].astype('int64')        \n",
    "    data['mb_per_month_included'] = data['mb_per_month_included'].astype('int64')    \n",
    "    data['minutes_included'] = data['minutes_included'].astype('int64')    \n",
    "    data['rub_monthly_fee'] = data['rub_monthly_fee'].astype('int64')    \n",
    "    data['rub_per_gb'] = data['rub_per_gb'].astype('int64')    \n",
    "    data['rub_per_message'] = data['rub_per_message'].astype('int64')    \n",
    "    data['rub_per_minute'] = data['rub_per_minute'].astype('int64')    \n",
    "except:\n",
    "    print('В данных присутствует другая необработанная ошибка, необходимо проанализировать данные поподробнее')\n",
    "\n",
    "display(data.info()) # проверка    \n",
    "display(data.head(10))"
   ]
  },
  {
   "cell_type": "markdown",
   "metadata": {},
   "source": [
    "#### Вывод"
   ]
  },
  {
   "cell_type": "markdown",
   "metadata": {},
   "source": [
    "Данные по следующим столбцам были приведены к необходимым типам(методом astype) с целью удобства восприятия и аналица датасета, все округления и трансформации при этом были проведены ранее, в связи с чем точность не ухудшилась:\n",
    "\n",
    "- age, month, duration, messages, mb_used, messages_included, mb_per_month_included, minutes_included, rub_monthly_fee, rub_per_gb, rub_per_message, rub_per_minut в int64;\n",
    "\n",
    "- churn_date, reg_date в datetime."
   ]
  },
  {
   "cell_type": "markdown",
   "metadata": {},
   "source": [
    "### Поиск и удаление явных дубликатов"
   ]
  },
  {
   "cell_type": "code",
   "execution_count": 94,
   "metadata": {},
   "outputs": [
    {
     "data": {
      "text/plain": [
       "0"
      ]
     },
     "metadata": {},
     "output_type": "display_data"
    }
   ],
   "source": [
    "# проверка наличия дубликатов\n",
    "display(data.duplicated().sum())"
   ]
  },
  {
   "cell_type": "markdown",
   "metadata": {},
   "source": [
    "#### Вывод"
   ]
  },
  {
   "cell_type": "markdown",
   "metadata": {},
   "source": [
    "Поиск дубликатов в сводном датасете не дал результатов, вывод - дубликатов в таблице нет и можно переходить к этапам анализа и генерации гипотез."
   ]
  },
  {
   "cell_type": "markdown",
   "metadata": {},
   "source": [
    "### Вывод по итогам предобработки данных\n"
   ]
  },
  {
   "cell_type": "markdown",
   "metadata": {},
   "source": [
    "На этапе предобработки данных были сделаны следующие изменения в датасете:\n",
    "1. Объединены таблицы данных и сформирован сводный датасет для анализа, в рамках объединения таблиц данных были проведены следующие процедуры: анализ и обработка данных таблиц data_calls, data_messages, data_internet, data_tariffs, пройдены этапы: округление, трансформация типов данных, группировка в сводные таблицы, корректировка названий для объединения проверка получившихся результатов. В результате объединения получен сводный обработанный и сгрупированный датасет удобный для дальнейшего анализа и менее ресурсоемкий в части объема данных в результате группировок;\n",
    "2. Проведена проверка на предмет изменений названий столбцов - необходимость замены не подтвердилась;\n",
    "3. Анализ и обработка пропусков - обнаруженные аномалии в виде пропусков в незначительном количестве были удалены путем фильтрации, остальные пропуски были заполнены 0 значениями по причинам неиспользования части услуг клиентами оператора;\n",
    "4. Данные были приведены к целочисленным типам, дата и время приведены к форматам даты для удобства работы и восприятия данных талицы;\n",
    "5. Явные дубликаты выявлены не были, что подтвердилось проверкой.   "
   ]
  },
  {
   "cell_type": "markdown",
   "metadata": {},
   "source": [
    "## Расчеты и добавление результатов в таблицу"
   ]
  },
  {
   "cell_type": "markdown",
   "metadata": {},
   "source": [
    "### Расчет и добавление в таблицу ключевых сущностей для анализа по каждому пользователю\n",
    "- количество сделанных звонков и израсходованных минут разговора по месяцам;\n",
    "- количество отправленных сообщений по месяцам;\n",
    "- объем израсходованного интернет-трафика по месяцам;\n",
    "- помесячная выручка с каждого пользователя(вычтен бесплатный лимит из суммарного количества звонков, сообщений и интернет-трафика); \n",
    "- остаток умножен на значение из тарифного плана(прибавлена абонентская плата, соответствующая тарифному плану)."
   ]
  },
  {
   "cell_type": "code",
   "execution_count": 95,
   "metadata": {
    "scrolled": true
   },
   "outputs": [
    {
     "data": {
      "text/html": [
       "<div>\n",
       "<style scoped>\n",
       "    .dataframe tbody tr th:only-of-type {\n",
       "        vertical-align: middle;\n",
       "    }\n",
       "\n",
       "    .dataframe tbody tr th {\n",
       "        vertical-align: top;\n",
       "    }\n",
       "\n",
       "    .dataframe thead th {\n",
       "        text-align: right;\n",
       "    }\n",
       "</style>\n",
       "<table border=\"1\" class=\"dataframe\">\n",
       "  <thead>\n",
       "    <tr style=\"text-align: right;\">\n",
       "      <th></th>\n",
       "      <th>user_id</th>\n",
       "      <th>age</th>\n",
       "      <th>churn_date</th>\n",
       "      <th>city</th>\n",
       "      <th>first_name</th>\n",
       "      <th>last_name</th>\n",
       "      <th>reg_date</th>\n",
       "      <th>tariff</th>\n",
       "      <th>month</th>\n",
       "      <th>duration</th>\n",
       "      <th>calls_count</th>\n",
       "      <th>messages</th>\n",
       "      <th>mb_used</th>\n",
       "      <th>messages_included</th>\n",
       "      <th>mb_per_month_included</th>\n",
       "      <th>minutes_included</th>\n",
       "      <th>rub_monthly_fee</th>\n",
       "      <th>rub_per_gb</th>\n",
       "      <th>rub_per_message</th>\n",
       "      <th>rub_per_minute</th>\n",
       "      <th>duration_over_lim</th>\n",
       "      <th>messages_over_lim</th>\n",
       "      <th>internet_over_lim</th>\n",
       "      <th>revenue_for_the_month</th>\n",
       "    </tr>\n",
       "  </thead>\n",
       "  <tbody>\n",
       "    <tr>\n",
       "      <td>0</td>\n",
       "      <td>1000</td>\n",
       "      <td>52</td>\n",
       "      <td>NaT</td>\n",
       "      <td>Краснодар</td>\n",
       "      <td>Рафаил</td>\n",
       "      <td>Верещагин</td>\n",
       "      <td>2018-05-25</td>\n",
       "      <td>ultra</td>\n",
       "      <td>5</td>\n",
       "      <td>159</td>\n",
       "      <td>22</td>\n",
       "      <td>22</td>\n",
       "      <td>2253</td>\n",
       "      <td>1000</td>\n",
       "      <td>30720</td>\n",
       "      <td>3000</td>\n",
       "      <td>1950</td>\n",
       "      <td>150</td>\n",
       "      <td>1</td>\n",
       "      <td>1</td>\n",
       "      <td>0</td>\n",
       "      <td>0</td>\n",
       "      <td>0</td>\n",
       "      <td>1950.0</td>\n",
       "    </tr>\n",
       "    <tr>\n",
       "      <td>1</td>\n",
       "      <td>1000</td>\n",
       "      <td>52</td>\n",
       "      <td>NaT</td>\n",
       "      <td>Краснодар</td>\n",
       "      <td>Рафаил</td>\n",
       "      <td>Верещагин</td>\n",
       "      <td>2018-05-25</td>\n",
       "      <td>ultra</td>\n",
       "      <td>6</td>\n",
       "      <td>172</td>\n",
       "      <td>43</td>\n",
       "      <td>60</td>\n",
       "      <td>23234</td>\n",
       "      <td>1000</td>\n",
       "      <td>30720</td>\n",
       "      <td>3000</td>\n",
       "      <td>1950</td>\n",
       "      <td>150</td>\n",
       "      <td>1</td>\n",
       "      <td>1</td>\n",
       "      <td>0</td>\n",
       "      <td>0</td>\n",
       "      <td>0</td>\n",
       "      <td>1950.0</td>\n",
       "    </tr>\n",
       "    <tr>\n",
       "      <td>2</td>\n",
       "      <td>1000</td>\n",
       "      <td>52</td>\n",
       "      <td>NaT</td>\n",
       "      <td>Краснодар</td>\n",
       "      <td>Рафаил</td>\n",
       "      <td>Верещагин</td>\n",
       "      <td>2018-05-25</td>\n",
       "      <td>ultra</td>\n",
       "      <td>7</td>\n",
       "      <td>340</td>\n",
       "      <td>47</td>\n",
       "      <td>75</td>\n",
       "      <td>14004</td>\n",
       "      <td>1000</td>\n",
       "      <td>30720</td>\n",
       "      <td>3000</td>\n",
       "      <td>1950</td>\n",
       "      <td>150</td>\n",
       "      <td>1</td>\n",
       "      <td>1</td>\n",
       "      <td>0</td>\n",
       "      <td>0</td>\n",
       "      <td>0</td>\n",
       "      <td>1950.0</td>\n",
       "    </tr>\n",
       "    <tr>\n",
       "      <td>3</td>\n",
       "      <td>1000</td>\n",
       "      <td>52</td>\n",
       "      <td>NaT</td>\n",
       "      <td>Краснодар</td>\n",
       "      <td>Рафаил</td>\n",
       "      <td>Верещагин</td>\n",
       "      <td>2018-05-25</td>\n",
       "      <td>ultra</td>\n",
       "      <td>8</td>\n",
       "      <td>408</td>\n",
       "      <td>52</td>\n",
       "      <td>81</td>\n",
       "      <td>14056</td>\n",
       "      <td>1000</td>\n",
       "      <td>30720</td>\n",
       "      <td>3000</td>\n",
       "      <td>1950</td>\n",
       "      <td>150</td>\n",
       "      <td>1</td>\n",
       "      <td>1</td>\n",
       "      <td>0</td>\n",
       "      <td>0</td>\n",
       "      <td>0</td>\n",
       "      <td>1950.0</td>\n",
       "    </tr>\n",
       "    <tr>\n",
       "      <td>4</td>\n",
       "      <td>1000</td>\n",
       "      <td>52</td>\n",
       "      <td>NaT</td>\n",
       "      <td>Краснодар</td>\n",
       "      <td>Рафаил</td>\n",
       "      <td>Верещагин</td>\n",
       "      <td>2018-05-25</td>\n",
       "      <td>ultra</td>\n",
       "      <td>9</td>\n",
       "      <td>466</td>\n",
       "      <td>58</td>\n",
       "      <td>57</td>\n",
       "      <td>14569</td>\n",
       "      <td>1000</td>\n",
       "      <td>30720</td>\n",
       "      <td>3000</td>\n",
       "      <td>1950</td>\n",
       "      <td>150</td>\n",
       "      <td>1</td>\n",
       "      <td>1</td>\n",
       "      <td>0</td>\n",
       "      <td>0</td>\n",
       "      <td>0</td>\n",
       "      <td>1950.0</td>\n",
       "    </tr>\n",
       "    <tr>\n",
       "      <td>5</td>\n",
       "      <td>1000</td>\n",
       "      <td>52</td>\n",
       "      <td>NaT</td>\n",
       "      <td>Краснодар</td>\n",
       "      <td>Рафаил</td>\n",
       "      <td>Верещагин</td>\n",
       "      <td>2018-05-25</td>\n",
       "      <td>ultra</td>\n",
       "      <td>10</td>\n",
       "      <td>350</td>\n",
       "      <td>57</td>\n",
       "      <td>73</td>\n",
       "      <td>14703</td>\n",
       "      <td>1000</td>\n",
       "      <td>30720</td>\n",
       "      <td>3000</td>\n",
       "      <td>1950</td>\n",
       "      <td>150</td>\n",
       "      <td>1</td>\n",
       "      <td>1</td>\n",
       "      <td>0</td>\n",
       "      <td>0</td>\n",
       "      <td>0</td>\n",
       "      <td>1950.0</td>\n",
       "    </tr>\n",
       "    <tr>\n",
       "      <td>6</td>\n",
       "      <td>1000</td>\n",
       "      <td>52</td>\n",
       "      <td>NaT</td>\n",
       "      <td>Краснодар</td>\n",
       "      <td>Рафаил</td>\n",
       "      <td>Верещагин</td>\n",
       "      <td>2018-05-25</td>\n",
       "      <td>ultra</td>\n",
       "      <td>11</td>\n",
       "      <td>338</td>\n",
       "      <td>43</td>\n",
       "      <td>58</td>\n",
       "      <td>14757</td>\n",
       "      <td>1000</td>\n",
       "      <td>30720</td>\n",
       "      <td>3000</td>\n",
       "      <td>1950</td>\n",
       "      <td>150</td>\n",
       "      <td>1</td>\n",
       "      <td>1</td>\n",
       "      <td>0</td>\n",
       "      <td>0</td>\n",
       "      <td>0</td>\n",
       "      <td>1950.0</td>\n",
       "    </tr>\n",
       "    <tr>\n",
       "      <td>7</td>\n",
       "      <td>1000</td>\n",
       "      <td>52</td>\n",
       "      <td>NaT</td>\n",
       "      <td>Краснодар</td>\n",
       "      <td>Рафаил</td>\n",
       "      <td>Верещагин</td>\n",
       "      <td>2018-05-25</td>\n",
       "      <td>ultra</td>\n",
       "      <td>12</td>\n",
       "      <td>333</td>\n",
       "      <td>46</td>\n",
       "      <td>70</td>\n",
       "      <td>9818</td>\n",
       "      <td>1000</td>\n",
       "      <td>30720</td>\n",
       "      <td>3000</td>\n",
       "      <td>1950</td>\n",
       "      <td>150</td>\n",
       "      <td>1</td>\n",
       "      <td>1</td>\n",
       "      <td>0</td>\n",
       "      <td>0</td>\n",
       "      <td>0</td>\n",
       "      <td>1950.0</td>\n",
       "    </tr>\n",
       "    <tr>\n",
       "      <td>8</td>\n",
       "      <td>1001</td>\n",
       "      <td>41</td>\n",
       "      <td>NaT</td>\n",
       "      <td>Москва</td>\n",
       "      <td>Иван</td>\n",
       "      <td>Ежов</td>\n",
       "      <td>2018-11-01</td>\n",
       "      <td>smart</td>\n",
       "      <td>11</td>\n",
       "      <td>430</td>\n",
       "      <td>59</td>\n",
       "      <td>0</td>\n",
       "      <td>18430</td>\n",
       "      <td>50</td>\n",
       "      <td>15360</td>\n",
       "      <td>500</td>\n",
       "      <td>550</td>\n",
       "      <td>200</td>\n",
       "      <td>3</td>\n",
       "      <td>3</td>\n",
       "      <td>0</td>\n",
       "      <td>0</td>\n",
       "      <td>3070</td>\n",
       "      <td>1150.0</td>\n",
       "    </tr>\n",
       "    <tr>\n",
       "      <td>9</td>\n",
       "      <td>1001</td>\n",
       "      <td>41</td>\n",
       "      <td>NaT</td>\n",
       "      <td>Москва</td>\n",
       "      <td>Иван</td>\n",
       "      <td>Ежов</td>\n",
       "      <td>2018-11-01</td>\n",
       "      <td>smart</td>\n",
       "      <td>12</td>\n",
       "      <td>414</td>\n",
       "      <td>63</td>\n",
       "      <td>0</td>\n",
       "      <td>14037</td>\n",
       "      <td>50</td>\n",
       "      <td>15360</td>\n",
       "      <td>500</td>\n",
       "      <td>550</td>\n",
       "      <td>200</td>\n",
       "      <td>3</td>\n",
       "      <td>3</td>\n",
       "      <td>0</td>\n",
       "      <td>0</td>\n",
       "      <td>0</td>\n",
       "      <td>550.0</td>\n",
       "    </tr>\n",
       "  </tbody>\n",
       "</table>\n",
       "</div>"
      ],
      "text/plain": [
       "   user_id  age churn_date       city first_name  last_name   reg_date tariff  \\\n",
       "0     1000   52        NaT  Краснодар     Рафаил  Верещагин 2018-05-25  ultra   \n",
       "1     1000   52        NaT  Краснодар     Рафаил  Верещагин 2018-05-25  ultra   \n",
       "2     1000   52        NaT  Краснодар     Рафаил  Верещагин 2018-05-25  ultra   \n",
       "3     1000   52        NaT  Краснодар     Рафаил  Верещагин 2018-05-25  ultra   \n",
       "4     1000   52        NaT  Краснодар     Рафаил  Верещагин 2018-05-25  ultra   \n",
       "5     1000   52        NaT  Краснодар     Рафаил  Верещагин 2018-05-25  ultra   \n",
       "6     1000   52        NaT  Краснодар     Рафаил  Верещагин 2018-05-25  ultra   \n",
       "7     1000   52        NaT  Краснодар     Рафаил  Верещагин 2018-05-25  ultra   \n",
       "8     1001   41        NaT     Москва       Иван       Ежов 2018-11-01  smart   \n",
       "9     1001   41        NaT     Москва       Иван       Ежов 2018-11-01  smart   \n",
       "\n",
       "   month  duration  calls_count  messages  mb_used  messages_included  \\\n",
       "0      5       159           22        22     2253               1000   \n",
       "1      6       172           43        60    23234               1000   \n",
       "2      7       340           47        75    14004               1000   \n",
       "3      8       408           52        81    14056               1000   \n",
       "4      9       466           58        57    14569               1000   \n",
       "5     10       350           57        73    14703               1000   \n",
       "6     11       338           43        58    14757               1000   \n",
       "7     12       333           46        70     9818               1000   \n",
       "8     11       430           59         0    18430                 50   \n",
       "9     12       414           63         0    14037                 50   \n",
       "\n",
       "   mb_per_month_included  minutes_included  rub_monthly_fee  rub_per_gb  \\\n",
       "0                  30720              3000             1950         150   \n",
       "1                  30720              3000             1950         150   \n",
       "2                  30720              3000             1950         150   \n",
       "3                  30720              3000             1950         150   \n",
       "4                  30720              3000             1950         150   \n",
       "5                  30720              3000             1950         150   \n",
       "6                  30720              3000             1950         150   \n",
       "7                  30720              3000             1950         150   \n",
       "8                  15360               500              550         200   \n",
       "9                  15360               500              550         200   \n",
       "\n",
       "   rub_per_message  rub_per_minute  duration_over_lim  messages_over_lim  \\\n",
       "0                1               1                  0                  0   \n",
       "1                1               1                  0                  0   \n",
       "2                1               1                  0                  0   \n",
       "3                1               1                  0                  0   \n",
       "4                1               1                  0                  0   \n",
       "5                1               1                  0                  0   \n",
       "6                1               1                  0                  0   \n",
       "7                1               1                  0                  0   \n",
       "8                3               3                  0                  0   \n",
       "9                3               3                  0                  0   \n",
       "\n",
       "   internet_over_lim  revenue_for_the_month  \n",
       "0                  0                 1950.0  \n",
       "1                  0                 1950.0  \n",
       "2                  0                 1950.0  \n",
       "3                  0                 1950.0  \n",
       "4                  0                 1950.0  \n",
       "5                  0                 1950.0  \n",
       "6                  0                 1950.0  \n",
       "7                  0                 1950.0  \n",
       "8               3070                 1150.0  \n",
       "9                  0                  550.0  "
      ]
     },
     "execution_count": 95,
     "metadata": {},
     "output_type": "execute_result"
    }
   ],
   "source": [
    "# количество сделанных звонков уже отражено в столбце calls_count\n",
    "# количество израсходованных минут разговора по месяцам уже отражено в столбце duration\n",
    "# количество отправленных сообщений по месяцам уже отражено в столбце messages\n",
    "# объем израсходованного интернет-трафика по месяцам уже отражен в столбце mb_used\n",
    "# на данном этапе посчитаем и добавим в сводный датасет столбцы с информацией о сверхлимитном количестве минут, сообщений,  гб\n",
    "# помесячную выручку с каждого пользователя и добавим в виде нового столбца revenue_for_the_month\n",
    "duration_over_lim = []\n",
    "messages_over_lim = []\n",
    "internet_over_lim = []\n",
    "\n",
    "for i in range(len(data)):\n",
    "    if (data['duration'][i] > data['minutes_included'][i]):\n",
    "        duration_over_lim.append(data['duration'][i] - data['minutes_included'][i])\n",
    "    if (data['duration'][i] <= data['minutes_included'][i]):\n",
    "        duration_over_lim.append(0)                                               \n",
    "for i in range(len(data)):\n",
    "    if (data['messages'][i] > data['messages_included'][i]):\n",
    "        messages_over_lim.append(data['messages'][i] - data['messages_included'][i])\n",
    "    if (data['messages'][i] <= data['messages_included'][i]):\n",
    "        messages_over_lim.append(0)    \n",
    "for i in range(len(data)):\n",
    "    if (data['mb_used'][i] > data['mb_per_month_included'][i]):\n",
    "        internet_over_lim.append(data['mb_used'][i] - data['mb_per_month_included'][i])\n",
    "    if (data['mb_used'][i] <= data['mb_per_month_included'][i]):\n",
    "        internet_over_lim.append(0)            \n",
    "        \n",
    "data['duration_over_lim'] = duration_over_lim\n",
    "data['messages_over_lim'] = messages_over_lim\n",
    "data['internet_over_lim'] = internet_over_lim\n",
    "data['revenue_for_the_month'] = data['rub_monthly_fee'] + data['duration_over_lim'] * data['rub_per_minute'] + data['messages_over_lim'] * data['rub_per_message'] + np.ceil(data['internet_over_lim'] / 1024) * data['rub_per_gb']\n",
    "data.head(10)"
   ]
  },
  {
   "cell_type": "markdown",
   "metadata": {},
   "source": [
    "### Вывод"
   ]
  },
  {
   "cell_type": "markdown",
   "metadata": {},
   "source": [
    "В сводном датасете отражены необходимые данные для анализа по каждому пользователю:\n",
    "- количество сделанных звонков и израсходованных минут разговора по месяцам;\n",
    "- количество отправленных сообщений по месяцам;\n",
    "- объем израсходованного интернет-трафика по месяцам;\n",
    "- помесячная выручка с каждого пользователя (базовый тариф + стоимость сверхлимитного объема минут + стоимость сверхлимитного объема сообщений + стоимость сверхлимитного объема в гб)."
   ]
  },
  {
   "cell_type": "markdown",
   "metadata": {},
   "source": [
    "## Анализ данных"
   ]
  },
  {
   "cell_type": "markdown",
   "metadata": {},
   "source": [
    "### Описание поведения клиентов оператора\n",
    "1. Сколько минут разговора, сколько сообщений и какой объём интернет-трафика требуется пользователям каждого тарифа в месяц - посчитаем среднее количество, дисперсию и стандартное отклонение;\n",
    "2. Проанализируем выручку по тарифам;\n",
    "3. Построим гистограммы и опишем распределения."
   ]
  },
  {
   "cell_type": "code",
   "execution_count": 96,
   "metadata": {
    "scrolled": true
   },
   "outputs": [
    {
     "data": {
      "text/html": [
       "<div>\n",
       "<style scoped>\n",
       "    .dataframe tbody tr th:only-of-type {\n",
       "        vertical-align: middle;\n",
       "    }\n",
       "\n",
       "    .dataframe tbody tr th {\n",
       "        vertical-align: top;\n",
       "    }\n",
       "\n",
       "    .dataframe thead th {\n",
       "        text-align: right;\n",
       "    }\n",
       "</style>\n",
       "<table border=\"1\" class=\"dataframe\">\n",
       "  <thead>\n",
       "    <tr style=\"text-align: right;\">\n",
       "      <th></th>\n",
       "      <th>Среднее</th>\n",
       "      <th>Дисперсия</th>\n",
       "      <th>Стандартное отклонение</th>\n",
       "    </tr>\n",
       "    <tr>\n",
       "      <th>tariff</th>\n",
       "      <th></th>\n",
       "      <th></th>\n",
       "      <th></th>\n",
       "    </tr>\n",
       "  </thead>\n",
       "  <tbody>\n",
       "    <tr>\n",
       "      <td>smart</td>\n",
       "      <td>419.062978</td>\n",
       "      <td>35844.189551</td>\n",
       "      <td>189.325618</td>\n",
       "    </tr>\n",
       "    <tr>\n",
       "      <td>ultra</td>\n",
       "      <td>545.451104</td>\n",
       "      <td>94203.418396</td>\n",
       "      <td>306.925754</td>\n",
       "    </tr>\n",
       "  </tbody>\n",
       "</table>\n",
       "</div>"
      ],
      "text/plain": [
       "           Среднее     Дисперсия  Стандартное отклонение\n",
       "tariff                                                  \n",
       "smart   419.062978  35844.189551              189.325618\n",
       "ultra   545.451104  94203.418396              306.925754"
      ]
     },
     "metadata": {},
     "output_type": "display_data"
    },
    {
     "data": {
      "image/png": "[encoded data removed]",
      "text/plain": [
       "<Figure size 432x288 with 1 Axes>"
      ]
     },
     "metadata": {
      "needs_background": "light"
     },
     "output_type": "display_data"
    },
    {
     "data": {
      "text/html": [
       "<div>\n",
       "<style scoped>\n",
       "    .dataframe tbody tr th:only-of-type {\n",
       "        vertical-align: middle;\n",
       "    }\n",
       "\n",
       "    .dataframe tbody tr th {\n",
       "        vertical-align: top;\n",
       "    }\n",
       "\n",
       "    .dataframe thead th {\n",
       "        text-align: right;\n",
       "    }\n",
       "</style>\n",
       "<table border=\"1\" class=\"dataframe\">\n",
       "  <thead>\n",
       "    <tr style=\"text-align: right;\">\n",
       "      <th></th>\n",
       "      <th>Среднее</th>\n",
       "      <th>Дисперсия</th>\n",
       "      <th>Стандартное отклонение</th>\n",
       "    </tr>\n",
       "    <tr>\n",
       "      <th>tariff</th>\n",
       "      <th></th>\n",
       "      <th></th>\n",
       "      <th></th>\n",
       "    </tr>\n",
       "  </thead>\n",
       "  <tbody>\n",
       "    <tr>\n",
       "      <td>smart</td>\n",
       "      <td>33.396311</td>\n",
       "      <td>798.595792</td>\n",
       "      <td>28.259437</td>\n",
       "    </tr>\n",
       "    <tr>\n",
       "      <td>ultra</td>\n",
       "      <td>49.033649</td>\n",
       "      <td>2198.733603</td>\n",
       "      <td>46.890656</td>\n",
       "    </tr>\n",
       "  </tbody>\n",
       "</table>\n",
       "</div>"
      ],
      "text/plain": [
       "          Среднее    Дисперсия  Стандартное отклонение\n",
       "tariff                                                \n",
       "smart   33.396311   798.595792               28.259437\n",
       "ultra   49.033649  2198.733603               46.890656"
      ]
     },
     "metadata": {},
     "output_type": "display_data"
    },
    {
     "data": {
      "image/png": "[encoded data removed]",
      "text/plain": [
       "<Figure size 432x288 with 1 Axes>"
      ]
     },
     "metadata": {
      "needs_background": "light"
     },
     "output_type": "display_data"
    },
    {
     "data": {
      "text/html": [
       "<div>\n",
       "<style scoped>\n",
       "    .dataframe tbody tr th:only-of-type {\n",
       "        vertical-align: middle;\n",
       "    }\n",
       "\n",
       "    .dataframe tbody tr th {\n",
       "        vertical-align: top;\n",
       "    }\n",
       "\n",
       "    .dataframe thead th {\n",
       "        text-align: right;\n",
       "    }\n",
       "</style>\n",
       "<table border=\"1\" class=\"dataframe\">\n",
       "  <thead>\n",
       "    <tr style=\"text-align: right;\">\n",
       "      <th></th>\n",
       "      <th>Среднее</th>\n",
       "      <th>Дисперсия</th>\n",
       "      <th>Стандартное отклонение</th>\n",
       "    </tr>\n",
       "    <tr>\n",
       "      <th>tariff</th>\n",
       "      <th></th>\n",
       "      <th></th>\n",
       "      <th></th>\n",
       "    </tr>\n",
       "  </thead>\n",
       "  <tbody>\n",
       "    <tr>\n",
       "      <td>smart</td>\n",
       "      <td>16209.852901</td>\n",
       "      <td>3.453046e+07</td>\n",
       "      <td>5876.262656</td>\n",
       "    </tr>\n",
       "    <tr>\n",
       "      <td>ultra</td>\n",
       "      <td>19462.962145</td>\n",
       "      <td>1.025531e+08</td>\n",
       "      <td>10126.852498</td>\n",
       "    </tr>\n",
       "  </tbody>\n",
       "</table>\n",
       "</div>"
      ],
      "text/plain": [
       "             Среднее     Дисперсия  Стандартное отклонение\n",
       "tariff                                                    \n",
       "smart   16209.852901  3.453046e+07             5876.262656\n",
       "ultra   19462.962145  1.025531e+08            10126.852498"
      ]
     },
     "metadata": {},
     "output_type": "display_data"
    },
    {
     "data": {
      "image/png": "[encoded data removed]",
      "text/plain": [
       "<Figure size 432x288 with 1 Axes>"
      ]
     },
     "metadata": {
      "needs_background": "light"
     },
     "output_type": "display_data"
    },
    {
     "data": {
      "text/html": [
       "<div>\n",
       "<style scoped>\n",
       "    .dataframe tbody tr th:only-of-type {\n",
       "        vertical-align: middle;\n",
       "    }\n",
       "\n",
       "    .dataframe tbody tr th {\n",
       "        vertical-align: top;\n",
       "    }\n",
       "\n",
       "    .dataframe thead th {\n",
       "        text-align: right;\n",
       "    }\n",
       "</style>\n",
       "<table border=\"1\" class=\"dataframe\">\n",
       "  <thead>\n",
       "    <tr style=\"text-align: right;\">\n",
       "      <th></th>\n",
       "      <th>Среднее</th>\n",
       "      <th>Дисперсия</th>\n",
       "      <th>Стандартное отклонение</th>\n",
       "      <th>Сумма выручки</th>\n",
       "    </tr>\n",
       "    <tr>\n",
       "      <th>tariff</th>\n",
       "      <th></th>\n",
       "      <th></th>\n",
       "      <th></th>\n",
       "      <th></th>\n",
       "    </tr>\n",
       "  </thead>\n",
       "  <tbody>\n",
       "    <tr>\n",
       "      <td>smart</td>\n",
       "      <td>1290.891138</td>\n",
       "      <td>670957.332878</td>\n",
       "      <td>819.119853</td>\n",
       "      <td>2869651.0</td>\n",
       "    </tr>\n",
       "    <tr>\n",
       "      <td>ultra</td>\n",
       "      <td>2070.977918</td>\n",
       "      <td>143962.095301</td>\n",
       "      <td>379.423372</td>\n",
       "      <td>1969500.0</td>\n",
       "    </tr>\n",
       "  </tbody>\n",
       "</table>\n",
       "</div>"
      ],
      "text/plain": [
       "            Среднее      Дисперсия  Стандартное отклонение  Сумма выручки\n",
       "tariff                                                                   \n",
       "smart   1290.891138  670957.332878              819.119853      2869651.0\n",
       "ultra   2070.977918  143962.095301              379.423372      1969500.0"
      ]
     },
     "metadata": {},
     "output_type": "display_data"
    },
    {
     "data": {
      "image/png": "[encoded data removed]",
      "text/plain": [
       "<Figure size 432x288 with 1 Axes>"
      ]
     },
     "metadata": {
      "needs_background": "light"
     },
     "output_type": "display_data"
    }
   ],
   "source": [
    "# посчитаем среднее количество, дисперсию и стандартное отклонение по каждому из тарифов по длительности вызовов\n",
    "tariff_analytics_duration = data.pivot_table(index='tariff', values='duration', aggfunc=['mean', 'var', 'std'])\n",
    "tariff_analytics_duration.columns = ['Среднее', 'Дисперсия', 'Стандартное отклонение']\n",
    "display(tariff_analytics_duration)\n",
    "\n",
    "# построим гистограммы распределений по тарифам по длительности звонков\n",
    "a = data.query('tariff == \"smart\"')['duration']\n",
    "b = data.query('tariff == \"ultra\"')['duration']\n",
    "bins = np.linspace(0, 20000, 100)\n",
    "plt.hist(a, alpha=1, label='smart')\n",
    "plt.hist(b, alpha=0.5, label='ultra')\n",
    "plt.title('Длительность звонков, в мин.')\n",
    "plt.legend(loc='upper right')\n",
    "plt.show()\n",
    "\n",
    "# посчитаем среднее количество, дисперсию и стандартное отклонение по каждому из тарифов по количеству сообщений\n",
    "tariff_analytics_messages = data.pivot_table(index='tariff', values='messages', aggfunc=['mean', 'var', 'std'])\n",
    "tariff_analytics_messages.columns = ['Среднее', 'Дисперсия', 'Стандартное отклонение']\n",
    "display(tariff_analytics_messages)\n",
    "\n",
    "# построим гистограммы распределений по тарифам по количеству сообщений\n",
    "c = data.query('tariff == \"smart\"')['messages']\n",
    "d = data.query('tariff == \"ultra\"')['messages']\n",
    "bins = np.linspace(0, 20000, 100)\n",
    "plt.hist(c, alpha=1, label='smart')\n",
    "plt.hist(d, alpha=0.5, label='ultra')\n",
    "plt.title('Количество сообщений, в ед.')\n",
    "plt.legend(loc='upper right')\n",
    "plt.show()\n",
    "\n",
    "# посчитаем среднее количество, дисперсию и стандартное отклонение по каждому из тарифов по объему трафика\n",
    "tariff_analytics_mb_used = data.pivot_table(index='tariff', values='mb_used', aggfunc=['mean', 'var', 'std'])\n",
    "tariff_analytics_mb_used.columns = ['Среднее', 'Дисперсия', 'Стандартное отклонение']\n",
    "display(tariff_analytics_mb_used)\n",
    "\n",
    "# построим гистограммы распределений по тарифам по количеству интернет-трафика\n",
    "e = data.query('tariff == \"smart\"')['mb_used']\n",
    "f = data.query('tariff == \"ultra\"')['mb_used']\n",
    "bins = np.linspace(0, 20000, 100)\n",
    "plt.hist(e, alpha=1, label='smart')\n",
    "plt.hist(f, alpha=0.5, label='ultra')\n",
    "plt.title('Количество интернет-трафика, в мб')\n",
    "plt.legend(loc='upper right')\n",
    "plt.show()\n",
    "\n",
    "# посчитаем среднее, дисперсию и стандартное отклонение по каждому из тарифов по выручке\n",
    "tariff_analytics_revenue = data.pivot_table(index='tariff', values='revenue_for_the_month', aggfunc=['mean', 'var', 'std', 'sum'])\n",
    "tariff_analytics_revenue.columns = ['Среднее', 'Дисперсия', 'Стандартное отклонение', 'Сумма выручки']\n",
    "display(tariff_analytics_revenue)\n",
    "\n",
    "# построим гистограммы распределений по тарифам по выручке\n",
    "g = data.query('tariff == \"smart\"')['revenue_for_the_month']\n",
    "h = data.query('tariff == \"ultra\"')['revenue_for_the_month']\n",
    "bins = np.linspace(0, 20000, 100)\n",
    "plt.hist(g, alpha=1, label='smart')\n",
    "plt.hist(h, alpha=0.5, label='ultra')\n",
    "plt.title('Выручка по тарифам, в руб.')\n",
    "plt.legend(loc='upper right')\n",
    "plt.show()"
   ]
  },
  {
   "cell_type": "markdown",
   "metadata": {},
   "source": [
    "### Вывод"
   ]
  },
  {
   "cell_type": "markdown",
   "metadata": {},
   "source": [
    "По количеству сообщений, минут разговора и по объему интернет-трафика были рассчитаны и отражены выше следующие показатели: среднее, дисперсия, стандартное отклонение.\n",
    "\n",
    "Исходя из выборки можно сделать следующие выводы по категориям потребляемых услуг по тарифам:\n",
    "- по тарифу smart: \n",
    "    - чаще всего клиенты делают звонки в рамках тарифного лимита в 500 минут, в среднем в месяц - 419 минут. График симметричен и имеет характер нормального распределения с незначительным смещением вправо,\n",
    "    - чаще умещаются в лимит до 50 сообщений в месяц(однако, выброс около нулевых значений показывает, что налицо тенденция по смене приоритетов и уходу от сервиса смс к мессенджерам), в среднем в месяц - 33 СМС. График не симметричен и имеет форму распределения Пуассона, распределение смещено влево в сторону тарифных лимитов,\n",
    "    - при этом тарифный лимит трафика 15,3 гб. чаще всего превышается и возникает переплата(вероятнее всего по причине округлений, либо нехватки лимита трафика и отсутствия усредненного тарифа, который бы мог удовлетворить запрос в малом количестве остальных сервисов и в большем количестве лимита трафика), среднее 16,2 гб. График симметричен и имеет характер нормального распределения с незначительным смещением вправо;\n",
    "    - выручка по тарифу ближе к распределению Пуассона, при средней ежемесячной плате в 1290 руб. доля выручки значительно превышает выручку по тарифу ultra и составляет 2.9 млн. руб., а кривая распределения плавно смещается в правую сторону графика по причине того, что достаточно много пользователей превышают тарифные лимиты и используют дополнительные услуги за дополнительную плату ввиду ограниченности существующего тарифа smart.\n",
    "- по тарифу ultra: \n",
    "    - чаще всего клиенты делают звонки до 750 минут(при лимите в 3000 минут), в среднем в месяц - 545 минут. График имеет характер распределения Пуассона с большой долей суммарных разговоров в левой части,\n",
    "    - чаще умещаются в лимит до 50 сообщений в месяц(однако, выброс около нулевых значений показывает, что налицо тенденция по смене приоритетов и уходу от сервиса смс к мессенджерам), в среднем в месяц - 49 СМС. График не симметричен и имеет форму распределения Пуассона, распределение смещено влево,\n",
    "    - при этом тарифный лимит трафика 30,7 гб. реже всего превышается и реже возникает переплата, среднее 19,5 гб. График симметричен и имеет характер нормального распределения, т.е. люди часто используют лимит более 15,3 гб, но ввиду отсутствия более выгодного тарифа, пользуются остальными сервисами(звонки, СМС) в объеме аналогичном тарифу smart, а подключены к тарифу ультра по причине дорогого трафика сверхлимитов по тарифу smart;\n",
    "    - выручка по тарифу близка к распределению Пуассона, при средней ежемесячной плате в 2070 руб. доля выручки значительно меньше выручки по тарифу smart и составляет 2 млн. руб., а пик приходится на величину ежемесячной базовой абонентской платы, что говорит о том, что лимиты тарифа ultra с запасом удовлетворяют запросы пользователей, об этом также говорит относительно малая доля людей превысивших абонентскую плату и данные превышения находятся, предположительно, на уровне шума в выборке. \n",
    "\n",
    "\n",
    "\n",
    "\n",
    "\n"
   ]
  },
  {
   "cell_type": "markdown",
   "metadata": {},
   "source": [
    "## Проверка гипотез"
   ]
  },
  {
   "cell_type": "markdown",
   "metadata": {},
   "source": [
    "### Гипотезы для проверки:\n",
    "1. ГИПОТЕЗА №1: средняя выручка пользователей тарифов «Ультра» и «Смарт» различаются. Примем следующую гипотезу за нулевую, нулевая гипотеза будет звучать следующим образом - средняя выручка по тарифу \"Ультра\" равна средней выручке по тарифу \"Смарт\". Исходя из нулевой гипотезы альтернативная гипотеза будет звучать следующим образом - средняя выручка по тарифу \"Ультра\" не равна средней выручке по тарифу \"Смарт\". \n",
    "\n",
    "2. ГИПОТЕЗА №2: средняя выручка пользователей из Москвы отличается от выручки пользователей из других регионов. Примем следующую гипотезу за нулевую, нулевая гипотеза будет звучать следующим образом - средняя выручка по Москве равна средней выручке по другим регионам. Исходя из нулевой гипотезы альтернативная гипотеза будет звучать следующим образом - средняя выручка по Москве не равна средней выручке по другим регионам. \n",
    "\n",
    "\n",
    "Примечание: пороговое значение alpha задано как 0.05. Т.е. принятый уровень значимости для нас более 5%.\n",
    "\n",
    "\n",
    "Критерии для проверки: метод для проверки гипотезы о равенстве среднего двух генеральных совокупностей по взятым из них выборкам: scipy.stats.ttest_ind используется для проверки Гипотезы №1, №2: выборки независимы, для корректного использования t-теста необязательно, чтобы распределение было нормальным(см. примечание ниже), дисперсии не равны(см. расчет ниже), но этот метод выбирается из расчета на то, что, как правило, этот тест редко ошибается.\n",
    "\n",
    "Вне зависимости от того, распределена ли исходная величина нормально или нет, на практике мы можем считать, что выборочное среднее распределено нормально и мы можем применять t-тест, если размер выборки достаточно большой - скажем, больше 50. Или 100. Или 500.\n"
   ]
  },
  {
   "cell_type": "code",
   "execution_count": 97,
   "metadata": {
    "scrolled": true
   },
   "outputs": [
    {
     "name": "stdout",
     "output_type": "stream",
     "text": [
      "Дисперсия выборки выручки тарифа smart:  670655.5077172383\n",
      "Дисперсия выборки выручки тарифа ultra:  143810.71560071252\n",
      "Среднее выборки выручки тарифа smart:  1290.8911381016644\n",
      "Среднее выборки выручки тарифа ultra:  2070.9779179810726\n",
      "Стандартное отклонение выборки выручки тарифа smart:  818.9355943645619\n",
      "Стандартное отклонение выборки выручки тарифа ultra:  379.2238331127311\n",
      "Величина выборки по smart:  2223\n",
      "Величина выборки по ultra:  951\n",
      "Уровень статистической значимости 5.0%\n",
      "p-значение в %: 3.155173205867294e-243\n",
      "Отвергаем нулевую гипотезу\n"
     ]
    }
   ],
   "source": [
    "# тест ГИПОТЕЗЫ №1\n",
    "# проверки гипотезы о равенстве среднего двух генеральных совокупностей(тариф smart, тариф ultra) по имеющимся выборкам\n",
    "array_revenue_smart = data.query('tariff == \"smart\"')['revenue_for_the_month']\n",
    "array_revenue_ultra = data.query('tariff == \"ultra\"')['revenue_for_the_month']\n",
    "\n",
    "# вывод аналитической информации\n",
    "print('Дисперсия выборки выручки тарифа smart: ', np.var(array_revenue_smart))\n",
    "print('Дисперсия выборки выручки тарифа ultra: ', np.var(array_revenue_ultra))\n",
    "print('Среднее выборки выручки тарифа smart: ', np.mean(array_revenue_smart))\n",
    "print('Среднее выборки выручки тарифа ultra: ', np.mean(array_revenue_ultra))\n",
    "print('Стандартное отклонение выборки выручки тарифа smart: ', np.std(array_revenue_smart))\n",
    "print('Стандартное отклонение выборки выручки тарифа ultra: ', np.std(array_revenue_ultra))\n",
    "print('Величина выборки по smart: ', len(array_revenue_smart))\n",
    "print('Величина выборки по ultra: ', len(array_revenue_ultra))\n",
    "\n",
    "# задан уровень статистической значимости 5%\n",
    "alpha = 0.05\n",
    "\n",
    "print('Уровень статистической значимости {:.1%}'.format(alpha))\n",
    "\n",
    "# тест ГИПОТЕЗЫ №1 при equal_var=False(считаем не равными дисперсии выборок)\n",
    "results_first_test = st.ttest_ind(array_revenue_smart, array_revenue_ultra, equal_var=False)\n",
    "\n",
    "# тест двусторонний\n",
    "print('p-значение в %:', results_first_test.pvalue * 100)\n",
    "\n",
    "# отвергаем гипотезу только тогда, когда выборочное среднее значимо меньше предполагаемого значения\n",
    "if (results_first_test.pvalue < alpha):\n",
    "    print(\"Отвергаем нулевую гипотезу\")\n",
    "else:\n",
    "    print(\"Не отвергаем нулевую гипотезу\") "
   ]
  },
  {
   "cell_type": "markdown",
   "metadata": {},
   "source": [
    "Полученное значение p-value говорит о том, что вероятность получить такое или большее различие случайно почти 3.155173205867294e-243%, т.е. стремится к 0. Вероятность слишком мала. При этом был использован equal_var = False, т.к. выборки по размерам значительно отличаются: по smart - 2223 строки датасета, по ultra - 951 строка датасета, дисперсия по данным выборкам также значительно отличается. Результаты теста говорят о том, что статистически значимая разница между двумя средними по выручке тарифа \"Смарт\" и \"Ультра\" существует, следовательно обозначенную ранее нулевую гипотезу равенства средних двух выборок по выручке тарифов \"Ультра\" и \"Смарт\" можно отвергнуть, что, соответственно, может подтвердить альтернативную гипотезу о различии средних выборок по выручке этих тарифов, что не опровергает сформулированную в задаче Гипотезу №1 \"средняя выручка пользователей тарифов «Ультра» и «Смарт» различаются\" - оставляем эту гипотезу."
   ]
  },
  {
   "cell_type": "code",
   "execution_count": 98,
   "metadata": {},
   "outputs": [
    {
     "name": "stdout",
     "output_type": "stream",
     "text": [
      "Дисперсия выборки выручки по Москве:  565369.4070841172\n",
      "Дисперсия выборки выручки по другим регионам:  658240.9725229142\n",
      "Среднее выборки выручки по Москве:  1546.0524590163934\n",
      "Среднее выборки выручки по другим регионам:  1519.5237909516381\n",
      "Стандартное отклонение выборки выручки по Москве:  751.910504703929\n",
      "Стандартное отклонение выборки выручки по другим регионам:  811.320511587692\n",
      "Величина выборки по Москве:  610\n",
      "Величина выборки по другим регионам:  2564\n",
      "Уровень статистической значимости 5.0%\n",
      "p-значение в %: 44.11370581509115\n",
      "Не отвергаем нулевую гипотезу\n"
     ]
    }
   ],
   "source": [
    "# тест ГИПОТЕЗЫ №2\n",
    "# проверки гипотезы об отличии выручки пользователей из Москвы от выручки пользователей из других регионов по имеющимся выборкам\n",
    "array_revenue_moscow = data.query('city == \"Москва\"')['revenue_for_the_month']\n",
    "array_revenue_other = data.query('city != \"Москва\"')['revenue_for_the_month']\n",
    "\n",
    "# вывод аналитической информации\n",
    "print('Дисперсия выборки выручки по Москве: ', np.var(array_revenue_moscow))\n",
    "print('Дисперсия выборки выручки по другим регионам: ', np.var(array_revenue_other))\n",
    "print('Среднее выборки выручки по Москве: ', np.mean(array_revenue_moscow))\n",
    "print('Среднее выборки выручки по другим регионам: ', np.mean(array_revenue_other))\n",
    "print('Стандартное отклонение выборки выручки по Москве: ', np.std(array_revenue_moscow))\n",
    "print('Стандартное отклонение выборки выручки по другим регионам: ', np.std(array_revenue_other))\n",
    "print('Величина выборки по Москве: ', len(array_revenue_moscow))\n",
    "print('Величина выборки по другим регионам: ', len(array_revenue_other))\n",
    "\n",
    "# задан уровень статистической значимости 5%\n",
    "alpha = 0.05\n",
    "\n",
    "print('Уровень статистической значимости {:.1%}'.format(alpha))\n",
    "\n",
    "# тест ГИПОТЕЗЫ №2 при equal_var=False(считаем не равными дисперсии выборок)\n",
    "results_second_test = st.ttest_ind(array_revenue_moscow, array_revenue_other, equal_var=False)\n",
    "\n",
    "# тест двусторонний\n",
    "print('p-значение в %:', results_second_test.pvalue * 100)\n",
    "\n",
    "# отвергаем гипотезу только тогда, когда выборочное среднее значимо меньше предполагаемого значения\n",
    "if (results_second_test.pvalue < alpha):\n",
    "    print(\"Отвергаем нулевую гипотезу\")\n",
    "else:\n",
    "    print(\"Не отвергаем нулевую гипотезу\") "
   ]
  },
  {
   "cell_type": "markdown",
   "metadata": {},
   "source": [
    "Полученное значение p-value говорит о том, что вероятность получить такое или большее различие случайно почти 44,113705815091153%. Это явно слишком большая вероятность, чтобы делать вывод о значимом различии между Москвой и остальными регионами. При этом был использован equal_var = False, т.к. выборки по размерам значительно отличаются: по Москве - 610 строк датасета, по остальным регионам 2564 строк датасета. Результаты теста говорят о том, что статистически значимая разница между двумя средними по Москве и остальным регионам мала, следовательно обозначенную ранее нулевую гипотезу равенства средних двух выборок по выручке по Москве и остальным регионам нельзя отвергать, что, соответственно, не подтверждает альтернативную гипотезу о различии средних выборок по выручке этих регионов, что не подтверждает сформулированную в задаче Гипотезу №2 \"средняя выручка пользователей из Москвы отличается от выручки пользователей из других регионов\" - не принимаем эту гипотезу."
   ]
  },
  {
   "cell_type": "markdown",
   "metadata": {},
   "source": [
    "### Вывод"
   ]
  },
  {
   "cell_type": "markdown",
   "metadata": {},
   "source": [
    "В данном разделе были проверены следующие гипотезы:\n",
    "- Гипотеза №1: средняя выручка пользователей тарифов «Ультра» и «Смарт» различаются - гипотеза. Гипотеза подтверждена \"от противного\", т.е. приняли следующую гипотезу за нулевую, нулевая гипотеза имела следующий вид - средняя выручка по тарифу \"Ультра\" равна средней выручке по тарифу \"Смарт\". Исходя из нулевой гипотезы альтернативная гипотеза - средняя выручка по тарифу \"Ультра\" не равна средней выручке по тарифу \"Смарт\". Результаты теста говорят о том, что статистически значимая разница между двумя средними по выручке тарифа \"Смарт\" и \"Ультра\" существует;\n",
    "- Гипотеза №2: средняя выручка пользователей из Москвы отличается от выручки пользователей из других регионов. Гипотеза не подтверждена \"от противного\", т.е. была принята следующая гипотеза за нулевую - средняя выручка по Москве равна средней выручке по другим регионам. Исходя из нулевой гипотезы альтернативная гипотеза сформулирована следующим образом - средняя выручка по Москве не равна средней выручке по другим регионам. Результаты теста говорят о том, что статистически значимая разница между двумя средними по Москве и остальным регионам мала, следовательно обозначенную ранее нулевую гипотезу равенства средних двух выборок по выручке по Москве и остальным регионам нельзя отвергать.\n"
   ]
  },
  {
   "cell_type": "markdown",
   "metadata": {},
   "source": [
    "## Вывод по проектной работе"
   ]
  },
  {
   "cell_type": "markdown",
   "metadata": {},
   "source": [
    "Основной задачей проекта было проведение исследования тарифов и исследование влияния некоторых гипотез на тарифы и на объемы доходов по ним. \n",
    "Это было сделано с целью скорректировать рекламный бюджет, т.к. коммерческий департамент хочет понять, какой тариф приносит больше денег.\n",
    "Было проанализировано поведение клиентов тарифов \"Смарт\" и \"Ультра\" и выявлены основные свойства тарифов и закономерности поведения пользователей этих тарифов:\n",
    "1. По тарифу smart:\n",
    "    - чаще всего клиенты делают звонки в рамках тарифного лимита в 500 минут, в среднем в месяц - 419 минут. График симметричен и имеет характер нормального распределения с незначительным смещением вправо,\n",
    "    - чаще умещаются в лимит до 50 сообщений в месяц(однако, выброс около нулевых значений показывает, что налицо тенденция по смене приоритетов и уходу от сервиса смс к мессенджерам), в среднем в месяц - 33 СМС. График не симметричен и имеет форму распределения Пуассона, распределение смещено влево в сторону тарифных лимитов,\n",
    "    - при этом тарифный лимит трафика 15,3 гб. чаще всего превышается и возникает переплата(вероятнее всего по причине округлений, либо нехватки лимита трафика и отсутствия усредненного тарифа, который бы мог удовлетворить запрос в малом количестве остальных сервисов и в большем количестве лимита трафика), среднее 16,2 гб. График симметричен и имеет характер нормального распределения с незначительным смещением вправо;\n",
    "    - выручка по тарифу ближе к распределению Пуассона с более плавным смещением в правую часть графика(по причине наличия достаточно большого количества превышений существующих тарифных лимитов пользователями), при средней ежемесячной плате в 1290 руб. доля выручки значительно превышает выручку по тарифу ultra и составляет 2.9 млн. руб.(59% общей выручки). По сути тариф можно назвать ключевым и при обычной стоимости тарифа в 550 рублей люди дополнительно тратят 740 рублей на дополнительные услуги(в основном это дополнительный трафик).\n",
    "2. По тарифу ultra:\n",
    "    - чаще всего клиенты делают звонки до 750 минут(при лимите в 3000 минут), в среднем в месяц - 545 минут. График имеет характер распределения Пуассона с большой долей суммарных разговоров в левой части,\n",
    "    - чаще умещаются в лимит до 50 сообщений в месяц(однако, выброс около нулевых значений показывает, что налицо тенденция по смене приоритетов и уходу от сервиса смс к мессенджерам), в среднем в месяц - 49 СМС. График не симметричен и имеет форму распределения Пуассона, распределение смещено влево,\n",
    "    - при этом тарифный лимит трафика 30,7 гб. реже всего превышается и реже возникает переплата, среднее 19,5 гб. График симметричен и имеет характер нормального распределения, т.е. люди часто используют лимит более 15,3 гб, но ввиду отсутствия более выгодного тарифа, пользуются остальными сервисами(звонки, СМС) в объеме аналогичном тарифу smart, а подключены к тарифу ультра по причине дорогого трафика сверхлимитов по тарифу smart;\n",
    "    - выручка по тарифу близка к распределению Пуассона с некоторыми выбросами в правой части графика, при средней ежемесячной плате в 2070 руб. доля выручки значительно меньше выручки по тарифу smart и составляет 2 млн. руб.(41% общей выручки). Тариф второй по значимости, однако при стоимости тарифа 1950 рублей клиенты дополнительно тратят по 120 рублей, что незначительно относительно суммы тарифной платы.\n",
    "\n",
    "Были проверены следующие гипотезы:\n",
    "1. Гипотеза №1: средняя выручка пользователей тарифов «Ультра» и «Смарт» различаются - гипотеза. Гипотеза подтверждена. Результаты теста говорят о том, что статистически значимая разница между двумя средними по выручке тарифа \"Смарт\" и \"Ультра\" существует;\n",
    "2. Гипотеза №2: средняя выручка пользователей из Москвы отличается от выручки пользователей из других регионов. Гипотеза не подтверждена. Результаты теста говорят о том, что статистически значимая разница между двумя средними по Москве и остальным регионам мала, следовательно обозначенную ранее нулевую гипотезу равенства средних двух выборок по выручке по Москве и остальным регионам нельзя отвергать.\n",
    "\n",
    "Рекомендации исходя из исследования:\n",
    "- более глубоко проанализировать поведенческие привычки клиентов и разобраться каким образом возможно максимизировать выручку по тарифу \"Ультра\" по каждому из сервисов, чтобы показать клиентам более гибкую и клиентоориентированную политику, наряду с этим  увеличив собственную выручку. Возможно, следует задуматься о введении новой линейки тарифов и введении стимулирующих сервисов по категориям клиентов;\n",
    "- связь общей тенденции использования услуг в Москве и в регионах говорит о том, что регионы подтягиваются в рамках тредов к центральному региону России и возможно тиражирование лучших практик и подходов в формировании корзины услуг/линейки тарифов исходя из потребности центрального региона;\n",
    "- средняя выручка пользователей тарифов «Ультра» и «Смарт» различаются, соответственно, различаются типы клиентов и их выборка - рекомендуется более глубокий сегментный анализ выручки по отдельным тарифам и выявление индивидуальных потребностей клиентов по подсегментам каждого тарифа исходя из их потребительских привычек относительно каждой услуги: интернет, СМС, голосовые услуги."
   ]
  }
 ],
 "metadata": {
  "ExecuteTimeLog": [
   {
    "duration": 3,
    "start_time": "2022-02-01T19:17:50.898Z"
   },
   {
    "duration": 363,
    "start_time": "2022-02-01T19:37:39.926Z"
   },
   {
    "duration": 1072,
    "start_time": "2022-02-01T19:37:46.529Z"
   },
   {
    "duration": 481,
    "start_time": "2022-02-01T19:37:47.602Z"
   },
   {
    "duration": 44,
    "start_time": "2022-02-01T19:38:06.226Z"
   },
   {
    "duration": 47,
    "start_time": "2022-02-01T19:39:34.234Z"
   },
   {
    "duration": 3,
    "start_time": "2022-02-01T19:40:26.474Z"
   },
   {
    "duration": 45,
    "start_time": "2022-02-01T19:41:34.551Z"
   },
   {
    "duration": 162,
    "start_time": "2022-02-01T19:42:11.546Z"
   },
   {
    "duration": 165,
    "start_time": "2022-02-01T19:42:47.081Z"
   },
   {
    "duration": 150,
    "start_time": "2022-02-01T19:44:35.973Z"
   },
   {
    "duration": 139,
    "start_time": "2022-02-01T19:46:49.645Z"
   },
   {
    "duration": 30,
    "start_time": "2022-02-01T19:49:05.809Z"
   },
   {
    "duration": 3,
    "start_time": "2022-02-01T19:52:13.740Z"
   },
   {
    "duration": 3,
    "start_time": "2022-02-01T19:52:13.747Z"
   },
   {
    "duration": 46,
    "start_time": "2022-02-01T19:52:13.752Z"
   },
   {
    "duration": 158,
    "start_time": "2022-02-01T19:52:13.800Z"
   },
   {
    "duration": 106,
    "start_time": "2022-02-01T19:52:13.960Z"
   },
   {
    "duration": 145,
    "start_time": "2022-02-01T19:52:14.072Z"
   },
   {
    "duration": 31,
    "start_time": "2022-02-01T19:52:14.219Z"
   },
   {
    "duration": 652,
    "start_time": "2022-02-02T19:24:32.695Z"
   },
   {
    "duration": 341,
    "start_time": "2022-02-02T19:26:38.913Z"
   },
   {
    "duration": 1157,
    "start_time": "2022-02-02T19:29:54.731Z"
   },
   {
    "duration": 3,
    "start_time": "2022-02-02T19:29:55.890Z"
   },
   {
    "duration": 69,
    "start_time": "2022-02-02T19:29:55.895Z"
   },
   {
    "duration": 200,
    "start_time": "2022-02-02T19:29:55.966Z"
   },
   {
    "duration": 116,
    "start_time": "2022-02-02T19:29:56.168Z"
   },
   {
    "duration": 167,
    "start_time": "2022-02-02T19:29:56.286Z"
   },
   {
    "duration": 34,
    "start_time": "2022-02-02T19:29:56.455Z"
   },
   {
    "duration": 59,
    "start_time": "2022-02-02T19:30:40.185Z"
   },
   {
    "duration": 55,
    "start_time": "2022-02-02T19:31:41.652Z"
   },
   {
    "duration": 57,
    "start_time": "2022-02-02T19:32:52.183Z"
   },
   {
    "duration": 58,
    "start_time": "2022-02-02T19:33:46.267Z"
   },
   {
    "duration": 56,
    "start_time": "2022-02-02T19:34:29.046Z"
   },
   {
    "duration": 52,
    "start_time": "2022-02-02T19:34:49.597Z"
   },
   {
    "duration": 505,
    "start_time": "2022-02-02T19:35:25.663Z"
   },
   {
    "duration": 429,
    "start_time": "2022-02-02T19:35:37.536Z"
   },
   {
    "duration": 4,
    "start_time": "2022-02-02T19:40:42.313Z"
   },
   {
    "duration": 8,
    "start_time": "2022-02-02T19:40:42.319Z"
   },
   {
    "duration": 57,
    "start_time": "2022-02-02T19:40:42.329Z"
   },
   {
    "duration": 206,
    "start_time": "2022-02-02T19:40:42.388Z"
   },
   {
    "duration": 124,
    "start_time": "2022-02-02T19:40:42.607Z"
   },
   {
    "duration": 176,
    "start_time": "2022-02-02T19:40:42.733Z"
   },
   {
    "duration": 39,
    "start_time": "2022-02-02T19:40:42.911Z"
   },
   {
    "duration": 66,
    "start_time": "2022-02-02T20:11:59.169Z"
   },
   {
    "duration": 222,
    "start_time": "2022-02-02T20:13:04.250Z"
   },
   {
    "duration": 126,
    "start_time": "2022-02-02T20:13:40.752Z"
   },
   {
    "duration": 195,
    "start_time": "2022-02-02T20:14:23.435Z"
   },
   {
    "duration": 104,
    "start_time": "2022-02-02T20:16:12.245Z"
   },
   {
    "duration": 84,
    "start_time": "2022-02-02T20:16:27.674Z"
   },
   {
    "duration": 91,
    "start_time": "2022-02-02T20:17:22.151Z"
   },
   {
    "duration": 89,
    "start_time": "2022-02-02T20:17:57.450Z"
   },
   {
    "duration": 84,
    "start_time": "2022-02-02T20:18:22.963Z"
   },
   {
    "duration": 564,
    "start_time": "2022-02-02T20:18:48.229Z"
   },
   {
    "duration": 299,
    "start_time": "2022-02-02T20:19:24.719Z"
   },
   {
    "duration": 371,
    "start_time": "2022-02-02T20:20:19.937Z"
   },
   {
    "duration": 3,
    "start_time": "2022-02-02T20:20:42.442Z"
   },
   {
    "duration": 17,
    "start_time": "2022-02-02T20:20:42.448Z"
   },
   {
    "duration": 91,
    "start_time": "2022-02-02T20:20:42.467Z"
   },
   {
    "duration": 555,
    "start_time": "2022-02-02T20:20:42.560Z"
   },
   {
    "duration": 288,
    "start_time": "2022-02-02T20:20:43.117Z"
   },
   {
    "duration": 372,
    "start_time": "2022-02-02T20:20:43.407Z"
   },
   {
    "duration": 42,
    "start_time": "2022-02-02T20:20:43.780Z"
   },
   {
    "duration": 156,
    "start_time": "2022-02-02T20:54:04.262Z"
   },
   {
    "duration": 185,
    "start_time": "2022-02-02T20:54:51.647Z"
   },
   {
    "duration": 373,
    "start_time": "2022-02-02T21:17:28.868Z"
   },
   {
    "duration": 3,
    "start_time": "2022-02-02T21:19:58.960Z"
   },
   {
    "duration": 11,
    "start_time": "2022-02-02T21:19:58.965Z"
   },
   {
    "duration": 91,
    "start_time": "2022-02-02T21:19:58.978Z"
   },
   {
    "duration": 556,
    "start_time": "2022-02-02T21:19:59.071Z"
   },
   {
    "duration": 295,
    "start_time": "2022-02-02T21:19:59.629Z"
   },
   {
    "duration": 387,
    "start_time": "2022-02-02T21:19:59.926Z"
   },
   {
    "duration": 34,
    "start_time": "2022-02-02T21:20:00.315Z"
   },
   {
    "duration": 182,
    "start_time": "2022-02-02T21:20:00.352Z"
   },
   {
    "duration": 1132,
    "start_time": "2022-02-03T12:16:20.635Z"
   },
   {
    "duration": 3,
    "start_time": "2022-02-03T12:16:21.769Z"
   },
   {
    "duration": 85,
    "start_time": "2022-02-03T12:16:21.774Z"
   },
   {
    "duration": 547,
    "start_time": "2022-02-03T12:16:21.861Z"
   },
   {
    "duration": 290,
    "start_time": "2022-02-03T12:16:22.409Z"
   },
   {
    "duration": 356,
    "start_time": "2022-02-03T12:16:22.701Z"
   },
   {
    "duration": 32,
    "start_time": "2022-02-03T12:16:23.059Z"
   },
   {
    "duration": 197,
    "start_time": "2022-02-03T12:16:23.093Z"
   },
   {
    "duration": 220,
    "start_time": "2022-02-03T12:21:22.793Z"
   },
   {
    "duration": 299,
    "start_time": "2022-02-03T12:21:52.734Z"
   },
   {
    "duration": 4,
    "start_time": "2022-02-03T13:45:45.798Z"
   },
   {
    "duration": 7,
    "start_time": "2022-02-03T13:45:45.804Z"
   },
   {
    "duration": 108,
    "start_time": "2022-02-03T13:45:45.814Z"
   },
   {
    "duration": 607,
    "start_time": "2022-02-03T13:45:45.924Z"
   },
   {
    "duration": 285,
    "start_time": "2022-02-03T13:45:46.533Z"
   },
   {
    "duration": 409,
    "start_time": "2022-02-03T13:45:46.820Z"
   },
   {
    "duration": 43,
    "start_time": "2022-02-03T13:45:47.231Z"
   },
   {
    "duration": 31,
    "start_time": "2022-02-03T13:45:47.277Z"
   },
   {
    "duration": 391,
    "start_time": "2022-02-03T13:46:14.192Z"
   },
   {
    "duration": 266,
    "start_time": "2022-02-03T13:46:39.426Z"
   },
   {
    "duration": 2529,
    "start_time": "2022-02-03T13:58:46.357Z"
   },
   {
    "duration": 2450,
    "start_time": "2022-02-03T14:00:13.034Z"
   },
   {
    "duration": 2564,
    "start_time": "2022-02-03T14:03:20.002Z"
   },
   {
    "duration": 2534,
    "start_time": "2022-02-03T14:03:28.250Z"
   },
   {
    "duration": 2545,
    "start_time": "2022-02-03T14:03:50.517Z"
   },
   {
    "duration": 2843,
    "start_time": "2022-02-03T14:05:24.495Z"
   },
   {
    "duration": 2842,
    "start_time": "2022-02-03T14:05:33.541Z"
   },
   {
    "duration": 4,
    "start_time": "2022-02-03T14:07:16.195Z"
   },
   {
    "duration": 7,
    "start_time": "2022-02-03T14:07:16.201Z"
   },
   {
    "duration": 101,
    "start_time": "2022-02-03T14:07:16.210Z"
   },
   {
    "duration": 564,
    "start_time": "2022-02-03T14:07:16.314Z"
   },
   {
    "duration": 320,
    "start_time": "2022-02-03T14:07:16.880Z"
   },
   {
    "duration": 384,
    "start_time": "2022-02-03T14:07:17.202Z"
   },
   {
    "duration": 34,
    "start_time": "2022-02-03T14:07:17.587Z"
   },
   {
    "duration": 2400,
    "start_time": "2022-02-03T14:07:17.623Z"
   },
   {
    "duration": 89,
    "start_time": "2022-02-03T14:07:29.762Z"
   },
   {
    "duration": 2374,
    "start_time": "2022-02-03T14:07:32.721Z"
   },
   {
    "duration": 2443,
    "start_time": "2022-02-03T14:07:49.054Z"
   },
   {
    "duration": 5629,
    "start_time": "2022-02-03T14:08:02.461Z"
   },
   {
    "duration": 2371,
    "start_time": "2022-02-03T14:08:56.395Z"
   },
   {
    "duration": 2400,
    "start_time": "2022-02-03T14:09:51.826Z"
   },
   {
    "duration": 2515,
    "start_time": "2022-02-03T14:10:05.079Z"
   },
   {
    "duration": 2323,
    "start_time": "2022-02-03T14:14:34.074Z"
   },
   {
    "duration": 3468,
    "start_time": "2022-02-03T14:15:13.898Z"
   },
   {
    "duration": 3147,
    "start_time": "2022-02-03T14:17:34.471Z"
   },
   {
    "duration": 3045,
    "start_time": "2022-02-03T14:21:10.055Z"
   },
   {
    "duration": 3319,
    "start_time": "2022-02-03T14:29:47.961Z"
   },
   {
    "duration": 3129,
    "start_time": "2022-02-03T14:30:23.092Z"
   },
   {
    "duration": 3425,
    "start_time": "2022-02-03T14:37:59.445Z"
   },
   {
    "duration": 3302,
    "start_time": "2022-02-03T14:39:15.146Z"
   },
   {
    "duration": 3611,
    "start_time": "2022-02-03T14:39:50.889Z"
   },
   {
    "duration": 3466,
    "start_time": "2022-02-03T14:41:03.627Z"
   },
   {
    "duration": 3469,
    "start_time": "2022-02-03T14:42:15.236Z"
   },
   {
    "duration": 10,
    "start_time": "2022-02-03T15:09:22.437Z"
   },
   {
    "duration": 6390,
    "start_time": "2022-02-03T15:29:14.712Z"
   },
   {
    "duration": 41,
    "start_time": "2022-02-03T15:30:36.416Z"
   },
   {
    "duration": 52,
    "start_time": "2022-02-03T15:33:33.497Z"
   },
   {
    "duration": 54,
    "start_time": "2022-02-03T15:34:12.574Z"
   },
   {
    "duration": 51,
    "start_time": "2022-02-03T15:55:16.193Z"
   },
   {
    "duration": 53,
    "start_time": "2022-02-03T15:55:36.713Z"
   },
   {
    "duration": 54,
    "start_time": "2022-02-03T15:55:47.577Z"
   },
   {
    "duration": 55,
    "start_time": "2022-02-03T15:56:11.040Z"
   },
   {
    "duration": 19,
    "start_time": "2022-02-03T16:00:06.573Z"
   },
   {
    "duration": 18,
    "start_time": "2022-02-03T16:00:27.115Z"
   },
   {
    "duration": 19,
    "start_time": "2022-02-03T16:00:31.314Z"
   },
   {
    "duration": 27,
    "start_time": "2022-02-03T16:00:50.249Z"
   },
   {
    "duration": 54,
    "start_time": "2022-02-03T17:16:26.535Z"
   },
   {
    "duration": 64,
    "start_time": "2022-02-03T17:37:57.067Z"
   },
   {
    "duration": 73,
    "start_time": "2022-02-03T17:48:34.182Z"
   },
   {
    "duration": 54,
    "start_time": "2022-02-03T17:48:57.156Z"
   },
   {
    "duration": 50,
    "start_time": "2022-02-03T17:49:28.437Z"
   },
   {
    "duration": 57,
    "start_time": "2022-02-03T17:49:57.882Z"
   },
   {
    "duration": 55,
    "start_time": "2022-02-03T17:52:20.886Z"
   },
   {
    "duration": 52,
    "start_time": "2022-02-03T17:52:38.949Z"
   },
   {
    "duration": 7919,
    "start_time": "2022-02-03T18:03:42.397Z"
   },
   {
    "duration": 3207,
    "start_time": "2022-02-03T18:05:14.759Z"
   },
   {
    "duration": 465,
    "start_time": "2022-02-03T18:07:01.030Z"
   },
   {
    "duration": 538,
    "start_time": "2022-02-03T18:08:02.062Z"
   },
   {
    "duration": 52,
    "start_time": "2022-02-03T18:21:02.152Z"
   },
   {
    "duration": 46,
    "start_time": "2022-02-03T18:28:42.478Z"
   },
   {
    "duration": 332,
    "start_time": "2022-02-03T18:29:40.925Z"
   },
   {
    "duration": 66,
    "start_time": "2022-02-03T18:29:46.184Z"
   },
   {
    "duration": 65,
    "start_time": "2022-02-03T18:31:06.039Z"
   },
   {
    "duration": 67,
    "start_time": "2022-02-03T18:31:32.119Z"
   },
   {
    "duration": 63,
    "start_time": "2022-02-03T18:39:08.817Z"
   },
   {
    "duration": 64,
    "start_time": "2022-02-03T18:39:18.811Z"
   },
   {
    "duration": 478,
    "start_time": "2022-02-03T18:39:49.372Z"
   },
   {
    "duration": 493,
    "start_time": "2022-02-03T18:40:44.102Z"
   },
   {
    "duration": 475,
    "start_time": "2022-02-03T18:41:09.602Z"
   },
   {
    "duration": 505,
    "start_time": "2022-02-03T18:41:41.897Z"
   },
   {
    "duration": 3,
    "start_time": "2022-02-03T18:51:23.647Z"
   },
   {
    "duration": 5,
    "start_time": "2022-02-03T18:51:23.652Z"
   },
   {
    "duration": 100,
    "start_time": "2022-02-03T18:51:23.659Z"
   },
   {
    "duration": 571,
    "start_time": "2022-02-03T18:51:23.761Z"
   },
   {
    "duration": 308,
    "start_time": "2022-02-03T18:51:24.334Z"
   },
   {
    "duration": 404,
    "start_time": "2022-02-03T18:51:24.644Z"
   },
   {
    "duration": 35,
    "start_time": "2022-02-03T18:51:25.050Z"
   },
   {
    "duration": 2419,
    "start_time": "2022-02-03T18:51:25.100Z"
   },
   {
    "duration": 79,
    "start_time": "2022-02-03T18:51:27.521Z"
   },
   {
    "duration": 524,
    "start_time": "2022-02-03T18:51:27.601Z"
   },
   {
    "duration": 482,
    "start_time": "2022-02-03T19:09:19.792Z"
   },
   {
    "duration": 280,
    "start_time": "2022-02-03T19:17:16.999Z"
   },
   {
    "duration": 89,
    "start_time": "2022-02-03T19:17:38.089Z"
   },
   {
    "duration": 64,
    "start_time": "2022-02-03T19:17:46.112Z"
   },
   {
    "duration": 536,
    "start_time": "2022-02-03T19:19:39.331Z"
   },
   {
    "duration": 301,
    "start_time": "2022-02-03T19:21:29.145Z"
   },
   {
    "duration": 320,
    "start_time": "2022-02-03T19:22:02.506Z"
   },
   {
    "duration": 1135,
    "start_time": "2022-02-03T19:23:45.003Z"
   },
   {
    "duration": 1098,
    "start_time": "2022-02-03T19:24:16.669Z"
   },
   {
    "duration": 1205,
    "start_time": "2022-02-03T19:24:46.409Z"
   },
   {
    "duration": 1105,
    "start_time": "2022-02-03T19:25:19.843Z"
   },
   {
    "duration": 1158,
    "start_time": "2022-02-03T19:27:42.600Z"
   },
   {
    "duration": 1110,
    "start_time": "2022-02-03T19:29:35.778Z"
   },
   {
    "duration": 1125,
    "start_time": "2022-02-03T19:31:44.373Z"
   },
   {
    "duration": 1101,
    "start_time": "2022-02-03T19:33:39.015Z"
   },
   {
    "duration": 2,
    "start_time": "2022-02-03T19:46:05.032Z"
   },
   {
    "duration": 21,
    "start_time": "2022-02-03T19:51:22.762Z"
   },
   {
    "duration": 33,
    "start_time": "2022-02-03T19:58:40.367Z"
   },
   {
    "duration": 119,
    "start_time": "2022-02-03T20:12:17.585Z"
   },
   {
    "duration": 286,
    "start_time": "2022-02-03T20:25:52.897Z"
   },
   {
    "duration": 286,
    "start_time": "2022-02-03T20:26:11.209Z"
   },
   {
    "duration": 693,
    "start_time": "2022-02-03T20:26:22.315Z"
   },
   {
    "duration": 22,
    "start_time": "2022-02-03T20:30:09.606Z"
   },
   {
    "duration": 22,
    "start_time": "2022-02-03T20:30:31.536Z"
   },
   {
    "duration": 23,
    "start_time": "2022-02-03T20:31:06.448Z"
   },
   {
    "duration": 25,
    "start_time": "2022-02-03T20:31:43.010Z"
   },
   {
    "duration": 31,
    "start_time": "2022-02-03T20:32:52.312Z"
   },
   {
    "duration": 53,
    "start_time": "2022-02-03T20:34:09.119Z"
   },
   {
    "duration": 66,
    "start_time": "2022-02-03T20:36:26.133Z"
   },
   {
    "duration": 57,
    "start_time": "2022-02-03T20:39:07.814Z"
   },
   {
    "duration": 294,
    "start_time": "2022-02-03T20:41:50.324Z"
   },
   {
    "duration": 272,
    "start_time": "2022-02-03T20:44:50.186Z"
   },
   {
    "duration": 283,
    "start_time": "2022-02-03T20:45:36.517Z"
   },
   {
    "duration": 266,
    "start_time": "2022-02-03T20:45:58.772Z"
   },
   {
    "duration": 63,
    "start_time": "2022-02-03T20:47:45.535Z"
   },
   {
    "duration": 250,
    "start_time": "2022-02-03T20:55:11.904Z"
   },
   {
    "duration": 10,
    "start_time": "2022-02-03T20:55:16.943Z"
   },
   {
    "duration": 4,
    "start_time": "2022-02-03T20:55:25.465Z"
   },
   {
    "duration": 6,
    "start_time": "2022-02-03T20:55:48.325Z"
   },
   {
    "duration": 85,
    "start_time": "2022-02-03T20:56:45.310Z"
   },
   {
    "duration": 29,
    "start_time": "2022-02-03T20:57:34.392Z"
   },
   {
    "duration": 3,
    "start_time": "2022-02-03T21:16:10.675Z"
   },
   {
    "duration": 2,
    "start_time": "2022-02-03T21:16:34.847Z"
   },
   {
    "duration": 6,
    "start_time": "2022-02-03T21:16:34.851Z"
   },
   {
    "duration": 102,
    "start_time": "2022-02-03T21:16:34.859Z"
   },
   {
    "duration": 557,
    "start_time": "2022-02-03T21:16:34.963Z"
   },
   {
    "duration": 258,
    "start_time": "2022-02-03T21:16:35.522Z"
   },
   {
    "duration": 371,
    "start_time": "2022-02-03T21:16:35.782Z"
   },
   {
    "duration": 33,
    "start_time": "2022-02-03T21:16:36.155Z"
   },
   {
    "duration": 2453,
    "start_time": "2022-02-03T21:16:36.190Z"
   },
   {
    "duration": 79,
    "start_time": "2022-02-03T21:16:38.644Z"
   },
   {
    "duration": 1184,
    "start_time": "2022-02-03T21:16:38.724Z"
   },
   {
    "duration": 5,
    "start_time": "2022-02-03T21:16:39.910Z"
   },
   {
    "duration": 32,
    "start_time": "2022-02-03T21:16:39.917Z"
   },
   {
    "duration": 2,
    "start_time": "2022-02-03T21:16:39.951Z"
   },
   {
    "duration": 3,
    "start_time": "2022-02-03T21:16:47.056Z"
   },
   {
    "duration": 8,
    "start_time": "2022-02-03T21:16:47.062Z"
   },
   {
    "duration": 95,
    "start_time": "2022-02-03T21:16:47.072Z"
   },
   {
    "duration": 552,
    "start_time": "2022-02-03T21:16:47.169Z"
   },
   {
    "duration": 283,
    "start_time": "2022-02-03T21:16:47.723Z"
   },
   {
    "duration": 374,
    "start_time": "2022-02-03T21:16:48.008Z"
   },
   {
    "duration": 40,
    "start_time": "2022-02-03T21:16:48.384Z"
   },
   {
    "duration": 2473,
    "start_time": "2022-02-03T21:16:48.426Z"
   },
   {
    "duration": 70,
    "start_time": "2022-02-03T21:16:50.901Z"
   },
   {
    "duration": 1192,
    "start_time": "2022-02-03T21:16:50.972Z"
   },
   {
    "duration": 5,
    "start_time": "2022-02-03T21:16:52.165Z"
   },
   {
    "duration": 50,
    "start_time": "2022-02-03T21:16:52.171Z"
   },
   {
    "duration": 2,
    "start_time": "2022-02-03T21:16:52.223Z"
   },
   {
    "duration": 1468,
    "start_time": "2022-02-04T12:39:47.182Z"
   },
   {
    "duration": 5,
    "start_time": "2022-02-04T12:39:48.652Z"
   },
   {
    "duration": 134,
    "start_time": "2022-02-04T12:39:48.660Z"
   },
   {
    "duration": 663,
    "start_time": "2022-02-04T12:39:48.797Z"
   },
   {
    "duration": 326,
    "start_time": "2022-02-04T12:39:49.463Z"
   },
   {
    "duration": 742,
    "start_time": "2022-02-04T12:39:49.792Z"
   },
   {
    "duration": 52,
    "start_time": "2022-02-04T12:39:50.537Z"
   },
   {
    "duration": 7540,
    "start_time": "2022-02-04T12:39:50.592Z"
   },
   {
    "duration": 150,
    "start_time": "2022-02-04T12:39:58.136Z"
   },
   {
    "duration": 1950,
    "start_time": "2022-02-04T12:39:58.289Z"
   },
   {
    "duration": 7,
    "start_time": "2022-02-04T12:40:00.242Z"
   },
   {
    "duration": 43,
    "start_time": "2022-02-04T12:40:00.270Z"
   },
   {
    "duration": 4,
    "start_time": "2022-02-04T12:40:00.315Z"
   },
   {
    "duration": 6,
    "start_time": "2022-02-04T12:59:57.421Z"
   },
   {
    "duration": 15,
    "start_time": "2022-02-04T13:03:01.906Z"
   },
   {
    "duration": 179,
    "start_time": "2022-02-04T13:04:54.920Z"
   },
   {
    "duration": 17,
    "start_time": "2022-02-04T13:05:36.528Z"
   },
   {
    "duration": 713,
    "start_time": "2022-02-04T13:06:21.511Z"
   },
   {
    "duration": 2076,
    "start_time": "2022-02-04T13:08:12.070Z"
   },
   {
    "duration": 70,
    "start_time": "2022-02-04T13:08:34.593Z"
   },
   {
    "duration": 98,
    "start_time": "2022-02-04T13:09:24.650Z"
   },
   {
    "duration": 394,
    "start_time": "2022-02-04T13:16:01.462Z"
   },
   {
    "duration": 536,
    "start_time": "2022-02-04T13:20:18.899Z"
   },
   {
    "duration": 110,
    "start_time": "2022-02-04T13:20:27.742Z"
   },
   {
    "duration": 105,
    "start_time": "2022-02-04T13:22:11.991Z"
   },
   {
    "duration": 223,
    "start_time": "2022-02-04T13:23:03.256Z"
   },
   {
    "duration": 5,
    "start_time": "2022-02-04T13:23:40.603Z"
   },
   {
    "duration": 13,
    "start_time": "2022-02-04T13:23:40.610Z"
   },
   {
    "duration": 126,
    "start_time": "2022-02-04T13:23:40.626Z"
   },
   {
    "duration": 682,
    "start_time": "2022-02-04T13:23:40.770Z"
   },
   {
    "duration": 338,
    "start_time": "2022-02-04T13:23:41.454Z"
   },
   {
    "duration": 445,
    "start_time": "2022-02-04T13:23:41.794Z"
   },
   {
    "duration": 47,
    "start_time": "2022-02-04T13:23:42.242Z"
   },
   {
    "duration": 4006,
    "start_time": "2022-02-04T13:23:42.292Z"
   },
   {
    "duration": 105,
    "start_time": "2022-02-04T13:23:46.300Z"
   },
   {
    "duration": 1881,
    "start_time": "2022-02-04T13:23:46.408Z"
   },
   {
    "duration": 6,
    "start_time": "2022-02-04T13:23:48.292Z"
   },
   {
    "duration": 68,
    "start_time": "2022-02-04T13:23:48.300Z"
   },
   {
    "duration": 5,
    "start_time": "2022-02-04T13:23:48.370Z"
   },
   {
    "duration": 228,
    "start_time": "2022-02-04T13:23:48.377Z"
   },
   {
    "duration": 260,
    "start_time": "2022-02-04T13:24:49.468Z"
   },
   {
    "duration": 111,
    "start_time": "2022-02-04T13:26:17.704Z"
   },
   {
    "duration": 5,
    "start_time": "2022-02-04T13:26:21.909Z"
   },
   {
    "duration": 31,
    "start_time": "2022-02-04T13:26:21.916Z"
   },
   {
    "duration": 135,
    "start_time": "2022-02-04T13:26:21.951Z"
   },
   {
    "duration": 664,
    "start_time": "2022-02-04T13:26:22.090Z"
   },
   {
    "duration": 416,
    "start_time": "2022-02-04T13:26:22.756Z"
   },
   {
    "duration": 484,
    "start_time": "2022-02-04T13:26:23.176Z"
   },
   {
    "duration": 45,
    "start_time": "2022-02-04T13:26:23.671Z"
   },
   {
    "duration": 3623,
    "start_time": "2022-02-04T13:26:23.720Z"
   },
   {
    "duration": 106,
    "start_time": "2022-02-04T13:26:27.346Z"
   },
   {
    "duration": 2246,
    "start_time": "2022-02-04T13:26:27.470Z"
   },
   {
    "duration": 7,
    "start_time": "2022-02-04T13:26:29.719Z"
   },
   {
    "duration": 73,
    "start_time": "2022-02-04T13:26:29.728Z"
   },
   {
    "duration": 5,
    "start_time": "2022-02-04T13:26:29.805Z"
   },
   {
    "duration": 118,
    "start_time": "2022-02-04T13:26:29.813Z"
   },
   {
    "duration": 121,
    "start_time": "2022-02-04T13:30:07.402Z"
   },
   {
    "duration": 124,
    "start_time": "2022-02-04T13:30:43.035Z"
   },
   {
    "duration": 379,
    "start_time": "2022-02-04T13:49:33.822Z"
   },
   {
    "duration": 362,
    "start_time": "2022-02-04T13:50:06.395Z"
   },
   {
    "duration": 247,
    "start_time": "2022-02-04T13:50:52.760Z"
   },
   {
    "duration": 241,
    "start_time": "2022-02-04T13:52:56.006Z"
   },
   {
    "duration": 245,
    "start_time": "2022-02-04T13:54:14.709Z"
   },
   {
    "duration": 76,
    "start_time": "2022-02-04T13:54:48.826Z"
   },
   {
    "duration": 3,
    "start_time": "2022-02-04T13:54:52.519Z"
   },
   {
    "duration": 4,
    "start_time": "2022-02-04T13:54:52.530Z"
   },
   {
    "duration": 108,
    "start_time": "2022-02-04T13:54:52.537Z"
   },
   {
    "duration": 690,
    "start_time": "2022-02-04T13:54:52.648Z"
   },
   {
    "duration": 355,
    "start_time": "2022-02-04T13:54:53.342Z"
   },
   {
    "duration": 470,
    "start_time": "2022-02-04T13:54:53.700Z"
   },
   {
    "duration": 43,
    "start_time": "2022-02-04T13:54:54.173Z"
   },
   {
    "duration": 3787,
    "start_time": "2022-02-04T13:54:54.219Z"
   },
   {
    "duration": 107,
    "start_time": "2022-02-04T13:54:58.009Z"
   },
   {
    "duration": 2128,
    "start_time": "2022-02-04T13:54:58.119Z"
   },
   {
    "duration": 22,
    "start_time": "2022-02-04T13:55:00.249Z"
   },
   {
    "duration": 40,
    "start_time": "2022-02-04T13:55:00.274Z"
   },
   {
    "duration": 6,
    "start_time": "2022-02-04T13:55:00.317Z"
   },
   {
    "duration": 112,
    "start_time": "2022-02-04T13:55:00.325Z"
   },
   {
    "duration": 12,
    "start_time": "2022-02-04T13:58:23.316Z"
   },
   {
    "duration": 12,
    "start_time": "2022-02-04T13:59:27.746Z"
   },
   {
    "duration": 93,
    "start_time": "2022-02-04T14:06:49.476Z"
   },
   {
    "duration": 59,
    "start_time": "2022-02-04T14:07:17.445Z"
   },
   {
    "duration": 4,
    "start_time": "2022-02-04T14:08:26.787Z"
   },
   {
    "duration": 10,
    "start_time": "2022-02-04T14:08:26.794Z"
   },
   {
    "duration": 103,
    "start_time": "2022-02-04T14:08:26.807Z"
   },
   {
    "duration": 649,
    "start_time": "2022-02-04T14:08:26.913Z"
   },
   {
    "duration": 332,
    "start_time": "2022-02-04T14:08:27.568Z"
   },
   {
    "duration": 469,
    "start_time": "2022-02-04T14:08:27.902Z"
   },
   {
    "duration": 44,
    "start_time": "2022-02-04T14:08:28.373Z"
   },
   {
    "duration": 3778,
    "start_time": "2022-02-04T14:08:28.421Z"
   },
   {
    "duration": 112,
    "start_time": "2022-02-04T14:08:32.202Z"
   },
   {
    "duration": 2035,
    "start_time": "2022-02-04T14:08:32.316Z"
   },
   {
    "duration": 20,
    "start_time": "2022-02-04T14:08:34.353Z"
   },
   {
    "duration": 52,
    "start_time": "2022-02-04T14:08:34.375Z"
   },
   {
    "duration": 5,
    "start_time": "2022-02-04T14:08:34.430Z"
   },
   {
    "duration": 99,
    "start_time": "2022-02-04T14:08:34.438Z"
   },
   {
    "duration": 89,
    "start_time": "2022-02-04T14:08:34.539Z"
   },
   {
    "duration": 98,
    "start_time": "2022-02-04T14:09:17.770Z"
   },
   {
    "duration": 92,
    "start_time": "2022-02-04T14:09:29.712Z"
   },
   {
    "duration": 60,
    "start_time": "2022-02-04T14:09:38.367Z"
   },
   {
    "duration": 2225,
    "start_time": "2022-02-04T14:10:30.799Z"
   },
   {
    "duration": 79,
    "start_time": "2022-02-04T14:13:13.322Z"
   },
   {
    "duration": 4,
    "start_time": "2022-02-04T14:13:21.307Z"
   },
   {
    "duration": 4,
    "start_time": "2022-02-04T14:13:21.321Z"
   },
   {
    "duration": 111,
    "start_time": "2022-02-04T14:13:21.328Z"
   },
   {
    "duration": 701,
    "start_time": "2022-02-04T14:13:21.442Z"
   },
   {
    "duration": 319,
    "start_time": "2022-02-04T14:13:22.146Z"
   },
   {
    "duration": 437,
    "start_time": "2022-02-04T14:13:22.470Z"
   },
   {
    "duration": 41,
    "start_time": "2022-02-04T14:13:22.910Z"
   },
   {
    "duration": 3669,
    "start_time": "2022-02-04T14:13:22.969Z"
   },
   {
    "duration": 108,
    "start_time": "2022-02-04T14:13:26.643Z"
   },
   {
    "duration": 1931,
    "start_time": "2022-02-04T14:13:26.753Z"
   },
   {
    "duration": 7,
    "start_time": "2022-02-04T14:13:28.686Z"
   },
   {
    "duration": 47,
    "start_time": "2022-02-04T14:13:28.695Z"
   },
   {
    "duration": 28,
    "start_time": "2022-02-04T14:13:28.744Z"
   },
   {
    "duration": 104,
    "start_time": "2022-02-04T14:13:28.774Z"
   },
   {
    "duration": 1744,
    "start_time": "2022-02-04T14:13:28.880Z"
   },
   {
    "duration": 56,
    "start_time": "2022-02-04T14:14:17.573Z"
   },
   {
    "duration": 13,
    "start_time": "2022-02-04T14:25:01.205Z"
   },
   {
    "duration": 13,
    "start_time": "2022-02-04T14:25:10.442Z"
   },
   {
    "duration": 26,
    "start_time": "2022-02-04T14:59:54.776Z"
   },
   {
    "duration": 4759,
    "start_time": "2022-02-04T15:43:25.312Z"
   },
   {
    "duration": 69,
    "start_time": "2022-02-04T15:43:30.645Z"
   },
   {
    "duration": 4956,
    "start_time": "2022-02-04T15:44:25.155Z"
   },
   {
    "duration": 4858,
    "start_time": "2022-02-04T15:46:15.035Z"
   },
   {
    "duration": 4986,
    "start_time": "2022-02-04T15:48:34.622Z"
   },
   {
    "duration": 4840,
    "start_time": "2022-02-04T15:48:59.587Z"
   },
   {
    "duration": 4828,
    "start_time": "2022-02-04T17:27:49.732Z"
   },
   {
    "duration": 4578,
    "start_time": "2022-02-04T17:28:20.214Z"
   },
   {
    "duration": 4762,
    "start_time": "2022-02-04T17:31:03.565Z"
   },
   {
    "duration": 4964,
    "start_time": "2022-02-04T17:46:00.269Z"
   },
   {
    "duration": 5,
    "start_time": "2022-02-04T17:46:34.206Z"
   },
   {
    "duration": 8,
    "start_time": "2022-02-04T17:46:34.214Z"
   },
   {
    "duration": 105,
    "start_time": "2022-02-04T17:46:34.226Z"
   },
   {
    "duration": 654,
    "start_time": "2022-02-04T17:46:34.333Z"
   },
   {
    "duration": 345,
    "start_time": "2022-02-04T17:46:34.990Z"
   },
   {
    "duration": 454,
    "start_time": "2022-02-04T17:46:35.338Z"
   },
   {
    "duration": 41,
    "start_time": "2022-02-04T17:46:35.794Z"
   },
   {
    "duration": 3644,
    "start_time": "2022-02-04T17:46:35.838Z"
   },
   {
    "duration": 110,
    "start_time": "2022-02-04T17:46:39.485Z"
   },
   {
    "duration": 2029,
    "start_time": "2022-02-04T17:46:39.598Z"
   },
   {
    "duration": 6,
    "start_time": "2022-02-04T17:46:41.629Z"
   },
   {
    "duration": 65,
    "start_time": "2022-02-04T17:46:41.638Z"
   },
   {
    "duration": 6,
    "start_time": "2022-02-04T17:46:41.705Z"
   },
   {
    "duration": 104,
    "start_time": "2022-02-04T17:46:41.713Z"
   },
   {
    "duration": 89,
    "start_time": "2022-02-04T17:46:41.819Z"
   },
   {
    "duration": 14,
    "start_time": "2022-02-04T17:46:41.910Z"
   },
   {
    "duration": 51,
    "start_time": "2022-02-04T17:46:41.927Z"
   },
   {
    "duration": 60,
    "start_time": "2022-02-04T17:51:08.941Z"
   },
   {
    "duration": 3,
    "start_time": "2022-02-04T17:51:22.365Z"
   },
   {
    "duration": 10,
    "start_time": "2022-02-04T17:51:22.371Z"
   },
   {
    "duration": 113,
    "start_time": "2022-02-04T17:51:22.384Z"
   },
   {
    "duration": 649,
    "start_time": "2022-02-04T17:51:22.500Z"
   },
   {
    "duration": 327,
    "start_time": "2022-02-04T17:51:23.152Z"
   },
   {
    "duration": 437,
    "start_time": "2022-02-04T17:51:23.481Z"
   },
   {
    "duration": 51,
    "start_time": "2022-02-04T17:51:23.920Z"
   },
   {
    "duration": 3955,
    "start_time": "2022-02-04T17:51:23.974Z"
   },
   {
    "duration": 103,
    "start_time": "2022-02-04T17:51:27.932Z"
   },
   {
    "duration": 4,
    "start_time": "2022-02-04T17:51:30.470Z"
   },
   {
    "duration": 12,
    "start_time": "2022-02-04T17:51:30.477Z"
   },
   {
    "duration": 114,
    "start_time": "2022-02-04T17:51:30.492Z"
   },
   {
    "duration": 672,
    "start_time": "2022-02-04T17:51:30.609Z"
   },
   {
    "duration": 347,
    "start_time": "2022-02-04T17:51:31.284Z"
   },
   {
    "duration": 442,
    "start_time": "2022-02-04T17:51:31.634Z"
   },
   {
    "duration": 55,
    "start_time": "2022-02-04T17:51:32.079Z"
   },
   {
    "duration": 3989,
    "start_time": "2022-02-04T17:51:32.137Z"
   },
   {
    "duration": 102,
    "start_time": "2022-02-04T17:51:36.128Z"
   },
   {
    "duration": 2148,
    "start_time": "2022-02-04T17:51:36.232Z"
   },
   {
    "duration": 7,
    "start_time": "2022-02-04T17:51:38.383Z"
   },
   {
    "duration": 41,
    "start_time": "2022-02-04T17:51:38.393Z"
   },
   {
    "duration": 5,
    "start_time": "2022-02-04T17:51:38.437Z"
   },
   {
    "duration": 128,
    "start_time": "2022-02-04T17:51:38.444Z"
   },
   {
    "duration": 66,
    "start_time": "2022-02-04T17:51:38.575Z"
   },
   {
    "duration": 13,
    "start_time": "2022-02-04T17:51:38.670Z"
   },
   {
    "duration": 27,
    "start_time": "2022-02-04T17:51:38.685Z"
   },
   {
    "duration": 91,
    "start_time": "2022-02-04T19:24:18.006Z"
   },
   {
    "duration": 102,
    "start_time": "2022-02-04T19:24:22.989Z"
   },
   {
    "duration": 6560,
    "start_time": "2022-02-04T19:24:27.392Z"
   },
   {
    "duration": 6905,
    "start_time": "2022-02-04T19:24:38.358Z"
   },
   {
    "duration": 7174,
    "start_time": "2022-02-04T19:25:48.494Z"
   },
   {
    "duration": 6791,
    "start_time": "2022-02-04T19:26:52.886Z"
   },
   {
    "duration": 396,
    "start_time": "2022-02-04T19:27:29.089Z"
   },
   {
    "duration": 494,
    "start_time": "2022-02-04T19:27:46.179Z"
   },
   {
    "duration": 451,
    "start_time": "2022-02-04T19:51:30.045Z"
   },
   {
    "duration": 384,
    "start_time": "2022-02-04T19:53:39.190Z"
   },
   {
    "duration": 88,
    "start_time": "2022-02-04T19:59:36.158Z"
   },
   {
    "duration": 374,
    "start_time": "2022-02-04T19:59:59.479Z"
   },
   {
    "duration": 397,
    "start_time": "2022-02-04T20:00:07.546Z"
   },
   {
    "duration": 400,
    "start_time": "2022-02-04T20:02:55.775Z"
   },
   {
    "duration": 413,
    "start_time": "2022-02-04T20:03:52.521Z"
   },
   {
    "duration": 416,
    "start_time": "2022-02-04T20:05:04.885Z"
   },
   {
    "duration": 437,
    "start_time": "2022-02-04T20:08:32.153Z"
   },
   {
    "duration": 521,
    "start_time": "2022-02-04T20:08:42.256Z"
   },
   {
    "duration": 431,
    "start_time": "2022-02-04T20:10:04.215Z"
   },
   {
    "duration": 435,
    "start_time": "2022-02-04T20:27:26.597Z"
   },
   {
    "duration": 394,
    "start_time": "2022-02-04T20:27:52.477Z"
   },
   {
    "duration": 912,
    "start_time": "2022-02-04T20:31:09.633Z"
   },
   {
    "duration": 4,
    "start_time": "2022-02-04T20:33:31.257Z"
   },
   {
    "duration": 14,
    "start_time": "2022-02-04T20:33:31.269Z"
   },
   {
    "duration": 119,
    "start_time": "2022-02-04T20:33:31.286Z"
   },
   {
    "duration": 732,
    "start_time": "2022-02-04T20:33:31.408Z"
   },
   {
    "duration": 340,
    "start_time": "2022-02-04T20:33:32.142Z"
   },
   {
    "duration": 471,
    "start_time": "2022-02-04T20:33:32.484Z"
   },
   {
    "duration": 53,
    "start_time": "2022-02-04T20:33:32.959Z"
   },
   {
    "duration": 3858,
    "start_time": "2022-02-04T20:33:33.015Z"
   },
   {
    "duration": 106,
    "start_time": "2022-02-04T20:33:36.877Z"
   },
   {
    "duration": 1930,
    "start_time": "2022-02-04T20:33:36.985Z"
   },
   {
    "duration": 6,
    "start_time": "2022-02-04T20:33:38.918Z"
   },
   {
    "duration": 69,
    "start_time": "2022-02-04T20:33:38.927Z"
   },
   {
    "duration": 6,
    "start_time": "2022-02-04T20:33:39.000Z"
   },
   {
    "duration": 108,
    "start_time": "2022-02-04T20:33:39.008Z"
   },
   {
    "duration": 88,
    "start_time": "2022-02-04T20:33:39.118Z"
   },
   {
    "duration": 13,
    "start_time": "2022-02-04T20:33:39.209Z"
   },
   {
    "duration": 1035,
    "start_time": "2022-02-04T20:33:39.224Z"
   },
   {
    "duration": 986,
    "start_time": "2022-02-04T20:34:37.430Z"
   },
   {
    "duration": 105,
    "start_time": "2022-02-04T20:54:10.160Z"
   },
   {
    "duration": 1027,
    "start_time": "2022-02-04T20:54:17.955Z"
   },
   {
    "duration": 992,
    "start_time": "2022-02-04T20:55:17.458Z"
   },
   {
    "duration": 10,
    "start_time": "2022-02-04T20:59:37.326Z"
   },
   {
    "duration": 476,
    "start_time": "2022-02-04T20:59:49.167Z"
   },
   {
    "duration": 469,
    "start_time": "2022-02-04T21:01:48.892Z"
   },
   {
    "duration": 404,
    "start_time": "2022-02-04T21:07:43.830Z"
   },
   {
    "duration": 477,
    "start_time": "2022-02-04T21:09:52.726Z"
   },
   {
    "duration": 1001,
    "start_time": "2022-02-04T21:10:38.609Z"
   },
   {
    "duration": 999,
    "start_time": "2022-02-04T21:11:33.111Z"
   },
   {
    "duration": 979,
    "start_time": "2022-02-04T21:18:12.602Z"
   },
   {
    "duration": 1147,
    "start_time": "2022-02-04T21:43:02.340Z"
   },
   {
    "duration": 549,
    "start_time": "2022-02-04T22:03:52.614Z"
   },
   {
    "duration": 101,
    "start_time": "2022-02-04T22:04:32.058Z"
   },
   {
    "duration": 604,
    "start_time": "2022-02-04T22:04:43.474Z"
   },
   {
    "duration": 985,
    "start_time": "2022-02-04T22:05:15.022Z"
   },
   {
    "duration": 1432,
    "start_time": "2022-02-05T11:45:45.909Z"
   },
   {
    "duration": 5,
    "start_time": "2022-02-05T11:45:47.345Z"
   },
   {
    "duration": 119,
    "start_time": "2022-02-05T11:45:47.354Z"
   },
   {
    "duration": 694,
    "start_time": "2022-02-05T11:45:47.475Z"
   },
   {
    "duration": 311,
    "start_time": "2022-02-05T11:45:48.171Z"
   },
   {
    "duration": 549,
    "start_time": "2022-02-05T11:45:48.485Z"
   },
   {
    "duration": 46,
    "start_time": "2022-02-05T11:45:49.037Z"
   },
   {
    "duration": 3799,
    "start_time": "2022-02-05T11:45:49.086Z"
   },
   {
    "duration": 105,
    "start_time": "2022-02-05T11:45:52.887Z"
   },
   {
    "duration": 1899,
    "start_time": "2022-02-05T11:45:52.995Z"
   },
   {
    "duration": 7,
    "start_time": "2022-02-05T11:45:54.896Z"
   },
   {
    "duration": 75,
    "start_time": "2022-02-05T11:45:54.905Z"
   },
   {
    "duration": 5,
    "start_time": "2022-02-05T11:45:54.982Z"
   },
   {
    "duration": 119,
    "start_time": "2022-02-05T11:45:54.990Z"
   },
   {
    "duration": 79,
    "start_time": "2022-02-05T11:45:55.111Z"
   },
   {
    "duration": 43,
    "start_time": "2022-02-05T11:45:55.193Z"
   },
   {
    "duration": 1027,
    "start_time": "2022-02-05T11:45:55.239Z"
   },
   {
    "duration": 955,
    "start_time": "2022-02-05T11:52:02.405Z"
   },
   {
    "duration": 1108,
    "start_time": "2022-02-05T11:53:36.097Z"
   },
   {
    "duration": 83,
    "start_time": "2022-02-05T12:04:17.624Z"
   },
   {
    "duration": 88,
    "start_time": "2022-02-05T12:04:54.747Z"
   },
   {
    "duration": 91,
    "start_time": "2022-02-05T12:05:02.954Z"
   },
   {
    "duration": 88,
    "start_time": "2022-02-05T12:05:15.049Z"
   },
   {
    "duration": 74,
    "start_time": "2022-02-05T12:05:54.888Z"
   },
   {
    "duration": 87,
    "start_time": "2022-02-05T12:06:11.312Z"
   },
   {
    "duration": 128,
    "start_time": "2022-02-05T15:08:42.376Z"
   },
   {
    "duration": 79,
    "start_time": "2022-02-05T15:12:08.358Z"
   },
   {
    "duration": 89,
    "start_time": "2022-02-05T15:14:02.910Z"
   },
   {
    "duration": 110,
    "start_time": "2022-02-05T15:14:53.789Z"
   },
   {
    "duration": 112,
    "start_time": "2022-02-05T15:15:01.570Z"
   },
   {
    "duration": 82,
    "start_time": "2022-02-05T15:15:33.373Z"
   },
   {
    "duration": 4,
    "start_time": "2022-02-05T17:22:04.033Z"
   },
   {
    "duration": 12,
    "start_time": "2022-02-05T17:22:04.039Z"
   },
   {
    "duration": 115,
    "start_time": "2022-02-05T17:22:04.054Z"
   },
   {
    "duration": 608,
    "start_time": "2022-02-05T17:22:04.173Z"
   },
   {
    "duration": 303,
    "start_time": "2022-02-05T17:22:04.784Z"
   },
   {
    "duration": 491,
    "start_time": "2022-02-05T17:22:05.089Z"
   },
   {
    "duration": 52,
    "start_time": "2022-02-05T17:22:05.582Z"
   },
   {
    "duration": 3641,
    "start_time": "2022-02-05T17:22:05.640Z"
   },
   {
    "duration": 99,
    "start_time": "2022-02-05T17:22:09.284Z"
   },
   {
    "duration": 1933,
    "start_time": "2022-02-05T17:22:09.385Z"
   },
   {
    "duration": 7,
    "start_time": "2022-02-05T17:22:11.332Z"
   },
   {
    "duration": 51,
    "start_time": "2022-02-05T17:22:11.342Z"
   },
   {
    "duration": 7,
    "start_time": "2022-02-05T17:22:11.396Z"
   },
   {
    "duration": 76,
    "start_time": "2022-02-05T17:22:11.433Z"
   },
   {
    "duration": 71,
    "start_time": "2022-02-05T17:22:11.533Z"
   },
   {
    "duration": 16,
    "start_time": "2022-02-05T17:22:11.634Z"
   },
   {
    "duration": 95,
    "start_time": "2022-02-05T17:22:11.653Z"
   },
   {
    "duration": 6857,
    "start_time": "2022-02-05T17:25:29.422Z"
   },
   {
    "duration": 6765,
    "start_time": "2022-02-05T17:26:32.355Z"
   },
   {
    "duration": 6261,
    "start_time": "2022-02-05T17:28:35.341Z"
   },
   {
    "duration": 6172,
    "start_time": "2022-02-05T17:29:56.175Z"
   },
   {
    "duration": 3987,
    "start_time": "2022-02-05T17:32:29.433Z"
   },
   {
    "duration": 72,
    "start_time": "2022-02-05T17:33:12.565Z"
   },
   {
    "duration": 3922,
    "start_time": "2022-02-05T17:34:00.631Z"
   },
   {
    "duration": 3959,
    "start_time": "2022-02-05T17:34:07.987Z"
   },
   {
    "duration": 3831,
    "start_time": "2022-02-05T17:34:31.945Z"
   },
   {
    "duration": 4683,
    "start_time": "2022-02-05T17:35:51.079Z"
   },
   {
    "duration": 318,
    "start_time": "2022-02-05T17:36:20.571Z"
   },
   {
    "duration": 97,
    "start_time": "2022-02-05T17:37:41.991Z"
   },
   {
    "duration": 5,
    "start_time": "2022-02-05T17:38:05.713Z"
   },
   {
    "duration": 15,
    "start_time": "2022-02-05T17:38:05.723Z"
   },
   {
    "duration": 111,
    "start_time": "2022-02-05T17:38:05.741Z"
   },
   {
    "duration": 660,
    "start_time": "2022-02-05T17:38:05.856Z"
   },
   {
    "duration": 313,
    "start_time": "2022-02-05T17:38:06.518Z"
   },
   {
    "duration": 444,
    "start_time": "2022-02-05T17:38:06.834Z"
   },
   {
    "duration": 58,
    "start_time": "2022-02-05T17:38:07.281Z"
   },
   {
    "duration": 4792,
    "start_time": "2022-02-05T17:38:07.342Z"
   },
   {
    "duration": 135,
    "start_time": "2022-02-05T17:38:12.138Z"
   },
   {
    "duration": 1928,
    "start_time": "2022-02-05T17:38:12.277Z"
   },
   {
    "duration": 27,
    "start_time": "2022-02-05T17:38:14.208Z"
   },
   {
    "duration": 42,
    "start_time": "2022-02-05T17:38:14.237Z"
   },
   {
    "duration": 6,
    "start_time": "2022-02-05T17:38:14.282Z"
   },
   {
    "duration": 117,
    "start_time": "2022-02-05T17:38:14.291Z"
   },
   {
    "duration": 65,
    "start_time": "2022-02-05T17:38:14.433Z"
   },
   {
    "duration": 37,
    "start_time": "2022-02-05T17:38:14.500Z"
   },
   {
    "duration": 3974,
    "start_time": "2022-02-05T17:38:14.539Z"
   },
   {
    "duration": -1586,
    "start_time": "2022-02-05T17:38:20.102Z"
   },
   {
    "duration": 326,
    "start_time": "2022-02-05T17:38:34.532Z"
   },
   {
    "duration": 103,
    "start_time": "2022-02-05T17:41:48.769Z"
   },
   {
    "duration": 5,
    "start_time": "2022-02-05T17:42:01.384Z"
   },
   {
    "duration": 18,
    "start_time": "2022-02-05T17:42:01.393Z"
   },
   {
    "duration": 115,
    "start_time": "2022-02-05T17:42:01.414Z"
   },
   {
    "duration": 626,
    "start_time": "2022-02-05T17:42:01.532Z"
   },
   {
    "duration": 323,
    "start_time": "2022-02-05T17:42:02.160Z"
   },
   {
    "duration": 420,
    "start_time": "2022-02-05T17:42:02.486Z"
   },
   {
    "duration": 49,
    "start_time": "2022-02-05T17:42:02.909Z"
   },
   {
    "duration": 3743,
    "start_time": "2022-02-05T17:42:02.962Z"
   },
   {
    "duration": 103,
    "start_time": "2022-02-05T17:42:06.707Z"
   },
   {
    "duration": 1947,
    "start_time": "2022-02-05T17:42:06.813Z"
   },
   {
    "duration": 7,
    "start_time": "2022-02-05T17:42:08.762Z"
   },
   {
    "duration": 70,
    "start_time": "2022-02-05T17:42:08.771Z"
   },
   {
    "duration": 5,
    "start_time": "2022-02-05T17:42:08.843Z"
   },
   {
    "duration": 108,
    "start_time": "2022-02-05T17:42:08.851Z"
   },
   {
    "duration": 89,
    "start_time": "2022-02-05T17:42:08.962Z"
   },
   {
    "duration": 13,
    "start_time": "2022-02-05T17:42:09.054Z"
   },
   {
    "duration": 280,
    "start_time": "2022-02-05T17:42:09.069Z"
   },
   {
    "duration": 351,
    "start_time": "2022-02-05T17:42:09.352Z"
   },
   {
    "duration": 254,
    "start_time": "2022-02-05T17:44:20.593Z"
   },
   {
    "duration": 762,
    "start_time": "2022-02-05T17:47:24.328Z"
   },
   {
    "duration": 1408,
    "start_time": "2022-02-05T18:06:42.773Z"
   },
   {
    "duration": 805,
    "start_time": "2022-02-05T18:07:00.130Z"
   },
   {
    "duration": 728,
    "start_time": "2022-02-05T18:08:03.055Z"
   },
   {
    "duration": 5,
    "start_time": "2022-02-05T18:09:36.250Z"
   },
   {
    "duration": 10,
    "start_time": "2022-02-05T18:09:36.258Z"
   },
   {
    "duration": 103,
    "start_time": "2022-02-05T18:09:36.271Z"
   },
   {
    "duration": 606,
    "start_time": "2022-02-05T18:09:36.378Z"
   },
   {
    "duration": 295,
    "start_time": "2022-02-05T18:09:36.987Z"
   },
   {
    "duration": 416,
    "start_time": "2022-02-05T18:09:37.284Z"
   },
   {
    "duration": 40,
    "start_time": "2022-02-05T18:09:37.703Z"
   },
   {
    "duration": 3751,
    "start_time": "2022-02-05T18:09:37.746Z"
   },
   {
    "duration": 101,
    "start_time": "2022-02-05T18:09:41.500Z"
   },
   {
    "duration": 1950,
    "start_time": "2022-02-05T18:09:41.604Z"
   },
   {
    "duration": 7,
    "start_time": "2022-02-05T18:09:43.557Z"
   },
   {
    "duration": 43,
    "start_time": "2022-02-05T18:09:43.566Z"
   },
   {
    "duration": 22,
    "start_time": "2022-02-05T18:09:43.612Z"
   },
   {
    "duration": 109,
    "start_time": "2022-02-05T18:09:43.636Z"
   },
   {
    "duration": 85,
    "start_time": "2022-02-05T18:09:43.747Z"
   },
   {
    "duration": 14,
    "start_time": "2022-02-05T18:09:43.834Z"
   },
   {
    "duration": 734,
    "start_time": "2022-02-05T18:09:43.850Z"
   },
   {
    "duration": 42,
    "start_time": "2022-02-05T18:49:24.150Z"
   },
   {
    "duration": 715,
    "start_time": "2022-02-05T18:50:26.929Z"
   },
   {
    "duration": 42,
    "start_time": "2022-02-05T18:50:37.425Z"
   },
   {
    "duration": 33,
    "start_time": "2022-02-05T18:57:12.951Z"
   },
   {
    "duration": 1232,
    "start_time": "2022-02-05T19:01:00.665Z"
   },
   {
    "duration": 89,
    "start_time": "2022-02-05T19:01:15.521Z"
   },
   {
    "duration": 121,
    "start_time": "2022-02-05T19:03:25.340Z"
   },
   {
    "duration": 804,
    "start_time": "2022-02-05T19:07:26.882Z"
   },
   {
    "duration": 770,
    "start_time": "2022-02-05T19:07:36.793Z"
   },
   {
    "duration": 296,
    "start_time": "2022-02-05T19:12:47.730Z"
   },
   {
    "duration": 732,
    "start_time": "2022-02-05T19:12:56.469Z"
   },
   {
    "duration": 395,
    "start_time": "2022-02-05T19:16:12.078Z"
   },
   {
    "duration": 550,
    "start_time": "2022-02-05T19:16:38.959Z"
   },
   {
    "duration": 425,
    "start_time": "2022-02-05T19:16:58.775Z"
   },
   {
    "duration": 6835,
    "start_time": "2022-02-05T19:17:53.756Z"
   },
   {
    "duration": 408,
    "start_time": "2022-02-05T19:19:36.850Z"
   },
   {
    "duration": 320,
    "start_time": "2022-02-05T19:20:09.406Z"
   },
   {
    "duration": 407,
    "start_time": "2022-02-05T19:20:25.571Z"
   },
   {
    "duration": 359,
    "start_time": "2022-02-05T19:21:16.342Z"
   },
   {
    "duration": 287,
    "start_time": "2022-02-05T19:22:01.221Z"
   },
   {
    "duration": 452,
    "start_time": "2022-02-05T19:22:10.736Z"
   },
   {
    "duration": 420,
    "start_time": "2022-02-05T19:23:26.545Z"
   },
   {
    "duration": 1081,
    "start_time": "2022-02-05T19:23:41.578Z"
   },
   {
    "duration": 753,
    "start_time": "2022-02-05T19:24:44.051Z"
   },
   {
    "duration": 1051,
    "start_time": "2022-02-05T19:27:49.489Z"
   },
   {
    "duration": 1117,
    "start_time": "2022-02-05T19:28:00.226Z"
   },
   {
    "duration": 1047,
    "start_time": "2022-02-05T19:28:29.356Z"
   },
   {
    "duration": 1062,
    "start_time": "2022-02-05T19:28:35.513Z"
   },
   {
    "duration": 1390,
    "start_time": "2022-02-05T19:31:46.744Z"
   },
   {
    "duration": 1426,
    "start_time": "2022-02-05T19:33:32.108Z"
   },
   {
    "duration": 668,
    "start_time": "2022-02-05T19:51:36.774Z"
   },
   {
    "duration": 423,
    "start_time": "2022-02-05T19:52:51.188Z"
   },
   {
    "duration": 437,
    "start_time": "2022-02-05T19:53:07.757Z"
   },
   {
    "duration": 423,
    "start_time": "2022-02-05T19:53:29.879Z"
   },
   {
    "duration": 1121,
    "start_time": "2022-02-05T19:55:55.394Z"
   },
   {
    "duration": 287,
    "start_time": "2022-02-05T19:58:53.276Z"
   },
   {
    "duration": 906,
    "start_time": "2022-02-05T19:59:09.535Z"
   },
   {
    "duration": 875,
    "start_time": "2022-02-05T19:59:37.693Z"
   },
   {
    "duration": 948,
    "start_time": "2022-02-05T20:06:01.220Z"
   },
   {
    "duration": 889,
    "start_time": "2022-02-05T20:06:36.185Z"
   },
   {
    "duration": 548,
    "start_time": "2022-02-05T20:07:02.731Z"
   },
   {
    "duration": 530,
    "start_time": "2022-02-05T20:07:35.428Z"
   },
   {
    "duration": 574,
    "start_time": "2022-02-05T20:07:55.679Z"
   },
   {
    "duration": 96,
    "start_time": "2022-02-05T20:08:10.477Z"
   },
   {
    "duration": 680,
    "start_time": "2022-02-05T20:08:15.601Z"
   },
   {
    "duration": 447,
    "start_time": "2022-02-05T20:08:23.550Z"
   },
   {
    "duration": 448,
    "start_time": "2022-02-05T20:09:18.686Z"
   },
   {
    "duration": 462,
    "start_time": "2022-02-05T20:09:48.839Z"
   },
   {
    "duration": 782,
    "start_time": "2022-02-05T20:12:34.376Z"
   },
   {
    "duration": 1123,
    "start_time": "2022-02-05T20:13:57.800Z"
   },
   {
    "duration": 1116,
    "start_time": "2022-02-05T20:27:59.048Z"
   },
   {
    "duration": 1101,
    "start_time": "2022-02-05T20:28:55.163Z"
   },
   {
    "duration": 1091,
    "start_time": "2022-02-05T20:29:37.052Z"
   },
   {
    "duration": 4,
    "start_time": "2022-02-05T22:21:46.150Z"
   },
   {
    "duration": 5,
    "start_time": "2022-02-05T22:22:49.245Z"
   },
   {
    "duration": 6,
    "start_time": "2022-02-05T22:22:49.252Z"
   },
   {
    "duration": 437,
    "start_time": "2022-02-05T22:22:49.261Z"
   },
   {
    "duration": 639,
    "start_time": "2022-02-05T22:22:49.701Z"
   },
   {
    "duration": 315,
    "start_time": "2022-02-05T22:22:50.342Z"
   },
   {
    "duration": 428,
    "start_time": "2022-02-05T22:22:50.659Z"
   },
   {
    "duration": 49,
    "start_time": "2022-02-05T22:22:51.089Z"
   },
   {
    "duration": 3694,
    "start_time": "2022-02-05T22:22:51.142Z"
   },
   {
    "duration": 107,
    "start_time": "2022-02-05T22:22:54.839Z"
   },
   {
    "duration": 2014,
    "start_time": "2022-02-05T22:22:54.949Z"
   },
   {
    "duration": 6,
    "start_time": "2022-02-05T22:22:56.966Z"
   },
   {
    "duration": 74,
    "start_time": "2022-02-05T22:22:56.974Z"
   },
   {
    "duration": 7,
    "start_time": "2022-02-05T22:22:57.051Z"
   },
   {
    "duration": 111,
    "start_time": "2022-02-05T22:22:57.060Z"
   },
   {
    "duration": 99,
    "start_time": "2022-02-05T22:22:57.174Z"
   },
   {
    "duration": 13,
    "start_time": "2022-02-05T22:22:57.276Z"
   },
   {
    "duration": 784,
    "start_time": "2022-02-05T22:22:57.291Z"
   },
   {
    "duration": 1118,
    "start_time": "2022-02-05T22:22:58.077Z"
   },
   {
    "duration": 12,
    "start_time": "2022-02-05T22:30:03.676Z"
   },
   {
    "duration": 51,
    "start_time": "2022-02-05T22:31:04.380Z"
   },
   {
    "duration": 14,
    "start_time": "2022-02-05T22:31:26.656Z"
   },
   {
    "duration": 15,
    "start_time": "2022-02-05T22:32:41.876Z"
   },
   {
    "duration": 253,
    "start_time": "2022-02-05T22:32:58.020Z"
   },
   {
    "duration": 318,
    "start_time": "2022-02-05T22:33:05.271Z"
   },
   {
    "duration": 14,
    "start_time": "2022-02-05T22:33:19.764Z"
   },
   {
    "duration": 15,
    "start_time": "2022-02-05T22:33:27.303Z"
   },
   {
    "duration": 16,
    "start_time": "2022-02-05T22:37:10.536Z"
   },
   {
    "duration": 18,
    "start_time": "2022-02-05T22:38:32.071Z"
   },
   {
    "duration": 17,
    "start_time": "2022-02-05T22:39:43.710Z"
   },
   {
    "duration": 261,
    "start_time": "2022-02-05T22:46:00.043Z"
   },
   {
    "duration": 268,
    "start_time": "2022-02-05T22:46:27.392Z"
   },
   {
    "duration": 18,
    "start_time": "2022-02-05T22:47:48.610Z"
   },
   {
    "duration": 18,
    "start_time": "2022-02-05T22:48:17.302Z"
   },
   {
    "duration": 20,
    "start_time": "2022-02-05T22:48:23.548Z"
   },
   {
    "duration": 24,
    "start_time": "2022-02-05T22:49:43.401Z"
   },
   {
    "duration": 18,
    "start_time": "2022-02-05T22:50:39.268Z"
   },
   {
    "duration": 19,
    "start_time": "2022-02-05T22:51:58.486Z"
   },
   {
    "duration": 19,
    "start_time": "2022-02-05T22:52:12.539Z"
   },
   {
    "duration": 18,
    "start_time": "2022-02-05T22:54:34.405Z"
   },
   {
    "duration": 17,
    "start_time": "2022-02-05T22:54:42.777Z"
   },
   {
    "duration": 17,
    "start_time": "2022-02-05T22:54:51.776Z"
   },
   {
    "duration": 18,
    "start_time": "2022-02-05T22:55:38.652Z"
   },
   {
    "duration": 18,
    "start_time": "2022-02-05T22:56:11.294Z"
   },
   {
    "duration": 19,
    "start_time": "2022-02-05T22:56:21.840Z"
   },
   {
    "duration": 19,
    "start_time": "2022-02-05T22:59:08.642Z"
   },
   {
    "duration": 15,
    "start_time": "2022-02-05T22:59:50.271Z"
   },
   {
    "duration": 54,
    "start_time": "2022-02-05T23:00:02.171Z"
   },
   {
    "duration": 34,
    "start_time": "2022-02-05T23:00:36.025Z"
   },
   {
    "duration": 14,
    "start_time": "2022-02-05T23:00:57.713Z"
   },
   {
    "duration": 296,
    "start_time": "2022-02-05T23:06:00.977Z"
   },
   {
    "duration": 15,
    "start_time": "2022-02-05T23:10:17.447Z"
   },
   {
    "duration": 15,
    "start_time": "2022-02-05T23:10:27.919Z"
   },
   {
    "duration": 16,
    "start_time": "2022-02-05T23:10:32.375Z"
   },
   {
    "duration": 16,
    "start_time": "2022-02-05T23:12:22.848Z"
   },
   {
    "duration": 16,
    "start_time": "2022-02-05T23:16:05.502Z"
   },
   {
    "duration": 15,
    "start_time": "2022-02-05T23:16:16.491Z"
   },
   {
    "duration": 18,
    "start_time": "2022-02-05T23:17:34.601Z"
   },
   {
    "duration": 16,
    "start_time": "2022-02-05T23:17:42.005Z"
   },
   {
    "duration": 16,
    "start_time": "2022-02-05T23:23:23.268Z"
   },
   {
    "duration": 297,
    "start_time": "2022-02-05T23:28:53.212Z"
   },
   {
    "duration": 569,
    "start_time": "2022-02-05T23:29:29.358Z"
   },
   {
    "duration": 600,
    "start_time": "2022-02-05T23:30:26.209Z"
   },
   {
    "duration": 573,
    "start_time": "2022-02-05T23:30:49.303Z"
   },
   {
    "duration": 18,
    "start_time": "2022-02-05T23:35:33.873Z"
   },
   {
    "duration": 83,
    "start_time": "2022-02-05T23:36:18.777Z"
   },
   {
    "duration": 90,
    "start_time": "2022-02-05T23:36:26.835Z"
   },
   {
    "duration": 17,
    "start_time": "2022-02-05T23:36:41.225Z"
   },
   {
    "duration": 19,
    "start_time": "2022-02-05T23:36:59.467Z"
   },
   {
    "duration": 24,
    "start_time": "2022-02-05T23:38:47.579Z"
   },
   {
    "duration": 302,
    "start_time": "2022-02-05T23:43:18.074Z"
   },
   {
    "duration": 17,
    "start_time": "2022-02-05T23:43:32.299Z"
   },
   {
    "duration": 18,
    "start_time": "2022-02-05T23:45:50.149Z"
   },
   {
    "duration": 18,
    "start_time": "2022-02-05T23:46:09.959Z"
   },
   {
    "duration": 269,
    "start_time": "2022-02-05T23:56:52.802Z"
   },
   {
    "duration": 278,
    "start_time": "2022-02-05T23:59:01.579Z"
   },
   {
    "duration": 297,
    "start_time": "2022-02-05T23:59:14.920Z"
   },
   {
    "duration": 262,
    "start_time": "2022-02-05T23:59:44.586Z"
   },
   {
    "duration": 1174,
    "start_time": "2022-02-06T07:40:06.015Z"
   },
   {
    "duration": 3,
    "start_time": "2022-02-06T07:40:07.191Z"
   },
   {
    "duration": 87,
    "start_time": "2022-02-06T07:40:07.195Z"
   },
   {
    "duration": 501,
    "start_time": "2022-02-06T07:40:07.284Z"
   },
   {
    "duration": 236,
    "start_time": "2022-02-06T07:40:07.787Z"
   },
   {
    "duration": 336,
    "start_time": "2022-02-06T07:40:08.025Z"
   },
   {
    "duration": 32,
    "start_time": "2022-02-06T07:40:08.362Z"
   },
   {
    "duration": 2356,
    "start_time": "2022-02-06T07:40:08.397Z"
   },
   {
    "duration": 97,
    "start_time": "2022-02-06T07:40:10.756Z"
   },
   {
    "duration": 1098,
    "start_time": "2022-02-06T07:40:10.855Z"
   },
   {
    "duration": 6,
    "start_time": "2022-02-06T07:40:11.955Z"
   },
   {
    "duration": 28,
    "start_time": "2022-02-06T07:40:11.963Z"
   },
   {
    "duration": 27,
    "start_time": "2022-02-06T07:40:11.993Z"
   },
   {
    "duration": 60,
    "start_time": "2022-02-06T07:40:12.023Z"
   },
   {
    "duration": 64,
    "start_time": "2022-02-06T07:40:12.084Z"
   },
   {
    "duration": 8,
    "start_time": "2022-02-06T07:40:12.150Z"
   },
   {
    "duration": 413,
    "start_time": "2022-02-06T07:40:12.160Z"
   },
   {
    "duration": 706,
    "start_time": "2022-02-06T07:40:12.575Z"
   },
   {
    "duration": 370,
    "start_time": "2022-02-06T07:40:13.283Z"
   },
   {
    "duration": 251,
    "start_time": "2022-02-06T08:02:32.637Z"
   },
   {
    "duration": 14,
    "start_time": "2022-02-06T08:02:38.334Z"
   },
   {
    "duration": 14,
    "start_time": "2022-02-06T08:07:18.813Z"
   },
   {
    "duration": 15,
    "start_time": "2022-02-06T08:08:49.568Z"
   },
   {
    "duration": 16,
    "start_time": "2022-02-06T08:13:55.811Z"
   },
   {
    "duration": 16,
    "start_time": "2022-02-06T08:28:16.931Z"
   },
   {
    "duration": 16,
    "start_time": "2022-02-06T08:30:58.699Z"
   },
   {
    "duration": 16,
    "start_time": "2022-02-06T08:31:07.805Z"
   },
   {
    "duration": 83,
    "start_time": "2022-02-06T08:31:20.316Z"
   },
   {
    "duration": 16,
    "start_time": "2022-02-06T08:31:27.800Z"
   },
   {
    "duration": 15,
    "start_time": "2022-02-06T08:31:43.853Z"
   },
   {
    "duration": 14,
    "start_time": "2022-02-06T08:33:18.708Z"
   },
   {
    "duration": 15,
    "start_time": "2022-02-06T08:35:22.296Z"
   },
   {
    "duration": 16,
    "start_time": "2022-02-06T08:46:18.078Z"
   },
   {
    "duration": 14,
    "start_time": "2022-02-06T09:04:28.457Z"
   },
   {
    "duration": 16,
    "start_time": "2022-02-06T09:04:37.177Z"
   },
   {
    "duration": 16,
    "start_time": "2022-02-06T09:20:25.374Z"
   },
   {
    "duration": 16,
    "start_time": "2022-02-06T09:29:17.429Z"
   },
   {
    "duration": 16,
    "start_time": "2022-02-06T09:30:38.184Z"
   },
   {
    "duration": 18,
    "start_time": "2022-02-06T09:55:35.828Z"
   },
   {
    "duration": 16,
    "start_time": "2022-02-06T10:02:05.240Z"
   },
   {
    "duration": 85,
    "start_time": "2022-02-06T10:04:00.633Z"
   },
   {
    "duration": 16,
    "start_time": "2022-02-06T10:04:06.257Z"
   },
   {
    "duration": 15,
    "start_time": "2022-02-06T10:04:13.801Z"
   },
   {
    "duration": 17,
    "start_time": "2022-02-06T10:04:17.662Z"
   },
   {
    "duration": 16,
    "start_time": "2022-02-06T10:04:25.418Z"
   },
   {
    "duration": 91,
    "start_time": "2022-02-06T10:04:38.020Z"
   },
   {
    "duration": 20,
    "start_time": "2022-02-06T10:04:41.136Z"
   },
   {
    "duration": 1141,
    "start_time": "2022-02-06T14:16:04.550Z"
   },
   {
    "duration": 3,
    "start_time": "2022-02-06T14:16:05.693Z"
   },
   {
    "duration": 95,
    "start_time": "2022-02-06T14:16:05.699Z"
   },
   {
    "duration": 589,
    "start_time": "2022-02-06T14:16:05.797Z"
   },
   {
    "duration": 303,
    "start_time": "2022-02-06T14:16:06.388Z"
   },
   {
    "duration": 379,
    "start_time": "2022-02-06T14:16:06.693Z"
   },
   {
    "duration": 40,
    "start_time": "2022-02-06T14:16:07.074Z"
   },
   {
    "duration": 2327,
    "start_time": "2022-02-06T14:16:07.117Z"
   },
   {
    "duration": 85,
    "start_time": "2022-02-06T14:16:09.447Z"
   },
   {
    "duration": 1189,
    "start_time": "2022-02-06T14:16:09.534Z"
   },
   {
    "duration": 6,
    "start_time": "2022-02-06T14:16:10.724Z"
   },
   {
    "duration": 40,
    "start_time": "2022-02-06T14:16:10.731Z"
   },
   {
    "duration": 4,
    "start_time": "2022-02-06T14:16:10.773Z"
   },
   {
    "duration": 81,
    "start_time": "2022-02-06T14:16:10.779Z"
   },
   {
    "duration": 65,
    "start_time": "2022-02-06T14:16:10.862Z"
   },
   {
    "duration": 10,
    "start_time": "2022-02-06T14:16:10.929Z"
   },
   {
    "duration": 487,
    "start_time": "2022-02-06T14:16:10.940Z"
   },
   {
    "duration": 771,
    "start_time": "2022-02-06T14:16:11.429Z"
   },
   {
    "duration": 21,
    "start_time": "2022-02-06T14:16:12.201Z"
   },
   {
    "duration": 17,
    "start_time": "2022-02-06T14:16:12.224Z"
   },
   {
    "duration": 200,
    "start_time": "2022-02-06T16:43:03.556Z"
   },
   {
    "duration": 16,
    "start_time": "2022-02-06T16:44:46.487Z"
   },
   {
    "duration": 1102,
    "start_time": "2022-02-06T17:23:03.110Z"
   },
   {
    "duration": 1964,
    "start_time": "2022-02-06T17:24:18.019Z"
   },
   {
    "duration": 1080,
    "start_time": "2022-02-06T17:24:39.120Z"
   },
   {
    "duration": 4,
    "start_time": "2022-02-06T17:32:58.761Z"
   },
   {
    "duration": 12,
    "start_time": "2022-02-06T17:32:58.771Z"
   },
   {
    "duration": 113,
    "start_time": "2022-02-06T17:32:58.785Z"
   },
   {
    "duration": 629,
    "start_time": "2022-02-06T17:32:58.900Z"
   },
   {
    "duration": 334,
    "start_time": "2022-02-06T17:32:59.532Z"
   },
   {
    "duration": 433,
    "start_time": "2022-02-06T17:32:59.867Z"
   },
   {
    "duration": 50,
    "start_time": "2022-02-06T17:33:00.306Z"
   },
   {
    "duration": 3024,
    "start_time": "2022-02-06T17:33:00.358Z"
   },
   {
    "duration": 108,
    "start_time": "2022-02-06T17:33:03.385Z"
   },
   {
    "duration": 1385,
    "start_time": "2022-02-06T17:33:03.497Z"
   },
   {
    "duration": 6,
    "start_time": "2022-02-06T17:33:04.884Z"
   },
   {
    "duration": 40,
    "start_time": "2022-02-06T17:33:04.908Z"
   },
   {
    "duration": 4,
    "start_time": "2022-02-06T17:33:04.951Z"
   },
   {
    "duration": 89,
    "start_time": "2022-02-06T17:33:04.957Z"
   },
   {
    "duration": 80,
    "start_time": "2022-02-06T17:33:05.048Z"
   },
   {
    "duration": 11,
    "start_time": "2022-02-06T17:33:05.130Z"
   },
   {
    "duration": 490,
    "start_time": "2022-02-06T17:33:05.143Z"
   },
   {
    "duration": 1228,
    "start_time": "2022-02-06T17:33:05.635Z"
   },
   {
    "duration": 19,
    "start_time": "2022-02-06T17:33:06.864Z"
   },
   {
    "duration": 40,
    "start_time": "2022-02-06T17:33:06.885Z"
   },
   {
    "duration": 83,
    "start_time": "2022-02-06T17:42:44.511Z"
   },
   {
    "duration": 3,
    "start_time": "2022-02-06T18:10:17.846Z"
   },
   {
    "duration": 17,
    "start_time": "2022-02-06T18:10:17.851Z"
   },
   {
    "duration": 99,
    "start_time": "2022-02-06T18:10:17.870Z"
   },
   {
    "duration": 558,
    "start_time": "2022-02-06T18:10:17.972Z"
   },
   {
    "duration": 282,
    "start_time": "2022-02-06T18:10:18.532Z"
   },
   {
    "duration": 378,
    "start_time": "2022-02-06T18:10:18.817Z"
   },
   {
    "duration": 36,
    "start_time": "2022-02-06T18:10:19.197Z"
   },
   {
    "duration": 2315,
    "start_time": "2022-02-06T18:10:19.237Z"
   },
   {
    "duration": 90,
    "start_time": "2022-02-06T18:10:21.554Z"
   },
   {
    "duration": 1189,
    "start_time": "2022-02-06T18:10:21.646Z"
   },
   {
    "duration": 5,
    "start_time": "2022-02-06T18:10:22.837Z"
   },
   {
    "duration": 30,
    "start_time": "2022-02-06T18:10:22.844Z"
   },
   {
    "duration": 4,
    "start_time": "2022-02-06T18:10:22.876Z"
   },
   {
    "duration": 55,
    "start_time": "2022-02-06T18:10:22.908Z"
   },
   {
    "duration": 76,
    "start_time": "2022-02-06T18:10:22.965Z"
   },
   {
    "duration": 11,
    "start_time": "2022-02-06T18:10:23.043Z"
   },
   {
    "duration": 470,
    "start_time": "2022-02-06T18:10:23.056Z"
   },
   {
    "duration": 1021,
    "start_time": "2022-02-06T18:10:23.528Z"
   },
   {
    "duration": 19,
    "start_time": "2022-02-06T18:10:24.551Z"
   },
   {
    "duration": 42,
    "start_time": "2022-02-06T18:10:24.572Z"
   },
   {
    "duration": 1451,
    "start_time": "2022-02-12T21:54:29.366Z"
   },
   {
    "duration": 3,
    "start_time": "2022-02-12T21:54:30.820Z"
   },
   {
    "duration": 107,
    "start_time": "2022-02-12T21:54:30.833Z"
   },
   {
    "duration": 701,
    "start_time": "2022-02-12T21:54:30.944Z"
   },
   {
    "duration": 344,
    "start_time": "2022-02-12T21:54:31.647Z"
   },
   {
    "duration": 578,
    "start_time": "2022-02-12T21:54:31.994Z"
   },
   {
    "duration": 37,
    "start_time": "2022-02-12T21:54:32.575Z"
   },
   {
    "duration": 4553,
    "start_time": "2022-02-12T21:54:32.633Z"
   },
   {
    "duration": 112,
    "start_time": "2022-02-12T21:54:37.189Z"
   },
   {
    "duration": 1941,
    "start_time": "2022-02-12T21:54:37.304Z"
   },
   {
    "duration": 7,
    "start_time": "2022-02-12T21:54:39.247Z"
   },
   {
    "duration": 45,
    "start_time": "2022-02-12T21:54:39.256Z"
   },
   {
    "duration": 29,
    "start_time": "2022-02-12T21:54:39.303Z"
   },
   {
    "duration": 100,
    "start_time": "2022-02-12T21:54:39.334Z"
   },
   {
    "duration": 65,
    "start_time": "2022-02-12T21:54:39.436Z"
   },
   {
    "duration": 39,
    "start_time": "2022-02-12T21:54:39.503Z"
   },
   {
    "duration": 728,
    "start_time": "2022-02-12T21:54:39.544Z"
   },
   {
    "duration": 1506,
    "start_time": "2022-02-12T21:54:40.275Z"
   },
   {
    "duration": 24,
    "start_time": "2022-02-12T21:54:41.783Z"
   },
   {
    "duration": 25,
    "start_time": "2022-02-12T21:54:41.832Z"
   },
   {
    "duration": 1469,
    "start_time": "2022-02-13T13:37:49.332Z"
   },
   {
    "duration": 3,
    "start_time": "2022-02-13T13:37:50.804Z"
   },
   {
    "duration": 105,
    "start_time": "2022-02-13T13:37:50.810Z"
   },
   {
    "duration": 616,
    "start_time": "2022-02-13T13:37:50.917Z"
   },
   {
    "duration": 303,
    "start_time": "2022-02-13T13:37:51.536Z"
   },
   {
    "duration": 426,
    "start_time": "2022-02-13T13:37:51.842Z"
   },
   {
    "duration": 60,
    "start_time": "2022-02-13T13:37:52.272Z"
   },
   {
    "duration": 3975,
    "start_time": "2022-02-13T13:37:52.336Z"
   },
   {
    "duration": 95,
    "start_time": "2022-02-13T13:37:56.315Z"
   },
   {
    "duration": 1989,
    "start_time": "2022-02-13T13:37:56.413Z"
   },
   {
    "duration": 7,
    "start_time": "2022-02-13T13:37:58.404Z"
   },
   {
    "duration": 197,
    "start_time": "2022-02-13T13:37:58.433Z"
   },
   {
    "duration": 4,
    "start_time": "2022-02-13T13:37:58.633Z"
   },
   {
    "duration": 115,
    "start_time": "2022-02-13T13:37:58.640Z"
   },
   {
    "duration": 89,
    "start_time": "2022-02-13T13:37:58.757Z"
   },
   {
    "duration": 13,
    "start_time": "2022-02-13T13:37:58.849Z"
   },
   {
    "duration": 724,
    "start_time": "2022-02-13T13:37:58.864Z"
   },
   {
    "duration": 1525,
    "start_time": "2022-02-13T13:37:59.591Z"
   },
   {
    "duration": 33,
    "start_time": "2022-02-13T13:38:01.119Z"
   },
   {
    "duration": 24,
    "start_time": "2022-02-13T13:38:01.154Z"
   },
   {
    "duration": -1845,
    "start_time": "2022-02-13T13:42:09.721Z"
   },
   {
    "duration": 4776,
    "start_time": "2022-02-13T13:42:08.400Z"
   },
   {
    "duration": 4749,
    "start_time": "2022-02-13T13:42:30.370Z"
   },
   {
    "duration": 5051,
    "start_time": "2022-02-13T13:45:24.569Z"
   },
   {
    "duration": 255,
    "start_time": "2022-02-13T13:46:48.137Z"
   },
   {
    "duration": 175,
    "start_time": "2022-02-13T13:47:04.312Z"
   },
   {
    "duration": 128,
    "start_time": "2022-02-13T13:49:27.339Z"
   },
   {
    "duration": 77,
    "start_time": "2022-02-13T13:51:05.810Z"
   },
   {
    "duration": 5,
    "start_time": "2022-02-13T13:51:10.713Z"
   },
   {
    "duration": 12,
    "start_time": "2022-02-13T13:51:10.721Z"
   },
   {
    "duration": 144,
    "start_time": "2022-02-13T13:51:10.739Z"
   },
   {
    "duration": 761,
    "start_time": "2022-02-13T13:51:10.887Z"
   },
   {
    "duration": 340,
    "start_time": "2022-02-13T13:51:11.651Z"
   },
   {
    "duration": 499,
    "start_time": "2022-02-13T13:51:11.993Z"
   },
   {
    "duration": 53,
    "start_time": "2022-02-13T13:51:12.495Z"
   },
   {
    "duration": 229,
    "start_time": "2022-02-13T13:51:12.552Z"
   },
   {
    "duration": 109,
    "start_time": "2022-02-13T13:51:12.784Z"
   },
   {
    "duration": 2039,
    "start_time": "2022-02-13T13:51:12.895Z"
   },
   {
    "duration": 8,
    "start_time": "2022-02-13T13:51:14.937Z"
   },
   {
    "duration": 114,
    "start_time": "2022-02-13T13:51:14.948Z"
   },
   {
    "duration": 74,
    "start_time": "2022-02-13T13:51:15.065Z"
   },
   {
    "duration": 166,
    "start_time": "2022-02-13T13:51:15.142Z"
   },
   {
    "duration": 122,
    "start_time": "2022-02-13T13:51:15.312Z"
   },
   {
    "duration": 94,
    "start_time": "2022-02-13T13:51:15.437Z"
   },
   {
    "duration": 1233,
    "start_time": "2022-02-13T13:51:15.534Z"
   },
   {
    "duration": 2235,
    "start_time": "2022-02-13T13:51:16.770Z"
   },
   {
    "duration": 38,
    "start_time": "2022-02-13T13:51:19.008Z"
   },
   {
    "duration": 27,
    "start_time": "2022-02-13T13:51:19.049Z"
   },
   {
    "duration": 1588,
    "start_time": "2022-02-13T14:04:34.346Z"
   },
   {
    "duration": 1492,
    "start_time": "2022-02-13T14:05:03.993Z"
   },
   {
    "duration": 1511,
    "start_time": "2022-02-13T14:06:11.850Z"
   },
   {
    "duration": 1732,
    "start_time": "2022-02-13T14:08:10.927Z"
   },
   {
    "duration": 85,
    "start_time": "2022-02-13T14:11:18.903Z"
   },
   {
    "duration": 84,
    "start_time": "2022-02-13T14:11:47.481Z"
   },
   {
    "duration": 89,
    "start_time": "2022-02-13T14:12:00.875Z"
   },
   {
    "duration": 1501,
    "start_time": "2022-02-13T14:14:20.058Z"
   },
   {
    "duration": 1508,
    "start_time": "2022-02-13T14:14:42.468Z"
   },
   {
    "duration": 76,
    "start_time": "2022-02-13T14:24:42.395Z"
   },
   {
    "duration": 5,
    "start_time": "2022-02-13T14:27:41.043Z"
   },
   {
    "duration": 10,
    "start_time": "2022-02-13T14:27:41.050Z"
   },
   {
    "duration": 189,
    "start_time": "2022-02-13T14:27:41.063Z"
   },
   {
    "duration": 619,
    "start_time": "2022-02-13T14:27:41.255Z"
   },
   {
    "duration": 366,
    "start_time": "2022-02-13T14:27:41.877Z"
   },
   {
    "duration": 496,
    "start_time": "2022-02-13T14:27:42.245Z"
   },
   {
    "duration": 37,
    "start_time": "2022-02-13T14:27:42.744Z"
   },
   {
    "duration": 174,
    "start_time": "2022-02-13T14:27:42.785Z"
   },
   {
    "duration": 121,
    "start_time": "2022-02-13T14:27:42.962Z"
   },
   {
    "duration": 1975,
    "start_time": "2022-02-13T14:27:43.085Z"
   },
   {
    "duration": 7,
    "start_time": "2022-02-13T14:27:45.062Z"
   },
   {
    "duration": 76,
    "start_time": "2022-02-13T14:27:45.071Z"
   },
   {
    "duration": 5,
    "start_time": "2022-02-13T14:27:45.150Z"
   },
   {
    "duration": 109,
    "start_time": "2022-02-13T14:27:45.158Z"
   },
   {
    "duration": 97,
    "start_time": "2022-02-13T14:27:45.270Z"
   },
   {
    "duration": 13,
    "start_time": "2022-02-13T14:27:45.369Z"
   },
   {
    "duration": 736,
    "start_time": "2022-02-13T14:27:45.384Z"
   },
   {
    "duration": 1710,
    "start_time": "2022-02-13T14:27:46.122Z"
   },
   {
    "duration": 25,
    "start_time": "2022-02-13T14:27:47.834Z"
   },
   {
    "duration": 27,
    "start_time": "2022-02-13T14:27:47.862Z"
   },
   {
    "duration": 5,
    "start_time": "2022-02-13T14:42:05.530Z"
   },
   {
    "duration": 9,
    "start_time": "2022-02-13T14:42:05.538Z"
   },
   {
    "duration": 128,
    "start_time": "2022-02-13T14:42:05.550Z"
   },
   {
    "duration": 644,
    "start_time": "2022-02-13T14:42:05.681Z"
   },
   {
    "duration": 412,
    "start_time": "2022-02-13T14:42:06.333Z"
   },
   {
    "duration": 506,
    "start_time": "2022-02-13T14:42:06.749Z"
   },
   {
    "duration": 47,
    "start_time": "2022-02-13T14:42:07.258Z"
   },
   {
    "duration": 186,
    "start_time": "2022-02-13T14:42:07.309Z"
   },
   {
    "duration": 114,
    "start_time": "2022-02-13T14:42:07.499Z"
   },
   {
    "duration": 2273,
    "start_time": "2022-02-13T14:42:07.616Z"
   },
   {
    "duration": 8,
    "start_time": "2022-02-13T14:42:09.892Z"
   },
   {
    "duration": 62,
    "start_time": "2022-02-13T14:42:09.902Z"
   },
   {
    "duration": 6,
    "start_time": "2022-02-13T14:42:09.966Z"
   },
   {
    "duration": 113,
    "start_time": "2022-02-13T14:42:09.974Z"
   },
   {
    "duration": 98,
    "start_time": "2022-02-13T14:42:10.090Z"
   },
   {
    "duration": 42,
    "start_time": "2022-02-13T14:42:10.191Z"
   },
   {
    "duration": 707,
    "start_time": "2022-02-13T14:42:10.235Z"
   },
   {
    "duration": 1538,
    "start_time": "2022-02-13T14:42:10.946Z"
   },
   {
    "duration": 22,
    "start_time": "2022-02-13T14:42:12.487Z"
   },
   {
    "duration": 49,
    "start_time": "2022-02-13T14:42:12.512Z"
   }
  ],
  "kernelspec": {
   "display_name": "Python 3 (ipykernel)",
   "language": "python",
   "name": "python3"
  },
  "language_info": {
   "codemirror_mode": {
    "name": "ipython",
    "version": 3
   },
   "file_extension": ".py",
   "mimetype": "text/x-python",
   "name": "python",
   "nbconvert_exporter": "python",
   "pygments_lexer": "ipython3",
   "version": "3.9.12"
  },
  "toc": {
   "base_numbering": 1,
   "nav_menu": {
    "height": "673px",
    "width": "569px"
   },
   "number_sections": true,
   "sideBar": true,
   "skip_h1_title": true,
   "title_cell": "Содержание",
   "title_sidebar": "Содержание",
   "toc_cell": true,
   "toc_position": {
    "height": "calc(100% - 180px)",
    "left": "10px",
    "top": "150px",
    "width": "382px"
   },
   "toc_section_display": true,
   "toc_window_display": true
  },
  "varInspector": {
   "cols": {
    "lenName": 16,
    "lenType": 16,
    "lenVar": 40
   },
   "kernels_config": {
    "python": {
     "delete_cmd_postfix": "",
     "delete_cmd_prefix": "del ",
     "library": "var_list.py",
     "varRefreshCmd": "print(var_dic_list())"
    },
    "r": {
     "delete_cmd_postfix": ") ",
     "delete_cmd_prefix": "rm(",
     "library": "var_list.r",
     "varRefreshCmd": "cat(var_dic_list()) "
    }
   },
   "types_to_exclude": [
    "module",
    "function",
    "builtin_function_or_method",
    "instance",
    "_Feature"
   ],
   "window_display": false
  }
 },
 "nbformat": 4,
 "nbformat_minor": 2
}

{
 "cells": [
  {
   "cell_type": "markdown",
   "metadata": {
    "id": "E0vqbgi9ay0H"
   },
   "source": [
    "# Яндекс.Музыка"
   ]
  },
  {
   "cell_type": "markdown",
   "metadata": {
    "id": "VUC88oWjTJw2"
   },
   "source": [
    "Сравнение Москвы и Петербурга окружено мифами. Например:\n",
    " * Москва — мегаполис, подчинённый жёсткому ритму рабочей недели;\n",
    " * Петербург — культурная столица, со своими вкусами.\n",
    "\n",
    "На данных Яндекс.Музыки будет проанализировано поведение пользователей двух столиц.\n",
    "\n",
    "**Цель исследования** — проверить три гипотезы:\n",
    "1. Активность пользователей зависит от дня недели. Причём в Москве и Петербурге это проявляется по-разному.\n",
    "2. В понедельник утром в Москве преобладают одни жанры, а в Петербурге — другие. Так же и вечером пятницы преобладают разные жанры — в зависимости от города. \n",
    "3. Москва и Петербург предпочитают разные жанры музыки. В Москве чаще слушают поп-музыку, в Петербурге — русский рэп.\n",
    "\n",
    "**Ход исследования**\n",
    "\n",
    "Данные о поведении пользователей были получены из файла `yandex_music_project.csv`. О качестве данных ничего не известно. Поэтому перед проверкой гипотез будет проведен обзор данных. \n",
    "\n",
    "Данные будут проверены на предмет наличия ошибок и оценено их влияние на исследование. Затем, на этапе предобработки будут исправлены самые критичные ошибки данных.\n",
    " \n",
    "Таким образом, исследование пройдёт в три этапа:\n",
    " 1. Обзор данных.\n",
    " 2. Предобработка данных.\n",
    " 3. Проверка гипотез."
   ]
  },
  {
   "cell_type": "markdown",
   "metadata": {
    "toc": true
   },
   "source": [
    "<h1>Содержание<span class=\"tocSkip\"></span></h1>\n",
    "<div class=\"toc\"><ul class=\"toc-item\"><li><span><a href=\"#Обзор-данных\" data-toc-modified-id=\"Обзор-данных-1\"><span class=\"toc-item-num\">1&nbsp;&nbsp;</span>Обзор данных</a></span></li><li><span><a href=\"#Предобработка-данных\" data-toc-modified-id=\"Предобработка-данных-2\"><span class=\"toc-item-num\">2&nbsp;&nbsp;</span>Предобработка данных</a></span><ul class=\"toc-item\"><li><span><a href=\"#Стиль-заголовков\" data-toc-modified-id=\"Стиль-заголовков-2.1\"><span class=\"toc-item-num\">2.1&nbsp;&nbsp;</span>Стиль заголовков</a></span></li><li><span><a href=\"#Пропуски-значений\" data-toc-modified-id=\"Пропуски-значений-2.2\"><span class=\"toc-item-num\">2.2&nbsp;&nbsp;</span>Пропуски значений</a></span></li><li><span><a href=\"#Дубликаты\" data-toc-modified-id=\"Дубликаты-2.3\"><span class=\"toc-item-num\">2.3&nbsp;&nbsp;</span>Дубликаты</a></span></li></ul></li><li><span><a href=\"#Проверка-гипотез\" data-toc-modified-id=\"Проверка-гипотез-3\"><span class=\"toc-item-num\">3&nbsp;&nbsp;</span>Проверка гипотез</a></span><ul class=\"toc-item\"><li><span><a href=\"#Сравнение-поведения-пользователей-двух-столиц\" data-toc-modified-id=\"Сравнение-поведения-пользователей-двух-столиц-3.1\"><span class=\"toc-item-num\">3.1&nbsp;&nbsp;</span>Сравнение поведения пользователей двух столиц</a></span></li><li><span><a href=\"#Музыка-в-начале-и-в-конце-недели\" data-toc-modified-id=\"Музыка-в-начале-и-в-конце-недели-3.2\"><span class=\"toc-item-num\">3.2&nbsp;&nbsp;</span>Музыка в начале и в конце недели</a></span></li><li><span><a href=\"#Жанровые-предпочтения-в-Москве-и-Петербурге\" data-toc-modified-id=\"Жанровые-предпочтения-в-Москве-и-Петербурге-3.3\"><span class=\"toc-item-num\">3.3&nbsp;&nbsp;</span>Жанровые предпочтения в Москве и Петербурге</a></span></li></ul></li><li><span><a href=\"#Итоги-исследования\" data-toc-modified-id=\"Итоги-исследования-4\"><span class=\"toc-item-num\">4&nbsp;&nbsp;</span>Итоги исследования</a></span></li></ul></div>"
   ]
  },
  {
   "cell_type": "markdown",
   "metadata": {
    "id": "Ml1hmfXC_Zcs"
   },
   "source": [
    "## Обзор данных\n",
    "\n",
    "Составим первое представление о данных Яндекс.Музыки.\n",
    "\n",
    "\n"
   ]
  },
  {
   "cell_type": "markdown",
   "metadata": {
    "id": "57eAOGIz_Zcs"
   },
   "source": [
    "Основной инструмент аналитика — `pandas`. Импортируем эту библиотеку."
   ]
  },
  {
   "cell_type": "code",
   "execution_count": 1,
   "metadata": {
    "id": "AXN7PHPN_Zcs"
   },
   "outputs": [],
   "source": [
    "import pandas as pd # импортируем библиотеки pandas"
   ]
  },
  {
   "cell_type": "markdown",
   "metadata": {
    "id": "SG23P8tt_Zcs"
   },
   "source": [
    "Прочитаем файл `yandex_music_project.csv` из папки `/datasets` и сохраним его в переменной `df`:"
   ]
  },
  {
   "cell_type": "code",
   "execution_count": 2,
   "metadata": {
    "id": "fFVu7vqh_Zct"
   },
   "outputs": [],
   "source": [
    "df = pd.read_csv('/datasets/yandex_music_project.csv') # прочитаем файл данных из директории"
   ]
  },
  {
   "cell_type": "markdown",
   "metadata": {
    "id": "rDoOMd3uTqnZ"
   },
   "source": [
    "Выведем на экран первые десять строк таблицы:"
   ]
  },
  {
   "cell_type": "code",
   "execution_count": 3,
   "metadata": {
    "id": "oWTVX3gW_Zct"
   },
   "outputs": [
    {
     "data": {
      "text/html": [
       "<div>\n",
       "<style scoped>\n",
       "    .dataframe tbody tr th:only-of-type {\n",
       "        vertical-align: middle;\n",
       "    }\n",
       "\n",
       "    .dataframe tbody tr th {\n",
       "        vertical-align: top;\n",
       "    }\n",
       "\n",
       "    .dataframe thead th {\n",
       "        text-align: right;\n",
       "    }\n",
       "</style>\n",
       "<table border=\"1\" class=\"dataframe\">\n",
       "  <thead>\n",
       "    <tr style=\"text-align: right;\">\n",
       "      <th></th>\n",
       "      <th>userID</th>\n",
       "      <th>Track</th>\n",
       "      <th>artist</th>\n",
       "      <th>genre</th>\n",
       "      <th>City</th>\n",
       "      <th>time</th>\n",
       "      <th>Day</th>\n",
       "    </tr>\n",
       "  </thead>\n",
       "  <tbody>\n",
       "    <tr>\n",
       "      <td>0</td>\n",
       "      <td>FFB692EC</td>\n",
       "      <td>Kamigata To Boots</td>\n",
       "      <td>The Mass Missile</td>\n",
       "      <td>rock</td>\n",
       "      <td>Saint-Petersburg</td>\n",
       "      <td>20:28:33</td>\n",
       "      <td>Wednesday</td>\n",
       "    </tr>\n",
       "    <tr>\n",
       "      <td>1</td>\n",
       "      <td>55204538</td>\n",
       "      <td>Delayed Because of Accident</td>\n",
       "      <td>Andreas Rönnberg</td>\n",
       "      <td>rock</td>\n",
       "      <td>Moscow</td>\n",
       "      <td>14:07:09</td>\n",
       "      <td>Friday</td>\n",
       "    </tr>\n",
       "    <tr>\n",
       "      <td>2</td>\n",
       "      <td>20EC38</td>\n",
       "      <td>Funiculì funiculà</td>\n",
       "      <td>Mario Lanza</td>\n",
       "      <td>pop</td>\n",
       "      <td>Saint-Petersburg</td>\n",
       "      <td>20:58:07</td>\n",
       "      <td>Wednesday</td>\n",
       "    </tr>\n",
       "    <tr>\n",
       "      <td>3</td>\n",
       "      <td>A3DD03C9</td>\n",
       "      <td>Dragons in the Sunset</td>\n",
       "      <td>Fire + Ice</td>\n",
       "      <td>folk</td>\n",
       "      <td>Saint-Petersburg</td>\n",
       "      <td>08:37:09</td>\n",
       "      <td>Monday</td>\n",
       "    </tr>\n",
       "    <tr>\n",
       "      <td>4</td>\n",
       "      <td>E2DC1FAE</td>\n",
       "      <td>Soul People</td>\n",
       "      <td>Space Echo</td>\n",
       "      <td>dance</td>\n",
       "      <td>Moscow</td>\n",
       "      <td>08:34:34</td>\n",
       "      <td>Monday</td>\n",
       "    </tr>\n",
       "    <tr>\n",
       "      <td>5</td>\n",
       "      <td>842029A1</td>\n",
       "      <td>Преданная</td>\n",
       "      <td>IMPERVTOR</td>\n",
       "      <td>rusrap</td>\n",
       "      <td>Saint-Petersburg</td>\n",
       "      <td>13:09:41</td>\n",
       "      <td>Friday</td>\n",
       "    </tr>\n",
       "    <tr>\n",
       "      <td>6</td>\n",
       "      <td>4CB90AA5</td>\n",
       "      <td>True</td>\n",
       "      <td>Roman Messer</td>\n",
       "      <td>dance</td>\n",
       "      <td>Moscow</td>\n",
       "      <td>13:00:07</td>\n",
       "      <td>Wednesday</td>\n",
       "    </tr>\n",
       "    <tr>\n",
       "      <td>7</td>\n",
       "      <td>F03E1C1F</td>\n",
       "      <td>Feeling This Way</td>\n",
       "      <td>Polina Griffith</td>\n",
       "      <td>dance</td>\n",
       "      <td>Moscow</td>\n",
       "      <td>20:47:49</td>\n",
       "      <td>Wednesday</td>\n",
       "    </tr>\n",
       "    <tr>\n",
       "      <td>8</td>\n",
       "      <td>8FA1D3BE</td>\n",
       "      <td>И вновь продолжается бой</td>\n",
       "      <td>NaN</td>\n",
       "      <td>ruspop</td>\n",
       "      <td>Moscow</td>\n",
       "      <td>09:17:40</td>\n",
       "      <td>Friday</td>\n",
       "    </tr>\n",
       "    <tr>\n",
       "      <td>9</td>\n",
       "      <td>E772D5C0</td>\n",
       "      <td>Pessimist</td>\n",
       "      <td>NaN</td>\n",
       "      <td>dance</td>\n",
       "      <td>Saint-Petersburg</td>\n",
       "      <td>21:20:49</td>\n",
       "      <td>Wednesday</td>\n",
       "    </tr>\n",
       "  </tbody>\n",
       "</table>\n",
       "</div>"
      ],
      "text/plain": [
       "     userID                        Track            artist   genre  \\\n",
       "0  FFB692EC            Kamigata To Boots  The Mass Missile    rock   \n",
       "1  55204538  Delayed Because of Accident  Andreas Rönnberg    rock   \n",
       "2    20EC38            Funiculì funiculà       Mario Lanza     pop   \n",
       "3  A3DD03C9        Dragons in the Sunset        Fire + Ice    folk   \n",
       "4  E2DC1FAE                  Soul People        Space Echo   dance   \n",
       "5  842029A1                    Преданная         IMPERVTOR  rusrap   \n",
       "6  4CB90AA5                         True      Roman Messer   dance   \n",
       "7  F03E1C1F             Feeling This Way   Polina Griffith   dance   \n",
       "8  8FA1D3BE     И вновь продолжается бой               NaN  ruspop   \n",
       "9  E772D5C0                    Pessimist               NaN   dance   \n",
       "\n",
       "             City        time        Day  \n",
       "0  Saint-Petersburg  20:28:33  Wednesday  \n",
       "1            Moscow  14:07:09     Friday  \n",
       "2  Saint-Petersburg  20:58:07  Wednesday  \n",
       "3  Saint-Petersburg  08:37:09     Monday  \n",
       "4            Moscow  08:34:34     Monday  \n",
       "5  Saint-Petersburg  13:09:41     Friday  \n",
       "6            Moscow  13:00:07  Wednesday  \n",
       "7            Moscow  20:47:49  Wednesday  \n",
       "8            Moscow  09:17:40     Friday  \n",
       "9  Saint-Petersburg  21:20:49  Wednesday  "
      ]
     },
     "execution_count": 3,
     "metadata": {},
     "output_type": "execute_result"
    }
   ],
   "source": [
    "df.head(10) # получим первые 10 строк таблицы df"
   ]
  },
  {
   "cell_type": "markdown",
   "metadata": {
    "id": "EO73Kwic_Zct"
   },
   "source": [
    "Одной командой получим общую информацию о таблице:"
   ]
  },
  {
   "cell_type": "code",
   "execution_count": 4,
   "metadata": {
    "id": "DSf2kIb-_Zct"
   },
   "outputs": [
    {
     "name": "stdout",
     "output_type": "stream",
     "text": [
      "<class 'pandas.core.frame.DataFrame'>\n",
      "RangeIndex: 65079 entries, 0 to 65078\n",
      "Data columns (total 7 columns):\n",
      "  userID    65079 non-null object\n",
      "Track       63848 non-null object\n",
      "artist      57876 non-null object\n",
      "genre       63881 non-null object\n",
      "  City      65079 non-null object\n",
      "time        65079 non-null object\n",
      "Day         65079 non-null object\n",
      "dtypes: object(7)\n",
      "memory usage: 3.5+ MB\n"
     ]
    }
   ],
   "source": [
    "df.info() # получим общую информацию о данных в таблице df"
   ]
  },
  {
   "cell_type": "markdown",
   "metadata": {
    "id": "TaQ2Iwbr_Zct"
   },
   "source": [
    "Итак, в таблице семь столбцов. Тип данных во всех столбцах — `object`.\n",
    "\n",
    "Согласно документации к данным:\n",
    "* `userID` — идентификатор пользователя;\n",
    "* `Track` — название трека;  \n",
    "* `artist` — имя исполнителя;\n",
    "* `genre` — название жанра;\n",
    "* `City` — город пользователя;\n",
    "* `time` — время начала прослушивания;\n",
    "* `Day` — день недели.\n",
    "\n",
    "В названиях колонок видны три нарушения стиля:\n",
    "1. Строчные буквы сочетаются с прописными.\n",
    "2. Встречаются пробелы.\n",
    "3. Стиль части имен не соответствует принятому \"змеиному\" стилю, для удобства необходимо переименовать часть названий столбцов.\n",
    "\n",
    "\n",
    "\n",
    "Количество значений в столбцах различается. Значит, в данных есть пропущенные значения.\n"
   ]
  },
  {
   "cell_type": "markdown",
   "metadata": {
    "id": "MCB6-dXG_Zct"
   },
   "source": [
    "**Выводы**\n",
    "\n",
    "В каждой строке таблицы — данные о прослушанном треке. Часть колонок описывает саму композицию: название, исполнителя и жанр. Остальные данные рассказывают о пользователе: из какого он города, когда он слушал музыку. \n",
    "\n",
    "Предварительно можно утверждать, что данных достаточно для проверки гипотез. Но встречаются пропуски в данных, а в названиях колонок — расхождения с хорошим стилем.\n",
    "\n",
    "Чтобы двигаться дальше, нужно устранить проблемы в данных."
   ]
  },
  {
   "cell_type": "markdown",
   "metadata": {
    "id": "SjYF6Ub9_Zct"
   },
   "source": [
    "## Предобработка данных\n",
    "Исправим стиль в заголовках столбцов, исключим пропуски. Затем проверим данные на дубликаты."
   ]
  },
  {
   "cell_type": "markdown",
   "metadata": {
    "id": "dIaKXr29_Zct"
   },
   "source": [
    "### Стиль заголовков\n",
    "Выведем на экран названия столбцов:"
   ]
  },
  {
   "cell_type": "code",
   "execution_count": 5,
   "metadata": {
    "id": "oKOTdF_Q_Zct"
   },
   "outputs": [
    {
     "data": {
      "text/plain": [
       "Index(['  userID', 'Track', 'artist', 'genre', '  City  ', 'time', 'Day'], dtype='object')"
      ]
     },
     "execution_count": 5,
     "metadata": {},
     "output_type": "execute_result"
    }
   ],
   "source": [
    "df.columns # выведем перечень названий столбцов таблицы df"
   ]
  },
  {
   "cell_type": "markdown",
   "metadata": {
    "id": "zj5534cv_Zct"
   },
   "source": [
    "Приведем названия в соответствие с хорошим стилем:\n",
    "* несколько слов в названии запишем в «змеином_регистре»,\n",
    "* все символы сделаем строчными,\n",
    "* устраним пробелы.\n",
    "\n",
    "Для этого переименуем колонки так:\n",
    "* `'  userID'` → `'user_id'`;\n",
    "* `'Track'` → `'track'`;\n",
    "* `'  City  '` → `'city'`;\n",
    "* `'Day'` → `'day'`."
   ]
  },
  {
   "cell_type": "code",
   "execution_count": 6,
   "metadata": {
    "id": "ISlFqs5y_Zct"
   },
   "outputs": [],
   "source": [
    "df = df.rename(columns={'  userID': 'user_id', 'Track': 'track', '  City  ': 'city', 'Day': 'day'}) # переименуем столбцы"
   ]
  },
  {
   "cell_type": "markdown",
   "metadata": {
    "id": "1dqbh00J_Zct"
   },
   "source": [
    "Проверим результат. Для этого ещё раз выведем на экран названия столбцов:"
   ]
  },
  {
   "cell_type": "code",
   "execution_count": 7,
   "metadata": {
    "id": "d4NOAmTW_Zct"
   },
   "outputs": [
    {
     "data": {
      "text/plain": [
       "Index(['user_id', 'track', 'artist', 'genre', 'city', 'time', 'day'], dtype='object')"
      ]
     },
     "execution_count": 7,
     "metadata": {},
     "output_type": "execute_result"
    }
   ],
   "source": [
    "df.columns # проверим результаты - перечень названий столбцов"
   ]
  },
  {
   "cell_type": "markdown",
   "metadata": {
    "id": "5ISfbcfY_Zct"
   },
   "source": [
    "### Пропуски значений\n",
    "Сначала посчитаем, сколько в таблице пропущенных значений. Для этого достаточно двух методов `pandas`:"
   ]
  },
  {
   "cell_type": "code",
   "execution_count": 8,
   "metadata": {
    "id": "RskX29qr_Zct"
   },
   "outputs": [
    {
     "data": {
      "text/plain": [
       "user_id       0\n",
       "track      1231\n",
       "artist     7203\n",
       "genre      1198\n",
       "city          0\n",
       "time          0\n",
       "day           0\n",
       "dtype: int64"
      ]
     },
     "execution_count": 8,
     "metadata": {},
     "output_type": "execute_result"
    }
   ],
   "source": [
    "# произведем подсчёт пропусков\n",
    "df.isna().sum() # NaN\n",
    "df.isnull().sum() # '0'"
   ]
  },
  {
   "cell_type": "markdown",
   "metadata": {
    "id": "qubhgnlO_Zct"
   },
   "source": [
    "Не все пропущенные значения влияют на исследование. В `track` и `artist` пропуски не важны для работы. Достаточно заменить их явными обозначениями.\n",
    "\n",
    "Но пропуски в `genre` могут помешать сравнению музыкальных вкусов в Москве и Санкт-Петербурге, необходимо:\n",
    "* заполнить и эти пропуски явными обозначениями,\n",
    "* оценить, насколько они повредят расчётам. "
   ]
  },
  {
   "cell_type": "markdown",
   "metadata": {
    "id": "fSv2laPA_Zct"
   },
   "source": [
    "Заменим пропущенные значения в столбцах `track`, `artist` и `genre` на строку `'unknown'`. Для этого создадим список `columns_to_replace`, переберем его элементы циклом `for` и для каждого столбца выполним замену пропущенных значений:"
   ]
  },
  {
   "cell_type": "code",
   "execution_count": 9,
   "metadata": {
    "id": "KplB5qWs_Zct"
   },
   "outputs": [],
   "source": [
    "# переберем названия столбцов в цикле и замеим пропущенные значения на 'unknown'\n",
    "columns_to_replace = ['track', 'artist', 'genre']\n",
    "for i in columns_to_replace:\n",
    "    df[i] = df[i].fillna('unknown')"
   ]
  },
  {
   "cell_type": "markdown",
   "metadata": {
    "id": "Ilsm-MZo_Zct"
   },
   "source": [
    "Убедимся, что в таблице не осталось пропусков. Для этого ещё раз посчитаем пропущенные значения."
   ]
  },
  {
   "cell_type": "code",
   "execution_count": 10,
   "metadata": {
    "id": "Tq4nYRX4_Zct"
   },
   "outputs": [
    {
     "data": {
      "text/plain": [
       "user_id    0\n",
       "track      0\n",
       "artist     0\n",
       "genre      0\n",
       "city       0\n",
       "time       0\n",
       "day        0\n",
       "dtype: int64"
      ]
     },
     "execution_count": 10,
     "metadata": {},
     "output_type": "execute_result"
    }
   ],
   "source": [
    "df.isna().sum() # произведем подсчёт пропусков"
   ]
  },
  {
   "cell_type": "markdown",
   "metadata": {
    "id": "BWKRtBJ3_Zct"
   },
   "source": [
    "### Дубликаты\n",
    "Посчитаем явные дубликаты в таблице одной командой:"
   ]
  },
  {
   "cell_type": "code",
   "execution_count": 11,
   "metadata": {
    "id": "36eES_S0_Zct"
   },
   "outputs": [
    {
     "data": {
      "text/plain": [
       "3826"
      ]
     },
     "execution_count": 11,
     "metadata": {},
     "output_type": "execute_result"
    }
   ],
   "source": [
    " df.duplicated().sum() # произведем подсчёт явных дубликатов"
   ]
  },
  {
   "cell_type": "markdown",
   "metadata": {
    "id": "Ot25h6XR_Zct"
   },
   "source": [
    "Вызовем специальный метод `pandas`, чтобы удалить явные дубликаты:"
   ]
  },
  {
   "cell_type": "code",
   "execution_count": 12,
   "metadata": {
    "id": "exFHq6tt_Zct"
   },
   "outputs": [],
   "source": [
    "df = df.drop_duplicates().reset_index(drop=True) # удалим явные дубликаты (с удалением старых индексов и формированием новых)"
   ]
  },
  {
   "cell_type": "markdown",
   "metadata": {
    "id": "Im2YwBEG_Zct"
   },
   "source": [
    "Ещё раз посчитаем явные дубликаты в таблице — убедимся, что полностью от них избавились:"
   ]
  },
  {
   "cell_type": "code",
   "execution_count": 13,
   "metadata": {
    "id": "-8PuNWQ0_Zct"
   },
   "outputs": [
    {
     "data": {
      "text/plain": [
       "0"
      ]
     },
     "execution_count": 13,
     "metadata": {},
     "output_type": "execute_result"
    }
   ],
   "source": [
    "df.duplicated().sum() # проверим на отсутствие дубликатов"
   ]
  },
  {
   "cell_type": "markdown",
   "metadata": {
    "id": "QlFBsxAr_Zct"
   },
   "source": [
    "Теперь избавимся от неявных дубликатов в колонке `genre`. Например, название одного и того же жанра может быть записано немного по-разному. Такие ошибки тоже повлияют на результат исследования."
   ]
  },
  {
   "cell_type": "markdown",
   "metadata": {
    "id": "eSjWwsOh_Zct"
   },
   "source": [
    "Выведем на экран список уникальных названий жанров, отсортированный в алфавитном порядке. Для этого:\n",
    "* извлечем нужный столбец датафрейма, \n",
    "* применим к нему метод сортировки,\n",
    "* для отсортированного столбца вызовем метод, который вернёт уникальные значения из столбца."
   ]
  },
  {
   "cell_type": "code",
   "execution_count": 14,
   "metadata": {
    "id": "JIUcqzZN_Zct",
    "scrolled": true
   },
   "outputs": [
    {
     "data": {
      "text/plain": [
       "array(['acid', 'acoustic', 'action', 'adult', 'africa', 'afrikaans',\n",
       "       'alternative', 'alternativepunk', 'ambient', 'americana',\n",
       "       'animated', 'anime', 'arabesk', 'arabic', 'arena',\n",
       "       'argentinetango', 'art', 'audiobook', 'author', 'avantgarde',\n",
       "       'axé', 'baile', 'balkan', 'beats', 'bigroom', 'black', 'bluegrass',\n",
       "       'blues', 'bollywood', 'bossa', 'brazilian', 'breakbeat', 'breaks',\n",
       "       'broadway', 'cantautori', 'cantopop', 'canzone', 'caribbean',\n",
       "       'caucasian', 'celtic', 'chamber', 'chanson', 'children', 'chill',\n",
       "       'chinese', 'choral', 'christian', 'christmas', 'classical',\n",
       "       'classicmetal', 'club', 'colombian', 'comedy', 'conjazz',\n",
       "       'contemporary', 'country', 'cuban', 'dance', 'dancehall',\n",
       "       'dancepop', 'dark', 'death', 'deep', 'deutschrock', 'deutschspr',\n",
       "       'dirty', 'disco', 'dnb', 'documentary', 'downbeat', 'downtempo',\n",
       "       'drum', 'dub', 'dubstep', 'eastern', 'easy', 'electronic',\n",
       "       'electropop', 'emo', 'entehno', 'epicmetal', 'estrada', 'ethnic',\n",
       "       'eurofolk', 'european', 'experimental', 'extrememetal', 'fado',\n",
       "       'fairytail', 'film', 'fitness', 'flamenco', 'folk', 'folklore',\n",
       "       'folkmetal', 'folkrock', 'folktronica', 'forró', 'frankreich',\n",
       "       'französisch', 'french', 'funk', 'future', 'gangsta', 'garage',\n",
       "       'german', 'ghazal', 'gitarre', 'glitch', 'gospel', 'gothic',\n",
       "       'grime', 'grunge', 'gypsy', 'handsup', \"hard'n'heavy\", 'hardcore',\n",
       "       'hardstyle', 'hardtechno', 'hip', 'hip-hop', 'hiphop',\n",
       "       'historisch', 'holiday', 'hop', 'horror', 'house', 'hymn', 'idm',\n",
       "       'independent', 'indian', 'indie', 'indipop', 'industrial',\n",
       "       'inspirational', 'instrumental', 'international', 'irish', 'jam',\n",
       "       'japanese', 'jazz', 'jewish', 'jpop', 'jungle', 'k-pop',\n",
       "       'karadeniz', 'karaoke', 'kayokyoku', 'korean', 'laiko', 'latin',\n",
       "       'latino', 'leftfield', 'local', 'lounge', 'loungeelectronic',\n",
       "       'lovers', 'malaysian', 'mandopop', 'marschmusik', 'meditative',\n",
       "       'mediterranean', 'melodic', 'metal', 'metalcore', 'mexican',\n",
       "       'middle', 'minimal', 'miscellaneous', 'modern', 'mood', 'mpb',\n",
       "       'muslim', 'native', 'neoklassik', 'neue', 'new', 'newage',\n",
       "       'newwave', 'nu', 'nujazz', 'numetal', 'oceania', 'old', 'opera',\n",
       "       'orchestral', 'other', 'piano', 'podcasts', 'pop', 'popdance',\n",
       "       'popelectronic', 'popeurodance', 'poprussian', 'post',\n",
       "       'posthardcore', 'postrock', 'power', 'progmetal', 'progressive',\n",
       "       'psychedelic', 'punjabi', 'punk', 'quebecois', 'ragga', 'ram',\n",
       "       'rancheras', 'rap', 'rave', 'reggae', 'reggaeton', 'regional',\n",
       "       'relax', 'religious', 'retro', 'rhythm', 'rnb', 'rnr', 'rock',\n",
       "       'rockabilly', 'rockalternative', 'rockindie', 'rockother',\n",
       "       'romance', 'roots', 'ruspop', 'rusrap', 'rusrock', 'russian',\n",
       "       'salsa', 'samba', 'scenic', 'schlager', 'self', 'sertanejo',\n",
       "       'shanson', 'shoegazing', 'showtunes', 'singer', 'ska', 'skarock',\n",
       "       'slow', 'smooth', 'soft', 'soul', 'soulful', 'sound', 'soundtrack',\n",
       "       'southern', 'specialty', 'speech', 'spiritual', 'sport',\n",
       "       'stonerrock', 'surf', 'swing', 'synthpop', 'synthrock',\n",
       "       'sängerportrait', 'tango', 'tanzorchester', 'taraftar', 'tatar',\n",
       "       'tech', 'techno', 'teen', 'thrash', 'top', 'traditional',\n",
       "       'tradjazz', 'trance', 'tribal', 'trip', 'triphop', 'tropical',\n",
       "       'türk', 'türkçe', 'ukrrock', 'unknown', 'urban', 'uzbek',\n",
       "       'variété', 'vi', 'videogame', 'vocal', 'western', 'world',\n",
       "       'worldbeat', 'ïîï', 'электроника'], dtype=object)"
      ]
     },
     "execution_count": 14,
     "metadata": {},
     "output_type": "execute_result"
    }
   ],
   "source": [
    "# просмотрим уникальные названия жанров\n",
    "df['genre'].sort_values(ascending=True).unique()"
   ]
  },
  {
   "cell_type": "markdown",
   "metadata": {
    "id": "qej-Qmuo_Zct"
   },
   "source": [
    "Просмотрим список и найдем неявные дубликаты названия `hiphop`. Это могут быть названия с ошибками или альтернативные названия того же жанра.\n",
    "\n",
    "Мы увидим следующие неявные дубликаты:\n",
    "* *hip*,\n",
    "* *hop*,\n",
    "* *hip-hop*.\n",
    "\n",
    "Чтобы очистить от них таблицу, напишем функцию `replace_wrong_genres()` с двумя параметрами: \n",
    "* `wrong_genres` — список дубликатов,\n",
    "* `correct_genre` — строка с правильным значением.\n",
    "\n",
    "Функция должна исправить колонку `genre` в таблице `df`: заменить каждое значение из списка `wrong_genres` на значение из `correct_genre`."
   ]
  },
  {
   "cell_type": "code",
   "execution_count": 15,
   "metadata": {
    "id": "ErNDkmns_Zct"
   },
   "outputs": [],
   "source": [
    "# сделаем функцию для замены неявных дубликатов\n",
    "def replace_wrong_genres(wrong_genres, correct_genre):\n",
    "    for wrong_genre in wrong_genres:\n",
    "        df['genre'] = df['genre'].replace(wrong_genre, correct_genre)"
   ]
  },
  {
   "cell_type": "markdown",
   "metadata": {
    "id": "aDoBJxbA_Zct"
   },
   "source": [
    "Вызовем `replace_wrong_genres()` и передадим ей такие аргументы, чтобы она устранила неявные дубликаты: вместо `hip`, `hop` и `hip-hop` в таблице должно быть значение `hiphop`:"
   ]
  },
  {
   "cell_type": "code",
   "execution_count": 16,
   "metadata": {
    "id": "YN5i2hpmSo09"
   },
   "outputs": [],
   "source": [
    "# устраним неявные дубликаты\n",
    "replace_wrong_genres(['hip', 'hop', 'hip-hop'], 'hiphop')\n",
    "replace_wrong_genres(['africa', 'afrikaans'], 'africa')\n",
    "replace_wrong_genres(['animated', 'anime'], 'anime')\n",
    "replace_wrong_genres(['latin', 'latino'], 'latino')\n",
    "replace_wrong_genres(['reggae', 'reggaeton'], 'reggae')\n",
    "replace_wrong_genres(['türk', 'türkçe'], 'türk')"
   ]
  },
  {
   "cell_type": "markdown",
   "metadata": {
    "id": "zQKF16_RG15m"
   },
   "source": [
    "Проверим, что заменили неправильные названия:\n",
    "\n",
    "*   hip\n",
    "*   hop\n",
    "*   hip-hop\n",
    "\n",
    "Выведем отсортированный список уникальных значений столбца `genre`:"
   ]
  },
  {
   "cell_type": "code",
   "execution_count": 17,
   "metadata": {
    "id": "wvixALnFG15m",
    "scrolled": true
   },
   "outputs": [
    {
     "data": {
      "text/plain": [
       "array(['acid', 'acoustic', 'action', 'adult', 'africa', 'alternative',\n",
       "       'alternativepunk', 'ambient', 'americana', 'anime', 'arabesk',\n",
       "       'arabic', 'arena', 'argentinetango', 'art', 'audiobook', 'author',\n",
       "       'avantgarde', 'axé', 'baile', 'balkan', 'beats', 'bigroom',\n",
       "       'black', 'bluegrass', 'blues', 'bollywood', 'bossa', 'brazilian',\n",
       "       'breakbeat', 'breaks', 'broadway', 'cantautori', 'cantopop',\n",
       "       'canzone', 'caribbean', 'caucasian', 'celtic', 'chamber',\n",
       "       'chanson', 'children', 'chill', 'chinese', 'choral', 'christian',\n",
       "       'christmas', 'classical', 'classicmetal', 'club', 'colombian',\n",
       "       'comedy', 'conjazz', 'contemporary', 'country', 'cuban', 'dance',\n",
       "       'dancehall', 'dancepop', 'dark', 'death', 'deep', 'deutschrock',\n",
       "       'deutschspr', 'dirty', 'disco', 'dnb', 'documentary', 'downbeat',\n",
       "       'downtempo', 'drum', 'dub', 'dubstep', 'eastern', 'easy',\n",
       "       'electronic', 'electropop', 'emo', 'entehno', 'epicmetal',\n",
       "       'estrada', 'ethnic', 'eurofolk', 'european', 'experimental',\n",
       "       'extrememetal', 'fado', 'fairytail', 'film', 'fitness', 'flamenco',\n",
       "       'folk', 'folklore', 'folkmetal', 'folkrock', 'folktronica',\n",
       "       'forró', 'frankreich', 'französisch', 'french', 'funk', 'future',\n",
       "       'gangsta', 'garage', 'german', 'ghazal', 'gitarre', 'glitch',\n",
       "       'gospel', 'gothic', 'grime', 'grunge', 'gypsy', 'handsup',\n",
       "       \"hard'n'heavy\", 'hardcore', 'hardstyle', 'hardtechno', 'hiphop',\n",
       "       'historisch', 'holiday', 'horror', 'house', 'hymn', 'idm',\n",
       "       'independent', 'indian', 'indie', 'indipop', 'industrial',\n",
       "       'inspirational', 'instrumental', 'international', 'irish', 'jam',\n",
       "       'japanese', 'jazz', 'jewish', 'jpop', 'jungle', 'k-pop',\n",
       "       'karadeniz', 'karaoke', 'kayokyoku', 'korean', 'laiko', 'latino',\n",
       "       'leftfield', 'local', 'lounge', 'loungeelectronic', 'lovers',\n",
       "       'malaysian', 'mandopop', 'marschmusik', 'meditative',\n",
       "       'mediterranean', 'melodic', 'metal', 'metalcore', 'mexican',\n",
       "       'middle', 'minimal', 'miscellaneous', 'modern', 'mood', 'mpb',\n",
       "       'muslim', 'native', 'neoklassik', 'neue', 'new', 'newage',\n",
       "       'newwave', 'nu', 'nujazz', 'numetal', 'oceania', 'old', 'opera',\n",
       "       'orchestral', 'other', 'piano', 'podcasts', 'pop', 'popdance',\n",
       "       'popelectronic', 'popeurodance', 'poprussian', 'post',\n",
       "       'posthardcore', 'postrock', 'power', 'progmetal', 'progressive',\n",
       "       'psychedelic', 'punjabi', 'punk', 'quebecois', 'ragga', 'ram',\n",
       "       'rancheras', 'rap', 'rave', 'reggae', 'regional', 'relax',\n",
       "       'religious', 'retro', 'rhythm', 'rnb', 'rnr', 'rock', 'rockabilly',\n",
       "       'rockalternative', 'rockindie', 'rockother', 'romance', 'roots',\n",
       "       'ruspop', 'rusrap', 'rusrock', 'russian', 'salsa', 'samba',\n",
       "       'scenic', 'schlager', 'self', 'sertanejo', 'shanson', 'shoegazing',\n",
       "       'showtunes', 'singer', 'ska', 'skarock', 'slow', 'smooth', 'soft',\n",
       "       'soul', 'soulful', 'sound', 'soundtrack', 'southern', 'specialty',\n",
       "       'speech', 'spiritual', 'sport', 'stonerrock', 'surf', 'swing',\n",
       "       'synthpop', 'synthrock', 'sängerportrait', 'tango',\n",
       "       'tanzorchester', 'taraftar', 'tatar', 'tech', 'techno', 'teen',\n",
       "       'thrash', 'top', 'traditional', 'tradjazz', 'trance', 'tribal',\n",
       "       'trip', 'triphop', 'tropical', 'türk', 'ukrrock', 'unknown',\n",
       "       'urban', 'uzbek', 'variété', 'vi', 'videogame', 'vocal', 'western',\n",
       "       'world', 'worldbeat', 'ïîï', 'электроника'], dtype=object)"
      ]
     },
     "execution_count": 17,
     "metadata": {},
     "output_type": "execute_result"
    }
   ],
   "source": [
    " df['genre'].sort_values(ascending=True).unique() # проверим на неявные дубликаты"
   ]
  },
  {
   "cell_type": "markdown",
   "metadata": {
    "id": "jz6a9-7HQUDd"
   },
   "source": [
    "**Выводы**\n",
    "\n",
    "Предобработка обнаружила три проблемы в данных:\n",
    "\n",
    "- нарушения в стиле заголовков,\n",
    "- пропущенные значения,\n",
    "- дубликаты — явные и неявные.\n",
    "\n",
    "Мы исправили заголовки, чтобы упростить работу с таблицей. Без дубликатов исследование стало более точным.\n",
    "\n",
    "Пропущенные значения мы заменили на `'unknown'`. Ещё предстоит увидеть, не повредят ли исследованию пропуски в колонке `genre`.\n",
    "\n",
    "Теперь можно перейти к проверке гипотез. "
   ]
  },
  {
   "cell_type": "markdown",
   "metadata": {
    "id": "WttZHXH0SqKk"
   },
   "source": [
    "## Проверка гипотез"
   ]
  },
  {
   "cell_type": "markdown",
   "metadata": {
    "id": "Im936VVi_Zcu"
   },
   "source": [
    "### Сравнение поведения пользователей двух столиц"
   ]
  },
  {
   "cell_type": "markdown",
   "metadata": {
    "id": "nwt_MuaL_Zcu"
   },
   "source": [
    "Первая гипотеза утверждает, что пользователи по-разному слушают музыку в Москве и Санкт-Петербурге. Проверим это предположение по данным о трёх днях недели — понедельнике, среде и пятнице. Для этого:\n",
    "\n",
    "* Разделим пользователей Москвы и Санкт-Петербурга\n",
    "* Сравним, сколько треков послушала каждая группа пользователей в понедельник, среду и пятницу.\n"
   ]
  },
  {
   "cell_type": "markdown",
   "metadata": {
    "id": "8Dw_YMmT_Zcu"
   },
   "source": [
    "Для тренировки сначала выполним каждый из расчётов по отдельности. \n",
    "\n",
    "Оценим активность пользователей в каждом городе. Сгруппируем данные по городу и посчитаем прослушивания в каждой группе.\n",
    "\n"
   ]
  },
  {
   "cell_type": "code",
   "execution_count": 18,
   "metadata": {
    "id": "0_Qs96oh_Zcu"
   },
   "outputs": [
    {
     "data": {
      "text/plain": [
       "city\n",
       "Moscow              42741\n",
       "Saint-Petersburg    18512\n",
       "Name: genre, dtype: int64"
      ]
     },
     "execution_count": 18,
     "metadata": {},
     "output_type": "execute_result"
    }
   ],
   "source": [
    "df.groupby('city')['genre'].count() # произведем подсчёт прослушиваний в каждом городе"
   ]
  },
  {
   "cell_type": "markdown",
   "metadata": {
    "id": "dzli3w8o_Zcu"
   },
   "source": [
    "В Москве прослушиваний больше, чем в Петербурге. Из этого не следует, что московские пользователи чаще слушают музыку. Просто самих пользователей в Москве больше.\n",
    "\n",
    "Теперь сгруппируем данные по дню недели и посчитаем прослушивания в понедельник, среду и пятницу. Учтем, что в данных есть информация только о прослушиваниях только за эти дни.\n"
   ]
  },
  {
   "cell_type": "code",
   "execution_count": 19,
   "metadata": {
    "id": "uZMKjiJz_Zcu"
   },
   "outputs": [
    {
     "data": {
      "text/plain": [
       "day\n",
       "Friday       21840\n",
       "Monday       21354\n",
       "Wednesday    18059\n",
       "Name: genre, dtype: int64"
      ]
     },
     "execution_count": 19,
     "metadata": {},
     "output_type": "execute_result"
    }
   ],
   "source": [
    "df.groupby('day')['genre'].count() # произведем подсчёт прослушиваний в каждый из трёх дней"
   ]
  },
  {
   "cell_type": "markdown",
   "metadata": {
    "id": "cC2tNrlL_Zcu"
   },
   "source": [
    "В среднем пользователи из двух городов менее активны по средам. Но картина может измениться, если рассмотреть каждый город в отдельности."
   ]
  },
  {
   "cell_type": "markdown",
   "metadata": {
    "id": "POzs8bGa_Zcu"
   },
   "source": [
    "Мы видели, как работает группировка по городу и по дням недели. Теперь напишем функцию, которая объединит два эти расчёта.\n",
    "\n",
    "Создадим функцию `number_tracks()`, которая посчитает прослушивания для заданного дня и города. Ей понадобятся два параметра:\n",
    "* день недели,\n",
    "* название города.\n",
    "\n",
    "В функции сохраним в переменную строки исходной таблицы, у которых значение:\n",
    "  * в колонке `day` равно параметру `day`,\n",
    "  * в колонке `city` равно параметру `city`.\n",
    "\n",
    "Для этого применим последовательную фильтрацию с логической индексацией.\n",
    "\n",
    "Затем посчитаем значения в столбце `user_id` получившейся таблицы. Результат сохраним в новую переменную. Вернем эту переменную из функции."
   ]
  },
  {
   "cell_type": "code",
   "execution_count": 20,
   "metadata": {
    "id": "Nz3GdQB1_Zcu"
   },
   "outputs": [],
   "source": [
    "# <создадим функцию number_tracks()>\n",
    "def number_tracks(day, city): # объявим функцию с двумя параметрами: day, city.\n",
    "# В переменной track_list сохраняются те строки таблицы df, для которых \n",
    "# значение в столбце 'day' равно параметру day и одновременно значение\n",
    "# в столбце 'city' равно параметру city (используем последовательную фильтрацию\n",
    "# с помощью логической индексации).\n",
    "    track_list = df[df['day'] == day]\n",
    "    track_list = track_list[track_list['city'] == city]\n",
    "# В переменной track_list_count сохраняется число значений столбца 'user_id',\n",
    "# рассчитанное методом count() для таблицы track_list.\n",
    "# Функция возвращает число - значение track_list_count.\n",
    "    track_list_count = track_list['user_id'].count()\n",
    "    return track_list_count\n",
    "# Функция для подсчёта прослушиваний для конкретного города и дня.\n",
    "# С помощью последовательной фильтрации с логической индексацией она \n",
    "# сначала получит из исходной таблицы строки с нужным днём,\n",
    "# затем из результата отфильтрует строки с нужным городом,\n",
    "# методом count() посчитает количество значений в колонке user_id. \n",
    "# Это количество функция вернёт в качестве результата"
   ]
  },
  {
   "cell_type": "markdown",
   "metadata": {
    "id": "ytf7xFrFJQ2r"
   },
   "source": [
    "Вызовем `number_tracks()` шесть раз, меняя значение параметров — так, чтобы получить данные для каждого города в каждый из трёх дней."
   ]
  },
  {
   "cell_type": "code",
   "execution_count": 21,
   "metadata": {
    "id": "rJcRATNQ_Zcu"
   },
   "outputs": [
    {
     "data": {
      "text/plain": [
       "15740"
      ]
     },
     "execution_count": 21,
     "metadata": {},
     "output_type": "execute_result"
    }
   ],
   "source": [
    "number_tracks('Monday', 'Moscow') # количество прослушиваний в Москве по понедельникам"
   ]
  },
  {
   "cell_type": "code",
   "execution_count": 22,
   "metadata": {
    "id": "hq_ncZ5T_Zcu"
   },
   "outputs": [
    {
     "data": {
      "text/plain": [
       "5614"
      ]
     },
     "execution_count": 22,
     "metadata": {},
     "output_type": "execute_result"
    }
   ],
   "source": [
    "number_tracks('Monday', 'Saint-Petersburg') # количество прослушиваний в Санкт-Петербурге по понедельникам"
   ]
  },
  {
   "cell_type": "code",
   "execution_count": 23,
   "metadata": {
    "id": "_NTy2VPU_Zcu"
   },
   "outputs": [
    {
     "data": {
      "text/plain": [
       "11056"
      ]
     },
     "execution_count": 23,
     "metadata": {},
     "output_type": "execute_result"
    }
   ],
   "source": [
    "number_tracks('Wednesday', 'Moscow') # количество прослушиваний в Москве по средам"
   ]
  },
  {
   "cell_type": "code",
   "execution_count": 24,
   "metadata": {
    "id": "j2y3TAwo_Zcu",
    "scrolled": true
   },
   "outputs": [
    {
     "data": {
      "text/plain": [
       "7003"
      ]
     },
     "execution_count": 24,
     "metadata": {},
     "output_type": "execute_result"
    }
   ],
   "source": [
    "number_tracks('Wednesday', 'Saint-Petersburg') # количество прослушиваний в Санкт-Петербурге по средам"
   ]
  },
  {
   "cell_type": "code",
   "execution_count": 25,
   "metadata": {
    "id": "vYDw5u_K_Zcu"
   },
   "outputs": [
    {
     "data": {
      "text/plain": [
       "15945"
      ]
     },
     "execution_count": 25,
     "metadata": {},
     "output_type": "execute_result"
    }
   ],
   "source": [
    "number_tracks('Friday', 'Moscow') # количество прослушиваний в Москве по пятницам"
   ]
  },
  {
   "cell_type": "code",
   "execution_count": 26,
   "metadata": {
    "id": "8_yzFtW3_Zcu"
   },
   "outputs": [
    {
     "data": {
      "text/plain": [
       "5895"
      ]
     },
     "execution_count": 26,
     "metadata": {},
     "output_type": "execute_result"
    }
   ],
   "source": [
    "number_tracks('Friday', 'Saint-Petersburg') # количество прослушиваний в Санкт-Петербурге по пятницам"
   ]
  },
  {
   "cell_type": "markdown",
   "metadata": {
    "id": "7QXffbO-_Zcu"
   },
   "source": [
    "Создадим c помощью конструктора `pd.DataFrame` таблицу, где\n",
    "* названия колонок — `['city', 'monday', 'wednesday', 'friday']`;\n",
    "* данные — результаты, которые мы получили с помощью `number_tracks`."
   ]
  },
  {
   "cell_type": "code",
   "execution_count": 27,
   "metadata": {
    "id": "APAcLpOr_Zcu"
   },
   "outputs": [
    {
     "data": {
      "text/html": [
       "<div>\n",
       "<style scoped>\n",
       "    .dataframe tbody tr th:only-of-type {\n",
       "        vertical-align: middle;\n",
       "    }\n",
       "\n",
       "    .dataframe tbody tr th {\n",
       "        vertical-align: top;\n",
       "    }\n",
       "\n",
       "    .dataframe thead th {\n",
       "        text-align: right;\n",
       "    }\n",
       "</style>\n",
       "<table border=\"1\" class=\"dataframe\">\n",
       "  <thead>\n",
       "    <tr style=\"text-align: right;\">\n",
       "      <th></th>\n",
       "      <th>city</th>\n",
       "      <th>monday</th>\n",
       "      <th>wednesday</th>\n",
       "      <th>friday</th>\n",
       "    </tr>\n",
       "  </thead>\n",
       "  <tbody>\n",
       "    <tr>\n",
       "      <td>0</td>\n",
       "      <td>Moscow</td>\n",
       "      <td>15740</td>\n",
       "      <td>11056</td>\n",
       "      <td>15945</td>\n",
       "    </tr>\n",
       "    <tr>\n",
       "      <td>1</td>\n",
       "      <td>Saint-Petersburg</td>\n",
       "      <td>5614</td>\n",
       "      <td>7003</td>\n",
       "      <td>5895</td>\n",
       "    </tr>\n",
       "  </tbody>\n",
       "</table>\n",
       "</div>"
      ],
      "text/plain": [
       "               city  monday  wednesday  friday\n",
       "0            Moscow   15740      11056   15945\n",
       "1  Saint-Petersburg    5614       7003    5895"
      ]
     },
     "metadata": {},
     "output_type": "display_data"
    }
   ],
   "source": [
    "# таблица с результатами\n",
    "columns_name = ['city', 'monday', 'wednesday', 'friday']\n",
    "num_tracks_mon_spb = number_tracks('Monday', 'Saint-Petersburg')\n",
    "num_tracks_wed_spb = number_tracks('Wednesday', 'Saint-Petersburg')\n",
    "num_tracks_fri_spb = number_tracks('Friday', 'Saint-Petersburg')\n",
    "num_tracks_mon_msc = number_tracks('Monday', 'Moscow')\n",
    "num_tracks_wed_msc = number_tracks('Wednesday', 'Moscow')\n",
    "num_tracks_fri_msc = number_tracks('Friday', 'Moscow')\n",
    "data_city_days = [['Moscow', num_tracks_mon_msc, num_tracks_wed_msc, num_tracks_fri_msc], \n",
    "                  ['Saint-Petersburg', num_tracks_mon_spb, num_tracks_wed_spb, num_tracks_fri_spb]]\n",
    "comparing_table_city_day = pd.DataFrame(data=data_city_days, columns=columns_name)\n",
    "display(comparing_table_city_day)"
   ]
  },
  {
   "cell_type": "markdown",
   "metadata": {
    "id": "-EgPIHYu_Zcu"
   },
   "source": [
    "**Выводы**\n",
    "\n",
    "Данные показывают разницу поведения пользователей:\n",
    "\n",
    "- В Москве пик прослушиваний приходится на понедельник и пятницу, а в среду заметен спад.\n",
    "- В Петербурге, наоборот, больше слушают музыку по средам. Активность в понедельник и пятницу здесь почти в равной мере уступает среде.\n",
    "\n",
    "Значит, данные говорят в пользу первой гипотезы."
   ]
  },
  {
   "cell_type": "markdown",
   "metadata": {
    "id": "atZAxtq4_Zcu"
   },
   "source": [
    "### Музыка в начале и в конце недели"
   ]
  },
  {
   "cell_type": "markdown",
   "metadata": {
    "id": "eXrQqXFH_Zcu"
   },
   "source": [
    "Согласно второй гипотезе, утром в понедельник в Москве преобладают одни жанры, а в Петербурге — другие. Так же и вечером пятницы преобладают разные жанры — в зависимости от города."
   ]
  },
  {
   "cell_type": "markdown",
   "metadata": {
    "id": "S8UcW6Hw_Zcu"
   },
   "source": [
    "Сохраним таблицы с данными в две переменные:\n",
    "* по Москве — в `moscow_general`;\n",
    "* по Санкт-Петербургу — в `spb_general`."
   ]
  },
  {
   "cell_type": "code",
   "execution_count": 28,
   "metadata": {
    "id": "qeaFfM_P_Zcu"
   },
   "outputs": [
    {
     "data": {
      "text/html": [
       "<div>\n",
       "<style scoped>\n",
       "    .dataframe tbody tr th:only-of-type {\n",
       "        vertical-align: middle;\n",
       "    }\n",
       "\n",
       "    .dataframe tbody tr th {\n",
       "        vertical-align: top;\n",
       "    }\n",
       "\n",
       "    .dataframe thead th {\n",
       "        text-align: right;\n",
       "    }\n",
       "</style>\n",
       "<table border=\"1\" class=\"dataframe\">\n",
       "  <thead>\n",
       "    <tr style=\"text-align: right;\">\n",
       "      <th></th>\n",
       "      <th>user_id</th>\n",
       "      <th>track</th>\n",
       "      <th>artist</th>\n",
       "      <th>genre</th>\n",
       "      <th>city</th>\n",
       "      <th>time</th>\n",
       "      <th>day</th>\n",
       "    </tr>\n",
       "  </thead>\n",
       "  <tbody>\n",
       "    <tr>\n",
       "      <td>1</td>\n",
       "      <td>55204538</td>\n",
       "      <td>Delayed Because of Accident</td>\n",
       "      <td>Andreas Rönnberg</td>\n",
       "      <td>rock</td>\n",
       "      <td>Moscow</td>\n",
       "      <td>14:07:09</td>\n",
       "      <td>Friday</td>\n",
       "    </tr>\n",
       "    <tr>\n",
       "      <td>4</td>\n",
       "      <td>E2DC1FAE</td>\n",
       "      <td>Soul People</td>\n",
       "      <td>Space Echo</td>\n",
       "      <td>dance</td>\n",
       "      <td>Moscow</td>\n",
       "      <td>08:34:34</td>\n",
       "      <td>Monday</td>\n",
       "    </tr>\n",
       "    <tr>\n",
       "      <td>6</td>\n",
       "      <td>4CB90AA5</td>\n",
       "      <td>True</td>\n",
       "      <td>Roman Messer</td>\n",
       "      <td>dance</td>\n",
       "      <td>Moscow</td>\n",
       "      <td>13:00:07</td>\n",
       "      <td>Wednesday</td>\n",
       "    </tr>\n",
       "    <tr>\n",
       "      <td>7</td>\n",
       "      <td>F03E1C1F</td>\n",
       "      <td>Feeling This Way</td>\n",
       "      <td>Polina Griffith</td>\n",
       "      <td>dance</td>\n",
       "      <td>Moscow</td>\n",
       "      <td>20:47:49</td>\n",
       "      <td>Wednesday</td>\n",
       "    </tr>\n",
       "    <tr>\n",
       "      <td>8</td>\n",
       "      <td>8FA1D3BE</td>\n",
       "      <td>И вновь продолжается бой</td>\n",
       "      <td>unknown</td>\n",
       "      <td>ruspop</td>\n",
       "      <td>Moscow</td>\n",
       "      <td>09:17:40</td>\n",
       "      <td>Friday</td>\n",
       "    </tr>\n",
       "    <tr>\n",
       "      <td>...</td>\n",
       "      <td>...</td>\n",
       "      <td>...</td>\n",
       "      <td>...</td>\n",
       "      <td>...</td>\n",
       "      <td>...</td>\n",
       "      <td>...</td>\n",
       "      <td>...</td>\n",
       "    </tr>\n",
       "    <tr>\n",
       "      <td>61247</td>\n",
       "      <td>83A474E7</td>\n",
       "      <td>I Worship Only What You Bleed</td>\n",
       "      <td>The Black Dahlia Murder</td>\n",
       "      <td>extrememetal</td>\n",
       "      <td>Moscow</td>\n",
       "      <td>21:07:12</td>\n",
       "      <td>Monday</td>\n",
       "    </tr>\n",
       "    <tr>\n",
       "      <td>61248</td>\n",
       "      <td>729CBB09</td>\n",
       "      <td>My Name</td>\n",
       "      <td>McLean</td>\n",
       "      <td>rnb</td>\n",
       "      <td>Moscow</td>\n",
       "      <td>13:32:28</td>\n",
       "      <td>Wednesday</td>\n",
       "    </tr>\n",
       "    <tr>\n",
       "      <td>61250</td>\n",
       "      <td>C5E3A0D5</td>\n",
       "      <td>Jalopiina</td>\n",
       "      <td>unknown</td>\n",
       "      <td>industrial</td>\n",
       "      <td>Moscow</td>\n",
       "      <td>20:09:26</td>\n",
       "      <td>Friday</td>\n",
       "    </tr>\n",
       "    <tr>\n",
       "      <td>61251</td>\n",
       "      <td>321D0506</td>\n",
       "      <td>Freight Train</td>\n",
       "      <td>Chas McDevitt</td>\n",
       "      <td>rock</td>\n",
       "      <td>Moscow</td>\n",
       "      <td>21:43:59</td>\n",
       "      <td>Friday</td>\n",
       "    </tr>\n",
       "    <tr>\n",
       "      <td>61252</td>\n",
       "      <td>3A64EF84</td>\n",
       "      <td>Tell Me Sweet Little Lies</td>\n",
       "      <td>Monica Lopez</td>\n",
       "      <td>country</td>\n",
       "      <td>Moscow</td>\n",
       "      <td>21:59:46</td>\n",
       "      <td>Friday</td>\n",
       "    </tr>\n",
       "  </tbody>\n",
       "</table>\n",
       "<p>42741 rows × 7 columns</p>\n",
       "</div>"
      ],
      "text/plain": [
       "        user_id                          track                   artist  \\\n",
       "1      55204538    Delayed Because of Accident         Andreas Rönnberg   \n",
       "4      E2DC1FAE                    Soul People               Space Echo   \n",
       "6      4CB90AA5                           True             Roman Messer   \n",
       "7      F03E1C1F               Feeling This Way          Polina Griffith   \n",
       "8      8FA1D3BE       И вновь продолжается бой                  unknown   \n",
       "...         ...                            ...                      ...   \n",
       "61247  83A474E7  I Worship Only What You Bleed  The Black Dahlia Murder   \n",
       "61248  729CBB09                        My Name                   McLean   \n",
       "61250  C5E3A0D5                      Jalopiina                  unknown   \n",
       "61251  321D0506                  Freight Train            Chas McDevitt   \n",
       "61252  3A64EF84      Tell Me Sweet Little Lies             Monica Lopez   \n",
       "\n",
       "              genre    city      time        day  \n",
       "1              rock  Moscow  14:07:09     Friday  \n",
       "4             dance  Moscow  08:34:34     Monday  \n",
       "6             dance  Moscow  13:00:07  Wednesday  \n",
       "7             dance  Moscow  20:47:49  Wednesday  \n",
       "8            ruspop  Moscow  09:17:40     Friday  \n",
       "...             ...     ...       ...        ...  \n",
       "61247  extrememetal  Moscow  21:07:12     Monday  \n",
       "61248           rnb  Moscow  13:32:28  Wednesday  \n",
       "61250    industrial  Moscow  20:09:26     Friday  \n",
       "61251          rock  Moscow  21:43:59     Friday  \n",
       "61252       country  Moscow  21:59:46     Friday  \n",
       "\n",
       "[42741 rows x 7 columns]"
      ]
     },
     "metadata": {},
     "output_type": "display_data"
    }
   ],
   "source": [
    "# получим таблицы moscow_general из тех строк таблицы df, \n",
    "# для которых значение в столбце 'city' равно 'Moscow'\n",
    "moscow_general = []\n",
    "moscow_general = df[df['city'] == 'Moscow']\n",
    "display(moscow_general)"
   ]
  },
  {
   "cell_type": "code",
   "execution_count": 29,
   "metadata": {
    "id": "ORaVRKto_Zcu"
   },
   "outputs": [
    {
     "data": {
      "text/html": [
       "<div>\n",
       "<style scoped>\n",
       "    .dataframe tbody tr th:only-of-type {\n",
       "        vertical-align: middle;\n",
       "    }\n",
       "\n",
       "    .dataframe tbody tr th {\n",
       "        vertical-align: top;\n",
       "    }\n",
       "\n",
       "    .dataframe thead th {\n",
       "        text-align: right;\n",
       "    }\n",
       "</style>\n",
       "<table border=\"1\" class=\"dataframe\">\n",
       "  <thead>\n",
       "    <tr style=\"text-align: right;\">\n",
       "      <th></th>\n",
       "      <th>user_id</th>\n",
       "      <th>track</th>\n",
       "      <th>artist</th>\n",
       "      <th>genre</th>\n",
       "      <th>city</th>\n",
       "      <th>time</th>\n",
       "      <th>day</th>\n",
       "    </tr>\n",
       "  </thead>\n",
       "  <tbody>\n",
       "    <tr>\n",
       "      <td>0</td>\n",
       "      <td>FFB692EC</td>\n",
       "      <td>Kamigata To Boots</td>\n",
       "      <td>The Mass Missile</td>\n",
       "      <td>rock</td>\n",
       "      <td>Saint-Petersburg</td>\n",
       "      <td>20:28:33</td>\n",
       "      <td>Wednesday</td>\n",
       "    </tr>\n",
       "    <tr>\n",
       "      <td>2</td>\n",
       "      <td>20EC38</td>\n",
       "      <td>Funiculì funiculà</td>\n",
       "      <td>Mario Lanza</td>\n",
       "      <td>pop</td>\n",
       "      <td>Saint-Petersburg</td>\n",
       "      <td>20:58:07</td>\n",
       "      <td>Wednesday</td>\n",
       "    </tr>\n",
       "    <tr>\n",
       "      <td>3</td>\n",
       "      <td>A3DD03C9</td>\n",
       "      <td>Dragons in the Sunset</td>\n",
       "      <td>Fire + Ice</td>\n",
       "      <td>folk</td>\n",
       "      <td>Saint-Petersburg</td>\n",
       "      <td>08:37:09</td>\n",
       "      <td>Monday</td>\n",
       "    </tr>\n",
       "    <tr>\n",
       "      <td>5</td>\n",
       "      <td>842029A1</td>\n",
       "      <td>Преданная</td>\n",
       "      <td>IMPERVTOR</td>\n",
       "      <td>rusrap</td>\n",
       "      <td>Saint-Petersburg</td>\n",
       "      <td>13:09:41</td>\n",
       "      <td>Friday</td>\n",
       "    </tr>\n",
       "    <tr>\n",
       "      <td>9</td>\n",
       "      <td>E772D5C0</td>\n",
       "      <td>Pessimist</td>\n",
       "      <td>unknown</td>\n",
       "      <td>dance</td>\n",
       "      <td>Saint-Petersburg</td>\n",
       "      <td>21:20:49</td>\n",
       "      <td>Wednesday</td>\n",
       "    </tr>\n",
       "    <tr>\n",
       "      <td>...</td>\n",
       "      <td>...</td>\n",
       "      <td>...</td>\n",
       "      <td>...</td>\n",
       "      <td>...</td>\n",
       "      <td>...</td>\n",
       "      <td>...</td>\n",
       "      <td>...</td>\n",
       "    </tr>\n",
       "    <tr>\n",
       "      <td>61239</td>\n",
       "      <td>D94F810B</td>\n",
       "      <td>Theme from the Walking Dead</td>\n",
       "      <td>Proyecto Halloween</td>\n",
       "      <td>film</td>\n",
       "      <td>Saint-Petersburg</td>\n",
       "      <td>21:14:40</td>\n",
       "      <td>Monday</td>\n",
       "    </tr>\n",
       "    <tr>\n",
       "      <td>61240</td>\n",
       "      <td>BC8EC5CF</td>\n",
       "      <td>Red Lips: Gta (Rover Rework)</td>\n",
       "      <td>Rover</td>\n",
       "      <td>electronic</td>\n",
       "      <td>Saint-Petersburg</td>\n",
       "      <td>21:06:50</td>\n",
       "      <td>Monday</td>\n",
       "    </tr>\n",
       "    <tr>\n",
       "      <td>61241</td>\n",
       "      <td>29E04611</td>\n",
       "      <td>Bre Petrunko</td>\n",
       "      <td>Perunika Trio</td>\n",
       "      <td>world</td>\n",
       "      <td>Saint-Petersburg</td>\n",
       "      <td>13:56:00</td>\n",
       "      <td>Monday</td>\n",
       "    </tr>\n",
       "    <tr>\n",
       "      <td>61242</td>\n",
       "      <td>1B91C621</td>\n",
       "      <td>(Hello) Cloud Mountain</td>\n",
       "      <td>sleepmakeswaves</td>\n",
       "      <td>postrock</td>\n",
       "      <td>Saint-Petersburg</td>\n",
       "      <td>09:22:13</td>\n",
       "      <td>Monday</td>\n",
       "    </tr>\n",
       "    <tr>\n",
       "      <td>61249</td>\n",
       "      <td>D08D4A55</td>\n",
       "      <td>Maybe One Day (feat. Black Spade)</td>\n",
       "      <td>Blu &amp; Exile</td>\n",
       "      <td>hiphop</td>\n",
       "      <td>Saint-Petersburg</td>\n",
       "      <td>10:00:00</td>\n",
       "      <td>Monday</td>\n",
       "    </tr>\n",
       "  </tbody>\n",
       "</table>\n",
       "<p>18512 rows × 7 columns</p>\n",
       "</div>"
      ],
      "text/plain": [
       "        user_id                              track              artist  \\\n",
       "0      FFB692EC                  Kamigata To Boots    The Mass Missile   \n",
       "2        20EC38                  Funiculì funiculà         Mario Lanza   \n",
       "3      A3DD03C9              Dragons in the Sunset          Fire + Ice   \n",
       "5      842029A1                          Преданная           IMPERVTOR   \n",
       "9      E772D5C0                          Pessimist             unknown   \n",
       "...         ...                                ...                 ...   \n",
       "61239  D94F810B        Theme from the Walking Dead  Proyecto Halloween   \n",
       "61240  BC8EC5CF       Red Lips: Gta (Rover Rework)               Rover   \n",
       "61241  29E04611                       Bre Petrunko       Perunika Trio   \n",
       "61242  1B91C621             (Hello) Cloud Mountain     sleepmakeswaves   \n",
       "61249  D08D4A55  Maybe One Day (feat. Black Spade)         Blu & Exile   \n",
       "\n",
       "            genre              city      time        day  \n",
       "0            rock  Saint-Petersburg  20:28:33  Wednesday  \n",
       "2             pop  Saint-Petersburg  20:58:07  Wednesday  \n",
       "3            folk  Saint-Petersburg  08:37:09     Monday  \n",
       "5          rusrap  Saint-Petersburg  13:09:41     Friday  \n",
       "9           dance  Saint-Petersburg  21:20:49  Wednesday  \n",
       "...           ...               ...       ...        ...  \n",
       "61239        film  Saint-Petersburg  21:14:40     Monday  \n",
       "61240  electronic  Saint-Petersburg  21:06:50     Monday  \n",
       "61241       world  Saint-Petersburg  13:56:00     Monday  \n",
       "61242    postrock  Saint-Petersburg  09:22:13     Monday  \n",
       "61249      hiphop  Saint-Petersburg  10:00:00     Monday  \n",
       "\n",
       "[18512 rows x 7 columns]"
      ]
     },
     "metadata": {},
     "output_type": "display_data"
    }
   ],
   "source": [
    "# получим таблицы spb_general из тех строк таблицы df,\n",
    "# для которых значение в столбце 'city' равно 'Saint-Petersburg'\n",
    "spb_general = []\n",
    "spb_general = df[df['city'] == 'Saint-Petersburg']\n",
    "display(spb_general)"
   ]
  },
  {
   "cell_type": "markdown",
   "metadata": {
    "id": "MEJV-CX2_Zcu"
   },
   "source": [
    "Создадим функцию `genre_weekday()` с четырьмя параметрами:\n",
    "* таблица (датафрейм) с данными,\n",
    "* день недели,\n",
    "* начальная временная метка в формате 'hh:mm', \n",
    "* последняя временная метка в формате 'hh:mm'.\n",
    "\n",
    "Функция вернет информацию о топ-10 жанров тех треков, которые прослушивали в указанный день, в промежутке между двумя отметками времени."
   ]
  },
  {
   "cell_type": "code",
   "execution_count": 30,
   "metadata": {
    "id": "laJT9BYl_Zcu"
   },
   "outputs": [],
   "source": [
    "# объявим функцию genre_weekday() с параметрами table, day, time1, time2,\n",
    "# которая возвращает информацию о самых популярных жанрах в указанный день в\n",
    "# заданное время:\n",
    "def genre_weekday(table, day, time1, time2):\n",
    "# 1) в переменную genre_df сохраним те строки переданного датафрейма table, для\n",
    "#    которых одновременно:\n",
    "#    - значение в столбце day равно значению аргумента day\n",
    "#    - значение в столбце time больше значения аргумента time1\n",
    "#    - значение в столбце time меньше значения аргумента time2\n",
    "#    Используем последовательную фильтрацию с помощью логической индексации.\n",
    "    genre_df = []\n",
    "    genre_df = table[(table['day'] == day) & (table['time'] > time1) & (table['time'] < time2)]\n",
    "# 2) сгруппируем датафрейм genre_df по столбцу genre, взять один из его\n",
    "#    столбцов и посчитаем методом count() количество записей для каждого из\n",
    "#    присутствующих жанров, получившийся Series запишем в переменную\n",
    "#    genre_df_count\n",
    "    genre_df_count = genre_df.groupby('genre')['genre'].count()\n",
    "# 3) отсортируем genre_df_count по убыванию встречаемости и сохраним\n",
    "#    в переменную genre_df_sorted\n",
    "    genre_df_sorted = genre_df_count.sort_values(ascending=False)\n",
    "# 4) вернем Series из 10 первых значений genre_df_sorted, это будут топ-10\n",
    "#    популярных жанров (в указанный день, в заданное время)\n",
    "    return genre_df_sorted.head(10)"
   ]
  },
  {
   "cell_type": "markdown",
   "metadata": {
    "id": "la2s2_PF_Zcu"
   },
   "source": [
    "Cравним результаты функции `genre_weekday()` для Москвы и Санкт-Петербурга в понедельник утром (с 7:00 до 11:00) и в пятницу вечером (с 17:00 до 23:00):"
   ]
  },
  {
   "cell_type": "code",
   "execution_count": 31,
   "metadata": {
    "id": "yz7itPUQ_Zcu"
   },
   "outputs": [
    {
     "data": {
      "text/plain": [
       "genre\n",
       "pop            781\n",
       "dance          549\n",
       "electronic     480\n",
       "rock           474\n",
       "hiphop         286\n",
       "ruspop         186\n",
       "world          181\n",
       "rusrap         175\n",
       "alternative    164\n",
       "unknown        161\n",
       "Name: genre, dtype: int64"
      ]
     },
     "execution_count": 31,
     "metadata": {},
     "output_type": "execute_result"
    }
   ],
   "source": [
    "# вызовем функции для утра понедельника в Москве (вместо df — таблица moscow_general)\n",
    "# объекты, хранящие время, являются строками и сравниваются как строки\n",
    "genre_weekday(moscow_general, 'Monday', '07:00', '11:00')"
   ]
  },
  {
   "cell_type": "code",
   "execution_count": 32,
   "metadata": {
    "id": "kwUcHPdy_Zcu"
   },
   "outputs": [
    {
     "data": {
      "text/plain": [
       "genre\n",
       "pop            218\n",
       "dance          182\n",
       "rock           162\n",
       "electronic     147\n",
       "hiphop          80\n",
       "ruspop          64\n",
       "alternative     58\n",
       "rusrap          55\n",
       "jazz            44\n",
       "classical       40\n",
       "Name: genre, dtype: int64"
      ]
     },
     "execution_count": 32,
     "metadata": {},
     "output_type": "execute_result"
    }
   ],
   "source": [
    "# вызовем функции для утра понедельника в Петербурге (вместо df — таблица spb_general)\n",
    "genre_weekday(spb_general, 'Monday', '07:00', '11:00')"
   ]
  },
  {
   "cell_type": "code",
   "execution_count": 33,
   "metadata": {
    "id": "EzXVRE1o_Zcu"
   },
   "outputs": [
    {
     "data": {
      "text/plain": [
       "genre\n",
       "pop            713\n",
       "rock           517\n",
       "dance          495\n",
       "electronic     482\n",
       "hiphop         273\n",
       "world          208\n",
       "ruspop         170\n",
       "classical      163\n",
       "alternative    163\n",
       "rusrap         142\n",
       "Name: genre, dtype: int64"
      ]
     },
     "execution_count": 33,
     "metadata": {},
     "output_type": "execute_result"
    }
   ],
   "source": [
    "# вызовем функции для вечера пятницы в Москве\n",
    "genre_weekday(moscow_general, 'Friday', '17:00', '23:00')"
   ]
  },
  {
   "cell_type": "code",
   "execution_count": 34,
   "metadata": {
    "id": "JZaEKu5v_Zcu"
   },
   "outputs": [
    {
     "data": {
      "text/plain": [
       "genre\n",
       "pop            256\n",
       "rock           216\n",
       "electronic     216\n",
       "dance          210\n",
       "hiphop          97\n",
       "alternative     63\n",
       "jazz            61\n",
       "classical       60\n",
       "rusrap          59\n",
       "world           54\n",
       "Name: genre, dtype: int64"
      ]
     },
     "execution_count": 34,
     "metadata": {},
     "output_type": "execute_result"
    }
   ],
   "source": [
    "# вызовем функции для вечера пятницы в Петербурге\n",
    "genre_weekday(spb_general, 'Friday', '17:00', '23:00')"
   ]
  },
  {
   "cell_type": "markdown",
   "metadata": {
    "id": "wrCe4MNX_Zcu"
   },
   "source": [
    "**Выводы**\n",
    "\n",
    "Если сравнить топ-10 жанров в понедельник утром, можно сделать такие выводы:\n",
    "\n",
    "1. В Москве и Петербурге слушают похожую музыку. Единственное отличие — в московский рейтинг вошёл жанр “world”, а в петербургский — джаз и классика.\n",
    "\n",
    "2. В Москве пропущенных значений оказалось так много, что значение `'unknown'` заняло десятое место среди самых популярных жанров. Значит, пропущенные значения занимают существенную долю в данных и угрожают достоверности исследования.\n",
    "\n",
    "Вечер пятницы не меняет эту картину. Некоторые жанры поднимаются немного выше, другие спускаются, но в целом топ-10 остаётся тем же самым.\n",
    "\n",
    "Таким образом, вторая гипотеза подтвердилась лишь частично:\n",
    "* Пользователи слушают похожую музыку в начале недели и в конце.\n",
    "* Разница между Москвой и Петербургом не слишком выражена. В Москве чаще слушают русскую популярную музыку, в Петербурге — джаз.\n",
    "\n",
    "Однако пропуски в данных ставят под сомнение этот результат. В Москве их так много, что рейтинг топ-10 мог бы выглядеть иначе, если бы не утерянные  данные о жанрах."
   ]
  },
  {
   "cell_type": "markdown",
   "metadata": {
    "id": "JolODAqr_Zcu"
   },
   "source": [
    "### Жанровые предпочтения в Москве и Петербурге\n",
    "\n",
    "Гипотеза: Петербург — столица рэпа, музыку этого жанра там слушают чаще, чем в Москве.  А Москва — город контрастов, в котором, тем не менее, преобладает поп-музыка."
   ]
  },
  {
   "cell_type": "markdown",
   "metadata": {
    "id": "DlegSvaT_Zcu"
   },
   "source": [
    "Сгруппируем таблицу `moscow_general` по жанру и посчитаем прослушивания треков каждого жанра методом `count()`. Затем отсортируем результат в порядке убывания и сохраним его в таблице `moscow_genres`."
   ]
  },
  {
   "cell_type": "code",
   "execution_count": 35,
   "metadata": {
    "id": "r19lIPke_Zcu"
   },
   "outputs": [],
   "source": [
    "# группировка таблицы moscow_general по столбцу 'genre', \n",
    "# подсчёт числа значений 'genre' в этой группировке методом count(), \n",
    "# сортировка получившегося Series в порядке убывания и сохранение в moscow_genres\n",
    "moscow_genres = moscow_general.groupby('genre')['genre'].count().sort_values(ascending=False)"
   ]
  },
  {
   "cell_type": "markdown",
   "metadata": {
    "id": "6kMuomxTiIr8"
   },
   "source": [
    "Выведем на экран первые десять строк `moscow_genres`:"
   ]
  },
  {
   "cell_type": "code",
   "execution_count": 36,
   "metadata": {
    "id": "WhCSooF8_Zcv"
   },
   "outputs": [
    {
     "data": {
      "text/plain": [
       "genre\n",
       "pop            5892\n",
       "dance          4435\n",
       "rock           3965\n",
       "electronic     3786\n",
       "hiphop         2096\n",
       "classical      1616\n",
       "world          1432\n",
       "alternative    1379\n",
       "ruspop         1372\n",
       "rusrap         1161\n",
       "Name: genre, dtype: int64"
      ]
     },
     "execution_count": 36,
     "metadata": {},
     "output_type": "execute_result"
    }
   ],
   "source": [
    "# просмотр первых 10 строк moscow_genres\n",
    "moscow_genres.head(10)"
   ]
  },
  {
   "cell_type": "markdown",
   "metadata": {
    "id": "cnPG2vnN_Zcv"
   },
   "source": [
    "Теперь повторим то же и для Петербурга.\n",
    "\n",
    "Сгруппируем таблицу `spb_general` по жанру. Посчитаем прослушивания треков каждого жанра. Результат отсортируем в порядке убывания и сохраним в таблице `spb_genres`:\n"
   ]
  },
  {
   "cell_type": "code",
   "execution_count": 37,
   "metadata": {
    "id": "gluLIpE7_Zcv"
   },
   "outputs": [],
   "source": [
    "# группировка таблицы spb_general по столбцу 'genre', \n",
    "# подсчёт числа значений 'genre' в этой группировке методом count(), \n",
    "# сортировка получившегося Series в порядке убывания и сохранение в spb_genres\n",
    "spb_genres = spb_general.groupby('genre')['genre'].count().sort_values(ascending=False)"
   ]
  },
  {
   "cell_type": "markdown",
   "metadata": {
    "id": "5Doha_ODgyQ8"
   },
   "source": [
    "Выведем на экран первые десять строк `spb_genres`:"
   ]
  },
  {
   "cell_type": "code",
   "execution_count": 38,
   "metadata": {
    "id": "uaGJHjVU_Zcv",
    "scrolled": true
   },
   "outputs": [
    {
     "data": {
      "text/plain": [
       "genre\n",
       "pop            2431\n",
       "dance          1932\n",
       "rock           1879\n",
       "electronic     1736\n",
       "hiphop          960\n",
       "alternative     649\n",
       "classical       646\n",
       "rusrap          564\n",
       "ruspop          538\n",
       "world           515\n",
       "Name: genre, dtype: int64"
      ]
     },
     "execution_count": 38,
     "metadata": {},
     "output_type": "execute_result"
    }
   ],
   "source": [
    "# просмотр первых 10 строк spb_genres\n",
    "spb_genres.head(10)"
   ]
  },
  {
   "cell_type": "markdown",
   "metadata": {
    "id": "RY51YJYu_Zcv"
   },
   "source": [
    "**Выводы**"
   ]
  },
  {
   "cell_type": "markdown",
   "metadata": {
    "id": "nVhnJEm__Zcv"
   },
   "source": [
    "Гипотеза частично подтвердилась:\n",
    "* Поп-музыка — самый популярный жанр в Москве, как и предполагала гипотеза. Более того, в топ-10 жанров встречается близкий жанр — русская популярная музыка.\n",
    "* Вопреки ожиданиям, рэп одинаково популярен в Москве и Петербурге. \n"
   ]
  },
  {
   "cell_type": "markdown",
   "metadata": {
    "id": "ykKQ0N65_Zcv"
   },
   "source": [
    "## Итоги исследования"
   ]
  },
  {
   "cell_type": "markdown",
   "metadata": {
    "id": "tjUwbHb3_Zcv"
   },
   "source": [
    "Мы проверили три гипотезы и установили:\n",
    "\n",
    "1. День недели по-разному влияет на активность пользователей в Москве и Петербурге. \n",
    "\n",
    "Первая гипотеза полностью подтвердилась.\n",
    "\n",
    "2. Музыкальные предпочтения не сильно меняются в течение недели — будь то Москва или Петербург. Небольшие различия заметны в начале недели, по понедельникам:\n",
    "* в Москве слушают музыку жанра “world”,\n",
    "* в Петербурге — джаз и классику.\n",
    "\n",
    "Таким образом, вторая гипотеза подтвердилась лишь отчасти. Этот результат мог оказаться иным, если бы не пропуски в данных.\n",
    "\n",
    "3. Во вкусах пользователей Москвы и Петербурга больше общего чем различий. Вопреки ожиданиям, предпочтения жанров в Петербурге напоминают московские.\n",
    "\n",
    "Третья гипотеза не подтвердилась. Если различия в предпочтениях и существуют, на основной массе пользователей они незаметны.\n"
   ]
  }
 ],
 "metadata": {
  "ExecuteTimeLog": [
   {
    "duration": 656,
    "start_time": "2021-12-12T20:00:27.541Z"
   },
   {
    "duration": 144,
    "start_time": "2021-12-12T20:01:27.206Z"
   },
   {
    "duration": 16,
    "start_time": "2021-12-12T20:02:06.356Z"
   },
   {
    "duration": 26,
    "start_time": "2021-12-12T20:02:40.029Z"
   },
   {
    "duration": 5,
    "start_time": "2021-12-12T20:08:29.778Z"
   },
   {
    "duration": 36,
    "start_time": "2021-12-12T20:13:28.245Z"
   },
   {
    "duration": 4,
    "start_time": "2021-12-12T20:13:39.809Z"
   },
   {
    "duration": 302,
    "start_time": "2021-12-12T20:15:25.409Z"
   },
   {
    "duration": 55,
    "start_time": "2021-12-12T20:15:43.390Z"
   },
   {
    "duration": 47,
    "start_time": "2021-12-12T20:16:13.684Z"
   },
   {
    "duration": 61,
    "start_time": "2021-12-12T20:16:50.137Z"
   },
   {
    "duration": 41,
    "start_time": "2021-12-12T20:17:02.615Z"
   },
   {
    "duration": 23,
    "start_time": "2021-12-12T20:17:08.800Z"
   },
   {
    "duration": 25,
    "start_time": "2021-12-12T20:17:15.634Z"
   },
   {
    "duration": 42,
    "start_time": "2021-12-12T20:17:19.307Z"
   },
   {
    "duration": 1810,
    "start_time": "2021-12-12T20:27:22.607Z"
   },
   {
    "duration": 4,
    "start_time": "2021-12-12T20:27:35.596Z"
   },
   {
    "duration": 31,
    "start_time": "2021-12-12T20:27:38.704Z"
   },
   {
    "duration": 25,
    "start_time": "2021-12-12T20:27:52.054Z"
   },
   {
    "duration": 3,
    "start_time": "2021-12-12T20:28:17.583Z"
   },
   {
    "duration": 43,
    "start_time": "2021-12-12T20:28:19.405Z"
   },
   {
    "duration": 17,
    "start_time": "2021-12-12T20:31:12.024Z"
   },
   {
    "duration": 246,
    "start_time": "2021-12-12T20:31:15.367Z"
   },
   {
    "duration": 24,
    "start_time": "2021-12-12T20:31:22.229Z"
   },
   {
    "duration": 136,
    "start_time": "2021-12-12T20:31:58.627Z"
   },
   {
    "duration": 24,
    "start_time": "2021-12-12T20:32:01.710Z"
   },
   {
    "duration": 19,
    "start_time": "2021-12-12T20:32:30.572Z"
   },
   {
    "duration": 24,
    "start_time": "2021-12-12T20:32:32.933Z"
   },
   {
    "duration": 44,
    "start_time": "2021-12-12T20:32:47.462Z"
   },
   {
    "duration": 30,
    "start_time": "2021-12-12T20:33:02.063Z"
   },
   {
    "duration": 25,
    "start_time": "2021-12-12T20:33:12.715Z"
   },
   {
    "duration": 702,
    "start_time": "2021-12-13T18:24:01.936Z"
   },
   {
    "duration": 600,
    "start_time": "2021-12-13T18:24:48.982Z"
   },
   {
    "duration": 147,
    "start_time": "2021-12-13T18:24:49.584Z"
   },
   {
    "duration": 17,
    "start_time": "2021-12-13T18:24:49.733Z"
   },
   {
    "duration": 36,
    "start_time": "2021-12-13T18:24:49.753Z"
   },
   {
    "duration": 6,
    "start_time": "2021-12-13T18:24:49.791Z"
   },
   {
    "duration": 23,
    "start_time": "2021-12-13T18:24:49.799Z"
   },
   {
    "duration": 6,
    "start_time": "2021-12-13T18:24:49.824Z"
   },
   {
    "duration": 67,
    "start_time": "2021-12-13T18:24:49.832Z"
   },
   {
    "duration": 18,
    "start_time": "2021-12-13T18:24:49.902Z"
   },
   {
    "duration": 42,
    "start_time": "2021-12-13T18:24:49.922Z"
   },
   {
    "duration": 62,
    "start_time": "2021-12-13T18:24:49.967Z"
   },
   {
    "duration": 3,
    "start_time": "2021-12-13T18:24:50.031Z"
   },
   {
    "duration": 3,
    "start_time": "2021-12-13T18:24:50.063Z"
   },
   {
    "duration": 18,
    "start_time": "2021-12-13T18:24:50.068Z"
   },
   {
    "duration": 14,
    "start_time": "2021-12-13T18:24:50.088Z"
   },
   {
    "duration": 20,
    "start_time": "2021-12-13T18:24:50.104Z"
   },
   {
    "duration": 15,
    "start_time": "2021-12-13T18:24:50.126Z"
   },
   {
    "duration": 24,
    "start_time": "2021-12-13T18:24:50.143Z"
   },
   {
    "duration": 22,
    "start_time": "2021-12-13T18:24:50.169Z"
   },
   {
    "duration": 22,
    "start_time": "2021-12-13T18:24:50.192Z"
   },
   {
    "duration": 31,
    "start_time": "2021-12-13T18:24:50.216Z"
   },
   {
    "duration": 24,
    "start_time": "2021-12-13T18:24:50.249Z"
   },
   {
    "duration": 18,
    "start_time": "2021-12-13T18:24:50.276Z"
   },
   {
    "duration": 21,
    "start_time": "2021-12-13T18:24:50.296Z"
   },
   {
    "duration": 34,
    "start_time": "2021-12-13T18:24:50.318Z"
   },
   {
    "duration": 30,
    "start_time": "2021-12-13T18:24:50.354Z"
   },
   {
    "duration": 22,
    "start_time": "2021-12-13T18:24:50.386Z"
   },
   {
    "duration": 33,
    "start_time": "2021-12-13T18:24:50.409Z"
   },
   {
    "duration": 17,
    "start_time": "2021-12-13T18:24:50.445Z"
   },
   {
    "duration": 18,
    "start_time": "2021-12-13T18:24:50.464Z"
   },
   {
    "duration": 35,
    "start_time": "2021-12-13T18:24:50.484Z"
   },
   {
    "duration": 28,
    "start_time": "2021-12-13T18:24:50.521Z"
   },
   {
    "duration": 32,
    "start_time": "2021-12-13T18:24:50.551Z"
   },
   {
    "duration": 32,
    "start_time": "2021-12-13T18:24:50.584Z"
   },
   {
    "duration": 22,
    "start_time": "2021-12-13T18:24:50.618Z"
   },
   {
    "duration": 22,
    "start_time": "2021-12-13T18:24:50.642Z"
   },
   {
    "duration": 35,
    "start_time": "2021-12-13T18:24:50.666Z"
   },
   {
    "duration": 22,
    "start_time": "2021-12-13T18:24:50.703Z"
   },
   {
    "duration": 87,
    "start_time": "2021-12-13T18:26:44.749Z"
   },
   {
    "duration": 58,
    "start_time": "2021-12-13T18:27:13.085Z"
   },
   {
    "duration": 62,
    "start_time": "2021-12-13T18:28:03.855Z"
   },
   {
    "duration": 72,
    "start_time": "2021-12-13T18:28:07.723Z"
   },
   {
    "duration": 56,
    "start_time": "2021-12-13T18:28:10.751Z"
   },
   {
    "duration": 336,
    "start_time": "2021-12-13T18:32:13.589Z"
   },
   {
    "duration": 54,
    "start_time": "2021-12-13T18:32:45.098Z"
   },
   {
    "duration": 52,
    "start_time": "2021-12-13T18:33:45.784Z"
   },
   {
    "duration": 38,
    "start_time": "2021-12-13T18:34:38.594Z"
   },
   {
    "duration": 37,
    "start_time": "2021-12-13T18:34:45.607Z"
   },
   {
    "duration": 38,
    "start_time": "2021-12-13T18:35:05.480Z"
   },
   {
    "duration": 36,
    "start_time": "2021-12-13T18:35:17.048Z"
   },
   {
    "duration": 38,
    "start_time": "2021-12-13T18:36:09.712Z"
   },
   {
    "duration": 256,
    "start_time": "2021-12-13T18:36:43.723Z"
   },
   {
    "duration": 247,
    "start_time": "2021-12-13T18:37:03.488Z"
   },
   {
    "duration": 237,
    "start_time": "2021-12-13T18:37:09.612Z"
   },
   {
    "duration": 14,
    "start_time": "2021-12-13T18:40:35.384Z"
   },
   {
    "duration": 231,
    "start_time": "2021-12-13T18:43:20.109Z"
   },
   {
    "duration": 228,
    "start_time": "2021-12-13T18:46:04.843Z"
   },
   {
    "duration": 37,
    "start_time": "2021-12-13T18:47:07.645Z"
   },
   {
    "duration": 40,
    "start_time": "2021-12-13T18:47:23.815Z"
   },
   {
    "duration": 44,
    "start_time": "2021-12-13T18:48:53.756Z"
   },
   {
    "duration": 39,
    "start_time": "2021-12-13T18:49:07.746Z"
   },
   {
    "duration": 39,
    "start_time": "2021-12-13T18:49:23.679Z"
   },
   {
    "duration": 42,
    "start_time": "2021-12-13T18:49:41.457Z"
   },
   {
    "duration": 67,
    "start_time": "2021-12-13T18:50:24.049Z"
   },
   {
    "duration": 40,
    "start_time": "2021-12-13T18:50:42.632Z"
   },
   {
    "duration": 240,
    "start_time": "2021-12-13T19:17:47.871Z"
   },
   {
    "duration": 233,
    "start_time": "2021-12-13T19:21:36.250Z"
   },
   {
    "duration": 236,
    "start_time": "2021-12-13T19:22:42.101Z"
   },
   {
    "duration": 3,
    "start_time": "2021-12-13T19:24:11.177Z"
   },
   {
    "duration": 16,
    "start_time": "2021-12-13T19:24:53.825Z"
   },
   {
    "duration": 234,
    "start_time": "2021-12-13T19:25:30.819Z"
   },
   {
    "duration": 46,
    "start_time": "2021-12-13T19:25:47.470Z"
   },
   {
    "duration": 10,
    "start_time": "2021-12-13T19:26:27.378Z"
   },
   {
    "duration": 42,
    "start_time": "2021-12-13T19:26:37.879Z"
   },
   {
    "duration": 7,
    "start_time": "2021-12-13T19:37:35.625Z"
   },
   {
    "duration": 19,
    "start_time": "2021-12-13T19:38:02.945Z"
   },
   {
    "duration": 44,
    "start_time": "2021-12-13T19:38:32.869Z"
   },
   {
    "duration": 37,
    "start_time": "2021-12-13T19:40:26.068Z"
   },
   {
    "duration": 40,
    "start_time": "2021-12-13T19:41:40.986Z"
   },
   {
    "duration": 43,
    "start_time": "2021-12-13T19:42:26.794Z"
   },
   {
    "duration": 271,
    "start_time": "2021-12-13T19:51:33.989Z"
   },
   {
    "duration": 4,
    "start_time": "2021-12-13T19:51:48.919Z"
   },
   {
    "duration": 5,
    "start_time": "2021-12-13T19:51:56.007Z"
   },
   {
    "duration": 32,
    "start_time": "2021-12-13T19:53:28.997Z"
   },
   {
    "duration": 31,
    "start_time": "2021-12-13T19:54:15.807Z"
   },
   {
    "duration": 31,
    "start_time": "2021-12-13T19:54:48.843Z"
   },
   {
    "duration": 10,
    "start_time": "2021-12-13T19:55:16.641Z"
   },
   {
    "duration": 10,
    "start_time": "2021-12-13T19:55:26.765Z"
   },
   {
    "duration": 31,
    "start_time": "2021-12-13T19:57:16.322Z"
   },
   {
    "duration": 12,
    "start_time": "2021-12-13T19:57:22.458Z"
   },
   {
    "duration": 82,
    "start_time": "2021-12-13T20:02:56.175Z"
   },
   {
    "duration": 3,
    "start_time": "2021-12-13T20:03:37.126Z"
   },
   {
    "duration": 18,
    "start_time": "2021-12-13T20:04:50.140Z"
   },
   {
    "duration": 16,
    "start_time": "2021-12-13T20:05:52.535Z"
   },
   {
    "duration": 15,
    "start_time": "2021-12-13T20:06:13.545Z"
   },
   {
    "duration": 15,
    "start_time": "2021-12-13T20:06:28.412Z"
   },
   {
    "duration": 17,
    "start_time": "2021-12-13T20:06:42.943Z"
   },
   {
    "duration": 15,
    "start_time": "2021-12-13T20:06:54.153Z"
   },
   {
    "duration": 17,
    "start_time": "2021-12-13T20:07:52.513Z"
   },
   {
    "duration": 18,
    "start_time": "2021-12-13T20:08:00.647Z"
   },
   {
    "duration": 82,
    "start_time": "2021-12-13T20:16:20.084Z"
   },
   {
    "duration": 74,
    "start_time": "2021-12-13T20:16:33.720Z"
   },
   {
    "duration": 71,
    "start_time": "2021-12-13T20:16:50.472Z"
   },
   {
    "duration": 528,
    "start_time": "2021-12-14T16:18:53.256Z"
   },
   {
    "duration": 776,
    "start_time": "2021-12-14T16:19:30.701Z"
   },
   {
    "duration": 180,
    "start_time": "2021-12-14T16:19:31.480Z"
   },
   {
    "duration": 27,
    "start_time": "2021-12-14T16:19:31.663Z"
   },
   {
    "duration": 37,
    "start_time": "2021-12-14T16:19:31.693Z"
   },
   {
    "duration": 28,
    "start_time": "2021-12-14T16:19:31.733Z"
   },
   {
    "duration": 28,
    "start_time": "2021-12-14T16:19:31.764Z"
   },
   {
    "duration": 5,
    "start_time": "2021-12-14T16:19:31.794Z"
   },
   {
    "duration": 87,
    "start_time": "2021-12-14T16:19:31.803Z"
   },
   {
    "duration": 21,
    "start_time": "2021-12-14T16:19:31.894Z"
   },
   {
    "duration": 46,
    "start_time": "2021-12-14T16:19:31.918Z"
   },
   {
    "duration": 95,
    "start_time": "2021-12-14T16:19:31.966Z"
   },
   {
    "duration": 103,
    "start_time": "2021-12-14T16:19:32.063Z"
   },
   {
    "duration": 74,
    "start_time": "2021-12-14T16:19:32.169Z"
   },
   {
    "duration": 68,
    "start_time": "2021-12-14T16:19:32.246Z"
   },
   {
    "duration": 4,
    "start_time": "2021-12-14T16:19:32.317Z"
   },
   {
    "duration": 41,
    "start_time": "2021-12-14T16:19:32.323Z"
   },
   {
    "duration": 61,
    "start_time": "2021-12-14T16:19:32.367Z"
   },
   {
    "duration": 28,
    "start_time": "2021-12-14T16:19:32.431Z"
   },
   {
    "duration": 14,
    "start_time": "2021-12-14T16:19:32.462Z"
   },
   {
    "duration": 4,
    "start_time": "2021-12-14T16:19:32.479Z"
   },
   {
    "duration": 25,
    "start_time": "2021-12-14T16:19:32.486Z"
   },
   {
    "duration": 47,
    "start_time": "2021-12-14T16:19:32.514Z"
   },
   {
    "duration": 21,
    "start_time": "2021-12-14T16:19:32.567Z"
   },
   {
    "duration": 19,
    "start_time": "2021-12-14T16:19:32.592Z"
   },
   {
    "duration": 59,
    "start_time": "2021-12-14T16:19:32.613Z"
   },
   {
    "duration": 20,
    "start_time": "2021-12-14T16:19:32.674Z"
   },
   {
    "duration": 114,
    "start_time": "2021-12-14T16:19:32.696Z"
   },
   {
    "duration": 13,
    "start_time": "2021-12-14T16:19:32.813Z"
   },
   {
    "duration": 2,
    "start_time": "2021-12-14T16:19:32.829Z"
   },
   {
    "duration": 5,
    "start_time": "2021-12-14T16:19:32.833Z"
   },
   {
    "duration": 3,
    "start_time": "2021-12-14T16:19:32.860Z"
   },
   {
    "duration": 6,
    "start_time": "2021-12-14T16:19:32.865Z"
   },
   {
    "duration": 7,
    "start_time": "2021-12-14T16:19:32.873Z"
   },
   {
    "duration": 4,
    "start_time": "2021-12-14T16:19:32.882Z"
   },
   {
    "duration": 5,
    "start_time": "2021-12-14T16:19:32.888Z"
   },
   {
    "duration": 5,
    "start_time": "2021-12-14T16:19:32.895Z"
   },
   {
    "duration": 5,
    "start_time": "2021-12-14T16:19:32.902Z"
   },
   {
    "duration": 4,
    "start_time": "2021-12-14T16:19:32.909Z"
   },
   {
    "duration": 17,
    "start_time": "2021-12-14T16:19:46.281Z"
   },
   {
    "duration": 34,
    "start_time": "2021-12-14T16:20:01.808Z"
   },
   {
    "duration": -332,
    "start_time": "2021-12-14T16:21:21.493Z"
   },
   {
    "duration": 9663,
    "start_time": "2021-12-14T16:21:26.430Z"
   },
   {
    "duration": 28,
    "start_time": "2021-12-14T16:21:58.364Z"
   },
   {
    "duration": 6,
    "start_time": "2021-12-14T16:42:22.707Z"
   },
   {
    "duration": 852,
    "start_time": "2021-12-14T16:44:17.736Z"
   },
   {
    "duration": 5,
    "start_time": "2021-12-14T16:46:00.904Z"
   },
   {
    "duration": -332,
    "start_time": "2021-12-14T16:46:14.324Z"
   },
   {
    "duration": -358,
    "start_time": "2021-12-14T16:46:34.742Z"
   },
   {
    "duration": 4,
    "start_time": "2021-12-14T16:46:36.335Z"
   },
   {
    "duration": 11326,
    "start_time": "2021-12-14T16:46:37.448Z"
   },
   {
    "duration": -344,
    "start_time": "2021-12-14T16:46:49.122Z"
   },
   {
    "duration": 121,
    "start_time": "2021-12-14T16:50:18.527Z"
   },
   {
    "duration": 122,
    "start_time": "2021-12-14T16:50:31.599Z"
   },
   {
    "duration": -333,
    "start_time": "2021-12-14T16:51:02.648Z"
   },
   {
    "duration": 10960,
    "start_time": "2021-12-14T16:51:11.119Z"
   },
   {
    "duration": -354,
    "start_time": "2021-12-14T16:51:53.897Z"
   },
   {
    "duration": 10568,
    "start_time": "2021-12-14T16:51:57.206Z"
   },
   {
    "duration": 11109,
    "start_time": "2021-12-14T16:52:46.505Z"
   },
   {
    "duration": 10431,
    "start_time": "2021-12-14T16:53:04.019Z"
   },
   {
    "duration": 11931,
    "start_time": "2021-12-14T16:53:21.127Z"
   },
   {
    "duration": 37,
    "start_time": "2021-12-14T16:53:56.142Z"
   },
   {
    "duration": 40,
    "start_time": "2021-12-14T16:55:51.736Z"
   },
   {
    "duration": 428,
    "start_time": "2021-12-14T16:56:19.866Z"
   },
   {
    "duration": 404,
    "start_time": "2021-12-14T16:57:26.890Z"
   },
   {
    "duration": 56,
    "start_time": "2021-12-14T16:57:48.759Z"
   },
   {
    "duration": 39,
    "start_time": "2021-12-14T16:58:47.961Z"
   },
   {
    "duration": 390,
    "start_time": "2021-12-14T16:59:02.379Z"
   },
   {
    "duration": 47,
    "start_time": "2021-12-14T16:59:18.998Z"
   },
   {
    "duration": 33,
    "start_time": "2021-12-14T17:01:36.730Z"
   },
   {
    "duration": 425,
    "start_time": "2021-12-14T17:02:05.018Z"
   },
   {
    "duration": -338,
    "start_time": "2021-12-14T17:02:39.087Z"
   },
   {
    "duration": 32,
    "start_time": "2021-12-14T17:02:53.356Z"
   },
   {
    "duration": 31,
    "start_time": "2021-12-14T17:03:32.580Z"
   },
   {
    "duration": 31,
    "start_time": "2021-12-14T17:03:48.135Z"
   },
   {
    "duration": 35,
    "start_time": "2021-12-14T17:04:22.580Z"
   },
   {
    "duration": 33,
    "start_time": "2021-12-14T17:04:36.232Z"
   },
   {
    "duration": 430,
    "start_time": "2021-12-14T17:04:48.383Z"
   },
   {
    "duration": 32,
    "start_time": "2021-12-14T17:05:21.250Z"
   },
   {
    "duration": 34,
    "start_time": "2021-12-14T17:05:54.984Z"
   },
   {
    "duration": 11914,
    "start_time": "2021-12-14T17:06:48.019Z"
   },
   {
    "duration": 33,
    "start_time": "2021-12-14T17:07:08.449Z"
   },
   {
    "duration": 32,
    "start_time": "2021-12-14T17:07:48.018Z"
   },
   {
    "duration": 48,
    "start_time": "2021-12-14T17:09:37.274Z"
   },
   {
    "duration": 7,
    "start_time": "2021-12-14T17:11:24.498Z"
   },
   {
    "duration": 26,
    "start_time": "2021-12-14T17:12:07.690Z"
   },
   {
    "duration": 28,
    "start_time": "2021-12-14T17:12:20.364Z"
   },
   {
    "duration": 17,
    "start_time": "2021-12-14T17:14:17.371Z"
   },
   {
    "duration": 32,
    "start_time": "2021-12-14T17:15:33.374Z"
   },
   {
    "duration": 17,
    "start_time": "2021-12-14T17:16:00.296Z"
   },
   {
    "duration": 625,
    "start_time": "2021-12-14T17:35:13.783Z"
   },
   {
    "duration": 363,
    "start_time": "2021-12-14T17:35:28.079Z"
   },
   {
    "duration": 477,
    "start_time": "2021-12-14T17:35:38.888Z"
   },
   {
    "duration": 380,
    "start_time": "2021-12-14T17:36:01.418Z"
   },
   {
    "duration": 408,
    "start_time": "2021-12-14T17:36:30.021Z"
   },
   {
    "duration": 44,
    "start_time": "2021-12-14T17:37:01.215Z"
   },
   {
    "duration": 29,
    "start_time": "2021-12-14T17:37:07.838Z"
   },
   {
    "duration": 40,
    "start_time": "2021-12-14T17:37:27.590Z"
   },
   {
    "duration": -374,
    "start_time": "2021-12-14T17:37:52.459Z"
   },
   {
    "duration": -374,
    "start_time": "2021-12-14T17:38:09.586Z"
   },
   {
    "duration": 40,
    "start_time": "2021-12-14T17:38:19.344Z"
   },
   {
    "duration": 12,
    "start_time": "2021-12-14T17:39:07.679Z"
   },
   {
    "duration": 405,
    "start_time": "2021-12-14T17:40:09.481Z"
   },
   {
    "duration": 14,
    "start_time": "2021-12-14T17:40:22.311Z"
   },
   {
    "duration": 10,
    "start_time": "2021-12-14T17:40:25.852Z"
   },
   {
    "duration": 11,
    "start_time": "2021-12-14T17:40:51.339Z"
   },
   {
    "duration": 31,
    "start_time": "2021-12-14T17:40:59.376Z"
   },
   {
    "duration": 39,
    "start_time": "2021-12-14T17:41:12.792Z"
   },
   {
    "duration": 368,
    "start_time": "2021-12-14T17:41:26.640Z"
   },
   {
    "duration": 15,
    "start_time": "2021-12-14T17:41:35.213Z"
   },
   {
    "duration": 6,
    "start_time": "2021-12-14T17:41:57.570Z"
   },
   {
    "duration": 11,
    "start_time": "2021-12-14T17:42:15.791Z"
   },
   {
    "duration": 8,
    "start_time": "2021-12-14T17:42:20.108Z"
   },
   {
    "duration": 9,
    "start_time": "2021-12-14T17:44:20.375Z"
   },
   {
    "duration": 9,
    "start_time": "2021-12-14T17:45:56.427Z"
   },
   {
    "duration": 4,
    "start_time": "2021-12-14T18:08:10.475Z"
   },
   {
    "duration": 181,
    "start_time": "2021-12-14T18:08:10.486Z"
   },
   {
    "duration": 16,
    "start_time": "2021-12-14T18:08:10.670Z"
   },
   {
    "duration": 32,
    "start_time": "2021-12-14T18:08:10.689Z"
   },
   {
    "duration": 6,
    "start_time": "2021-12-14T18:08:10.723Z"
   },
   {
    "duration": 24,
    "start_time": "2021-12-14T18:08:10.760Z"
   },
   {
    "duration": 8,
    "start_time": "2021-12-14T18:08:10.787Z"
   },
   {
    "duration": 84,
    "start_time": "2021-12-14T18:08:10.797Z"
   },
   {
    "duration": 23,
    "start_time": "2021-12-14T18:08:10.884Z"
   },
   {
    "duration": 54,
    "start_time": "2021-12-14T18:08:10.913Z"
   },
   {
    "duration": 99,
    "start_time": "2021-12-14T18:08:10.971Z"
   },
   {
    "duration": 107,
    "start_time": "2021-12-14T18:08:11.073Z"
   },
   {
    "duration": 87,
    "start_time": "2021-12-14T18:08:11.183Z"
   },
   {
    "duration": 60,
    "start_time": "2021-12-14T18:08:11.273Z"
   },
   {
    "duration": 25,
    "start_time": "2021-12-14T18:08:11.336Z"
   },
   {
    "duration": 16,
    "start_time": "2021-12-14T18:08:11.364Z"
   },
   {
    "duration": 84,
    "start_time": "2021-12-14T18:08:11.382Z"
   },
   {
    "duration": 14,
    "start_time": "2021-12-14T18:08:11.468Z"
   },
   {
    "duration": 13,
    "start_time": "2021-12-14T18:08:11.485Z"
   },
   {
    "duration": 5,
    "start_time": "2021-12-14T18:08:11.500Z"
   },
   {
    "duration": 62,
    "start_time": "2021-12-14T18:08:11.507Z"
   },
   {
    "duration": 18,
    "start_time": "2021-12-14T18:08:11.571Z"
   },
   {
    "duration": 18,
    "start_time": "2021-12-14T18:08:11.591Z"
   },
   {
    "duration": 48,
    "start_time": "2021-12-14T18:08:11.611Z"
   },
   {
    "duration": 21,
    "start_time": "2021-12-14T18:08:11.662Z"
   },
   {
    "duration": 18,
    "start_time": "2021-12-14T18:08:11.685Z"
   },
   {
    "duration": 117,
    "start_time": "2021-12-14T18:08:11.705Z"
   },
   {
    "duration": 42,
    "start_time": "2021-12-14T18:08:11.826Z"
   },
   {
    "duration": 26,
    "start_time": "2021-12-14T18:08:11.871Z"
   },
   {
    "duration": 5,
    "start_time": "2021-12-14T18:08:11.900Z"
   },
   {
    "duration": 51,
    "start_time": "2021-12-14T18:08:11.908Z"
   },
   {
    "duration": 16,
    "start_time": "2021-12-14T18:08:11.962Z"
   },
   {
    "duration": 21,
    "start_time": "2021-12-14T18:08:11.980Z"
   },
   {
    "duration": 15,
    "start_time": "2021-12-14T18:08:12.003Z"
   },
   {
    "duration": 48,
    "start_time": "2021-12-14T18:08:12.021Z"
   },
   {
    "duration": 7,
    "start_time": "2021-12-14T18:08:12.071Z"
   },
   {
    "duration": 11,
    "start_time": "2021-12-14T18:08:12.081Z"
   },
   {
    "duration": 6,
    "start_time": "2021-12-14T18:08:12.094Z"
   },
   {
    "duration": 101,
    "start_time": "2021-12-14T18:24:03.905Z"
   },
   {
    "duration": 13,
    "start_time": "2021-12-14T18:25:51.489Z"
   },
   {
    "duration": 14,
    "start_time": "2021-12-14T18:25:59.047Z"
   },
   {
    "duration": 3,
    "start_time": "2021-12-14T18:30:49.808Z"
   },
   {
    "duration": 240,
    "start_time": "2021-12-14T18:30:49.820Z"
   },
   {
    "duration": 18,
    "start_time": "2021-12-14T18:30:50.063Z"
   },
   {
    "duration": 48,
    "start_time": "2021-12-14T18:30:50.084Z"
   },
   {
    "duration": 28,
    "start_time": "2021-12-14T18:30:50.135Z"
   },
   {
    "duration": 21,
    "start_time": "2021-12-14T18:30:50.165Z"
   },
   {
    "duration": 6,
    "start_time": "2021-12-14T18:30:50.188Z"
   },
   {
    "duration": 115,
    "start_time": "2021-12-14T18:30:50.196Z"
   },
   {
    "duration": 26,
    "start_time": "2021-12-14T18:30:50.314Z"
   },
   {
    "duration": 42,
    "start_time": "2021-12-14T18:30:50.344Z"
   },
   {
    "duration": 103,
    "start_time": "2021-12-14T18:30:50.389Z"
   },
   {
    "duration": 113,
    "start_time": "2021-12-14T18:30:50.496Z"
   },
   {
    "duration": 89,
    "start_time": "2021-12-14T18:30:50.611Z"
   },
   {
    "duration": 66,
    "start_time": "2021-12-14T18:30:50.702Z"
   },
   {
    "duration": 4,
    "start_time": "2021-12-14T18:30:50.770Z"
   },
   {
    "duration": 19,
    "start_time": "2021-12-14T18:30:50.776Z"
   },
   {
    "duration": 75,
    "start_time": "2021-12-14T18:30:50.797Z"
   },
   {
    "duration": 14,
    "start_time": "2021-12-14T18:30:50.874Z"
   },
   {
    "duration": 14,
    "start_time": "2021-12-14T18:30:50.890Z"
   },
   {
    "duration": 5,
    "start_time": "2021-12-14T18:30:50.907Z"
   },
   {
    "duration": 62,
    "start_time": "2021-12-14T18:30:50.915Z"
   },
   {
    "duration": 22,
    "start_time": "2021-12-14T18:30:50.980Z"
   },
   {
    "duration": 19,
    "start_time": "2021-12-14T18:30:51.005Z"
   },
   {
    "duration": 19,
    "start_time": "2021-12-14T18:30:51.059Z"
   },
   {
    "duration": 21,
    "start_time": "2021-12-14T18:30:51.081Z"
   },
   {
    "duration": 19,
    "start_time": "2021-12-14T18:30:51.105Z"
   },
   {
    "duration": 100,
    "start_time": "2021-12-14T18:30:51.160Z"
   },
   {
    "duration": 33,
    "start_time": "2021-12-14T18:30:51.265Z"
   },
   {
    "duration": 28,
    "start_time": "2021-12-14T18:30:51.301Z"
   },
   {
    "duration": 6,
    "start_time": "2021-12-14T18:30:51.359Z"
   },
   {
    "duration": 28,
    "start_time": "2021-12-14T18:30:51.367Z"
   },
   {
    "duration": 15,
    "start_time": "2021-12-14T18:30:51.398Z"
   },
   {
    "duration": 49,
    "start_time": "2021-12-14T18:30:51.416Z"
   },
   {
    "duration": 16,
    "start_time": "2021-12-14T18:30:51.467Z"
   },
   {
    "duration": 13,
    "start_time": "2021-12-14T18:30:51.485Z"
   },
   {
    "duration": 7,
    "start_time": "2021-12-14T18:30:51.501Z"
   },
   {
    "duration": 8,
    "start_time": "2021-12-14T18:30:51.510Z"
   },
   {
    "duration": 6,
    "start_time": "2021-12-14T18:30:51.560Z"
   },
   {
    "duration": 3,
    "start_time": "2021-12-14T18:31:56.170Z"
   },
   {
    "duration": 215,
    "start_time": "2021-12-14T18:31:56.180Z"
   },
   {
    "duration": 16,
    "start_time": "2021-12-14T18:31:56.398Z"
   },
   {
    "duration": 50,
    "start_time": "2021-12-14T18:31:56.416Z"
   },
   {
    "duration": 6,
    "start_time": "2021-12-14T18:31:56.468Z"
   },
   {
    "duration": 33,
    "start_time": "2021-12-14T18:31:56.477Z"
   },
   {
    "duration": 6,
    "start_time": "2021-12-14T18:31:56.513Z"
   },
   {
    "duration": 108,
    "start_time": "2021-12-14T18:31:56.522Z"
   },
   {
    "duration": 38,
    "start_time": "2021-12-14T18:31:56.632Z"
   },
   {
    "duration": 33,
    "start_time": "2021-12-14T18:31:56.674Z"
   },
   {
    "duration": 109,
    "start_time": "2021-12-14T18:31:56.710Z"
   },
   {
    "duration": 98,
    "start_time": "2021-12-14T18:31:56.821Z"
   },
   {
    "duration": 91,
    "start_time": "2021-12-14T18:31:56.922Z"
   },
   {
    "duration": 72,
    "start_time": "2021-12-14T18:31:57.016Z"
   },
   {
    "duration": 5,
    "start_time": "2021-12-14T18:31:57.091Z"
   },
   {
    "duration": 16,
    "start_time": "2021-12-14T18:31:57.099Z"
   },
   {
    "duration": 86,
    "start_time": "2021-12-14T18:31:57.118Z"
   },
   {
    "duration": 15,
    "start_time": "2021-12-14T18:31:57.207Z"
   },
   {
    "duration": 49,
    "start_time": "2021-12-14T18:31:57.225Z"
   },
   {
    "duration": 6,
    "start_time": "2021-12-14T18:31:57.277Z"
   },
   {
    "duration": 36,
    "start_time": "2021-12-14T18:31:57.286Z"
   },
   {
    "duration": 49,
    "start_time": "2021-12-14T18:31:57.325Z"
   },
   {
    "duration": 28,
    "start_time": "2021-12-14T18:31:57.377Z"
   },
   {
    "duration": 54,
    "start_time": "2021-12-14T18:31:57.408Z"
   },
   {
    "duration": 32,
    "start_time": "2021-12-14T18:31:57.465Z"
   },
   {
    "duration": 26,
    "start_time": "2021-12-14T18:31:57.500Z"
   },
   {
    "duration": 113,
    "start_time": "2021-12-14T18:31:57.528Z"
   },
   {
    "duration": 32,
    "start_time": "2021-12-14T18:31:57.662Z"
   },
   {
    "duration": 28,
    "start_time": "2021-12-14T18:31:57.697Z"
   },
   {
    "duration": 32,
    "start_time": "2021-12-14T18:31:57.728Z"
   },
   {
    "duration": 29,
    "start_time": "2021-12-14T18:31:57.762Z"
   },
   {
    "duration": 16,
    "start_time": "2021-12-14T18:31:57.794Z"
   },
   {
    "duration": 50,
    "start_time": "2021-12-14T18:31:57.812Z"
   },
   {
    "duration": 16,
    "start_time": "2021-12-14T18:31:57.864Z"
   },
   {
    "duration": 10,
    "start_time": "2021-12-14T18:31:57.882Z"
   },
   {
    "duration": 6,
    "start_time": "2021-12-14T18:31:57.894Z"
   },
   {
    "duration": 8,
    "start_time": "2021-12-14T18:31:57.902Z"
   },
   {
    "duration": 49,
    "start_time": "2021-12-14T18:31:57.912Z"
   },
   {
    "duration": 581,
    "start_time": "2021-12-15T08:10:13.097Z"
   },
   {
    "duration": 143,
    "start_time": "2021-12-15T08:10:13.680Z"
   },
   {
    "duration": 17,
    "start_time": "2021-12-15T08:10:13.825Z"
   },
   {
    "duration": 24,
    "start_time": "2021-12-15T08:10:13.844Z"
   },
   {
    "duration": 4,
    "start_time": "2021-12-15T08:10:13.869Z"
   },
   {
    "duration": 39,
    "start_time": "2021-12-15T08:10:13.875Z"
   },
   {
    "duration": 16,
    "start_time": "2021-12-15T08:10:13.916Z"
   },
   {
    "duration": 47,
    "start_time": "2021-12-15T08:10:13.933Z"
   },
   {
    "duration": 20,
    "start_time": "2021-12-15T08:10:13.982Z"
   },
   {
    "duration": 28,
    "start_time": "2021-12-15T08:10:14.004Z"
   },
   {
    "duration": 66,
    "start_time": "2021-12-15T08:10:14.034Z"
   },
   {
    "duration": 69,
    "start_time": "2021-12-15T08:10:14.102Z"
   },
   {
    "duration": 64,
    "start_time": "2021-12-15T08:10:14.173Z"
   },
   {
    "duration": 60,
    "start_time": "2021-12-15T08:10:14.239Z"
   },
   {
    "duration": 3,
    "start_time": "2021-12-15T08:10:14.300Z"
   },
   {
    "duration": 15,
    "start_time": "2021-12-15T08:10:14.304Z"
   },
   {
    "duration": 49,
    "start_time": "2021-12-15T08:10:14.320Z"
   },
   {
    "duration": 28,
    "start_time": "2021-12-15T08:10:14.371Z"
   },
   {
    "duration": 9,
    "start_time": "2021-12-15T08:10:14.400Z"
   },
   {
    "duration": 3,
    "start_time": "2021-12-15T08:10:14.411Z"
   },
   {
    "duration": 21,
    "start_time": "2021-12-15T08:10:14.415Z"
   },
   {
    "duration": 13,
    "start_time": "2021-12-15T08:10:14.438Z"
   },
   {
    "duration": 46,
    "start_time": "2021-12-15T08:10:14.453Z"
   },
   {
    "duration": 14,
    "start_time": "2021-12-15T08:10:14.501Z"
   },
   {
    "duration": 15,
    "start_time": "2021-12-15T08:10:14.517Z"
   },
   {
    "duration": 13,
    "start_time": "2021-12-15T08:10:14.533Z"
   },
   {
    "duration": 95,
    "start_time": "2021-12-15T08:10:14.549Z"
   },
   {
    "duration": 18,
    "start_time": "2021-12-15T08:10:14.646Z"
   },
   {
    "duration": 32,
    "start_time": "2021-12-15T08:10:14.666Z"
   },
   {
    "duration": 4,
    "start_time": "2021-12-15T08:10:14.700Z"
   },
   {
    "duration": 22,
    "start_time": "2021-12-15T08:10:14.705Z"
   },
   {
    "duration": 13,
    "start_time": "2021-12-15T08:10:14.729Z"
   },
   {
    "duration": 17,
    "start_time": "2021-12-15T08:10:14.744Z"
   },
   {
    "duration": 13,
    "start_time": "2021-12-15T08:10:14.792Z"
   },
   {
    "duration": 9,
    "start_time": "2021-12-15T08:10:14.807Z"
   },
   {
    "duration": 6,
    "start_time": "2021-12-15T08:10:14.818Z"
   },
   {
    "duration": 8,
    "start_time": "2021-12-15T08:10:14.825Z"
   },
   {
    "duration": 8,
    "start_time": "2021-12-15T08:10:14.834Z"
   },
   {
    "duration": 366,
    "start_time": "2021-12-15T19:14:45.560Z"
   },
   {
    "duration": 532,
    "start_time": "2021-12-15T19:14:53.628Z"
   },
   {
    "duration": 120,
    "start_time": "2021-12-15T19:14:54.161Z"
   },
   {
    "duration": 15,
    "start_time": "2021-12-15T19:14:54.283Z"
   },
   {
    "duration": 23,
    "start_time": "2021-12-15T19:14:54.300Z"
   },
   {
    "duration": 3,
    "start_time": "2021-12-15T19:14:54.325Z"
   },
   {
    "duration": 22,
    "start_time": "2021-12-15T19:14:54.330Z"
   },
   {
    "duration": 4,
    "start_time": "2021-12-15T19:14:54.354Z"
   },
   {
    "duration": 55,
    "start_time": "2021-12-15T19:14:54.389Z"
   },
   {
    "duration": 16,
    "start_time": "2021-12-15T19:14:54.446Z"
   },
   {
    "duration": 42,
    "start_time": "2021-12-15T19:14:54.464Z"
   },
   {
    "duration": 53,
    "start_time": "2021-12-15T19:14:54.508Z"
   },
   {
    "duration": 77,
    "start_time": "2021-12-15T19:14:54.563Z"
   },
   {
    "duration": 59,
    "start_time": "2021-12-15T19:14:54.641Z"
   },
   {
    "duration": 37,
    "start_time": "2021-12-15T19:14:54.702Z"
   },
   {
    "duration": 3,
    "start_time": "2021-12-15T19:14:54.740Z"
   },
   {
    "duration": 10,
    "start_time": "2021-12-15T19:14:54.744Z"
   },
   {
    "duration": 61,
    "start_time": "2021-12-15T19:14:54.755Z"
   },
   {
    "duration": 9,
    "start_time": "2021-12-15T19:14:54.817Z"
   },
   {
    "duration": 10,
    "start_time": "2021-12-15T19:14:54.828Z"
   },
   {
    "duration": 3,
    "start_time": "2021-12-15T19:14:54.840Z"
   },
   {
    "duration": 18,
    "start_time": "2021-12-15T19:14:54.844Z"
   },
   {
    "duration": 13,
    "start_time": "2021-12-15T19:14:54.887Z"
   },
   {
    "duration": 12,
    "start_time": "2021-12-15T19:14:54.903Z"
   },
   {
    "duration": 11,
    "start_time": "2021-12-15T19:14:54.917Z"
   },
   {
    "duration": 13,
    "start_time": "2021-12-15T19:14:54.930Z"
   },
   {
    "duration": 11,
    "start_time": "2021-12-15T19:14:54.945Z"
   },
   {
    "duration": 61,
    "start_time": "2021-12-15T19:14:54.988Z"
   },
   {
    "duration": 18,
    "start_time": "2021-12-15T19:14:55.051Z"
   },
   {
    "duration": 16,
    "start_time": "2021-12-15T19:14:55.088Z"
   },
   {
    "duration": 4,
    "start_time": "2021-12-15T19:14:55.105Z"
   },
   {
    "duration": 20,
    "start_time": "2021-12-15T19:14:55.111Z"
   },
   {
    "duration": 11,
    "start_time": "2021-12-15T19:14:55.132Z"
   },
   {
    "duration": 14,
    "start_time": "2021-12-15T19:14:55.144Z"
   },
   {
    "duration": 36,
    "start_time": "2021-12-15T19:14:55.160Z"
   },
   {
    "duration": 7,
    "start_time": "2021-12-15T19:14:55.197Z"
   },
   {
    "duration": 5,
    "start_time": "2021-12-15T19:14:55.205Z"
   },
   {
    "duration": 7,
    "start_time": "2021-12-15T19:14:55.211Z"
   },
   {
    "duration": 7,
    "start_time": "2021-12-15T19:14:55.219Z"
   },
   {
    "duration": 3,
    "start_time": "2021-12-15T19:24:51.297Z"
   },
   {
    "duration": 196,
    "start_time": "2021-12-15T19:24:51.305Z"
   },
   {
    "duration": 14,
    "start_time": "2021-12-15T19:24:51.504Z"
   },
   {
    "duration": 42,
    "start_time": "2021-12-15T19:24:51.521Z"
   },
   {
    "duration": 22,
    "start_time": "2021-12-15T19:24:51.566Z"
   },
   {
    "duration": 22,
    "start_time": "2021-12-15T19:24:51.589Z"
   },
   {
    "duration": 4,
    "start_time": "2021-12-15T19:24:51.613Z"
   },
   {
    "duration": 46,
    "start_time": "2021-12-15T19:24:51.619Z"
   },
   {
    "duration": 27,
    "start_time": "2021-12-15T19:24:51.687Z"
   },
   {
    "duration": 24,
    "start_time": "2021-12-15T19:24:51.717Z"
   },
   {
    "duration": 85,
    "start_time": "2021-12-15T19:24:51.744Z"
   },
   {
    "duration": 66,
    "start_time": "2021-12-15T19:24:51.831Z"
   },
   {
    "duration": 68,
    "start_time": "2021-12-15T19:24:51.899Z"
   },
   {
    "duration": 77,
    "start_time": "2021-12-15T19:24:51.968Z"
   },
   {
    "duration": 5,
    "start_time": "2021-12-15T19:24:52.047Z"
   },
   {
    "duration": 50,
    "start_time": "2021-12-15T19:24:52.054Z"
   },
   {
    "duration": 38,
    "start_time": "2021-12-15T19:24:52.106Z"
   },
   {
    "duration": 9,
    "start_time": "2021-12-15T19:24:52.146Z"
   },
   {
    "duration": 31,
    "start_time": "2021-12-15T19:24:52.157Z"
   },
   {
    "duration": 5,
    "start_time": "2021-12-15T19:24:52.190Z"
   },
   {
    "duration": 29,
    "start_time": "2021-12-15T19:24:52.196Z"
   },
   {
    "duration": 14,
    "start_time": "2021-12-15T19:24:52.227Z"
   },
   {
    "duration": 14,
    "start_time": "2021-12-15T19:24:52.242Z"
   },
   {
    "duration": 41,
    "start_time": "2021-12-15T19:24:52.257Z"
   },
   {
    "duration": 23,
    "start_time": "2021-12-15T19:24:52.300Z"
   },
   {
    "duration": 20,
    "start_time": "2021-12-15T19:24:52.325Z"
   },
   {
    "duration": 98,
    "start_time": "2021-12-15T19:24:52.347Z"
   },
   {
    "duration": 40,
    "start_time": "2021-12-15T19:24:52.449Z"
   },
   {
    "duration": 18,
    "start_time": "2021-12-15T19:24:52.491Z"
   },
   {
    "duration": 4,
    "start_time": "2021-12-15T19:24:52.511Z"
   },
   {
    "duration": 37,
    "start_time": "2021-12-15T19:24:52.516Z"
   },
   {
    "duration": 11,
    "start_time": "2021-12-15T19:24:52.554Z"
   },
   {
    "duration": 27,
    "start_time": "2021-12-15T19:24:52.567Z"
   },
   {
    "duration": 11,
    "start_time": "2021-12-15T19:24:52.596Z"
   },
   {
    "duration": 8,
    "start_time": "2021-12-15T19:24:52.609Z"
   },
   {
    "duration": 4,
    "start_time": "2021-12-15T19:24:52.619Z"
   },
   {
    "duration": 12,
    "start_time": "2021-12-15T19:24:52.624Z"
   },
   {
    "duration": 9,
    "start_time": "2021-12-15T19:24:52.638Z"
   },
   {
    "duration": 2,
    "start_time": "2021-12-15T19:28:33.097Z"
   },
   {
    "duration": 133,
    "start_time": "2021-12-15T19:28:33.104Z"
   },
   {
    "duration": 9,
    "start_time": "2021-12-15T19:28:33.239Z"
   },
   {
    "duration": 24,
    "start_time": "2021-12-15T19:28:33.250Z"
   },
   {
    "duration": 4,
    "start_time": "2021-12-15T19:28:33.287Z"
   },
   {
    "duration": 15,
    "start_time": "2021-12-15T19:28:33.293Z"
   },
   {
    "duration": 5,
    "start_time": "2021-12-15T19:28:33.309Z"
   },
   {
    "duration": 46,
    "start_time": "2021-12-15T19:28:33.315Z"
   },
   {
    "duration": 39,
    "start_time": "2021-12-15T19:28:33.363Z"
   },
   {
    "duration": 22,
    "start_time": "2021-12-15T19:28:33.405Z"
   },
   {
    "duration": 66,
    "start_time": "2021-12-15T19:28:33.429Z"
   },
   {
    "duration": 55,
    "start_time": "2021-12-15T19:28:33.497Z"
   },
   {
    "duration": 62,
    "start_time": "2021-12-15T19:28:33.553Z"
   },
   {
    "duration": 38,
    "start_time": "2021-12-15T19:28:33.617Z"
   },
   {
    "duration": 2,
    "start_time": "2021-12-15T19:28:33.657Z"
   },
   {
    "duration": 41,
    "start_time": "2021-12-15T19:28:33.661Z"
   },
   {
    "duration": 38,
    "start_time": "2021-12-15T19:28:33.703Z"
   },
   {
    "duration": 10,
    "start_time": "2021-12-15T19:28:33.742Z"
   },
   {
    "duration": 10,
    "start_time": "2021-12-15T19:28:33.754Z"
   },
   {
    "duration": 24,
    "start_time": "2021-12-15T19:28:33.766Z"
   },
   {
    "duration": 20,
    "start_time": "2021-12-15T19:28:33.791Z"
   },
   {
    "duration": 13,
    "start_time": "2021-12-15T19:28:33.812Z"
   },
   {
    "duration": 13,
    "start_time": "2021-12-15T19:28:33.826Z"
   },
   {
    "duration": 14,
    "start_time": "2021-12-15T19:28:33.840Z"
   },
   {
    "duration": 43,
    "start_time": "2021-12-15T19:28:33.855Z"
   },
   {
    "duration": 18,
    "start_time": "2021-12-15T19:28:33.900Z"
   },
   {
    "duration": 121,
    "start_time": "2021-12-15T19:28:33.920Z"
   },
   {
    "duration": 31,
    "start_time": "2021-12-15T19:28:34.045Z"
   },
   {
    "duration": 20,
    "start_time": "2021-12-15T19:28:34.089Z"
   },
   {
    "duration": 4,
    "start_time": "2021-12-15T19:28:34.111Z"
   },
   {
    "duration": 21,
    "start_time": "2021-12-15T19:28:34.116Z"
   },
   {
    "duration": 12,
    "start_time": "2021-12-15T19:28:34.138Z"
   },
   {
    "duration": 48,
    "start_time": "2021-12-15T19:28:34.152Z"
   },
   {
    "duration": 12,
    "start_time": "2021-12-15T19:28:34.202Z"
   },
   {
    "duration": 7,
    "start_time": "2021-12-15T19:28:34.215Z"
   },
   {
    "duration": 4,
    "start_time": "2021-12-15T19:28:34.224Z"
   },
   {
    "duration": 13,
    "start_time": "2021-12-15T19:28:34.229Z"
   },
   {
    "duration": 5,
    "start_time": "2021-12-15T19:28:34.244Z"
   },
   {
    "duration": 3,
    "start_time": "2021-12-15T19:36:39.757Z"
   },
   {
    "duration": 157,
    "start_time": "2021-12-15T19:36:39.766Z"
   },
   {
    "duration": 11,
    "start_time": "2021-12-15T19:36:39.925Z"
   },
   {
    "duration": 28,
    "start_time": "2021-12-15T19:36:39.938Z"
   },
   {
    "duration": 19,
    "start_time": "2021-12-15T19:36:39.969Z"
   },
   {
    "duration": 16,
    "start_time": "2021-12-15T19:36:39.990Z"
   },
   {
    "duration": 4,
    "start_time": "2021-12-15T19:36:40.008Z"
   },
   {
    "duration": 83,
    "start_time": "2021-12-15T19:36:40.015Z"
   },
   {
    "duration": 20,
    "start_time": "2021-12-15T19:36:40.100Z"
   },
   {
    "duration": 22,
    "start_time": "2021-12-15T19:36:40.123Z"
   },
   {
    "duration": 74,
    "start_time": "2021-12-15T19:36:40.149Z"
   },
   {
    "duration": 72,
    "start_time": "2021-12-15T19:36:40.225Z"
   },
   {
    "duration": 49,
    "start_time": "2021-12-15T19:36:40.299Z"
   },
   {
    "duration": 56,
    "start_time": "2021-12-15T19:36:40.349Z"
   },
   {
    "duration": 42,
    "start_time": "2021-12-15T19:36:40.407Z"
   },
   {
    "duration": 50,
    "start_time": "2021-12-15T19:36:40.451Z"
   },
   {
    "duration": 65,
    "start_time": "2021-12-15T19:36:40.503Z"
   },
   {
    "duration": 26,
    "start_time": "2021-12-15T19:36:40.570Z"
   },
   {
    "duration": 11,
    "start_time": "2021-12-15T19:36:40.598Z"
   },
   {
    "duration": 19,
    "start_time": "2021-12-15T19:36:40.611Z"
   },
   {
    "duration": 54,
    "start_time": "2021-12-15T19:36:40.632Z"
   },
   {
    "duration": 14,
    "start_time": "2021-12-15T19:36:40.687Z"
   },
   {
    "duration": 15,
    "start_time": "2021-12-15T19:36:40.703Z"
   },
   {
    "duration": 13,
    "start_time": "2021-12-15T19:36:40.720Z"
   },
   {
    "duration": 19,
    "start_time": "2021-12-15T19:36:40.734Z"
   },
   {
    "duration": 50,
    "start_time": "2021-12-15T19:36:40.755Z"
   },
   {
    "duration": 73,
    "start_time": "2021-12-15T19:36:40.807Z"
   },
   {
    "duration": 21,
    "start_time": "2021-12-15T19:36:40.889Z"
   },
   {
    "duration": 40,
    "start_time": "2021-12-15T19:36:40.912Z"
   },
   {
    "duration": 5,
    "start_time": "2021-12-15T19:36:40.954Z"
   },
   {
    "duration": 613,
    "start_time": "2021-12-15T19:36:40.961Z"
   },
   {
    "duration": -841,
    "start_time": "2021-12-15T19:36:42.417Z"
   },
   {
    "duration": -857,
    "start_time": "2021-12-15T19:36:42.434Z"
   },
   {
    "duration": -865,
    "start_time": "2021-12-15T19:36:42.443Z"
   },
   {
    "duration": -867,
    "start_time": "2021-12-15T19:36:42.447Z"
   },
   {
    "duration": -869,
    "start_time": "2021-12-15T19:36:42.450Z"
   },
   {
    "duration": -873,
    "start_time": "2021-12-15T19:36:42.455Z"
   },
   {
    "duration": -874,
    "start_time": "2021-12-15T19:36:42.458Z"
   },
   {
    "duration": 2,
    "start_time": "2021-12-15T19:37:37.204Z"
   },
   {
    "duration": 196,
    "start_time": "2021-12-15T19:37:37.212Z"
   },
   {
    "duration": 16,
    "start_time": "2021-12-15T19:37:37.410Z"
   },
   {
    "duration": 39,
    "start_time": "2021-12-15T19:37:37.428Z"
   },
   {
    "duration": 21,
    "start_time": "2021-12-15T19:37:37.470Z"
   },
   {
    "duration": 24,
    "start_time": "2021-12-15T19:37:37.493Z"
   },
   {
    "duration": 5,
    "start_time": "2021-12-15T19:37:37.519Z"
   },
   {
    "duration": 94,
    "start_time": "2021-12-15T19:37:37.526Z"
   },
   {
    "duration": 22,
    "start_time": "2021-12-15T19:37:37.622Z"
   },
   {
    "duration": 48,
    "start_time": "2021-12-15T19:37:37.648Z"
   },
   {
    "duration": 52,
    "start_time": "2021-12-15T19:37:37.699Z"
   },
   {
    "duration": 75,
    "start_time": "2021-12-15T19:37:37.753Z"
   },
   {
    "duration": 58,
    "start_time": "2021-12-15T19:37:37.830Z"
   },
   {
    "duration": 40,
    "start_time": "2021-12-15T19:37:37.890Z"
   },
   {
    "duration": 3,
    "start_time": "2021-12-15T19:37:37.932Z"
   },
   {
    "duration": 28,
    "start_time": "2021-12-15T19:37:37.937Z"
   },
   {
    "duration": 43,
    "start_time": "2021-12-15T19:37:37.988Z"
   },
   {
    "duration": 13,
    "start_time": "2021-12-15T19:37:38.033Z"
   },
   {
    "duration": 13,
    "start_time": "2021-12-15T19:37:38.048Z"
   },
   {
    "duration": 25,
    "start_time": "2021-12-15T19:37:38.063Z"
   },
   {
    "duration": 26,
    "start_time": "2021-12-15T19:37:38.090Z"
   },
   {
    "duration": 19,
    "start_time": "2021-12-15T19:37:38.118Z"
   },
   {
    "duration": 18,
    "start_time": "2021-12-15T19:37:38.139Z"
   },
   {
    "duration": 32,
    "start_time": "2021-12-15T19:37:38.159Z"
   },
   {
    "duration": 21,
    "start_time": "2021-12-15T19:37:38.193Z"
   },
   {
    "duration": 19,
    "start_time": "2021-12-15T19:37:38.216Z"
   },
   {
    "duration": 130,
    "start_time": "2021-12-15T19:37:38.237Z"
   },
   {
    "duration": 26,
    "start_time": "2021-12-15T19:37:38.370Z"
   },
   {
    "duration": 18,
    "start_time": "2021-12-15T19:37:38.398Z"
   },
   {
    "duration": 10,
    "start_time": "2021-12-15T19:37:38.418Z"
   },
   {
    "duration": 35,
    "start_time": "2021-12-15T19:37:38.430Z"
   },
   {
    "duration": 25,
    "start_time": "2021-12-15T19:37:38.466Z"
   },
   {
    "duration": 25,
    "start_time": "2021-12-15T19:37:38.492Z"
   },
   {
    "duration": 16,
    "start_time": "2021-12-15T19:37:38.519Z"
   },
   {
    "duration": 11,
    "start_time": "2021-12-15T19:37:38.537Z"
   },
   {
    "duration": 5,
    "start_time": "2021-12-15T19:37:38.550Z"
   },
   {
    "duration": 7,
    "start_time": "2021-12-15T19:37:38.589Z"
   },
   {
    "duration": 6,
    "start_time": "2021-12-15T19:37:38.598Z"
   },
   {
    "duration": 3,
    "start_time": "2021-12-15T19:53:31.094Z"
   },
   {
    "duration": 193,
    "start_time": "2021-12-15T19:53:31.102Z"
   },
   {
    "duration": 14,
    "start_time": "2021-12-15T19:53:31.297Z"
   },
   {
    "duration": 36,
    "start_time": "2021-12-15T19:53:31.313Z"
   },
   {
    "duration": 5,
    "start_time": "2021-12-15T19:53:31.351Z"
   },
   {
    "duration": 21,
    "start_time": "2021-12-15T19:53:31.358Z"
   },
   {
    "duration": 4,
    "start_time": "2021-12-15T19:53:31.388Z"
   },
   {
    "duration": 56,
    "start_time": "2021-12-15T19:53:31.394Z"
   },
   {
    "duration": 17,
    "start_time": "2021-12-15T19:53:31.452Z"
   },
   {
    "duration": 30,
    "start_time": "2021-12-15T19:53:31.471Z"
   },
   {
    "duration": 81,
    "start_time": "2021-12-15T19:53:31.503Z"
   },
   {
    "duration": 57,
    "start_time": "2021-12-15T19:53:31.586Z"
   },
   {
    "duration": 58,
    "start_time": "2021-12-15T19:53:31.645Z"
   },
   {
    "duration": 38,
    "start_time": "2021-12-15T19:53:31.705Z"
   },
   {
    "duration": 3,
    "start_time": "2021-12-15T19:53:31.744Z"
   },
   {
    "duration": 53,
    "start_time": "2021-12-15T19:53:31.749Z"
   },
   {
    "duration": 39,
    "start_time": "2021-12-15T19:53:31.804Z"
   },
   {
    "duration": 10,
    "start_time": "2021-12-15T19:53:31.844Z"
   },
   {
    "duration": 11,
    "start_time": "2021-12-15T19:53:31.855Z"
   },
   {
    "duration": 4,
    "start_time": "2021-12-15T19:53:31.888Z"
   },
   {
    "duration": 27,
    "start_time": "2021-12-15T19:53:31.894Z"
   },
   {
    "duration": 15,
    "start_time": "2021-12-15T19:53:31.923Z"
   },
   {
    "duration": 15,
    "start_time": "2021-12-15T19:53:31.940Z"
   },
   {
    "duration": 32,
    "start_time": "2021-12-15T19:53:31.956Z"
   },
   {
    "duration": 15,
    "start_time": "2021-12-15T19:53:31.990Z"
   },
   {
    "duration": 13,
    "start_time": "2021-12-15T19:53:32.006Z"
   },
   {
    "duration": 86,
    "start_time": "2021-12-15T19:53:32.020Z"
   },
   {
    "duration": 19,
    "start_time": "2021-12-15T19:53:32.108Z"
   },
   {
    "duration": 19,
    "start_time": "2021-12-15T19:53:32.129Z"
   },
   {
    "duration": 20,
    "start_time": "2021-12-15T19:53:32.149Z"
   },
   {
    "duration": 48,
    "start_time": "2021-12-15T19:53:32.171Z"
   },
   {
    "duration": 20,
    "start_time": "2021-12-15T19:53:32.221Z"
   },
   {
    "duration": 17,
    "start_time": "2021-12-15T19:53:32.242Z"
   },
   {
    "duration": 11,
    "start_time": "2021-12-15T19:53:32.261Z"
   },
   {
    "duration": 24,
    "start_time": "2021-12-15T19:53:32.274Z"
   },
   {
    "duration": 12,
    "start_time": "2021-12-15T19:53:32.301Z"
   },
   {
    "duration": 24,
    "start_time": "2021-12-15T19:53:32.315Z"
   },
   {
    "duration": 6,
    "start_time": "2021-12-15T19:53:32.341Z"
   },
   {
    "duration": 2,
    "start_time": "2021-12-15T19:58:51.332Z"
   },
   {
    "duration": 127,
    "start_time": "2021-12-15T19:58:51.338Z"
   },
   {
    "duration": 22,
    "start_time": "2021-12-15T19:58:51.467Z"
   },
   {
    "duration": 22,
    "start_time": "2021-12-15T19:58:51.491Z"
   },
   {
    "duration": 4,
    "start_time": "2021-12-15T19:58:51.516Z"
   },
   {
    "duration": 13,
    "start_time": "2021-12-15T19:58:51.522Z"
   },
   {
    "duration": 7,
    "start_time": "2021-12-15T19:58:51.536Z"
   },
   {
    "duration": 73,
    "start_time": "2021-12-15T19:58:51.545Z"
   },
   {
    "duration": 16,
    "start_time": "2021-12-15T19:58:51.619Z"
   },
   {
    "duration": 22,
    "start_time": "2021-12-15T19:58:51.638Z"
   },
   {
    "duration": 73,
    "start_time": "2021-12-15T19:58:51.662Z"
   },
   {
    "duration": 65,
    "start_time": "2021-12-15T19:58:51.737Z"
   },
   {
    "duration": 48,
    "start_time": "2021-12-15T19:58:51.804Z"
   },
   {
    "duration": 47,
    "start_time": "2021-12-15T19:58:51.853Z"
   },
   {
    "duration": 2,
    "start_time": "2021-12-15T19:58:51.902Z"
   },
   {
    "duration": 28,
    "start_time": "2021-12-15T19:58:51.906Z"
   },
   {
    "duration": 59,
    "start_time": "2021-12-15T19:58:51.936Z"
   },
   {
    "duration": 10,
    "start_time": "2021-12-15T19:58:51.996Z"
   },
   {
    "duration": 15,
    "start_time": "2021-12-15T19:58:52.008Z"
   },
   {
    "duration": 11,
    "start_time": "2021-12-15T19:58:52.025Z"
   },
   {
    "duration": 45,
    "start_time": "2021-12-15T19:58:52.038Z"
   },
   {
    "duration": 18,
    "start_time": "2021-12-15T19:58:52.085Z"
   },
   {
    "duration": 23,
    "start_time": "2021-12-15T19:58:52.105Z"
   },
   {
    "duration": 22,
    "start_time": "2021-12-15T19:58:52.130Z"
   },
   {
    "duration": 34,
    "start_time": "2021-12-15T19:58:52.154Z"
   },
   {
    "duration": 34,
    "start_time": "2021-12-15T19:58:52.190Z"
   },
   {
    "duration": 98,
    "start_time": "2021-12-15T19:58:52.226Z"
   },
   {
    "duration": 28,
    "start_time": "2021-12-15T19:58:52.329Z"
   },
   {
    "duration": 28,
    "start_time": "2021-12-15T19:58:52.360Z"
   },
   {
    "duration": 14,
    "start_time": "2021-12-15T19:58:52.390Z"
   },
   {
    "duration": 38,
    "start_time": "2021-12-15T19:58:52.406Z"
   },
   {
    "duration": 20,
    "start_time": "2021-12-15T19:58:52.446Z"
   },
   {
    "duration": 32,
    "start_time": "2021-12-15T19:58:52.467Z"
   },
   {
    "duration": 20,
    "start_time": "2021-12-15T19:58:52.500Z"
   },
   {
    "duration": 20,
    "start_time": "2021-12-15T19:58:52.522Z"
   },
   {
    "duration": 15,
    "start_time": "2021-12-15T19:58:52.543Z"
   },
   {
    "duration": 13,
    "start_time": "2021-12-15T19:58:52.559Z"
   },
   {
    "duration": 15,
    "start_time": "2021-12-15T19:58:52.573Z"
   },
   {
    "duration": 521,
    "start_time": "2021-12-15T22:10:04.524Z"
   },
   {
    "duration": 137,
    "start_time": "2021-12-15T22:10:05.047Z"
   },
   {
    "duration": 20,
    "start_time": "2021-12-15T22:10:05.186Z"
   },
   {
    "duration": 25,
    "start_time": "2021-12-15T22:10:05.208Z"
   },
   {
    "duration": 4,
    "start_time": "2021-12-15T22:10:05.235Z"
   },
   {
    "duration": 24,
    "start_time": "2021-12-15T22:10:05.240Z"
   },
   {
    "duration": 4,
    "start_time": "2021-12-15T22:10:05.266Z"
   },
   {
    "duration": 40,
    "start_time": "2021-12-15T22:10:05.292Z"
   },
   {
    "duration": 16,
    "start_time": "2021-12-15T22:10:05.334Z"
   },
   {
    "duration": 40,
    "start_time": "2021-12-15T22:10:05.352Z"
   },
   {
    "duration": 57,
    "start_time": "2021-12-15T22:10:05.394Z"
   },
   {
    "duration": 79,
    "start_time": "2021-12-15T22:10:05.453Z"
   },
   {
    "duration": 57,
    "start_time": "2021-12-15T22:10:05.534Z"
   },
   {
    "duration": 39,
    "start_time": "2021-12-15T22:10:05.593Z"
   },
   {
    "duration": 3,
    "start_time": "2021-12-15T22:10:05.634Z"
   },
   {
    "duration": 29,
    "start_time": "2021-12-15T22:10:05.638Z"
   },
   {
    "duration": 59,
    "start_time": "2021-12-15T22:10:05.669Z"
   },
   {
    "duration": 11,
    "start_time": "2021-12-15T22:10:05.729Z"
   },
   {
    "duration": 9,
    "start_time": "2021-12-15T22:10:05.741Z"
   },
   {
    "duration": 3,
    "start_time": "2021-12-15T22:10:05.752Z"
   },
   {
    "duration": 43,
    "start_time": "2021-12-15T22:10:05.756Z"
   },
   {
    "duration": 15,
    "start_time": "2021-12-15T22:10:05.801Z"
   },
   {
    "duration": 14,
    "start_time": "2021-12-15T22:10:05.819Z"
   },
   {
    "duration": 14,
    "start_time": "2021-12-15T22:10:05.835Z"
   },
   {
    "duration": 50,
    "start_time": "2021-12-15T22:10:05.850Z"
   },
   {
    "duration": 14,
    "start_time": "2021-12-15T22:10:05.901Z"
   },
   {
    "duration": 98,
    "start_time": "2021-12-15T22:10:05.917Z"
   },
   {
    "duration": 28,
    "start_time": "2021-12-15T22:10:06.017Z"
   },
   {
    "duration": 22,
    "start_time": "2021-12-15T22:10:06.047Z"
   },
   {
    "duration": 21,
    "start_time": "2021-12-15T22:10:06.071Z"
   },
   {
    "duration": 21,
    "start_time": "2021-12-15T22:10:06.094Z"
   },
   {
    "duration": 14,
    "start_time": "2021-12-15T22:10:06.117Z"
   },
   {
    "duration": 17,
    "start_time": "2021-12-15T22:10:06.132Z"
   },
   {
    "duration": 11,
    "start_time": "2021-12-15T22:10:06.150Z"
   },
   {
    "duration": 32,
    "start_time": "2021-12-15T22:10:06.163Z"
   },
   {
    "duration": 4,
    "start_time": "2021-12-15T22:10:06.197Z"
   },
   {
    "duration": 8,
    "start_time": "2021-12-15T22:10:06.202Z"
   },
   {
    "duration": 4,
    "start_time": "2021-12-15T22:10:06.212Z"
   },
   {
    "duration": 523,
    "start_time": "2022-01-06T21:14:39.392Z"
   },
   {
    "duration": 125,
    "start_time": "2022-01-06T21:14:39.917Z"
   },
   {
    "duration": 15,
    "start_time": "2022-01-06T21:14:40.044Z"
   },
   {
    "duration": 25,
    "start_time": "2022-01-06T21:14:40.061Z"
   },
   {
    "duration": 3,
    "start_time": "2022-01-06T21:14:40.088Z"
   },
   {
    "duration": 20,
    "start_time": "2022-01-06T21:14:40.092Z"
   },
   {
    "duration": 3,
    "start_time": "2022-01-06T21:14:40.114Z"
   },
   {
    "duration": 55,
    "start_time": "2022-01-06T21:14:40.120Z"
   },
   {
    "duration": 15,
    "start_time": "2022-01-06T21:14:40.177Z"
   },
   {
    "duration": 32,
    "start_time": "2022-01-06T21:14:40.193Z"
   },
   {
    "duration": 58,
    "start_time": "2022-01-06T21:14:40.227Z"
   },
   {
    "duration": 70,
    "start_time": "2022-01-06T21:14:40.287Z"
   },
   {
    "duration": 47,
    "start_time": "2022-01-06T21:14:40.359Z"
   },
   {
    "duration": 45,
    "start_time": "2022-01-06T21:14:40.407Z"
   },
   {
    "duration": 7,
    "start_time": "2022-01-06T21:14:40.454Z"
   },
   {
    "duration": 42,
    "start_time": "2022-01-06T21:14:40.462Z"
   },
   {
    "duration": 38,
    "start_time": "2022-01-06T21:14:40.506Z"
   },
   {
    "duration": 17,
    "start_time": "2022-01-06T21:14:40.545Z"
   },
   {
    "duration": 18,
    "start_time": "2022-01-06T21:14:40.564Z"
   },
   {
    "duration": 4,
    "start_time": "2022-01-06T21:14:40.584Z"
   },
   {
    "duration": 36,
    "start_time": "2022-01-06T21:14:40.590Z"
   },
   {
    "duration": 24,
    "start_time": "2022-01-06T21:14:40.629Z"
   },
   {
    "duration": 22,
    "start_time": "2022-01-06T21:14:40.657Z"
   },
   {
    "duration": 13,
    "start_time": "2022-01-06T21:14:40.681Z"
   },
   {
    "duration": 24,
    "start_time": "2022-01-06T21:14:40.696Z"
   },
   {
    "duration": 23,
    "start_time": "2022-01-06T21:14:40.722Z"
   },
   {
    "duration": 61,
    "start_time": "2022-01-06T21:14:40.747Z"
   },
   {
    "duration": 31,
    "start_time": "2022-01-06T21:14:40.810Z"
   },
   {
    "duration": 15,
    "start_time": "2022-01-06T21:14:40.843Z"
   },
   {
    "duration": 12,
    "start_time": "2022-01-06T21:14:40.860Z"
   },
   {
    "duration": 39,
    "start_time": "2022-01-06T21:14:40.874Z"
   },
   {
    "duration": 23,
    "start_time": "2022-01-06T21:14:40.915Z"
   },
   {
    "duration": 20,
    "start_time": "2022-01-06T21:14:40.940Z"
   },
   {
    "duration": 17,
    "start_time": "2022-01-06T21:14:40.961Z"
   },
   {
    "duration": 18,
    "start_time": "2022-01-06T21:14:40.980Z"
   },
   {
    "duration": 14,
    "start_time": "2022-01-06T21:14:40.999Z"
   },
   {
    "duration": 19,
    "start_time": "2022-01-06T21:14:41.014Z"
   },
   {
    "duration": 7,
    "start_time": "2022-01-06T21:14:41.034Z"
   }
  ],
  "colab": {
   "collapsed_sections": [
    "E0vqbgi9ay0H",
    "VUC88oWjTJw2"
   ],
   "name": "yandex_music_project_2021.2.ipynb",
   "provenance": []
  },
  "kernelspec": {
   "display_name": "Python 3 (ipykernel)",
   "language": "python",
   "name": "python3"
  },
  "language_info": {
   "codemirror_mode": {
    "name": "ipython",
    "version": 3
   },
   "file_extension": ".py",
   "mimetype": "text/x-python",
   "name": "python",
   "nbconvert_exporter": "python",
   "pygments_lexer": "ipython3",
   "version": "3.9.12"
  },
  "toc": {
   "base_numbering": 1,
   "nav_menu": {},
   "number_sections": true,
   "sideBar": true,
   "skip_h1_title": true,
   "title_cell": "Содержание",
   "title_sidebar": "Содержание",
   "toc_cell": true,
   "toc_position": {
    "height": "calc(100% - 180px)",
    "left": "10px",
    "top": "150px",
    "width": "345px"
   },
   "toc_section_display": true,
   "toc_window_display": true
  },
  "varInspector": {
   "cols": {
    "lenName": 16,
    "lenType": 16,
    "lenVar": 40
   },
   "kernels_config": {
    "python": {
     "delete_cmd_postfix": "",
     "delete_cmd_prefix": "del ",
     "library": "var_list.py",
     "varRefreshCmd": "print(var_dic_list())"
    },
    "r": {
     "delete_cmd_postfix": ") ",
     "delete_cmd_prefix": "rm(",
     "library": "var_list.r",
     "varRefreshCmd": "cat(var_dic_list()) "
    }
   },
   "types_to_exclude": [
    "module",
    "function",
    "builtin_function_or_method",
    "instance",
    "_Feature"
   ],
   "window_display": false
  }
 },
 "nbformat": 4,
 "nbformat_minor": 1
}

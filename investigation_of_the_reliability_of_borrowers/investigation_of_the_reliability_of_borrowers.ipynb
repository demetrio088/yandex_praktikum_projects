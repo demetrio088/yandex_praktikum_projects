{
 "cells": [
  {
   "cell_type": "markdown",
   "metadata": {},
   "source": [
    "# Исследование надёжности заёмщиков\n",
    "\n",
    "Заказчик — кредитный отдел банка. Нужно разобраться, влияет ли семейное положение и количество детей клиента на факт погашения кредита в срок. Входные данные от банка — статистика о платёжеспособности клиентов.\n",
    "\n",
    "Результаты исследования будут учтены при построении модели **кредитного скоринга** — специальной системы, которая оценивает способность потенциального заёмщика вернуть кредит банку."
   ]
  },
  {
   "cell_type": "markdown",
   "metadata": {
    "toc": true
   },
   "source": [
    "<h1>Содержание<span class=\"tocSkip\"></span></h1>\n",
    "<div class=\"toc\"><ul class=\"toc-item\"><li><span><a href=\"#Открытие-файла-с-данными-и-изучение-общей-информации\" data-toc-modified-id=\"Открытие-файла-с-данными-и-изучение-общей-информации-1\"><span class=\"toc-item-num\">1&nbsp;&nbsp;</span>Открытие файла с данными и изучение общей информации</a></span></li><li><span><a href=\"#Предобработка-данных\" data-toc-modified-id=\"Предобработка-данных-2\"><span class=\"toc-item-num\">2&nbsp;&nbsp;</span>Предобработка данных</a></span><ul class=\"toc-item\"><li><span><a href=\"#Обработка-пропусков\" data-toc-modified-id=\"Обработка-пропусков-2.1\"><span class=\"toc-item-num\">2.1&nbsp;&nbsp;</span>Обработка пропусков</a></span></li><li><span><a href=\"#Замена-типа-данных\" data-toc-modified-id=\"Замена-типа-данных-2.2\"><span class=\"toc-item-num\">2.2&nbsp;&nbsp;</span>Замена типа данных</a></span></li><li><span><a href=\"#Обработка-дубликатов\" data-toc-modified-id=\"Обработка-дубликатов-2.3\"><span class=\"toc-item-num\">2.3&nbsp;&nbsp;</span>Обработка дубликатов</a></span></li><li><span><a href=\"#Лемматизация\" data-toc-modified-id=\"Лемматизация-2.4\"><span class=\"toc-item-num\">2.4&nbsp;&nbsp;</span>Лемматизация</a></span></li><li><span><a href=\"#Категоризация-данных\" data-toc-modified-id=\"Категоризация-данных-2.5\"><span class=\"toc-item-num\">2.5&nbsp;&nbsp;</span>Категоризация данных</a></span></li></ul></li><li><span><a href=\"#Ответим-на-актуальные-вопросы\" data-toc-modified-id=\"Ответим-на-актуальные-вопросы-3\"><span class=\"toc-item-num\">3&nbsp;&nbsp;</span>Ответим на актуальные вопросы</a></span></li><li><span><a href=\"#Общий-вывод\" data-toc-modified-id=\"Общий-вывод-4\"><span class=\"toc-item-num\">4&nbsp;&nbsp;</span>Общий вывод</a></span></li></ul></div>"
   ]
  },
  {
   "cell_type": "markdown",
   "metadata": {},
   "source": [
    "## Открытие файла с данными и изучение общей информации"
   ]
  },
  {
   "cell_type": "code",
   "execution_count": 1,
   "metadata": {},
   "outputs": [
    {
     "data": {
      "text/html": [
       "<div>\n",
       "<style scoped>\n",
       "    .dataframe tbody tr th:only-of-type {\n",
       "        vertical-align: middle;\n",
       "    }\n",
       "\n",
       "    .dataframe tbody tr th {\n",
       "        vertical-align: top;\n",
       "    }\n",
       "\n",
       "    .dataframe thead th {\n",
       "        text-align: right;\n",
       "    }\n",
       "</style>\n",
       "<table border=\"1\" class=\"dataframe\">\n",
       "  <thead>\n",
       "    <tr style=\"text-align: right;\">\n",
       "      <th></th>\n",
       "      <th>children</th>\n",
       "      <th>days_employed</th>\n",
       "      <th>dob_years</th>\n",
       "      <th>education</th>\n",
       "      <th>education_id</th>\n",
       "      <th>family_status</th>\n",
       "      <th>family_status_id</th>\n",
       "      <th>gender</th>\n",
       "      <th>income_type</th>\n",
       "      <th>debt</th>\n",
       "      <th>total_income</th>\n",
       "      <th>purpose</th>\n",
       "    </tr>\n",
       "  </thead>\n",
       "  <tbody>\n",
       "    <tr>\n",
       "      <td>0</td>\n",
       "      <td>1</td>\n",
       "      <td>-8437.673028</td>\n",
       "      <td>42</td>\n",
       "      <td>высшее</td>\n",
       "      <td>0</td>\n",
       "      <td>женат / замужем</td>\n",
       "      <td>0</td>\n",
       "      <td>F</td>\n",
       "      <td>сотрудник</td>\n",
       "      <td>0</td>\n",
       "      <td>253875.639453</td>\n",
       "      <td>покупка жилья</td>\n",
       "    </tr>\n",
       "    <tr>\n",
       "      <td>1</td>\n",
       "      <td>1</td>\n",
       "      <td>-4024.803754</td>\n",
       "      <td>36</td>\n",
       "      <td>среднее</td>\n",
       "      <td>1</td>\n",
       "      <td>женат / замужем</td>\n",
       "      <td>0</td>\n",
       "      <td>F</td>\n",
       "      <td>сотрудник</td>\n",
       "      <td>0</td>\n",
       "      <td>112080.014102</td>\n",
       "      <td>приобретение автомобиля</td>\n",
       "    </tr>\n",
       "    <tr>\n",
       "      <td>2</td>\n",
       "      <td>0</td>\n",
       "      <td>-5623.422610</td>\n",
       "      <td>33</td>\n",
       "      <td>Среднее</td>\n",
       "      <td>1</td>\n",
       "      <td>женат / замужем</td>\n",
       "      <td>0</td>\n",
       "      <td>M</td>\n",
       "      <td>сотрудник</td>\n",
       "      <td>0</td>\n",
       "      <td>145885.952297</td>\n",
       "      <td>покупка жилья</td>\n",
       "    </tr>\n",
       "    <tr>\n",
       "      <td>3</td>\n",
       "      <td>3</td>\n",
       "      <td>-4124.747207</td>\n",
       "      <td>32</td>\n",
       "      <td>среднее</td>\n",
       "      <td>1</td>\n",
       "      <td>женат / замужем</td>\n",
       "      <td>0</td>\n",
       "      <td>M</td>\n",
       "      <td>сотрудник</td>\n",
       "      <td>0</td>\n",
       "      <td>267628.550329</td>\n",
       "      <td>дополнительное образование</td>\n",
       "    </tr>\n",
       "    <tr>\n",
       "      <td>4</td>\n",
       "      <td>0</td>\n",
       "      <td>340266.072047</td>\n",
       "      <td>53</td>\n",
       "      <td>среднее</td>\n",
       "      <td>1</td>\n",
       "      <td>гражданский брак</td>\n",
       "      <td>1</td>\n",
       "      <td>F</td>\n",
       "      <td>пенсионер</td>\n",
       "      <td>0</td>\n",
       "      <td>158616.077870</td>\n",
       "      <td>сыграть свадьбу</td>\n",
       "    </tr>\n",
       "    <tr>\n",
       "      <td>5</td>\n",
       "      <td>0</td>\n",
       "      <td>-926.185831</td>\n",
       "      <td>27</td>\n",
       "      <td>высшее</td>\n",
       "      <td>0</td>\n",
       "      <td>гражданский брак</td>\n",
       "      <td>1</td>\n",
       "      <td>M</td>\n",
       "      <td>компаньон</td>\n",
       "      <td>0</td>\n",
       "      <td>255763.565419</td>\n",
       "      <td>покупка жилья</td>\n",
       "    </tr>\n",
       "    <tr>\n",
       "      <td>6</td>\n",
       "      <td>0</td>\n",
       "      <td>-2879.202052</td>\n",
       "      <td>43</td>\n",
       "      <td>высшее</td>\n",
       "      <td>0</td>\n",
       "      <td>женат / замужем</td>\n",
       "      <td>0</td>\n",
       "      <td>F</td>\n",
       "      <td>компаньон</td>\n",
       "      <td>0</td>\n",
       "      <td>240525.971920</td>\n",
       "      <td>операции с жильем</td>\n",
       "    </tr>\n",
       "    <tr>\n",
       "      <td>7</td>\n",
       "      <td>0</td>\n",
       "      <td>-152.779569</td>\n",
       "      <td>50</td>\n",
       "      <td>СРЕДНЕЕ</td>\n",
       "      <td>1</td>\n",
       "      <td>женат / замужем</td>\n",
       "      <td>0</td>\n",
       "      <td>M</td>\n",
       "      <td>сотрудник</td>\n",
       "      <td>0</td>\n",
       "      <td>135823.934197</td>\n",
       "      <td>образование</td>\n",
       "    </tr>\n",
       "    <tr>\n",
       "      <td>8</td>\n",
       "      <td>2</td>\n",
       "      <td>-6929.865299</td>\n",
       "      <td>35</td>\n",
       "      <td>ВЫСШЕЕ</td>\n",
       "      <td>0</td>\n",
       "      <td>гражданский брак</td>\n",
       "      <td>1</td>\n",
       "      <td>F</td>\n",
       "      <td>сотрудник</td>\n",
       "      <td>0</td>\n",
       "      <td>95856.832424</td>\n",
       "      <td>на проведение свадьбы</td>\n",
       "    </tr>\n",
       "    <tr>\n",
       "      <td>9</td>\n",
       "      <td>0</td>\n",
       "      <td>-2188.756445</td>\n",
       "      <td>41</td>\n",
       "      <td>среднее</td>\n",
       "      <td>1</td>\n",
       "      <td>женат / замужем</td>\n",
       "      <td>0</td>\n",
       "      <td>M</td>\n",
       "      <td>сотрудник</td>\n",
       "      <td>0</td>\n",
       "      <td>144425.938277</td>\n",
       "      <td>покупка жилья для семьи</td>\n",
       "    </tr>\n",
       "  </tbody>\n",
       "</table>\n",
       "</div>"
      ],
      "text/plain": [
       "   children  days_employed  dob_years education  education_id  \\\n",
       "0         1   -8437.673028         42    высшее             0   \n",
       "1         1   -4024.803754         36   среднее             1   \n",
       "2         0   -5623.422610         33   Среднее             1   \n",
       "3         3   -4124.747207         32   среднее             1   \n",
       "4         0  340266.072047         53   среднее             1   \n",
       "5         0    -926.185831         27    высшее             0   \n",
       "6         0   -2879.202052         43    высшее             0   \n",
       "7         0    -152.779569         50   СРЕДНЕЕ             1   \n",
       "8         2   -6929.865299         35    ВЫСШЕЕ             0   \n",
       "9         0   -2188.756445         41   среднее             1   \n",
       "\n",
       "      family_status  family_status_id gender income_type  debt   total_income  \\\n",
       "0   женат / замужем                 0      F   сотрудник     0  253875.639453   \n",
       "1   женат / замужем                 0      F   сотрудник     0  112080.014102   \n",
       "2   женат / замужем                 0      M   сотрудник     0  145885.952297   \n",
       "3   женат / замужем                 0      M   сотрудник     0  267628.550329   \n",
       "4  гражданский брак                 1      F   пенсионер     0  158616.077870   \n",
       "5  гражданский брак                 1      M   компаньон     0  255763.565419   \n",
       "6   женат / замужем                 0      F   компаньон     0  240525.971920   \n",
       "7   женат / замужем                 0      M   сотрудник     0  135823.934197   \n",
       "8  гражданский брак                 1      F   сотрудник     0   95856.832424   \n",
       "9   женат / замужем                 0      M   сотрудник     0  144425.938277   \n",
       "\n",
       "                      purpose  \n",
       "0               покупка жилья  \n",
       "1     приобретение автомобиля  \n",
       "2               покупка жилья  \n",
       "3  дополнительное образование  \n",
       "4             сыграть свадьбу  \n",
       "5               покупка жилья  \n",
       "6           операции с жильем  \n",
       "7                 образование  \n",
       "8       на проведение свадьбы  \n",
       "9     покупка жилья для семьи  "
      ]
     },
     "metadata": {},
     "output_type": "display_data"
    },
    {
     "data": {
      "text/html": [
       "<div>\n",
       "<style scoped>\n",
       "    .dataframe tbody tr th:only-of-type {\n",
       "        vertical-align: middle;\n",
       "    }\n",
       "\n",
       "    .dataframe tbody tr th {\n",
       "        vertical-align: top;\n",
       "    }\n",
       "\n",
       "    .dataframe thead th {\n",
       "        text-align: right;\n",
       "    }\n",
       "</style>\n",
       "<table border=\"1\" class=\"dataframe\">\n",
       "  <thead>\n",
       "    <tr style=\"text-align: right;\">\n",
       "      <th></th>\n",
       "      <th>children</th>\n",
       "      <th>days_employed</th>\n",
       "      <th>dob_years</th>\n",
       "      <th>education</th>\n",
       "      <th>education_id</th>\n",
       "      <th>family_status</th>\n",
       "      <th>family_status_id</th>\n",
       "      <th>gender</th>\n",
       "      <th>income_type</th>\n",
       "      <th>debt</th>\n",
       "      <th>total_income</th>\n",
       "      <th>purpose</th>\n",
       "    </tr>\n",
       "  </thead>\n",
       "  <tbody>\n",
       "    <tr>\n",
       "      <td>21515</td>\n",
       "      <td>1</td>\n",
       "      <td>-467.685130</td>\n",
       "      <td>28</td>\n",
       "      <td>среднее</td>\n",
       "      <td>1</td>\n",
       "      <td>женат / замужем</td>\n",
       "      <td>0</td>\n",
       "      <td>F</td>\n",
       "      <td>сотрудник</td>\n",
       "      <td>1</td>\n",
       "      <td>109486.327999</td>\n",
       "      <td>заняться образованием</td>\n",
       "    </tr>\n",
       "    <tr>\n",
       "      <td>21516</td>\n",
       "      <td>0</td>\n",
       "      <td>-914.391429</td>\n",
       "      <td>42</td>\n",
       "      <td>высшее</td>\n",
       "      <td>0</td>\n",
       "      <td>женат / замужем</td>\n",
       "      <td>0</td>\n",
       "      <td>F</td>\n",
       "      <td>компаньон</td>\n",
       "      <td>0</td>\n",
       "      <td>322807.776603</td>\n",
       "      <td>покупка своего жилья</td>\n",
       "    </tr>\n",
       "    <tr>\n",
       "      <td>21517</td>\n",
       "      <td>0</td>\n",
       "      <td>-404.679034</td>\n",
       "      <td>42</td>\n",
       "      <td>высшее</td>\n",
       "      <td>0</td>\n",
       "      <td>гражданский брак</td>\n",
       "      <td>1</td>\n",
       "      <td>F</td>\n",
       "      <td>компаньон</td>\n",
       "      <td>0</td>\n",
       "      <td>178059.553491</td>\n",
       "      <td>на покупку своего автомобиля</td>\n",
       "    </tr>\n",
       "    <tr>\n",
       "      <td>21518</td>\n",
       "      <td>0</td>\n",
       "      <td>373995.710838</td>\n",
       "      <td>59</td>\n",
       "      <td>СРЕДНЕЕ</td>\n",
       "      <td>1</td>\n",
       "      <td>женат / замужем</td>\n",
       "      <td>0</td>\n",
       "      <td>F</td>\n",
       "      <td>пенсионер</td>\n",
       "      <td>0</td>\n",
       "      <td>153864.650328</td>\n",
       "      <td>сделка с автомобилем</td>\n",
       "    </tr>\n",
       "    <tr>\n",
       "      <td>21519</td>\n",
       "      <td>1</td>\n",
       "      <td>-2351.431934</td>\n",
       "      <td>37</td>\n",
       "      <td>ученая степень</td>\n",
       "      <td>4</td>\n",
       "      <td>в разводе</td>\n",
       "      <td>3</td>\n",
       "      <td>M</td>\n",
       "      <td>сотрудник</td>\n",
       "      <td>0</td>\n",
       "      <td>115949.039788</td>\n",
       "      <td>покупка коммерческой недвижимости</td>\n",
       "    </tr>\n",
       "    <tr>\n",
       "      <td>21520</td>\n",
       "      <td>1</td>\n",
       "      <td>-4529.316663</td>\n",
       "      <td>43</td>\n",
       "      <td>среднее</td>\n",
       "      <td>1</td>\n",
       "      <td>гражданский брак</td>\n",
       "      <td>1</td>\n",
       "      <td>F</td>\n",
       "      <td>компаньон</td>\n",
       "      <td>0</td>\n",
       "      <td>224791.862382</td>\n",
       "      <td>операции с жильем</td>\n",
       "    </tr>\n",
       "    <tr>\n",
       "      <td>21521</td>\n",
       "      <td>0</td>\n",
       "      <td>343937.404131</td>\n",
       "      <td>67</td>\n",
       "      <td>среднее</td>\n",
       "      <td>1</td>\n",
       "      <td>женат / замужем</td>\n",
       "      <td>0</td>\n",
       "      <td>F</td>\n",
       "      <td>пенсионер</td>\n",
       "      <td>0</td>\n",
       "      <td>155999.806512</td>\n",
       "      <td>сделка с автомобилем</td>\n",
       "    </tr>\n",
       "    <tr>\n",
       "      <td>21522</td>\n",
       "      <td>1</td>\n",
       "      <td>-2113.346888</td>\n",
       "      <td>38</td>\n",
       "      <td>среднее</td>\n",
       "      <td>1</td>\n",
       "      <td>гражданский брак</td>\n",
       "      <td>1</td>\n",
       "      <td>M</td>\n",
       "      <td>сотрудник</td>\n",
       "      <td>1</td>\n",
       "      <td>89672.561153</td>\n",
       "      <td>недвижимость</td>\n",
       "    </tr>\n",
       "    <tr>\n",
       "      <td>21523</td>\n",
       "      <td>3</td>\n",
       "      <td>-3112.481705</td>\n",
       "      <td>38</td>\n",
       "      <td>среднее</td>\n",
       "      <td>1</td>\n",
       "      <td>женат / замужем</td>\n",
       "      <td>0</td>\n",
       "      <td>M</td>\n",
       "      <td>сотрудник</td>\n",
       "      <td>1</td>\n",
       "      <td>244093.050500</td>\n",
       "      <td>на покупку своего автомобиля</td>\n",
       "    </tr>\n",
       "    <tr>\n",
       "      <td>21524</td>\n",
       "      <td>2</td>\n",
       "      <td>-1984.507589</td>\n",
       "      <td>40</td>\n",
       "      <td>среднее</td>\n",
       "      <td>1</td>\n",
       "      <td>женат / замужем</td>\n",
       "      <td>0</td>\n",
       "      <td>F</td>\n",
       "      <td>сотрудник</td>\n",
       "      <td>0</td>\n",
       "      <td>82047.418899</td>\n",
       "      <td>на покупку автомобиля</td>\n",
       "    </tr>\n",
       "  </tbody>\n",
       "</table>\n",
       "</div>"
      ],
      "text/plain": [
       "       children  days_employed  dob_years       education  education_id  \\\n",
       "21515         1    -467.685130         28         среднее             1   \n",
       "21516         0    -914.391429         42          высшее             0   \n",
       "21517         0    -404.679034         42          высшее             0   \n",
       "21518         0  373995.710838         59         СРЕДНЕЕ             1   \n",
       "21519         1   -2351.431934         37  ученая степень             4   \n",
       "21520         1   -4529.316663         43         среднее             1   \n",
       "21521         0  343937.404131         67         среднее             1   \n",
       "21522         1   -2113.346888         38         среднее             1   \n",
       "21523         3   -3112.481705         38         среднее             1   \n",
       "21524         2   -1984.507589         40         среднее             1   \n",
       "\n",
       "          family_status  family_status_id gender income_type  debt  \\\n",
       "21515   женат / замужем                 0      F   сотрудник     1   \n",
       "21516   женат / замужем                 0      F   компаньон     0   \n",
       "21517  гражданский брак                 1      F   компаньон     0   \n",
       "21518   женат / замужем                 0      F   пенсионер     0   \n",
       "21519         в разводе                 3      M   сотрудник     0   \n",
       "21520  гражданский брак                 1      F   компаньон     0   \n",
       "21521   женат / замужем                 0      F   пенсионер     0   \n",
       "21522  гражданский брак                 1      M   сотрудник     1   \n",
       "21523   женат / замужем                 0      M   сотрудник     1   \n",
       "21524   женат / замужем                 0      F   сотрудник     0   \n",
       "\n",
       "        total_income                            purpose  \n",
       "21515  109486.327999              заняться образованием  \n",
       "21516  322807.776603               покупка своего жилья  \n",
       "21517  178059.553491       на покупку своего автомобиля  \n",
       "21518  153864.650328               сделка с автомобилем  \n",
       "21519  115949.039788  покупка коммерческой недвижимости  \n",
       "21520  224791.862382                  операции с жильем  \n",
       "21521  155999.806512               сделка с автомобилем  \n",
       "21522   89672.561153                       недвижимость  \n",
       "21523  244093.050500       на покупку своего автомобиля  \n",
       "21524   82047.418899              на покупку автомобиля  "
      ]
     },
     "metadata": {},
     "output_type": "display_data"
    },
    {
     "name": "stdout",
     "output_type": "stream",
     "text": [
      "<class 'pandas.core.frame.DataFrame'>\n",
      "RangeIndex: 21525 entries, 0 to 21524\n",
      "Data columns (total 12 columns):\n",
      "children            21525 non-null int64\n",
      "days_employed       19351 non-null float64\n",
      "dob_years           21525 non-null int64\n",
      "education           21525 non-null object\n",
      "education_id        21525 non-null int64\n",
      "family_status       21525 non-null object\n",
      "family_status_id    21525 non-null int64\n",
      "gender              21525 non-null object\n",
      "income_type         21525 non-null object\n",
      "debt                21525 non-null int64\n",
      "total_income        19351 non-null float64\n",
      "purpose             21525 non-null object\n",
      "dtypes: float64(2), int64(5), object(5)\n",
      "memory usage: 2.0+ MB\n"
     ]
    },
    {
     "data": {
      "text/html": [
       "<div>\n",
       "<style scoped>\n",
       "    .dataframe tbody tr th:only-of-type {\n",
       "        vertical-align: middle;\n",
       "    }\n",
       "\n",
       "    .dataframe tbody tr th {\n",
       "        vertical-align: top;\n",
       "    }\n",
       "\n",
       "    .dataframe thead th {\n",
       "        text-align: right;\n",
       "    }\n",
       "</style>\n",
       "<table border=\"1\" class=\"dataframe\">\n",
       "  <thead>\n",
       "    <tr style=\"text-align: right;\">\n",
       "      <th></th>\n",
       "      <th>children</th>\n",
       "      <th>days_employed</th>\n",
       "      <th>dob_years</th>\n",
       "      <th>education</th>\n",
       "      <th>education_id</th>\n",
       "      <th>family_status</th>\n",
       "      <th>family_status_id</th>\n",
       "      <th>gender</th>\n",
       "      <th>income_type</th>\n",
       "      <th>debt</th>\n",
       "      <th>total_income</th>\n",
       "      <th>purpose</th>\n",
       "    </tr>\n",
       "  </thead>\n",
       "  <tbody>\n",
       "    <tr>\n",
       "      <td>16335</td>\n",
       "      <td>1</td>\n",
       "      <td>-18388.949901</td>\n",
       "      <td>61</td>\n",
       "      <td>среднее</td>\n",
       "      <td>1</td>\n",
       "      <td>женат / замужем</td>\n",
       "      <td>0</td>\n",
       "      <td>F</td>\n",
       "      <td>сотрудник</td>\n",
       "      <td>0</td>\n",
       "      <td>186178.934089</td>\n",
       "      <td>операции с недвижимостью</td>\n",
       "    </tr>\n",
       "    <tr>\n",
       "      <td>4299</td>\n",
       "      <td>0</td>\n",
       "      <td>-17615.563266</td>\n",
       "      <td>61</td>\n",
       "      <td>среднее</td>\n",
       "      <td>1</td>\n",
       "      <td>женат / замужем</td>\n",
       "      <td>0</td>\n",
       "      <td>F</td>\n",
       "      <td>компаньон</td>\n",
       "      <td>0</td>\n",
       "      <td>122560.741753</td>\n",
       "      <td>покупка жилья</td>\n",
       "    </tr>\n",
       "    <tr>\n",
       "      <td>7329</td>\n",
       "      <td>0</td>\n",
       "      <td>-16593.472817</td>\n",
       "      <td>60</td>\n",
       "      <td>высшее</td>\n",
       "      <td>0</td>\n",
       "      <td>женат / замужем</td>\n",
       "      <td>0</td>\n",
       "      <td>F</td>\n",
       "      <td>сотрудник</td>\n",
       "      <td>0</td>\n",
       "      <td>124697.846781</td>\n",
       "      <td>заняться высшим образованием</td>\n",
       "    </tr>\n",
       "    <tr>\n",
       "      <td>17838</td>\n",
       "      <td>0</td>\n",
       "      <td>-16264.699501</td>\n",
       "      <td>59</td>\n",
       "      <td>среднее</td>\n",
       "      <td>1</td>\n",
       "      <td>женат / замужем</td>\n",
       "      <td>0</td>\n",
       "      <td>F</td>\n",
       "      <td>сотрудник</td>\n",
       "      <td>0</td>\n",
       "      <td>51238.967133</td>\n",
       "      <td>на покупку автомобиля</td>\n",
       "    </tr>\n",
       "    <tr>\n",
       "      <td>16825</td>\n",
       "      <td>0</td>\n",
       "      <td>-16119.687737</td>\n",
       "      <td>64</td>\n",
       "      <td>среднее</td>\n",
       "      <td>1</td>\n",
       "      <td>женат / замужем</td>\n",
       "      <td>0</td>\n",
       "      <td>F</td>\n",
       "      <td>сотрудник</td>\n",
       "      <td>0</td>\n",
       "      <td>91527.685995</td>\n",
       "      <td>покупка жилой недвижимости</td>\n",
       "    </tr>\n",
       "    <tr>\n",
       "      <td>...</td>\n",
       "      <td>...</td>\n",
       "      <td>...</td>\n",
       "      <td>...</td>\n",
       "      <td>...</td>\n",
       "      <td>...</td>\n",
       "      <td>...</td>\n",
       "      <td>...</td>\n",
       "      <td>...</td>\n",
       "      <td>...</td>\n",
       "      <td>...</td>\n",
       "      <td>...</td>\n",
       "      <td>...</td>\n",
       "    </tr>\n",
       "    <tr>\n",
       "      <td>21489</td>\n",
       "      <td>2</td>\n",
       "      <td>NaN</td>\n",
       "      <td>47</td>\n",
       "      <td>Среднее</td>\n",
       "      <td>1</td>\n",
       "      <td>женат / замужем</td>\n",
       "      <td>0</td>\n",
       "      <td>M</td>\n",
       "      <td>компаньон</td>\n",
       "      <td>0</td>\n",
       "      <td>NaN</td>\n",
       "      <td>сделка с автомобилем</td>\n",
       "    </tr>\n",
       "    <tr>\n",
       "      <td>21495</td>\n",
       "      <td>1</td>\n",
       "      <td>NaN</td>\n",
       "      <td>50</td>\n",
       "      <td>среднее</td>\n",
       "      <td>1</td>\n",
       "      <td>гражданский брак</td>\n",
       "      <td>1</td>\n",
       "      <td>F</td>\n",
       "      <td>сотрудник</td>\n",
       "      <td>0</td>\n",
       "      <td>NaN</td>\n",
       "      <td>свадьба</td>\n",
       "    </tr>\n",
       "    <tr>\n",
       "      <td>21497</td>\n",
       "      <td>0</td>\n",
       "      <td>NaN</td>\n",
       "      <td>48</td>\n",
       "      <td>ВЫСШЕЕ</td>\n",
       "      <td>0</td>\n",
       "      <td>женат / замужем</td>\n",
       "      <td>0</td>\n",
       "      <td>F</td>\n",
       "      <td>компаньон</td>\n",
       "      <td>0</td>\n",
       "      <td>NaN</td>\n",
       "      <td>строительство недвижимости</td>\n",
       "    </tr>\n",
       "    <tr>\n",
       "      <td>21502</td>\n",
       "      <td>1</td>\n",
       "      <td>NaN</td>\n",
       "      <td>42</td>\n",
       "      <td>среднее</td>\n",
       "      <td>1</td>\n",
       "      <td>женат / замужем</td>\n",
       "      <td>0</td>\n",
       "      <td>F</td>\n",
       "      <td>сотрудник</td>\n",
       "      <td>0</td>\n",
       "      <td>NaN</td>\n",
       "      <td>строительство жилой недвижимости</td>\n",
       "    </tr>\n",
       "    <tr>\n",
       "      <td>21510</td>\n",
       "      <td>2</td>\n",
       "      <td>NaN</td>\n",
       "      <td>28</td>\n",
       "      <td>среднее</td>\n",
       "      <td>1</td>\n",
       "      <td>женат / замужем</td>\n",
       "      <td>0</td>\n",
       "      <td>F</td>\n",
       "      <td>сотрудник</td>\n",
       "      <td>0</td>\n",
       "      <td>NaN</td>\n",
       "      <td>приобретение автомобиля</td>\n",
       "    </tr>\n",
       "  </tbody>\n",
       "</table>\n",
       "<p>21525 rows × 12 columns</p>\n",
       "</div>"
      ],
      "text/plain": [
       "       children  days_employed  dob_years education  education_id  \\\n",
       "16335         1  -18388.949901         61   среднее             1   \n",
       "4299          0  -17615.563266         61   среднее             1   \n",
       "7329          0  -16593.472817         60    высшее             0   \n",
       "17838         0  -16264.699501         59   среднее             1   \n",
       "16825         0  -16119.687737         64   среднее             1   \n",
       "...         ...            ...        ...       ...           ...   \n",
       "21489         2            NaN         47   Среднее             1   \n",
       "21495         1            NaN         50   среднее             1   \n",
       "21497         0            NaN         48    ВЫСШЕЕ             0   \n",
       "21502         1            NaN         42   среднее             1   \n",
       "21510         2            NaN         28   среднее             1   \n",
       "\n",
       "          family_status  family_status_id gender income_type  debt  \\\n",
       "16335   женат / замужем                 0      F   сотрудник     0   \n",
       "4299    женат / замужем                 0      F   компаньон     0   \n",
       "7329    женат / замужем                 0      F   сотрудник     0   \n",
       "17838   женат / замужем                 0      F   сотрудник     0   \n",
       "16825   женат / замужем                 0      F   сотрудник     0   \n",
       "...                 ...               ...    ...         ...   ...   \n",
       "21489   женат / замужем                 0      M   компаньон     0   \n",
       "21495  гражданский брак                 1      F   сотрудник     0   \n",
       "21497   женат / замужем                 0      F   компаньон     0   \n",
       "21502   женат / замужем                 0      F   сотрудник     0   \n",
       "21510   женат / замужем                 0      F   сотрудник     0   \n",
       "\n",
       "        total_income                           purpose  \n",
       "16335  186178.934089          операции с недвижимостью  \n",
       "4299   122560.741753                     покупка жилья  \n",
       "7329   124697.846781      заняться высшим образованием  \n",
       "17838   51238.967133             на покупку автомобиля  \n",
       "16825   91527.685995        покупка жилой недвижимости  \n",
       "...              ...                               ...  \n",
       "21489            NaN              сделка с автомобилем  \n",
       "21495            NaN                           свадьба  \n",
       "21497            NaN        строительство недвижимости  \n",
       "21502            NaN  строительство жилой недвижимости  \n",
       "21510            NaN           приобретение автомобиля  \n",
       "\n",
       "[21525 rows x 12 columns]"
      ]
     },
     "metadata": {},
     "output_type": "display_data"
    },
    {
     "data": {
      "text/html": [
       "<div>\n",
       "<style scoped>\n",
       "    .dataframe tbody tr th:only-of-type {\n",
       "        vertical-align: middle;\n",
       "    }\n",
       "\n",
       "    .dataframe tbody tr th {\n",
       "        vertical-align: top;\n",
       "    }\n",
       "\n",
       "    .dataframe thead th {\n",
       "        text-align: right;\n",
       "    }\n",
       "</style>\n",
       "<table border=\"1\" class=\"dataframe\">\n",
       "  <thead>\n",
       "    <tr style=\"text-align: right;\">\n",
       "      <th></th>\n",
       "      <th>children</th>\n",
       "      <th>days_employed</th>\n",
       "      <th>dob_years</th>\n",
       "      <th>education</th>\n",
       "      <th>education_id</th>\n",
       "      <th>family_status</th>\n",
       "      <th>family_status_id</th>\n",
       "      <th>gender</th>\n",
       "      <th>income_type</th>\n",
       "      <th>debt</th>\n",
       "      <th>total_income</th>\n",
       "      <th>purpose</th>\n",
       "    </tr>\n",
       "  </thead>\n",
       "  <tbody>\n",
       "    <tr>\n",
       "      <td>6954</td>\n",
       "      <td>0</td>\n",
       "      <td>401755.400475</td>\n",
       "      <td>56</td>\n",
       "      <td>среднее</td>\n",
       "      <td>1</td>\n",
       "      <td>вдовец / вдова</td>\n",
       "      <td>2</td>\n",
       "      <td>F</td>\n",
       "      <td>пенсионер</td>\n",
       "      <td>0</td>\n",
       "      <td>176278.441171</td>\n",
       "      <td>ремонт жилью</td>\n",
       "    </tr>\n",
       "    <tr>\n",
       "      <td>10006</td>\n",
       "      <td>0</td>\n",
       "      <td>401715.811749</td>\n",
       "      <td>69</td>\n",
       "      <td>высшее</td>\n",
       "      <td>0</td>\n",
       "      <td>Не женат / не замужем</td>\n",
       "      <td>4</td>\n",
       "      <td>F</td>\n",
       "      <td>пенсионер</td>\n",
       "      <td>0</td>\n",
       "      <td>57390.256908</td>\n",
       "      <td>получение образования</td>\n",
       "    </tr>\n",
       "    <tr>\n",
       "      <td>7664</td>\n",
       "      <td>1</td>\n",
       "      <td>401675.093434</td>\n",
       "      <td>61</td>\n",
       "      <td>среднее</td>\n",
       "      <td>1</td>\n",
       "      <td>женат / замужем</td>\n",
       "      <td>0</td>\n",
       "      <td>F</td>\n",
       "      <td>пенсионер</td>\n",
       "      <td>0</td>\n",
       "      <td>126214.519212</td>\n",
       "      <td>операции с жильем</td>\n",
       "    </tr>\n",
       "    <tr>\n",
       "      <td>2156</td>\n",
       "      <td>0</td>\n",
       "      <td>401674.466633</td>\n",
       "      <td>60</td>\n",
       "      <td>среднее</td>\n",
       "      <td>1</td>\n",
       "      <td>женат / замужем</td>\n",
       "      <td>0</td>\n",
       "      <td>M</td>\n",
       "      <td>пенсионер</td>\n",
       "      <td>0</td>\n",
       "      <td>325395.724541</td>\n",
       "      <td>автомобили</td>\n",
       "    </tr>\n",
       "    <tr>\n",
       "      <td>7794</td>\n",
       "      <td>0</td>\n",
       "      <td>401663.850046</td>\n",
       "      <td>61</td>\n",
       "      <td>среднее</td>\n",
       "      <td>1</td>\n",
       "      <td>гражданский брак</td>\n",
       "      <td>1</td>\n",
       "      <td>F</td>\n",
       "      <td>пенсионер</td>\n",
       "      <td>0</td>\n",
       "      <td>48286.441362</td>\n",
       "      <td>свадьба</td>\n",
       "    </tr>\n",
       "    <tr>\n",
       "      <td>...</td>\n",
       "      <td>...</td>\n",
       "      <td>...</td>\n",
       "      <td>...</td>\n",
       "      <td>...</td>\n",
       "      <td>...</td>\n",
       "      <td>...</td>\n",
       "      <td>...</td>\n",
       "      <td>...</td>\n",
       "      <td>...</td>\n",
       "      <td>...</td>\n",
       "      <td>...</td>\n",
       "      <td>...</td>\n",
       "    </tr>\n",
       "    <tr>\n",
       "      <td>21489</td>\n",
       "      <td>2</td>\n",
       "      <td>NaN</td>\n",
       "      <td>47</td>\n",
       "      <td>Среднее</td>\n",
       "      <td>1</td>\n",
       "      <td>женат / замужем</td>\n",
       "      <td>0</td>\n",
       "      <td>M</td>\n",
       "      <td>компаньон</td>\n",
       "      <td>0</td>\n",
       "      <td>NaN</td>\n",
       "      <td>сделка с автомобилем</td>\n",
       "    </tr>\n",
       "    <tr>\n",
       "      <td>21495</td>\n",
       "      <td>1</td>\n",
       "      <td>NaN</td>\n",
       "      <td>50</td>\n",
       "      <td>среднее</td>\n",
       "      <td>1</td>\n",
       "      <td>гражданский брак</td>\n",
       "      <td>1</td>\n",
       "      <td>F</td>\n",
       "      <td>сотрудник</td>\n",
       "      <td>0</td>\n",
       "      <td>NaN</td>\n",
       "      <td>свадьба</td>\n",
       "    </tr>\n",
       "    <tr>\n",
       "      <td>21497</td>\n",
       "      <td>0</td>\n",
       "      <td>NaN</td>\n",
       "      <td>48</td>\n",
       "      <td>ВЫСШЕЕ</td>\n",
       "      <td>0</td>\n",
       "      <td>женат / замужем</td>\n",
       "      <td>0</td>\n",
       "      <td>F</td>\n",
       "      <td>компаньон</td>\n",
       "      <td>0</td>\n",
       "      <td>NaN</td>\n",
       "      <td>строительство недвижимости</td>\n",
       "    </tr>\n",
       "    <tr>\n",
       "      <td>21502</td>\n",
       "      <td>1</td>\n",
       "      <td>NaN</td>\n",
       "      <td>42</td>\n",
       "      <td>среднее</td>\n",
       "      <td>1</td>\n",
       "      <td>женат / замужем</td>\n",
       "      <td>0</td>\n",
       "      <td>F</td>\n",
       "      <td>сотрудник</td>\n",
       "      <td>0</td>\n",
       "      <td>NaN</td>\n",
       "      <td>строительство жилой недвижимости</td>\n",
       "    </tr>\n",
       "    <tr>\n",
       "      <td>21510</td>\n",
       "      <td>2</td>\n",
       "      <td>NaN</td>\n",
       "      <td>28</td>\n",
       "      <td>среднее</td>\n",
       "      <td>1</td>\n",
       "      <td>женат / замужем</td>\n",
       "      <td>0</td>\n",
       "      <td>F</td>\n",
       "      <td>сотрудник</td>\n",
       "      <td>0</td>\n",
       "      <td>NaN</td>\n",
       "      <td>приобретение автомобиля</td>\n",
       "    </tr>\n",
       "  </tbody>\n",
       "</table>\n",
       "<p>21525 rows × 12 columns</p>\n",
       "</div>"
      ],
      "text/plain": [
       "       children  days_employed  dob_years education  education_id  \\\n",
       "6954          0  401755.400475         56   среднее             1   \n",
       "10006         0  401715.811749         69    высшее             0   \n",
       "7664          1  401675.093434         61   среднее             1   \n",
       "2156          0  401674.466633         60   среднее             1   \n",
       "7794          0  401663.850046         61   среднее             1   \n",
       "...         ...            ...        ...       ...           ...   \n",
       "21489         2            NaN         47   Среднее             1   \n",
       "21495         1            NaN         50   среднее             1   \n",
       "21497         0            NaN         48    ВЫСШЕЕ             0   \n",
       "21502         1            NaN         42   среднее             1   \n",
       "21510         2            NaN         28   среднее             1   \n",
       "\n",
       "               family_status  family_status_id gender income_type  debt  \\\n",
       "6954          вдовец / вдова                 2      F   пенсионер     0   \n",
       "10006  Не женат / не замужем                 4      F   пенсионер     0   \n",
       "7664         женат / замужем                 0      F   пенсионер     0   \n",
       "2156         женат / замужем                 0      M   пенсионер     0   \n",
       "7794        гражданский брак                 1      F   пенсионер     0   \n",
       "...                      ...               ...    ...         ...   ...   \n",
       "21489        женат / замужем                 0      M   компаньон     0   \n",
       "21495       гражданский брак                 1      F   сотрудник     0   \n",
       "21497        женат / замужем                 0      F   компаньон     0   \n",
       "21502        женат / замужем                 0      F   сотрудник     0   \n",
       "21510        женат / замужем                 0      F   сотрудник     0   \n",
       "\n",
       "        total_income                           purpose  \n",
       "6954   176278.441171                      ремонт жилью  \n",
       "10006   57390.256908             получение образования  \n",
       "7664   126214.519212                 операции с жильем  \n",
       "2156   325395.724541                        автомобили  \n",
       "7794    48286.441362                           свадьба  \n",
       "...              ...                               ...  \n",
       "21489            NaN              сделка с автомобилем  \n",
       "21495            NaN                           свадьба  \n",
       "21497            NaN        строительство недвижимости  \n",
       "21502            NaN  строительство жилой недвижимости  \n",
       "21510            NaN           приобретение автомобиля  \n",
       "\n",
       "[21525 rows x 12 columns]"
      ]
     },
     "metadata": {},
     "output_type": "display_data"
    }
   ],
   "source": [
    "import pandas as pd # импорт библиотеки Pandas\n",
    "import statistics as st # импорт библиотеки статистики\n",
    "\n",
    "data = pd.read_csv('/datasets/data.csv') # чтение файла с данными и сохранение его в переменную data\n",
    "\n",
    "display(data.head(10)) # отражение первых 10 строк таблицы для обзорного анализа данных по столбцам, типам и характеру информации\n",
    "display(data.tail(10)) # отражение последних 10 строк таблицы для обзорного анализа данных по столбцам, типам и характеру информации\n",
    "\n",
    "data.info() # вывод сводной информации о массиве данных для анализа\n",
    "data.columns # проверка перечня названий столбцов\n",
    "\n",
    "display(data.sort_values(by='days_employed', ascending=True)) # проверка на наличие возможного нереалистичного минимального возможного стажа\n",
    "display(data.sort_values(by='days_employed', ascending=False)) # проверка на наличие возможного нереалистичного максимального возможного стажа"
   ]
  },
  {
   "cell_type": "markdown",
   "metadata": {},
   "source": [
    "**Вывод**"
   ]
  },
  {
   "cell_type": "markdown",
   "metadata": {},
   "source": [
    "\n",
    "Согласно документации к данным:\n",
    "* children — количество детей в семье\n",
    "* days_employed — общий трудовой стаж в днях\n",
    "* dob_years — возраст клиента в годах\n",
    "* education — уровень образования клиента\n",
    "* education_id — идентификатор уровня образования\n",
    "* family_status — семейное положение\n",
    "* family_status_id — идентификатор семейного положения\n",
    "* gender — пол клиента\n",
    "* income_type — тип занятости\n",
    "* debt — имел ли задолженность по возврату кредитов\n",
    "* total_income — ежемесячный доход\n",
    "* purpose — цель получения кредита\n",
    "\n",
    "В выведенной таблице на основе предоставленного массива данных обнаружены следующие особенности при предварительном экспресс-анализе:\n",
    " 1. наименования столбцов отражены в соответствии с правилами представления имен в массивах python; \n",
    " 2. общее количество строк с данными 21525, в столбцах 'days_employed' и 'total_income' их по 19351, т.е. в данных присутствуют пропуски;\n",
    " 3. недочеты в форматах отображения и типах данных: \n",
    "    - days_employed: занятость указана в днях в нецелочисленном формате с отрицательными значениями, кроме того в некоторых позициях указываются значения с сотнями тысяч рабочих дней стажа(что соответствует сотням лет стажа, что является некорректным), это может быть связано с технологическими ошибками при выгрузке данных, либо некорректным отражением стажа в базах данных и это необходимо дополнительно проанализировать и исключить нереалистичные экстремумы. Также тип данных необходимо конвертировать в целочисленный для удобства восприятия информации и отразить значения по модулю;\n",
    "    - education_id: тип данных строки, рекомендуется отобразить прописным шрифтом.\n",
    " 4. присутствие экстремальных минимумов и максимумов в отображающем стаж столбце 'days_employed', рекомендуется получение дополнительной информации от разработчиков для устранения возможных ошибок во входных данных."
   ]
  },
  {
   "cell_type": "markdown",
   "metadata": {},
   "source": [
    "## Предобработка данных"
   ]
  },
  {
   "cell_type": "markdown",
   "metadata": {},
   "source": [
    "### Обработка пропусков"
   ]
  },
  {
   "cell_type": "code",
   "execution_count": 2,
   "metadata": {},
   "outputs": [
    {
     "data": {
      "text/plain": [
       "children               0\n",
       "days_employed       2174\n",
       "dob_years              0\n",
       "education              0\n",
       "education_id           0\n",
       "family_status          0\n",
       "family_status_id       0\n",
       "gender                 0\n",
       "income_type            0\n",
       "debt                   0\n",
       "total_income        2174\n",
       "purpose                0\n",
       "dtype: int64"
      ]
     },
     "metadata": {},
     "output_type": "display_data"
    },
    {
     "data": {
      "text/plain": [
       "children               0\n",
       "days_employed       2174\n",
       "dob_years              0\n",
       "education              0\n",
       "education_id           0\n",
       "family_status          0\n",
       "family_status_id       0\n",
       "gender                 0\n",
       "income_type            0\n",
       "debt                   0\n",
       "total_income        2174\n",
       "purpose                0\n",
       "dtype: int64"
      ]
     },
     "metadata": {},
     "output_type": "display_data"
    },
    {
     "data": {
      "text/plain": [
       "'employee_median'"
      ]
     },
     "metadata": {},
     "output_type": "display_data"
    },
    {
     "data": {
      "text/plain": [
       "142594.39684740017"
      ]
     },
     "metadata": {},
     "output_type": "display_data"
    },
    {
     "data": {
      "text/plain": [
       "'companion_median'"
      ]
     },
     "metadata": {},
     "output_type": "display_data"
    },
    {
     "data": {
      "text/plain": [
       "172357.95096577113"
      ]
     },
     "metadata": {},
     "output_type": "display_data"
    },
    {
     "data": {
      "text/plain": [
       "'retiree_median'"
      ]
     },
     "metadata": {},
     "output_type": "display_data"
    },
    {
     "data": {
      "text/plain": [
       "118514.48641164352"
      ]
     },
     "metadata": {},
     "output_type": "display_data"
    },
    {
     "data": {
      "text/plain": [
       "'gov_emp_median'"
      ]
     },
     "metadata": {},
     "output_type": "display_data"
    },
    {
     "data": {
      "text/plain": [
       "150447.9352830068"
      ]
     },
     "metadata": {},
     "output_type": "display_data"
    },
    {
     "data": {
      "text/plain": [
       "'businessman_median'"
      ]
     },
     "metadata": {},
     "output_type": "display_data"
    },
    {
     "data": {
      "text/plain": [
       "499163.1449470857"
      ]
     },
     "metadata": {},
     "output_type": "display_data"
    },
    {
     "data": {
      "text/plain": [
       "'unemployed_median'"
      ]
     },
     "metadata": {},
     "output_type": "display_data"
    },
    {
     "data": {
      "text/plain": [
       "131339.7516762103"
      ]
     },
     "metadata": {},
     "output_type": "display_data"
    },
    {
     "data": {
      "text/plain": [
       "'student_median'"
      ]
     },
     "metadata": {},
     "output_type": "display_data"
    },
    {
     "data": {
      "text/plain": [
       "98201.62531401133"
      ]
     },
     "metadata": {},
     "output_type": "display_data"
    },
    {
     "data": {
      "text/plain": [
       "'decree_median'"
      ]
     },
     "metadata": {},
     "output_type": "display_data"
    },
    {
     "data": {
      "text/plain": [
       "53829.13072905995"
      ]
     },
     "metadata": {},
     "output_type": "display_data"
    },
    {
     "name": "stderr",
     "output_type": "stream",
     "text": [
      "/opt/conda/lib/python3.7/site-packages/ipykernel_launcher.py:67: SettingWithCopyWarning: \n",
      "A value is trying to be set on a copy of a slice from a DataFrame\n",
      "\n",
      "See the caveats in the documentation: http://pandas.pydata.org/pandas-docs/stable/user_guide/indexing.html#returning-a-view-versus-a-copy\n",
      "/opt/conda/lib/python3.7/site-packages/ipykernel_launcher.py:69: SettingWithCopyWarning: \n",
      "A value is trying to be set on a copy of a slice from a DataFrame\n",
      "\n",
      "See the caveats in the documentation: http://pandas.pydata.org/pandas-docs/stable/user_guide/indexing.html#returning-a-view-versus-a-copy\n",
      "/opt/conda/lib/python3.7/site-packages/ipykernel_launcher.py:65: SettingWithCopyWarning: \n",
      "A value is trying to be set on a copy of a slice from a DataFrame\n",
      "\n",
      "See the caveats in the documentation: http://pandas.pydata.org/pandas-docs/stable/user_guide/indexing.html#returning-a-view-versus-a-copy\n",
      "/opt/conda/lib/python3.7/site-packages/ipykernel_launcher.py:63: SettingWithCopyWarning: \n",
      "A value is trying to be set on a copy of a slice from a DataFrame\n",
      "\n",
      "See the caveats in the documentation: http://pandas.pydata.org/pandas-docs/stable/user_guide/indexing.html#returning-a-view-versus-a-copy\n",
      "/opt/conda/lib/python3.7/site-packages/ipykernel_launcher.py:71: SettingWithCopyWarning: \n",
      "A value is trying to be set on a copy of a slice from a DataFrame\n",
      "\n",
      "See the caveats in the documentation: http://pandas.pydata.org/pandas-docs/stable/user_guide/indexing.html#returning-a-view-versus-a-copy\n"
     ]
    },
    {
     "data": {
      "text/plain": [
       "'employee_median_days_employed'"
      ]
     },
     "metadata": {},
     "output_type": "display_data"
    },
    {
     "data": {
      "text/plain": [
       "-1574.2028211070851"
      ]
     },
     "metadata": {},
     "output_type": "display_data"
    },
    {
     "data": {
      "text/plain": [
       "'companion_median_days_employed'"
      ]
     },
     "metadata": {},
     "output_type": "display_data"
    },
    {
     "data": {
      "text/plain": [
       "-1547.3822226779334"
      ]
     },
     "metadata": {},
     "output_type": "display_data"
    },
    {
     "data": {
      "text/plain": [
       "'retiree_median_days_employed'"
      ]
     },
     "metadata": {},
     "output_type": "display_data"
    },
    {
     "data": {
      "text/plain": [
       "365213.30626573117"
      ]
     },
     "metadata": {},
     "output_type": "display_data"
    },
    {
     "data": {
      "text/plain": [
       "'gov_emp_median_days_employed'"
      ]
     },
     "metadata": {},
     "output_type": "display_data"
    },
    {
     "data": {
      "text/plain": [
       "-2689.3683533043886"
      ]
     },
     "metadata": {},
     "output_type": "display_data"
    },
    {
     "data": {
      "text/plain": [
       "'businessman_median_days_employed'"
      ]
     },
     "metadata": {},
     "output_type": "display_data"
    },
    {
     "data": {
      "text/plain": [
       "-520.8480834953765"
      ]
     },
     "metadata": {},
     "output_type": "display_data"
    },
    {
     "data": {
      "text/plain": [
       "'unemployed_median_days_employed'"
      ]
     },
     "metadata": {},
     "output_type": "display_data"
    },
    {
     "data": {
      "text/plain": [
       "366413.65274420456"
      ]
     },
     "metadata": {},
     "output_type": "display_data"
    },
    {
     "data": {
      "text/plain": [
       "'student_median_days_employed'"
      ]
     },
     "metadata": {},
     "output_type": "display_data"
    },
    {
     "data": {
      "text/plain": [
       "-578.7515535382181"
      ]
     },
     "metadata": {},
     "output_type": "display_data"
    },
    {
     "data": {
      "text/plain": [
       "'decree_median_days_employed'"
      ]
     },
     "metadata": {},
     "output_type": "display_data"
    },
    {
     "data": {
      "text/plain": [
       "-3296.7599620220594"
      ]
     },
     "metadata": {},
     "output_type": "display_data"
    },
    {
     "name": "stderr",
     "output_type": "stream",
     "text": [
      "/opt/conda/lib/python3.7/site-packages/ipykernel_launcher.py:138: SettingWithCopyWarning: \n",
      "A value is trying to be set on a copy of a slice from a DataFrame\n",
      "\n",
      "See the caveats in the documentation: http://pandas.pydata.org/pandas-docs/stable/user_guide/indexing.html#returning-a-view-versus-a-copy\n",
      "/opt/conda/lib/python3.7/site-packages/ipykernel_launcher.py:140: SettingWithCopyWarning: \n",
      "A value is trying to be set on a copy of a slice from a DataFrame\n",
      "\n",
      "See the caveats in the documentation: http://pandas.pydata.org/pandas-docs/stable/user_guide/indexing.html#returning-a-view-versus-a-copy\n",
      "/opt/conda/lib/python3.7/site-packages/ipykernel_launcher.py:136: SettingWithCopyWarning: \n",
      "A value is trying to be set on a copy of a slice from a DataFrame\n",
      "\n",
      "See the caveats in the documentation: http://pandas.pydata.org/pandas-docs/stable/user_guide/indexing.html#returning-a-view-versus-a-copy\n",
      "/opt/conda/lib/python3.7/site-packages/ipykernel_launcher.py:134: SettingWithCopyWarning: \n",
      "A value is trying to be set on a copy of a slice from a DataFrame\n",
      "\n",
      "See the caveats in the documentation: http://pandas.pydata.org/pandas-docs/stable/user_guide/indexing.html#returning-a-view-versus-a-copy\n",
      "/opt/conda/lib/python3.7/site-packages/ipykernel_launcher.py:142: SettingWithCopyWarning: \n",
      "A value is trying to be set on a copy of a slice from a DataFrame\n",
      "\n",
      "See the caveats in the documentation: http://pandas.pydata.org/pandas-docs/stable/user_guide/indexing.html#returning-a-view-versus-a-copy\n"
     ]
    },
    {
     "data": {
      "text/plain": [
       "children            0\n",
       "days_employed       0\n",
       "dob_years           0\n",
       "education           0\n",
       "education_id        0\n",
       "family_status       0\n",
       "family_status_id    0\n",
       "gender              0\n",
       "income_type         0\n",
       "debt                0\n",
       "total_income        0\n",
       "purpose             0\n",
       "dtype: int64"
      ]
     },
     "metadata": {},
     "output_type": "display_data"
    },
    {
     "data": {
      "text/plain": [
       "children            0\n",
       "days_employed       0\n",
       "dob_years           0\n",
       "education           0\n",
       "education_id        0\n",
       "family_status       0\n",
       "family_status_id    0\n",
       "gender              0\n",
       "income_type         0\n",
       "debt                0\n",
       "total_income        0\n",
       "purpose             0\n",
       "dtype: int64"
      ]
     },
     "metadata": {},
     "output_type": "display_data"
    }
   ],
   "source": [
    "# подсчет пропусков\n",
    "display(data.isna().sum()) # NaN\n",
    "display(data.isnull().sum()) # '0'\n",
    "\n",
    "# в данном блоке заполняются пустые ячейки с зарплатой медианными значениями по группам клиентов\n",
    "# блок переменных для income\n",
    "employee_income = []\n",
    "employee_median_income = 0\n",
    "companion_income = []\n",
    "companion_median_income = 0\n",
    "retiree_income = []\n",
    "retiree_median_income = 0\n",
    "gov_emp_income = []\n",
    "gov_emp_median_income = 0\n",
    "businessman_income = []\n",
    "businessman_median_income = 0\n",
    "unemployed_income = []\n",
    "unemployed_median_income = 0\n",
    "student_income = []\n",
    "student_median_income = 0\n",
    "decree_income = []\n",
    "decree_median_income = 0\n",
    "\n",
    "for i in range(len(data)):\n",
    "    if (data['total_income'][i] > 0 and data['income_type'][i] == 'сотрудник'):\n",
    "        employee_income.append(data['total_income'][i])\n",
    "    if (data['total_income'][i] > 0 and data['income_type'][i] == 'компаньон'):\n",
    "        companion_income.append(data['total_income'][i])\n",
    "    if (data['total_income'][i] > 0 and data['income_type'][i] == 'пенсионер'):\n",
    "        retiree_income.append(data['total_income'][i])\n",
    "    if (data['total_income'][i] > 0 and data['income_type'][i] == 'госслужащий'):\n",
    "        gov_emp_income.append(data['total_income'][i])\n",
    "    if (data['total_income'][i] > 0 and data['income_type'][i] == 'предприниматель'):\n",
    "        businessman_income.append(data['total_income'][i])\n",
    "    if (data['total_income'][i] > 0 and data['income_type'][i] == 'безработный'):\n",
    "        unemployed_income.append(data['total_income'][i])\n",
    "    if (data['total_income'][i] > 0 and data['income_type'][i] == 'студент'):\n",
    "        student_income.append(data['total_income'][i])\n",
    "    if (data['total_income'][i] > 0 and data['income_type'][i] == 'в декрете'):\n",
    "        decree_income.append(data['total_income'][i])\n",
    "employee_median_income = st.median(employee_income)\n",
    "companion_median_income = st.median(companion_income)\n",
    "retiree_median_income = st.median(retiree_income)\n",
    "gov_emp_median_income = st.median(gov_emp_income)\n",
    "businessman_median_income = st.median(businessman_income)\n",
    "unemployed_median_income = st.median(unemployed_income)\n",
    "student_median_income = st.median(student_income)\n",
    "decree_median_income = st.median(decree_income)\n",
    "display('employee_median', employee_median_income)\n",
    "display('companion_median', companion_median_income)\n",
    "display('retiree_median', retiree_median_income)\n",
    "display('gov_emp_median', gov_emp_median_income)\n",
    "display('businessman_median',businessman_median_income)\n",
    "display('unemployed_median', unemployed_median_income)\n",
    "display('student_median', student_median_income)\n",
    "display('decree_median', decree_median_income)\n",
    "\n",
    "for j in range(len(data)):\n",
    "    if (data['income_type'][j] == 'сотрудник' and (pd.isna(data['total_income'][j]) == True or pd.isnull(data['total_income'][j]) == True)):\n",
    "        data['total_income'][j] = employee_median_income\n",
    "    if (data['income_type'][j] == 'компаньон' and (pd.isna(data['total_income'][j]) == True or pd.isnull(data['total_income'][j]) == True)):\n",
    "        data['total_income'][j] = companion_median_income\n",
    "    if (data['income_type'][j] == 'пенсионер' and (pd.isna(data['total_income'][j]) == True or pd.isnull(data['total_income'][j]) == True)):\n",
    "        data['total_income'][j] = retiree_median_income\n",
    "    if (data['income_type'][j] == 'госслужащий' and (pd.isna(data['total_income'][j]) == True or pd.isnull(data['total_income'][j]) == True)):\n",
    "        data['total_income'][j] = gov_emp_median_income\n",
    "    if (data['income_type'][j] == 'предприниматель' and (pd.isna(data['total_income'][j]) == True or pd.isnull(data['total_income'][j]) == True)):\n",
    "        data['total_income'][j] = businessman_median_income\n",
    "    if (data['income_type'][j] == 'безработный' and (pd.isna(data['total_income'][j]) == True or pd.isnull(data['total_income'][j]) == True)):\n",
    "        data['total_income'][j] = unemployed_median_income\n",
    "    if (data['income_type'][j] == 'студент' and (pd.isna(data['total_income'][j]) == True or pd.isnull(data['total_income'][j]) == True)):\n",
    "        data['total_income'][j] = student_median_income\n",
    "    if (data['income_type'][j] == 'в декрете' and (pd.isna(data['total_income'][j]) == True or pd.isnull(data['total_income'][j]) == True)):\n",
    "        data['total_income'][j] = decree_median_income\n",
    "\n",
    "# в данном блоке заполняются пустые ячейки с количеством рабочих дней медианными значениями по группам клиентов        \n",
    "# блок переменных для days_employed\n",
    "employee_days_employed = []\n",
    "employee_median_days_employed = 0\n",
    "companion_days_employed = []\n",
    "companion_median_days_employed = 0\n",
    "retiree_days_employed = []\n",
    "retiree_median_days_employed = 0\n",
    "gov_emp_days_employed = []\n",
    "gov_emp_median_days_employed = 0\n",
    "businessman_days_employed = []\n",
    "businessman_median_days_employed = 0\n",
    "unemployed_days_employed = []\n",
    "unemployed_median_days_employed = 0\n",
    "student_days_employed = []\n",
    "student_median_days_employed = 0\n",
    "decree_days_employed = []\n",
    "decree_median_days_employed = 0\n",
    "\n",
    "for k in range(len(data)):\n",
    "    if ((data['days_employed'][k] > 0 or data['days_employed'][k] < 0) and data['income_type'][k] == 'сотрудник'):\n",
    "        employee_days_employed.append(data['days_employed'][k])\n",
    "    if ((data['days_employed'][k] > 0 or data['days_employed'][k] < 0) and data['income_type'][k] == 'компаньон'):\n",
    "        companion_days_employed.append(data['days_employed'][k])\n",
    "    if ((data['days_employed'][k] > 0 or data['days_employed'][k] < 0) and data['income_type'][k] == 'пенсионер'):\n",
    "        retiree_days_employed.append(data['days_employed'][k])\n",
    "    if ((data['days_employed'][k] > 0 or data['days_employed'][k] < 0) and data['income_type'][k] == 'госслужащий'):\n",
    "        gov_emp_days_employed.append(data['days_employed'][k])\n",
    "    if ((data['days_employed'][k] > 0 or data['days_employed'][k] < 0) and data['income_type'][k] == 'предприниматель'):\n",
    "        businessman_days_employed.append(data['days_employed'][k])\n",
    "    if ((data['days_employed'][k] > 0 or data['days_employed'][k] < 0) and data['income_type'][k] == 'безработный'):\n",
    "        unemployed_days_employed.append(data['days_employed'][k])\n",
    "    if ((data['days_employed'][k] > 0 or data['days_employed'][k] < 0) and data['income_type'][k] == 'студент'):\n",
    "        student_days_employed.append(data['days_employed'][k])\n",
    "    if ((data['days_employed'][k] > 0 or data['days_employed'][k] < 0) and data['income_type'][k] == 'в декрете'):\n",
    "        decree_days_employed.append(data['days_employed'][k])\n",
    "employee_median_days_employed = st.median(employee_days_employed)\n",
    "companion_median_days_employed = st.median(companion_days_employed) # ошибка\n",
    "retiree_median_days_employed = st.median(retiree_days_employed)\n",
    "gov_emp_median_days_employed = st.median(gov_emp_days_employed)\n",
    "businessman_median_days_employed = st.median(businessman_days_employed)\n",
    "unemployed_median_days_employed = st.median(unemployed_days_employed)\n",
    "student_median_days_employed = st.median(student_days_employed)\n",
    "decree_median_days_employed = st.median(decree_days_employed)\n",
    "display('employee_median_days_employed', employee_median_days_employed)\n",
    "display('companion_median_days_employed', companion_median_days_employed)\n",
    "display('retiree_median_days_employed', retiree_median_days_employed)\n",
    "display('gov_emp_median_days_employed', gov_emp_median_days_employed)\n",
    "display('businessman_median_days_employed',businessman_median_days_employed)\n",
    "display('unemployed_median_days_employed', unemployed_median_days_employed)\n",
    "display('student_median_days_employed', student_median_days_employed)\n",
    "display('decree_median_days_employed', decree_median_days_employed)\n",
    "\n",
    "for l in range(len(data)):\n",
    "    if (data['income_type'][l] == 'сотрудник' and (pd.isna(data['days_employed'][l]) == True or pd.isnull(data['days_employed'][l]) == True)):\n",
    "        data['days_employed'][l] = employee_median_days_employed\n",
    "    if (data['income_type'][l] == 'компаньон' and (pd.isna(data['days_employed'][l]) == True or pd.isnull(data['days_employed'][l]) == True)):\n",
    "        data['days_employed'][l] = companion_median_days_employed\n",
    "    if (data['income_type'][l] == 'пенсионер' and (pd.isna(data['days_employed'][l]) == True or pd.isnull(data['days_employed'][l]) == True)):\n",
    "        data['days_employed'][l] = retiree_median_days_employed\n",
    "    if (data['income_type'][l] == 'госслужащий' and (pd.isna(data['days_employed'][l]) == True or pd.isnull(data['days_employed'][l]) == True)):\n",
    "        data['days_employed'][l] = gov_emp_median_days_employed\n",
    "    if (data['income_type'][l] == 'предприниматель' and (pd.isna(data['days_employed'][l]) == True or pd.isnull(data['days_employed'][l]) == True)):\n",
    "        data['days_employed'][l] = businessman_median_days_employed\n",
    "    if (data['income_type'][l] == 'безработный' and (pd.isna(data['days_employed'][l]) == True or pd.isnull(data['days_employed'][l]) == True)):\n",
    "        data['days_employed'][l] = unemployed_median_days_employed\n",
    "    if (data['income_type'][l] == 'студент' and (pd.isna(data['days_employed'][l]) == True or pd.isnull(data['days_employed'][l]) == True)):\n",
    "        data['days_employed'][l] = student_median_days_employed\n",
    "    if (data['income_type'][l] == 'в декрете' and (pd.isna(data['days_employed'][l]) == True or pd.isnull(data['days_employed'][l]) == True)):\n",
    "        data['days_employed'][l] = decree_median_days_employed\n",
    "\n",
    "\n",
    "# подсчет/проверка наличия пропусков после замены\n",
    "display(data.isna().sum()) # NaN\n",
    "display(data.isnull().sum()) # '0'\n"
   ]
  },
  {
   "cell_type": "markdown",
   "metadata": {},
   "source": [
    "# **Вывод**"
   ]
  },
  {
   "cell_type": "markdown",
   "metadata": {},
   "source": [
    "Входные данные были проверены на наличие пропусков, обнаружено 2174 пропуска в столбцах 'days_employed' и 'total_income'.\n",
    "Не все пропущенные значения влияют на исследование. Возможной причиной отсутствия данных  в указанных выше позициях в связанных друг с другом столбцах может быть заполнение анкет людьми, которые не работали/официально не были трудоустроены и не получали официальный доход соответственно. Достаточно заменить их медианой по категориям занятости каждой из целевых групп для исследования, чтобы не потерять массивы информации. "
   ]
  },
  {
   "cell_type": "markdown",
   "metadata": {},
   "source": [
    "### Замена типа данных"
   ]
  },
  {
   "cell_type": "code",
   "execution_count": 3,
   "metadata": {
    "scrolled": true
   },
   "outputs": [
    {
     "data": {
      "text/html": [
       "<div>\n",
       "<style scoped>\n",
       "    .dataframe tbody tr th:only-of-type {\n",
       "        vertical-align: middle;\n",
       "    }\n",
       "\n",
       "    .dataframe tbody tr th {\n",
       "        vertical-align: top;\n",
       "    }\n",
       "\n",
       "    .dataframe thead th {\n",
       "        text-align: right;\n",
       "    }\n",
       "</style>\n",
       "<table border=\"1\" class=\"dataframe\">\n",
       "  <thead>\n",
       "    <tr style=\"text-align: right;\">\n",
       "      <th></th>\n",
       "      <th>children</th>\n",
       "      <th>days_employed</th>\n",
       "      <th>dob_years</th>\n",
       "      <th>education</th>\n",
       "      <th>education_id</th>\n",
       "      <th>family_status</th>\n",
       "      <th>family_status_id</th>\n",
       "      <th>gender</th>\n",
       "      <th>income_type</th>\n",
       "      <th>debt</th>\n",
       "      <th>total_income</th>\n",
       "      <th>purpose</th>\n",
       "    </tr>\n",
       "  </thead>\n",
       "  <tbody>\n",
       "    <tr>\n",
       "      <td>0</td>\n",
       "      <td>1</td>\n",
       "      <td>8437</td>\n",
       "      <td>42</td>\n",
       "      <td>высшее</td>\n",
       "      <td>0</td>\n",
       "      <td>женат / замужем</td>\n",
       "      <td>0</td>\n",
       "      <td>F</td>\n",
       "      <td>сотрудник</td>\n",
       "      <td>0</td>\n",
       "      <td>253875</td>\n",
       "      <td>покупка жилья</td>\n",
       "    </tr>\n",
       "    <tr>\n",
       "      <td>1</td>\n",
       "      <td>1</td>\n",
       "      <td>4024</td>\n",
       "      <td>36</td>\n",
       "      <td>среднее</td>\n",
       "      <td>1</td>\n",
       "      <td>женат / замужем</td>\n",
       "      <td>0</td>\n",
       "      <td>F</td>\n",
       "      <td>сотрудник</td>\n",
       "      <td>0</td>\n",
       "      <td>112080</td>\n",
       "      <td>приобретение автомобиля</td>\n",
       "    </tr>\n",
       "    <tr>\n",
       "      <td>2</td>\n",
       "      <td>0</td>\n",
       "      <td>5623</td>\n",
       "      <td>33</td>\n",
       "      <td>Среднее</td>\n",
       "      <td>1</td>\n",
       "      <td>женат / замужем</td>\n",
       "      <td>0</td>\n",
       "      <td>M</td>\n",
       "      <td>сотрудник</td>\n",
       "      <td>0</td>\n",
       "      <td>145885</td>\n",
       "      <td>покупка жилья</td>\n",
       "    </tr>\n",
       "    <tr>\n",
       "      <td>3</td>\n",
       "      <td>3</td>\n",
       "      <td>4124</td>\n",
       "      <td>32</td>\n",
       "      <td>среднее</td>\n",
       "      <td>1</td>\n",
       "      <td>женат / замужем</td>\n",
       "      <td>0</td>\n",
       "      <td>M</td>\n",
       "      <td>сотрудник</td>\n",
       "      <td>0</td>\n",
       "      <td>267628</td>\n",
       "      <td>дополнительное образование</td>\n",
       "    </tr>\n",
       "    <tr>\n",
       "      <td>4</td>\n",
       "      <td>0</td>\n",
       "      <td>340266</td>\n",
       "      <td>53</td>\n",
       "      <td>среднее</td>\n",
       "      <td>1</td>\n",
       "      <td>гражданский брак</td>\n",
       "      <td>1</td>\n",
       "      <td>F</td>\n",
       "      <td>пенсионер</td>\n",
       "      <td>0</td>\n",
       "      <td>158616</td>\n",
       "      <td>сыграть свадьбу</td>\n",
       "    </tr>\n",
       "    <tr>\n",
       "      <td>...</td>\n",
       "      <td>...</td>\n",
       "      <td>...</td>\n",
       "      <td>...</td>\n",
       "      <td>...</td>\n",
       "      <td>...</td>\n",
       "      <td>...</td>\n",
       "      <td>...</td>\n",
       "      <td>...</td>\n",
       "      <td>...</td>\n",
       "      <td>...</td>\n",
       "      <td>...</td>\n",
       "      <td>...</td>\n",
       "    </tr>\n",
       "    <tr>\n",
       "      <td>21520</td>\n",
       "      <td>1</td>\n",
       "      <td>4529</td>\n",
       "      <td>43</td>\n",
       "      <td>среднее</td>\n",
       "      <td>1</td>\n",
       "      <td>гражданский брак</td>\n",
       "      <td>1</td>\n",
       "      <td>F</td>\n",
       "      <td>компаньон</td>\n",
       "      <td>0</td>\n",
       "      <td>224791</td>\n",
       "      <td>операции с жильем</td>\n",
       "    </tr>\n",
       "    <tr>\n",
       "      <td>21521</td>\n",
       "      <td>0</td>\n",
       "      <td>343937</td>\n",
       "      <td>67</td>\n",
       "      <td>среднее</td>\n",
       "      <td>1</td>\n",
       "      <td>женат / замужем</td>\n",
       "      <td>0</td>\n",
       "      <td>F</td>\n",
       "      <td>пенсионер</td>\n",
       "      <td>0</td>\n",
       "      <td>155999</td>\n",
       "      <td>сделка с автомобилем</td>\n",
       "    </tr>\n",
       "    <tr>\n",
       "      <td>21522</td>\n",
       "      <td>1</td>\n",
       "      <td>2113</td>\n",
       "      <td>38</td>\n",
       "      <td>среднее</td>\n",
       "      <td>1</td>\n",
       "      <td>гражданский брак</td>\n",
       "      <td>1</td>\n",
       "      <td>M</td>\n",
       "      <td>сотрудник</td>\n",
       "      <td>1</td>\n",
       "      <td>89672</td>\n",
       "      <td>недвижимость</td>\n",
       "    </tr>\n",
       "    <tr>\n",
       "      <td>21523</td>\n",
       "      <td>3</td>\n",
       "      <td>3112</td>\n",
       "      <td>38</td>\n",
       "      <td>среднее</td>\n",
       "      <td>1</td>\n",
       "      <td>женат / замужем</td>\n",
       "      <td>0</td>\n",
       "      <td>M</td>\n",
       "      <td>сотрудник</td>\n",
       "      <td>1</td>\n",
       "      <td>244093</td>\n",
       "      <td>на покупку своего автомобиля</td>\n",
       "    </tr>\n",
       "    <tr>\n",
       "      <td>21524</td>\n",
       "      <td>2</td>\n",
       "      <td>1984</td>\n",
       "      <td>40</td>\n",
       "      <td>среднее</td>\n",
       "      <td>1</td>\n",
       "      <td>женат / замужем</td>\n",
       "      <td>0</td>\n",
       "      <td>F</td>\n",
       "      <td>сотрудник</td>\n",
       "      <td>0</td>\n",
       "      <td>82047</td>\n",
       "      <td>на покупку автомобиля</td>\n",
       "    </tr>\n",
       "  </tbody>\n",
       "</table>\n",
       "<p>21525 rows × 12 columns</p>\n",
       "</div>"
      ],
      "text/plain": [
       "       children  days_employed  dob_years education  education_id  \\\n",
       "0             1           8437         42    высшее             0   \n",
       "1             1           4024         36   среднее             1   \n",
       "2             0           5623         33   Среднее             1   \n",
       "3             3           4124         32   среднее             1   \n",
       "4             0         340266         53   среднее             1   \n",
       "...         ...            ...        ...       ...           ...   \n",
       "21520         1           4529         43   среднее             1   \n",
       "21521         0         343937         67   среднее             1   \n",
       "21522         1           2113         38   среднее             1   \n",
       "21523         3           3112         38   среднее             1   \n",
       "21524         2           1984         40   среднее             1   \n",
       "\n",
       "          family_status  family_status_id gender income_type  debt  \\\n",
       "0       женат / замужем                 0      F   сотрудник     0   \n",
       "1       женат / замужем                 0      F   сотрудник     0   \n",
       "2       женат / замужем                 0      M   сотрудник     0   \n",
       "3       женат / замужем                 0      M   сотрудник     0   \n",
       "4      гражданский брак                 1      F   пенсионер     0   \n",
       "...                 ...               ...    ...         ...   ...   \n",
       "21520  гражданский брак                 1      F   компаньон     0   \n",
       "21521   женат / замужем                 0      F   пенсионер     0   \n",
       "21522  гражданский брак                 1      M   сотрудник     1   \n",
       "21523   женат / замужем                 0      M   сотрудник     1   \n",
       "21524   женат / замужем                 0      F   сотрудник     0   \n",
       "\n",
       "       total_income                       purpose  \n",
       "0            253875                 покупка жилья  \n",
       "1            112080       приобретение автомобиля  \n",
       "2            145885                 покупка жилья  \n",
       "3            267628    дополнительное образование  \n",
       "4            158616               сыграть свадьбу  \n",
       "...             ...                           ...  \n",
       "21520        224791             операции с жильем  \n",
       "21521        155999          сделка с автомобилем  \n",
       "21522         89672                  недвижимость  \n",
       "21523        244093  на покупку своего автомобиля  \n",
       "21524         82047         на покупку автомобиля  \n",
       "\n",
       "[21525 rows x 12 columns]"
      ]
     },
     "metadata": {},
     "output_type": "display_data"
    },
    {
     "name": "stdout",
     "output_type": "stream",
     "text": [
      "<class 'pandas.core.frame.DataFrame'>\n",
      "RangeIndex: 21525 entries, 0 to 21524\n",
      "Data columns (total 12 columns):\n",
      "children            21525 non-null int64\n",
      "days_employed       21525 non-null int64\n",
      "dob_years           21525 non-null int64\n",
      "education           21525 non-null object\n",
      "education_id        21525 non-null int64\n",
      "family_status       21525 non-null object\n",
      "family_status_id    21525 non-null int64\n",
      "gender              21525 non-null object\n",
      "income_type         21525 non-null object\n",
      "debt                21525 non-null int64\n",
      "total_income        21525 non-null int64\n",
      "purpose             21525 non-null object\n",
      "dtypes: int64(7), object(5)\n",
      "memory usage: 2.0+ MB\n"
     ]
    }
   ],
   "source": [
    "# воспользуемся методом astype для перевода вещественного формата данных в целочисленный и избавимся от минусов\n",
    "try:\n",
    "    data['days_employed'] = abs(data['days_employed'].astype('int64'))\n",
    "    data['total_income'] = data['total_income'].astype('int64')\n",
    "except:\n",
    "    print('В данных по опыту присутствует другая необработанная ошибка, необходимо проанализировать столбец поподробнее')\n",
    "    \n",
    "display(data) # проверка на предмет наличия минусов\n",
    "data.info() # проверка на предмет изменения типа данных в столбце"
   ]
  },
  {
   "cell_type": "markdown",
   "metadata": {},
   "source": [
    "**Вывод**"
   ]
  },
  {
   "cell_type": "markdown",
   "metadata": {},
   "source": [
    "Была произведена замена вещественного типа данных на целочисленный в стобце 'days_employed' и 'total_income' методом astype() с использованием конструкции try/except, т.к. стандартный метод to_numeric() мог бы быть использован исключительно в случаях с работой со строками, а в данном случае исходный тип данных вещественный, кроме того конструкция try/except помогает в случае появления возможных непредвиденных исходных данных(нечисловых типов) для используемого метода. По итогу изменения проведена визуальная проверка массива и проверка типа преобразованного столбца данных. Отрицательные значения были заменены на положительные методом abs() для удобства восприятия данных по опыту."
   ]
  },
  {
   "cell_type": "markdown",
   "metadata": {},
   "source": [
    "### Обработка дубликатов"
   ]
  },
  {
   "cell_type": "code",
   "execution_count": 4,
   "metadata": {
    "scrolled": true
   },
   "outputs": [
    {
     "data": {
      "text/plain": [
       "среднее                13750\n",
       "высшее                  4718\n",
       "СРЕДНЕЕ                  772\n",
       "Среднее                  711\n",
       "неоконченное высшее      668\n",
       "ВЫСШЕЕ                   274\n",
       "Высшее                   268\n",
       "начальное                250\n",
       "Неоконченное высшее       47\n",
       "НЕОКОНЧЕННОЕ ВЫСШЕЕ       29\n",
       "НАЧАЛЬНОЕ                 17\n",
       "Начальное                 15\n",
       "ученая степень             4\n",
       "УЧЕНАЯ СТЕПЕНЬ             1\n",
       "Ученая степень             1\n",
       "Name: education, dtype: int64"
      ]
     },
     "metadata": {},
     "output_type": "display_data"
    },
    {
     "data": {
      "text/plain": [
       "среднее                15233\n",
       "высшее                  5260\n",
       "неоконченное высшее      744\n",
       "начальное                282\n",
       "ученая степень             6\n",
       "Name: education, dtype: int64"
      ]
     },
     "metadata": {},
     "output_type": "display_data"
    },
    {
     "data": {
      "text/plain": [
       "женат / замужем          12380\n",
       "гражданский брак          4177\n",
       "Не женат / не замужем     2813\n",
       "в разводе                 1195\n",
       "вдовец / вдова             960\n",
       "Name: family_status, dtype: int64"
      ]
     },
     "metadata": {},
     "output_type": "display_data"
    },
    {
     "data": {
      "text/plain": [
       "женат / замужем          12380\n",
       "гражданский брак          4177\n",
       "не женат / не замужем     2813\n",
       "в разводе                 1195\n",
       "вдовец / вдова             960\n",
       "Name: family_status, dtype: int64"
      ]
     },
     "metadata": {},
     "output_type": "display_data"
    },
    {
     "data": {
      "text/plain": [
       "F      14236\n",
       "M       7288\n",
       "XNA        1\n",
       "Name: gender, dtype: int64"
      ]
     },
     "metadata": {},
     "output_type": "display_data"
    },
    {
     "data": {
      "text/plain": [
       "сотрудник          11119\n",
       "компаньон           5085\n",
       "пенсионер           3856\n",
       "госслужащий         1459\n",
       "предприниматель        2\n",
       "безработный            2\n",
       "студент                1\n",
       "в декрете              1\n",
       "Name: income_type, dtype: int64"
      ]
     },
     "metadata": {},
     "output_type": "display_data"
    },
    {
     "data": {
      "text/plain": [
       "свадьба                                   797\n",
       "на проведение свадьбы                     777\n",
       "сыграть свадьбу                           774\n",
       "операции с недвижимостью                  676\n",
       "покупка коммерческой недвижимости         664\n",
       "покупка жилья для сдачи                   653\n",
       "операции с жильем                         653\n",
       "операции с коммерческой недвижимостью     651\n",
       "жилье                                     647\n",
       "покупка жилья                             647\n",
       "покупка жилья для семьи                   641\n",
       "строительство собственной недвижимости    635\n",
       "недвижимость                              634\n",
       "операции со своей недвижимостью           630\n",
       "строительство жилой недвижимости          626\n",
       "покупка недвижимости                      624\n",
       "строительство недвижимости                620\n",
       "покупка своего жилья                      620\n",
       "ремонт жилью                              612\n",
       "покупка жилой недвижимости                607\n",
       "на покупку своего автомобиля              505\n",
       "заняться высшим образованием              496\n",
       "автомобиль                                495\n",
       "сделка с подержанным автомобилем          489\n",
       "свой автомобиль                           480\n",
       "на покупку подержанного автомобиля        479\n",
       "автомобили                                478\n",
       "на покупку автомобиля                     472\n",
       "дополнительное образование                462\n",
       "приобретение автомобиля                   462\n",
       "сделка с автомобилем                      455\n",
       "высшее образование                        453\n",
       "образование                               447\n",
       "получение дополнительного образования     447\n",
       "получение образования                     443\n",
       "профильное образование                    436\n",
       "получение высшего образования             426\n",
       "заняться образованием                     412\n",
       "Name: purpose, dtype: int64"
      ]
     },
     "metadata": {},
     "output_type": "display_data"
    },
    {
     "data": {
      "text/plain": [
       "142594    1105\n",
       "172357     509\n",
       "118514     414\n",
       "150447     147\n",
       "126262       3\n",
       "          ... \n",
       "101387       1\n",
       "138249       1\n",
       "280240       1\n",
       "390148       1\n",
       "264193       1\n",
       "Name: total_income, Length: 18608, dtype: int64"
      ]
     },
     "metadata": {},
     "output_type": "display_data"
    },
    {
     "data": {
      "text/html": [
       "<div>\n",
       "<style scoped>\n",
       "    .dataframe tbody tr th:only-of-type {\n",
       "        vertical-align: middle;\n",
       "    }\n",
       "\n",
       "    .dataframe tbody tr th {\n",
       "        vertical-align: top;\n",
       "    }\n",
       "\n",
       "    .dataframe thead th {\n",
       "        text-align: right;\n",
       "    }\n",
       "</style>\n",
       "<table border=\"1\" class=\"dataframe\">\n",
       "  <thead>\n",
       "    <tr style=\"text-align: right;\">\n",
       "      <th></th>\n",
       "      <th>children</th>\n",
       "      <th>days_employed</th>\n",
       "      <th>dob_years</th>\n",
       "      <th>education</th>\n",
       "      <th>education_id</th>\n",
       "      <th>family_status</th>\n",
       "      <th>family_status_id</th>\n",
       "      <th>gender</th>\n",
       "      <th>income_type</th>\n",
       "      <th>debt</th>\n",
       "      <th>total_income</th>\n",
       "      <th>purpose</th>\n",
       "    </tr>\n",
       "  </thead>\n",
       "  <tbody>\n",
       "    <tr>\n",
       "      <td>2849</td>\n",
       "      <td>0</td>\n",
       "      <td>1574</td>\n",
       "      <td>41</td>\n",
       "      <td>среднее</td>\n",
       "      <td>1</td>\n",
       "      <td>женат / замужем</td>\n",
       "      <td>0</td>\n",
       "      <td>F</td>\n",
       "      <td>сотрудник</td>\n",
       "      <td>0</td>\n",
       "      <td>142594</td>\n",
       "      <td>покупка жилья для семьи</td>\n",
       "    </tr>\n",
       "    <tr>\n",
       "      <td>3290</td>\n",
       "      <td>0</td>\n",
       "      <td>365213</td>\n",
       "      <td>58</td>\n",
       "      <td>среднее</td>\n",
       "      <td>1</td>\n",
       "      <td>гражданский брак</td>\n",
       "      <td>1</td>\n",
       "      <td>F</td>\n",
       "      <td>пенсионер</td>\n",
       "      <td>0</td>\n",
       "      <td>118514</td>\n",
       "      <td>сыграть свадьбу</td>\n",
       "    </tr>\n",
       "    <tr>\n",
       "      <td>4182</td>\n",
       "      <td>1</td>\n",
       "      <td>1574</td>\n",
       "      <td>34</td>\n",
       "      <td>высшее</td>\n",
       "      <td>0</td>\n",
       "      <td>гражданский брак</td>\n",
       "      <td>1</td>\n",
       "      <td>F</td>\n",
       "      <td>сотрудник</td>\n",
       "      <td>0</td>\n",
       "      <td>142594</td>\n",
       "      <td>свадьба</td>\n",
       "    </tr>\n",
       "    <tr>\n",
       "      <td>4851</td>\n",
       "      <td>0</td>\n",
       "      <td>365213</td>\n",
       "      <td>60</td>\n",
       "      <td>среднее</td>\n",
       "      <td>1</td>\n",
       "      <td>гражданский брак</td>\n",
       "      <td>1</td>\n",
       "      <td>F</td>\n",
       "      <td>пенсионер</td>\n",
       "      <td>0</td>\n",
       "      <td>118514</td>\n",
       "      <td>свадьба</td>\n",
       "    </tr>\n",
       "    <tr>\n",
       "      <td>5557</td>\n",
       "      <td>0</td>\n",
       "      <td>365213</td>\n",
       "      <td>58</td>\n",
       "      <td>среднее</td>\n",
       "      <td>1</td>\n",
       "      <td>гражданский брак</td>\n",
       "      <td>1</td>\n",
       "      <td>F</td>\n",
       "      <td>пенсионер</td>\n",
       "      <td>0</td>\n",
       "      <td>118514</td>\n",
       "      <td>сыграть свадьбу</td>\n",
       "    </tr>\n",
       "    <tr>\n",
       "      <td>6312</td>\n",
       "      <td>0</td>\n",
       "      <td>1574</td>\n",
       "      <td>30</td>\n",
       "      <td>среднее</td>\n",
       "      <td>1</td>\n",
       "      <td>женат / замужем</td>\n",
       "      <td>0</td>\n",
       "      <td>M</td>\n",
       "      <td>сотрудник</td>\n",
       "      <td>0</td>\n",
       "      <td>142594</td>\n",
       "      <td>строительство жилой недвижимости</td>\n",
       "    </tr>\n",
       "    <tr>\n",
       "      <td>7808</td>\n",
       "      <td>0</td>\n",
       "      <td>365213</td>\n",
       "      <td>57</td>\n",
       "      <td>среднее</td>\n",
       "      <td>1</td>\n",
       "      <td>гражданский брак</td>\n",
       "      <td>1</td>\n",
       "      <td>F</td>\n",
       "      <td>пенсионер</td>\n",
       "      <td>0</td>\n",
       "      <td>118514</td>\n",
       "      <td>на проведение свадьбы</td>\n",
       "    </tr>\n",
       "    <tr>\n",
       "      <td>7921</td>\n",
       "      <td>0</td>\n",
       "      <td>365213</td>\n",
       "      <td>64</td>\n",
       "      <td>высшее</td>\n",
       "      <td>0</td>\n",
       "      <td>гражданский брак</td>\n",
       "      <td>1</td>\n",
       "      <td>F</td>\n",
       "      <td>пенсионер</td>\n",
       "      <td>0</td>\n",
       "      <td>118514</td>\n",
       "      <td>на проведение свадьбы</td>\n",
       "    </tr>\n",
       "    <tr>\n",
       "      <td>7938</td>\n",
       "      <td>0</td>\n",
       "      <td>365213</td>\n",
       "      <td>71</td>\n",
       "      <td>среднее</td>\n",
       "      <td>1</td>\n",
       "      <td>гражданский брак</td>\n",
       "      <td>1</td>\n",
       "      <td>F</td>\n",
       "      <td>пенсионер</td>\n",
       "      <td>0</td>\n",
       "      <td>118514</td>\n",
       "      <td>на проведение свадьбы</td>\n",
       "    </tr>\n",
       "    <tr>\n",
       "      <td>8583</td>\n",
       "      <td>0</td>\n",
       "      <td>365213</td>\n",
       "      <td>58</td>\n",
       "      <td>высшее</td>\n",
       "      <td>0</td>\n",
       "      <td>не женат / не замужем</td>\n",
       "      <td>4</td>\n",
       "      <td>F</td>\n",
       "      <td>пенсионер</td>\n",
       "      <td>0</td>\n",
       "      <td>118514</td>\n",
       "      <td>дополнительное образование</td>\n",
       "    </tr>\n",
       "    <tr>\n",
       "      <td>9238</td>\n",
       "      <td>2</td>\n",
       "      <td>1574</td>\n",
       "      <td>34</td>\n",
       "      <td>среднее</td>\n",
       "      <td>1</td>\n",
       "      <td>женат / замужем</td>\n",
       "      <td>0</td>\n",
       "      <td>F</td>\n",
       "      <td>сотрудник</td>\n",
       "      <td>0</td>\n",
       "      <td>142594</td>\n",
       "      <td>покупка жилья для сдачи</td>\n",
       "    </tr>\n",
       "    <tr>\n",
       "      <td>9528</td>\n",
       "      <td>0</td>\n",
       "      <td>365213</td>\n",
       "      <td>66</td>\n",
       "      <td>среднее</td>\n",
       "      <td>1</td>\n",
       "      <td>вдовец / вдова</td>\n",
       "      <td>2</td>\n",
       "      <td>F</td>\n",
       "      <td>пенсионер</td>\n",
       "      <td>0</td>\n",
       "      <td>118514</td>\n",
       "      <td>операции со своей недвижимостью</td>\n",
       "    </tr>\n",
       "    <tr>\n",
       "      <td>9604</td>\n",
       "      <td>0</td>\n",
       "      <td>365213</td>\n",
       "      <td>71</td>\n",
       "      <td>среднее</td>\n",
       "      <td>1</td>\n",
       "      <td>гражданский брак</td>\n",
       "      <td>1</td>\n",
       "      <td>F</td>\n",
       "      <td>пенсионер</td>\n",
       "      <td>0</td>\n",
       "      <td>118514</td>\n",
       "      <td>на проведение свадьбы</td>\n",
       "    </tr>\n",
       "    <tr>\n",
       "      <td>9627</td>\n",
       "      <td>0</td>\n",
       "      <td>365213</td>\n",
       "      <td>56</td>\n",
       "      <td>среднее</td>\n",
       "      <td>1</td>\n",
       "      <td>женат / замужем</td>\n",
       "      <td>0</td>\n",
       "      <td>F</td>\n",
       "      <td>пенсионер</td>\n",
       "      <td>0</td>\n",
       "      <td>118514</td>\n",
       "      <td>операции со своей недвижимостью</td>\n",
       "    </tr>\n",
       "    <tr>\n",
       "      <td>9855</td>\n",
       "      <td>0</td>\n",
       "      <td>365213</td>\n",
       "      <td>62</td>\n",
       "      <td>среднее</td>\n",
       "      <td>1</td>\n",
       "      <td>женат / замужем</td>\n",
       "      <td>0</td>\n",
       "      <td>F</td>\n",
       "      <td>пенсионер</td>\n",
       "      <td>0</td>\n",
       "      <td>118514</td>\n",
       "      <td>получение дополнительного образования</td>\n",
       "    </tr>\n",
       "    <tr>\n",
       "      <td>10462</td>\n",
       "      <td>0</td>\n",
       "      <td>365213</td>\n",
       "      <td>62</td>\n",
       "      <td>среднее</td>\n",
       "      <td>1</td>\n",
       "      <td>женат / замужем</td>\n",
       "      <td>0</td>\n",
       "      <td>F</td>\n",
       "      <td>пенсионер</td>\n",
       "      <td>0</td>\n",
       "      <td>118514</td>\n",
       "      <td>покупка коммерческой недвижимости</td>\n",
       "    </tr>\n",
       "    <tr>\n",
       "      <td>10697</td>\n",
       "      <td>0</td>\n",
       "      <td>1547</td>\n",
       "      <td>40</td>\n",
       "      <td>среднее</td>\n",
       "      <td>1</td>\n",
       "      <td>гражданский брак</td>\n",
       "      <td>1</td>\n",
       "      <td>F</td>\n",
       "      <td>компаньон</td>\n",
       "      <td>0</td>\n",
       "      <td>172357</td>\n",
       "      <td>сыграть свадьбу</td>\n",
       "    </tr>\n",
       "    <tr>\n",
       "      <td>10864</td>\n",
       "      <td>0</td>\n",
       "      <td>365213</td>\n",
       "      <td>62</td>\n",
       "      <td>среднее</td>\n",
       "      <td>1</td>\n",
       "      <td>женат / замужем</td>\n",
       "      <td>0</td>\n",
       "      <td>F</td>\n",
       "      <td>пенсионер</td>\n",
       "      <td>0</td>\n",
       "      <td>118514</td>\n",
       "      <td>ремонт жилью</td>\n",
       "    </tr>\n",
       "    <tr>\n",
       "      <td>10994</td>\n",
       "      <td>0</td>\n",
       "      <td>365213</td>\n",
       "      <td>62</td>\n",
       "      <td>среднее</td>\n",
       "      <td>1</td>\n",
       "      <td>женат / замужем</td>\n",
       "      <td>0</td>\n",
       "      <td>F</td>\n",
       "      <td>пенсионер</td>\n",
       "      <td>0</td>\n",
       "      <td>118514</td>\n",
       "      <td>ремонт жилью</td>\n",
       "    </tr>\n",
       "    <tr>\n",
       "      <td>11791</td>\n",
       "      <td>0</td>\n",
       "      <td>1574</td>\n",
       "      <td>47</td>\n",
       "      <td>среднее</td>\n",
       "      <td>1</td>\n",
       "      <td>женат / замужем</td>\n",
       "      <td>0</td>\n",
       "      <td>F</td>\n",
       "      <td>сотрудник</td>\n",
       "      <td>0</td>\n",
       "      <td>142594</td>\n",
       "      <td>строительство недвижимости</td>\n",
       "    </tr>\n",
       "    <tr>\n",
       "      <td>12373</td>\n",
       "      <td>0</td>\n",
       "      <td>1574</td>\n",
       "      <td>58</td>\n",
       "      <td>среднее</td>\n",
       "      <td>1</td>\n",
       "      <td>женат / замужем</td>\n",
       "      <td>0</td>\n",
       "      <td>M</td>\n",
       "      <td>сотрудник</td>\n",
       "      <td>0</td>\n",
       "      <td>142594</td>\n",
       "      <td>покупка недвижимости</td>\n",
       "    </tr>\n",
       "    <tr>\n",
       "      <td>12375</td>\n",
       "      <td>1</td>\n",
       "      <td>1574</td>\n",
       "      <td>37</td>\n",
       "      <td>среднее</td>\n",
       "      <td>1</td>\n",
       "      <td>женат / замужем</td>\n",
       "      <td>0</td>\n",
       "      <td>F</td>\n",
       "      <td>сотрудник</td>\n",
       "      <td>0</td>\n",
       "      <td>142594</td>\n",
       "      <td>покупка недвижимости</td>\n",
       "    </tr>\n",
       "    <tr>\n",
       "      <td>12736</td>\n",
       "      <td>0</td>\n",
       "      <td>365213</td>\n",
       "      <td>59</td>\n",
       "      <td>среднее</td>\n",
       "      <td>1</td>\n",
       "      <td>женат / замужем</td>\n",
       "      <td>0</td>\n",
       "      <td>F</td>\n",
       "      <td>пенсионер</td>\n",
       "      <td>0</td>\n",
       "      <td>118514</td>\n",
       "      <td>заняться образованием</td>\n",
       "    </tr>\n",
       "    <tr>\n",
       "      <td>13025</td>\n",
       "      <td>1</td>\n",
       "      <td>1574</td>\n",
       "      <td>44</td>\n",
       "      <td>среднее</td>\n",
       "      <td>1</td>\n",
       "      <td>женат / замужем</td>\n",
       "      <td>0</td>\n",
       "      <td>F</td>\n",
       "      <td>сотрудник</td>\n",
       "      <td>0</td>\n",
       "      <td>142594</td>\n",
       "      <td>сделка с подержанным автомобилем</td>\n",
       "    </tr>\n",
       "    <tr>\n",
       "      <td>13639</td>\n",
       "      <td>0</td>\n",
       "      <td>365213</td>\n",
       "      <td>64</td>\n",
       "      <td>среднее</td>\n",
       "      <td>1</td>\n",
       "      <td>женат / замужем</td>\n",
       "      <td>0</td>\n",
       "      <td>F</td>\n",
       "      <td>пенсионер</td>\n",
       "      <td>0</td>\n",
       "      <td>118514</td>\n",
       "      <td>автомобиль</td>\n",
       "    </tr>\n",
       "    <tr>\n",
       "      <td>13773</td>\n",
       "      <td>0</td>\n",
       "      <td>1574</td>\n",
       "      <td>35</td>\n",
       "      <td>среднее</td>\n",
       "      <td>1</td>\n",
       "      <td>гражданский брак</td>\n",
       "      <td>1</td>\n",
       "      <td>F</td>\n",
       "      <td>сотрудник</td>\n",
       "      <td>0</td>\n",
       "      <td>142594</td>\n",
       "      <td>сыграть свадьбу</td>\n",
       "    </tr>\n",
       "    <tr>\n",
       "      <td>13878</td>\n",
       "      <td>1</td>\n",
       "      <td>1547</td>\n",
       "      <td>31</td>\n",
       "      <td>среднее</td>\n",
       "      <td>1</td>\n",
       "      <td>женат / замужем</td>\n",
       "      <td>0</td>\n",
       "      <td>F</td>\n",
       "      <td>компаньон</td>\n",
       "      <td>0</td>\n",
       "      <td>172357</td>\n",
       "      <td>покупка жилья</td>\n",
       "    </tr>\n",
       "    <tr>\n",
       "      <td>13942</td>\n",
       "      <td>0</td>\n",
       "      <td>1574</td>\n",
       "      <td>44</td>\n",
       "      <td>среднее</td>\n",
       "      <td>1</td>\n",
       "      <td>женат / замужем</td>\n",
       "      <td>0</td>\n",
       "      <td>F</td>\n",
       "      <td>сотрудник</td>\n",
       "      <td>0</td>\n",
       "      <td>142594</td>\n",
       "      <td>приобретение автомобиля</td>\n",
       "    </tr>\n",
       "    <tr>\n",
       "      <td>14097</td>\n",
       "      <td>0</td>\n",
       "      <td>1574</td>\n",
       "      <td>48</td>\n",
       "      <td>среднее</td>\n",
       "      <td>1</td>\n",
       "      <td>гражданский брак</td>\n",
       "      <td>1</td>\n",
       "      <td>F</td>\n",
       "      <td>сотрудник</td>\n",
       "      <td>0</td>\n",
       "      <td>142594</td>\n",
       "      <td>свадьба</td>\n",
       "    </tr>\n",
       "    <tr>\n",
       "      <td>14432</td>\n",
       "      <td>2</td>\n",
       "      <td>2689</td>\n",
       "      <td>36</td>\n",
       "      <td>высшее</td>\n",
       "      <td>0</td>\n",
       "      <td>женат / замужем</td>\n",
       "      <td>0</td>\n",
       "      <td>F</td>\n",
       "      <td>госслужащий</td>\n",
       "      <td>0</td>\n",
       "      <td>150447</td>\n",
       "      <td>получение образования</td>\n",
       "    </tr>\n",
       "    <tr>\n",
       "      <td>14728</td>\n",
       "      <td>0</td>\n",
       "      <td>1574</td>\n",
       "      <td>46</td>\n",
       "      <td>среднее</td>\n",
       "      <td>1</td>\n",
       "      <td>гражданский брак</td>\n",
       "      <td>1</td>\n",
       "      <td>F</td>\n",
       "      <td>сотрудник</td>\n",
       "      <td>0</td>\n",
       "      <td>142594</td>\n",
       "      <td>покупка жилья для сдачи</td>\n",
       "    </tr>\n",
       "    <tr>\n",
       "      <td>14832</td>\n",
       "      <td>0</td>\n",
       "      <td>1574</td>\n",
       "      <td>50</td>\n",
       "      <td>среднее</td>\n",
       "      <td>1</td>\n",
       "      <td>не женат / не замужем</td>\n",
       "      <td>4</td>\n",
       "      <td>F</td>\n",
       "      <td>сотрудник</td>\n",
       "      <td>0</td>\n",
       "      <td>142594</td>\n",
       "      <td>недвижимость</td>\n",
       "    </tr>\n",
       "    <tr>\n",
       "      <td>15091</td>\n",
       "      <td>0</td>\n",
       "      <td>1574</td>\n",
       "      <td>58</td>\n",
       "      <td>среднее</td>\n",
       "      <td>1</td>\n",
       "      <td>гражданский брак</td>\n",
       "      <td>1</td>\n",
       "      <td>M</td>\n",
       "      <td>сотрудник</td>\n",
       "      <td>0</td>\n",
       "      <td>142594</td>\n",
       "      <td>на проведение свадьбы</td>\n",
       "    </tr>\n",
       "    <tr>\n",
       "      <td>15188</td>\n",
       "      <td>0</td>\n",
       "      <td>1574</td>\n",
       "      <td>60</td>\n",
       "      <td>среднее</td>\n",
       "      <td>1</td>\n",
       "      <td>женат / замужем</td>\n",
       "      <td>0</td>\n",
       "      <td>M</td>\n",
       "      <td>сотрудник</td>\n",
       "      <td>0</td>\n",
       "      <td>142594</td>\n",
       "      <td>покупка недвижимости</td>\n",
       "    </tr>\n",
       "    <tr>\n",
       "      <td>15273</td>\n",
       "      <td>0</td>\n",
       "      <td>365213</td>\n",
       "      <td>57</td>\n",
       "      <td>среднее</td>\n",
       "      <td>1</td>\n",
       "      <td>гражданский брак</td>\n",
       "      <td>1</td>\n",
       "      <td>F</td>\n",
       "      <td>пенсионер</td>\n",
       "      <td>0</td>\n",
       "      <td>118514</td>\n",
       "      <td>свадьба</td>\n",
       "    </tr>\n",
       "    <tr>\n",
       "      <td>15991</td>\n",
       "      <td>0</td>\n",
       "      <td>1547</td>\n",
       "      <td>51</td>\n",
       "      <td>среднее</td>\n",
       "      <td>1</td>\n",
       "      <td>гражданский брак</td>\n",
       "      <td>1</td>\n",
       "      <td>F</td>\n",
       "      <td>компаньон</td>\n",
       "      <td>0</td>\n",
       "      <td>172357</td>\n",
       "      <td>на проведение свадьбы</td>\n",
       "    </tr>\n",
       "    <tr>\n",
       "      <td>16176</td>\n",
       "      <td>0</td>\n",
       "      <td>1574</td>\n",
       "      <td>47</td>\n",
       "      <td>среднее</td>\n",
       "      <td>1</td>\n",
       "      <td>женат / замужем</td>\n",
       "      <td>0</td>\n",
       "      <td>F</td>\n",
       "      <td>сотрудник</td>\n",
       "      <td>0</td>\n",
       "      <td>142594</td>\n",
       "      <td>ремонт жилью</td>\n",
       "    </tr>\n",
       "    <tr>\n",
       "      <td>16204</td>\n",
       "      <td>0</td>\n",
       "      <td>365213</td>\n",
       "      <td>56</td>\n",
       "      <td>среднее</td>\n",
       "      <td>1</td>\n",
       "      <td>женат / замужем</td>\n",
       "      <td>0</td>\n",
       "      <td>F</td>\n",
       "      <td>пенсионер</td>\n",
       "      <td>0</td>\n",
       "      <td>118514</td>\n",
       "      <td>на покупку автомобиля</td>\n",
       "    </tr>\n",
       "    <tr>\n",
       "      <td>16378</td>\n",
       "      <td>0</td>\n",
       "      <td>1574</td>\n",
       "      <td>46</td>\n",
       "      <td>среднее</td>\n",
       "      <td>1</td>\n",
       "      <td>женат / замужем</td>\n",
       "      <td>0</td>\n",
       "      <td>F</td>\n",
       "      <td>сотрудник</td>\n",
       "      <td>0</td>\n",
       "      <td>142594</td>\n",
       "      <td>высшее образование</td>\n",
       "    </tr>\n",
       "    <tr>\n",
       "      <td>16902</td>\n",
       "      <td>2</td>\n",
       "      <td>1574</td>\n",
       "      <td>39</td>\n",
       "      <td>среднее</td>\n",
       "      <td>1</td>\n",
       "      <td>гражданский брак</td>\n",
       "      <td>1</td>\n",
       "      <td>F</td>\n",
       "      <td>сотрудник</td>\n",
       "      <td>0</td>\n",
       "      <td>142594</td>\n",
       "      <td>сыграть свадьбу</td>\n",
       "    </tr>\n",
       "    <tr>\n",
       "      <td>16904</td>\n",
       "      <td>1</td>\n",
       "      <td>1574</td>\n",
       "      <td>32</td>\n",
       "      <td>высшее</td>\n",
       "      <td>0</td>\n",
       "      <td>женат / замужем</td>\n",
       "      <td>0</td>\n",
       "      <td>F</td>\n",
       "      <td>сотрудник</td>\n",
       "      <td>0</td>\n",
       "      <td>142594</td>\n",
       "      <td>на покупку подержанного автомобиля</td>\n",
       "    </tr>\n",
       "    <tr>\n",
       "      <td>17338</td>\n",
       "      <td>0</td>\n",
       "      <td>365213</td>\n",
       "      <td>64</td>\n",
       "      <td>среднее</td>\n",
       "      <td>1</td>\n",
       "      <td>гражданский брак</td>\n",
       "      <td>1</td>\n",
       "      <td>F</td>\n",
       "      <td>пенсионер</td>\n",
       "      <td>0</td>\n",
       "      <td>118514</td>\n",
       "      <td>сыграть свадьбу</td>\n",
       "    </tr>\n",
       "    <tr>\n",
       "      <td>17379</td>\n",
       "      <td>0</td>\n",
       "      <td>1547</td>\n",
       "      <td>54</td>\n",
       "      <td>высшее</td>\n",
       "      <td>0</td>\n",
       "      <td>женат / замужем</td>\n",
       "      <td>0</td>\n",
       "      <td>M</td>\n",
       "      <td>компаньон</td>\n",
       "      <td>0</td>\n",
       "      <td>172357</td>\n",
       "      <td>операции с коммерческой недвижимостью</td>\n",
       "    </tr>\n",
       "    <tr>\n",
       "      <td>17755</td>\n",
       "      <td>1</td>\n",
       "      <td>1574</td>\n",
       "      <td>43</td>\n",
       "      <td>среднее</td>\n",
       "      <td>1</td>\n",
       "      <td>женат / замужем</td>\n",
       "      <td>0</td>\n",
       "      <td>M</td>\n",
       "      <td>сотрудник</td>\n",
       "      <td>0</td>\n",
       "      <td>142594</td>\n",
       "      <td>заняться образованием</td>\n",
       "    </tr>\n",
       "    <tr>\n",
       "      <td>17774</td>\n",
       "      <td>1</td>\n",
       "      <td>1547</td>\n",
       "      <td>40</td>\n",
       "      <td>среднее</td>\n",
       "      <td>1</td>\n",
       "      <td>гражданский брак</td>\n",
       "      <td>1</td>\n",
       "      <td>F</td>\n",
       "      <td>компаньон</td>\n",
       "      <td>0</td>\n",
       "      <td>172357</td>\n",
       "      <td>строительство жилой недвижимости</td>\n",
       "    </tr>\n",
       "    <tr>\n",
       "      <td>18328</td>\n",
       "      <td>0</td>\n",
       "      <td>1574</td>\n",
       "      <td>29</td>\n",
       "      <td>высшее</td>\n",
       "      <td>0</td>\n",
       "      <td>женат / замужем</td>\n",
       "      <td>0</td>\n",
       "      <td>M</td>\n",
       "      <td>сотрудник</td>\n",
       "      <td>0</td>\n",
       "      <td>142594</td>\n",
       "      <td>покупка жилой недвижимости</td>\n",
       "    </tr>\n",
       "    <tr>\n",
       "      <td>18349</td>\n",
       "      <td>1</td>\n",
       "      <td>2689</td>\n",
       "      <td>30</td>\n",
       "      <td>высшее</td>\n",
       "      <td>0</td>\n",
       "      <td>женат / замужем</td>\n",
       "      <td>0</td>\n",
       "      <td>F</td>\n",
       "      <td>госслужащий</td>\n",
       "      <td>0</td>\n",
       "      <td>150447</td>\n",
       "      <td>покупка жилья для семьи</td>\n",
       "    </tr>\n",
       "    <tr>\n",
       "      <td>18428</td>\n",
       "      <td>0</td>\n",
       "      <td>365213</td>\n",
       "      <td>64</td>\n",
       "      <td>среднее</td>\n",
       "      <td>1</td>\n",
       "      <td>женат / замужем</td>\n",
       "      <td>0</td>\n",
       "      <td>F</td>\n",
       "      <td>пенсионер</td>\n",
       "      <td>0</td>\n",
       "      <td>118514</td>\n",
       "      <td>жилье</td>\n",
       "    </tr>\n",
       "    <tr>\n",
       "      <td>18521</td>\n",
       "      <td>0</td>\n",
       "      <td>1574</td>\n",
       "      <td>56</td>\n",
       "      <td>среднее</td>\n",
       "      <td>1</td>\n",
       "      <td>гражданский брак</td>\n",
       "      <td>1</td>\n",
       "      <td>F</td>\n",
       "      <td>сотрудник</td>\n",
       "      <td>0</td>\n",
       "      <td>142594</td>\n",
       "      <td>сыграть свадьбу</td>\n",
       "    </tr>\n",
       "    <tr>\n",
       "      <td>18563</td>\n",
       "      <td>0</td>\n",
       "      <td>1574</td>\n",
       "      <td>54</td>\n",
       "      <td>среднее</td>\n",
       "      <td>1</td>\n",
       "      <td>женат / замужем</td>\n",
       "      <td>0</td>\n",
       "      <td>F</td>\n",
       "      <td>сотрудник</td>\n",
       "      <td>0</td>\n",
       "      <td>142594</td>\n",
       "      <td>операции со своей недвижимостью</td>\n",
       "    </tr>\n",
       "  </tbody>\n",
       "</table>\n",
       "</div>"
      ],
      "text/plain": [
       "       children  days_employed  dob_years education  education_id  \\\n",
       "2849          0           1574         41   среднее             1   \n",
       "3290          0         365213         58   среднее             1   \n",
       "4182          1           1574         34    высшее             0   \n",
       "4851          0         365213         60   среднее             1   \n",
       "5557          0         365213         58   среднее             1   \n",
       "6312          0           1574         30   среднее             1   \n",
       "7808          0         365213         57   среднее             1   \n",
       "7921          0         365213         64    высшее             0   \n",
       "7938          0         365213         71   среднее             1   \n",
       "8583          0         365213         58    высшее             0   \n",
       "9238          2           1574         34   среднее             1   \n",
       "9528          0         365213         66   среднее             1   \n",
       "9604          0         365213         71   среднее             1   \n",
       "9627          0         365213         56   среднее             1   \n",
       "9855          0         365213         62   среднее             1   \n",
       "10462         0         365213         62   среднее             1   \n",
       "10697         0           1547         40   среднее             1   \n",
       "10864         0         365213         62   среднее             1   \n",
       "10994         0         365213         62   среднее             1   \n",
       "11791         0           1574         47   среднее             1   \n",
       "12373         0           1574         58   среднее             1   \n",
       "12375         1           1574         37   среднее             1   \n",
       "12736         0         365213         59   среднее             1   \n",
       "13025         1           1574         44   среднее             1   \n",
       "13639         0         365213         64   среднее             1   \n",
       "13773         0           1574         35   среднее             1   \n",
       "13878         1           1547         31   среднее             1   \n",
       "13942         0           1574         44   среднее             1   \n",
       "14097         0           1574         48   среднее             1   \n",
       "14432         2           2689         36    высшее             0   \n",
       "14728         0           1574         46   среднее             1   \n",
       "14832         0           1574         50   среднее             1   \n",
       "15091         0           1574         58   среднее             1   \n",
       "15188         0           1574         60   среднее             1   \n",
       "15273         0         365213         57   среднее             1   \n",
       "15991         0           1547         51   среднее             1   \n",
       "16176         0           1574         47   среднее             1   \n",
       "16204         0         365213         56   среднее             1   \n",
       "16378         0           1574         46   среднее             1   \n",
       "16902         2           1574         39   среднее             1   \n",
       "16904         1           1574         32    высшее             0   \n",
       "17338         0         365213         64   среднее             1   \n",
       "17379         0           1547         54    высшее             0   \n",
       "17755         1           1574         43   среднее             1   \n",
       "17774         1           1547         40   среднее             1   \n",
       "18328         0           1574         29    высшее             0   \n",
       "18349         1           2689         30    высшее             0   \n",
       "18428         0         365213         64   среднее             1   \n",
       "18521         0           1574         56   среднее             1   \n",
       "18563         0           1574         54   среднее             1   \n",
       "\n",
       "               family_status  family_status_id gender  income_type  debt  \\\n",
       "2849         женат / замужем                 0      F    сотрудник     0   \n",
       "3290        гражданский брак                 1      F    пенсионер     0   \n",
       "4182        гражданский брак                 1      F    сотрудник     0   \n",
       "4851        гражданский брак                 1      F    пенсионер     0   \n",
       "5557        гражданский брак                 1      F    пенсионер     0   \n",
       "6312         женат / замужем                 0      M    сотрудник     0   \n",
       "7808        гражданский брак                 1      F    пенсионер     0   \n",
       "7921        гражданский брак                 1      F    пенсионер     0   \n",
       "7938        гражданский брак                 1      F    пенсионер     0   \n",
       "8583   не женат / не замужем                 4      F    пенсионер     0   \n",
       "9238         женат / замужем                 0      F    сотрудник     0   \n",
       "9528          вдовец / вдова                 2      F    пенсионер     0   \n",
       "9604        гражданский брак                 1      F    пенсионер     0   \n",
       "9627         женат / замужем                 0      F    пенсионер     0   \n",
       "9855         женат / замужем                 0      F    пенсионер     0   \n",
       "10462        женат / замужем                 0      F    пенсионер     0   \n",
       "10697       гражданский брак                 1      F    компаньон     0   \n",
       "10864        женат / замужем                 0      F    пенсионер     0   \n",
       "10994        женат / замужем                 0      F    пенсионер     0   \n",
       "11791        женат / замужем                 0      F    сотрудник     0   \n",
       "12373        женат / замужем                 0      M    сотрудник     0   \n",
       "12375        женат / замужем                 0      F    сотрудник     0   \n",
       "12736        женат / замужем                 0      F    пенсионер     0   \n",
       "13025        женат / замужем                 0      F    сотрудник     0   \n",
       "13639        женат / замужем                 0      F    пенсионер     0   \n",
       "13773       гражданский брак                 1      F    сотрудник     0   \n",
       "13878        женат / замужем                 0      F    компаньон     0   \n",
       "13942        женат / замужем                 0      F    сотрудник     0   \n",
       "14097       гражданский брак                 1      F    сотрудник     0   \n",
       "14432        женат / замужем                 0      F  госслужащий     0   \n",
       "14728       гражданский брак                 1      F    сотрудник     0   \n",
       "14832  не женат / не замужем                 4      F    сотрудник     0   \n",
       "15091       гражданский брак                 1      M    сотрудник     0   \n",
       "15188        женат / замужем                 0      M    сотрудник     0   \n",
       "15273       гражданский брак                 1      F    пенсионер     0   \n",
       "15991       гражданский брак                 1      F    компаньон     0   \n",
       "16176        женат / замужем                 0      F    сотрудник     0   \n",
       "16204        женат / замужем                 0      F    пенсионер     0   \n",
       "16378        женат / замужем                 0      F    сотрудник     0   \n",
       "16902       гражданский брак                 1      F    сотрудник     0   \n",
       "16904        женат / замужем                 0      F    сотрудник     0   \n",
       "17338       гражданский брак                 1      F    пенсионер     0   \n",
       "17379        женат / замужем                 0      M    компаньон     0   \n",
       "17755        женат / замужем                 0      M    сотрудник     0   \n",
       "17774       гражданский брак                 1      F    компаньон     0   \n",
       "18328        женат / замужем                 0      M    сотрудник     0   \n",
       "18349        женат / замужем                 0      F  госслужащий     0   \n",
       "18428        женат / замужем                 0      F    пенсионер     0   \n",
       "18521       гражданский брак                 1      F    сотрудник     0   \n",
       "18563        женат / замужем                 0      F    сотрудник     0   \n",
       "\n",
       "       total_income                                purpose  \n",
       "2849         142594                покупка жилья для семьи  \n",
       "3290         118514                        сыграть свадьбу  \n",
       "4182         142594                                свадьба  \n",
       "4851         118514                                свадьба  \n",
       "5557         118514                        сыграть свадьбу  \n",
       "6312         142594       строительство жилой недвижимости  \n",
       "7808         118514                  на проведение свадьбы  \n",
       "7921         118514                  на проведение свадьбы  \n",
       "7938         118514                  на проведение свадьбы  \n",
       "8583         118514             дополнительное образование  \n",
       "9238         142594                покупка жилья для сдачи  \n",
       "9528         118514        операции со своей недвижимостью  \n",
       "9604         118514                  на проведение свадьбы  \n",
       "9627         118514        операции со своей недвижимостью  \n",
       "9855         118514  получение дополнительного образования  \n",
       "10462        118514      покупка коммерческой недвижимости  \n",
       "10697        172357                        сыграть свадьбу  \n",
       "10864        118514                           ремонт жилью  \n",
       "10994        118514                           ремонт жилью  \n",
       "11791        142594             строительство недвижимости  \n",
       "12373        142594                   покупка недвижимости  \n",
       "12375        142594                   покупка недвижимости  \n",
       "12736        118514                  заняться образованием  \n",
       "13025        142594       сделка с подержанным автомобилем  \n",
       "13639        118514                             автомобиль  \n",
       "13773        142594                        сыграть свадьбу  \n",
       "13878        172357                          покупка жилья  \n",
       "13942        142594                приобретение автомобиля  \n",
       "14097        142594                                свадьба  \n",
       "14432        150447                  получение образования  \n",
       "14728        142594                покупка жилья для сдачи  \n",
       "14832        142594                           недвижимость  \n",
       "15091        142594                  на проведение свадьбы  \n",
       "15188        142594                   покупка недвижимости  \n",
       "15273        118514                                свадьба  \n",
       "15991        172357                  на проведение свадьбы  \n",
       "16176        142594                           ремонт жилью  \n",
       "16204        118514                  на покупку автомобиля  \n",
       "16378        142594                     высшее образование  \n",
       "16902        142594                        сыграть свадьбу  \n",
       "16904        142594     на покупку подержанного автомобиля  \n",
       "17338        118514                        сыграть свадьбу  \n",
       "17379        172357  операции с коммерческой недвижимостью  \n",
       "17755        142594                  заняться образованием  \n",
       "17774        172357       строительство жилой недвижимости  \n",
       "18328        142594             покупка жилой недвижимости  \n",
       "18349        150447                покупка жилья для семьи  \n",
       "18428        118514                                  жилье  \n",
       "18521        142594                        сыграть свадьбу  \n",
       "18563        142594        операции со своей недвижимостью  "
      ]
     },
     "metadata": {},
     "output_type": "display_data"
    },
    {
     "data": {
      "text/html": [
       "<div>\n",
       "<style scoped>\n",
       "    .dataframe tbody tr th:only-of-type {\n",
       "        vertical-align: middle;\n",
       "    }\n",
       "\n",
       "    .dataframe tbody tr th {\n",
       "        vertical-align: top;\n",
       "    }\n",
       "\n",
       "    .dataframe thead th {\n",
       "        text-align: right;\n",
       "    }\n",
       "</style>\n",
       "<table border=\"1\" class=\"dataframe\">\n",
       "  <thead>\n",
       "    <tr style=\"text-align: right;\">\n",
       "      <th></th>\n",
       "      <th>children</th>\n",
       "      <th>days_employed</th>\n",
       "      <th>dob_years</th>\n",
       "      <th>education</th>\n",
       "      <th>education_id</th>\n",
       "      <th>family_status</th>\n",
       "      <th>family_status_id</th>\n",
       "      <th>gender</th>\n",
       "      <th>income_type</th>\n",
       "      <th>debt</th>\n",
       "      <th>total_income</th>\n",
       "      <th>purpose</th>\n",
       "    </tr>\n",
       "  </thead>\n",
       "  <tbody>\n",
       "  </tbody>\n",
       "</table>\n",
       "</div>"
      ],
      "text/plain": [
       "Empty DataFrame\n",
       "Columns: [children, days_employed, dob_years, education, education_id, family_status, family_status_id, gender, income_type, debt, total_income, purpose]\n",
       "Index: []"
      ]
     },
     "metadata": {},
     "output_type": "display_data"
    },
    {
     "name": "stdout",
     "output_type": "stream",
     "text": [
      "<class 'pandas.core.frame.DataFrame'>\n",
      "RangeIndex: 21454 entries, 0 to 21453\n",
      "Data columns (total 12 columns):\n",
      "children            21454 non-null int64\n",
      "days_employed       21454 non-null int64\n",
      "dob_years           21454 non-null int64\n",
      "education           21454 non-null object\n",
      "education_id        21454 non-null int64\n",
      "family_status       21454 non-null object\n",
      "family_status_id    21454 non-null int64\n",
      "gender              21454 non-null object\n",
      "income_type         21454 non-null object\n",
      "debt                21454 non-null int64\n",
      "total_income        21454 non-null int64\n",
      "purpose             21454 non-null object\n",
      "dtypes: int64(7), object(5)\n",
      "memory usage: 2.0+ MB\n"
     ]
    }
   ],
   "source": [
    "# найдем дубликаты в столбцах education, family_status, gender, income_type, purpose методом value_counts()\n",
    "display(data['education'].value_counts()) # начальная проверка по столбцу 'education'\n",
    "data['education'] = data['education'].str.lower() # исправление\n",
    "display(data['education'].value_counts()) # конечная проверка по столбцу 'education'\n",
    "\n",
    "display(data['family_status'].value_counts()) # начальная проверка по столбцу 'family_status'\n",
    "data['family_status'] = data['family_status'].str.lower() # исправление\n",
    "display(data['family_status'].value_counts()) # конечная проверка по столбцу 'family_status'\n",
    "\n",
    "display(data['gender'].value_counts()) # начальная проверка по столбцу 'gender'\n",
    "\n",
    "display(data['income_type'].value_counts()) # начальная проверка по столбцу 'income_type'\n",
    "\n",
    "display(data['purpose'].value_counts()) # начальная проверка по столбцу 'purpose'\n",
    "\n",
    "display(data['total_income'].value_counts()) # начальная проверка по столбцу 'total_income'\n",
    "\n",
    "# работа с явными дубликатами\n",
    "duplicated_data = data[data.duplicated()].head(50)\n",
    "display(duplicated_data)\n",
    "data = data.drop_duplicates().reset_index(drop=True) # удаление дубликатов, перезагрузка индекса\n",
    "duplicated_data_1 = data[data.duplicated()].head(50)\n",
    "display(duplicated_data_1)\n",
    "\n",
    "# воспользуемся методом astype для перевода вещественного формата данных в целочисленный и избавимся от минусов\n",
    "try:\n",
    "    data['days_employed'] = abs(data['days_employed'].astype('int64'))\n",
    "    data['total_income'] = data['total_income'].astype('int64')\n",
    "except:\n",
    "    print('В данных по опыту присутствует другая необработанная ошибка, необходимо проанализировать столбец поподробнее')\n",
    "\n",
    "data.info()"
   ]
  },
  {
   "cell_type": "markdown",
   "metadata": {},
   "source": [
    "**Вывод**"
   ]
  },
  {
   "cell_type": "markdown",
   "metadata": {},
   "source": [
    "По итогам анализа на предмет наличия возможных недостатков в массиве данных были проверены следующие гипотезы и получен следующий результат по ним:\n",
    " 1. в массиве данных 'education' обнаружены и исправлены дублирования связанные с регистрами, возможные причины: технологические ошибки, низкий уровень дисциплины в части заполнения анкет служащими, отсутсвие четких критериев по заполнению информации через онлайн/оффлайн формы потенциальными клиентами;\n",
    " 2. в массиве данных 'family_status' обнаружено неудобное представление данных связанное с регистрами, исправлено понижением регистра;\n",
    " 3. в массиве данных 'gender' не обнаружены дублирования, однако присутствуют некоторые уникальные значения в виде гендернонейтральных индивидов;\n",
    " 4. в массиве данных 'income_type' обнаружены возможные дублирующие/пересекающиеся категории, такие как \"компаньон\" - \"предприниматель\", \"сотрудник\" - \"госслужащий\" - \"в декрете\". Данные категории возможно объединить, если получить дополнительную аналитическую связующию их информацию для коррекции групп данных;\n",
    " 5. в массиве данных 'purpose' обнаружены возможные неявные дублирования, которые будут обработаны на последующем этапе работы над проектом по анализу данных;\n",
    " 6. в массиве данных 'total_type' отражены ранее обнаруженные данные с пустыми нулевыми полями, возможно, при получении дополнительной аналитики данных людей можно поместить в \"безработный\", \"пенсионер\", \"студент\", \"в декрете\". \n",
    " 7. проверено наличие явных дубликатов, удаление явных дубликатов(71 строка) и перезагрузка индекса."
   ]
  },
  {
   "cell_type": "markdown",
   "metadata": {},
   "source": [
    "### Лемматизация"
   ]
  },
  {
   "cell_type": "code",
   "execution_count": 5,
   "metadata": {
    "scrolled": true
   },
   "outputs": [
    {
     "data": {
      "text/html": [
       "<div>\n",
       "<style scoped>\n",
       "    .dataframe tbody tr th:only-of-type {\n",
       "        vertical-align: middle;\n",
       "    }\n",
       "\n",
       "    .dataframe tbody tr th {\n",
       "        vertical-align: top;\n",
       "    }\n",
       "\n",
       "    .dataframe thead th {\n",
       "        text-align: right;\n",
       "    }\n",
       "</style>\n",
       "<table border=\"1\" class=\"dataframe\">\n",
       "  <thead>\n",
       "    <tr style=\"text-align: right;\">\n",
       "      <th></th>\n",
       "      <th>lemma</th>\n",
       "      <th>rating</th>\n",
       "    </tr>\n",
       "  </thead>\n",
       "  <tbody>\n",
       "    <tr>\n",
       "      <td>0</td>\n",
       "      <td></td>\n",
       "      <td>33570</td>\n",
       "    </tr>\n",
       "    <tr>\n",
       "      <td>1</td>\n",
       "      <td>\\n</td>\n",
       "      <td>21454</td>\n",
       "    </tr>\n",
       "    <tr>\n",
       "      <td>2</td>\n",
       "      <td>недвижимость</td>\n",
       "      <td>6351</td>\n",
       "    </tr>\n",
       "    <tr>\n",
       "      <td>3</td>\n",
       "      <td>покупка</td>\n",
       "      <td>5897</td>\n",
       "    </tr>\n",
       "    <tr>\n",
       "      <td>4</td>\n",
       "      <td>жилье</td>\n",
       "      <td>4460</td>\n",
       "    </tr>\n",
       "    <tr>\n",
       "      <td>5</td>\n",
       "      <td>автомобиль</td>\n",
       "      <td>4306</td>\n",
       "    </tr>\n",
       "    <tr>\n",
       "      <td>6</td>\n",
       "      <td>образование</td>\n",
       "      <td>4013</td>\n",
       "    </tr>\n",
       "    <tr>\n",
       "      <td>7</td>\n",
       "      <td>с</td>\n",
       "      <td>2918</td>\n",
       "    </tr>\n",
       "    <tr>\n",
       "      <td>8</td>\n",
       "      <td>операция</td>\n",
       "      <td>2604</td>\n",
       "    </tr>\n",
       "    <tr>\n",
       "      <td>9</td>\n",
       "      <td>свадьба</td>\n",
       "      <td>2324</td>\n",
       "    </tr>\n",
       "    <tr>\n",
       "      <td>10</td>\n",
       "      <td>свой</td>\n",
       "      <td>2230</td>\n",
       "    </tr>\n",
       "    <tr>\n",
       "      <td>11</td>\n",
       "      <td>на</td>\n",
       "      <td>2222</td>\n",
       "    </tr>\n",
       "    <tr>\n",
       "      <td>12</td>\n",
       "      <td>строительство</td>\n",
       "      <td>1878</td>\n",
       "    </tr>\n",
       "    <tr>\n",
       "      <td>13</td>\n",
       "      <td>высокий</td>\n",
       "      <td>1374</td>\n",
       "    </tr>\n",
       "    <tr>\n",
       "      <td>14</td>\n",
       "      <td>получение</td>\n",
       "      <td>1314</td>\n",
       "    </tr>\n",
       "    <tr>\n",
       "      <td>15</td>\n",
       "      <td>коммерческий</td>\n",
       "      <td>1311</td>\n",
       "    </tr>\n",
       "    <tr>\n",
       "      <td>16</td>\n",
       "      <td>для</td>\n",
       "      <td>1289</td>\n",
       "    </tr>\n",
       "    <tr>\n",
       "      <td>17</td>\n",
       "      <td>жилой</td>\n",
       "      <td>1230</td>\n",
       "    </tr>\n",
       "    <tr>\n",
       "      <td>18</td>\n",
       "      <td>сделка</td>\n",
       "      <td>941</td>\n",
       "    </tr>\n",
       "    <tr>\n",
       "      <td>19</td>\n",
       "      <td>дополнительный</td>\n",
       "      <td>906</td>\n",
       "    </tr>\n",
       "    <tr>\n",
       "      <td>20</td>\n",
       "      <td>заниматься</td>\n",
       "      <td>904</td>\n",
       "    </tr>\n",
       "    <tr>\n",
       "      <td>21</td>\n",
       "      <td>проведение</td>\n",
       "      <td>768</td>\n",
       "    </tr>\n",
       "    <tr>\n",
       "      <td>22</td>\n",
       "      <td>сыграть</td>\n",
       "      <td>765</td>\n",
       "    </tr>\n",
       "    <tr>\n",
       "      <td>23</td>\n",
       "      <td>сдача</td>\n",
       "      <td>651</td>\n",
       "    </tr>\n",
       "    <tr>\n",
       "      <td>24</td>\n",
       "      <td>семья</td>\n",
       "      <td>638</td>\n",
       "    </tr>\n",
       "    <tr>\n",
       "      <td>25</td>\n",
       "      <td>собственный</td>\n",
       "      <td>635</td>\n",
       "    </tr>\n",
       "    <tr>\n",
       "      <td>26</td>\n",
       "      <td>со</td>\n",
       "      <td>627</td>\n",
       "    </tr>\n",
       "    <tr>\n",
       "      <td>27</td>\n",
       "      <td>ремонт</td>\n",
       "      <td>607</td>\n",
       "    </tr>\n",
       "    <tr>\n",
       "      <td>28</td>\n",
       "      <td>подержанный</td>\n",
       "      <td>486</td>\n",
       "    </tr>\n",
       "    <tr>\n",
       "      <td>29</td>\n",
       "      <td>подержать</td>\n",
       "      <td>478</td>\n",
       "    </tr>\n",
       "    <tr>\n",
       "      <td>30</td>\n",
       "      <td>приобретение</td>\n",
       "      <td>461</td>\n",
       "    </tr>\n",
       "    <tr>\n",
       "      <td>31</td>\n",
       "      <td>профильный</td>\n",
       "      <td>436</td>\n",
       "    </tr>\n",
       "  </tbody>\n",
       "</table>\n",
       "</div>"
      ],
      "text/plain": [
       "             lemma  rating\n",
       "0                    33570\n",
       "1               \\n   21454\n",
       "2     недвижимость    6351\n",
       "3          покупка    5897\n",
       "4            жилье    4460\n",
       "5       автомобиль    4306\n",
       "6      образование    4013\n",
       "7                с    2918\n",
       "8         операция    2604\n",
       "9          свадьба    2324\n",
       "10            свой    2230\n",
       "11              на    2222\n",
       "12   строительство    1878\n",
       "13         высокий    1374\n",
       "14       получение    1314\n",
       "15    коммерческий    1311\n",
       "16             для    1289\n",
       "17           жилой    1230\n",
       "18          сделка     941\n",
       "19  дополнительный     906\n",
       "20      заниматься     904\n",
       "21      проведение     768\n",
       "22         сыграть     765\n",
       "23           сдача     651\n",
       "24           семья     638\n",
       "25     собственный     635\n",
       "26              со     627\n",
       "27          ремонт     607\n",
       "28     подержанный     486\n",
       "29       подержать     478\n",
       "30    приобретение     461\n",
       "31      профильный     436"
      ]
     },
     "metadata": {},
     "output_type": "display_data"
    }
   ],
   "source": [
    "from pymystem3 import Mystem # импортируем pymystem3 для проведения лемматизации\n",
    "from collections import Counter # импорт библиотеки counter для подсчета встречаемости значений в списках\n",
    "\n",
    "m = Mystem() # получение лемматизатора для слов на русском\n",
    "\n",
    "lemmatized_list = [] # пустой массив/словарь для записи лемм в него\n",
    "lemmatized_list_all_cat = [] # массив для записи лемм с частотой их упоминания в столбце 'purpose'\n",
    "lemmatized_list_all_cat_modif = [] # модификация словаря/массива в табличную структуру для читаемого вывода на экран для анализа\n",
    "\n",
    "# цикл для перебора строк-целей получения кредитов по каждому запросу, выделение лемм\n",
    "for row in data['purpose']:\n",
    "    lemmatized_purpose = m.lemmatize(row)\n",
    "    lemmatized_list.extend(lemmatized_purpose)\n",
    "lemmatized_list_all_cat = Counter(lemmatized_list).most_common() # подсчет встречаемости значений в списке\n",
    "lemmatized_list_all_cat_modif = pd.DataFrame(data=lemmatized_list_all_cat, columns=['lemma', 'rating']) # создание массива данных с леммами и их рейтингом для более удобного отображения в рамках анализа\n",
    "display(lemmatized_list_all_cat_modif) # проверка отображения аналитической таблицы"
   ]
  },
  {
   "cell_type": "markdown",
   "metadata": {},
   "source": [
    "**Вывод**"
   ]
  },
  {
   "cell_type": "markdown",
   "metadata": {},
   "source": [
    "На этапе лемматизации выделены леммы в значениях столбца с целями получения кредита, лемматизация проходила в несколько этапов:\n",
    "* импортированы библиотеки pymystem3 и collections;\n",
    "* получен лемматизатор и созданы пустые массивы для работы и размещения данных;\n",
    "* циклом перебора столбца 'purpose' выделены леммы и сохранены в список;\n",
    "* список лемм отсортирован от наиболее употребительных к наименее употребительным;\n",
    "* создан массив данных с леммами и частотой их упоминания в столбце ''purpose'.\n",
    "\n",
    "По ранжированному массиву данных можно сделать вывод, что наиболее часто встречающиеся цели для получения займов следующие(в порядке убывания приоритета):\n",
    " 1. кредит на приобретение жилой недвижимости, ключевые слова: недвижимость, жилье, жилой;\n",
    " 2. кредит на приобретение автомобиля, ключевые слова: автомобиль;\n",
    " 3. кредит на образование, ключевые слова: образование;\n",
    " 4. кредит на строительство или ремонт, ключевые слова: строительство, ремонт;\n",
    " 5. кредит на свадьбу, ключевые слова: свадьба;\n",
    " 6. кредит на приобретение коммерческой недвижимости, ключевые слова: недвижимость, коммерческий."
   ]
  },
  {
   "cell_type": "markdown",
   "metadata": {},
   "source": [
    "### Категоризация данных"
   ]
  },
  {
   "cell_type": "code",
   "execution_count": 6,
   "metadata": {
    "scrolled": true
   },
   "outputs": [
    {
     "data": {
      "text/plain": [
       "жилая недвижимость           7015\n",
       "автомобиль                   4306\n",
       "образование                  4013\n",
       "строительство и ремонт       2485\n",
       "свадьба                      2324\n",
       "коммерческая недвижимость    1311\n",
       "Name: group_aimes, dtype: int64"
      ]
     },
     "metadata": {},
     "output_type": "display_data"
    },
    {
     "data": {
      "text/plain": [
       "возврат кредита не в срок    19713\n",
       "возврат кредита в срок        1741\n",
       "Name: group_debt, dtype: int64"
      ]
     },
     "metadata": {},
     "output_type": "display_data"
    },
    {
     "data": {
      "text/plain": [
       "нет детей    14138\n",
       "есть дети     7316\n",
       "Name: group_children, dtype: int64"
      ]
     },
     "metadata": {},
     "output_type": "display_data"
    },
    {
     "data": {
      "text/plain": [
       "'Медианная зарплата'"
      ]
     },
     "metadata": {},
     "output_type": "display_data"
    },
    {
     "data": {
      "text/plain": [
       "142594.0"
      ]
     },
     "metadata": {},
     "output_type": "display_data"
    },
    {
     "data": {
      "text/plain": [
       "'Медианная зарплата между низкой и зарплатой ниже медианной'"
      ]
     },
     "metadata": {},
     "output_type": "display_data"
    },
    {
     "data": {
      "text/plain": [
       "103460.0"
      ]
     },
     "metadata": {},
     "output_type": "display_data"
    },
    {
     "data": {
      "text/plain": [
       "'Медианная зарплата между зарплатой выше мединной и высокой зарплатой'"
      ]
     },
     "metadata": {},
     "output_type": "display_data"
    },
    {
     "data": {
      "text/plain": [
       "196593.0"
      ]
     },
     "metadata": {},
     "output_type": "display_data"
    },
    {
     "data": {
      "text/plain": [
       "зарплата выше среднего    6375\n",
       "высокая зарплата          5306\n",
       "зарплата ниже среднего    4887\n",
       "низкая зарплата           4886\n",
       "Name: group_total_income, dtype: int64"
      ]
     },
     "metadata": {},
     "output_type": "display_data"
    }
   ],
   "source": [
    "# напишем функцию по категоризации по сформулированным выше категориям/целевым леммам\n",
    "def group_aimes(row):\n",
    "    purpose_group = row['purpose']\n",
    "    lemmatize_group = m.lemmatize(purpose_group)\n",
    "    if 'автомобиль' in lemmatize_group:\n",
    "        return 'автомобиль'\n",
    "    if 'образование' in lemmatize_group:\n",
    "        return 'образование'\n",
    "    if 'свадьба' in lemmatize_group:\n",
    "        return 'свадьба'\n",
    "    if ('строительство' in lemmatize_group) or ('ремонт' in lemmatize_group):\n",
    "        return 'строительство и ремонт'\n",
    "    if ('коммерческий' in lemmatize_group) & ('недвижимость' in lemmatize_group):\n",
    "        return  'коммерческая недвижимость'\n",
    "    if ('жилье' in lemmatize_group) or ('жилой' in lemmatize_group) or ('недвижимость' in lemmatize_group):\n",
    "        return 'жилая недвижимость'\n",
    "    return 'прочее'\n",
    "        \n",
    "data['group_aimes'] = data.apply(group_aimes, axis=1)\n",
    "display(data['group_aimes'].value_counts())\n",
    "\n",
    "# напишем функцию по категоризации по людям с возвратом кредитов в срок и с несоблюдением сроков возвратов\n",
    "def group_debt(row):\n",
    "    debt_group = row['debt']\n",
    "    if debt_group == 1:\n",
    "        return 'возврат кредита в срок'\n",
    "    return 'возврат кредита не в срок'\n",
    "        \n",
    "data['group_debt'] = data.apply(group_debt, axis=1)\n",
    "display(data['group_debt'].value_counts())\n",
    "\n",
    "# напишем функцию по категоризации по наличию и отсутствию детей по каждому из заявителей\n",
    "def group_children(row):\n",
    "    children_group = row['children']\n",
    "    if children_group > 0:\n",
    "        return 'есть дети'\n",
    "    return 'нет детей'\n",
    "        \n",
    "data['group_children'] = data.apply(group_children, axis=1)\n",
    "display(data['group_children'].value_counts())\n",
    "\n",
    "# напишем функцию по категоризации по зарплате по каждому из заявителей\n",
    "# выделим 4 группы зарплат по уровням медиан\n",
    "median_income = data['total_income'].median() # расчет базовой медианы по доходам\n",
    "lower_median_income = data[data['total_income'] < median_income]['total_income'].median() # расчет медианы по доходам ниже базовой медианы, выделение 2-х низжиш подгрупп зарплат низкой, ниже среднего\n",
    "upper_median_income = data[data['total_income'] > median_income]['total_income'].median() # расчет медианы по доходам выше базовой медианы, выделение 2-х высших подгрупп зарплат высокой, выше среднего\n",
    "display('Медианная зарплата', median_income)\n",
    "display('Медианная зарплата между низкой и зарплатой ниже медианной', lower_median_income)\n",
    "display('Медианная зарплата между зарплатой выше мединной и высокой зарплатой', upper_median_income)\n",
    "\n",
    "def group_income(row):\n",
    "    income_group = row['total_income']\n",
    "    if income_group < lower_median_income:\n",
    "        return 'низкая зарплата'\n",
    "    if (income_group >= lower_median_income) & (income_group < median_income):\n",
    "        return 'зарплата ниже среднего'\n",
    "    if (income_group >= median_income) & (income_group < upper_median_income):\n",
    "        return 'зарплата выше среднего'\n",
    "    if income_group >= upper_median_income:\n",
    "        return 'высокая зарплата'\n",
    "    return 'прочее'\n",
    "        \n",
    "data['group_total_income'] = data.apply(group_income, axis=1)\n",
    "display(data['group_total_income'].value_counts())"
   ]
  },
  {
   "cell_type": "markdown",
   "metadata": {},
   "source": [
    "**Вывод**"
   ]
  },
  {
   "cell_type": "markdown",
   "metadata": {},
   "source": [
    "Категоризация данных - это создание структур данных/словарей для часто используемых классификаций данных для упрощения и ускорения доступа к ним. Сформировав категории на основе словаря наиболее часто встречающихся целей для получения кредита были добавлены новые аналитики в столбце 'group_aimes'. Эти категории имеют наибольший охват в рамках поставленной задачи. Однако, есть предложения по первоначальному массиву данных - предоставить более расширенные данные из анкет/заявок для более детального анализа категории \"недвижимость\" с целью выявления подкатегорий.\n",
    "В целом для формулировки последующих выводов и ответов на вопросы были сформированы следующие функции:\n",
    "* по категориям/целевым леммам;\n",
    "* по людям с возвратом кредитов в срок и с несоблюдением сроков возвратов;\n",
    "* по наличию и отсутствию детей по каждому из заявителей;\n",
    "* по зарплате по каждому из заявителей."
   ]
  },
  {
   "cell_type": "markdown",
   "metadata": {},
   "source": [
    "## Ответим на актуальные вопросы"
   ]
  },
  {
   "cell_type": "markdown",
   "metadata": {},
   "source": [
    "- Есть ли зависимость между наличием детей и возвратом кредита в срок?"
   ]
  },
  {
   "cell_type": "code",
   "execution_count": 7,
   "metadata": {},
   "outputs": [
    {
     "data": {
      "text/html": [
       "<div>\n",
       "<style scoped>\n",
       "    .dataframe tbody tr th:only-of-type {\n",
       "        vertical-align: middle;\n",
       "    }\n",
       "\n",
       "    .dataframe tbody tr th {\n",
       "        vertical-align: top;\n",
       "    }\n",
       "\n",
       "    .dataframe thead th {\n",
       "        text-align: right;\n",
       "    }\n",
       "</style>\n",
       "<table border=\"1\" class=\"dataframe\">\n",
       "  <thead>\n",
       "    <tr style=\"text-align: right;\">\n",
       "      <th>group_debt</th>\n",
       "      <th>возврат кредита в срок</th>\n",
       "      <th>возврат кредита не в срок</th>\n",
       "      <th>итого</th>\n",
       "      <th>доля кредитов с просрочкой, в %</th>\n",
       "      <th>доля кредитов без просрочки, в %</th>\n",
       "    </tr>\n",
       "    <tr>\n",
       "      <th>group_children</th>\n",
       "      <th></th>\n",
       "      <th></th>\n",
       "      <th></th>\n",
       "      <th></th>\n",
       "      <th></th>\n",
       "    </tr>\n",
       "  </thead>\n",
       "  <tbody>\n",
       "    <tr>\n",
       "      <td>есть дети</td>\n",
       "      <td>677</td>\n",
       "      <td>6639</td>\n",
       "      <td>7316</td>\n",
       "      <td>90.746309</td>\n",
       "      <td>9.253691</td>\n",
       "    </tr>\n",
       "    <tr>\n",
       "      <td>нет детей</td>\n",
       "      <td>1064</td>\n",
       "      <td>13074</td>\n",
       "      <td>14138</td>\n",
       "      <td>92.474183</td>\n",
       "      <td>7.525817</td>\n",
       "    </tr>\n",
       "  </tbody>\n",
       "</table>\n",
       "</div>"
      ],
      "text/plain": [
       "group_debt      возврат кредита в срок  возврат кредита не в срок  итого  \\\n",
       "group_children                                                             \n",
       "есть дети                          677                       6639   7316   \n",
       "нет детей                         1064                      13074  14138   \n",
       "\n",
       "group_debt      доля кредитов с просрочкой, в %  \\\n",
       "group_children                                    \n",
       "есть дети                             90.746309   \n",
       "нет детей                             92.474183   \n",
       "\n",
       "group_debt      доля кредитов без просрочки, в %  \n",
       "group_children                                    \n",
       "есть дети                               9.253691  \n",
       "нет детей                               7.525817  "
      ]
     },
     "metadata": {},
     "output_type": "display_data"
    }
   ],
   "source": [
    "# определим уровень просрочек в группе с детьми и в группе без детей\n",
    "pivot_child_debt = data.pivot_table(index=['group_children'], columns='group_debt', values='debt', aggfunc='count')\n",
    "pivot_child_debt['итого'] = pivot_child_debt['возврат кредита в срок'] + pivot_child_debt['возврат кредита не в срок']\n",
    "pivot_child_debt['доля кредитов с просрочкой, в %'] = (pivot_child_debt['возврат кредита не в срок'] / pivot_child_debt['итого']) * 100\n",
    "pivot_child_debt['доля кредитов без просрочки, в %'] = (pivot_child_debt['возврат кредита в срок'] / pivot_child_debt['итого']) * 100\n",
    "display(pivot_child_debt)"
   ]
  },
  {
   "cell_type": "markdown",
   "metadata": {},
   "source": [
    "**Вывод**"
   ]
  },
  {
   "cell_type": "markdown",
   "metadata": {},
   "source": [
    "Сформулированы гипотезы:\n",
    "1. Есть дети - кредитная дисциплина выше;\n",
    "2. Нет детей - кредитная дисциплина ниже.\n",
    "\n",
    "Для проверки гипотез сформирована сводная таблица по наличию детей и просрочкам. Гипотеза №1 имеет долю кредитов с просрочкой 90,7%, гипотеза №2 имеет долю кредитов с просрочкой 92,5%, что доказывает, что кредитная дисциплина выше при наличии детей в семье, хотя и незначительный перевес имеет данный фактор.\n",
    "\n"
   ]
  },
  {
   "cell_type": "markdown",
   "metadata": {},
   "source": [
    "- Есть ли зависимость между семейным положением и возвратом кредита в срок?"
   ]
  },
  {
   "cell_type": "code",
   "execution_count": 8,
   "metadata": {},
   "outputs": [
    {
     "data": {
      "text/html": [
       "<div>\n",
       "<style scoped>\n",
       "    .dataframe tbody tr th:only-of-type {\n",
       "        vertical-align: middle;\n",
       "    }\n",
       "\n",
       "    .dataframe tbody tr th {\n",
       "        vertical-align: top;\n",
       "    }\n",
       "\n",
       "    .dataframe thead th {\n",
       "        text-align: right;\n",
       "    }\n",
       "</style>\n",
       "<table border=\"1\" class=\"dataframe\">\n",
       "  <thead>\n",
       "    <tr style=\"text-align: right;\">\n",
       "      <th>group_debt</th>\n",
       "      <th>возврат кредита в срок</th>\n",
       "      <th>возврат кредита не в срок</th>\n",
       "      <th>итого</th>\n",
       "      <th>доля кредитов с просрочкой, в %</th>\n",
       "      <th>доля кредитов без просрочки, в %</th>\n",
       "    </tr>\n",
       "    <tr>\n",
       "      <th>family_status</th>\n",
       "      <th></th>\n",
       "      <th></th>\n",
       "      <th></th>\n",
       "      <th></th>\n",
       "      <th></th>\n",
       "    </tr>\n",
       "  </thead>\n",
       "  <tbody>\n",
       "    <tr>\n",
       "      <td>в разводе</td>\n",
       "      <td>85</td>\n",
       "      <td>1110</td>\n",
       "      <td>1195</td>\n",
       "      <td>92.887029</td>\n",
       "      <td>7.112971</td>\n",
       "    </tr>\n",
       "    <tr>\n",
       "      <td>вдовец / вдова</td>\n",
       "      <td>63</td>\n",
       "      <td>896</td>\n",
       "      <td>959</td>\n",
       "      <td>93.430657</td>\n",
       "      <td>6.569343</td>\n",
       "    </tr>\n",
       "    <tr>\n",
       "      <td>гражданский брак</td>\n",
       "      <td>388</td>\n",
       "      <td>3763</td>\n",
       "      <td>4151</td>\n",
       "      <td>90.652855</td>\n",
       "      <td>9.347145</td>\n",
       "    </tr>\n",
       "    <tr>\n",
       "      <td>женат / замужем</td>\n",
       "      <td>931</td>\n",
       "      <td>11408</td>\n",
       "      <td>12339</td>\n",
       "      <td>92.454818</td>\n",
       "      <td>7.545182</td>\n",
       "    </tr>\n",
       "    <tr>\n",
       "      <td>не женат / не замужем</td>\n",
       "      <td>274</td>\n",
       "      <td>2536</td>\n",
       "      <td>2810</td>\n",
       "      <td>90.249110</td>\n",
       "      <td>9.750890</td>\n",
       "    </tr>\n",
       "  </tbody>\n",
       "</table>\n",
       "</div>"
      ],
      "text/plain": [
       "group_debt             возврат кредита в срок  возврат кредита не в срок  \\\n",
       "family_status                                                              \n",
       "в разводе                                  85                       1110   \n",
       "вдовец / вдова                             63                        896   \n",
       "гражданский брак                          388                       3763   \n",
       "женат / замужем                           931                      11408   \n",
       "не женат / не замужем                     274                       2536   \n",
       "\n",
       "group_debt             итого  доля кредитов с просрочкой, в %  \\\n",
       "family_status                                                   \n",
       "в разводе               1195                        92.887029   \n",
       "вдовец / вдова           959                        93.430657   \n",
       "гражданский брак        4151                        90.652855   \n",
       "женат / замужем        12339                        92.454818   \n",
       "не женат / не замужем   2810                        90.249110   \n",
       "\n",
       "group_debt             доля кредитов без просрочки, в %  \n",
       "family_status                                            \n",
       "в разводе                                      7.112971  \n",
       "вдовец / вдова                                 6.569343  \n",
       "гражданский брак                               9.347145  \n",
       "женат / замужем                                7.545182  \n",
       "не женат / не замужем                          9.750890  "
      ]
     },
     "metadata": {},
     "output_type": "display_data"
    }
   ],
   "source": [
    "# определим уровень просрочек в группах по семейному положению\n",
    "pivot_family_status_debt = data.pivot_table(index=['family_status'], columns='group_debt', values='debt', aggfunc='count')\n",
    "pivot_family_status_debt['итого'] = pivot_family_status_debt['возврат кредита в срок'] + pivot_family_status_debt['возврат кредита не в срок']\n",
    "pivot_family_status_debt['доля кредитов с просрочкой, в %'] = (pivot_family_status_debt['возврат кредита не в срок'] / pivot_family_status_debt['итого']) * 100\n",
    "pivot_family_status_debt['доля кредитов без просрочки, в %'] = (pivot_family_status_debt['возврат кредита в срок'] / pivot_family_status_debt['итого']) * 100\n",
    "display(pivot_family_status_debt)"
   ]
  },
  {
   "cell_type": "markdown",
   "metadata": {},
   "source": [
    "**Вывод**"
   ]
  },
  {
   "cell_type": "markdown",
   "metadata": {},
   "source": [
    "Сформирована сводная таблица по семейным статусам и просрочкам. Процент просрочек по категориям в разводе и вдовам/вдовцам 93,4%, по людям в гражданском браке 90,7%, по женатым/замужним 92,4%, по неженатым/незамужним 90,2% с просрочками. Таким образом семейный статус не показывает значительных расхождений в допущении просрочек по категориям. Однако, следует выделить холостых людей, у которых платежная дисциплина несколько выше, чем по остальным категориям."
   ]
  },
  {
   "cell_type": "markdown",
   "metadata": {},
   "source": [
    "- Есть ли зависимость между уровнем дохода и возвратом кредита в срок?"
   ]
  },
  {
   "cell_type": "code",
   "execution_count": 9,
   "metadata": {
    "scrolled": true
   },
   "outputs": [
    {
     "data": {
      "text/html": [
       "<div>\n",
       "<style scoped>\n",
       "    .dataframe tbody tr th:only-of-type {\n",
       "        vertical-align: middle;\n",
       "    }\n",
       "\n",
       "    .dataframe tbody tr th {\n",
       "        vertical-align: top;\n",
       "    }\n",
       "\n",
       "    .dataframe thead th {\n",
       "        text-align: right;\n",
       "    }\n",
       "</style>\n",
       "<table border=\"1\" class=\"dataframe\">\n",
       "  <thead>\n",
       "    <tr style=\"text-align: right;\">\n",
       "      <th>group_debt</th>\n",
       "      <th>возврат кредита в срок</th>\n",
       "      <th>возврат кредита не в срок</th>\n",
       "      <th>итого</th>\n",
       "      <th>доля кредитов с просрочкой, в %</th>\n",
       "      <th>доля кредитов без просрочки, в %</th>\n",
       "    </tr>\n",
       "    <tr>\n",
       "      <th>group_total_income</th>\n",
       "      <th></th>\n",
       "      <th></th>\n",
       "      <th></th>\n",
       "      <th></th>\n",
       "      <th></th>\n",
       "    </tr>\n",
       "  </thead>\n",
       "  <tbody>\n",
       "    <tr>\n",
       "      <td>высокая зарплата</td>\n",
       "      <td>377</td>\n",
       "      <td>4929</td>\n",
       "      <td>5306</td>\n",
       "      <td>92.894836</td>\n",
       "      <td>7.105164</td>\n",
       "    </tr>\n",
       "    <tr>\n",
       "      <td>зарплата выше среднего</td>\n",
       "      <td>552</td>\n",
       "      <td>5823</td>\n",
       "      <td>6375</td>\n",
       "      <td>91.341176</td>\n",
       "      <td>8.658824</td>\n",
       "    </tr>\n",
       "    <tr>\n",
       "      <td>зарплата ниже среднего</td>\n",
       "      <td>428</td>\n",
       "      <td>4459</td>\n",
       "      <td>4887</td>\n",
       "      <td>91.242071</td>\n",
       "      <td>8.757929</td>\n",
       "    </tr>\n",
       "    <tr>\n",
       "      <td>низкая зарплата</td>\n",
       "      <td>384</td>\n",
       "      <td>4502</td>\n",
       "      <td>4886</td>\n",
       "      <td>92.140810</td>\n",
       "      <td>7.859190</td>\n",
       "    </tr>\n",
       "  </tbody>\n",
       "</table>\n",
       "</div>"
      ],
      "text/plain": [
       "group_debt              возврат кредита в срок  возврат кредита не в срок  \\\n",
       "group_total_income                                                          \n",
       "высокая зарплата                           377                       4929   \n",
       "зарплата выше среднего                     552                       5823   \n",
       "зарплата ниже среднего                     428                       4459   \n",
       "низкая зарплата                            384                       4502   \n",
       "\n",
       "group_debt              итого  доля кредитов с просрочкой, в %  \\\n",
       "group_total_income                                               \n",
       "высокая зарплата         5306                        92.894836   \n",
       "зарплата выше среднего   6375                        91.341176   \n",
       "зарплата ниже среднего   4887                        91.242071   \n",
       "низкая зарплата          4886                        92.140810   \n",
       "\n",
       "group_debt              доля кредитов без просрочки, в %  \n",
       "group_total_income                                        \n",
       "высокая зарплата                                7.105164  \n",
       "зарплата выше среднего                          8.658824  \n",
       "зарплата ниже среднего                          8.757929  \n",
       "низкая зарплата                                 7.859190  "
      ]
     },
     "metadata": {},
     "output_type": "display_data"
    }
   ],
   "source": [
    "# определим уровень просрочек в группах по уровню дохода\n",
    "pivot_group_total_income_debt = data.pivot_table(index=['group_total_income'], columns='group_debt', values='debt', aggfunc='count')\n",
    "pivot_group_total_income_debt['итого'] = pivot_group_total_income_debt['возврат кредита в срок'] + pivot_group_total_income_debt['возврат кредита не в срок']\n",
    "pivot_group_total_income_debt['доля кредитов с просрочкой, в %'] = (pivot_group_total_income_debt['возврат кредита не в срок'] / pivot_group_total_income_debt['итого']) * 100\n",
    "pivot_group_total_income_debt['доля кредитов без просрочки, в %'] = (pivot_group_total_income_debt['возврат кредита в срок'] / pivot_group_total_income_debt['итого']) * 100\n",
    "display(pivot_group_total_income_debt)"
   ]
  },
  {
   "cell_type": "markdown",
   "metadata": {},
   "source": [
    "**Вывод**"
   ]
  },
  {
   "cell_type": "markdown",
   "metadata": {},
   "source": [
    "Сформирована сводная таблица по уровням зарплат и просрочкам.\n",
    "Определены следующие уровни зарплат путем разбиения массива зарплат по медианам: высокая зарплата(выше 196593 усл. ед.), зарплата выше среднего(выше 142594 усл. ед.), зарплата ниже среднего(ниже 142594 усл. ед.), низкая зарплата(ниже 103460 усл. ед.).\n",
    "Процент просрочек по категориям с высокой зарплатой 92,8%, с зарплатой выше среднего 91,3%, с зарплатой ниже среднего 91,2%, с низкой зарплатой 92,1%. Таким образом разница в зарплатах не показывает значительных расхождений просрочек по категориям, однако можно выделить более высокую платежную дисциплину по категории с зарплатами выше средней медианной по выборке, но ниже средней медианной по выборке высоких зарплат."
   ]
  },
  {
   "cell_type": "markdown",
   "metadata": {},
   "source": [
    "- Как разные цели кредита влияют на его возврат в срок?"
   ]
  },
  {
   "cell_type": "code",
   "execution_count": 10,
   "metadata": {},
   "outputs": [
    {
     "data": {
      "text/html": [
       "<div>\n",
       "<style scoped>\n",
       "    .dataframe tbody tr th:only-of-type {\n",
       "        vertical-align: middle;\n",
       "    }\n",
       "\n",
       "    .dataframe tbody tr th {\n",
       "        vertical-align: top;\n",
       "    }\n",
       "\n",
       "    .dataframe thead th {\n",
       "        text-align: right;\n",
       "    }\n",
       "</style>\n",
       "<table border=\"1\" class=\"dataframe\">\n",
       "  <thead>\n",
       "    <tr style=\"text-align: right;\">\n",
       "      <th>group_debt</th>\n",
       "      <th>возврат кредита в срок</th>\n",
       "      <th>возврат кредита не в срок</th>\n",
       "      <th>итого</th>\n",
       "      <th>доля кредитов с просрочкой, в %</th>\n",
       "      <th>доля кредитов без просрочки, в %</th>\n",
       "    </tr>\n",
       "    <tr>\n",
       "      <th>group_aimes</th>\n",
       "      <th></th>\n",
       "      <th></th>\n",
       "      <th></th>\n",
       "      <th></th>\n",
       "      <th></th>\n",
       "    </tr>\n",
       "  </thead>\n",
       "  <tbody>\n",
       "    <tr>\n",
       "      <td>автомобиль</td>\n",
       "      <td>403</td>\n",
       "      <td>3903</td>\n",
       "      <td>4306</td>\n",
       "      <td>90.640966</td>\n",
       "      <td>9.359034</td>\n",
       "    </tr>\n",
       "    <tr>\n",
       "      <td>жилая недвижимость</td>\n",
       "      <td>504</td>\n",
       "      <td>6511</td>\n",
       "      <td>7015</td>\n",
       "      <td>92.815396</td>\n",
       "      <td>7.184604</td>\n",
       "    </tr>\n",
       "    <tr>\n",
       "      <td>коммерческая недвижимость</td>\n",
       "      <td>99</td>\n",
       "      <td>1212</td>\n",
       "      <td>1311</td>\n",
       "      <td>92.448513</td>\n",
       "      <td>7.551487</td>\n",
       "    </tr>\n",
       "    <tr>\n",
       "      <td>образование</td>\n",
       "      <td>370</td>\n",
       "      <td>3643</td>\n",
       "      <td>4013</td>\n",
       "      <td>90.779965</td>\n",
       "      <td>9.220035</td>\n",
       "    </tr>\n",
       "    <tr>\n",
       "      <td>свадьба</td>\n",
       "      <td>186</td>\n",
       "      <td>2138</td>\n",
       "      <td>2324</td>\n",
       "      <td>91.996558</td>\n",
       "      <td>8.003442</td>\n",
       "    </tr>\n",
       "    <tr>\n",
       "      <td>строительство и ремонт</td>\n",
       "      <td>179</td>\n",
       "      <td>2306</td>\n",
       "      <td>2485</td>\n",
       "      <td>92.796781</td>\n",
       "      <td>7.203219</td>\n",
       "    </tr>\n",
       "  </tbody>\n",
       "</table>\n",
       "</div>"
      ],
      "text/plain": [
       "group_debt                 возврат кредита в срок  возврат кредита не в срок  \\\n",
       "group_aimes                                                                    \n",
       "автомобиль                                    403                       3903   \n",
       "жилая недвижимость                            504                       6511   \n",
       "коммерческая недвижимость                      99                       1212   \n",
       "образование                                   370                       3643   \n",
       "свадьба                                       186                       2138   \n",
       "строительство и ремонт                        179                       2306   \n",
       "\n",
       "group_debt                 итого  доля кредитов с просрочкой, в %  \\\n",
       "group_aimes                                                         \n",
       "автомобиль                  4306                        90.640966   \n",
       "жилая недвижимость          7015                        92.815396   \n",
       "коммерческая недвижимость   1311                        92.448513   \n",
       "образование                 4013                        90.779965   \n",
       "свадьба                     2324                        91.996558   \n",
       "строительство и ремонт      2485                        92.796781   \n",
       "\n",
       "group_debt                 доля кредитов без просрочки, в %  \n",
       "group_aimes                                                  \n",
       "автомобиль                                         9.359034  \n",
       "жилая недвижимость                                 7.184604  \n",
       "коммерческая недвижимость                          7.551487  \n",
       "образование                                        9.220035  \n",
       "свадьба                                            8.003442  \n",
       "строительство и ремонт                             7.203219  "
      ]
     },
     "metadata": {},
     "output_type": "display_data"
    }
   ],
   "source": [
    "# определим уровень просрочек в группах по целям получения кредита\n",
    "pivot_group_aimes_debt = data.pivot_table(index=['group_aimes'], columns='group_debt', values='debt', aggfunc='count')\n",
    "pivot_group_aimes_debt['итого'] = pivot_group_aimes_debt['возврат кредита в срок'] + pivot_group_aimes_debt['возврат кредита не в срок']\n",
    "pivot_group_aimes_debt['доля кредитов с просрочкой, в %'] = (pivot_group_aimes_debt['возврат кредита не в срок'] / pivot_group_aimes_debt['итого']) * 100\n",
    "pivot_group_aimes_debt['доля кредитов без просрочки, в %'] = (pivot_group_aimes_debt['возврат кредита в срок'] / pivot_group_aimes_debt['итого']) * 100\n",
    "display(pivot_group_aimes_debt)"
   ]
  },
  {
   "cell_type": "markdown",
   "metadata": {},
   "source": [
    "**Вывод**"
   ]
  },
  {
   "cell_type": "markdown",
   "metadata": {},
   "source": [
    "Сформирована сводная таблица по целям и просрочкам. \n",
    "% допущения просрочек от наибольшего к наименьшему:\n",
    "* строительство и ремонт - 92,8%;\n",
    "* жилая недвижимость - 92,8%;\n",
    "* коммерческая недвижимость - 92,4%;\n",
    "* свадьба - 91,9%;\n",
    "* образование - 90,7%;\n",
    "* автомобиль - 90,6%.\n",
    "\n",
    "Наибольшая степень допущения просрочек в категориях \"строительство и ремонт\" и \"жилая недвижимость\", наименьшая в категориях \"образование\" и \"автомобиль\"."
   ]
  },
  {
   "cell_type": "markdown",
   "metadata": {},
   "source": [
    "## Общий вывод"
   ]
  },
  {
   "cell_type": "markdown",
   "metadata": {},
   "source": [
    "По итогам данного проекта были пройдены следующие основные этапы:\n",
    "1. Изучение информации о входном массиве данных, определение его особенностей, закономерностей и недочетов;\n",
    "2. Проведение предобработки данных, основные моменты: выявление устранимых и неустранимых недочетов в данных. Устранение всех возможных недочетов/артефактов, указание на необходимость предоставления дополнительной документации/информации по неустранимым недочетам, работа с пропусками, типами данных, дубликатами;\n",
    "3. Лемматизация, составление рейтинга по частоте упортебления ключевых слов в потребностях людей при получении кредитов, формулировка полного перечня целей получения кредитов(кредит на приобретение жилой недвижимости, ключевые слова: недвижимость, жилье, жилой; кредит на приобретение автомобиля, ключевые слова: автомобиль; кредит на образование, ключевые слова: образование; кредит на строительство или ремонт, ключевые слова: строительство, ремонт; кредит на свадьбу, ключевые слова: свадьба; кредит на приобретение коммерческой недвижимости, ключевые слова: недвижимость, коммерческий);\n",
    "4. Категоризация данных, а именно выделение словарей/структур данных для удобства обращения и упрощения представлений данных для заказчика. Категории: по категориям/целевым леммам; по людям с возвратом кредитов в срок и с несоблюдением сроков возвратов; по наличию и отсутствию детей по каждому из заявителей; по зарплате по каждому из заявителей;\n",
    "5. Сформированы сводные аналитические таблицы и сделаны основные выводы и даны ответы на вопросы:\n",
    "    * кредитная дисциплина выше при наличии детей в семье, хотя и незначительный перевес имеет данный фактор;\n",
    "    * семейный статус не показывает значительных расхождений в допущении просрочек по категориям. Однако, следует выделить холостых людей, у которых платежная дисциплина несколько выше, чем по остальным категориям;\n",
    "    * разница в зарплатах не показывает значительных расхождений просрочек по категориям, однако можно выделить более высокую платежную дисциплину по категории с зарплатами выше средней медианной по выборке, но ниже средней медианной по выборке высоких зарплат;\n",
    "    * наибольшая степень допущения просрочек в категориях \"строительство и ремонт\" и \"жилая недвижимость\", наименьшая в категориях \"образование\" и \"автомобиль\".\n",
    "    "
   ]
  }
 ],
 "metadata": {
  "ExecuteTimeLog": [
   {
    "duration": 1353,
    "start_time": "2021-12-25T19:13:16.937Z"
   },
   {
    "duration": 69,
    "start_time": "2021-12-25T19:13:25.504Z"
   },
   {
    "duration": 98,
    "start_time": "2021-12-25T19:13:37.638Z"
   },
   {
    "duration": 106,
    "start_time": "2021-12-25T19:51:31.024Z"
   },
   {
    "duration": 91,
    "start_time": "2021-12-25T19:52:10.431Z"
   },
   {
    "duration": 106,
    "start_time": "2021-12-25T19:52:35.496Z"
   },
   {
    "duration": 547,
    "start_time": "2021-12-25T21:09:29.811Z"
   },
   {
    "duration": 114,
    "start_time": "2021-12-25T21:09:55.746Z"
   },
   {
    "duration": 154,
    "start_time": "2021-12-25T21:15:07.211Z"
   },
   {
    "duration": 145,
    "start_time": "2021-12-25T21:15:43.872Z"
   },
   {
    "duration": 155,
    "start_time": "2021-12-25T21:16:10.838Z"
   },
   {
    "duration": 181,
    "start_time": "2021-12-25T21:16:39.228Z"
   },
   {
    "duration": 185,
    "start_time": "2021-12-25T21:19:47.203Z"
   },
   {
    "duration": 34,
    "start_time": "2021-12-25T21:24:49.883Z"
   },
   {
    "duration": 19,
    "start_time": "2021-12-25T21:25:40.939Z"
   },
   {
    "duration": 13,
    "start_time": "2021-12-25T21:30:42.805Z"
   },
   {
    "duration": 12,
    "start_time": "2021-12-25T21:30:52.704Z"
   },
   {
    "duration": 19,
    "start_time": "2021-12-25T21:30:56.369Z"
   },
   {
    "duration": 34,
    "start_time": "2021-12-25T21:31:27.628Z"
   },
   {
    "duration": 21,
    "start_time": "2021-12-25T21:31:42.666Z"
   },
   {
    "duration": 19,
    "start_time": "2021-12-25T21:31:52.625Z"
   },
   {
    "duration": 18,
    "start_time": "2021-12-25T21:34:56.832Z"
   },
   {
    "duration": 20,
    "start_time": "2021-12-25T21:35:02.284Z"
   },
   {
    "duration": 22,
    "start_time": "2021-12-25T21:35:17.401Z"
   },
   {
    "duration": 49,
    "start_time": "2021-12-25T21:36:11.062Z"
   },
   {
    "duration": 173,
    "start_time": "2021-12-25T21:36:26.351Z"
   },
   {
    "duration": 57,
    "start_time": "2021-12-25T21:36:26.527Z"
   },
   {
    "duration": 484,
    "start_time": "2021-12-26T09:06:00.343Z"
   },
   {
    "duration": 848,
    "start_time": "2021-12-26T09:06:09.577Z"
   },
   {
    "duration": 47,
    "start_time": "2021-12-26T09:06:10.426Z"
   },
   {
    "duration": 18,
    "start_time": "2021-12-26T09:06:10.475Z"
   },
   {
    "duration": 28,
    "start_time": "2021-12-26T09:06:57.680Z"
   },
   {
    "duration": 25,
    "start_time": "2021-12-26T09:09:51.276Z"
   },
   {
    "duration": 113,
    "start_time": "2021-12-26T09:11:54.204Z"
   },
   {
    "duration": 51,
    "start_time": "2021-12-26T09:11:54.319Z"
   },
   {
    "duration": 28,
    "start_time": "2021-12-26T09:11:54.371Z"
   },
   {
    "duration": 7,
    "start_time": "2021-12-26T09:33:41.685Z"
   },
   {
    "duration": 324,
    "start_time": "2021-12-26T09:35:01.904Z"
   },
   {
    "duration": 32,
    "start_time": "2021-12-26T09:35:36.459Z"
   },
   {
    "duration": 128,
    "start_time": "2021-12-26T09:35:55.177Z"
   },
   {
    "duration": 56,
    "start_time": "2021-12-26T09:35:55.307Z"
   },
   {
    "duration": 32,
    "start_time": "2021-12-26T09:35:55.365Z"
   },
   {
    "duration": 21,
    "start_time": "2021-12-26T09:35:55.400Z"
   },
   {
    "duration": 21,
    "start_time": "2021-12-26T09:37:02.076Z"
   },
   {
    "duration": 26,
    "start_time": "2021-12-26T09:39:15.670Z"
   },
   {
    "duration": 30,
    "start_time": "2021-12-26T09:40:53.388Z"
   },
   {
    "duration": 31,
    "start_time": "2021-12-26T09:42:10.218Z"
   },
   {
    "duration": 34,
    "start_time": "2021-12-26T09:44:55.941Z"
   },
   {
    "duration": 123,
    "start_time": "2021-12-26T09:51:11.553Z"
   },
   {
    "duration": 30,
    "start_time": "2021-12-26T09:51:11.677Z"
   },
   {
    "duration": 52,
    "start_time": "2021-12-26T09:51:11.709Z"
   },
   {
    "duration": 34,
    "start_time": "2021-12-26T09:51:11.762Z"
   },
   {
    "duration": 38,
    "start_time": "2021-12-26T09:51:33.874Z"
   },
   {
    "duration": 48,
    "start_time": "2021-12-26T09:52:08.094Z"
   },
   {
    "duration": 84,
    "start_time": "2021-12-26T09:52:50.395Z"
   },
   {
    "duration": 96,
    "start_time": "2021-12-26T09:52:56.180Z"
   },
   {
    "duration": 86,
    "start_time": "2021-12-26T09:53:32.639Z"
   },
   {
    "duration": 43,
    "start_time": "2021-12-26T09:53:40.310Z"
   },
   {
    "duration": 87,
    "start_time": "2021-12-26T09:53:49.264Z"
   },
   {
    "duration": 47,
    "start_time": "2021-12-26T09:54:06.149Z"
   },
   {
    "duration": 109,
    "start_time": "2021-12-26T09:54:11.709Z"
   },
   {
    "duration": 43,
    "start_time": "2021-12-26T09:54:27.752Z"
   },
   {
    "duration": 63,
    "start_time": "2021-12-26T09:55:30.766Z"
   },
   {
    "duration": 57,
    "start_time": "2021-12-26T09:55:55.681Z"
   },
   {
    "duration": 10,
    "start_time": "2021-12-26T10:46:03.656Z"
   },
   {
    "duration": 3,
    "start_time": "2021-12-26T10:47:41.554Z"
   },
   {
    "duration": 280,
    "start_time": "2021-12-26T11:05:33.846Z"
   },
   {
    "duration": 935,
    "start_time": "2021-12-26T11:13:19.853Z"
   },
   {
    "duration": 3817,
    "start_time": "2021-12-26T11:13:43.486Z"
   },
   {
    "duration": 94,
    "start_time": "2021-12-26T11:15:13.286Z"
   },
   {
    "duration": 3703,
    "start_time": "2021-12-26T11:15:19.493Z"
   },
   {
    "duration": 3772,
    "start_time": "2021-12-26T11:17:13.509Z"
   },
   {
    "duration": 3797,
    "start_time": "2021-12-26T11:17:21.794Z"
   },
   {
    "duration": 4415,
    "start_time": "2021-12-26T11:17:56.000Z"
   },
   {
    "duration": 4132,
    "start_time": "2021-12-26T11:18:01.085Z"
   },
   {
    "duration": 4402,
    "start_time": "2021-12-26T11:19:24.230Z"
   },
   {
    "duration": 4161,
    "start_time": "2021-12-26T11:19:30.378Z"
   },
   {
    "duration": 3901,
    "start_time": "2021-12-26T11:19:52.207Z"
   },
   {
    "duration": 4080,
    "start_time": "2021-12-26T11:21:02.401Z"
   },
   {
    "duration": 951,
    "start_time": "2021-12-26T11:27:40.073Z"
   },
   {
    "duration": 309,
    "start_time": "2021-12-26T11:28:10.180Z"
   },
   {
    "duration": 276,
    "start_time": "2021-12-26T11:30:05.586Z"
   },
   {
    "duration": 267,
    "start_time": "2021-12-26T11:30:18.787Z"
   },
   {
    "duration": 805,
    "start_time": "2021-12-26T11:30:23.735Z"
   },
   {
    "duration": 44,
    "start_time": "2021-12-26T11:30:24.542Z"
   },
   {
    "duration": 28,
    "start_time": "2021-12-26T11:30:24.588Z"
   },
   {
    "duration": 90,
    "start_time": "2021-12-26T11:30:24.618Z"
   },
   {
    "duration": 6872,
    "start_time": "2021-12-26T11:30:24.710Z"
   },
   {
    "duration": 4488,
    "start_time": "2021-12-26T11:33:10.928Z"
   },
   {
    "duration": 3607,
    "start_time": "2021-12-26T11:34:45.191Z"
   },
   {
    "duration": 3919,
    "start_time": "2021-12-26T11:39:42.874Z"
   },
   {
    "duration": 3622,
    "start_time": "2021-12-26T11:41:57.174Z"
   },
   {
    "duration": 4137,
    "start_time": "2021-12-26T11:42:28.254Z"
   },
   {
    "duration": 3745,
    "start_time": "2021-12-26T11:42:40.124Z"
   },
   {
    "duration": 226,
    "start_time": "2021-12-26T18:37:46.400Z"
   },
   {
    "duration": 714,
    "start_time": "2021-12-26T18:37:51.088Z"
   },
   {
    "duration": 32,
    "start_time": "2021-12-26T18:37:51.805Z"
   },
   {
    "duration": 53,
    "start_time": "2021-12-26T18:37:51.838Z"
   },
   {
    "duration": 58,
    "start_time": "2021-12-26T18:37:51.893Z"
   },
   {
    "duration": 3460,
    "start_time": "2021-12-26T18:37:51.952Z"
   },
   {
    "duration": 3566,
    "start_time": "2021-12-26T18:38:00.384Z"
   },
   {
    "duration": 3573,
    "start_time": "2021-12-26T18:38:23.929Z"
   },
   {
    "duration": 120,
    "start_time": "2021-12-26T18:38:28.125Z"
   },
   {
    "duration": 53,
    "start_time": "2021-12-26T18:38:28.246Z"
   },
   {
    "duration": 27,
    "start_time": "2021-12-26T18:38:28.301Z"
   },
   {
    "duration": 95,
    "start_time": "2021-12-26T18:38:28.330Z"
   },
   {
    "duration": 3529,
    "start_time": "2021-12-26T18:38:28.427Z"
   },
   {
    "duration": 3579,
    "start_time": "2021-12-26T18:38:45.601Z"
   },
   {
    "duration": 3625,
    "start_time": "2021-12-26T18:41:39.676Z"
   },
   {
    "duration": 313,
    "start_time": "2021-12-27T16:19:12.560Z"
   },
   {
    "duration": 902,
    "start_time": "2021-12-27T16:19:18.853Z"
   },
   {
    "duration": 62,
    "start_time": "2021-12-27T16:19:19.758Z"
   },
   {
    "duration": 43,
    "start_time": "2021-12-27T16:19:19.823Z"
   },
   {
    "duration": 110,
    "start_time": "2021-12-27T16:19:19.869Z"
   },
   {
    "duration": 4538,
    "start_time": "2021-12-27T16:19:19.982Z"
   },
   {
    "duration": 4957,
    "start_time": "2021-12-27T16:19:24.523Z"
   },
   {
    "duration": 5631,
    "start_time": "2021-12-27T16:24:28.957Z"
   },
   {
    "duration": 4708,
    "start_time": "2021-12-27T16:26:21.249Z"
   },
   {
    "duration": 4713,
    "start_time": "2021-12-27T16:26:42.386Z"
   },
   {
    "duration": 4823,
    "start_time": "2021-12-27T16:27:26.648Z"
   },
   {
    "duration": 4726,
    "start_time": "2021-12-27T16:28:12.277Z"
   },
   {
    "duration": 5160,
    "start_time": "2021-12-27T16:28:26.492Z"
   },
   {
    "duration": 4839,
    "start_time": "2021-12-27T16:32:30.800Z"
   },
   {
    "duration": 4763,
    "start_time": "2021-12-27T16:32:58.370Z"
   },
   {
    "duration": 6,
    "start_time": "2021-12-27T18:30:46.925Z"
   },
   {
    "duration": 7,
    "start_time": "2021-12-27T18:31:01.013Z"
   },
   {
    "duration": 101,
    "start_time": "2021-12-27T18:40:41.164Z"
   },
   {
    "duration": 411,
    "start_time": "2021-12-27T18:40:46.573Z"
   },
   {
    "duration": 12,
    "start_time": "2021-12-27T18:42:15.756Z"
   },
   {
    "duration": 16,
    "start_time": "2021-12-27T18:44:08.068Z"
   },
   {
    "duration": 15,
    "start_time": "2021-12-27T18:45:49.097Z"
   },
   {
    "duration": 362,
    "start_time": "2021-12-27T18:46:27.773Z"
   },
   {
    "duration": 14,
    "start_time": "2021-12-27T18:46:36.670Z"
   },
   {
    "duration": 15,
    "start_time": "2021-12-27T18:47:57.066Z"
   },
   {
    "duration": 15,
    "start_time": "2021-12-27T18:49:07.765Z"
   },
   {
    "duration": 5313,
    "start_time": "2021-12-27T19:01:07.843Z"
   },
   {
    "duration": 5418,
    "start_time": "2021-12-27T19:02:25.001Z"
   },
   {
    "duration": 180,
    "start_time": "2021-12-27T19:03:14.355Z"
   },
   {
    "duration": 41,
    "start_time": "2021-12-27T19:03:14.537Z"
   },
   {
    "duration": 72,
    "start_time": "2021-12-27T19:03:14.581Z"
   },
   {
    "duration": 103,
    "start_time": "2021-12-27T19:03:14.655Z"
   },
   {
    "duration": 4690,
    "start_time": "2021-12-27T19:03:14.760Z"
   },
   {
    "duration": 5257,
    "start_time": "2021-12-27T19:03:19.452Z"
   },
   {
    "duration": 15,
    "start_time": "2021-12-27T19:03:24.717Z"
   },
   {
    "duration": 5764,
    "start_time": "2021-12-27T19:06:28.148Z"
   },
   {
    "duration": 283,
    "start_time": "2021-12-27T19:06:44.982Z"
   },
   {
    "duration": 65,
    "start_time": "2021-12-27T19:06:45.267Z"
   },
   {
    "duration": 43,
    "start_time": "2021-12-27T19:06:45.336Z"
   },
   {
    "duration": 107,
    "start_time": "2021-12-27T19:06:45.382Z"
   },
   {
    "duration": 5413,
    "start_time": "2021-12-27T19:06:45.516Z"
   },
   {
    "duration": 5877,
    "start_time": "2021-12-27T19:06:50.931Z"
   },
   {
    "duration": 27,
    "start_time": "2021-12-27T19:06:56.811Z"
   },
   {
    "duration": 11,
    "start_time": "2021-12-27T19:18:03.379Z"
   },
   {
    "duration": 13,
    "start_time": "2021-12-27T19:18:16.433Z"
   },
   {
    "duration": 17,
    "start_time": "2021-12-27T19:18:21.530Z"
   },
   {
    "duration": 93,
    "start_time": "2021-12-27T19:37:38.279Z"
   },
   {
    "duration": -620,
    "start_time": "2021-12-27T19:42:30.065Z"
   },
   {
    "duration": -622,
    "start_time": "2021-12-27T19:42:30.069Z"
   },
   {
    "duration": -621,
    "start_time": "2021-12-27T19:42:30.071Z"
   },
   {
    "duration": -620,
    "start_time": "2021-12-27T19:42:30.073Z"
   },
   {
    "duration": -620,
    "start_time": "2021-12-27T19:42:30.076Z"
   },
   {
    "duration": -619,
    "start_time": "2021-12-27T19:42:30.078Z"
   },
   {
    "duration": -619,
    "start_time": "2021-12-27T19:42:30.081Z"
   },
   {
    "duration": 213,
    "start_time": "2021-12-27T19:42:41.855Z"
   },
   {
    "duration": 75,
    "start_time": "2021-12-27T19:42:42.071Z"
   },
   {
    "duration": 67,
    "start_time": "2021-12-27T19:42:42.150Z"
   },
   {
    "duration": 111,
    "start_time": "2021-12-27T19:42:42.220Z"
   },
   {
    "duration": 4618,
    "start_time": "2021-12-27T19:42:42.333Z"
   },
   {
    "duration": 5542,
    "start_time": "2021-12-27T19:42:46.954Z"
   },
   {
    "duration": 244,
    "start_time": "2021-12-27T20:05:27.656Z"
   },
   {
    "duration": 44,
    "start_time": "2021-12-27T20:06:07.437Z"
   },
   {
    "duration": 196,
    "start_time": "2021-12-27T20:07:34.631Z"
   },
   {
    "duration": 39,
    "start_time": "2021-12-27T20:07:34.830Z"
   },
   {
    "duration": 75,
    "start_time": "2021-12-27T20:07:34.872Z"
   },
   {
    "duration": 97,
    "start_time": "2021-12-27T20:07:34.950Z"
   },
   {
    "duration": 4606,
    "start_time": "2021-12-27T20:07:35.050Z"
   },
   {
    "duration": 5506,
    "start_time": "2021-12-27T20:07:39.658Z"
   },
   {
    "duration": 3,
    "start_time": "2021-12-27T20:07:45.166Z"
   },
   {
    "duration": 273,
    "start_time": "2021-12-27T20:17:59.528Z"
   },
   {
    "duration": 331,
    "start_time": "2021-12-27T20:18:27.333Z"
   },
   {
    "duration": 460,
    "start_time": "2021-12-27T20:18:42.686Z"
   },
   {
    "duration": 279,
    "start_time": "2021-12-27T20:21:26.836Z"
   },
   {
    "duration": 255,
    "start_time": "2021-12-27T20:21:34.698Z"
   },
   {
    "duration": 256,
    "start_time": "2021-12-27T20:22:04.357Z"
   },
   {
    "duration": 259,
    "start_time": "2021-12-27T20:25:24.447Z"
   },
   {
    "duration": 39,
    "start_time": "2021-12-27T20:31:52.339Z"
   },
   {
    "duration": 29,
    "start_time": "2021-12-27T20:32:05.706Z"
   },
   {
    "duration": 485,
    "start_time": "2021-12-27T20:32:21.721Z"
   },
   {
    "duration": 50,
    "start_time": "2021-12-27T20:32:41.302Z"
   },
   {
    "duration": 28,
    "start_time": "2021-12-27T20:33:02.373Z"
   },
   {
    "duration": 298,
    "start_time": "2021-12-27T20:36:03.000Z"
   },
   {
    "duration": 504,
    "start_time": "2021-12-27T20:36:06.449Z"
   },
   {
    "duration": 31,
    "start_time": "2021-12-27T20:36:39.762Z"
   },
   {
    "duration": 6225,
    "start_time": "2021-12-27T20:37:10.674Z"
   },
   {
    "duration": 6353,
    "start_time": "2021-12-27T20:37:21.492Z"
   },
   {
    "duration": 29,
    "start_time": "2021-12-27T20:40:17.829Z"
   },
   {
    "duration": 6368,
    "start_time": "2021-12-27T20:42:47.460Z"
   },
   {
    "duration": 30,
    "start_time": "2021-12-27T20:48:11.573Z"
   },
   {
    "duration": -649,
    "start_time": "2021-12-27T20:49:10.399Z"
   },
   {
    "duration": 295,
    "start_time": "2021-12-27T20:51:37.214Z"
   },
   {
    "duration": 28,
    "start_time": "2021-12-27T20:51:43.524Z"
   },
   {
    "duration": -357,
    "start_time": "2021-12-27T20:53:05.487Z"
   },
   {
    "duration": 6623,
    "start_time": "2021-12-27T20:53:13.836Z"
   },
   {
    "duration": 6610,
    "start_time": "2021-12-27T20:53:31.605Z"
   },
   {
    "duration": 31,
    "start_time": "2021-12-27T20:53:44.708Z"
   },
   {
    "duration": 33,
    "start_time": "2021-12-27T20:54:15.654Z"
   },
   {
    "duration": 277,
    "start_time": "2021-12-27T20:56:45.409Z"
   },
   {
    "duration": 279,
    "start_time": "2021-12-27T20:57:24.092Z"
   },
   {
    "duration": 30,
    "start_time": "2021-12-27T20:57:46.905Z"
   },
   {
    "duration": 34,
    "start_time": "2021-12-27T21:04:11.428Z"
   },
   {
    "duration": 521,
    "start_time": "2021-12-28T16:10:42.479Z"
   },
   {
    "duration": 1082,
    "start_time": "2021-12-28T16:10:49.002Z"
   },
   {
    "duration": 43,
    "start_time": "2021-12-28T16:10:50.088Z"
   },
   {
    "duration": 45,
    "start_time": "2021-12-28T16:10:50.158Z"
   },
   {
    "duration": 112,
    "start_time": "2021-12-28T16:10:50.205Z"
   },
   {
    "duration": 5415,
    "start_time": "2021-12-28T16:10:50.319Z"
   },
   {
    "duration": 6735,
    "start_time": "2021-12-28T16:10:55.736Z"
   },
   {
    "duration": 34,
    "start_time": "2021-12-28T16:11:02.474Z"
   },
   {
    "duration": 61,
    "start_time": "2021-12-28T16:11:02.511Z"
   },
   {
    "duration": 29,
    "start_time": "2021-12-28T16:11:02.575Z"
   },
   {
    "duration": 5,
    "start_time": "2021-12-28T16:12:58.566Z"
   },
   {
    "duration": 7,
    "start_time": "2021-12-28T16:13:37.123Z"
   },
   {
    "duration": 11,
    "start_time": "2021-12-28T16:15:10.757Z"
   },
   {
    "duration": 445,
    "start_time": "2021-12-28T16:19:35.128Z"
   },
   {
    "duration": 561,
    "start_time": "2021-12-28T16:20:22.327Z"
   },
   {
    "duration": 403,
    "start_time": "2021-12-28T16:21:08.194Z"
   },
   {
    "duration": 410,
    "start_time": "2021-12-28T16:21:45.450Z"
   },
   {
    "duration": 399,
    "start_time": "2021-12-28T16:24:16.405Z"
   },
   {
    "duration": 183,
    "start_time": "2021-12-28T16:24:31.678Z"
   },
   {
    "duration": 515,
    "start_time": "2021-12-28T16:24:38.211Z"
   },
   {
    "duration": 544,
    "start_time": "2021-12-28T16:25:25.754Z"
   },
   {
    "duration": 407,
    "start_time": "2021-12-28T16:25:45.787Z"
   },
   {
    "duration": 66,
    "start_time": "2021-12-28T16:27:39.961Z"
   },
   {
    "duration": 18,
    "start_time": "2021-12-28T16:28:18.354Z"
   },
   {
    "duration": 21,
    "start_time": "2021-12-28T16:28:39.001Z"
   },
   {
    "duration": 425,
    "start_time": "2021-12-28T16:29:26.911Z"
   },
   {
    "duration": 738,
    "start_time": "2021-12-28T16:29:32.821Z"
   },
   {
    "duration": 29,
    "start_time": "2021-12-28T16:29:52.026Z"
   },
   {
    "duration": 28,
    "start_time": "2021-12-28T16:30:48.349Z"
   },
   {
    "duration": 23,
    "start_time": "2021-12-28T16:31:01.371Z"
   },
   {
    "duration": 20,
    "start_time": "2021-12-28T16:34:10.668Z"
   },
   {
    "duration": 142,
    "start_time": "2021-12-28T16:42:02.984Z"
   },
   {
    "duration": 7848,
    "start_time": "2021-12-28T16:42:23.314Z"
   },
   {
    "duration": 8004,
    "start_time": "2021-12-28T16:43:14.491Z"
   },
   {
    "duration": 191,
    "start_time": "2021-12-28T16:44:10.232Z"
   },
   {
    "duration": 64,
    "start_time": "2021-12-28T16:44:10.426Z"
   },
   {
    "duration": 82,
    "start_time": "2021-12-28T16:44:10.494Z"
   },
   {
    "duration": 121,
    "start_time": "2021-12-28T16:44:10.579Z"
   },
   {
    "duration": 5832,
    "start_time": "2021-12-28T16:44:10.703Z"
   },
   {
    "duration": 7985,
    "start_time": "2021-12-28T16:44:16.538Z"
   },
   {
    "duration": 59,
    "start_time": "2021-12-28T16:44:24.525Z"
   },
   {
    "duration": 46,
    "start_time": "2021-12-28T16:44:24.589Z"
   },
   {
    "duration": 660,
    "start_time": "2021-12-28T16:44:24.638Z"
   },
   {
    "duration": 7299,
    "start_time": "2021-12-28T16:47:04.097Z"
   },
   {
    "duration": 192,
    "start_time": "2021-12-28T16:47:29.744Z"
   },
   {
    "duration": 53,
    "start_time": "2021-12-28T16:47:29.940Z"
   },
   {
    "duration": 72,
    "start_time": "2021-12-28T16:47:29.996Z"
   },
   {
    "duration": 122,
    "start_time": "2021-12-28T16:47:30.071Z"
   },
   {
    "duration": 5653,
    "start_time": "2021-12-28T16:47:30.195Z"
   },
   {
    "duration": 8754,
    "start_time": "2021-12-28T16:47:35.851Z"
   },
   {
    "duration": 60,
    "start_time": "2021-12-28T16:47:44.608Z"
   },
   {
    "duration": 48,
    "start_time": "2021-12-28T16:47:44.672Z"
   },
   {
    "duration": 645,
    "start_time": "2021-12-28T16:47:44.724Z"
   },
   {
    "duration": 7361,
    "start_time": "2021-12-28T16:49:52.056Z"
   },
   {
    "duration": 190,
    "start_time": "2021-12-28T16:50:03.448Z"
   },
   {
    "duration": 61,
    "start_time": "2021-12-28T16:50:03.641Z"
   },
   {
    "duration": 79,
    "start_time": "2021-12-28T16:50:03.706Z"
   },
   {
    "duration": 112,
    "start_time": "2021-12-28T16:50:03.788Z"
   },
   {
    "duration": 5677,
    "start_time": "2021-12-28T16:50:03.903Z"
   },
   {
    "duration": 8981,
    "start_time": "2021-12-28T16:50:09.583Z"
   },
   {
    "duration": 51,
    "start_time": "2021-12-28T16:50:18.567Z"
   },
   {
    "duration": 72,
    "start_time": "2021-12-28T16:50:18.623Z"
   },
   {
    "duration": 473,
    "start_time": "2021-12-28T16:50:18.698Z"
   },
   {
    "duration": 291,
    "start_time": "2021-12-28T16:51:57.069Z"
   },
   {
    "duration": 58,
    "start_time": "2021-12-28T16:51:57.364Z"
   },
   {
    "duration": 71,
    "start_time": "2021-12-28T16:51:57.425Z"
   },
   {
    "duration": 115,
    "start_time": "2021-12-28T16:51:57.499Z"
   },
   {
    "duration": 6103,
    "start_time": "2021-12-28T16:51:57.617Z"
   },
   {
    "duration": 7987,
    "start_time": "2021-12-28T16:52:03.722Z"
   },
   {
    "duration": 48,
    "start_time": "2021-12-28T16:52:11.711Z"
   },
   {
    "duration": 35,
    "start_time": "2021-12-28T16:52:11.763Z"
   },
   {
    "duration": 414,
    "start_time": "2021-12-28T16:52:11.800Z"
   },
   {
    "duration": 292,
    "start_time": "2021-12-28T16:54:58.394Z"
   },
   {
    "duration": 79,
    "start_time": "2021-12-28T16:54:58.690Z"
   },
   {
    "duration": 42,
    "start_time": "2021-12-28T16:54:58.772Z"
   },
   {
    "duration": 114,
    "start_time": "2021-12-28T16:54:58.817Z"
   },
   {
    "duration": 5691,
    "start_time": "2021-12-28T16:54:58.958Z"
   },
   {
    "duration": 7310,
    "start_time": "2021-12-28T16:55:04.659Z"
   },
   {
    "duration": 37,
    "start_time": "2021-12-28T16:55:11.972Z"
   },
   {
    "duration": 65,
    "start_time": "2021-12-28T16:55:12.012Z"
   },
   {
    "duration": 30,
    "start_time": "2021-12-28T16:55:12.081Z"
   },
   {
    "duration": 29,
    "start_time": "2021-12-28T16:55:51.272Z"
   },
   {
    "duration": 7655,
    "start_time": "2021-12-28T17:03:26.258Z"
   },
   {
    "duration": 7517,
    "start_time": "2021-12-28T17:03:51.593Z"
   },
   {
    "duration": 30,
    "start_time": "2021-12-28T17:30:29.693Z"
   },
   {
    "duration": 47,
    "start_time": "2021-12-28T17:30:39.343Z"
   },
   {
    "duration": 34,
    "start_time": "2021-12-28T17:30:46.664Z"
   },
   {
    "duration": 29,
    "start_time": "2021-12-28T17:30:55.843Z"
   },
   {
    "duration": 32,
    "start_time": "2021-12-28T17:31:03.073Z"
   },
   {
    "duration": 31,
    "start_time": "2021-12-28T17:31:13.777Z"
   },
   {
    "duration": 31,
    "start_time": "2021-12-28T17:32:29.630Z"
   },
   {
    "duration": 207,
    "start_time": "2021-12-28T17:43:09.366Z"
   },
   {
    "duration": 85,
    "start_time": "2021-12-28T17:43:09.577Z"
   },
   {
    "duration": 50,
    "start_time": "2021-12-28T17:43:09.667Z"
   },
   {
    "duration": 158,
    "start_time": "2021-12-28T17:43:09.721Z"
   },
   {
    "duration": 5933,
    "start_time": "2021-12-28T17:43:09.882Z"
   },
   {
    "duration": 7834,
    "start_time": "2021-12-28T17:43:15.819Z"
   },
   {
    "duration": 34,
    "start_time": "2021-12-28T17:43:23.660Z"
   },
   {
    "duration": 30,
    "start_time": "2021-12-28T17:43:23.697Z"
   },
   {
    "duration": 55,
    "start_time": "2021-12-28T17:43:23.729Z"
   },
   {
    "duration": 28,
    "start_time": "2021-12-28T17:43:23.786Z"
   },
   {
    "duration": 199,
    "start_time": "2021-12-28T18:12:21.576Z"
   },
   {
    "duration": 49,
    "start_time": "2021-12-28T18:12:21.777Z"
   },
   {
    "duration": 75,
    "start_time": "2021-12-28T18:12:21.829Z"
   },
   {
    "duration": 120,
    "start_time": "2021-12-28T18:12:21.907Z"
   },
   {
    "duration": 5967,
    "start_time": "2021-12-28T18:12:22.029Z"
   },
   {
    "duration": 7376,
    "start_time": "2021-12-28T18:12:28.000Z"
   },
   {
    "duration": 35,
    "start_time": "2021-12-28T18:12:35.378Z"
   },
   {
    "duration": 59,
    "start_time": "2021-12-28T18:12:35.416Z"
   },
   {
    "duration": 28,
    "start_time": "2021-12-28T18:12:35.477Z"
   },
   {
    "duration": 64,
    "start_time": "2021-12-28T18:12:35.508Z"
   },
   {
    "duration": 837,
    "start_time": "2021-12-29T17:59:30.016Z"
   },
   {
    "duration": 69,
    "start_time": "2021-12-29T17:59:30.856Z"
   },
   {
    "duration": 46,
    "start_time": "2021-12-29T17:59:30.929Z"
   },
   {
    "duration": 100,
    "start_time": "2021-12-29T17:59:30.979Z"
   },
   {
    "duration": 4498,
    "start_time": "2021-12-29T17:59:31.081Z"
   },
   {
    "duration": 5384,
    "start_time": "2021-12-29T17:59:35.582Z"
   },
   {
    "duration": 28,
    "start_time": "2021-12-29T17:59:40.968Z"
   },
   {
    "duration": 49,
    "start_time": "2021-12-29T17:59:40.999Z"
   },
   {
    "duration": 25,
    "start_time": "2021-12-29T17:59:41.050Z"
   },
   {
    "duration": 53,
    "start_time": "2021-12-29T17:59:41.077Z"
   },
   {
    "duration": 533,
    "start_time": "2022-01-06T21:17:58.857Z"
   },
   {
    "duration": 728,
    "start_time": "2022-01-06T21:20:49.014Z"
   },
   {
    "duration": 10759,
    "start_time": "2022-01-06T21:21:02.083Z"
   },
   {
    "duration": 126,
    "start_time": "2022-01-06T21:21:16.724Z"
   },
   {
    "duration": 3424,
    "start_time": "2022-01-06T21:21:31.309Z"
   },
   {
    "duration": 116,
    "start_time": "2022-01-06T21:29:33.866Z"
   },
   {
    "duration": 111,
    "start_time": "2022-01-06T21:31:30.768Z"
   },
   {
    "duration": 8794,
    "start_time": "2022-01-06T21:33:02.384Z"
   },
   {
    "duration": 3508,
    "start_time": "2022-01-06T21:33:29.756Z"
   },
   {
    "duration": 4026,
    "start_time": "2022-01-06T21:34:35.867Z"
   },
   {
    "duration": 22,
    "start_time": "2022-01-06T21:37:49.955Z"
   },
   {
    "duration": 19,
    "start_time": "2022-01-06T21:37:53.746Z"
   },
   {
    "duration": 18,
    "start_time": "2022-01-06T21:37:57.475Z"
   },
   {
    "duration": 20,
    "start_time": "2022-01-06T21:38:00.383Z"
   },
   {
    "duration": 112,
    "start_time": "2022-01-06T21:38:32.748Z"
   },
   {
    "duration": 11100,
    "start_time": "2022-01-06T21:38:32.862Z"
   },
   {
    "duration": 27,
    "start_time": "2022-01-06T21:38:43.965Z"
   },
   {
    "duration": 150,
    "start_time": "2022-01-06T21:38:43.994Z"
   },
   {
    "duration": 3414,
    "start_time": "2022-01-06T21:38:44.146Z"
   },
   {
    "duration": 4302,
    "start_time": "2022-01-06T21:38:47.562Z"
   },
   {
    "duration": 22,
    "start_time": "2022-01-06T21:38:51.866Z"
   },
   {
    "duration": 18,
    "start_time": "2022-01-06T21:38:51.891Z"
   },
   {
    "duration": 40,
    "start_time": "2022-01-06T21:38:51.911Z"
   },
   {
    "duration": 18,
    "start_time": "2022-01-06T21:38:51.952Z"
   },
   {
    "duration": 569,
    "start_time": "2022-01-06T21:40:43.137Z"
   },
   {
    "duration": 18,
    "start_time": "2022-01-06T21:41:10.379Z"
   },
   {
    "duration": 56,
    "start_time": "2022-01-06T21:51:33.584Z"
   },
   {
    "duration": 19,
    "start_time": "2022-01-06T21:51:39.274Z"
   },
   {
    "duration": 20,
    "start_time": "2022-01-06T22:35:11.968Z"
   },
   {
    "duration": 21,
    "start_time": "2022-01-06T22:38:23.825Z"
   },
   {
    "duration": 19,
    "start_time": "2022-01-06T22:38:34.074Z"
   },
   {
    "duration": 22,
    "start_time": "2022-01-06T22:39:43.950Z"
   },
   {
    "duration": 22,
    "start_time": "2022-01-06T22:40:18.411Z"
   },
   {
    "duration": 21,
    "start_time": "2022-01-06T22:42:53.325Z"
   },
   {
    "duration": 26,
    "start_time": "2022-01-06T22:43:35.624Z"
   },
   {
    "duration": 22,
    "start_time": "2022-01-06T22:44:45.024Z"
   },
   {
    "duration": 28,
    "start_time": "2022-01-06T22:46:09.855Z"
   },
   {
    "duration": 100,
    "start_time": "2022-01-06T22:58:25.449Z"
   },
   {
    "duration": 85,
    "start_time": "2022-01-06T22:58:36.142Z"
   },
   {
    "duration": 24,
    "start_time": "2022-01-06T22:58:45.899Z"
   },
   {
    "duration": 22,
    "start_time": "2022-01-06T22:59:17.685Z"
   },
   {
    "duration": 26,
    "start_time": "2022-01-06T23:00:09.989Z"
   },
   {
    "duration": 22,
    "start_time": "2022-01-06T23:00:52.026Z"
   },
   {
    "duration": 22,
    "start_time": "2022-01-06T23:01:48.499Z"
   },
   {
    "duration": 113,
    "start_time": "2022-01-06T23:14:22.182Z"
   },
   {
    "duration": 10806,
    "start_time": "2022-01-06T23:14:22.297Z"
   },
   {
    "duration": 38,
    "start_time": "2022-01-06T23:14:33.105Z"
   },
   {
    "duration": 151,
    "start_time": "2022-01-06T23:14:33.144Z"
   },
   {
    "duration": 3549,
    "start_time": "2022-01-06T23:14:33.296Z"
   },
   {
    "duration": 4050,
    "start_time": "2022-01-06T23:14:36.847Z"
   },
   {
    "duration": 26,
    "start_time": "2022-01-06T23:14:40.899Z"
   },
   {
    "duration": 31,
    "start_time": "2022-01-06T23:14:40.928Z"
   },
   {
    "duration": 21,
    "start_time": "2022-01-06T23:14:40.961Z"
   },
   {
    "duration": 20,
    "start_time": "2022-01-06T23:14:40.984Z"
   },
   {
    "duration": 861,
    "start_time": "2022-01-09T15:17:40.315Z"
   },
   {
    "duration": 14419,
    "start_time": "2022-01-09T15:17:41.179Z"
   },
   {
    "duration": 50,
    "start_time": "2022-01-09T15:17:55.600Z"
   },
   {
    "duration": 194,
    "start_time": "2022-01-09T15:17:55.652Z"
   },
   {
    "duration": 3731,
    "start_time": "2022-01-09T15:17:55.848Z"
   },
   {
    "duration": 4475,
    "start_time": "2022-01-09T15:17:59.581Z"
   },
   {
    "duration": 33,
    "start_time": "2022-01-09T15:18:04.058Z"
   },
   {
    "duration": 39,
    "start_time": "2022-01-09T15:18:04.093Z"
   },
   {
    "duration": 26,
    "start_time": "2022-01-09T15:18:04.134Z"
   },
   {
    "duration": 25,
    "start_time": "2022-01-09T15:18:04.162Z"
   }
  ],
  "kernelspec": {
   "display_name": "Python 3 (ipykernel)",
   "language": "python",
   "name": "python3"
  },
  "language_info": {
   "codemirror_mode": {
    "name": "ipython",
    "version": 3
   },
   "file_extension": ".py",
   "mimetype": "text/x-python",
   "name": "python",
   "nbconvert_exporter": "python",
   "pygments_lexer": "ipython3",
   "version": "3.9.12"
  },
  "toc": {
   "base_numbering": 1,
   "nav_menu": {},
   "number_sections": true,
   "sideBar": true,
   "skip_h1_title": true,
   "title_cell": "Содержание",
   "title_sidebar": "Содержание",
   "toc_cell": true,
   "toc_position": {},
   "toc_section_display": true,
   "toc_window_display": true
  },
  "varInspector": {
   "cols": {
    "lenName": 16,
    "lenType": 16,
    "lenVar": 40
   },
   "kernels_config": {
    "python": {
     "delete_cmd_postfix": "",
     "delete_cmd_prefix": "del ",
     "library": "var_list.py",
     "varRefreshCmd": "print(var_dic_list())"
    },
    "r": {
     "delete_cmd_postfix": ") ",
     "delete_cmd_prefix": "rm(",
     "library": "var_list.r",
     "varRefreshCmd": "cat(var_dic_list()) "
    }
   },
   "types_to_exclude": [
    "module",
    "function",
    "builtin_function_or_method",
    "instance",
    "_Feature"
   ],
   "window_display": false
  }
 },
 "nbformat": 4,
 "nbformat_minor": 2
}

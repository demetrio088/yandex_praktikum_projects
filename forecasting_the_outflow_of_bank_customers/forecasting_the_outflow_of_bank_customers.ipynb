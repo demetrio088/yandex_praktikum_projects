{
 "cells": [
  {
   "cell_type": "markdown",
   "metadata": {},
   "source": [
    "# Отток клиентов"
   ]
  },
  {
   "cell_type": "markdown",
   "metadata": {},
   "source": [
    "Из «Бета-Банка» стали уходить клиенты. Каждый месяц. Немного, но заметно. Банковские маркетологи посчитали: сохранять текущих клиентов дешевле, чем привлекать новых.\n",
    "\n",
    "Нужно спрогнозировать, уйдёт клиент из банка в ближайшее время или нет. Нам предоставлены исторические данные о поведении клиентов и расторжении договоров с банком. \n",
    "\n",
    "Необходимо построить модель с предельно большим значением *F1*-меры. Нужно довести метрику до 0.59.\n",
    "\n",
    "Источник данных: [https://www.kaggle.com/barelydedicated/bank-customer-churn-modeling](https://www.kaggle.com/barelydedicated/bank-customer-churn-modeling)"
   ]
  },
  {
   "cell_type": "markdown",
   "metadata": {
    "toc": true
   },
   "source": [
    "<h1>Содержание<span class=\"tocSkip\"></span></h1>\n",
    "<div class=\"toc\"><ul class=\"toc-item\"><li><span><a href=\"#Подготовка-данных\" data-toc-modified-id=\"Подготовка-данных-1\"><span class=\"toc-item-num\">1&nbsp;&nbsp;</span>Подготовка данных</a></span><ul class=\"toc-item\"><li><span><a href=\"#Импорт-библиотек-проекта\" data-toc-modified-id=\"Импорт-библиотек-проекта-1.1\"><span class=\"toc-item-num\">1.1&nbsp;&nbsp;</span>Импорт библиотек проекта</a></span></li><li><span><a href=\"#Предварительный-анализ-данных-проекта,-предложения-по-корректировкам\" data-toc-modified-id=\"Предварительный-анализ-данных-проекта,-предложения-по-корректировкам-1.2\"><span class=\"toc-item-num\">1.2&nbsp;&nbsp;</span>Предварительный анализ данных проекта, предложения по корректировкам</a></span></li><li><span><a href=\"#Признаки-и-оценка-перечня-корректировок-для-подготовки-данных\" data-toc-modified-id=\"Признаки-и-оценка-перечня-корректировок-для-подготовки-данных-1.3\"><span class=\"toc-item-num\">1.3&nbsp;&nbsp;</span>Признаки и оценка перечня корректировок для подготовки данных</a></span></li><li><span><a href=\"#Корректировки-датасета\" data-toc-modified-id=\"Корректировки-датасета-1.4\"><span class=\"toc-item-num\">1.4&nbsp;&nbsp;</span>Корректировки датасета</a></span><ul class=\"toc-item\"><li><span><a href=\"#Приведение-стиля-заголовков-к-змеиному-стилю,-переименование-части-заголовков\" data-toc-modified-id=\"Приведение-стиля-заголовков-к-змеиному-стилю,-переименование-части-заголовков-1.4.1\"><span class=\"toc-item-num\">1.4.1&nbsp;&nbsp;</span>Приведение стиля заголовков к змеиному стилю, переименование части заголовков</a></span></li><li><span><a href=\"#Оценка-корреляций-между-признаками,-выявление-мультиколлинеарных-признаков-и-устранение-с-целью-снижения-риска-переобучения-моделей-в-последующем-анализе\" data-toc-modified-id=\"Оценка-корреляций-между-признаками,-выявление-мультиколлинеарных-признаков-и-устранение-с-целью-снижения-риска-переобучения-моделей-в-последующем-анализе-1.4.2\"><span class=\"toc-item-num\">1.4.2&nbsp;&nbsp;</span>Оценка корреляций между признаками, выявление мультиколлинеарных признаков и устранение с целью снижения риска переобучения моделей в последующем анализе</a></span></li><li><span><a href=\"#Анализ-пропусков-и-заполнение-их-на-основе-выявленных-закономерностей-влияющих-на-данные-в-столбцах-с-пропусками\" data-toc-modified-id=\"Анализ-пропусков-и-заполнение-их-на-основе-выявленных-закономерностей-влияющих-на-данные-в-столбцах-с-пропусками-1.4.3\"><span class=\"toc-item-num\">1.4.3&nbsp;&nbsp;</span>Анализ пропусков и заполнение их на основе выявленных закономерностей влияющих на данные в столбцах с пропусками</a></span></li><li><span><a href=\"#Проведение-проверки-на-предмет-наличия-дубликатов-и-удаление-дубликатов-с-перезагрузкой-индекса\" data-toc-modified-id=\"Проведение-проверки-на-предмет-наличия-дубликатов-и-удаление-дубликатов-с-перезагрузкой-индекса-1.4.4\"><span class=\"toc-item-num\">1.4.4&nbsp;&nbsp;</span>Проведение проверки на предмет наличия дубликатов и удаление дубликатов с перезагрузкой индекса</a></span></li><li><span><a href=\"#Анализ-несущественных-для-целей-исследования-признаков,-удаление-этих-признаков-из-датасета\" data-toc-modified-id=\"Анализ-несущественных-для-целей-исследования-признаков,-удаление-этих-признаков-из-датасета-1.4.5\"><span class=\"toc-item-num\">1.4.5&nbsp;&nbsp;</span>Анализ несущественных для целей исследования признаков, удаление этих признаков из датасета</a></span></li><li><span><a href=\"#Анализ-и-приведение-к-корректным-типам-данных-датасета.\" data-toc-modified-id=\"Анализ-и-приведение-к-корректным-типам-данных-датасета.-1.4.6\"><span class=\"toc-item-num\">1.4.6&nbsp;&nbsp;</span>Анализ и приведение к корректным типам данных датасета.</a></span></li><li><span><a href=\"#Подготовка-признаков\" data-toc-modified-id=\"Подготовка-признаков-1.4.7\"><span class=\"toc-item-num\">1.4.7&nbsp;&nbsp;</span>Подготовка признаков</a></span></li><li><span><a href=\"#Масштабирование-признаков\" data-toc-modified-id=\"Масштабирование-признаков-1.4.8\"><span class=\"toc-item-num\">1.4.8&nbsp;&nbsp;</span>Масштабирование признаков</a></span></li></ul></li></ul></li><li><span><a href=\"#Исследование-задачи\" data-toc-modified-id=\"Исследование-задачи-2\"><span class=\"toc-item-num\">2&nbsp;&nbsp;</span>Исследование задачи</a></span><ul class=\"toc-item\"><li><span><a href=\"#Модель-на-основе-алгоритма-DecisionTreeClassifier-без-учета-дисбаланса-классов\" data-toc-modified-id=\"Модель-на-основе-алгоритма-DecisionTreeClassifier-без-учета-дисбаланса-классов-2.1\"><span class=\"toc-item-num\">2.1&nbsp;&nbsp;</span>Модель на основе алгоритма DecisionTreeClassifier без учета дисбаланса классов</a></span></li><li><span><a href=\"#Модель-на-основе-алгоритма-RandomForestClassifier-без-учета-дисбаланса-классов\" data-toc-modified-id=\"Модель-на-основе-алгоритма-RandomForestClassifier-без-учета-дисбаланса-классов-2.2\"><span class=\"toc-item-num\">2.2&nbsp;&nbsp;</span>Модель на основе алгоритма RandomForestClassifier без учета дисбаланса классов</a></span></li><li><span><a href=\"#Модель-на-основе-алгоритма-LogisticRegression-без-учета-дисбаланса-классов\" data-toc-modified-id=\"Модель-на-основе-алгоритма-LogisticRegression-без-учета-дисбаланса-классов-2.3\"><span class=\"toc-item-num\">2.3&nbsp;&nbsp;</span>Модель на основе алгоритма LogisticRegression без учета дисбаланса классов</a></span></li></ul></li><li><span><a href=\"#Борьба-с-дисбалансом\" data-toc-modified-id=\"Борьба-с-дисбалансом-3\"><span class=\"toc-item-num\">3&nbsp;&nbsp;</span>Борьба с дисбалансом</a></span><ul class=\"toc-item\"><li><span><a href=\"#Модель-на-основе-алгоритма-DecisionTreeClassifier\" data-toc-modified-id=\"Модель-на-основе-алгоритма-DecisionTreeClassifier-3.1\"><span class=\"toc-item-num\">3.1&nbsp;&nbsp;</span>Модель на основе алгоритма DecisionTreeClassifier</a></span><ul class=\"toc-item\"><li><span><a href=\"#Взвешивание-классов\" data-toc-modified-id=\"Взвешивание-классов-3.1.1\"><span class=\"toc-item-num\">3.1.1&nbsp;&nbsp;</span>Взвешивание классов</a></span></li><li><span><a href=\"#Увеличение-выборки\" data-toc-modified-id=\"Увеличение-выборки-3.1.2\"><span class=\"toc-item-num\">3.1.2&nbsp;&nbsp;</span>Увеличение выборки</a></span></li><li><span><a href=\"#Уменьшение-выборки\" data-toc-modified-id=\"Уменьшение-выборки-3.1.3\"><span class=\"toc-item-num\">3.1.3&nbsp;&nbsp;</span>Уменьшение выборки</a></span></li></ul></li><li><span><a href=\"#Модель-на-основе-алгоритма-RandomForestClassifier\" data-toc-modified-id=\"Модель-на-основе-алгоритма-RandomForestClassifier-3.2\"><span class=\"toc-item-num\">3.2&nbsp;&nbsp;</span>Модель на основе алгоритма RandomForestClassifier</a></span><ul class=\"toc-item\"><li><span><a href=\"#Взвешивание-классов\" data-toc-modified-id=\"Взвешивание-классов-3.2.1\"><span class=\"toc-item-num\">3.2.1&nbsp;&nbsp;</span>Взвешивание классов</a></span></li><li><span><a href=\"#Увеличение-выборки\" data-toc-modified-id=\"Увеличение-выборки-3.2.2\"><span class=\"toc-item-num\">3.2.2&nbsp;&nbsp;</span>Увеличение выборки</a></span></li><li><span><a href=\"#Уменьшение-выборки\" data-toc-modified-id=\"Уменьшение-выборки-3.2.3\"><span class=\"toc-item-num\">3.2.3&nbsp;&nbsp;</span>Уменьшение выборки</a></span></li></ul></li><li><span><a href=\"#Модель-на-основе-алгоритма-LogisticRegression\" data-toc-modified-id=\"Модель-на-основе-алгоритма-LogisticRegression-3.3\"><span class=\"toc-item-num\">3.3&nbsp;&nbsp;</span>Модель на основе алгоритма LogisticRegression</a></span><ul class=\"toc-item\"><li><span><a href=\"#Взвешивание-классов\" data-toc-modified-id=\"Взвешивание-классов-3.3.1\"><span class=\"toc-item-num\">3.3.1&nbsp;&nbsp;</span>Взвешивание классов</a></span></li><li><span><a href=\"#Увеличение-выборки\" data-toc-modified-id=\"Увеличение-выборки-3.3.2\"><span class=\"toc-item-num\">3.3.2&nbsp;&nbsp;</span>Увеличение выборки</a></span></li><li><span><a href=\"#Уменьшение-выборки\" data-toc-modified-id=\"Уменьшение-выборки-3.3.3\"><span class=\"toc-item-num\">3.3.3&nbsp;&nbsp;</span>Уменьшение выборки</a></span></li></ul></li></ul></li><li><span><a href=\"#Сводная-информация-по-исследованию-перед-финальным-тестированием\" data-toc-modified-id=\"Сводная-информация-по-исследованию-перед-финальным-тестированием-4\"><span class=\"toc-item-num\">4&nbsp;&nbsp;</span>Сводная информация по исследованию перед финальным тестированием</a></span></li><li><span><a href=\"#Тестирование-моделей\" data-toc-modified-id=\"Тестирование-моделей-5\"><span class=\"toc-item-num\">5&nbsp;&nbsp;</span>Тестирование моделей</a></span><ul class=\"toc-item\"><li><span><a href=\"#Тестирование-модели-RandomForestClassifier-с-увеличением-выборки\" data-toc-modified-id=\"Тестирование-модели-RandomForestClassifier-с-увеличением-выборки-5.1\"><span class=\"toc-item-num\">5.1&nbsp;&nbsp;</span>Тестирование модели RandomForestClassifier с увеличением выборки</a></span></li><li><span><a href=\"#Тестирование-модели-RandomForestClassifier-без-учета-дисбаланса-классов\" data-toc-modified-id=\"Тестирование-модели-RandomForestClassifier-без-учета-дисбаланса-классов-5.2\"><span class=\"toc-item-num\">5.2&nbsp;&nbsp;</span>Тестирование модели RandomForestClassifier без учета дисбаланса классов</a></span></li><li><span><a href=\"#Тестирование-модели-RandomForestClassifier-с-уменьшением-выборки\" data-toc-modified-id=\"Тестирование-модели-RandomForestClassifier-с-уменьшением-выборки-5.3\"><span class=\"toc-item-num\">5.3&nbsp;&nbsp;</span>Тестирование модели RandomForestClassifier с уменьшением выборки</a></span></li></ul></li></ul></div>"
   ]
  },
  {
   "cell_type": "markdown",
   "metadata": {},
   "source": [
    "## Подготовка данных"
   ]
  },
  {
   "cell_type": "markdown",
   "metadata": {},
   "source": [
    "### Импорт библиотек проекта"
   ]
  },
  {
   "cell_type": "code",
   "execution_count": 122,
   "metadata": {},
   "outputs": [],
   "source": [
    "# импортируем необходимые для исследования библиотеки\n",
    "import pandas as pd\n",
    "import matplotlib.pyplot as plt\n",
    "import seaborn as sns\n",
    "import numpy as np\n",
    "from sklearn.model_selection import train_test_split\n",
    "from sklearn.preprocessing import StandardScaler\n",
    "from sklearn.tree import DecisionTreeClassifier \n",
    "from sklearn.ensemble import RandomForestClassifier \n",
    "from sklearn.linear_model import LogisticRegression \n",
    "from sklearn.metrics import precision_score, recall_score \n",
    "from sklearn.metrics import f1_score \n",
    "from sklearn.metrics import roc_auc_score\n",
    "from sklearn.metrics import confusion_matrix\n",
    "from sklearn.metrics import roc_curve\n",
    "from matplotlib import pyplot\n",
    "from sklearn.utils import shuffle\n",
    "import warnings\n",
    "import matplotlib.pyplot as plt\n",
    "\n",
    "# убираем незначительные предупреждения\n",
    "warnings.filterwarnings('ignore')\n",
    "# убираем лимиты на максимальное количество отображаемых данных\n",
    "pd.set_option('display.max_rows', None)\n",
    "pd.set_option('display.max_columns', None)"
   ]
  },
  {
   "cell_type": "markdown",
   "metadata": {},
   "source": [
    "### Предварительный анализ данных проекта, предложения по корректировкам"
   ]
  },
  {
   "cell_type": "code",
   "execution_count": 123,
   "metadata": {
    "scrolled": true
   },
   "outputs": [
    {
     "data": {
      "text/html": [
       "<div>\n",
       "<style scoped>\n",
       "    .dataframe tbody tr th:only-of-type {\n",
       "        vertical-align: middle;\n",
       "    }\n",
       "\n",
       "    .dataframe tbody tr th {\n",
       "        vertical-align: top;\n",
       "    }\n",
       "\n",
       "    .dataframe thead th {\n",
       "        text-align: right;\n",
       "    }\n",
       "</style>\n",
       "<table border=\"1\" class=\"dataframe\">\n",
       "  <thead>\n",
       "    <tr style=\"text-align: right;\">\n",
       "      <th></th>\n",
       "      <th>RowNumber</th>\n",
       "      <th>CustomerId</th>\n",
       "      <th>Surname</th>\n",
       "      <th>CreditScore</th>\n",
       "      <th>Geography</th>\n",
       "      <th>Gender</th>\n",
       "      <th>Age</th>\n",
       "      <th>Tenure</th>\n",
       "      <th>Balance</th>\n",
       "      <th>NumOfProducts</th>\n",
       "      <th>HasCrCard</th>\n",
       "      <th>IsActiveMember</th>\n",
       "      <th>EstimatedSalary</th>\n",
       "      <th>Exited</th>\n",
       "    </tr>\n",
       "  </thead>\n",
       "  <tbody>\n",
       "    <tr>\n",
       "      <th>0</th>\n",
       "      <td>1</td>\n",
       "      <td>15634602</td>\n",
       "      <td>Hargrave</td>\n",
       "      <td>619</td>\n",
       "      <td>France</td>\n",
       "      <td>Female</td>\n",
       "      <td>42</td>\n",
       "      <td>2.0</td>\n",
       "      <td>0.00</td>\n",
       "      <td>1</td>\n",
       "      <td>1</td>\n",
       "      <td>1</td>\n",
       "      <td>101348.88</td>\n",
       "      <td>1</td>\n",
       "    </tr>\n",
       "    <tr>\n",
       "      <th>1</th>\n",
       "      <td>2</td>\n",
       "      <td>15647311</td>\n",
       "      <td>Hill</td>\n",
       "      <td>608</td>\n",
       "      <td>Spain</td>\n",
       "      <td>Female</td>\n",
       "      <td>41</td>\n",
       "      <td>1.0</td>\n",
       "      <td>83807.86</td>\n",
       "      <td>1</td>\n",
       "      <td>0</td>\n",
       "      <td>1</td>\n",
       "      <td>112542.58</td>\n",
       "      <td>0</td>\n",
       "    </tr>\n",
       "    <tr>\n",
       "      <th>2</th>\n",
       "      <td>3</td>\n",
       "      <td>15619304</td>\n",
       "      <td>Onio</td>\n",
       "      <td>502</td>\n",
       "      <td>France</td>\n",
       "      <td>Female</td>\n",
       "      <td>42</td>\n",
       "      <td>8.0</td>\n",
       "      <td>159660.80</td>\n",
       "      <td>3</td>\n",
       "      <td>1</td>\n",
       "      <td>0</td>\n",
       "      <td>113931.57</td>\n",
       "      <td>1</td>\n",
       "    </tr>\n",
       "    <tr>\n",
       "      <th>3</th>\n",
       "      <td>4</td>\n",
       "      <td>15701354</td>\n",
       "      <td>Boni</td>\n",
       "      <td>699</td>\n",
       "      <td>France</td>\n",
       "      <td>Female</td>\n",
       "      <td>39</td>\n",
       "      <td>1.0</td>\n",
       "      <td>0.00</td>\n",
       "      <td>2</td>\n",
       "      <td>0</td>\n",
       "      <td>0</td>\n",
       "      <td>93826.63</td>\n",
       "      <td>0</td>\n",
       "    </tr>\n",
       "    <tr>\n",
       "      <th>4</th>\n",
       "      <td>5</td>\n",
       "      <td>15737888</td>\n",
       "      <td>Mitchell</td>\n",
       "      <td>850</td>\n",
       "      <td>Spain</td>\n",
       "      <td>Female</td>\n",
       "      <td>43</td>\n",
       "      <td>2.0</td>\n",
       "      <td>125510.82</td>\n",
       "      <td>1</td>\n",
       "      <td>1</td>\n",
       "      <td>1</td>\n",
       "      <td>79084.10</td>\n",
       "      <td>0</td>\n",
       "    </tr>\n",
       "    <tr>\n",
       "      <th>5</th>\n",
       "      <td>6</td>\n",
       "      <td>15574012</td>\n",
       "      <td>Chu</td>\n",
       "      <td>645</td>\n",
       "      <td>Spain</td>\n",
       "      <td>Male</td>\n",
       "      <td>44</td>\n",
       "      <td>8.0</td>\n",
       "      <td>113755.78</td>\n",
       "      <td>2</td>\n",
       "      <td>1</td>\n",
       "      <td>0</td>\n",
       "      <td>149756.71</td>\n",
       "      <td>1</td>\n",
       "    </tr>\n",
       "    <tr>\n",
       "      <th>6</th>\n",
       "      <td>7</td>\n",
       "      <td>15592531</td>\n",
       "      <td>Bartlett</td>\n",
       "      <td>822</td>\n",
       "      <td>France</td>\n",
       "      <td>Male</td>\n",
       "      <td>50</td>\n",
       "      <td>7.0</td>\n",
       "      <td>0.00</td>\n",
       "      <td>2</td>\n",
       "      <td>1</td>\n",
       "      <td>1</td>\n",
       "      <td>10062.80</td>\n",
       "      <td>0</td>\n",
       "    </tr>\n",
       "    <tr>\n",
       "      <th>7</th>\n",
       "      <td>8</td>\n",
       "      <td>15656148</td>\n",
       "      <td>Obinna</td>\n",
       "      <td>376</td>\n",
       "      <td>Germany</td>\n",
       "      <td>Female</td>\n",
       "      <td>29</td>\n",
       "      <td>4.0</td>\n",
       "      <td>115046.74</td>\n",
       "      <td>4</td>\n",
       "      <td>1</td>\n",
       "      <td>0</td>\n",
       "      <td>119346.88</td>\n",
       "      <td>1</td>\n",
       "    </tr>\n",
       "    <tr>\n",
       "      <th>8</th>\n",
       "      <td>9</td>\n",
       "      <td>15792365</td>\n",
       "      <td>He</td>\n",
       "      <td>501</td>\n",
       "      <td>France</td>\n",
       "      <td>Male</td>\n",
       "      <td>44</td>\n",
       "      <td>4.0</td>\n",
       "      <td>142051.07</td>\n",
       "      <td>2</td>\n",
       "      <td>0</td>\n",
       "      <td>1</td>\n",
       "      <td>74940.50</td>\n",
       "      <td>0</td>\n",
       "    </tr>\n",
       "    <tr>\n",
       "      <th>9</th>\n",
       "      <td>10</td>\n",
       "      <td>15592389</td>\n",
       "      <td>H?</td>\n",
       "      <td>684</td>\n",
       "      <td>France</td>\n",
       "      <td>Male</td>\n",
       "      <td>27</td>\n",
       "      <td>2.0</td>\n",
       "      <td>134603.88</td>\n",
       "      <td>1</td>\n",
       "      <td>1</td>\n",
       "      <td>1</td>\n",
       "      <td>71725.73</td>\n",
       "      <td>0</td>\n",
       "    </tr>\n",
       "  </tbody>\n",
       "</table>\n",
       "</div>"
      ],
      "text/plain": [
       "   RowNumber  CustomerId   Surname  CreditScore Geography  Gender  Age  \\\n",
       "0          1    15634602  Hargrave          619    France  Female   42   \n",
       "1          2    15647311      Hill          608     Spain  Female   41   \n",
       "2          3    15619304      Onio          502    France  Female   42   \n",
       "3          4    15701354      Boni          699    France  Female   39   \n",
       "4          5    15737888  Mitchell          850     Spain  Female   43   \n",
       "5          6    15574012       Chu          645     Spain    Male   44   \n",
       "6          7    15592531  Bartlett          822    France    Male   50   \n",
       "7          8    15656148    Obinna          376   Germany  Female   29   \n",
       "8          9    15792365        He          501    France    Male   44   \n",
       "9         10    15592389        H?          684    France    Male   27   \n",
       "\n",
       "   Tenure    Balance  NumOfProducts  HasCrCard  IsActiveMember  \\\n",
       "0     2.0       0.00              1          1               1   \n",
       "1     1.0   83807.86              1          0               1   \n",
       "2     8.0  159660.80              3          1               0   \n",
       "3     1.0       0.00              2          0               0   \n",
       "4     2.0  125510.82              1          1               1   \n",
       "5     8.0  113755.78              2          1               0   \n",
       "6     7.0       0.00              2          1               1   \n",
       "7     4.0  115046.74              4          1               0   \n",
       "8     4.0  142051.07              2          0               1   \n",
       "9     2.0  134603.88              1          1               1   \n",
       "\n",
       "   EstimatedSalary  Exited  \n",
       "0        101348.88       1  \n",
       "1        112542.58       0  \n",
       "2        113931.57       1  \n",
       "3         93826.63       0  \n",
       "4         79084.10       0  \n",
       "5        149756.71       1  \n",
       "6         10062.80       0  \n",
       "7        119346.88       1  \n",
       "8         74940.50       0  \n",
       "9         71725.73       0  "
      ]
     },
     "metadata": {},
     "output_type": "display_data"
    },
    {
     "data": {
      "text/html": [
       "<div>\n",
       "<style scoped>\n",
       "    .dataframe tbody tr th:only-of-type {\n",
       "        vertical-align: middle;\n",
       "    }\n",
       "\n",
       "    .dataframe tbody tr th {\n",
       "        vertical-align: top;\n",
       "    }\n",
       "\n",
       "    .dataframe thead th {\n",
       "        text-align: right;\n",
       "    }\n",
       "</style>\n",
       "<table border=\"1\" class=\"dataframe\">\n",
       "  <thead>\n",
       "    <tr style=\"text-align: right;\">\n",
       "      <th></th>\n",
       "      <th>RowNumber</th>\n",
       "      <th>CustomerId</th>\n",
       "      <th>Surname</th>\n",
       "      <th>CreditScore</th>\n",
       "      <th>Geography</th>\n",
       "      <th>Gender</th>\n",
       "      <th>Age</th>\n",
       "      <th>Tenure</th>\n",
       "      <th>Balance</th>\n",
       "      <th>NumOfProducts</th>\n",
       "      <th>HasCrCard</th>\n",
       "      <th>IsActiveMember</th>\n",
       "      <th>EstimatedSalary</th>\n",
       "      <th>Exited</th>\n",
       "    </tr>\n",
       "  </thead>\n",
       "  <tbody>\n",
       "    <tr>\n",
       "      <th>9990</th>\n",
       "      <td>9991</td>\n",
       "      <td>15798964</td>\n",
       "      <td>Nkemakonam</td>\n",
       "      <td>714</td>\n",
       "      <td>Germany</td>\n",
       "      <td>Male</td>\n",
       "      <td>33</td>\n",
       "      <td>3.0</td>\n",
       "      <td>35016.60</td>\n",
       "      <td>1</td>\n",
       "      <td>1</td>\n",
       "      <td>0</td>\n",
       "      <td>53667.08</td>\n",
       "      <td>0</td>\n",
       "    </tr>\n",
       "    <tr>\n",
       "      <th>9991</th>\n",
       "      <td>9992</td>\n",
       "      <td>15769959</td>\n",
       "      <td>Ajuluchukwu</td>\n",
       "      <td>597</td>\n",
       "      <td>France</td>\n",
       "      <td>Female</td>\n",
       "      <td>53</td>\n",
       "      <td>4.0</td>\n",
       "      <td>88381.21</td>\n",
       "      <td>1</td>\n",
       "      <td>1</td>\n",
       "      <td>0</td>\n",
       "      <td>69384.71</td>\n",
       "      <td>1</td>\n",
       "    </tr>\n",
       "    <tr>\n",
       "      <th>9992</th>\n",
       "      <td>9993</td>\n",
       "      <td>15657105</td>\n",
       "      <td>Chukwualuka</td>\n",
       "      <td>726</td>\n",
       "      <td>Spain</td>\n",
       "      <td>Male</td>\n",
       "      <td>36</td>\n",
       "      <td>2.0</td>\n",
       "      <td>0.00</td>\n",
       "      <td>1</td>\n",
       "      <td>1</td>\n",
       "      <td>0</td>\n",
       "      <td>195192.40</td>\n",
       "      <td>0</td>\n",
       "    </tr>\n",
       "    <tr>\n",
       "      <th>9993</th>\n",
       "      <td>9994</td>\n",
       "      <td>15569266</td>\n",
       "      <td>Rahman</td>\n",
       "      <td>644</td>\n",
       "      <td>France</td>\n",
       "      <td>Male</td>\n",
       "      <td>28</td>\n",
       "      <td>7.0</td>\n",
       "      <td>155060.41</td>\n",
       "      <td>1</td>\n",
       "      <td>1</td>\n",
       "      <td>0</td>\n",
       "      <td>29179.52</td>\n",
       "      <td>0</td>\n",
       "    </tr>\n",
       "    <tr>\n",
       "      <th>9994</th>\n",
       "      <td>9995</td>\n",
       "      <td>15719294</td>\n",
       "      <td>Wood</td>\n",
       "      <td>800</td>\n",
       "      <td>France</td>\n",
       "      <td>Female</td>\n",
       "      <td>29</td>\n",
       "      <td>2.0</td>\n",
       "      <td>0.00</td>\n",
       "      <td>2</td>\n",
       "      <td>0</td>\n",
       "      <td>0</td>\n",
       "      <td>167773.55</td>\n",
       "      <td>0</td>\n",
       "    </tr>\n",
       "    <tr>\n",
       "      <th>9995</th>\n",
       "      <td>9996</td>\n",
       "      <td>15606229</td>\n",
       "      <td>Obijiaku</td>\n",
       "      <td>771</td>\n",
       "      <td>France</td>\n",
       "      <td>Male</td>\n",
       "      <td>39</td>\n",
       "      <td>5.0</td>\n",
       "      <td>0.00</td>\n",
       "      <td>2</td>\n",
       "      <td>1</td>\n",
       "      <td>0</td>\n",
       "      <td>96270.64</td>\n",
       "      <td>0</td>\n",
       "    </tr>\n",
       "    <tr>\n",
       "      <th>9996</th>\n",
       "      <td>9997</td>\n",
       "      <td>15569892</td>\n",
       "      <td>Johnstone</td>\n",
       "      <td>516</td>\n",
       "      <td>France</td>\n",
       "      <td>Male</td>\n",
       "      <td>35</td>\n",
       "      <td>10.0</td>\n",
       "      <td>57369.61</td>\n",
       "      <td>1</td>\n",
       "      <td>1</td>\n",
       "      <td>1</td>\n",
       "      <td>101699.77</td>\n",
       "      <td>0</td>\n",
       "    </tr>\n",
       "    <tr>\n",
       "      <th>9997</th>\n",
       "      <td>9998</td>\n",
       "      <td>15584532</td>\n",
       "      <td>Liu</td>\n",
       "      <td>709</td>\n",
       "      <td>France</td>\n",
       "      <td>Female</td>\n",
       "      <td>36</td>\n",
       "      <td>7.0</td>\n",
       "      <td>0.00</td>\n",
       "      <td>1</td>\n",
       "      <td>0</td>\n",
       "      <td>1</td>\n",
       "      <td>42085.58</td>\n",
       "      <td>1</td>\n",
       "    </tr>\n",
       "    <tr>\n",
       "      <th>9998</th>\n",
       "      <td>9999</td>\n",
       "      <td>15682355</td>\n",
       "      <td>Sabbatini</td>\n",
       "      <td>772</td>\n",
       "      <td>Germany</td>\n",
       "      <td>Male</td>\n",
       "      <td>42</td>\n",
       "      <td>3.0</td>\n",
       "      <td>75075.31</td>\n",
       "      <td>2</td>\n",
       "      <td>1</td>\n",
       "      <td>0</td>\n",
       "      <td>92888.52</td>\n",
       "      <td>1</td>\n",
       "    </tr>\n",
       "    <tr>\n",
       "      <th>9999</th>\n",
       "      <td>10000</td>\n",
       "      <td>15628319</td>\n",
       "      <td>Walker</td>\n",
       "      <td>792</td>\n",
       "      <td>France</td>\n",
       "      <td>Female</td>\n",
       "      <td>28</td>\n",
       "      <td>NaN</td>\n",
       "      <td>130142.79</td>\n",
       "      <td>1</td>\n",
       "      <td>1</td>\n",
       "      <td>0</td>\n",
       "      <td>38190.78</td>\n",
       "      <td>0</td>\n",
       "    </tr>\n",
       "  </tbody>\n",
       "</table>\n",
       "</div>"
      ],
      "text/plain": [
       "      RowNumber  CustomerId      Surname  CreditScore Geography  Gender  Age  \\\n",
       "9990       9991    15798964   Nkemakonam          714   Germany    Male   33   \n",
       "9991       9992    15769959  Ajuluchukwu          597    France  Female   53   \n",
       "9992       9993    15657105  Chukwualuka          726     Spain    Male   36   \n",
       "9993       9994    15569266       Rahman          644    France    Male   28   \n",
       "9994       9995    15719294         Wood          800    France  Female   29   \n",
       "9995       9996    15606229     Obijiaku          771    France    Male   39   \n",
       "9996       9997    15569892    Johnstone          516    France    Male   35   \n",
       "9997       9998    15584532          Liu          709    France  Female   36   \n",
       "9998       9999    15682355    Sabbatini          772   Germany    Male   42   \n",
       "9999      10000    15628319       Walker          792    France  Female   28   \n",
       "\n",
       "      Tenure    Balance  NumOfProducts  HasCrCard  IsActiveMember  \\\n",
       "9990     3.0   35016.60              1          1               0   \n",
       "9991     4.0   88381.21              1          1               0   \n",
       "9992     2.0       0.00              1          1               0   \n",
       "9993     7.0  155060.41              1          1               0   \n",
       "9994     2.0       0.00              2          0               0   \n",
       "9995     5.0       0.00              2          1               0   \n",
       "9996    10.0   57369.61              1          1               1   \n",
       "9997     7.0       0.00              1          0               1   \n",
       "9998     3.0   75075.31              2          1               0   \n",
       "9999     NaN  130142.79              1          1               0   \n",
       "\n",
       "      EstimatedSalary  Exited  \n",
       "9990         53667.08       0  \n",
       "9991         69384.71       1  \n",
       "9992        195192.40       0  \n",
       "9993         29179.52       0  \n",
       "9994        167773.55       0  \n",
       "9995         96270.64       0  \n",
       "9996        101699.77       0  \n",
       "9997         42085.58       1  \n",
       "9998         92888.52       1  \n",
       "9999         38190.78       0  "
      ]
     },
     "metadata": {},
     "output_type": "display_data"
    },
    {
     "name": "stdout",
     "output_type": "stream",
     "text": [
      "<class 'pandas.core.frame.DataFrame'>\n",
      "RangeIndex: 10000 entries, 0 to 9999\n",
      "Data columns (total 14 columns):\n",
      " #   Column           Non-Null Count  Dtype  \n",
      "---  ------           --------------  -----  \n",
      " 0   RowNumber        10000 non-null  int64  \n",
      " 1   CustomerId       10000 non-null  int64  \n",
      " 2   Surname          10000 non-null  object \n",
      " 3   CreditScore      10000 non-null  int64  \n",
      " 4   Geography        10000 non-null  object \n",
      " 5   Gender           10000 non-null  object \n",
      " 6   Age              10000 non-null  int64  \n",
      " 7   Tenure           9091 non-null   float64\n",
      " 8   Balance          10000 non-null  float64\n",
      " 9   NumOfProducts    10000 non-null  int64  \n",
      " 10  HasCrCard        10000 non-null  int64  \n",
      " 11  IsActiveMember   10000 non-null  int64  \n",
      " 12  EstimatedSalary  10000 non-null  float64\n",
      " 13  Exited           10000 non-null  int64  \n",
      "dtypes: float64(3), int64(8), object(3)\n",
      "memory usage: 1.1+ MB\n"
     ]
    },
    {
     "data": {
      "text/plain": [
       "None"
      ]
     },
     "metadata": {},
     "output_type": "display_data"
    },
    {
     "data": {
      "text/plain": [
       "Index(['RowNumber', 'CustomerId', 'Surname', 'CreditScore', 'Geography',\n",
       "       'Gender', 'Age', 'Tenure', 'Balance', 'NumOfProducts', 'HasCrCard',\n",
       "       'IsActiveMember', 'EstimatedSalary', 'Exited'],\n",
       "      dtype='object')"
      ]
     },
     "metadata": {},
     "output_type": "display_data"
    },
    {
     "data": {
      "text/html": [
       "<div>\n",
       "<style scoped>\n",
       "    .dataframe tbody tr th:only-of-type {\n",
       "        vertical-align: middle;\n",
       "    }\n",
       "\n",
       "    .dataframe tbody tr th {\n",
       "        vertical-align: top;\n",
       "    }\n",
       "\n",
       "    .dataframe thead th {\n",
       "        text-align: right;\n",
       "    }\n",
       "</style>\n",
       "<table border=\"1\" class=\"dataframe\">\n",
       "  <thead>\n",
       "    <tr style=\"text-align: right;\">\n",
       "      <th></th>\n",
       "      <th>RowNumber</th>\n",
       "      <th>CustomerId</th>\n",
       "      <th>CreditScore</th>\n",
       "      <th>Age</th>\n",
       "      <th>Tenure</th>\n",
       "      <th>Balance</th>\n",
       "      <th>NumOfProducts</th>\n",
       "      <th>HasCrCard</th>\n",
       "      <th>IsActiveMember</th>\n",
       "      <th>EstimatedSalary</th>\n",
       "      <th>Exited</th>\n",
       "    </tr>\n",
       "  </thead>\n",
       "  <tbody>\n",
       "    <tr>\n",
       "      <th>count</th>\n",
       "      <td>10000.00000</td>\n",
       "      <td>1.000000e+04</td>\n",
       "      <td>10000.000000</td>\n",
       "      <td>10000.000000</td>\n",
       "      <td>9091.000000</td>\n",
       "      <td>10000.000000</td>\n",
       "      <td>10000.000000</td>\n",
       "      <td>10000.00000</td>\n",
       "      <td>10000.000000</td>\n",
       "      <td>10000.000000</td>\n",
       "      <td>10000.000000</td>\n",
       "    </tr>\n",
       "    <tr>\n",
       "      <th>mean</th>\n",
       "      <td>5000.50000</td>\n",
       "      <td>1.569094e+07</td>\n",
       "      <td>650.528800</td>\n",
       "      <td>38.921800</td>\n",
       "      <td>4.997690</td>\n",
       "      <td>76485.889288</td>\n",
       "      <td>1.530200</td>\n",
       "      <td>0.70550</td>\n",
       "      <td>0.515100</td>\n",
       "      <td>100090.239881</td>\n",
       "      <td>0.203700</td>\n",
       "    </tr>\n",
       "    <tr>\n",
       "      <th>std</th>\n",
       "      <td>2886.89568</td>\n",
       "      <td>7.193619e+04</td>\n",
       "      <td>96.653299</td>\n",
       "      <td>10.487806</td>\n",
       "      <td>2.894723</td>\n",
       "      <td>62397.405202</td>\n",
       "      <td>0.581654</td>\n",
       "      <td>0.45584</td>\n",
       "      <td>0.499797</td>\n",
       "      <td>57510.492818</td>\n",
       "      <td>0.402769</td>\n",
       "    </tr>\n",
       "    <tr>\n",
       "      <th>min</th>\n",
       "      <td>1.00000</td>\n",
       "      <td>1.556570e+07</td>\n",
       "      <td>350.000000</td>\n",
       "      <td>18.000000</td>\n",
       "      <td>0.000000</td>\n",
       "      <td>0.000000</td>\n",
       "      <td>1.000000</td>\n",
       "      <td>0.00000</td>\n",
       "      <td>0.000000</td>\n",
       "      <td>11.580000</td>\n",
       "      <td>0.000000</td>\n",
       "    </tr>\n",
       "    <tr>\n",
       "      <th>25%</th>\n",
       "      <td>2500.75000</td>\n",
       "      <td>1.562853e+07</td>\n",
       "      <td>584.000000</td>\n",
       "      <td>32.000000</td>\n",
       "      <td>2.000000</td>\n",
       "      <td>0.000000</td>\n",
       "      <td>1.000000</td>\n",
       "      <td>0.00000</td>\n",
       "      <td>0.000000</td>\n",
       "      <td>51002.110000</td>\n",
       "      <td>0.000000</td>\n",
       "    </tr>\n",
       "    <tr>\n",
       "      <th>50%</th>\n",
       "      <td>5000.50000</td>\n",
       "      <td>1.569074e+07</td>\n",
       "      <td>652.000000</td>\n",
       "      <td>37.000000</td>\n",
       "      <td>5.000000</td>\n",
       "      <td>97198.540000</td>\n",
       "      <td>1.000000</td>\n",
       "      <td>1.00000</td>\n",
       "      <td>1.000000</td>\n",
       "      <td>100193.915000</td>\n",
       "      <td>0.000000</td>\n",
       "    </tr>\n",
       "    <tr>\n",
       "      <th>75%</th>\n",
       "      <td>7500.25000</td>\n",
       "      <td>1.575323e+07</td>\n",
       "      <td>718.000000</td>\n",
       "      <td>44.000000</td>\n",
       "      <td>7.000000</td>\n",
       "      <td>127644.240000</td>\n",
       "      <td>2.000000</td>\n",
       "      <td>1.00000</td>\n",
       "      <td>1.000000</td>\n",
       "      <td>149388.247500</td>\n",
       "      <td>0.000000</td>\n",
       "    </tr>\n",
       "    <tr>\n",
       "      <th>max</th>\n",
       "      <td>10000.00000</td>\n",
       "      <td>1.581569e+07</td>\n",
       "      <td>850.000000</td>\n",
       "      <td>92.000000</td>\n",
       "      <td>10.000000</td>\n",
       "      <td>250898.090000</td>\n",
       "      <td>4.000000</td>\n",
       "      <td>1.00000</td>\n",
       "      <td>1.000000</td>\n",
       "      <td>199992.480000</td>\n",
       "      <td>1.000000</td>\n",
       "    </tr>\n",
       "  </tbody>\n",
       "</table>\n",
       "</div>"
      ],
      "text/plain": [
       "         RowNumber    CustomerId   CreditScore           Age       Tenure  \\\n",
       "count  10000.00000  1.000000e+04  10000.000000  10000.000000  9091.000000   \n",
       "mean    5000.50000  1.569094e+07    650.528800     38.921800     4.997690   \n",
       "std     2886.89568  7.193619e+04     96.653299     10.487806     2.894723   \n",
       "min        1.00000  1.556570e+07    350.000000     18.000000     0.000000   \n",
       "25%     2500.75000  1.562853e+07    584.000000     32.000000     2.000000   \n",
       "50%     5000.50000  1.569074e+07    652.000000     37.000000     5.000000   \n",
       "75%     7500.25000  1.575323e+07    718.000000     44.000000     7.000000   \n",
       "max    10000.00000  1.581569e+07    850.000000     92.000000    10.000000   \n",
       "\n",
       "             Balance  NumOfProducts    HasCrCard  IsActiveMember  \\\n",
       "count   10000.000000   10000.000000  10000.00000    10000.000000   \n",
       "mean    76485.889288       1.530200      0.70550        0.515100   \n",
       "std     62397.405202       0.581654      0.45584        0.499797   \n",
       "min         0.000000       1.000000      0.00000        0.000000   \n",
       "25%         0.000000       1.000000      0.00000        0.000000   \n",
       "50%     97198.540000       1.000000      1.00000        1.000000   \n",
       "75%    127644.240000       2.000000      1.00000        1.000000   \n",
       "max    250898.090000       4.000000      1.00000        1.000000   \n",
       "\n",
       "       EstimatedSalary        Exited  \n",
       "count     10000.000000  10000.000000  \n",
       "mean     100090.239881      0.203700  \n",
       "std       57510.492818      0.402769  \n",
       "min          11.580000      0.000000  \n",
       "25%       51002.110000      0.000000  \n",
       "50%      100193.915000      0.000000  \n",
       "75%      149388.247500      0.000000  \n",
       "max      199992.480000      1.000000  "
      ]
     },
     "metadata": {},
     "output_type": "display_data"
    }
   ],
   "source": [
    "# рассмотрим данные подробно и проанализируем те моменты, где необходимо внести корректировки в массив данных\n",
    "data = pd.read_csv('/datasets/Churn.csv')\n",
    "display(data.head(10))\n",
    "display(data.tail(10))\n",
    "display(data.info())\n",
    "display(data.columns)\n",
    "display(data.describe())"
   ]
  },
  {
   "cell_type": "markdown",
   "metadata": {},
   "source": [
    "### Признаки и оценка перечня корректировок для подготовки данных"
   ]
  },
  {
   "cell_type": "markdown",
   "metadata": {},
   "source": [
    "Признаки:\n",
    "- RowNumber — индекс строки в данных\n",
    "- CustomerId — уникальный идентификатор клиента\n",
    "- Surname — фамилия\n",
    "- CreditScore — кредитный рейтинг\n",
    "- Geography — страна проживания\n",
    "- Gender — пол\n",
    "- Age — возраст\n",
    "- Tenure — сколько лет человек является клиентом банка\n",
    "- Balance — баланс на счёте\n",
    "- NumOfProducts — количество продуктов банка, используемых клиентом\n",
    "- HasCrCard — наличие кредитной карты\n",
    "- IsActiveMember — активность клиента\n",
    "- EstimatedSalary — предполагаемая зарплата\n",
    "\n",
    "Целевой признак:\n",
    "- Exited — факт ухода клиента\n",
    "\n",
    "Основные операции по итогам предварительного рассмотрения датасета:\n",
    "1. Приведение стиля заголовков к змеиному стилю, переименование части заголовков;\n",
    "2. Оценка корреляций между признаками, выявление мультиколлинеарных признаков и устранение(если такие есть в датасете) их с целью снижения риска переобучения моделей в последующем анализе;\n",
    "3. Анализ пропусков и заполнение их выявив закономерности влияющие на данные в столбцах с пропусками;\n",
    "4. Проведение проверки на предмет наличия дубликатов и удаление дубликатов с перезагрузкой индекса;\n",
    "5. Анализ несущественных для целей исследования признаков, удаление этих признаков из датасета;\n",
    "5. Анализ и приведение к корректным типам данных датасета;\n",
    "6. Подготовка признаков;\n",
    "7. Масштабирование признаков."
   ]
  },
  {
   "cell_type": "markdown",
   "metadata": {},
   "source": [
    "### Корректировки датасета"
   ]
  },
  {
   "cell_type": "markdown",
   "metadata": {},
   "source": [
    "#### Приведение стиля заголовков к змеиному стилю, переименование части заголовков"
   ]
  },
  {
   "cell_type": "code",
   "execution_count": 124,
   "metadata": {
    "scrolled": true
   },
   "outputs": [
    {
     "name": "stdout",
     "output_type": "stream",
     "text": [
      "<class 'pandas.core.frame.DataFrame'>\n",
      "RangeIndex: 10000 entries, 0 to 9999\n",
      "Data columns (total 14 columns):\n",
      " #   Column              Non-Null Count  Dtype  \n",
      "---  ------              --------------  -----  \n",
      " 0   row_number          10000 non-null  int64  \n",
      " 1   customer_id         10000 non-null  int64  \n",
      " 2   surname             10000 non-null  object \n",
      " 3   credit_score        10000 non-null  int64  \n",
      " 4   country             10000 non-null  object \n",
      " 5   gender              10000 non-null  object \n",
      " 6   age                 10000 non-null  int64  \n",
      " 7   tenure              9091 non-null   float64\n",
      " 8   balance             10000 non-null  float64\n",
      " 9   number_of_products  10000 non-null  int64  \n",
      " 10  has_credit_card     10000 non-null  int64  \n",
      " 11  is_active_member    10000 non-null  int64  \n",
      " 12  estimated_salary    10000 non-null  float64\n",
      " 13  exited              10000 non-null  int64  \n",
      "dtypes: float64(3), int64(8), object(3)\n",
      "memory usage: 1.1+ MB\n"
     ]
    },
    {
     "data": {
      "text/plain": [
       "None"
      ]
     },
     "metadata": {},
     "output_type": "display_data"
    }
   ],
   "source": [
    "data.columns = ['row_number', 'customer_id', 'surname', 'credit_score', 'country',\n",
    "       'gender', 'age', 'tenure', 'balance', 'number_of_products', 'has_credit_card',\n",
    "       'is_active_member', 'estimated_salary', 'exited']\n",
    "display(data.info())"
   ]
  },
  {
   "cell_type": "markdown",
   "metadata": {},
   "source": [
    "На данном этапе все названия столбцов были скорректированы в змеином стиле для удобства восприятия, некоторые названия уточнены для удобства восприятия."
   ]
  },
  {
   "cell_type": "markdown",
   "metadata": {},
   "source": [
    "#### Оценка корреляций между признаками, выявление мультиколлинеарных признаков и устранение с целью снижения риска переобучения моделей в последующем анализе"
   ]
  },
  {
   "cell_type": "code",
   "execution_count": 125,
   "metadata": {
    "scrolled": true
   },
   "outputs": [
    {
     "data": {
      "image/png": "[encoded data removed]",
      "text/plain": [
       "<Figure size 1080x720 with 2 Axes>"
      ]
     },
     "metadata": {
      "needs_background": "light"
     },
     "output_type": "display_data"
    }
   ],
   "source": [
    "# построим heatmap корреляций признаков и выявим мультиколлинеарные признаки, если это возможно\n",
    "plt.figure(figsize=(15,10))\n",
    "sns.heatmap(data.corr(), vmin=-1, vmax=1, annot=True, cmap='coolwarm')\n",
    "plt.show()"
   ]
  },
  {
   "cell_type": "code",
   "execution_count": 126,
   "metadata": {
    "scrolled": false
   },
   "outputs": [
    {
     "data": {
      "image/png": "[encoded data removed]",
      "text/plain": [
       "<Figure size 720x360 with 2 Axes>"
      ]
     },
     "metadata": {
      "needs_background": "light"
     },
     "output_type": "display_data"
    }
   ],
   "source": [
    "# построим heatmap по признаку tenure для выявления корреляций с остальными признаками\n",
    "plt.figure(figsize=(10,5))\n",
    "sns.heatmap(data.corr()[['tenure']], vmin=-1, vmax=1, annot=True, cmap='coolwarm')\n",
    "plt.show()"
   ]
  },
  {
   "cell_type": "markdown",
   "metadata": {},
   "source": [
    "Значимых корреляций между признаком tenure и остальными признаками не выявлено."
   ]
  },
  {
   "cell_type": "markdown",
   "metadata": {},
   "source": [
    "#### Анализ пропусков и заполнение их на основе выявленных закономерностей влияющих на данные в столбцах с пропусками"
   ]
  },
  {
   "cell_type": "markdown",
   "metadata": {},
   "source": [
    "В п.1.4.2 выявлено отсутствие значимых корреляций между признаками, поэтому воспользуемся для заполнения пропусков средним/медианным значением. На этапе предварительного анализа данных в п.1.2 было выявлено, что медиана признака tenure составляет 5 лет, а среднее 4.997690, поэтому заполним пропуски медианным значением 5 лет, т.к. отклонения между показателями незначительны(в рамках допустимой погрешности)."
   ]
  },
  {
   "cell_type": "code",
   "execution_count": 127,
   "metadata": {
    "scrolled": true
   },
   "outputs": [
    {
     "name": "stdout",
     "output_type": "stream",
     "text": [
      "<class 'pandas.core.frame.DataFrame'>\n",
      "RangeIndex: 10000 entries, 0 to 9999\n",
      "Data columns (total 14 columns):\n",
      " #   Column              Non-Null Count  Dtype  \n",
      "---  ------              --------------  -----  \n",
      " 0   row_number          10000 non-null  int64  \n",
      " 1   customer_id         10000 non-null  int64  \n",
      " 2   surname             10000 non-null  object \n",
      " 3   credit_score        10000 non-null  int64  \n",
      " 4   country             10000 non-null  object \n",
      " 5   gender              10000 non-null  object \n",
      " 6   age                 10000 non-null  int64  \n",
      " 7   tenure              10000 non-null  float64\n",
      " 8   balance             10000 non-null  float64\n",
      " 9   number_of_products  10000 non-null  int64  \n",
      " 10  has_credit_card     10000 non-null  int64  \n",
      " 11  is_active_member    10000 non-null  int64  \n",
      " 12  estimated_salary    10000 non-null  float64\n",
      " 13  exited              10000 non-null  int64  \n",
      "dtypes: float64(3), int64(8), object(3)\n",
      "memory usage: 1.1+ MB\n"
     ]
    },
    {
     "data": {
      "text/plain": [
       "None"
      ]
     },
     "metadata": {},
     "output_type": "display_data"
    }
   ],
   "source": [
    "# заполняем значением 5 лет и проверяем данные\n",
    "data.fillna({'tenure':data['tenure'].median()}, inplace=True)\n",
    "display(data.info())"
   ]
  },
  {
   "cell_type": "markdown",
   "metadata": {},
   "source": [
    "#### Проведение проверки на предмет наличия дубликатов и удаление дубликатов с перезагрузкой индекса"
   ]
  },
  {
   "cell_type": "code",
   "execution_count": 128,
   "metadata": {},
   "outputs": [
    {
     "data": {
      "text/plain": [
       "0"
      ]
     },
     "metadata": {},
     "output_type": "display_data"
    }
   ],
   "source": [
    "# проверим наличия явных дубликатов\n",
    "display(data.duplicated().sum())"
   ]
  },
  {
   "cell_type": "code",
   "execution_count": 132,
   "metadata": {},
   "outputs": [
    {
     "data": {
      "text/plain": [
       "France     5014\n",
       "Germany    2509\n",
       "Spain      2477\n",
       "Name: country, dtype: int64"
      ]
     },
     "metadata": {},
     "output_type": "display_data"
    }
   ],
   "source": [
    "display(data['country'].value_counts())"
   ]
  },
  {
   "cell_type": "code",
   "execution_count": 133,
   "metadata": {},
   "outputs": [
    {
     "data": {
      "text/plain": [
       "Male      5457\n",
       "Female    4543\n",
       "Name: gender, dtype: int64"
      ]
     },
     "metadata": {},
     "output_type": "display_data"
    }
   ],
   "source": [
    "display(data['gender'].value_counts())"
   ]
  },
  {
   "cell_type": "code",
   "execution_count": 135,
   "metadata": {
    "scrolled": true
   },
   "outputs": [
    {
     "data": {
      "text/plain": [
       "5.0     1836\n",
       "1.0      952\n",
       "2.0      950\n",
       "8.0      933\n",
       "3.0      928\n",
       "7.0      925\n",
       "4.0      885\n",
       "9.0      882\n",
       "6.0      881\n",
       "10.0     446\n",
       "0.0      382\n",
       "Name: tenure, dtype: int64"
      ]
     },
     "metadata": {},
     "output_type": "display_data"
    }
   ],
   "source": [
    "display(data['tenure'].value_counts())"
   ]
  },
  {
   "cell_type": "code",
   "execution_count": 136,
   "metadata": {
    "scrolled": true
   },
   "outputs": [
    {
     "data": {
      "text/plain": [
       "1    5084\n",
       "2    4590\n",
       "3     266\n",
       "4      60\n",
       "Name: number_of_products, dtype: int64"
      ]
     },
     "metadata": {},
     "output_type": "display_data"
    }
   ],
   "source": [
    "display(data['number_of_products'].value_counts())"
   ]
  },
  {
   "cell_type": "code",
   "execution_count": 137,
   "metadata": {
    "scrolled": true
   },
   "outputs": [
    {
     "data": {
      "text/plain": [
       "1    7055\n",
       "0    2945\n",
       "Name: has_credit_card, dtype: int64"
      ]
     },
     "metadata": {},
     "output_type": "display_data"
    }
   ],
   "source": [
    "display(data['has_credit_card'].value_counts())"
   ]
  },
  {
   "cell_type": "code",
   "execution_count": 138,
   "metadata": {
    "scrolled": true
   },
   "outputs": [
    {
     "data": {
      "text/plain": [
       "1    5151\n",
       "0    4849\n",
       "Name: is_active_member, dtype: int64"
      ]
     },
     "metadata": {},
     "output_type": "display_data"
    }
   ],
   "source": [
    "display(data['is_active_member'].value_counts())"
   ]
  },
  {
   "cell_type": "code",
   "execution_count": 140,
   "metadata": {
    "scrolled": true
   },
   "outputs": [
    {
     "data": {
      "text/plain": [
       "0    7963\n",
       "1    2037\n",
       "Name: exited, dtype: int64"
      ]
     },
     "metadata": {},
     "output_type": "display_data"
    }
   ],
   "source": [
    "display(data['exited'].value_counts())"
   ]
  },
  {
   "cell_type": "markdown",
   "metadata": {},
   "source": [
    "На этапе проверки дубликатов предварительно выявлено, что явных дубликатов нет, также была подсвечена краткая информация по уникальным значениям ряда признаков, выявлено следующее:\n",
    "- customer_id - уникальные номера не повторются,\n",
    "- surname - присутствует достаточно большое количество однофамильцев, уникальные фамилии 2932 ед.,\n",
    "- credit_score - много совпадений кредитных оценок не критично, общее количество уникальных 460 ед.,\n",
    "- country - данные распределены по 3-м странам: France - 5014 ед., Germany - 2509 ед., Spain - 2477 ед.,\n",
    "- gender - мужчин и женщин примерно одинаковое количество в базе: Male - 5457 ед., Female - 4543 ед.,\n",
    "- age - 70 уникальных возрастных категорий, возраст от 18 до 92 лет,\n",
    "- tenure - в основном, клиенты являются пользователями продуктов банка от нескольких месяцев до 10 лет,\n",
    "- number_of_products - количество продуктов банка от 1 до 4-х, по количеству пользователей за период жизненного цикла каждого из них использовали: 1 продукт - 5084 ед., 2 продукта - 4590 ед., 3 продукта - 266 ед., 4 продукта - 60 ед.,\n",
    "- has_credit_card - имеют кредитную карту 7055 клиентов, 2945 клиентов не имеют кредитных карт,\n",
    "- is_active_member - активными клиентами являются примерно половина, т.е. 5151 клиентов, неактивных клиентов 4849,\n",
    "- estimated_salary - зарплата клиентов варьируется от минимальных 11.58 ед. до 199992.48 ед.,\n",
    "- exited - факт ухода клиентов: почти 80% или 7963 клиентов остаются клиентами банка, 20% или 2037 клиентов фактически прекратили использование продуктов банка."
   ]
  },
  {
   "cell_type": "markdown",
   "metadata": {},
   "source": [
    "#### Анализ несущественных для целей исследования признаков, удаление этих признаков из датасета"
   ]
  },
  {
   "cell_type": "markdown",
   "metadata": {},
   "source": [
    "Несущественными для целей дальнейшего анализа могут являться следующие признаки, они не имеют ценности в рамках предсказательных моделей поведения клиентов и не влияют на формирование моделей и их результатов:\n",
    "- row_number,\n",
    "- customer_id,\n",
    "- surname."
   ]
  },
  {
   "cell_type": "code",
   "execution_count": 141,
   "metadata": {
    "scrolled": true
   },
   "outputs": [
    {
     "name": "stdout",
     "output_type": "stream",
     "text": [
      "<class 'pandas.core.frame.DataFrame'>\n",
      "RangeIndex: 10000 entries, 0 to 9999\n",
      "Data columns (total 11 columns):\n",
      " #   Column              Non-Null Count  Dtype  \n",
      "---  ------              --------------  -----  \n",
      " 0   credit_score        10000 non-null  int64  \n",
      " 1   country             10000 non-null  object \n",
      " 2   gender              10000 non-null  object \n",
      " 3   age                 10000 non-null  int64  \n",
      " 4   tenure              10000 non-null  float64\n",
      " 5   balance             10000 non-null  float64\n",
      " 6   number_of_products  10000 non-null  int64  \n",
      " 7   has_credit_card     10000 non-null  int64  \n",
      " 8   is_active_member    10000 non-null  int64  \n",
      " 9   estimated_salary    10000 non-null  float64\n",
      " 10  exited              10000 non-null  int64  \n",
      "dtypes: float64(3), int64(6), object(2)\n",
      "memory usage: 859.5+ KB\n"
     ]
    },
    {
     "data": {
      "text/plain": [
       "None"
      ]
     },
     "metadata": {},
     "output_type": "display_data"
    }
   ],
   "source": [
    "data = data.drop(['row_number', 'customer_id', 'surname'], axis=1)\n",
    "display(data.info())"
   ]
  },
  {
   "cell_type": "markdown",
   "metadata": {},
   "source": [
    "#### Анализ и приведение к корректным типам данных датасета."
   ]
  },
  {
   "cell_type": "code",
   "execution_count": 142,
   "metadata": {
    "scrolled": false
   },
   "outputs": [
    {
     "name": "stdout",
     "output_type": "stream",
     "text": [
      "<class 'pandas.core.frame.DataFrame'>\n",
      "RangeIndex: 10000 entries, 0 to 9999\n",
      "Data columns (total 11 columns):\n",
      " #   Column              Non-Null Count  Dtype \n",
      "---  ------              --------------  ----- \n",
      " 0   credit_score        10000 non-null  int64 \n",
      " 1   country             10000 non-null  object\n",
      " 2   gender              10000 non-null  object\n",
      " 3   age                 10000 non-null  int64 \n",
      " 4   tenure              10000 non-null  int64 \n",
      " 5   balance             10000 non-null  int64 \n",
      " 6   number_of_products  10000 non-null  int64 \n",
      " 7   has_credit_card     10000 non-null  int64 \n",
      " 8   is_active_member    10000 non-null  int64 \n",
      " 9   estimated_salary    10000 non-null  int64 \n",
      " 10  exited              10000 non-null  int64 \n",
      "dtypes: int64(9), object(2)\n",
      "memory usage: 859.5+ KB\n"
     ]
    },
    {
     "data": {
      "text/plain": [
       "None"
      ]
     },
     "metadata": {},
     "output_type": "display_data"
    }
   ],
   "source": [
    "# значения признака tenure целочисленные, поэтому трансформируем их в int64\n",
    "data['tenure'] = data['tenure'].astype('int64')\n",
    "# значения признаков balance и estimated_salary округлим и приведем к целочисленным\n",
    "data['balance'] = np.ceil(data['balance']).astype('int64')\n",
    "data['estimated_salary'] = np.ceil(data['estimated_salary']).astype('int64')\n",
    "# проверим результаты конвертации по типам данных\n",
    "display(data.info())"
   ]
  },
  {
   "cell_type": "markdown",
   "metadata": {},
   "source": [
    "Данные в столбцах tenure, balance и estimated_salary были конвертированы в целочисленный тип данных int64. Значения столбцов balance и estimated_salary были предварительно округлены для удобства."
   ]
  },
  {
   "cell_type": "markdown",
   "metadata": {},
   "source": [
    "#### Подготовка признаков"
   ]
  },
  {
   "cell_type": "markdown",
   "metadata": {},
   "source": [
    "В получившемся подготовленноом датасете есть достаточно важные для моделирования признаки, которые могут накладывать значительный отпечаток на поведенческие сценарии клиентов из разных категорий. Эти признаки необходимо трансформировать в численные категориальные для восприятия их на этапе моделирования:\n",
    "- gender - пол,\n",
    "- country - локация.\n",
    "\n",
    "Для подготовки признаков используем OHE. Это общий альтернативный подход называется унитарным кодированием (One Hot Encoding). Основная стратегия состоит в том, чтобы преобразовать значение каждой категории в новый столбец и присвоить столбцу значение 1 или 0 (Истина / Ложь). Мы используем этот метод, т.к. это дает преимущество в том, что значение не взвешивается неправильно, но имеет обратную сторону добавления дополнительных столбцов в набор данных, что в данном случае не так критично, т.к. данных не так много, чтобы подумать о масштаировании и оптимизации, в противном случае будет необходима доработка в части использования наиболее быстрого из протестированных альтернативных алгоритмов кодирования(их несколько)."
   ]
  },
  {
   "cell_type": "code",
   "execution_count": 143,
   "metadata": {
    "scrolled": true
   },
   "outputs": [
    {
     "name": "stdout",
     "output_type": "stream",
     "text": [
      "<class 'pandas.core.frame.DataFrame'>\n",
      "RangeIndex: 10000 entries, 0 to 9999\n",
      "Data columns (total 12 columns):\n",
      " #   Column              Non-Null Count  Dtype\n",
      "---  ------              --------------  -----\n",
      " 0   credit_score        10000 non-null  int64\n",
      " 1   age                 10000 non-null  int64\n",
      " 2   tenure              10000 non-null  int64\n",
      " 3   balance             10000 non-null  int64\n",
      " 4   number_of_products  10000 non-null  int64\n",
      " 5   has_credit_card     10000 non-null  int64\n",
      " 6   is_active_member    10000 non-null  int64\n",
      " 7   estimated_salary    10000 non-null  int64\n",
      " 8   exited              10000 non-null  int64\n",
      " 9   gender_Male         10000 non-null  uint8\n",
      " 10  country_Germany     10000 non-null  uint8\n",
      " 11  country_Spain       10000 non-null  uint8\n",
      "dtypes: int64(9), uint8(3)\n",
      "memory usage: 732.5 KB\n"
     ]
    },
    {
     "data": {
      "text/plain": [
       "None"
      ]
     },
     "metadata": {},
     "output_type": "display_data"
    },
    {
     "data": {
      "text/html": [
       "<div>\n",
       "<style scoped>\n",
       "    .dataframe tbody tr th:only-of-type {\n",
       "        vertical-align: middle;\n",
       "    }\n",
       "\n",
       "    .dataframe tbody tr th {\n",
       "        vertical-align: top;\n",
       "    }\n",
       "\n",
       "    .dataframe thead th {\n",
       "        text-align: right;\n",
       "    }\n",
       "</style>\n",
       "<table border=\"1\" class=\"dataframe\">\n",
       "  <thead>\n",
       "    <tr style=\"text-align: right;\">\n",
       "      <th></th>\n",
       "      <th>credit_score</th>\n",
       "      <th>age</th>\n",
       "      <th>tenure</th>\n",
       "      <th>balance</th>\n",
       "      <th>number_of_products</th>\n",
       "      <th>has_credit_card</th>\n",
       "      <th>is_active_member</th>\n",
       "      <th>estimated_salary</th>\n",
       "      <th>exited</th>\n",
       "      <th>gender_Male</th>\n",
       "      <th>country_Germany</th>\n",
       "      <th>country_Spain</th>\n",
       "    </tr>\n",
       "  </thead>\n",
       "  <tbody>\n",
       "    <tr>\n",
       "      <th>0</th>\n",
       "      <td>619</td>\n",
       "      <td>42</td>\n",
       "      <td>2</td>\n",
       "      <td>0</td>\n",
       "      <td>1</td>\n",
       "      <td>1</td>\n",
       "      <td>1</td>\n",
       "      <td>101349</td>\n",
       "      <td>1</td>\n",
       "      <td>0</td>\n",
       "      <td>0</td>\n",
       "      <td>0</td>\n",
       "    </tr>\n",
       "    <tr>\n",
       "      <th>1</th>\n",
       "      <td>608</td>\n",
       "      <td>41</td>\n",
       "      <td>1</td>\n",
       "      <td>83808</td>\n",
       "      <td>1</td>\n",
       "      <td>0</td>\n",
       "      <td>1</td>\n",
       "      <td>112543</td>\n",
       "      <td>0</td>\n",
       "      <td>0</td>\n",
       "      <td>0</td>\n",
       "      <td>1</td>\n",
       "    </tr>\n",
       "    <tr>\n",
       "      <th>2</th>\n",
       "      <td>502</td>\n",
       "      <td>42</td>\n",
       "      <td>8</td>\n",
       "      <td>159661</td>\n",
       "      <td>3</td>\n",
       "      <td>1</td>\n",
       "      <td>0</td>\n",
       "      <td>113932</td>\n",
       "      <td>1</td>\n",
       "      <td>0</td>\n",
       "      <td>0</td>\n",
       "      <td>0</td>\n",
       "    </tr>\n",
       "    <tr>\n",
       "      <th>3</th>\n",
       "      <td>699</td>\n",
       "      <td>39</td>\n",
       "      <td>1</td>\n",
       "      <td>0</td>\n",
       "      <td>2</td>\n",
       "      <td>0</td>\n",
       "      <td>0</td>\n",
       "      <td>93827</td>\n",
       "      <td>0</td>\n",
       "      <td>0</td>\n",
       "      <td>0</td>\n",
       "      <td>0</td>\n",
       "    </tr>\n",
       "    <tr>\n",
       "      <th>4</th>\n",
       "      <td>850</td>\n",
       "      <td>43</td>\n",
       "      <td>2</td>\n",
       "      <td>125511</td>\n",
       "      <td>1</td>\n",
       "      <td>1</td>\n",
       "      <td>1</td>\n",
       "      <td>79085</td>\n",
       "      <td>0</td>\n",
       "      <td>0</td>\n",
       "      <td>0</td>\n",
       "      <td>1</td>\n",
       "    </tr>\n",
       "    <tr>\n",
       "      <th>5</th>\n",
       "      <td>645</td>\n",
       "      <td>44</td>\n",
       "      <td>8</td>\n",
       "      <td>113756</td>\n",
       "      <td>2</td>\n",
       "      <td>1</td>\n",
       "      <td>0</td>\n",
       "      <td>149757</td>\n",
       "      <td>1</td>\n",
       "      <td>1</td>\n",
       "      <td>0</td>\n",
       "      <td>1</td>\n",
       "    </tr>\n",
       "    <tr>\n",
       "      <th>6</th>\n",
       "      <td>822</td>\n",
       "      <td>50</td>\n",
       "      <td>7</td>\n",
       "      <td>0</td>\n",
       "      <td>2</td>\n",
       "      <td>1</td>\n",
       "      <td>1</td>\n",
       "      <td>10063</td>\n",
       "      <td>0</td>\n",
       "      <td>1</td>\n",
       "      <td>0</td>\n",
       "      <td>0</td>\n",
       "    </tr>\n",
       "    <tr>\n",
       "      <th>7</th>\n",
       "      <td>376</td>\n",
       "      <td>29</td>\n",
       "      <td>4</td>\n",
       "      <td>115047</td>\n",
       "      <td>4</td>\n",
       "      <td>1</td>\n",
       "      <td>0</td>\n",
       "      <td>119347</td>\n",
       "      <td>1</td>\n",
       "      <td>0</td>\n",
       "      <td>1</td>\n",
       "      <td>0</td>\n",
       "    </tr>\n",
       "    <tr>\n",
       "      <th>8</th>\n",
       "      <td>501</td>\n",
       "      <td>44</td>\n",
       "      <td>4</td>\n",
       "      <td>142052</td>\n",
       "      <td>2</td>\n",
       "      <td>0</td>\n",
       "      <td>1</td>\n",
       "      <td>74941</td>\n",
       "      <td>0</td>\n",
       "      <td>1</td>\n",
       "      <td>0</td>\n",
       "      <td>0</td>\n",
       "    </tr>\n",
       "    <tr>\n",
       "      <th>9</th>\n",
       "      <td>684</td>\n",
       "      <td>27</td>\n",
       "      <td>2</td>\n",
       "      <td>134604</td>\n",
       "      <td>1</td>\n",
       "      <td>1</td>\n",
       "      <td>1</td>\n",
       "      <td>71726</td>\n",
       "      <td>0</td>\n",
       "      <td>1</td>\n",
       "      <td>0</td>\n",
       "      <td>0</td>\n",
       "    </tr>\n",
       "  </tbody>\n",
       "</table>\n",
       "</div>"
      ],
      "text/plain": [
       "   credit_score  age  tenure  balance  number_of_products  has_credit_card  \\\n",
       "0           619   42       2        0                   1                1   \n",
       "1           608   41       1    83808                   1                0   \n",
       "2           502   42       8   159661                   3                1   \n",
       "3           699   39       1        0                   2                0   \n",
       "4           850   43       2   125511                   1                1   \n",
       "5           645   44       8   113756                   2                1   \n",
       "6           822   50       7        0                   2                1   \n",
       "7           376   29       4   115047                   4                1   \n",
       "8           501   44       4   142052                   2                0   \n",
       "9           684   27       2   134604                   1                1   \n",
       "\n",
       "   is_active_member  estimated_salary  exited  gender_Male  country_Germany  \\\n",
       "0                 1            101349       1            0                0   \n",
       "1                 1            112543       0            0                0   \n",
       "2                 0            113932       1            0                0   \n",
       "3                 0             93827       0            0                0   \n",
       "4                 1             79085       0            0                0   \n",
       "5                 0            149757       1            1                0   \n",
       "6                 1             10063       0            1                0   \n",
       "7                 0            119347       1            0                1   \n",
       "8                 1             74941       0            1                0   \n",
       "9                 1             71726       0            1                0   \n",
       "\n",
       "   country_Spain  \n",
       "0              0  \n",
       "1              1  \n",
       "2              0  \n",
       "3              0  \n",
       "4              1  \n",
       "5              1  \n",
       "6              0  \n",
       "7              0  \n",
       "8              0  \n",
       "9              0  "
      ]
     },
     "metadata": {},
     "output_type": "display_data"
    }
   ],
   "source": [
    "# закодируем столбцы gender и country, чтобы избежать dummy ловушки - удалим основной столбец по каждому из признаков\n",
    "data_ohe = pd.get_dummies(data, columns=['gender', 'country'], prefix=['gender', 'country'], drop_first=True)\n",
    "\n",
    "# проверим данные\n",
    "display(data_ohe.info())\n",
    "display(data_ohe.head(10))"
   ]
  },
  {
   "cell_type": "code",
   "execution_count": 144,
   "metadata": {
    "scrolled": true
   },
   "outputs": [
    {
     "data": {
      "text/plain": [
       "Index(['credit_score', 'age', 'tenure', 'balance', 'number_of_products',\n",
       "       'has_credit_card', 'is_active_member', 'estimated_salary', 'exited',\n",
       "       'gender_Male', 'country_Germany', 'country_Spain'],\n",
       "      dtype='object')"
      ]
     },
     "metadata": {},
     "output_type": "display_data"
    },
    {
     "data": {
      "text/plain": [
       "Index(['credit_score', 'age', 'tenure', 'balance', 'number_of_products',\n",
       "       'has_credit_card', 'is_active_member', 'estimated_salary', 'exited',\n",
       "       'gender_male', 'country_germany', 'country_spain'],\n",
       "      dtype='object')"
      ]
     },
     "metadata": {},
     "output_type": "display_data"
    }
   ],
   "source": [
    "# скорректируем названия столбцов в змеином стиле\n",
    "display(data_ohe.columns)\n",
    "data_ohe.columns = ['credit_score', 'age', 'tenure', 'balance', 'number_of_products',\n",
    "       'has_credit_card', 'is_active_member', 'estimated_salary', 'exited',\n",
    "       'gender_male', 'country_germany', 'country_spain']\n",
    "display(data_ohe.columns)"
   ]
  },
  {
   "cell_type": "code",
   "execution_count": 145,
   "metadata": {
    "scrolled": true
   },
   "outputs": [
    {
     "name": "stdout",
     "output_type": "stream",
     "text": [
      "<class 'pandas.core.frame.DataFrame'>\n",
      "RangeIndex: 10000 entries, 0 to 9999\n",
      "Data columns (total 12 columns):\n",
      " #   Column              Non-Null Count  Dtype\n",
      "---  ------              --------------  -----\n",
      " 0   credit_score        10000 non-null  int64\n",
      " 1   age                 10000 non-null  int64\n",
      " 2   tenure              10000 non-null  int64\n",
      " 3   balance             10000 non-null  int64\n",
      " 4   number_of_products  10000 non-null  int64\n",
      " 5   has_credit_card     10000 non-null  int64\n",
      " 6   is_active_member    10000 non-null  int64\n",
      " 7   estimated_salary    10000 non-null  int64\n",
      " 8   exited              10000 non-null  int64\n",
      " 9   gender_male         10000 non-null  Int64\n",
      " 10  country_germany     10000 non-null  Int64\n",
      " 11  country_spain       10000 non-null  Int64\n",
      "dtypes: Int64(3), int64(9)\n",
      "memory usage: 966.9 KB\n"
     ]
    },
    {
     "data": {
      "text/plain": [
       "None"
      ]
     },
     "metadata": {},
     "output_type": "display_data"
    },
    {
     "data": {
      "text/html": [
       "<div>\n",
       "<style scoped>\n",
       "    .dataframe tbody tr th:only-of-type {\n",
       "        vertical-align: middle;\n",
       "    }\n",
       "\n",
       "    .dataframe tbody tr th {\n",
       "        vertical-align: top;\n",
       "    }\n",
       "\n",
       "    .dataframe thead th {\n",
       "        text-align: right;\n",
       "    }\n",
       "</style>\n",
       "<table border=\"1\" class=\"dataframe\">\n",
       "  <thead>\n",
       "    <tr style=\"text-align: right;\">\n",
       "      <th></th>\n",
       "      <th>credit_score</th>\n",
       "      <th>age</th>\n",
       "      <th>tenure</th>\n",
       "      <th>balance</th>\n",
       "      <th>number_of_products</th>\n",
       "      <th>has_credit_card</th>\n",
       "      <th>is_active_member</th>\n",
       "      <th>estimated_salary</th>\n",
       "      <th>exited</th>\n",
       "      <th>gender_male</th>\n",
       "      <th>country_germany</th>\n",
       "      <th>country_spain</th>\n",
       "    </tr>\n",
       "  </thead>\n",
       "  <tbody>\n",
       "    <tr>\n",
       "      <th>0</th>\n",
       "      <td>619</td>\n",
       "      <td>42</td>\n",
       "      <td>2</td>\n",
       "      <td>0</td>\n",
       "      <td>1</td>\n",
       "      <td>1</td>\n",
       "      <td>1</td>\n",
       "      <td>101349</td>\n",
       "      <td>1</td>\n",
       "      <td>0</td>\n",
       "      <td>0</td>\n",
       "      <td>0</td>\n",
       "    </tr>\n",
       "    <tr>\n",
       "      <th>1</th>\n",
       "      <td>608</td>\n",
       "      <td>41</td>\n",
       "      <td>1</td>\n",
       "      <td>83808</td>\n",
       "      <td>1</td>\n",
       "      <td>0</td>\n",
       "      <td>1</td>\n",
       "      <td>112543</td>\n",
       "      <td>0</td>\n",
       "      <td>0</td>\n",
       "      <td>0</td>\n",
       "      <td>1</td>\n",
       "    </tr>\n",
       "    <tr>\n",
       "      <th>2</th>\n",
       "      <td>502</td>\n",
       "      <td>42</td>\n",
       "      <td>8</td>\n",
       "      <td>159661</td>\n",
       "      <td>3</td>\n",
       "      <td>1</td>\n",
       "      <td>0</td>\n",
       "      <td>113932</td>\n",
       "      <td>1</td>\n",
       "      <td>0</td>\n",
       "      <td>0</td>\n",
       "      <td>0</td>\n",
       "    </tr>\n",
       "    <tr>\n",
       "      <th>3</th>\n",
       "      <td>699</td>\n",
       "      <td>39</td>\n",
       "      <td>1</td>\n",
       "      <td>0</td>\n",
       "      <td>2</td>\n",
       "      <td>0</td>\n",
       "      <td>0</td>\n",
       "      <td>93827</td>\n",
       "      <td>0</td>\n",
       "      <td>0</td>\n",
       "      <td>0</td>\n",
       "      <td>0</td>\n",
       "    </tr>\n",
       "    <tr>\n",
       "      <th>4</th>\n",
       "      <td>850</td>\n",
       "      <td>43</td>\n",
       "      <td>2</td>\n",
       "      <td>125511</td>\n",
       "      <td>1</td>\n",
       "      <td>1</td>\n",
       "      <td>1</td>\n",
       "      <td>79085</td>\n",
       "      <td>0</td>\n",
       "      <td>0</td>\n",
       "      <td>0</td>\n",
       "      <td>1</td>\n",
       "    </tr>\n",
       "    <tr>\n",
       "      <th>5</th>\n",
       "      <td>645</td>\n",
       "      <td>44</td>\n",
       "      <td>8</td>\n",
       "      <td>113756</td>\n",
       "      <td>2</td>\n",
       "      <td>1</td>\n",
       "      <td>0</td>\n",
       "      <td>149757</td>\n",
       "      <td>1</td>\n",
       "      <td>1</td>\n",
       "      <td>0</td>\n",
       "      <td>1</td>\n",
       "    </tr>\n",
       "    <tr>\n",
       "      <th>6</th>\n",
       "      <td>822</td>\n",
       "      <td>50</td>\n",
       "      <td>7</td>\n",
       "      <td>0</td>\n",
       "      <td>2</td>\n",
       "      <td>1</td>\n",
       "      <td>1</td>\n",
       "      <td>10063</td>\n",
       "      <td>0</td>\n",
       "      <td>1</td>\n",
       "      <td>0</td>\n",
       "      <td>0</td>\n",
       "    </tr>\n",
       "    <tr>\n",
       "      <th>7</th>\n",
       "      <td>376</td>\n",
       "      <td>29</td>\n",
       "      <td>4</td>\n",
       "      <td>115047</td>\n",
       "      <td>4</td>\n",
       "      <td>1</td>\n",
       "      <td>0</td>\n",
       "      <td>119347</td>\n",
       "      <td>1</td>\n",
       "      <td>0</td>\n",
       "      <td>1</td>\n",
       "      <td>0</td>\n",
       "    </tr>\n",
       "    <tr>\n",
       "      <th>8</th>\n",
       "      <td>501</td>\n",
       "      <td>44</td>\n",
       "      <td>4</td>\n",
       "      <td>142052</td>\n",
       "      <td>2</td>\n",
       "      <td>0</td>\n",
       "      <td>1</td>\n",
       "      <td>74941</td>\n",
       "      <td>0</td>\n",
       "      <td>1</td>\n",
       "      <td>0</td>\n",
       "      <td>0</td>\n",
       "    </tr>\n",
       "    <tr>\n",
       "      <th>9</th>\n",
       "      <td>684</td>\n",
       "      <td>27</td>\n",
       "      <td>2</td>\n",
       "      <td>134604</td>\n",
       "      <td>1</td>\n",
       "      <td>1</td>\n",
       "      <td>1</td>\n",
       "      <td>71726</td>\n",
       "      <td>0</td>\n",
       "      <td>1</td>\n",
       "      <td>0</td>\n",
       "      <td>0</td>\n",
       "    </tr>\n",
       "  </tbody>\n",
       "</table>\n",
       "</div>"
      ],
      "text/plain": [
       "   credit_score  age  tenure  balance  number_of_products  has_credit_card  \\\n",
       "0           619   42       2        0                   1                1   \n",
       "1           608   41       1    83808                   1                0   \n",
       "2           502   42       8   159661                   3                1   \n",
       "3           699   39       1        0                   2                0   \n",
       "4           850   43       2   125511                   1                1   \n",
       "5           645   44       8   113756                   2                1   \n",
       "6           822   50       7        0                   2                1   \n",
       "7           376   29       4   115047                   4                1   \n",
       "8           501   44       4   142052                   2                0   \n",
       "9           684   27       2   134604                   1                1   \n",
       "\n",
       "   is_active_member  estimated_salary  exited  gender_male  country_germany  \\\n",
       "0                 1            101349       1            0                0   \n",
       "1                 1            112543       0            0                0   \n",
       "2                 0            113932       1            0                0   \n",
       "3                 0             93827       0            0                0   \n",
       "4                 1             79085       0            0                0   \n",
       "5                 0            149757       1            1                0   \n",
       "6                 1             10063       0            1                0   \n",
       "7                 0            119347       1            0                1   \n",
       "8                 1             74941       0            1                0   \n",
       "9                 1             71726       0            1                0   \n",
       "\n",
       "   country_spain  \n",
       "0              0  \n",
       "1              1  \n",
       "2              0  \n",
       "3              0  \n",
       "4              1  \n",
       "5              1  \n",
       "6              0  \n",
       "7              0  \n",
       "8              0  \n",
       "9              0  "
      ]
     },
     "metadata": {},
     "output_type": "display_data"
    }
   ],
   "source": [
    "# приведем типы данных к единым в датасете\n",
    "data_ohe['gender_male'] = data_ohe['gender_male'].astype('Int64')\n",
    "data_ohe['country_germany'] = data_ohe['country_germany'].astype('Int64')\n",
    "data_ohe['country_spain'] = data_ohe['country_spain'].astype('Int64')\n",
    "\n",
    "# проверим как выглядит итоговый датасет\n",
    "display(data_ohe.info())\n",
    "display(data_ohe.head(10))"
   ]
  },
  {
   "cell_type": "markdown",
   "metadata": {},
   "source": [
    "На этапе подготовки признаков был категоризированы данные признаков: gender - выведен столбец gender_male(1), значение 0 по умолчанию относится к gender_female(удален для избегания dummy ловушки); country - country_france(столбец по умолчанию, удален для избегания dummy ловушки), country_germany, country_gpain. Названия столбцов и типы данных скорректированы для единообразия и удобства. Данные практически готовы к дальнейшему анализу и работе."
   ]
  },
  {
   "cell_type": "markdown",
   "metadata": {},
   "source": [
    "#### Масштабирование признаков"
   ]
  },
  {
   "cell_type": "markdown",
   "metadata": {},
   "source": [
    "В датасете присутствуют количественные признаки с разными разбросами значений, чтобы нивелировать возможное придание большей важности признакам с большими значениями(например, balance, estimated_salary, credit_score, age, tenure, number_of_products) - необходимо масштабировать все признаки и привести их к единому масштабу."
   ]
  },
  {
   "cell_type": "code",
   "execution_count": 146,
   "metadata": {
    "scrolled": true
   },
   "outputs": [
    {
     "data": {
      "text/plain": [
       "'Train'"
      ]
     },
     "metadata": {},
     "output_type": "display_data"
    },
    {
     "data": {
      "text/plain": [
       "(6000, 11)"
      ]
     },
     "metadata": {},
     "output_type": "display_data"
    },
    {
     "data": {
      "text/plain": [
       "(6000,)"
      ]
     },
     "metadata": {},
     "output_type": "display_data"
    },
    {
     "data": {
      "text/plain": [
       "'Valid'"
      ]
     },
     "metadata": {},
     "output_type": "display_data"
    },
    {
     "data": {
      "text/plain": [
       "(2000, 11)"
      ]
     },
     "metadata": {},
     "output_type": "display_data"
    },
    {
     "data": {
      "text/plain": [
       "(2000,)"
      ]
     },
     "metadata": {},
     "output_type": "display_data"
    },
    {
     "data": {
      "text/plain": [
       "'Test'"
      ]
     },
     "metadata": {},
     "output_type": "display_data"
    },
    {
     "data": {
      "text/plain": [
       "(2000, 11)"
      ]
     },
     "metadata": {},
     "output_type": "display_data"
    },
    {
     "data": {
      "text/plain": [
       "(2000,)"
      ]
     },
     "metadata": {},
     "output_type": "display_data"
    }
   ],
   "source": [
    "# создадим обучающую и целевую выборки на основе датасета\n",
    "target = data_ohe['exited']\n",
    "features = data_ohe.drop('exited', axis=1)\n",
    "# разобьем выборку следующим образом(т.к. тестовой выборки у нас нет и это не оговорено): 60% - на обучающую выборку, 20% на валидационную выборку, 20% на тестовую выборку\n",
    "features_train, features_valid_test, target_train, target_valid_test = train_test_split(features, target, test_size=0.40, random_state=654321)\n",
    "features_valid, features_test, target_valid, target_test = train_test_split(features_valid_test, target_valid_test, test_size=0.50, random_state=654321)\n",
    "# проверим разбитые выборки\n",
    "display('Train')\n",
    "display(features_train.shape)\n",
    "display(target_train.shape)\n",
    "display('Valid')\n",
    "display(features_valid.shape)\n",
    "display(target_valid.shape)\n",
    "display('Test')\n",
    "display(features_test.shape)\n",
    "display(target_test.shape)"
   ]
  },
  {
   "cell_type": "code",
   "execution_count": 147,
   "metadata": {
    "scrolled": true
   },
   "outputs": [
    {
     "data": {
      "text/plain": [
       "'Train'"
      ]
     },
     "metadata": {},
     "output_type": "display_data"
    },
    {
     "data": {
      "text/html": [
       "<div>\n",
       "<style scoped>\n",
       "    .dataframe tbody tr th:only-of-type {\n",
       "        vertical-align: middle;\n",
       "    }\n",
       "\n",
       "    .dataframe tbody tr th {\n",
       "        vertical-align: top;\n",
       "    }\n",
       "\n",
       "    .dataframe thead th {\n",
       "        text-align: right;\n",
       "    }\n",
       "</style>\n",
       "<table border=\"1\" class=\"dataframe\">\n",
       "  <thead>\n",
       "    <tr style=\"text-align: right;\">\n",
       "      <th></th>\n",
       "      <th>credit_score</th>\n",
       "      <th>age</th>\n",
       "      <th>tenure</th>\n",
       "      <th>balance</th>\n",
       "      <th>number_of_products</th>\n",
       "      <th>has_credit_card</th>\n",
       "      <th>is_active_member</th>\n",
       "      <th>estimated_salary</th>\n",
       "      <th>gender_male</th>\n",
       "      <th>country_germany</th>\n",
       "      <th>country_spain</th>\n",
       "    </tr>\n",
       "  </thead>\n",
       "  <tbody>\n",
       "    <tr>\n",
       "      <th>count</th>\n",
       "      <td>6.000000e+03</td>\n",
       "      <td>6.000000e+03</td>\n",
       "      <td>6.000000e+03</td>\n",
       "      <td>6.000000e+03</td>\n",
       "      <td>6.000000e+03</td>\n",
       "      <td>6000.000000</td>\n",
       "      <td>6000.000000</td>\n",
       "      <td>6.000000e+03</td>\n",
       "      <td>6000.000000</td>\n",
       "      <td>6000.000000</td>\n",
       "      <td>6000.000000</td>\n",
       "    </tr>\n",
       "    <tr>\n",
       "      <th>mean</th>\n",
       "      <td>5.565918e-16</td>\n",
       "      <td>9.414691e-17</td>\n",
       "      <td>-6.513308e-17</td>\n",
       "      <td>-9.473903e-18</td>\n",
       "      <td>4.973799e-17</td>\n",
       "      <td>0.704333</td>\n",
       "      <td>0.511167</td>\n",
       "      <td>4.470498e-17</td>\n",
       "      <td>0.549667</td>\n",
       "      <td>0.250500</td>\n",
       "      <td>0.248333</td>\n",
       "    </tr>\n",
       "    <tr>\n",
       "      <th>std</th>\n",
       "      <td>1.000083e+00</td>\n",
       "      <td>1.000083e+00</td>\n",
       "      <td>1.000083e+00</td>\n",
       "      <td>1.000083e+00</td>\n",
       "      <td>1.000083e+00</td>\n",
       "      <td>0.456380</td>\n",
       "      <td>0.499917</td>\n",
       "      <td>1.000083e+00</td>\n",
       "      <td>0.497569</td>\n",
       "      <td>0.433337</td>\n",
       "      <td>0.432082</td>\n",
       "    </tr>\n",
       "    <tr>\n",
       "      <th>min</th>\n",
       "      <td>-3.145851e+00</td>\n",
       "      <td>-1.996672e+00</td>\n",
       "      <td>-1.809844e+00</td>\n",
       "      <td>-1.220540e+00</td>\n",
       "      <td>-9.155526e-01</td>\n",
       "      <td>0.000000</td>\n",
       "      <td>0.000000</td>\n",
       "      <td>-1.754304e+00</td>\n",
       "      <td>0.000000</td>\n",
       "      <td>0.000000</td>\n",
       "      <td>0.000000</td>\n",
       "    </tr>\n",
       "    <tr>\n",
       "      <th>25%</th>\n",
       "      <td>-6.928592e-01</td>\n",
       "      <td>-6.496714e-01</td>\n",
       "      <td>-7.269698e-01</td>\n",
       "      <td>-1.220540e+00</td>\n",
       "      <td>-9.155526e-01</td>\n",
       "      <td>0.000000</td>\n",
       "      <td>0.000000</td>\n",
       "      <td>-8.515665e-01</td>\n",
       "      <td>0.000000</td>\n",
       "      <td>0.000000</td>\n",
       "      <td>0.000000</td>\n",
       "    </tr>\n",
       "    <tr>\n",
       "      <th>50%</th>\n",
       "      <td>1.913195e-02</td>\n",
       "      <td>-1.685996e-01</td>\n",
       "      <td>-5.053415e-03</td>\n",
       "      <td>3.187003e-01</td>\n",
       "      <td>-9.155526e-01</td>\n",
       "      <td>1.000000</td>\n",
       "      <td>1.000000</td>\n",
       "      <td>1.540918e-02</td>\n",
       "      <td>1.000000</td>\n",
       "      <td>0.000000</td>\n",
       "      <td>0.000000</td>\n",
       "    </tr>\n",
       "    <tr>\n",
       "      <th>75%</th>\n",
       "      <td>6.895470e-01</td>\n",
       "      <td>5.049009e-01</td>\n",
       "      <td>7.168630e-01</td>\n",
       "      <td>8.223374e-01</td>\n",
       "      <td>8.037950e-01</td>\n",
       "      <td>1.000000</td>\n",
       "      <td>1.000000</td>\n",
       "      <td>8.459799e-01</td>\n",
       "      <td>1.000000</td>\n",
       "      <td>1.000000</td>\n",
       "      <td>0.000000</td>\n",
       "    </tr>\n",
       "    <tr>\n",
       "      <th>max</th>\n",
       "      <td>2.051165e+00</td>\n",
       "      <td>5.123190e+00</td>\n",
       "      <td>1.799738e+00</td>\n",
       "      <td>2.794554e+00</td>\n",
       "      <td>4.242490e+00</td>\n",
       "      <td>1.000000</td>\n",
       "      <td>1.000000</td>\n",
       "      <td>1.744494e+00</td>\n",
       "      <td>1.000000</td>\n",
       "      <td>1.000000</td>\n",
       "      <td>1.000000</td>\n",
       "    </tr>\n",
       "  </tbody>\n",
       "</table>\n",
       "</div>"
      ],
      "text/plain": [
       "       credit_score           age        tenure       balance  \\\n",
       "count  6.000000e+03  6.000000e+03  6.000000e+03  6.000000e+03   \n",
       "mean   5.565918e-16  9.414691e-17 -6.513308e-17 -9.473903e-18   \n",
       "std    1.000083e+00  1.000083e+00  1.000083e+00  1.000083e+00   \n",
       "min   -3.145851e+00 -1.996672e+00 -1.809844e+00 -1.220540e+00   \n",
       "25%   -6.928592e-01 -6.496714e-01 -7.269698e-01 -1.220540e+00   \n",
       "50%    1.913195e-02 -1.685996e-01 -5.053415e-03  3.187003e-01   \n",
       "75%    6.895470e-01  5.049009e-01  7.168630e-01  8.223374e-01   \n",
       "max    2.051165e+00  5.123190e+00  1.799738e+00  2.794554e+00   \n",
       "\n",
       "       number_of_products  has_credit_card  is_active_member  \\\n",
       "count        6.000000e+03      6000.000000       6000.000000   \n",
       "mean         4.973799e-17         0.704333          0.511167   \n",
       "std          1.000083e+00         0.456380          0.499917   \n",
       "min         -9.155526e-01         0.000000          0.000000   \n",
       "25%         -9.155526e-01         0.000000          0.000000   \n",
       "50%         -9.155526e-01         1.000000          1.000000   \n",
       "75%          8.037950e-01         1.000000          1.000000   \n",
       "max          4.242490e+00         1.000000          1.000000   \n",
       "\n",
       "       estimated_salary  gender_male  country_germany  country_spain  \n",
       "count      6.000000e+03  6000.000000      6000.000000    6000.000000  \n",
       "mean       4.470498e-17     0.549667         0.250500       0.248333  \n",
       "std        1.000083e+00     0.497569         0.433337       0.432082  \n",
       "min       -1.754304e+00     0.000000         0.000000       0.000000  \n",
       "25%       -8.515665e-01     0.000000         0.000000       0.000000  \n",
       "50%        1.540918e-02     1.000000         0.000000       0.000000  \n",
       "75%        8.459799e-01     1.000000         1.000000       0.000000  \n",
       "max        1.744494e+00     1.000000         1.000000       1.000000  "
      ]
     },
     "metadata": {},
     "output_type": "display_data"
    },
    {
     "data": {
      "text/plain": [
       "(6000, 11)"
      ]
     },
     "metadata": {},
     "output_type": "display_data"
    },
    {
     "data": {
      "text/plain": [
       "'Valid'"
      ]
     },
     "metadata": {},
     "output_type": "display_data"
    },
    {
     "data": {
      "text/html": [
       "<div>\n",
       "<style scoped>\n",
       "    .dataframe tbody tr th:only-of-type {\n",
       "        vertical-align: middle;\n",
       "    }\n",
       "\n",
       "    .dataframe tbody tr th {\n",
       "        vertical-align: top;\n",
       "    }\n",
       "\n",
       "    .dataframe thead th {\n",
       "        text-align: right;\n",
       "    }\n",
       "</style>\n",
       "<table border=\"1\" class=\"dataframe\">\n",
       "  <thead>\n",
       "    <tr style=\"text-align: right;\">\n",
       "      <th></th>\n",
       "      <th>credit_score</th>\n",
       "      <th>age</th>\n",
       "      <th>tenure</th>\n",
       "      <th>balance</th>\n",
       "      <th>number_of_products</th>\n",
       "      <th>has_credit_card</th>\n",
       "      <th>is_active_member</th>\n",
       "      <th>estimated_salary</th>\n",
       "      <th>gender_male</th>\n",
       "      <th>country_germany</th>\n",
       "      <th>country_spain</th>\n",
       "    </tr>\n",
       "  </thead>\n",
       "  <tbody>\n",
       "    <tr>\n",
       "      <th>count</th>\n",
       "      <td>2000.000000</td>\n",
       "      <td>2000.000000</td>\n",
       "      <td>2000.000000</td>\n",
       "      <td>2000.000000</td>\n",
       "      <td>2000.000000</td>\n",
       "      <td>2000.000000</td>\n",
       "      <td>2000.000000</td>\n",
       "      <td>2000.000000</td>\n",
       "      <td>2000.000000</td>\n",
       "      <td>2000.000000</td>\n",
       "      <td>2000.0000</td>\n",
       "    </tr>\n",
       "    <tr>\n",
       "      <th>mean</th>\n",
       "      <td>-0.080381</td>\n",
       "      <td>0.032633</td>\n",
       "      <td>-0.009204</td>\n",
       "      <td>-0.017237</td>\n",
       "      <td>-0.036966</td>\n",
       "      <td>0.705000</td>\n",
       "      <td>0.522500</td>\n",
       "      <td>-0.027247</td>\n",
       "      <td>0.542500</td>\n",
       "      <td>0.249500</td>\n",
       "      <td>0.2440</td>\n",
       "    </tr>\n",
       "    <tr>\n",
       "      <th>std</th>\n",
       "      <td>1.022293</td>\n",
       "      <td>1.023966</td>\n",
       "      <td>0.990838</td>\n",
       "      <td>0.989717</td>\n",
       "      <td>0.989252</td>\n",
       "      <td>0.456157</td>\n",
       "      <td>0.499618</td>\n",
       "      <td>1.015995</td>\n",
       "      <td>0.498315</td>\n",
       "      <td>0.432832</td>\n",
       "      <td>0.4296</td>\n",
       "    </tr>\n",
       "    <tr>\n",
       "      <th>min</th>\n",
       "      <td>-3.145851</td>\n",
       "      <td>-1.996672</td>\n",
       "      <td>-1.809844</td>\n",
       "      <td>-1.220540</td>\n",
       "      <td>-0.915553</td>\n",
       "      <td>0.000000</td>\n",
       "      <td>0.000000</td>\n",
       "      <td>-1.755687</td>\n",
       "      <td>0.000000</td>\n",
       "      <td>0.000000</td>\n",
       "      <td>0.0000</td>\n",
       "    </tr>\n",
       "    <tr>\n",
       "      <th>25%</th>\n",
       "      <td>-0.796800</td>\n",
       "      <td>-0.649671</td>\n",
       "      <td>-0.726970</td>\n",
       "      <td>-1.220540</td>\n",
       "      <td>-0.915553</td>\n",
       "      <td>0.000000</td>\n",
       "      <td>0.000000</td>\n",
       "      <td>-0.885319</td>\n",
       "      <td>0.000000</td>\n",
       "      <td>0.000000</td>\n",
       "      <td>0.0000</td>\n",
       "    </tr>\n",
       "    <tr>\n",
       "      <th>50%</th>\n",
       "      <td>-0.079611</td>\n",
       "      <td>-0.168600</td>\n",
       "      <td>-0.005053</td>\n",
       "      <td>0.324661</td>\n",
       "      <td>-0.915553</td>\n",
       "      <td>1.000000</td>\n",
       "      <td>1.000000</td>\n",
       "      <td>-0.060963</td>\n",
       "      <td>1.000000</td>\n",
       "      <td>0.000000</td>\n",
       "      <td>0.0000</td>\n",
       "    </tr>\n",
       "    <tr>\n",
       "      <th>75%</th>\n",
       "      <td>0.647971</td>\n",
       "      <td>0.504901</td>\n",
       "      <td>0.716863</td>\n",
       "      <td>0.786039</td>\n",
       "      <td>0.803795</td>\n",
       "      <td>1.000000</td>\n",
       "      <td>1.000000</td>\n",
       "      <td>0.848575</td>\n",
       "      <td>1.000000</td>\n",
       "      <td>0.000000</td>\n",
       "      <td>0.0000</td>\n",
       "    </tr>\n",
       "    <tr>\n",
       "      <th>max</th>\n",
       "      <td>2.051165</td>\n",
       "      <td>4.738333</td>\n",
       "      <td>1.799738</td>\n",
       "      <td>2.184526</td>\n",
       "      <td>4.242490</td>\n",
       "      <td>1.000000</td>\n",
       "      <td>1.000000</td>\n",
       "      <td>1.742604</td>\n",
       "      <td>1.000000</td>\n",
       "      <td>1.000000</td>\n",
       "      <td>1.0000</td>\n",
       "    </tr>\n",
       "  </tbody>\n",
       "</table>\n",
       "</div>"
      ],
      "text/plain": [
       "       credit_score          age       tenure      balance  \\\n",
       "count   2000.000000  2000.000000  2000.000000  2000.000000   \n",
       "mean      -0.080381     0.032633    -0.009204    -0.017237   \n",
       "std        1.022293     1.023966     0.990838     0.989717   \n",
       "min       -3.145851    -1.996672    -1.809844    -1.220540   \n",
       "25%       -0.796800    -0.649671    -0.726970    -1.220540   \n",
       "50%       -0.079611    -0.168600    -0.005053     0.324661   \n",
       "75%        0.647971     0.504901     0.716863     0.786039   \n",
       "max        2.051165     4.738333     1.799738     2.184526   \n",
       "\n",
       "       number_of_products  has_credit_card  is_active_member  \\\n",
       "count         2000.000000      2000.000000       2000.000000   \n",
       "mean            -0.036966         0.705000          0.522500   \n",
       "std              0.989252         0.456157          0.499618   \n",
       "min             -0.915553         0.000000          0.000000   \n",
       "25%             -0.915553         0.000000          0.000000   \n",
       "50%             -0.915553         1.000000          1.000000   \n",
       "75%              0.803795         1.000000          1.000000   \n",
       "max              4.242490         1.000000          1.000000   \n",
       "\n",
       "       estimated_salary  gender_male  country_germany  country_spain  \n",
       "count       2000.000000  2000.000000      2000.000000      2000.0000  \n",
       "mean          -0.027247     0.542500         0.249500         0.2440  \n",
       "std            1.015995     0.498315         0.432832         0.4296  \n",
       "min           -1.755687     0.000000         0.000000         0.0000  \n",
       "25%           -0.885319     0.000000         0.000000         0.0000  \n",
       "50%           -0.060963     1.000000         0.000000         0.0000  \n",
       "75%            0.848575     1.000000         0.000000         0.0000  \n",
       "max            1.742604     1.000000         1.000000         1.0000  "
      ]
     },
     "metadata": {},
     "output_type": "display_data"
    },
    {
     "data": {
      "text/plain": [
       "(2000, 11)"
      ]
     },
     "metadata": {},
     "output_type": "display_data"
    },
    {
     "data": {
      "text/plain": [
       "'Test'"
      ]
     },
     "metadata": {},
     "output_type": "display_data"
    },
    {
     "data": {
      "text/html": [
       "<div>\n",
       "<style scoped>\n",
       "    .dataframe tbody tr th:only-of-type {\n",
       "        vertical-align: middle;\n",
       "    }\n",
       "\n",
       "    .dataframe tbody tr th {\n",
       "        vertical-align: top;\n",
       "    }\n",
       "\n",
       "    .dataframe thead th {\n",
       "        text-align: right;\n",
       "    }\n",
       "</style>\n",
       "<table border=\"1\" class=\"dataframe\">\n",
       "  <thead>\n",
       "    <tr style=\"text-align: right;\">\n",
       "      <th></th>\n",
       "      <th>credit_score</th>\n",
       "      <th>age</th>\n",
       "      <th>tenure</th>\n",
       "      <th>balance</th>\n",
       "      <th>number_of_products</th>\n",
       "      <th>has_credit_card</th>\n",
       "      <th>is_active_member</th>\n",
       "      <th>estimated_salary</th>\n",
       "      <th>gender_male</th>\n",
       "      <th>country_germany</th>\n",
       "      <th>country_spain</th>\n",
       "    </tr>\n",
       "  </thead>\n",
       "  <tbody>\n",
       "    <tr>\n",
       "      <th>count</th>\n",
       "      <td>2000.000000</td>\n",
       "      <td>2000.000000</td>\n",
       "      <td>2000.000000</td>\n",
       "      <td>2000.000000</td>\n",
       "      <td>2000.000000</td>\n",
       "      <td>2000.000000</td>\n",
       "      <td>2000.000000</td>\n",
       "      <td>2000.000000</td>\n",
       "      <td>2000.000000</td>\n",
       "      <td>2000.000000</td>\n",
       "      <td>2000.000000</td>\n",
       "    </tr>\n",
       "    <tr>\n",
       "      <th>mean</th>\n",
       "      <td>-0.030344</td>\n",
       "      <td>0.048893</td>\n",
       "      <td>-0.019853</td>\n",
       "      <td>0.034516</td>\n",
       "      <td>0.017193</td>\n",
       "      <td>0.709500</td>\n",
       "      <td>0.519500</td>\n",
       "      <td>0.007951</td>\n",
       "      <td>0.537000</td>\n",
       "      <td>0.253500</td>\n",
       "      <td>0.249500</td>\n",
       "    </tr>\n",
       "    <tr>\n",
       "      <th>std</th>\n",
       "      <td>0.998391</td>\n",
       "      <td>1.020339</td>\n",
       "      <td>0.990440</td>\n",
       "      <td>1.002458</td>\n",
       "      <td>1.010424</td>\n",
       "      <td>0.454107</td>\n",
       "      <td>0.499745</td>\n",
       "      <td>1.017199</td>\n",
       "      <td>0.498754</td>\n",
       "      <td>0.435123</td>\n",
       "      <td>0.432832</td>\n",
       "    </tr>\n",
       "    <tr>\n",
       "      <th>min</th>\n",
       "      <td>-3.145851</td>\n",
       "      <td>-1.996672</td>\n",
       "      <td>-1.809844</td>\n",
       "      <td>-1.220540</td>\n",
       "      <td>-0.915553</td>\n",
       "      <td>0.000000</td>\n",
       "      <td>0.000000</td>\n",
       "      <td>-1.748387</td>\n",
       "      <td>0.000000</td>\n",
       "      <td>0.000000</td>\n",
       "      <td>0.000000</td>\n",
       "    </tr>\n",
       "    <tr>\n",
       "      <th>25%</th>\n",
       "      <td>-0.713647</td>\n",
       "      <td>-0.649671</td>\n",
       "      <td>-0.726970</td>\n",
       "      <td>-1.220540</td>\n",
       "      <td>-0.915553</td>\n",
       "      <td>0.000000</td>\n",
       "      <td>0.000000</td>\n",
       "      <td>-0.873793</td>\n",
       "      <td>0.000000</td>\n",
       "      <td>0.000000</td>\n",
       "      <td>0.000000</td>\n",
       "    </tr>\n",
       "    <tr>\n",
       "      <th>50%</th>\n",
       "      <td>-0.006853</td>\n",
       "      <td>-0.072385</td>\n",
       "      <td>-0.005053</td>\n",
       "      <td>0.377439</td>\n",
       "      <td>0.803795</td>\n",
       "      <td>1.000000</td>\n",
       "      <td>1.000000</td>\n",
       "      <td>-0.004458</td>\n",
       "      <td>1.000000</td>\n",
       "      <td>0.000000</td>\n",
       "      <td>0.000000</td>\n",
       "    </tr>\n",
       "    <tr>\n",
       "      <th>75%</th>\n",
       "      <td>0.658365</td>\n",
       "      <td>0.504901</td>\n",
       "      <td>0.716863</td>\n",
       "      <td>0.849174</td>\n",
       "      <td>0.803795</td>\n",
       "      <td>1.000000</td>\n",
       "      <td>1.000000</td>\n",
       "      <td>0.904104</td>\n",
       "      <td>1.000000</td>\n",
       "      <td>1.000000</td>\n",
       "      <td>0.000000</td>\n",
       "    </tr>\n",
       "    <tr>\n",
       "      <th>max</th>\n",
       "      <td>2.051165</td>\n",
       "      <td>4.064832</td>\n",
       "      <td>1.799738</td>\n",
       "      <td>2.324615</td>\n",
       "      <td>4.242490</td>\n",
       "      <td>1.000000</td>\n",
       "      <td>1.000000</td>\n",
       "      <td>1.744879</td>\n",
       "      <td>1.000000</td>\n",
       "      <td>1.000000</td>\n",
       "      <td>1.000000</td>\n",
       "    </tr>\n",
       "  </tbody>\n",
       "</table>\n",
       "</div>"
      ],
      "text/plain": [
       "       credit_score          age       tenure      balance  \\\n",
       "count   2000.000000  2000.000000  2000.000000  2000.000000   \n",
       "mean      -0.030344     0.048893    -0.019853     0.034516   \n",
       "std        0.998391     1.020339     0.990440     1.002458   \n",
       "min       -3.145851    -1.996672    -1.809844    -1.220540   \n",
       "25%       -0.713647    -0.649671    -0.726970    -1.220540   \n",
       "50%       -0.006853    -0.072385    -0.005053     0.377439   \n",
       "75%        0.658365     0.504901     0.716863     0.849174   \n",
       "max        2.051165     4.064832     1.799738     2.324615   \n",
       "\n",
       "       number_of_products  has_credit_card  is_active_member  \\\n",
       "count         2000.000000      2000.000000       2000.000000   \n",
       "mean             0.017193         0.709500          0.519500   \n",
       "std              1.010424         0.454107          0.499745   \n",
       "min             -0.915553         0.000000          0.000000   \n",
       "25%             -0.915553         0.000000          0.000000   \n",
       "50%              0.803795         1.000000          1.000000   \n",
       "75%              0.803795         1.000000          1.000000   \n",
       "max              4.242490         1.000000          1.000000   \n",
       "\n",
       "       estimated_salary  gender_male  country_germany  country_spain  \n",
       "count       2000.000000  2000.000000      2000.000000    2000.000000  \n",
       "mean           0.007951     0.537000         0.253500       0.249500  \n",
       "std            1.017199     0.498754         0.435123       0.432832  \n",
       "min           -1.748387     0.000000         0.000000       0.000000  \n",
       "25%           -0.873793     0.000000         0.000000       0.000000  \n",
       "50%           -0.004458     1.000000         0.000000       0.000000  \n",
       "75%            0.904104     1.000000         1.000000       0.000000  \n",
       "max            1.744879     1.000000         1.000000       1.000000  "
      ]
     },
     "metadata": {},
     "output_type": "display_data"
    },
    {
     "data": {
      "text/plain": [
       "(2000, 11)"
      ]
     },
     "metadata": {},
     "output_type": "display_data"
    }
   ],
   "source": [
    "# масштабируем числовые признаки\n",
    "pd.options.mode.chained_assignment = None\n",
    "# обозначим совокупность численных признаков\n",
    "numeric = ['credit_score', 'age', 'tenure', 'balance', 'number_of_products', 'estimated_salary']\n",
    "# создадим объект структуры и настроим его на обучающей выборке\n",
    "scaler = StandardScaler()\n",
    "scaler.fit(features_train[numeric])\n",
    "# преобразуем обучающую, тестовую и валидационные выборки\n",
    "features_train[numeric] = scaler.transform(features_train[numeric])\n",
    "features_valid[numeric] = scaler.transform(features_valid[numeric])\n",
    "features_test[numeric] = scaler.transform(features_test[numeric])\n",
    "# проверка приобразованных данных\n",
    "display('Train')\n",
    "display(features_train.describe())\n",
    "display(features_train.shape)\n",
    "display('Valid')\n",
    "display(features_valid.describe())\n",
    "display(features_valid.shape)\n",
    "display('Test')\n",
    "display(features_test.describe())\n",
    "display(features_test.shape)"
   ]
  },
  {
   "cell_type": "markdown",
   "metadata": {},
   "source": [
    "Данные масштабированы, проверены и готовы к дальнейшим исследованиям в рамках формирования моделей."
   ]
  },
  {
   "cell_type": "markdown",
   "metadata": {},
   "source": [
    "## Исследование задачи"
   ]
  },
  {
   "cell_type": "markdown",
   "metadata": {},
   "source": [
    "Основные задачи этапа исследования:\n",
    "1. Исследуем баланс классов,\n",
    "2. Изучим модели без учёта дисбаланса."
   ]
  },
  {
   "cell_type": "code",
   "execution_count": 148,
   "metadata": {
    "scrolled": false
   },
   "outputs": [
    {
     "data": {
      "text/plain": [
       "0    7963\n",
       "1    2037\n",
       "Name: exited, dtype: int64"
      ]
     },
     "metadata": {},
     "output_type": "display_data"
    },
    {
     "data": {
      "image/png": "[encoded data removed]",
      "text/plain": [
       "<Figure size 432x288 with 1 Axes>"
      ]
     },
     "metadata": {},
     "output_type": "display_data"
    }
   ],
   "source": [
    "# узнаем долю клиентов, которые останутся и которые уйдут\n",
    "display(data['exited'].value_counts())\n",
    "# построим круговую диаграмму\n",
    "labels = 'Отток маловероятен', 'Вероятен отток' \n",
    "fig1, ax1 = plt.subplots()\n",
    "ax1.pie(data['exited'].value_counts(), labels=labels, shadow=True, autopct='%1.1f%%')\n",
    "plt.show()"
   ]
  },
  {
   "cell_type": "markdown",
   "metadata": {},
   "source": [
    "Доля клиентов, отток по которым маловероятен в выборке составляет 79.6%, доля клиентов, которые покинули банк 20.4%. Можно сделать вывод, что в целом в выборке имеется перекос в сторону положительного класса, что может вызвать дисбаланс при дальнейшем построении моделей и сформированная часть данных для этапов может негативно влиять на сами этапы обучения, валидации и тестирования по причине того, что на каждом из этапов баланс классов клиентов может перевешивать в ту или иную сторону. От данного дисбаланса возможно избавить с помощью отдельных инструментов, которые в этой работе пока не были использованы."
   ]
  },
  {
   "cell_type": "markdown",
   "metadata": {},
   "source": [
    "### Модель на основе алгоритма DecisionTreeClassifier без учета дисбаланса классов"
   ]
  },
  {
   "cell_type": "code",
   "execution_count": 149,
   "metadata": {
    "scrolled": true
   },
   "outputs": [
    {
     "name": "stdout",
     "output_type": "stream",
     "text": [
      "------------------------------------------------\n",
      "Матрица ошибок и неточностей:\n",
      "[[1542   64]\n",
      " [ 219  175]]\n",
      "F1-score лучшей модели на валидационной выборке: 0.5529225908372828\n",
      "AUC-ROC лучшей модели на валидационной выборке: 0.8289022447547585\n"
     ]
    },
    {
     "data": {
      "image/png": "[encoded data removed]",
      "text/plain": [
       "<Figure size 432x288 with 1 Axes>"
      ]
     },
     "metadata": {
      "needs_background": "light"
     },
     "output_type": "display_data"
    },
    {
     "name": "stdout",
     "output_type": "stream",
     "text": [
      "Recall лучшей модели на валидационной выборке: 0.44416243654822335\n",
      "Precision лучшей модели на валидационной выборке: 0.7322175732217573\n",
      "Глубина при наилучшем F1-score на валидационной выборке: 6\n"
     ]
    }
   ],
   "source": [
    "best_model_dtc_base = None\n",
    "best_depth_dtc_base = 0\n",
    "best_result_recall_dtc_base = 0\n",
    "best_result_precision_dtc_base = 0\n",
    "best_result_f1_score_dtc_base = 0\n",
    "best_auc_roc_dtc_base = 0\n",
    "best_fpr_dtc_base = []\n",
    "best_tpr_dtc_base = []\n",
    "best_valid_dtc_base = []\n",
    "for depth in range(1, 200):\n",
    "    model_dtc = DecisionTreeClassifier(random_state=654321, max_depth=depth)\n",
    "    model_dtc.fit(features_train, target_train)\n",
    "    reciewed_dtc_valid = model_dtc.predict(features_valid)\n",
    "    result_valid_recall = recall_score(target_valid, reciewed_dtc_valid)\n",
    "    result_valid_precision = precision_score(target_valid, reciewed_dtc_valid)\n",
    "    result_valid_f1_score = f1_score(target_valid, reciewed_dtc_valid)\n",
    "    # измерим AUC-ROC для модели\n",
    "    probabilities_valid = model_dtc.predict_proba(features_valid)\n",
    "    probabilities_one_valid = probabilities_valid[:, 1]\n",
    "    result_valid_auc_roc = roc_auc_score(target_valid, probabilities_one_valid)\n",
    "    fpr, tpr, thresholds = roc_curve(target_valid, probabilities_one_valid)\n",
    "    if result_valid_f1_score > best_result_f1_score_dtc_base:\n",
    "        best_model_dtc_base = model_dtc\n",
    "        best_valid_dtc_base = reciewed_dtc_valid\n",
    "        best_result_recall_dtc_base = result_valid_recall\n",
    "        best_result_precision_dtc_base = result_valid_precision\n",
    "        best_result_f1_score_dtc_base = result_valid_f1_score\n",
    "        best_depth_dtc_base = depth\n",
    "        best_auc_roc_dtc_base = result_valid_auc_roc\n",
    "        best_fpr_dtc_base = fpr\n",
    "        best_tpr_dtc_base = tpr\n",
    "        \n",
    "# посчитаем правильные ответы при тестировании на валидационной выборке\n",
    "print('------------------------------------------------')\n",
    "print('Матрица ошибок и неточностей:')\n",
    "print(confusion_matrix(target_valid, best_valid_dtc_base))\n",
    "print('F1-score лучшей модели на валидационной выборке:', best_result_f1_score_dtc_base)\n",
    "print('AUC-ROC лучшей модели на валидационной выборке:', best_auc_roc_dtc_base)\n",
    "pyplot.plot([0, 1], [0, 1], linestyle='--')\n",
    "pyplot.plot(best_fpr_dtc_base, best_tpr_dtc_base, marker='.')\n",
    "pyplot.show()\n",
    "print('Recall лучшей модели на валидационной выборке:', best_result_recall_dtc_base)\n",
    "print('Precision лучшей модели на валидационной выборке:', best_result_precision_dtc_base)\n",
    "print('Глубина при наилучшем F1-score на валидационной выборке:', best_depth_dtc_base)"
   ]
  },
  {
   "cell_type": "markdown",
   "metadata": {},
   "source": [
    "Исследуя баланс и дисбаланс классов по модели на основе алгоритма DecisionTreeClassifier была построена модель без учета дисбаланса классов. По данной модели была построена матрица ошибок для наибольшего сбалансированного показателя F1-score. Приняли эксппертно, что модель тренируется с глубиной деревьев до 200. Наибольшей оценкой агрегирующего показателя F1-score стало значение 0.55(среднее гармоническое полноты и точности) при глубине дерева равной 6. В данном случае следует отметить, что прогнозирование по шкале Recall(полнота) хуже и составляет долю положительных среди всех ответов 0.44 - значение ближе к 0, т.е. модель необходимо перепроверить и уточнить, по шкале Precision(точность) точность стремится к 1 и этот параметр равен 0.73, т.е. отрицательных ответов меньше, чем положительных, но в то же время в комплексе эти показатели указывают на дисбаланс классификации. Значение F1-меры стремится к 1, но это значение не дотягивает до цели в 0.59, т.е. баланс полноты и точности не до конца соблюден.\n",
    "Матрица для глубины 6 имеет следующие значения:\n",
    "- истинно отрицательных(TN) ответов 1542 - прогноз совпал с реальностью, большинство клиентов остаются в банке,\n",
    "- истинно положительных(TP) ответов 175 - прогнос совпал с реальностью, меньшинство клиентов уходит, но медленный их отток, не отрицаем,\n",
    "- ложноотрицательных(FN, ошибка 2 рода) ответов 64 - модель показала, что 64 клиента не покинут банк, но они покинули банк и банк получил отток,\n",
    "- ложноположительных(FP, ошибка 1 рода) ответов 219 - модель предсказала, что будет отток, но в реальности эти клиенты не покинули банк.\n",
    "\n",
    "Количество правильных прогнозов составило 1717, количество ложных 283.\n",
    "\n",
    "AUC-ROC модели составил 0.83 и стремится к 1, классификация достаточно качественная несмотря на то, что показатель F1-score на уровне 0.55, что ниже целевого 0.59."
   ]
  },
  {
   "cell_type": "markdown",
   "metadata": {},
   "source": [
    "### Модель на основе алгоритма RandomForestClassifier без учета дисбаланса классов"
   ]
  },
  {
   "cell_type": "code",
   "execution_count": 150,
   "metadata": {
    "scrolled": true
   },
   "outputs": [
    {
     "name": "stdout",
     "output_type": "stream",
     "text": [
      "------------------------------------------------\n",
      "Матрица ошибок и неточностей:\n",
      "[[1545   61]\n",
      " [ 203  191]]\n",
      "F1-score лучшей модели на валидационной выборке: 0.5913312693498451\n",
      "AUC-ROC лучшей модели на валидационной выборке: 0.8531482511647313\n"
     ]
    },
    {
     "data": {
      "image/png": "[encoded data removed]",
      "text/plain": [
       "<Figure size 432x288 with 1 Axes>"
      ]
     },
     "metadata": {
      "needs_background": "light"
     },
     "output_type": "display_data"
    },
    {
     "name": "stdout",
     "output_type": "stream",
     "text": [
      "Recall лучшей модели на валидационной выборке: 0.4847715736040609\n",
      "Precision лучшей модели на валидационной выборке: 0.7579365079365079\n",
      "Глубина при наилучшем F1-score на валидационной выборке: 169\n"
     ]
    }
   ],
   "source": [
    "best_model_rfc_base = None\n",
    "best_n_estimators_rfc_base = 0\n",
    "best_result_recall_rfc_base = 0\n",
    "best_result_precision_rfc_base = 0\n",
    "best_result_f1_score_rfc_base = 0\n",
    "best_auc_roc_rfc_base = 0\n",
    "best_fpr_rfc_base = []\n",
    "best_tpr_rfc_base = []\n",
    "best_valid_rfc_base = []\n",
    "for est in range(1, 200):\n",
    "    model_rfc = RandomForestClassifier(random_state=654321, n_estimators=est)\n",
    "    model_rfc.fit(features_train, target_train)\n",
    "    reciewed_rfc_valid = model_rfc.predict(features_valid)\n",
    "    result_valid_recall = recall_score(target_valid, reciewed_rfc_valid)\n",
    "    result_valid_precision = precision_score(target_valid, reciewed_rfc_valid)\n",
    "    result_valid_f1_score = f1_score(target_valid, reciewed_rfc_valid)\n",
    "    # измерим AUC-ROC для модели\n",
    "    probabilities_valid = model_rfc.predict_proba(features_valid)\n",
    "    probabilities_one_valid = probabilities_valid[:, 1]\n",
    "    result_valid_auc_roc = roc_auc_score(target_valid, probabilities_one_valid)\n",
    "    fpr, tpr, thresholds = roc_curve(target_valid, probabilities_one_valid)\n",
    "    if result_valid_f1_score > best_result_f1_score_rfc_base:\n",
    "        best_model_rfc_base = model_rfc\n",
    "        best_valid_rfc_base = reciewed_rfc_valid\n",
    "        best_result_recall_rfc_base = result_valid_recall\n",
    "        best_result_precision_rfc_base = result_valid_precision\n",
    "        best_result_f1_score_rfc_base = result_valid_f1_score\n",
    "        best_n_estimators_rfc_base = est\n",
    "        best_auc_roc_rfc_base = result_valid_auc_roc\n",
    "        best_fpr_rfc_base = fpr\n",
    "        best_tpr_rfc_base = tpr\n",
    "        \n",
    "# посчитаем правильные ответы при тестировании на валидационной выборке\n",
    "print('------------------------------------------------')\n",
    "print('Матрица ошибок и неточностей:')\n",
    "print(confusion_matrix(target_valid, best_valid_rfc_base))\n",
    "print('F1-score лучшей модели на валидационной выборке:', best_result_f1_score_rfc_base)\n",
    "print('AUC-ROC лучшей модели на валидационной выборке:', best_auc_roc_rfc_base)\n",
    "pyplot.plot([0, 1], [0, 1], linestyle='--')\n",
    "pyplot.plot(best_fpr_rfc_base, best_tpr_rfc_base, marker='.')\n",
    "pyplot.show()\n",
    "print('Recall лучшей модели на валидационной выборке:', best_result_recall_rfc_base)\n",
    "print('Precision лучшей модели на валидационной выборке:', best_result_precision_rfc_base)\n",
    "print('Глубина при наилучшем F1-score на валидационной выборке:', best_n_estimators_rfc_base)"
   ]
  },
  {
   "cell_type": "markdown",
   "metadata": {},
   "source": [
    "Исследуя баланс и дисбаланс классов по модели на основе алгоритма RandomForestClassifier была построена модель без учета дисбаланса классов. По данной модели была построена матрица ошибок для наибольшего сбалансированного показателя F1-score. Приняли эксппертно, что модель тренируется с количеством деревьев до 200. Наибольшей оценкой агрегирующего показателя F1-score стало значение 0.59(среднее гармоническое полноты и точности) при количестве деревьев равному 169. В данном случае следует отметить, что прогнозирование по шкале Recall(полнота) хуже и составляет долю положительных среди всех ответов 0.48 - значение ближе к 0, т.е. модель необходимо перепроверить и уточнить, по шкале Precision(точность) точность стремится к 1 и этот параметр равен 0.75, т.е. отрицательных ответов меньше, чем положительных, но в то же время в комплексе эти показатели указывают на дисбаланс классификации. Значение F1-меры стремится к 1, но это значение соответствует целевому 0.59, т.е. баланс полноты и точности соблюден и модель можно тестировать на тестовой выборке. Матрица для количества деревьев 169 имеет следующие значения:\n",
    "\n",
    "- истинно отрицательных(TN) ответов 1545 - прогноз совпал с реальностью, большинство клиентов остаются в банке,\n",
    "- истинно положительных(TP) ответов 191 - прогноз совпал с реальностью, меньшинство клиентов уходит, но медленный их отток, не отрицаем,\n",
    "- ложноотрицательных(FN, ошибка 2 рода) ответов 203 - модель показала, что 203 клиентов не покинут банк, но они покинули банк и банк получил отток,\n",
    "- ложноположительных(FP, ошибка 1 рода) ответов 61 - модель предсказала, что будет отток, но в реальности эти клиенты не покинули банк.\n",
    "\n",
    "Количество правильных прогнозов составило 1736, количество ложных 264.\n",
    "\n",
    "AUC-ROC модели составил 0.85 и стремится к 1, классификация достаточно качественная, показатель F1-score на уровне целевого 0.59."
   ]
  },
  {
   "cell_type": "markdown",
   "metadata": {},
   "source": [
    "### Модель на основе алгоритма LogisticRegression без учета дисбаланса классов"
   ]
  },
  {
   "cell_type": "code",
   "execution_count": 151,
   "metadata": {
    "scrolled": true
   },
   "outputs": [
    {
     "name": "stdout",
     "output_type": "stream",
     "text": [
      "------------------------------------------------\n",
      "Матрица ошибок и неточностей:\n",
      "[[1526   80]\n",
      " [ 293  101]]\n",
      "F1-score лучшей модели на валидационной выборке: 0.351304347826087\n",
      "AUC-ROC лучшей модели на валидационной выборке: 0.8538775910133952\n"
     ]
    },
    {
     "data": {
      "image/png": "[encoded data removed]",
      "text/plain": [
       "<Figure size 432x288 with 1 Axes>"
      ]
     },
     "metadata": {
      "needs_background": "light"
     },
     "output_type": "display_data"
    },
    {
     "name": "stdout",
     "output_type": "stream",
     "text": [
      "Recall лучшей модели на валидационной выборке: 0.2563451776649746\n",
      "Precision лучшей модели на валидационной выборке: 0.5580110497237569\n"
     ]
    }
   ],
   "source": [
    "model_lr_base = LogisticRegression(random_state=654321)\n",
    "model_lr_base.fit(features_train, target_train)\n",
    "reciewed_lr_valid_lr_base = model_lr_base.predict(features_valid)\n",
    "result_valid_recall_lr_base = recall_score(target_valid, reciewed_lr_valid_lr_base)\n",
    "result_valid_precision_lr_base = precision_score(target_valid, reciewed_lr_valid_lr_base)\n",
    "result_valid_f1_score_lr_base = f1_score(target_valid, reciewed_lr_valid_lr_base)\n",
    "probabilities_valid_lr_base = model_lr_base.predict_proba(features_valid)\n",
    "probabilities_one_valid_lr_base = probabilities_valid[:, 1]\n",
    "result_valid_auc_roc_lr_base = roc_auc_score(target_valid, probabilities_one_valid_lr_base)\n",
    "fpr_lr_base, tpr_lr_base, thresholds_lr_base = roc_curve(target_valid, probabilities_one_valid_lr_base)\n",
    "        \n",
    "# посчитаем правильные ответы при тестировании на валидационной выборке\n",
    "print('------------------------------------------------')\n",
    "print('Матрица ошибок и неточностей:')\n",
    "print(confusion_matrix(target_valid, reciewed_lr_valid_lr_base))\n",
    "print('F1-score лучшей модели на валидационной выборке:', result_valid_f1_score_lr_base)\n",
    "print('AUC-ROC лучшей модели на валидационной выборке:', result_valid_auc_roc_lr_base)\n",
    "pyplot.plot([0, 1], [0, 1], linestyle='--')\n",
    "pyplot.plot(fpr_lr_base, tpr_lr_base, marker='.')\n",
    "pyplot.show()\n",
    "print('Recall лучшей модели на валидационной выборке:', result_valid_recall_lr_base)\n",
    "print('Precision лучшей модели на валидационной выборке:', result_valid_precision_lr_base)"
   ]
  },
  {
   "cell_type": "markdown",
   "metadata": {},
   "source": [
    "Исследуя баланс и дисбаланс классов по модели на основе алгоритма LogisticRegression была построена модель без учета дисбаланса классов. По данной модели была построена матрица ошибок для наибольшего сбалансированного показателя F1-score. Оценкой агрегирующего показателя F1-score стало значение 0.35(среднее гармоническое полноты и точности). В данном случае следует отметить, что прогнозирование по шкале Recall(полнота) хуже и составляет долю положительных среди всех ответов 0.26 - значение ближе к 0, т.е. модель необходимо перепроверить и уточнить, по шкале Precision(точность) точность стремится к 1 и этот параметр равен 0.56, т.е. отрицательных ответов меньше, чем положительных, но в то же время в комплексе эти показатели указывают на дисбаланс классификации. Значение F1-меры стремится к 0, значение очень далеко от цели в 0.59, т.е. баланс полноты и точности не  соблюден. Матрица имеет следующие значения:\n",
    "\n",
    "- истинно отрицательных(TN) ответов 1526 - прогноз совпал с реальностью, большинство клиентов остаются в банке,\n",
    "- истинно положительных(TP) ответов 101 - прогноз совпал с реальностью, меньшинство клиентов уходит, но медленный их отток, не отрицаем,\n",
    "- ложноотрицательных(FN, ошибка 2 рода) ответов 293 - модель показала, что 293 клиентов не покинут банк, но они покинули банк и банк получил отток,\n",
    "- ложноположительных(FP, ошибка 1 рода) ответов 80 - модель предсказала, что будет отток, но в реальности эти клиенты не покинули банк.\n",
    "\n",
    "Количество правильных прогнозов составило 1627, количество ложных 373.\n",
    "\n",
    "AUC-ROC модели составил 0.85 и стремится к 1, классификация достаточно качественная несмотря на то, что показатель F1-score на уровне 0.35, что значительно ниже целевого 0.59."
   ]
  },
  {
   "cell_type": "markdown",
   "metadata": {},
   "source": [
    "## Борьба с дисбалансом"
   ]
  },
  {
   "cell_type": "markdown",
   "metadata": {},
   "source": [
    "В рамках данного раздела создадим аналогичные прошлому разделу модели и решим следующие задачи при балансировании выборок:\n",
    "1. Сбалансируем модели путем добавления в свойства модели class_weight='balanced', путем увеличения и уменьшения выборок в рамках каждой из моделей,\n",
    "2. Исследуем показатели аналогичные прошлому разделу,\n",
    "3. Добавим AUC-ROC и сравним его с F1-мерой, построим график и выявим лучшую модель на валидационной выборке."
   ]
  },
  {
   "cell_type": "markdown",
   "metadata": {},
   "source": [
    "### Модель на основе алгоритма DecisionTreeClassifier"
   ]
  },
  {
   "cell_type": "markdown",
   "metadata": {},
   "source": [
    "####  Взвешивание классов"
   ]
  },
  {
   "cell_type": "code",
   "execution_count": 152,
   "metadata": {
    "scrolled": true
   },
   "outputs": [
    {
     "name": "stdout",
     "output_type": "stream",
     "text": [
      "------------------------------------------------\n",
      "Матрица ошибок и неточностей:\n",
      "[[1250  356]\n",
      " [ 106  288]]\n",
      "F1-score лучшей модели на валидационной выборке: 0.5549132947976879\n",
      "AUC-ROC лучшей модели на валидационной выборке: 0.8341846249154503\n"
     ]
    },
    {
     "data": {
      "image/png": "[encoded data removed]",
      "text/plain": [
       "<Figure size 432x288 with 1 Axes>"
      ]
     },
     "metadata": {
      "needs_background": "light"
     },
     "output_type": "display_data"
    },
    {
     "name": "stdout",
     "output_type": "stream",
     "text": [
      "Recall лучшей модели на валидационной выборке: 0.7309644670050761\n",
      "Precision лучшей модели на валидационной выборке: 0.4472049689440994\n",
      "Глубина при наилучшем F1-score на валидационной выборке: 5\n"
     ]
    }
   ],
   "source": [
    "best_model_dtc_balance = None\n",
    "best_depth_dtc_balance = 0\n",
    "best_result_recall_dtc_balance = 0\n",
    "best_result_precision_dtc_balance = 0\n",
    "best_result_f1_score_dtc_balance = 0\n",
    "best_auc_roc_dtc_balance = 0\n",
    "best_fpr_dtc_balance = []\n",
    "best_tpr_dtc_balance = []\n",
    "best_valid_dtc_balance = []\n",
    "for depth in range(1, 200):\n",
    "    model_dtc = DecisionTreeClassifier(random_state=654321, max_depth=depth, class_weight='balanced')\n",
    "    model_dtc.fit(features_train, target_train)\n",
    "    reciewed_dtc_valid = model_dtc.predict(features_valid)\n",
    "    result_valid_recall = recall_score(target_valid, reciewed_dtc_valid)\n",
    "    result_valid_precision = precision_score(target_valid, reciewed_dtc_valid)\n",
    "    result_valid_f1_score = f1_score(target_valid, reciewed_dtc_valid)\n",
    "    # измерим AUC-ROC для модели\n",
    "    probabilities_valid = model_dtc.predict_proba(features_valid)\n",
    "    probabilities_one_valid = probabilities_valid[:, 1]\n",
    "    result_valid_auc_roc = roc_auc_score(target_valid, probabilities_one_valid)\n",
    "    fpr, tpr, thresholds = roc_curve(target_valid, probabilities_one_valid)\n",
    "    if result_valid_f1_score > best_result_f1_score_dtc_balance:\n",
    "        best_model_dtc_balance = model_dtc\n",
    "        best_valid_dtc_balance = reciewed_dtc_valid\n",
    "        best_result_recall_dtc_balance = result_valid_recall\n",
    "        best_result_precision_dtc_balance = result_valid_precision\n",
    "        best_result_f1_score_dtc_balance = result_valid_f1_score\n",
    "        best_depth_dtc_balance = depth\n",
    "        best_auc_roc_dtc_balance = result_valid_auc_roc\n",
    "        best_fpr_dtc_balance = fpr\n",
    "        best_tpr_dtc_balance = tpr\n",
    "        \n",
    "# посчитаем правильные ответы при тестировании на валидационной выборке\n",
    "print('------------------------------------------------')\n",
    "print('Матрица ошибок и неточностей:')\n",
    "print(confusion_matrix(target_valid, best_valid_dtc_balance))\n",
    "print('F1-score лучшей модели на валидационной выборке:', best_result_f1_score_dtc_balance)\n",
    "print('AUC-ROC лучшей модели на валидационной выборке:', best_auc_roc_dtc_balance)\n",
    "pyplot.plot([0, 1], [0, 1], linestyle='--')\n",
    "pyplot.plot(best_fpr_dtc_balance, best_tpr_dtc_balance, marker='.')\n",
    "pyplot.show()\n",
    "print('Recall лучшей модели на валидационной выборке:', best_result_recall_dtc_balance)\n",
    "print('Precision лучшей модели на валидационной выборке:', best_result_precision_dtc_balance)\n",
    "print('Глубина при наилучшем F1-score на валидационной выборке:', best_depth_dtc_balance)"
   ]
  },
  {
   "cell_type": "markdown",
   "metadata": {},
   "source": [
    "Исследуя баланс и дисбаланс классов по модели на основе алгоритма DecisionTreeClassifier была построена модель с учетом баланса классов. По данной модели была построена матрица ошибок для наибольшего сбалансированного показателя F1-score. Приняли эксппертно, что модель тренируется с глубиной деревьев до 200. Наибольшей оценкой агрегирующего показателя F1-score стало значение 0.55(среднее гармоническое полноты и точности) при глубине дерева равной 5. В данном случае следует отметить, что прогнозирование по шкале Recall(полнота) теперь значение лучше и составляет долю положительных среди всех ответов 0.73 - значение ближе к 1, по шкале Precision(точность) точность стремится к 0 и этот параметр равен 0.45, т.е. отрицательных ответов больше, чем положительных, но в то же время в комплексе эти показатели указывают на дисбаланс классификации. Значение F1-меры стремится к 1, но это значение не дотягивает до цели в 0.59, т.е. баланс полноты и точности не до конца соблюден.\n",
    "Матрица для глубины 5 имеет следующие значения:\n",
    "- истинно отрицательных(TN) ответов 1250 - прогноз совпал с реальностью, большинство клиентов остаются в банке,\n",
    "- истинно положительных(TP) ответов 288 - прогнос совпал с реальностью, меньшинство клиентов уходит, но медленный их отток, не отрицаем,\n",
    "- ложноотрицательных(FN, ошибка 2 рода) ответов 106 - модель показала, что 106 клиента не покинут банк, но они покинули банк и банк получил отток,\n",
    "- ложноположительных(FP, ошибка 1 рода) ответов 356 - модель предсказала, что будет отток, но в реальности эти клиенты не покинули банк.\n",
    "\n",
    "Количество правильных прогнозов составило 1538, количество ложных 462.\n",
    "\n",
    "Данные модели практически неизменились относительно несбалансированной модели по критерию F1-score.\n",
    "\n",
    "AUC-ROC модели составил 0.83 и стремится к 1, классификация достаточно качественная несмотря на то, что показатель F1-score на уровне 0.55, что ниже целевого 0.59."
   ]
  },
  {
   "cell_type": "markdown",
   "metadata": {},
   "source": [
    "####  Увеличение выборки"
   ]
  },
  {
   "cell_type": "code",
   "execution_count": 153,
   "metadata": {
    "scrolled": false
   },
   "outputs": [
    {
     "data": {
      "text/plain": [
       "'Выборка после увеличения'"
      ]
     },
     "metadata": {},
     "output_type": "display_data"
    },
    {
     "data": {
      "text/plain": [
       "(9639, 11)"
      ]
     },
     "metadata": {},
     "output_type": "display_data"
    },
    {
     "data": {
      "text/plain": [
       "(9639,)"
      ]
     },
     "metadata": {},
     "output_type": "display_data"
    },
    {
     "data": {
      "text/plain": [
       "'Выборка до увеличения'"
      ]
     },
     "metadata": {},
     "output_type": "display_data"
    },
    {
     "data": {
      "text/plain": [
       "(6000, 11)"
      ]
     },
     "metadata": {},
     "output_type": "display_data"
    },
    {
     "data": {
      "text/plain": [
       "(6000,)"
      ]
     },
     "metadata": {},
     "output_type": "display_data"
    }
   ],
   "source": [
    "# напишем функцию увеличения выборки и на ее основе создадим новую модель и проверим показатели этой модели\n",
    "def upsample(features, target, repeat):\n",
    "    features_zeros = features[target == 0]\n",
    "    features_ones = features[target == 1]\n",
    "    target_zeros = target[target == 0]\n",
    "    target_ones = target[target == 1]\n",
    "\n",
    "    features_upsampled = pd.concat([features_zeros] + [features_ones] * repeat)\n",
    "    target_upsampled = pd.concat([target_zeros] + [target_ones] * repeat)\n",
    "\n",
    "    features_upsampled, target_upsampled = shuffle(features_upsampled, target_upsampled, random_state=654321)\n",
    "\n",
    "    return features_upsampled, target_upsampled\n",
    "\n",
    "features_upsampled, target_upsampled = upsample(features_train, target_train, 4)\n",
    "display('Выборка после увеличения')\n",
    "display(features_upsampled.shape)\n",
    "display(target_upsampled.shape)\n",
    "display('Выборка до увеличения')\n",
    "display(features_train.shape)\n",
    "display(target_train.shape)"
   ]
  },
  {
   "cell_type": "code",
   "execution_count": 154,
   "metadata": {
    "scrolled": true
   },
   "outputs": [
    {
     "name": "stdout",
     "output_type": "stream",
     "text": [
      "------------------------------------------------\n",
      "Матрица ошибок и неточностей:\n",
      "[[1242  364]\n",
      " [ 102  292]]\n",
      "F1-score лучшей модели на валидационной выборке: 0.5561904761904762\n",
      "AUC-ROC лучшей модели на валидационной выборке: 0.8079015241069338\n"
     ]
    },
    {
     "data": {
      "image/png": "[encoded data removed]",
      "text/plain": [
       "<Figure size 432x288 with 1 Axes>"
      ]
     },
     "metadata": {
      "needs_background": "light"
     },
     "output_type": "display_data"
    },
    {
     "name": "stdout",
     "output_type": "stream",
     "text": [
      "Recall лучшей модели на валидационной выборке: 0.7411167512690355\n",
      "Precision лучшей модели на валидационной выборке: 0.4451219512195122\n",
      "Глубина при наилучшем F1-score на валидационной выборке: 8\n"
     ]
    }
   ],
   "source": [
    "# оптимизация модели на увеличенной выборке\n",
    "best_model_dtc_up = None\n",
    "best_depth_dtc_up = 0\n",
    "best_result_recall_dtc_up = 0\n",
    "best_result_precision_dtc_up = 0\n",
    "best_result_f1_score_dtc_up = 0\n",
    "best_auc_roc_dtc_up = 0\n",
    "best_fpr_dtc_up = []\n",
    "best_tpr_dtc_up = []\n",
    "best_valid_dtc_up = []\n",
    "for depth in range(1, 200):\n",
    "    model_dtc = DecisionTreeClassifier(random_state=654321, max_depth=depth)\n",
    "    model_dtc.fit(features_upsampled, target_upsampled)\n",
    "    reciewed_dtc_valid = model_dtc.predict(features_valid)\n",
    "    result_valid_recall = recall_score(target_valid, reciewed_dtc_valid)\n",
    "    result_valid_precision = precision_score(target_valid, reciewed_dtc_valid)\n",
    "    result_valid_f1_score = f1_score(target_valid, reciewed_dtc_valid)\n",
    "    # измерим AUC-ROC для модели\n",
    "    probabilities_valid = model_dtc.predict_proba(features_valid)\n",
    "    probabilities_one_valid = probabilities_valid[:, 1]\n",
    "    result_valid_auc_roc = roc_auc_score(target_valid, probabilities_one_valid)\n",
    "    fpr, tpr, thresholds = roc_curve(target_valid, probabilities_one_valid)\n",
    "    if result_valid_f1_score > best_result_f1_score_dtc_up:\n",
    "        best_model_dtc_up = model_dtc\n",
    "        best_valid_dtc_up = reciewed_dtc_valid\n",
    "        best_result_recall_dtc_up = result_valid_recall\n",
    "        best_result_precision_dtc_up = result_valid_precision\n",
    "        best_result_f1_score_dtc_up = result_valid_f1_score\n",
    "        best_depth_dtc_up = depth\n",
    "        best_auc_roc_dtc_up = result_valid_auc_roc\n",
    "        best_fpr_dtc_up = fpr\n",
    "        best_tpr_dtc_up = tpr\n",
    "        \n",
    "# посчитаем правильные ответы при тестировании на валидационной выборке\n",
    "print('------------------------------------------------')\n",
    "print('Матрица ошибок и неточностей:')\n",
    "print(confusion_matrix(target_valid, best_valid_dtc_up))\n",
    "print('F1-score лучшей модели на валидационной выборке:', best_result_f1_score_dtc_up)\n",
    "print('AUC-ROC лучшей модели на валидационной выборке:', best_auc_roc_dtc_up)\n",
    "pyplot.plot([0, 1], [0, 1], linestyle='--')\n",
    "pyplot.plot(best_fpr_dtc_up, best_tpr_dtc_up, marker='.')\n",
    "pyplot.show()\n",
    "print('Recall лучшей модели на валидационной выборке:', best_result_recall_dtc_up)\n",
    "print('Precision лучшей модели на валидационной выборке:', best_result_precision_dtc_up)\n",
    "print('Глубина при наилучшем F1-score на валидационной выборке:', best_depth_dtc_up)"
   ]
  },
  {
   "cell_type": "markdown",
   "metadata": {},
   "source": [
    "Исследуя баланс и дисбаланс классов по модели на основе алгоритма DecisionTreeClassifier была построена модель с учетом увеличения выборки в 4 раза. По данной модели была построена матрица ошибок для наибольшего сбалансированного показателя F1-score. Приняли экспертно, что модель тренируется с глубиной деревьев до 200. Наибольшей оценкой агрегирующего показателя F1-score стало значение 0.56(среднее гармоническое полноты и точности) при глубине дерева равной 8. В данном случае следует отметить, что прогнозирование по шкале Recall(полнота) теперь значение лучше и составляет долю положительных среди всех ответов 0.74 - значение ближе к 1, по шкале Precision(точность) точность стремится к 0 и этот параметр равен 0.44, т.е. отрицательных ответов больше, чем положительных, но в то же время в комплексе эти показатели указывают на дисбаланс классификации. Значение F1-меры стремится к 1, но это значение не дотягивает до цели в 0.59, т.е. баланс полноты и точности не до конца соблюден.\n",
    "Матрица для глубины 8 имеет следующие значения:\n",
    "- истинно отрицательных(TN) ответов 1242 - прогноз совпал с реальностью, большинство клиентов остаются в банке,\n",
    "- истинно положительных(TP) ответов 292 - прогнос совпал с реальностью, меньшинство клиентов уходит, но медленный их отток, не отрицаем,\n",
    "- ложноотрицательных(FN, ошибка 2 рода) ответов 102 - модель показала, что 102 клиента не покинут банк, но они покинули банк и банк получил отток,\n",
    "- ложноположительных(FP, ошибка 1 рода) ответов 364 - модель предсказала, что будет отток, но в реальности эти клиенты не покинули банк.\n",
    "\n",
    "Количество правильных прогнозов составило 1534, количество ложных 466.\n",
    "\n",
    "Данные модели практически неизменились относительно несбалансированной модели по критерию F1-score.\n",
    "\n",
    "AUC-ROC модели составил 0.81 и стремится к 1, классификация достаточно качественная несмотря на то, что показатель F1-score на уровне 0.56, что ниже целевого 0.59."
   ]
  },
  {
   "cell_type": "markdown",
   "metadata": {},
   "source": [
    "####  Уменьшение выборки"
   ]
  },
  {
   "cell_type": "code",
   "execution_count": 155,
   "metadata": {},
   "outputs": [
    {
     "data": {
      "text/plain": [
       "'Выборка после уменьшения'"
      ]
     },
     "metadata": {},
     "output_type": "display_data"
    },
    {
     "data": {
      "text/plain": [
       "(3128, 11)"
      ]
     },
     "metadata": {},
     "output_type": "display_data"
    },
    {
     "data": {
      "text/plain": [
       "(3128,)"
      ]
     },
     "metadata": {},
     "output_type": "display_data"
    },
    {
     "data": {
      "text/plain": [
       "'Выборка до уменьшения'"
      ]
     },
     "metadata": {},
     "output_type": "display_data"
    },
    {
     "data": {
      "text/plain": [
       "(6000, 11)"
      ]
     },
     "metadata": {},
     "output_type": "display_data"
    },
    {
     "data": {
      "text/plain": [
       "(6000,)"
      ]
     },
     "metadata": {},
     "output_type": "display_data"
    }
   ],
   "source": [
    "# построим модели путем уменьшения выборок\n",
    "def downsample(features, target, fraction):\n",
    "    features_zeros = features[target == 0]\n",
    "    features_ones = features[target == 1]\n",
    "    target_zeros = target[target == 0]\n",
    "    target_ones = target[target == 1]\n",
    "\n",
    "    features_downsampled = pd.concat([features_zeros.sample(frac=fraction, random_state=654321)] + [features_ones])\n",
    "    target_downsampled = pd.concat([target_zeros.sample(frac=fraction, random_state=654321)] + [target_ones])\n",
    "    \n",
    "    features_downsampled, target_downsampled = shuffle(features_downsampled, target_downsampled, random_state=654321)\n",
    "    \n",
    "    return features_downsampled, target_downsampled\n",
    "\n",
    "features_downsampled, target_downsampled = downsample(features_train, target_train, 0.4)\n",
    "display('Выборка после уменьшения')\n",
    "display(features_downsampled.shape)\n",
    "display(target_downsampled.shape)\n",
    "display('Выборка до уменьшения')\n",
    "display(features_train.shape)\n",
    "display(target_train.shape)"
   ]
  },
  {
   "cell_type": "code",
   "execution_count": 156,
   "metadata": {
    "scrolled": true
   },
   "outputs": [
    {
     "name": "stdout",
     "output_type": "stream",
     "text": [
      "------------------------------------------------\n",
      "Матрица ошибок и неточностей:\n",
      "[[1333  273]\n",
      " [ 131  263]]\n",
      "F1-score лучшей модели на валидационной выборке: 0.5655913978494623\n",
      "AUC-ROC лучшей модели на валидационной выборке: 0.8029431193936445\n"
     ]
    },
    {
     "data": {
      "image/png": "[encoded data removed]",
      "text/plain": [
       "<Figure size 432x288 with 1 Axes>"
      ]
     },
     "metadata": {
      "needs_background": "light"
     },
     "output_type": "display_data"
    },
    {
     "name": "stdout",
     "output_type": "stream",
     "text": [
      "Recall лучшей модели на валидационной выборке: 0.6675126903553299\n",
      "Precision лучшей модели на валидационной выборке: 0.4906716417910448\n",
      "Глубина при наилучшем F1-score на валидационной выборке: 8\n"
     ]
    }
   ],
   "source": [
    "# оптимизация модели на уменьшенной выборке\n",
    "best_model_dtc_down = None\n",
    "best_depth_dtc_down = 0\n",
    "best_result_recall_dtc_down = 0\n",
    "best_result_precision_dtc_down = 0\n",
    "best_result_f1_score_dtc_down = 0\n",
    "best_auc_roc_dtc_down = 0\n",
    "best_fpr_dtc_down = []\n",
    "best_tpr_dtc_down = []\n",
    "best_valid_dtc_down = []\n",
    "for depth in range(1, 200):\n",
    "    model_dtc = DecisionTreeClassifier(random_state=654321, max_depth=depth)\n",
    "    model_dtc.fit(features_downsampled, target_downsampled)\n",
    "    reciewed_dtc_valid = model_dtc.predict(features_valid)\n",
    "    result_valid_recall = recall_score(target_valid, reciewed_dtc_valid)\n",
    "    result_valid_precision = precision_score(target_valid, reciewed_dtc_valid)\n",
    "    result_valid_f1_score = f1_score(target_valid, reciewed_dtc_valid)\n",
    "    # измерим AUC-ROC для модели\n",
    "    probabilities_valid = model_dtc.predict_proba(features_valid)\n",
    "    probabilities_one_valid = probabilities_valid[:, 1]\n",
    "    result_valid_auc_roc = roc_auc_score(target_valid, probabilities_one_valid)\n",
    "    fpr, tpr, thresholds = roc_curve(target_valid, probabilities_one_valid)\n",
    "    if result_valid_f1_score > best_result_f1_score_dtc_down:\n",
    "        best_model_dtc_down = model_dtc\n",
    "        best_valid_dtc_down = reciewed_dtc_valid\n",
    "        best_result_recall_dtc_down = result_valid_recall\n",
    "        best_result_precision_dtc_down = result_valid_precision\n",
    "        best_result_f1_score_dtc_down = result_valid_f1_score\n",
    "        best_depth_dtc_down = depth\n",
    "        best_auc_roc_dtc_down = result_valid_auc_roc\n",
    "        best_fpr_dtc_down = fpr\n",
    "        best_tpr_dtc_down = tpr\n",
    "        \n",
    "# посчитаем правильные ответы при тестировании на валидационной выборке\n",
    "print('------------------------------------------------')\n",
    "print('Матрица ошибок и неточностей:')\n",
    "print(confusion_matrix(target_valid, best_valid_dtc_down))\n",
    "print('F1-score лучшей модели на валидационной выборке:', best_result_f1_score_dtc_down)\n",
    "print('AUC-ROC лучшей модели на валидационной выборке:', best_auc_roc_dtc_down)\n",
    "pyplot.plot([0, 1], [0, 1], linestyle='--')\n",
    "pyplot.plot(best_fpr_dtc_down, best_tpr_dtc_down, marker='.')\n",
    "pyplot.show()\n",
    "print('Recall лучшей модели на валидационной выборке:', best_result_recall_dtc_down)\n",
    "print('Precision лучшей модели на валидационной выборке:', best_result_precision_dtc_down)\n",
    "print('Глубина при наилучшем F1-score на валидационной выборке:', best_depth_dtc_down)"
   ]
  },
  {
   "cell_type": "markdown",
   "metadata": {},
   "source": [
    "Исследуя баланс и дисбаланс классов по модели на основе алгоритма DecisionTreeClassifier была построена модель с учетом уменьшения выборки до доли от исходной 0.4. По данной модели была построена матрица ошибок для наибольшего сбалансированного показателя F1-score. Приняли экспертно, что модель тренируется с глубиной деревьев до 200. Наибольшей оценкой агрегирующего показателя F1-score стало значение 0.57(среднее гармоническое полноты и точности) при глубине дерева равной 8. В данном случае следует отметить, что прогнозирование по шкале Recall(полнота) теперь значение хуже, чем в увеличенной выборке и составляет долю положительных среди всех ответов 0.67 - значение ближе к 1, по шкале Precision(точность) точность стремится к 0 и этот параметр равен 0.49, т.е. отрицательных ответов больше, чем положительных, но в то же время в комплексе эти показатели указывают на дисбаланс классификации. Значение F1-меры стремится к 1, но это значение не дотягивает до цели в 0.59, т.е. баланс полноты и точности не до конца соблюден.\n",
    "Матрица для глубины 8 имеет следующие значения:\n",
    "- истинно отрицательных(TN) ответов 1333 - прогноз совпал с реальностью, большинство клиентов остаются в банке,\n",
    "- истинно положительных(TP) ответов 263 - прогнос совпал с реальностью, меньшинство клиентов уходит, но медленный их отток, не отрицаем,\n",
    "- ложноотрицательных(FN, ошибка 2 рода) ответов 131 - модель показала, что 131 клиента не покинут банк, но они покинули банк и банк получил отток,\n",
    "- ложноположительных(FP, ошибка 1 рода) ответов 273 - модель предсказала, что будет отток, но в реальности эти клиенты не покинули банк.\n",
    "\n",
    "Количество правильных прогнозов составило 1596, количество ложных 404.\n",
    "\n",
    "Данные модели практически неизменились относительно несбалансированной модели по критерию F1-score.\n",
    "\n",
    "AUC-ROC модели составил 0.80 и стремится к 1, классификация достаточно качественная несмотря на то, что показатель F1-score на уровне 0.57, что ниже целевого 0.59."
   ]
  },
  {
   "cell_type": "markdown",
   "metadata": {},
   "source": [
    "### Модель на основе алгоритма RandomForestClassifier"
   ]
  },
  {
   "cell_type": "markdown",
   "metadata": {},
   "source": [
    "#### Взвешивание классов"
   ]
  },
  {
   "cell_type": "code",
   "execution_count": 157,
   "metadata": {
    "scrolled": true
   },
   "outputs": [
    {
     "name": "stdout",
     "output_type": "stream",
     "text": [
      "------------------------------------------------\n",
      "Матрица ошибок и неточностей:\n",
      "[[1548   58]\n",
      " [ 216  178]]\n",
      "F1-score лучшей модели на валидационной выборке: 0.5650793650793652\n",
      "AUC-ROC лучшей модели на валидационной выборке: 0.8517472549007212\n"
     ]
    },
    {
     "data": {
      "image/png": "[encoded data removed]",
      "text/plain": [
       "<Figure size 432x288 with 1 Axes>"
      ]
     },
     "metadata": {
      "needs_background": "light"
     },
     "output_type": "display_data"
    },
    {
     "name": "stdout",
     "output_type": "stream",
     "text": [
      "Recall лучшей модели на валидационной выборке: 0.4517766497461929\n",
      "Precision лучшей модели на валидационной выборке: 0.7542372881355932\n",
      "Глубина при наилучшем F1-score на валидационной выборке: 179\n"
     ]
    }
   ],
   "source": [
    "best_model_rfc_balance = None\n",
    "best_n_estimators_rfc_balance = 0\n",
    "best_result_recall_rfc_balance = 0\n",
    "best_result_precision_rfc_balance = 0\n",
    "best_result_f1_score_rfc_balance = 0\n",
    "best_auc_roc_rfc_balance = 0\n",
    "best_fpr_rfc_balance = []\n",
    "best_tpr_rfc_balance = []\n",
    "best_valid_rfc_balance = []\n",
    "for est in range(1, 200):\n",
    "    model_rfc = RandomForestClassifier(random_state=654321, n_estimators=est, class_weight='balanced')\n",
    "    model_rfc.fit(features_train, target_train)\n",
    "    reciewed_rfc_valid = model_rfc.predict(features_valid)\n",
    "    result_valid_recall = recall_score(target_valid, reciewed_rfc_valid)\n",
    "    result_valid_precision = precision_score(target_valid, reciewed_rfc_valid)\n",
    "    result_valid_f1_score = f1_score(target_valid, reciewed_rfc_valid)\n",
    "    # измерим AUC-ROC для модели\n",
    "    probabilities_valid = model_rfc.predict_proba(features_valid)\n",
    "    probabilities_one_valid = probabilities_valid[:, 1]\n",
    "    result_valid_auc_roc = roc_auc_score(target_valid, probabilities_one_valid)\n",
    "    fpr, tpr, thresholds = roc_curve(target_valid, probabilities_one_valid)\n",
    "    if result_valid_f1_score > best_result_f1_score_rfc_balance:\n",
    "        best_model_rfc_balance = model_rfc\n",
    "        best_valid_rfc_balance = reciewed_rfc_valid\n",
    "        best_result_recall_rfc_balance = result_valid_recall\n",
    "        best_result_precision_rfc_balance = result_valid_precision\n",
    "        best_result_f1_score_rfc_balance = result_valid_f1_score\n",
    "        best_n_estimators_rfc_balance = est\n",
    "        best_auc_roc_rfc_balance = result_valid_auc_roc\n",
    "        best_fpr_rfc_balance = fpr\n",
    "        best_tpr_rfc_balance = tpr\n",
    "        \n",
    "# посчитаем правильные ответы при тестировании на валидационной выборке\n",
    "print('------------------------------------------------')\n",
    "print('Матрица ошибок и неточностей:')\n",
    "print(confusion_matrix(target_valid, best_valid_rfc_balance))\n",
    "print('F1-score лучшей модели на валидационной выборке:', best_result_f1_score_rfc_balance)\n",
    "print('AUC-ROC лучшей модели на валидационной выборке:', best_auc_roc_rfc_balance)\n",
    "pyplot.plot([0, 1], [0, 1], linestyle='--')\n",
    "pyplot.plot(best_fpr_rfc_balance, best_tpr_rfc_balance, marker='.')\n",
    "pyplot.show()\n",
    "print('Recall лучшей модели на валидационной выборке:', best_result_recall_rfc_balance)\n",
    "print('Precision лучшей модели на валидационной выборке:', best_result_precision_rfc_balance)\n",
    "print('Глубина при наилучшем F1-score на валидационной выборке:', best_n_estimators_rfc_balance)"
   ]
  },
  {
   "cell_type": "markdown",
   "metadata": {},
   "source": [
    "Исследуя баланс и дисбаланс классов по модели на основе алгоритма RandomForestClassifier была построена модель c учетом баланса классов. По данной модели была построена матрица ошибок для наибольшего сбалансированного показателя F1-score. Приняли экспертно, что модель тренируется с количеством деревьев до 200. Наибольшей оценкой агрегирующего показателя F1-score стало значение 0.56(среднее гармоническое полноты и точности) при количестве деревьев равному 179. В данном случае следует отметить, что прогнозирование по шкале Recall(полнота) хуже и составляет долю положительных среди всех ответов 0.45 - значение ближе к 0, т.е. модель необходимо перепроверить и уточнить, по шкале Precision(точность) точность стремится к 1 и этот параметр равен 0.75, т.е. отрицательных ответов меньше, чем положительных, но в то же время в комплексе эти показатели указывают на дисбаланс классификации. Значение F1-меры стремится к 1, но это значение не дотягивает до цели в 0.59, т.е. баланс полноты и точности не до конца соблюден. Матрица для количества деревьев 179 имеет следующие значения:\n",
    "\n",
    "- истинно отрицательных(TN) ответов 1548 - прогноз совпал с реальностью, большинство клиентов остаются в банке,\n",
    "- истинно положительных(TP) ответов 178 - прогноз совпал с реальностью, меньшинство клиентов уходит, но медленный их отток, не отрицаем,\n",
    "- ложноотрицательных(FN, ошибка 2 рода) ответов 216 - модель показала, что 216 клиентов не покинут банк, но они покинули банк и банк получил отток,\n",
    "- ложноположительных(FP, ошибка 1 рода) ответов 58 - модель предсказала, что будет отток, но в реальности эти клиенты не покинули банк.\n",
    "\n",
    "Количество правильных прогнозов составило 1726, количество ложных 274.\n",
    "\n",
    "Данные модели практически ухудшились относительно несбалансированной модели по критерию F1-score.\n",
    "\n",
    "AUC-ROC модели составил 0.85 и стремится к 1, классификация достаточно качественная несмотря на то, что показатель F1-score на уровне 0.56, что ниже целевого 0.59."
   ]
  },
  {
   "cell_type": "markdown",
   "metadata": {},
   "source": [
    "#### Увеличение выборки"
   ]
  },
  {
   "cell_type": "code",
   "execution_count": 158,
   "metadata": {
    "scrolled": true
   },
   "outputs": [
    {
     "name": "stdout",
     "output_type": "stream",
     "text": [
      "------------------------------------------------\n",
      "Матрица ошибок и неточностей:\n",
      "[[1467  139]\n",
      " [ 168  226]]\n",
      "F1-score лучшей модели на валидационной выборке: 0.5955204216073782\n",
      "AUC-ROC лучшей модели на валидационной выборке: 0.8434977337522362\n"
     ]
    },
    {
     "data": {
      "image/png": "[encoded data removed]",
      "text/plain": [
       "<Figure size 432x288 with 1 Axes>"
      ]
     },
     "metadata": {
      "needs_background": "light"
     },
     "output_type": "display_data"
    },
    {
     "name": "stdout",
     "output_type": "stream",
     "text": [
      "Recall лучшей модели на валидационной выборке: 0.5736040609137056\n",
      "Precision лучшей модели на валидационной выборке: 0.6191780821917808\n",
      "Глубина при наилучшем F1-score на валидационной выборке: 31\n"
     ]
    }
   ],
   "source": [
    "# оптимизация модели на увеличенной выборке\n",
    "best_model_rfc_up = None\n",
    "best_n_estimators_rfc_up = 0\n",
    "best_result_recall_rfc_up = 0\n",
    "best_result_precision_rfc_up = 0\n",
    "best_result_f1_score_rfc_up = 0\n",
    "best_auc_roc_rfc_up = 0\n",
    "best_fpr_rfc_up = []\n",
    "best_tpr_rfc_up = []\n",
    "best_valid_rfc_up = []\n",
    "for est in range(1, 200):\n",
    "    model_rfc = RandomForestClassifier(random_state=654321, n_estimators=est)\n",
    "    model_rfc.fit(features_upsampled, target_upsampled)\n",
    "    reciewed_rfc_valid = model_rfc.predict(features_valid)\n",
    "    result_valid_recall = recall_score(target_valid, reciewed_rfc_valid)\n",
    "    result_valid_precision = precision_score(target_valid, reciewed_rfc_valid)\n",
    "    result_valid_f1_score = f1_score(target_valid, reciewed_rfc_valid)\n",
    "    # измерим AUC-ROC для модели\n",
    "    probabilities_valid = model_rfc.predict_proba(features_valid)\n",
    "    probabilities_one_valid = probabilities_valid[:, 1]\n",
    "    result_valid_auc_roc = roc_auc_score(target_valid, probabilities_one_valid)\n",
    "    fpr, tpr, thresholds = roc_curve(target_valid, probabilities_one_valid)\n",
    "    if result_valid_f1_score > best_result_f1_score_rfc_up:\n",
    "        best_model_rfc_up = model_rfc\n",
    "        best_valid_rfc_up = reciewed_rfc_valid\n",
    "        best_result_recall_rfc_up = result_valid_recall\n",
    "        best_result_precision_rfc_up = result_valid_precision\n",
    "        best_result_f1_score_rfc_up = result_valid_f1_score\n",
    "        best_n_estimators_rfc_up = est\n",
    "        best_auc_roc_rfc_up = result_valid_auc_roc\n",
    "        best_fpr_rfc_up = fpr\n",
    "        best_tpr_rfc_up = tpr\n",
    "        \n",
    "# посчитаем правильные ответы при тестировании на валидационной выборке\n",
    "print('------------------------------------------------')\n",
    "print('Матрица ошибок и неточностей:')\n",
    "print(confusion_matrix(target_valid, best_valid_rfc_up))\n",
    "print('F1-score лучшей модели на валидационной выборке:', best_result_f1_score_rfc_up)\n",
    "print('AUC-ROC лучшей модели на валидационной выборке:', best_auc_roc_rfc_up)\n",
    "pyplot.plot([0, 1], [0, 1], linestyle='--')\n",
    "pyplot.plot(best_fpr_rfc_up, best_tpr_rfc_up, marker='.')\n",
    "pyplot.show()\n",
    "print('Recall лучшей модели на валидационной выборке:', best_result_recall_rfc_up)\n",
    "print('Precision лучшей модели на валидационной выборке:', best_result_precision_rfc_up)\n",
    "print('Глубина при наилучшем F1-score на валидационной выборке:', best_n_estimators_rfc_up)"
   ]
  },
  {
   "cell_type": "markdown",
   "metadata": {},
   "source": [
    "Исследуя баланс и дисбаланс классов по модели на основе алгоритма RandomForestClassifier была построена модель c учетом увеличенной в 4 раза выборке. По данной модели была построена матрица ошибок для наибольшего сбалансированного показателя F1-score. Приняли экспертно, что модель тренируется с количеством деревьев до 200. Наибольшей оценкой агрегирующего показателя F1-score стало значение 0.59(среднее гармоническое полноты и точности) при количестве деревьев равному 31. В данном случае следует отметить, что прогнозирование по шкале Recall(полнота) хуже и составляет долю положительных среди всех ответов 0.57 - значение ближе к 1, т.е. модель необходимо перепроверить и уточнить, по шкале Precision(точность) точность стремится к 1 и этот параметр равен 0.62, т.е. отрицательных ответов меньше, чем положительных, но в то же время в комплексе эти показатели указывают на дисбаланс классификации. Значение F1-меры стремится к 1, это соответствует цели в 0.59, т.е. баланс полноты и точности соблюден. Матрица для количества деревьев 31 имеет следующие значения:\n",
    "\n",
    "- истинно отрицательных(TN) ответов 1467 - прогноз совпал с реальностью, большинство клиентов остаются в банке,\n",
    "- истинно положительных(TP) ответов 226 - прогноз совпал с реальностью, меньшинство клиентов уходит, но медленный их отток, не отрицаем,\n",
    "- ложноотрицательных(FN, ошибка 2 рода) ответов 168 - модель показала, что 168 клиентов не покинут банк, но они покинули банк и банк получил отток,\n",
    "- ложноположительных(FP, ошибка 1 рода) ответов 139 - модель предсказала, что будет отток, но в реальности эти клиенты не покинули банк.\n",
    "\n",
    "Количество правильных прогнозов составило 1693, количество ложных 307.\n",
    "\n",
    "Данные модели практически неизменились относительно несбалансированной модели по критерию F1-score.\n",
    "\n",
    "AUC-ROC модели составил 0.84 и стремится к 1, классификация достаточно качественная, что показатель F1-score на уровне целевого 0.59."
   ]
  },
  {
   "cell_type": "markdown",
   "metadata": {},
   "source": [
    "#### Уменьшение выборки"
   ]
  },
  {
   "cell_type": "code",
   "execution_count": 159,
   "metadata": {
    "scrolled": true
   },
   "outputs": [
    {
     "name": "stdout",
     "output_type": "stream",
     "text": [
      "------------------------------------------------\n",
      "Матрица ошибок и неточностей:\n",
      "[[1397  209]\n",
      " [ 142  252]]\n",
      "F1-score лучшей модели на валидационной выборке: 0.5894736842105263\n",
      "AUC-ROC лучшей модели на валидационной выборке: 0.847316693111492\n"
     ]
    },
    {
     "data": {
      "image/png": "[encoded data removed]",
      "text/plain": [
       "<Figure size 432x288 with 1 Axes>"
      ]
     },
     "metadata": {
      "needs_background": "light"
     },
     "output_type": "display_data"
    },
    {
     "name": "stdout",
     "output_type": "stream",
     "text": [
      "Recall лучшей модели на валидационной выборке: 0.6395939086294417\n",
      "Precision лучшей модели на валидационной выборке: 0.5466377440347071\n",
      "Глубина при наилучшем F1-score на валидационной выборке: 88\n"
     ]
    }
   ],
   "source": [
    "# оптимизация модели на уменьшенной выборке\n",
    "best_model_rfc_down = None\n",
    "best_n_estimators_rfc_down = 0\n",
    "best_result_recall_rfc_down = 0\n",
    "best_result_precision_rfc_down = 0\n",
    "best_result_f1_score_rfc_down = 0\n",
    "best_auc_roc_rfc_down = 0\n",
    "best_fpr_rfc_down = []\n",
    "best_tpr_rfc_down = []\n",
    "best_valid_rfc_down = []\n",
    "for est in range(1, 200):\n",
    "    model_rfc = RandomForestClassifier(random_state=654321, n_estimators=est)\n",
    "    model_rfc.fit(features_downsampled, target_downsampled)\n",
    "    reciewed_rfc_valid = model_rfc.predict(features_valid)\n",
    "    result_valid_recall = recall_score(target_valid, reciewed_rfc_valid)\n",
    "    result_valid_precision = precision_score(target_valid, reciewed_rfc_valid)\n",
    "    result_valid_f1_score = f1_score(target_valid, reciewed_rfc_valid)\n",
    "    # измерим AUC-ROC для модели\n",
    "    probabilities_valid = model_rfc.predict_proba(features_valid)\n",
    "    probabilities_one_valid = probabilities_valid[:, 1]\n",
    "    result_valid_auc_roc = roc_auc_score(target_valid, probabilities_one_valid)\n",
    "    fpr, tpr, thresholds = roc_curve(target_valid, probabilities_one_valid)\n",
    "    if result_valid_f1_score > best_result_f1_score_rfc_down:\n",
    "        best_model_rfc_down = model_rfc\n",
    "        best_valid_rfc_down = reciewed_rfc_valid\n",
    "        best_result_recall_rfc_down = result_valid_recall\n",
    "        best_result_precision_rfc_down = result_valid_precision\n",
    "        best_result_f1_score_rfc_down = result_valid_f1_score\n",
    "        best_n_estimators_rfc_down = est\n",
    "        best_auc_roc_rfc_down = result_valid_auc_roc\n",
    "        best_fpr_rfc_down = fpr\n",
    "        best_tpr_rfc_down = tpr\n",
    "        \n",
    "# посчитаем правильные ответы при тестировании на валидационной выборке\n",
    "print('------------------------------------------------')\n",
    "print('Матрица ошибок и неточностей:')\n",
    "print(confusion_matrix(target_valid, best_valid_rfc_down))\n",
    "print('F1-score лучшей модели на валидационной выборке:', best_result_f1_score_rfc_down)\n",
    "print('AUC-ROC лучшей модели на валидационной выборке:', best_auc_roc_rfc_down)\n",
    "pyplot.plot([0, 1], [0, 1], linestyle='--')\n",
    "pyplot.plot(best_fpr_rfc_down, best_tpr_rfc_down, marker='.')\n",
    "pyplot.show()\n",
    "print('Recall лучшей модели на валидационной выборке:', best_result_recall_rfc_down)\n",
    "print('Precision лучшей модели на валидационной выборке:', best_result_precision_rfc_down)\n",
    "print('Глубина при наилучшем F1-score на валидационной выборке:', best_n_estimators_rfc_down)"
   ]
  },
  {
   "cell_type": "markdown",
   "metadata": {},
   "source": [
    "Исследуя баланс и дисбаланс классов по модели на основе алгоритма RandomForestClassifier была построена модель c учетом увеличенной в 4 раза выборки. По данной модели была построена матрица ошибок для наибольшего сбалансированного показателя F1-score. Приняли экспертно, что модель тренируется с количеством деревьев до 200. Наибольшей оценкой агрегирующего показателя F1-score стало значение 0.59(среднее гармоническое полноты и точности) при количестве деревьев равному 88. В данном случае следует отметить, что прогнозирование по шкале Recall(полнота) хуже и составляет долю положительных среди всех ответов 0.64 - значение ближе к 1, по шкале Precision(точность) точность стремится к 1 и этот параметр равен 0.55, т.е. отрицательных ответов меньше, чем положительных. Значение F1-меры стремится к 1, значение соответствует целевому 0.59, т.е. баланс полноты и точности практически соблюден. Матрица для количества деревьев 88 имеет следующие значения:\n",
    "\n",
    "- истинно отрицательных(TN) ответов 1397 - прогноз совпал с реальностью, большинство клиентов остаются в банке,\n",
    "- истинно положительных(TP) ответов 252 - прогноз совпал с реальностью, меньшинство клиентов уходит, но медленный их отток, не отрицаем,\n",
    "- ложноотрицательных(FN, ошибка 2 рода) ответов 142 - модель показала, что 142 клиентов не покинут банк, но они покинули банк и банк получил отток,\n",
    "- ложноположительных(FP, ошибка 1 рода) ответов 209 - модель предсказала, что будет отток, но в реальности эти клиенты не покинули банк.\n",
    "\n",
    "Количество правильных прогнозов составило 1649, количество ложных 351.\n",
    "\n",
    "Данные модели практически неизменились относительно несбалансированной модели по критерию F1-score.\n",
    "\n",
    "AUC-ROC модели составил 0.85 и стремится к 1, классификация достаточно качественная несмотря на то, что показатель F1-score практически на уровне 0.59."
   ]
  },
  {
   "cell_type": "markdown",
   "metadata": {},
   "source": [
    "### Модель на основе алгоритма LogisticRegression"
   ]
  },
  {
   "cell_type": "markdown",
   "metadata": {},
   "source": [
    "#### Взвешивание классов"
   ]
  },
  {
   "cell_type": "code",
   "execution_count": 160,
   "metadata": {
    "scrolled": true
   },
   "outputs": [
    {
     "name": "stdout",
     "output_type": "stream",
     "text": [
      "------------------------------------------------\n",
      "Матрица ошибок и неточностей:\n",
      "[[1147  459]\n",
      " [ 115  279]]\n",
      "F1-score лучшей модели на валидационной выборке: 0.49293286219081267\n",
      "AUC-ROC лучшей модели на валидационной выборке: 0.8518634119513754\n"
     ]
    },
    {
     "data": {
      "image/png": "[encoded data removed]",
      "text/plain": [
       "<Figure size 432x288 with 1 Axes>"
      ]
     },
     "metadata": {
      "needs_background": "light"
     },
     "output_type": "display_data"
    },
    {
     "name": "stdout",
     "output_type": "stream",
     "text": [
      "Recall лучшей модели на валидационной выборке: 0.7081218274111675\n",
      "Precision лучшей модели на валидационной выборке: 0.3780487804878049\n"
     ]
    }
   ],
   "source": [
    "model_lr_balance = LogisticRegression(random_state=654321, class_weight='balanced')\n",
    "model_lr_balance.fit(features_train, target_train)\n",
    "reciewed_lr_valid_lr_balance = model_lr_balance.predict(features_valid)\n",
    "result_valid_recall_lr_balance = recall_score(target_valid, reciewed_lr_valid_lr_balance)\n",
    "result_valid_precision_lr_balance = precision_score(target_valid, reciewed_lr_valid_lr_balance)\n",
    "result_valid_f1_score_lr_balance = f1_score(target_valid, reciewed_lr_valid_lr_balance)\n",
    "probabilities_valid_lr_balance = model_lr_balance.predict_proba(features_valid)\n",
    "probabilities_one_valid_lr_balance = probabilities_valid[:, 1]\n",
    "result_valid_auc_roc_lr_balance = roc_auc_score(target_valid, probabilities_one_valid_lr_balance)\n",
    "fpr_lr_balance, tpr_lr_balance, thresholds_lr_balance = roc_curve(target_valid, probabilities_one_valid_lr_balance)\n",
    "        \n",
    "# посчитаем правильные ответы при тестировании на валидационной выборке\n",
    "print('------------------------------------------------')\n",
    "print('Матрица ошибок и неточностей:')\n",
    "print(confusion_matrix(target_valid, reciewed_lr_valid_lr_balance))\n",
    "print('F1-score лучшей модели на валидационной выборке:', result_valid_f1_score_lr_balance)\n",
    "print('AUC-ROC лучшей модели на валидационной выборке:', result_valid_auc_roc_lr_balance)\n",
    "pyplot.plot([0, 1], [0, 1], linestyle='--')\n",
    "pyplot.plot(fpr_lr_balance, tpr_lr_balance, marker='.')\n",
    "pyplot.show()\n",
    "print('Recall лучшей модели на валидационной выборке:', result_valid_recall_lr_balance)\n",
    "print('Precision лучшей модели на валидационной выборке:', result_valid_precision_lr_balance)"
   ]
  },
  {
   "cell_type": "markdown",
   "metadata": {},
   "source": [
    "Исследуя баланс и дисбаланс классов по модели на основе алгоритма LogisticRegression была построена модель c учетом балансировки классов. По данной модели была построена матрица ошибок для наибольшего сбалансированного показателя F1-score. Оценкой агрегирующего показателя F1-score стало значение 0.49(среднее гармоническое полноты и точности). В данном случае следует отметить, что прогнозирование по шкале Recall(полнота) лучше и составляет долю положительных среди всех ответов 0.71 - значение ближе к 1, по шкале Precision(точность) точность стремится к 0 и этот параметр равен 0.38, т.е. отрицательных ответов меньше, чем положительных, но в то же время в комплексе эти показатели указывают на дисбаланс классификации. Значение F1-меры стремится к 0, значение очень далеко от цели в 0.59, т.е. баланс полноты и точности не  соблюден. Матрица имеет следующие значения:\n",
    "\n",
    "- истинно отрицательных(TN) ответов 1147 - прогноз совпал с реальностью, большинство клиентов остаются в банке,\n",
    "- истинно положительных(TP) ответов 279 - прогноз совпал с реальностью, меньшинство клиентов уходит, но медленный их отток, не отрицаем,\n",
    "- ложноотрицательных(FN, ошибка 2 рода) ответов 115 - модель показала, что 115 клиентов не покинут банк, но они покинули банк и банк получил отток,\n",
    "- ложноположительных(FP, ошибка 1 рода) ответов 459 - модель предсказала, что будет отток, но в реальности эти клиенты не покинули банк.\n",
    "\n",
    "Количество правильных прогнозов составило 1426, количество ложных 574.\n",
    "\n",
    "Значение F1-score в сбалансированной модели 0.49, что выше чем несбалансированной - 0.35.\n",
    "\n",
    "AUC-ROC модели составил 0.85 и стремится к 1, F1-score на уровне 0.49, что ниже целевого 0.59."
   ]
  },
  {
   "cell_type": "markdown",
   "metadata": {},
   "source": [
    "#### Увеличение выборки"
   ]
  },
  {
   "cell_type": "code",
   "execution_count": 161,
   "metadata": {
    "scrolled": true
   },
   "outputs": [
    {
     "name": "stdout",
     "output_type": "stream",
     "text": [
      "------------------------------------------------\n",
      "Матрица ошибок и неточностей:\n",
      "[[1145  461]\n",
      " [ 113  281]]\n",
      "F1-score лучшей модели на валидационной выборке: 0.4947183098591549\n",
      "AUC-ROC лучшей модели на валидационной выборке: 0.8518634119513754\n"
     ]
    },
    {
     "data": {
      "image/png": "[encoded data removed]",
      "text/plain": [
       "<Figure size 432x288 with 1 Axes>"
      ]
     },
     "metadata": {
      "needs_background": "light"
     },
     "output_type": "display_data"
    },
    {
     "name": "stdout",
     "output_type": "stream",
     "text": [
      "Recall лучшей модели на валидационной выборке: 0.7131979695431472\n",
      "Precision лучшей модели на валидационной выборке: 0.37870619946091644\n"
     ]
    }
   ],
   "source": [
    "# сформируем модель на увеличенной выборке\n",
    "model_lr_up = LogisticRegression(random_state=654321)\n",
    "model_lr_up.fit(features_upsampled, target_upsampled)\n",
    "reciewed_lr_valid_lr_up = model_lr_up.predict(features_valid)\n",
    "result_valid_recall_lr_up = recall_score(target_valid, reciewed_lr_valid_lr_up)\n",
    "result_valid_precision_lr_up = precision_score(target_valid, reciewed_lr_valid_lr_up)\n",
    "result_valid_f1_score_lr_up = f1_score(target_valid, reciewed_lr_valid_lr_up)\n",
    "probabilities_valid_lr_up = model_lr_up.predict_proba(features_valid)\n",
    "probabilities_one_valid_lr_up = probabilities_valid[:, 1]\n",
    "result_valid_auc_roc_lr_up = roc_auc_score(target_valid, probabilities_one_valid_lr_up)\n",
    "fpr_lr_up, tpr_lr_up, thresholds_lr_up = roc_curve(target_valid, probabilities_one_valid_lr_up)\n",
    "        \n",
    "# посчитаем правильные ответы при тестировании на валидационной выборке\n",
    "print('------------------------------------------------')\n",
    "print('Матрица ошибок и неточностей:')\n",
    "print(confusion_matrix(target_valid, reciewed_lr_valid_lr_up))\n",
    "print('F1-score лучшей модели на валидационной выборке:', result_valid_f1_score_lr_up)\n",
    "print('AUC-ROC лучшей модели на валидационной выборке:', result_valid_auc_roc_lr_up)\n",
    "pyplot.plot([0, 1], [0, 1], linestyle='--')\n",
    "pyplot.plot(fpr_lr_up, tpr_lr_up, marker='.')\n",
    "pyplot.show()\n",
    "print('Recall лучшей модели на валидационной выборке:', result_valid_recall_lr_up)\n",
    "print('Precision лучшей модели на валидационной выборке:', result_valid_precision_lr_up)"
   ]
  },
  {
   "cell_type": "markdown",
   "metadata": {},
   "source": [
    "Исследуя баланс и дисбаланс классов по модели на основе алгоритма LogisticRegression была построена модель c учетом увеличения выборки. По данной модели была построена матрица ошибок для наибольшего сбалансированного показателя F1-score. Оценкой агрегирующего показателя F1-score стало значение 0.49(среднее гармоническое полноты и точности). В данном случае следует отметить, что прогнозирование по шкале Recall(полнота) лучше и составляет долю положительных среди всех ответов 0.71 - значение ближе к 1, по шкале Precision(точность) точность стремится к 0 и этот параметр равен 0.38, т.е. отрицательных ответов меньше, чем положительных, но в то же время в комплексе эти показатели указывают на дисбаланс классификации. Значение F1-меры стремится к 0, значение очень далеко от цели в 0.59, т.е. баланс полноты и точности не  соблюден. Матрица имеет следующие значения:\n",
    "\n",
    "- истинно отрицательных(TN) ответов 1145 - прогноз совпал с реальностью, большинство клиентов остаются в банке,\n",
    "- истинно положительных(TP) ответов 281 - прогноз совпал с реальностью, меньшинство клиентов уходит, но медленный их отток, не отрицаем,\n",
    "- ложноотрицательных(FN, ошибка 2 рода) ответов 113 - модель показала, что 113 клиентов не покинут банк, но они покинули банк и банк получил отток,\n",
    "- ложноположительных(FP, ошибка 1 рода) ответов 461 - модель предсказала, что будет отток, но в реальности эти клиенты не покинули банк.\n",
    "\n",
    "Количество правильных прогнозов составило 1426, количество ложных 574.\n",
    "\n",
    "Значение F1-score в модели с увеличенной выборкой 0.49, что выше чем несбалансированной - 0.35.\n",
    "\n",
    "AUC-ROC модели составил 0.85 и стремится к 1, классификация достаточно качественная несмотря на то, что показатель F1-score на уровне 0.49, что ниже целевого 0.59."
   ]
  },
  {
   "cell_type": "markdown",
   "metadata": {},
   "source": [
    "#### Уменьшение выборки"
   ]
  },
  {
   "cell_type": "code",
   "execution_count": 162,
   "metadata": {
    "scrolled": true
   },
   "outputs": [
    {
     "name": "stdout",
     "output_type": "stream",
     "text": [
      "------------------------------------------------\n",
      "Матрица ошибок и неточностей:\n",
      "[[1333  273]\n",
      " [ 182  212]]\n",
      "F1-score лучшей модели на валидационной выборке: 0.4823663253697383\n",
      "AUC-ROC лучшей модели на валидационной выборке: 0.8518634119513754\n"
     ]
    },
    {
     "data": {
      "image/png": "[encoded data removed]",
      "text/plain": [
       "<Figure size 432x288 with 1 Axes>"
      ]
     },
     "metadata": {
      "needs_background": "light"
     },
     "output_type": "display_data"
    },
    {
     "name": "stdout",
     "output_type": "stream",
     "text": [
      "Recall лучшей модели на валидационной выборке: 0.5380710659898477\n",
      "Precision лучшей модели на валидационной выборке: 0.43711340206185567\n"
     ]
    }
   ],
   "source": [
    "# сформируем модель на уменьшенной выборке\n",
    "model_lr_down = LogisticRegression(random_state=654321)\n",
    "model_lr_down.fit(features_downsampled, target_downsampled)\n",
    "reciewed_lr_valid_lr_down = model_lr_down.predict(features_valid)\n",
    "result_valid_recall_lr_down = recall_score(target_valid, reciewed_lr_valid_lr_down)\n",
    "result_valid_precision_lr_down = precision_score(target_valid, reciewed_lr_valid_lr_down)\n",
    "result_valid_f1_score_lr_down = f1_score(target_valid, reciewed_lr_valid_lr_down)\n",
    "probabilities_valid_lr_down = model_lr_down.predict_proba(features_valid)\n",
    "probabilities_one_valid_lr_down = probabilities_valid[:, 1]\n",
    "result_valid_auc_roc_lr_down = roc_auc_score(target_valid, probabilities_one_valid_lr_down)\n",
    "fpr_lr_down, tpr_lr_down, thresholds_lr_down = roc_curve(target_valid, probabilities_one_valid_lr_down)\n",
    "        \n",
    "# посчитаем правильные ответы при тестировании на валидационной выборке\n",
    "print('------------------------------------------------')\n",
    "print('Матрица ошибок и неточностей:')\n",
    "print(confusion_matrix(target_valid, reciewed_lr_valid_lr_down))\n",
    "print('F1-score лучшей модели на валидационной выборке:', result_valid_f1_score_lr_down)\n",
    "print('AUC-ROC лучшей модели на валидационной выборке:', result_valid_auc_roc_lr_down)\n",
    "pyplot.plot([0, 1], [0, 1], linestyle='--')\n",
    "pyplot.plot(fpr_lr_down, tpr_lr_down, marker='.')\n",
    "pyplot.show()\n",
    "print('Recall лучшей модели на валидационной выборке:', result_valid_recall_lr_down)\n",
    "print('Precision лучшей модели на валидационной выборке:', result_valid_precision_lr_down)"
   ]
  },
  {
   "cell_type": "markdown",
   "metadata": {},
   "source": [
    "Исследуя баланс и дисбаланс классов по модели на основе алгоритма LogisticRegression была построена модель c учетом уменьшения выборки. По данной модели была построена матрица ошибок для сбалансированного показателя F1-score. Оценкой агрегирующего показателя F1-score стало значение 0.48(среднее гармоническое полноты и точности). В данном случае следует отметить, что прогнозирование по шкале Recall(полнота) лучше и составляет долю положительных среди всех ответов 0.54 - значение ближе к 1, по шкале Precision(точность) точность стремится к 0 и этот параметр равен 0.44, т.е. отрицательных ответов меньше, чем положительных, но в то же время в комплексе эти показатели указывают на дисбаланс классификации. Значение F1-меры стремится к 0, значение очень далеко от цели в 0.59, т.е. баланс полноты и точности не  соблюден. Матрица имеет следующие значения:\n",
    "\n",
    "- истинно отрицательных(TN) ответов 1333 - прогноз совпал с реальностью, большинство клиентов остаются в банке,\n",
    "- истинно положительных(TP) ответов 212 - прогноз совпал с реальностью, меньшинство клиентов уходит, но медленный их отток, не отрицаем,\n",
    "- ложноотрицательных(FN, ошибка 2 рода) ответов 182 - модель показала, что 182 клиентов не покинут банк, но они покинули банк и банк получил отток,\n",
    "- ложноположительных(FP, ошибка 1 рода) ответов 273 - модель предсказала, что будет отток, но в реальности эти клиенты не покинули банк.\n",
    "\n",
    "Количество правильных прогнозов составило 1545, количество ложных 455.\n",
    "\n",
    "Значение F1-score в модели с увеличенной выборкой 0.48, что выше чем несбалансированной - 0.35.\n",
    "\n",
    "AUC-ROC модели составил 0.85 и стремится к 1, классификация достаточно качественная несмотря на то, что показатель F1-score на уровне 0.48, что ниже целевого 0.59."
   ]
  },
  {
   "cell_type": "markdown",
   "metadata": {},
   "source": [
    "## Сводная информация по исследованию перед финальным тестированием"
   ]
  },
  {
   "cell_type": "code",
   "execution_count": 163,
   "metadata": {
    "scrolled": false
   },
   "outputs": [
    {
     "data": {
      "text/html": [
       "<div>\n",
       "<style scoped>\n",
       "    .dataframe tbody tr th:only-of-type {\n",
       "        vertical-align: middle;\n",
       "    }\n",
       "\n",
       "    .dataframe tbody tr th {\n",
       "        vertical-align: top;\n",
       "    }\n",
       "\n",
       "    .dataframe thead th {\n",
       "        text-align: right;\n",
       "    }\n",
       "</style>\n",
       "<table border=\"1\" class=\"dataframe\">\n",
       "  <thead>\n",
       "    <tr style=\"text-align: right;\">\n",
       "      <th></th>\n",
       "      <th>Model</th>\n",
       "      <th>F1-score</th>\n",
       "      <th>AUC-ROC</th>\n",
       "      <th>Recall</th>\n",
       "      <th>Precision</th>\n",
       "    </tr>\n",
       "  </thead>\n",
       "  <tbody>\n",
       "    <tr>\n",
       "      <th>6</th>\n",
       "      <td>RandomForestClassifier увеличение выборки</td>\n",
       "      <td>0.595520</td>\n",
       "      <td>0.843498</td>\n",
       "      <td>0.573604</td>\n",
       "      <td>0.619178</td>\n",
       "    </tr>\n",
       "    <tr>\n",
       "      <th>4</th>\n",
       "      <td>RandomForestClassifier без учета дисбаланса кл...</td>\n",
       "      <td>0.591331</td>\n",
       "      <td>0.853148</td>\n",
       "      <td>0.484772</td>\n",
       "      <td>0.757937</td>\n",
       "    </tr>\n",
       "    <tr>\n",
       "      <th>7</th>\n",
       "      <td>RandomForestClassifier уменьшение выборки</td>\n",
       "      <td>0.589474</td>\n",
       "      <td>0.847317</td>\n",
       "      <td>0.639594</td>\n",
       "      <td>0.546638</td>\n",
       "    </tr>\n",
       "    <tr>\n",
       "      <th>3</th>\n",
       "      <td>DecisionTreeClassifier уменьшение выборки</td>\n",
       "      <td>0.565591</td>\n",
       "      <td>0.802943</td>\n",
       "      <td>0.667513</td>\n",
       "      <td>0.490672</td>\n",
       "    </tr>\n",
       "    <tr>\n",
       "      <th>5</th>\n",
       "      <td>RandomForestClassifier взвешивание классов</td>\n",
       "      <td>0.565079</td>\n",
       "      <td>0.851747</td>\n",
       "      <td>0.451777</td>\n",
       "      <td>0.754237</td>\n",
       "    </tr>\n",
       "    <tr>\n",
       "      <th>2</th>\n",
       "      <td>DecisionTreeClassifier увеличение выборки</td>\n",
       "      <td>0.556190</td>\n",
       "      <td>0.807902</td>\n",
       "      <td>0.741117</td>\n",
       "      <td>0.445122</td>\n",
       "    </tr>\n",
       "    <tr>\n",
       "      <th>1</th>\n",
       "      <td>DecisionTreeClassifier взвешивание классов</td>\n",
       "      <td>0.554913</td>\n",
       "      <td>0.834185</td>\n",
       "      <td>0.730964</td>\n",
       "      <td>0.447205</td>\n",
       "    </tr>\n",
       "    <tr>\n",
       "      <th>0</th>\n",
       "      <td>DecisionTreeClassifier без учета дисбаланса кл...</td>\n",
       "      <td>0.552923</td>\n",
       "      <td>0.828902</td>\n",
       "      <td>0.444162</td>\n",
       "      <td>0.732218</td>\n",
       "    </tr>\n",
       "    <tr>\n",
       "      <th>10</th>\n",
       "      <td>LogisticRegression увеличение выборки</td>\n",
       "      <td>0.494718</td>\n",
       "      <td>0.851863</td>\n",
       "      <td>0.713198</td>\n",
       "      <td>0.378706</td>\n",
       "    </tr>\n",
       "    <tr>\n",
       "      <th>9</th>\n",
       "      <td>LogisticRegression взвешивание классов</td>\n",
       "      <td>0.492933</td>\n",
       "      <td>0.851863</td>\n",
       "      <td>0.708122</td>\n",
       "      <td>0.378049</td>\n",
       "    </tr>\n",
       "    <tr>\n",
       "      <th>11</th>\n",
       "      <td>LogisticRegression уменьшение выборки</td>\n",
       "      <td>0.482366</td>\n",
       "      <td>0.851863</td>\n",
       "      <td>0.538071</td>\n",
       "      <td>0.437113</td>\n",
       "    </tr>\n",
       "    <tr>\n",
       "      <th>8</th>\n",
       "      <td>LogisticRegression без учета дисбаланса классов</td>\n",
       "      <td>0.351304</td>\n",
       "      <td>0.853878</td>\n",
       "      <td>0.256345</td>\n",
       "      <td>0.558011</td>\n",
       "    </tr>\n",
       "  </tbody>\n",
       "</table>\n",
       "</div>"
      ],
      "text/plain": [
       "                                                Model  F1-score   AUC-ROC  \\\n",
       "6           RandomForestClassifier увеличение выборки  0.595520  0.843498   \n",
       "4   RandomForestClassifier без учета дисбаланса кл...  0.591331  0.853148   \n",
       "7           RandomForestClassifier уменьшение выборки  0.589474  0.847317   \n",
       "3           DecisionTreeClassifier уменьшение выборки  0.565591  0.802943   \n",
       "5          RandomForestClassifier взвешивание классов  0.565079  0.851747   \n",
       "2           DecisionTreeClassifier увеличение выборки  0.556190  0.807902   \n",
       "1          DecisionTreeClassifier взвешивание классов  0.554913  0.834185   \n",
       "0   DecisionTreeClassifier без учета дисбаланса кл...  0.552923  0.828902   \n",
       "10              LogisticRegression увеличение выборки  0.494718  0.851863   \n",
       "9              LogisticRegression взвешивание классов  0.492933  0.851863   \n",
       "11              LogisticRegression уменьшение выборки  0.482366  0.851863   \n",
       "8     LogisticRegression без учета дисбаланса классов  0.351304  0.853878   \n",
       "\n",
       "      Recall  Precision  \n",
       "6   0.573604   0.619178  \n",
       "4   0.484772   0.757937  \n",
       "7   0.639594   0.546638  \n",
       "3   0.667513   0.490672  \n",
       "5   0.451777   0.754237  \n",
       "2   0.741117   0.445122  \n",
       "1   0.730964   0.447205  \n",
       "0   0.444162   0.732218  \n",
       "10  0.713198   0.378706  \n",
       "9   0.708122   0.378049  \n",
       "11  0.538071   0.437113  \n",
       "8   0.256345   0.558011  "
      ]
     },
     "metadata": {},
     "output_type": "display_data"
    }
   ],
   "source": [
    "# сформируем сводную таблицу по данным моделей\n",
    "pivot_data = {'Model':['DecisionTreeClassifier без учета дисбаланса классов', 'DecisionTreeClassifier взвешивание классов', 'DecisionTreeClassifier увеличение выборки', 'DecisionTreeClassifier уменьшение выборки',\n",
    "                       'RandomForestClassifier без учета дисбаланса классов', 'RandomForestClassifier взвешивание классов', 'RandomForestClassifier увеличение выборки', 'RandomForestClassifier уменьшение выборки',\n",
    "                        'LogisticRegression без учета дисбаланса классов', 'LogisticRegression взвешивание классов', 'LogisticRegression увеличение выборки', 'LogisticRegression уменьшение выборки'],\n",
    "            'F1-score':[best_result_f1_score_dtc_base, best_result_f1_score_dtc_balance, best_result_f1_score_dtc_up, best_result_f1_score_dtc_down, best_result_f1_score_rfc_base, best_result_f1_score_rfc_balance, best_result_f1_score_rfc_up, best_result_f1_score_rfc_down, result_valid_f1_score_lr_base, result_valid_f1_score_lr_balance, result_valid_f1_score_lr_up, result_valid_f1_score_lr_down],\n",
    "             'AUC-ROC':[best_auc_roc_dtc_base, best_auc_roc_dtc_balance, best_auc_roc_dtc_up, best_auc_roc_dtc_down, best_auc_roc_rfc_base, best_auc_roc_rfc_balance, best_auc_roc_rfc_up, best_auc_roc_rfc_down, result_valid_auc_roc_lr_base, result_valid_auc_roc_lr_balance, result_valid_auc_roc_lr_up, result_valid_auc_roc_lr_down],\n",
    "             'Recall':[best_result_recall_dtc_base, best_result_recall_dtc_balance, best_result_recall_dtc_up, best_result_recall_dtc_down, best_result_recall_rfc_base, best_result_recall_rfc_balance, best_result_recall_rfc_up, best_result_recall_rfc_down, result_valid_recall_lr_base, result_valid_recall_lr_balance, result_valid_recall_lr_up, result_valid_recall_lr_down],\n",
    "              'Precision':[best_result_precision_dtc_base, best_result_precision_dtc_balance, best_result_precision_dtc_up, best_result_precision_dtc_down, best_result_precision_rfc_base, best_result_precision_rfc_balance, best_result_precision_rfc_up, best_result_precision_rfc_down, result_valid_precision_lr_base, result_valid_precision_lr_balance, result_valid_precision_lr_up, result_valid_precision_lr_down]}\n",
    "pivot_data = pd.DataFrame(pivot_data)\n",
    "display(pivot_data.sort_values('F1-score', ascending=False))"
   ]
  },
  {
   "cell_type": "markdown",
   "metadata": {},
   "source": [
    "По итогам анализа моделей на основе алгоритмов RandomForestClassifier, DecisionTreeClassifier, LogisticRegression было выявлено, что по показателю F1-score соответвтуют целевому значению следующие вариации моделей на алгоритме RandomForestClassifier: \n",
    "- RandomForestClassifier увеличение выборки, \n",
    "- RandomForestClassifier без учета дисбаланса классов, \n",
    "- RandomForestClassifier уменьшение выборки.\n",
    "\n",
    "Данные модели будут проходить проверку на тестовой выборке, по итогам которой будут предложены приемлемые модели для оценки оттока клиентов банка."
   ]
  },
  {
   "cell_type": "markdown",
   "metadata": {},
   "source": [
    "## Тестирование моделей"
   ]
  },
  {
   "cell_type": "markdown",
   "metadata": {},
   "source": [
    "### Тестирование модели RandomForestClassifier с увеличением выборки"
   ]
  },
  {
   "cell_type": "code",
   "execution_count": 164,
   "metadata": {
    "scrolled": true
   },
   "outputs": [
    {
     "name": "stdout",
     "output_type": "stream",
     "text": [
      "F1-score лучшей модели на тестовой выборке: 0.5939849624060151\n",
      "AUC-ROC лучшей модели на тестовой выборке: 0.8350725818397273\n"
     ]
    },
    {
     "data": {
      "image/png": "[encoded data removed]",
      "text/plain": [
       "<Figure size 432x288 with 1 Axes>"
      ]
     },
     "metadata": {
      "needs_background": "light"
     },
     "output_type": "display_data"
    },
    {
     "name": "stdout",
     "output_type": "stream",
     "text": [
      "Recall лучшей модели на тестовой выборке: 0.5511627906976744\n",
      "Precision лучшей модели на тестовой выборке: 0.6440217391304348\n"
     ]
    }
   ],
   "source": [
    "# протестируем модель RandomForestClassifier с увеличением выборки на тестовой выборке\n",
    "reciewed_rfc_test = best_model_rfc_up.predict(features_test)\n",
    "result_test_recall_rfc_up = recall_score(target_test, reciewed_rfc_test)\n",
    "result_test_precision_rfc_up = precision_score(target_test, reciewed_rfc_test)\n",
    "result_test_f1_score_rfc_up = f1_score(target_test, reciewed_rfc_test)\n",
    "# измерим AUC-ROC для модели\n",
    "probabilities_test = best_model_rfc_up.predict_proba(features_test)\n",
    "probabilities_one_test = probabilities_test[:, 1]\n",
    "result_test_auc_roc_rfc_up = roc_auc_score(target_test, probabilities_one_test)\n",
    "fpr, tpr, thresholds = roc_curve(target_test, probabilities_one_test)    \n",
    "# посчитаем ключевые показатели на тестовой выборке\n",
    "print('F1-score лучшей модели на тестовой выборке:', result_test_f1_score_rfc_up)\n",
    "print('AUC-ROC лучшей модели на тестовой выборке:', result_test_auc_roc_rfc_up)\n",
    "pyplot.plot([0, 1], [0, 1], linestyle='--')\n",
    "pyplot.plot(fpr, tpr, marker='.')\n",
    "pyplot.show()\n",
    "print('Recall лучшей модели на тестовой выборке:', result_test_recall_rfc_up)\n",
    "print('Precision лучшей модели на тестовой выборке:', result_test_precision_rfc_up)"
   ]
  },
  {
   "cell_type": "markdown",
   "metadata": {},
   "source": [
    "### Тестирование модели RandomForestClassifier без учета дисбаланса классов"
   ]
  },
  {
   "cell_type": "code",
   "execution_count": 165,
   "metadata": {
    "scrolled": true
   },
   "outputs": [
    {
     "name": "stdout",
     "output_type": "stream",
     "text": [
      "F1-score лучшей модели на тестовой выборке: 0.5914285714285714\n",
      "AUC-ROC лучшей модели на тестовой выборке: 0.85048066953044\n"
     ]
    },
    {
     "data": {
      "image/png": "[encoded data removed]",
      "text/plain": [
       "<Figure size 432x288 with 1 Axes>"
      ]
     },
     "metadata": {
      "needs_background": "light"
     },
     "output_type": "display_data"
    },
    {
     "name": "stdout",
     "output_type": "stream",
     "text": [
      "Recall лучшей модели на тестовой выборке: 0.4813953488372093\n",
      "Precision лучшей модели на тестовой выборке: 0.7666666666666667\n"
     ]
    }
   ],
   "source": [
    "# протестируем модель RandomForestClassifier без учета дисбаланса классов на тестовой выборке\n",
    "reciewed_rfc_test = best_model_rfc_base.predict(features_test)\n",
    "result_test_recall_rfc_base = recall_score(target_test, reciewed_rfc_test)\n",
    "result_test_precision_rfc_base = precision_score(target_test, reciewed_rfc_test)\n",
    "result_test_f1_score_rfc_base = f1_score(target_test, reciewed_rfc_test)\n",
    "# измерим AUC-ROC для модели\n",
    "probabilities_test = best_model_rfc_base.predict_proba(features_test)\n",
    "probabilities_one_test = probabilities_test[:, 1]\n",
    "result_test_auc_roc_rfc_base = roc_auc_score(target_test, probabilities_one_test)\n",
    "fpr, tpr, thresholds = roc_curve(target_test, probabilities_one_test)    \n",
    "# посчитаем ключевые показатели на тестовой выборке\n",
    "print('F1-score лучшей модели на тестовой выборке:', result_test_f1_score_rfc_base)\n",
    "print('AUC-ROC лучшей модели на тестовой выборке:', result_test_auc_roc_rfc_base)\n",
    "pyplot.plot([0, 1], [0, 1], linestyle='--')\n",
    "pyplot.plot(fpr, tpr, marker='.')\n",
    "pyplot.show()\n",
    "print('Recall лучшей модели на тестовой выборке:', result_test_recall_rfc_base)\n",
    "print('Precision лучшей модели на тестовой выборке:', result_test_precision_rfc_base)"
   ]
  },
  {
   "cell_type": "markdown",
   "metadata": {},
   "source": [
    "### Тестирование модели RandomForestClassifier с уменьшением выборки"
   ]
  },
  {
   "cell_type": "code",
   "execution_count": 166,
   "metadata": {
    "scrolled": false
   },
   "outputs": [
    {
     "name": "stdout",
     "output_type": "stream",
     "text": [
      "F1-score лучшей модели на тестовой выборке: 0.6368593238822247\n",
      "AUC-ROC лучшей модели на тестовой выборке: 0.8538653532809954\n"
     ]
    },
    {
     "data": {
      "image/png": "[encoded data removed]",
      "text/plain": [
       "<Figure size 432x288 with 1 Axes>"
      ]
     },
     "metadata": {
      "needs_background": "light"
     },
     "output_type": "display_data"
    },
    {
     "name": "stdout",
     "output_type": "stream",
     "text": [
      "Recall лучшей модели на тестовой выборке: 0.6790697674418604\n",
      "Precision лучшей модели на тестовой выборке: 0.5995893223819302\n"
     ]
    }
   ],
   "source": [
    "# протестируем модель RandomForestClassifier с уменьшением выборки на тестовой выборке\n",
    "reciewed_rfc_test = best_model_rfc_down.predict(features_test)\n",
    "result_test_recall_rfc_down = recall_score(target_test, reciewed_rfc_test)\n",
    "result_test_precision_rfc_down = precision_score(target_test, reciewed_rfc_test)\n",
    "result_test_f1_score_rfc_down = f1_score(target_test, reciewed_rfc_test)\n",
    "# измерим AUC-ROC для модели\n",
    "probabilities_test = best_model_rfc_down.predict_proba(features_test)\n",
    "probabilities_one_test = probabilities_test[:, 1]\n",
    "result_test_auc_roc_rfc_down = roc_auc_score(target_test, probabilities_one_test)\n",
    "fpr, tpr, thresholds = roc_curve(target_test, probabilities_one_test)    \n",
    "# посчитаем ключевые показатели на тестовой выборке\n",
    "print('F1-score лучшей модели на тестовой выборке:', result_test_f1_score_rfc_down)\n",
    "print('AUC-ROC лучшей модели на тестовой выборке:', result_test_auc_roc_rfc_down)\n",
    "pyplot.plot([0, 1], [0, 1], linestyle='--')\n",
    "pyplot.plot(fpr, tpr, marker='.')\n",
    "pyplot.show()\n",
    "print('Recall лучшей модели на тестовой выборке:', result_test_recall_rfc_down)\n",
    "print('Precision лучшей модели на тестовой выборке:', result_test_precision_rfc_down)"
   ]
  },
  {
   "cell_type": "code",
   "execution_count": 167,
   "metadata": {
    "scrolled": true
   },
   "outputs": [
    {
     "data": {
      "text/html": [
       "<div>\n",
       "<style scoped>\n",
       "    .dataframe tbody tr th:only-of-type {\n",
       "        vertical-align: middle;\n",
       "    }\n",
       "\n",
       "    .dataframe tbody tr th {\n",
       "        vertical-align: top;\n",
       "    }\n",
       "\n",
       "    .dataframe thead th {\n",
       "        text-align: right;\n",
       "    }\n",
       "</style>\n",
       "<table border=\"1\" class=\"dataframe\">\n",
       "  <thead>\n",
       "    <tr style=\"text-align: right;\">\n",
       "      <th></th>\n",
       "      <th>Model</th>\n",
       "      <th>F1-score</th>\n",
       "      <th>AUC-ROC</th>\n",
       "      <th>Recall</th>\n",
       "      <th>Precision</th>\n",
       "    </tr>\n",
       "  </thead>\n",
       "  <tbody>\n",
       "    <tr>\n",
       "      <th>2</th>\n",
       "      <td>RandomForestClassifier уменьшение выборки</td>\n",
       "      <td>0.636859</td>\n",
       "      <td>0.853865</td>\n",
       "      <td>0.679070</td>\n",
       "      <td>0.599589</td>\n",
       "    </tr>\n",
       "    <tr>\n",
       "      <th>0</th>\n",
       "      <td>RandomForestClassifier увеличение выборки</td>\n",
       "      <td>0.593985</td>\n",
       "      <td>0.835073</td>\n",
       "      <td>0.551163</td>\n",
       "      <td>0.644022</td>\n",
       "    </tr>\n",
       "    <tr>\n",
       "      <th>1</th>\n",
       "      <td>RandomForestClassifier без учета дисбаланса кл...</td>\n",
       "      <td>0.591429</td>\n",
       "      <td>0.850481</td>\n",
       "      <td>0.481395</td>\n",
       "      <td>0.766667</td>\n",
       "    </tr>\n",
       "  </tbody>\n",
       "</table>\n",
       "</div>"
      ],
      "text/plain": [
       "                                               Model  F1-score   AUC-ROC  \\\n",
       "2          RandomForestClassifier уменьшение выборки  0.636859  0.853865   \n",
       "0          RandomForestClassifier увеличение выборки  0.593985  0.835073   \n",
       "1  RandomForestClassifier без учета дисбаланса кл...  0.591429  0.850481   \n",
       "\n",
       "     Recall  Precision  \n",
       "2  0.679070   0.599589  \n",
       "0  0.551163   0.644022  \n",
       "1  0.481395   0.766667  "
      ]
     },
     "metadata": {},
     "output_type": "display_data"
    }
   ],
   "source": [
    "# сформируем сводную таблицу для оценки результатов тестирования\n",
    "pivot_data_test = {'Model': ['RandomForestClassifier увеличение выборки', 'RandomForestClassifier без учета дисбаланса классов', 'RandomForestClassifier уменьшение выборки'],\n",
    "                   'F1-score': [result_test_f1_score_rfc_up, result_test_f1_score_rfc_base, result_test_f1_score_rfc_down],\n",
    "                   'AUC-ROC': [result_test_auc_roc_rfc_up, result_test_auc_roc_rfc_base, result_test_auc_roc_rfc_down],\n",
    "                   'Recall': [result_test_recall_rfc_up, result_test_recall_rfc_base, result_test_recall_rfc_down],\n",
    "                   'Precision': [result_test_precision_rfc_up, result_test_precision_rfc_base, result_test_precision_rfc_down]}\n",
    "pivot_data_test = pd.DataFrame(pivot_data_test)\n",
    "display(pivot_data_test.sort_values('F1-score', ascending=False))"
   ]
  },
  {
   "cell_type": "markdown",
   "metadata": {},
   "source": [
    "У наилучшей модели F1-мера составила 0.64, высокая оценка говорит о том, что модель хорошо разбирается с задачей дисбаланса класса, а AUC-ROC модели составил 0.85 и стремится к 1, классификация достаточно качественная."
   ]
  }
 ],
 "metadata": {
  "ExecuteTimeLog": [
   {
    "duration": 684,
    "start_time": "2022-03-16T18:16:31.682Z"
   },
   {
    "duration": 46,
    "start_time": "2022-03-16T18:16:46.592Z"
   },
   {
    "duration": 83,
    "start_time": "2022-03-16T18:17:24.124Z"
   },
   {
    "duration": 3,
    "start_time": "2022-03-16T18:19:53.131Z"
   },
   {
    "duration": 2,
    "start_time": "2022-03-16T18:21:07.346Z"
   },
   {
    "duration": 107,
    "start_time": "2022-03-16T18:21:08.201Z"
   },
   {
    "duration": 406,
    "start_time": "2022-03-16T18:21:18.978Z"
   },
   {
    "duration": 51,
    "start_time": "2022-03-16T18:21:26.839Z"
   },
   {
    "duration": 2,
    "start_time": "2022-03-16T18:23:19.877Z"
   },
   {
    "duration": 104,
    "start_time": "2022-03-16T18:24:01.339Z"
   },
   {
    "duration": 8,
    "start_time": "2022-03-16T18:49:59.678Z"
   },
   {
    "duration": 9,
    "start_time": "2022-03-16T18:50:29.710Z"
   },
   {
    "duration": 335,
    "start_time": "2022-03-16T18:54:25.710Z"
   },
   {
    "duration": 66,
    "start_time": "2022-03-16T19:02:27.145Z"
   },
   {
    "duration": 437,
    "start_time": "2022-03-16T19:06:18.689Z"
   },
   {
    "duration": 3,
    "start_time": "2022-03-16T19:06:22.867Z"
   },
   {
    "duration": 96,
    "start_time": "2022-03-16T19:06:22.873Z"
   },
   {
    "duration": 8,
    "start_time": "2022-03-16T19:06:22.971Z"
   },
   {
    "duration": 330,
    "start_time": "2022-03-16T19:06:22.981Z"
   },
   {
    "duration": 146,
    "start_time": "2022-03-16T19:08:04.860Z"
   },
   {
    "duration": 380,
    "start_time": "2022-03-16T19:08:09.168Z"
   },
   {
    "duration": 351,
    "start_time": "2022-03-16T19:08:17.876Z"
   },
   {
    "duration": 707,
    "start_time": "2022-03-16T19:11:31.974Z"
   },
   {
    "duration": 795,
    "start_time": "2022-03-16T19:13:52.039Z"
   },
   {
    "duration": 920,
    "start_time": "2022-03-16T19:13:59.198Z"
   },
   {
    "duration": 951,
    "start_time": "2022-03-16T19:14:05.743Z"
   },
   {
    "duration": 290,
    "start_time": "2022-03-16T19:15:59.014Z"
   },
   {
    "duration": 3,
    "start_time": "2022-03-16T19:16:18.878Z"
   },
   {
    "duration": 2,
    "start_time": "2022-03-16T19:16:22.354Z"
   },
   {
    "duration": 89,
    "start_time": "2022-03-16T19:16:22.358Z"
   },
   {
    "duration": 9,
    "start_time": "2022-03-16T19:16:22.449Z"
   },
   {
    "duration": 850,
    "start_time": "2022-03-16T19:16:22.460Z"
   },
   {
    "duration": 629,
    "start_time": "2022-03-16T19:16:23.311Z"
   },
   {
    "duration": 297,
    "start_time": "2022-03-16T19:17:58.822Z"
   },
   {
    "duration": 442,
    "start_time": "2022-03-16T19:18:09.580Z"
   },
   {
    "duration": 358,
    "start_time": "2022-03-16T19:18:52.473Z"
   },
   {
    "duration": 415,
    "start_time": "2022-03-16T19:20:39.093Z"
   },
   {
    "duration": 849,
    "start_time": "2022-03-16T19:20:41.892Z"
   },
   {
    "duration": 6,
    "start_time": "2022-03-16T19:43:48.922Z"
   },
   {
    "duration": 4,
    "start_time": "2022-03-16T19:43:57.878Z"
   },
   {
    "duration": 9,
    "start_time": "2022-03-16T19:45:40.737Z"
   },
   {
    "duration": 315,
    "start_time": "2022-03-16T19:45:58.387Z"
   },
   {
    "duration": 6,
    "start_time": "2022-03-16T19:46:22.499Z"
   },
   {
    "duration": 3736,
    "start_time": "2022-03-16T19:46:40.094Z"
   },
   {
    "duration": 5,
    "start_time": "2022-03-16T19:46:51.659Z"
   },
   {
    "duration": 3757,
    "start_time": "2022-03-16T19:48:40.717Z"
   },
   {
    "duration": 3916,
    "start_time": "2022-03-16T19:49:00.192Z"
   },
   {
    "duration": 4,
    "start_time": "2022-03-16T19:50:01.139Z"
   },
   {
    "duration": 5,
    "start_time": "2022-03-16T19:50:11.692Z"
   },
   {
    "duration": 6,
    "start_time": "2022-03-16T19:50:21.891Z"
   },
   {
    "duration": 3808,
    "start_time": "2022-03-16T19:56:20.469Z"
   },
   {
    "duration": 3707,
    "start_time": "2022-03-16T19:56:40.517Z"
   },
   {
    "duration": 5,
    "start_time": "2022-03-16T20:00:07.667Z"
   },
   {
    "duration": 293,
    "start_time": "2022-03-16T20:00:18.396Z"
   },
   {
    "duration": 334,
    "start_time": "2022-03-16T20:00:50.823Z"
   },
   {
    "duration": 9,
    "start_time": "2022-03-16T20:01:05.990Z"
   },
   {
    "duration": 309,
    "start_time": "2022-03-16T20:01:19.017Z"
   },
   {
    "duration": 3,
    "start_time": "2022-03-16T20:01:26.364Z"
   },
   {
    "duration": 89,
    "start_time": "2022-03-16T20:01:26.371Z"
   },
   {
    "duration": 19,
    "start_time": "2022-03-16T20:01:26.462Z"
   },
   {
    "duration": 840,
    "start_time": "2022-03-16T20:01:26.483Z"
   },
   {
    "duration": 337,
    "start_time": "2022-03-16T20:01:27.325Z"
   },
   {
    "duration": 19,
    "start_time": "2022-03-16T20:01:27.663Z"
   },
   {
    "duration": 9,
    "start_time": "2022-03-16T20:01:56.939Z"
   },
   {
    "duration": 11,
    "start_time": "2022-03-16T20:02:32.275Z"
   },
   {
    "duration": 331,
    "start_time": "2022-03-16T20:02:48.732Z"
   },
   {
    "duration": 19,
    "start_time": "2022-03-16T20:02:58.968Z"
   },
   {
    "duration": 19,
    "start_time": "2022-03-16T20:03:32.655Z"
   },
   {
    "duration": 9,
    "start_time": "2022-03-16T20:03:59.383Z"
   },
   {
    "duration": 305,
    "start_time": "2022-03-16T20:06:49.260Z"
   },
   {
    "duration": 11,
    "start_time": "2022-03-16T20:06:53.491Z"
   },
   {
    "duration": 11,
    "start_time": "2022-03-16T20:07:09.147Z"
   },
   {
    "duration": 9,
    "start_time": "2022-03-16T20:07:15.774Z"
   },
   {
    "duration": 6,
    "start_time": "2022-03-16T20:07:34.427Z"
   },
   {
    "duration": 471,
    "start_time": "2022-03-16T20:07:55.006Z"
   },
   {
    "duration": 7,
    "start_time": "2022-03-16T20:07:58.230Z"
   },
   {
    "duration": 8,
    "start_time": "2022-03-16T20:08:10.614Z"
   },
   {
    "duration": 6,
    "start_time": "2022-03-16T20:08:30.268Z"
   },
   {
    "duration": 6,
    "start_time": "2022-03-16T20:08:39.261Z"
   },
   {
    "duration": 7,
    "start_time": "2022-03-16T20:09:12.652Z"
   },
   {
    "duration": 8,
    "start_time": "2022-03-16T20:09:33.800Z"
   },
   {
    "duration": 6,
    "start_time": "2022-03-16T20:09:52.653Z"
   },
   {
    "duration": 7,
    "start_time": "2022-03-16T20:10:13.619Z"
   },
   {
    "duration": 6,
    "start_time": "2022-03-16T20:10:36.854Z"
   },
   {
    "duration": 7,
    "start_time": "2022-03-16T20:11:00.148Z"
   },
   {
    "duration": 7,
    "start_time": "2022-03-16T20:11:24.995Z"
   },
   {
    "duration": 6,
    "start_time": "2022-03-16T20:12:09.091Z"
   },
   {
    "duration": 5,
    "start_time": "2022-03-16T20:12:58.602Z"
   },
   {
    "duration": 7,
    "start_time": "2022-03-16T20:13:14.379Z"
   },
   {
    "duration": 7,
    "start_time": "2022-03-16T20:13:41.561Z"
   },
   {
    "duration": 7,
    "start_time": "2022-03-16T20:14:05.798Z"
   },
   {
    "duration": 9,
    "start_time": "2022-03-16T20:39:27.192Z"
   },
   {
    "duration": 290,
    "start_time": "2022-03-16T20:54:26.851Z"
   },
   {
    "duration": 9,
    "start_time": "2022-03-16T20:54:35.908Z"
   },
   {
    "duration": 1329,
    "start_time": "2022-03-17T15:12:37.705Z"
   },
   {
    "duration": 102,
    "start_time": "2022-03-17T15:12:39.036Z"
   },
   {
    "duration": 13,
    "start_time": "2022-03-17T15:12:39.140Z"
   },
   {
    "duration": 1191,
    "start_time": "2022-03-17T15:12:39.155Z"
   },
   {
    "duration": 356,
    "start_time": "2022-03-17T15:12:40.348Z"
   },
   {
    "duration": 15,
    "start_time": "2022-03-17T15:12:40.706Z"
   },
   {
    "duration": 26,
    "start_time": "2022-03-17T15:12:40.722Z"
   },
   {
    "duration": 7,
    "start_time": "2022-03-17T15:12:40.750Z"
   },
   {
    "duration": 9,
    "start_time": "2022-03-17T15:12:40.759Z"
   },
   {
    "duration": 6,
    "start_time": "2022-03-17T15:12:40.771Z"
   },
   {
    "duration": 9,
    "start_time": "2022-03-17T15:12:40.779Z"
   },
   {
    "duration": 8,
    "start_time": "2022-03-17T15:12:40.790Z"
   },
   {
    "duration": 43,
    "start_time": "2022-03-17T15:12:40.799Z"
   },
   {
    "duration": 9,
    "start_time": "2022-03-17T15:12:40.844Z"
   },
   {
    "duration": 7,
    "start_time": "2022-03-17T15:12:40.855Z"
   },
   {
    "duration": 12,
    "start_time": "2022-03-17T15:12:40.863Z"
   },
   {
    "duration": 12,
    "start_time": "2022-03-17T15:12:40.876Z"
   },
   {
    "duration": 9,
    "start_time": "2022-03-17T15:12:40.890Z"
   },
   {
    "duration": 5,
    "start_time": "2022-03-17T15:12:40.900Z"
   },
   {
    "duration": 40,
    "start_time": "2022-03-17T15:12:40.907Z"
   },
   {
    "duration": 3,
    "start_time": "2022-03-17T15:30:17.478Z"
   },
   {
    "duration": 3,
    "start_time": "2022-03-17T15:30:19.775Z"
   },
   {
    "duration": 92,
    "start_time": "2022-03-17T15:30:19.784Z"
   },
   {
    "duration": 13,
    "start_time": "2022-03-17T15:30:19.878Z"
   },
   {
    "duration": 1103,
    "start_time": "2022-03-17T15:30:19.893Z"
   },
   {
    "duration": 393,
    "start_time": "2022-03-17T15:30:20.998Z"
   },
   {
    "duration": 14,
    "start_time": "2022-03-17T15:30:21.393Z"
   },
   {
    "duration": 30,
    "start_time": "2022-03-17T15:30:21.409Z"
   },
   {
    "duration": 70,
    "start_time": "2022-03-17T15:30:21.441Z"
   },
   {
    "duration": 42,
    "start_time": "2022-03-17T15:30:21.513Z"
   },
   {
    "duration": 9,
    "start_time": "2022-03-17T15:30:21.558Z"
   },
   {
    "duration": 7,
    "start_time": "2022-03-17T15:30:21.568Z"
   },
   {
    "duration": 7,
    "start_time": "2022-03-17T15:30:21.577Z"
   },
   {
    "duration": 7,
    "start_time": "2022-03-17T15:30:21.585Z"
   },
   {
    "duration": 45,
    "start_time": "2022-03-17T15:30:21.594Z"
   },
   {
    "duration": 6,
    "start_time": "2022-03-17T15:30:21.642Z"
   },
   {
    "duration": 8,
    "start_time": "2022-03-17T15:30:21.649Z"
   },
   {
    "duration": 7,
    "start_time": "2022-03-17T15:30:21.658Z"
   },
   {
    "duration": 205,
    "start_time": "2022-03-17T15:30:21.666Z"
   },
   {
    "duration": 5,
    "start_time": "2022-03-17T15:30:21.873Z"
   },
   {
    "duration": 26,
    "start_time": "2022-03-17T15:30:21.879Z"
   },
   {
    "duration": 824,
    "start_time": "2022-03-17T15:31:50.646Z"
   },
   {
    "duration": 12,
    "start_time": "2022-03-17T16:36:21.561Z"
   },
   {
    "duration": 16,
    "start_time": "2022-03-17T16:42:44.818Z"
   },
   {
    "duration": 4,
    "start_time": "2022-03-17T16:50:28.411Z"
   },
   {
    "duration": 91,
    "start_time": "2022-03-17T16:50:28.419Z"
   },
   {
    "duration": 30,
    "start_time": "2022-03-17T16:50:28.513Z"
   },
   {
    "duration": 1078,
    "start_time": "2022-03-17T16:50:28.545Z"
   },
   {
    "duration": 408,
    "start_time": "2022-03-17T16:50:29.625Z"
   },
   {
    "duration": 16,
    "start_time": "2022-03-17T16:50:30.038Z"
   },
   {
    "duration": 11,
    "start_time": "2022-03-17T16:50:30.056Z"
   },
   {
    "duration": 81,
    "start_time": "2022-03-17T16:50:30.069Z"
   },
   {
    "duration": 29,
    "start_time": "2022-03-17T16:50:30.152Z"
   },
   {
    "duration": 8,
    "start_time": "2022-03-17T16:50:30.183Z"
   },
   {
    "duration": 14,
    "start_time": "2022-03-17T16:50:30.193Z"
   },
   {
    "duration": 33,
    "start_time": "2022-03-17T16:50:30.209Z"
   },
   {
    "duration": 15,
    "start_time": "2022-03-17T16:50:30.244Z"
   },
   {
    "duration": 14,
    "start_time": "2022-03-17T16:50:30.261Z"
   },
   {
    "duration": 9,
    "start_time": "2022-03-17T16:50:30.279Z"
   },
   {
    "duration": 9,
    "start_time": "2022-03-17T16:50:30.289Z"
   },
   {
    "duration": 9,
    "start_time": "2022-03-17T16:50:30.300Z"
   },
   {
    "duration": 226,
    "start_time": "2022-03-17T16:50:30.311Z"
   },
   {
    "duration": 6,
    "start_time": "2022-03-17T16:50:30.539Z"
   },
   {
    "duration": 24,
    "start_time": "2022-03-17T16:50:30.547Z"
   },
   {
    "duration": 22,
    "start_time": "2022-03-17T16:50:30.573Z"
   },
   {
    "duration": 12,
    "start_time": "2022-03-17T16:50:30.597Z"
   },
   {
    "duration": 112,
    "start_time": "2022-03-17T16:51:30.036Z"
   },
   {
    "duration": 14,
    "start_time": "2022-03-17T17:02:28.737Z"
   },
   {
    "duration": 13,
    "start_time": "2022-03-17T17:02:33.535Z"
   },
   {
    "duration": 15,
    "start_time": "2022-03-17T17:02:47.025Z"
   },
   {
    "duration": 18,
    "start_time": "2022-03-17T17:03:37.426Z"
   },
   {
    "duration": 19,
    "start_time": "2022-03-17T17:03:55.000Z"
   },
   {
    "duration": 11,
    "start_time": "2022-03-17T17:04:25.389Z"
   },
   {
    "duration": 15,
    "start_time": "2022-03-17T17:06:38.254Z"
   },
   {
    "duration": 10,
    "start_time": "2022-03-17T17:58:05.311Z"
   },
   {
    "duration": 23,
    "start_time": "2022-03-17T17:58:11.896Z"
   },
   {
    "duration": 35,
    "start_time": "2022-03-17T18:00:45.994Z"
   },
   {
    "duration": 4,
    "start_time": "2022-03-17T18:07:16.384Z"
   },
   {
    "duration": 8,
    "start_time": "2022-03-17T18:08:00.266Z"
   },
   {
    "duration": 24,
    "start_time": "2022-03-17T18:10:47.742Z"
   },
   {
    "duration": 297,
    "start_time": "2022-03-17T19:43:03.149Z"
   },
   {
    "duration": 94,
    "start_time": "2022-03-17T19:43:03.449Z"
   },
   {
    "duration": 14,
    "start_time": "2022-03-17T19:43:03.544Z"
   },
   {
    "duration": 1057,
    "start_time": "2022-03-17T19:43:03.560Z"
   },
   {
    "duration": 485,
    "start_time": "2022-03-17T19:43:04.619Z"
   },
   {
    "duration": 14,
    "start_time": "2022-03-17T19:43:05.106Z"
   },
   {
    "duration": 24,
    "start_time": "2022-03-17T19:43:05.122Z"
   },
   {
    "duration": 54,
    "start_time": "2022-03-17T19:43:05.148Z"
   },
   {
    "duration": 46,
    "start_time": "2022-03-17T19:43:05.203Z"
   },
   {
    "duration": 8,
    "start_time": "2022-03-17T19:43:05.252Z"
   },
   {
    "duration": 12,
    "start_time": "2022-03-17T19:43:05.262Z"
   },
   {
    "duration": 11,
    "start_time": "2022-03-17T19:43:05.275Z"
   },
   {
    "duration": 10,
    "start_time": "2022-03-17T19:43:05.287Z"
   },
   {
    "duration": 8,
    "start_time": "2022-03-17T19:43:05.299Z"
   },
   {
    "duration": 30,
    "start_time": "2022-03-17T19:43:05.309Z"
   },
   {
    "duration": 8,
    "start_time": "2022-03-17T19:43:05.341Z"
   },
   {
    "duration": 10,
    "start_time": "2022-03-17T19:43:05.351Z"
   },
   {
    "duration": 203,
    "start_time": "2022-03-17T19:43:05.362Z"
   },
   {
    "duration": 5,
    "start_time": "2022-03-17T19:43:05.567Z"
   },
   {
    "duration": 21,
    "start_time": "2022-03-17T19:43:05.574Z"
   },
   {
    "duration": 17,
    "start_time": "2022-03-17T19:43:05.597Z"
   },
   {
    "duration": 27,
    "start_time": "2022-03-17T19:43:05.638Z"
   },
   {
    "duration": 8,
    "start_time": "2022-03-17T19:43:05.667Z"
   },
   {
    "duration": 62,
    "start_time": "2022-03-17T19:43:05.677Z"
   },
   {
    "duration": 24,
    "start_time": "2022-03-17T20:05:54.106Z"
   },
   {
    "duration": 15,
    "start_time": "2022-03-17T20:06:11.652Z"
   },
   {
    "duration": 29,
    "start_time": "2022-03-17T20:06:20.305Z"
   },
   {
    "duration": 28,
    "start_time": "2022-03-17T20:09:52.974Z"
   },
   {
    "duration": 113,
    "start_time": "2022-03-17T20:10:16.876Z"
   },
   {
    "duration": 32,
    "start_time": "2022-03-17T20:10:21.027Z"
   },
   {
    "duration": 27,
    "start_time": "2022-03-17T20:10:28.084Z"
   },
   {
    "duration": 20,
    "start_time": "2022-03-17T20:13:58.568Z"
   },
   {
    "duration": 14,
    "start_time": "2022-03-17T20:14:04.740Z"
   },
   {
    "duration": 22,
    "start_time": "2022-03-17T20:14:33.105Z"
   },
   {
    "duration": 22,
    "start_time": "2022-03-17T20:14:36.860Z"
   },
   {
    "duration": 21,
    "start_time": "2022-03-17T20:14:57.288Z"
   },
   {
    "duration": 19,
    "start_time": "2022-03-17T20:15:28.349Z"
   },
   {
    "duration": 22,
    "start_time": "2022-03-17T20:15:46.990Z"
   },
   {
    "duration": 11,
    "start_time": "2022-03-17T20:20:40.065Z"
   },
   {
    "duration": 11,
    "start_time": "2022-03-17T20:20:49.803Z"
   },
   {
    "duration": 2244,
    "start_time": "2022-03-17T20:26:20.910Z"
   },
   {
    "duration": 4,
    "start_time": "2022-03-17T20:29:00.109Z"
   },
   {
    "duration": 92,
    "start_time": "2022-03-17T20:29:00.117Z"
   },
   {
    "duration": 31,
    "start_time": "2022-03-17T20:29:00.211Z"
   },
   {
    "duration": 1044,
    "start_time": "2022-03-17T20:29:00.244Z"
   },
   {
    "duration": 391,
    "start_time": "2022-03-17T20:29:01.290Z"
   },
   {
    "duration": 14,
    "start_time": "2022-03-17T20:29:01.683Z"
   },
   {
    "duration": 15,
    "start_time": "2022-03-17T20:29:01.699Z"
   },
   {
    "duration": 78,
    "start_time": "2022-03-17T20:29:01.715Z"
   },
   {
    "duration": 44,
    "start_time": "2022-03-17T20:29:01.796Z"
   },
   {
    "duration": 8,
    "start_time": "2022-03-17T20:29:01.842Z"
   },
   {
    "duration": 26,
    "start_time": "2022-03-17T20:29:01.853Z"
   },
   {
    "duration": 13,
    "start_time": "2022-03-17T20:29:01.881Z"
   },
   {
    "duration": 10,
    "start_time": "2022-03-17T20:29:01.895Z"
   },
   {
    "duration": 7,
    "start_time": "2022-03-17T20:29:01.907Z"
   },
   {
    "duration": 9,
    "start_time": "2022-03-17T20:29:01.916Z"
   },
   {
    "duration": 8,
    "start_time": "2022-03-17T20:29:01.937Z"
   },
   {
    "duration": 8,
    "start_time": "2022-03-17T20:29:01.946Z"
   },
   {
    "duration": 205,
    "start_time": "2022-03-17T20:29:01.956Z"
   },
   {
    "duration": 5,
    "start_time": "2022-03-17T20:29:02.163Z"
   },
   {
    "duration": 18,
    "start_time": "2022-03-17T20:29:02.170Z"
   },
   {
    "duration": 13,
    "start_time": "2022-03-17T20:29:02.190Z"
   },
   {
    "duration": 54,
    "start_time": "2022-03-17T20:29:02.204Z"
   },
   {
    "duration": 6,
    "start_time": "2022-03-17T20:29:02.260Z"
   },
   {
    "duration": 22,
    "start_time": "2022-03-17T20:29:02.268Z"
   },
   {
    "duration": 53,
    "start_time": "2022-03-17T20:29:02.292Z"
   },
   {
    "duration": 2201,
    "start_time": "2022-03-17T20:29:02.347Z"
   },
   {
    "duration": 0,
    "start_time": "2022-03-17T20:29:04.550Z"
   },
   {
    "duration": 15,
    "start_time": "2022-03-17T20:29:58.768Z"
   },
   {
    "duration": 14,
    "start_time": "2022-03-17T20:30:10.546Z"
   },
   {
    "duration": 15,
    "start_time": "2022-03-17T20:30:20.727Z"
   },
   {
    "duration": 13,
    "start_time": "2022-03-17T20:30:28.428Z"
   },
   {
    "duration": 16,
    "start_time": "2022-03-17T20:30:36.753Z"
   },
   {
    "duration": 16,
    "start_time": "2022-03-17T20:30:42.330Z"
   },
   {
    "duration": 14,
    "start_time": "2022-03-17T20:30:52.172Z"
   },
   {
    "duration": 19,
    "start_time": "2022-03-17T20:32:58.623Z"
   },
   {
    "duration": 19,
    "start_time": "2022-03-17T20:33:00.605Z"
   },
   {
    "duration": 13,
    "start_time": "2022-03-17T20:33:02.364Z"
   },
   {
    "duration": 260,
    "start_time": "2022-03-17T20:33:22.985Z"
   },
   {
    "duration": 52,
    "start_time": "2022-03-17T20:33:27.979Z"
   },
   {
    "duration": 72,
    "start_time": "2022-03-17T20:34:12.485Z"
   },
   {
    "duration": 4,
    "start_time": "2022-03-17T20:34:32.106Z"
   },
   {
    "duration": 100,
    "start_time": "2022-03-17T20:34:32.115Z"
   },
   {
    "duration": 26,
    "start_time": "2022-03-17T20:34:32.217Z"
   },
   {
    "duration": 1002,
    "start_time": "2022-03-17T20:34:32.244Z"
   },
   {
    "duration": 345,
    "start_time": "2022-03-17T20:34:33.247Z"
   },
   {
    "duration": 14,
    "start_time": "2022-03-17T20:34:33.595Z"
   },
   {
    "duration": 28,
    "start_time": "2022-03-17T20:34:33.611Z"
   },
   {
    "duration": 53,
    "start_time": "2022-03-17T20:34:33.641Z"
   },
   {
    "duration": 50,
    "start_time": "2022-03-17T20:34:33.696Z"
   },
   {
    "duration": 8,
    "start_time": "2022-03-17T20:34:33.747Z"
   },
   {
    "duration": 7,
    "start_time": "2022-03-17T20:34:33.757Z"
   },
   {
    "duration": 7,
    "start_time": "2022-03-17T20:34:33.766Z"
   },
   {
    "duration": 8,
    "start_time": "2022-03-17T20:34:33.774Z"
   },
   {
    "duration": 7,
    "start_time": "2022-03-17T20:34:33.783Z"
   },
   {
    "duration": 5,
    "start_time": "2022-03-17T20:34:33.792Z"
   },
   {
    "duration": 7,
    "start_time": "2022-03-17T20:34:33.798Z"
   },
   {
    "duration": 6,
    "start_time": "2022-03-17T20:34:33.838Z"
   },
   {
    "duration": 191,
    "start_time": "2022-03-17T20:34:33.846Z"
   },
   {
    "duration": 6,
    "start_time": "2022-03-17T20:34:34.039Z"
   },
   {
    "duration": 13,
    "start_time": "2022-03-17T20:34:34.046Z"
   },
   {
    "duration": 14,
    "start_time": "2022-03-17T20:34:34.061Z"
   },
   {
    "duration": 24,
    "start_time": "2022-03-17T20:34:34.077Z"
   },
   {
    "duration": 7,
    "start_time": "2022-03-17T20:34:34.138Z"
   },
   {
    "duration": 21,
    "start_time": "2022-03-17T20:34:34.147Z"
   },
   {
    "duration": 20,
    "start_time": "2022-03-17T20:34:34.170Z"
   },
   {
    "duration": 106,
    "start_time": "2022-03-17T20:34:34.192Z"
   },
   {
    "duration": 10,
    "start_time": "2022-03-17T20:34:34.300Z"
   },
   {
    "duration": 152,
    "start_time": "2022-03-17T20:35:54.144Z"
   },
   {
    "duration": 32,
    "start_time": "2022-03-17T20:36:44.634Z"
   },
   {
    "duration": 127,
    "start_time": "2022-03-17T20:36:55.854Z"
   },
   {
    "duration": 10,
    "start_time": "2022-03-17T20:37:00.563Z"
   },
   {
    "duration": 132,
    "start_time": "2022-03-17T20:37:37.118Z"
   },
   {
    "duration": 134,
    "start_time": "2022-03-17T20:38:41.469Z"
   },
   {
    "duration": 2126,
    "start_time": "2022-03-18T15:09:58.602Z"
   },
   {
    "duration": 155,
    "start_time": "2022-03-18T15:10:00.731Z"
   },
   {
    "duration": 20,
    "start_time": "2022-03-18T15:10:00.889Z"
   },
   {
    "duration": 1727,
    "start_time": "2022-03-18T15:10:00.913Z"
   },
   {
    "duration": 489,
    "start_time": "2022-03-18T15:10:02.642Z"
   },
   {
    "duration": 35,
    "start_time": "2022-03-18T15:10:03.134Z"
   },
   {
    "duration": 17,
    "start_time": "2022-03-18T15:10:03.172Z"
   },
   {
    "duration": 114,
    "start_time": "2022-03-18T15:10:03.191Z"
   },
   {
    "duration": 44,
    "start_time": "2022-03-18T15:10:03.308Z"
   },
   {
    "duration": 12,
    "start_time": "2022-03-18T15:10:03.369Z"
   },
   {
    "duration": 14,
    "start_time": "2022-03-18T15:10:03.383Z"
   },
   {
    "duration": 10,
    "start_time": "2022-03-18T15:10:03.399Z"
   },
   {
    "duration": 10,
    "start_time": "2022-03-18T15:10:03.412Z"
   },
   {
    "duration": 45,
    "start_time": "2022-03-18T15:10:03.424Z"
   },
   {
    "duration": 10,
    "start_time": "2022-03-18T15:10:03.472Z"
   },
   {
    "duration": 9,
    "start_time": "2022-03-18T15:10:03.485Z"
   },
   {
    "duration": 10,
    "start_time": "2022-03-18T15:10:03.496Z"
   },
   {
    "duration": 351,
    "start_time": "2022-03-18T15:10:03.509Z"
   },
   {
    "duration": 11,
    "start_time": "2022-03-18T15:10:03.862Z"
   },
   {
    "duration": 24,
    "start_time": "2022-03-18T15:10:03.876Z"
   },
   {
    "duration": 21,
    "start_time": "2022-03-18T15:10:03.902Z"
   },
   {
    "duration": 70,
    "start_time": "2022-03-18T15:10:03.925Z"
   },
   {
    "duration": 8,
    "start_time": "2022-03-18T15:10:03.998Z"
   },
   {
    "duration": 66,
    "start_time": "2022-03-18T15:10:04.009Z"
   },
   {
    "duration": 31,
    "start_time": "2022-03-18T15:10:04.077Z"
   },
   {
    "duration": 276,
    "start_time": "2022-03-18T15:10:04.110Z"
   },
   {
    "duration": 216,
    "start_time": "2022-03-18T15:11:24.929Z"
   },
   {
    "duration": 251,
    "start_time": "2022-03-18T15:11:53.163Z"
   },
   {
    "duration": 15,
    "start_time": "2022-03-18T15:39:49.362Z"
   },
   {
    "duration": 2361,
    "start_time": "2022-03-18T15:39:58.026Z"
   },
   {
    "duration": 5,
    "start_time": "2022-03-18T15:40:14.864Z"
   },
   {
    "duration": 211,
    "start_time": "2022-03-18T15:40:14.878Z"
   },
   {
    "duration": 21,
    "start_time": "2022-03-18T15:40:15.092Z"
   },
   {
    "duration": 2638,
    "start_time": "2022-03-18T15:40:15.115Z"
   },
   {
    "duration": 505,
    "start_time": "2022-03-18T15:40:17.755Z"
   },
   {
    "duration": 31,
    "start_time": "2022-03-18T15:40:18.267Z"
   },
   {
    "duration": 23,
    "start_time": "2022-03-18T15:40:18.301Z"
   },
   {
    "duration": 186,
    "start_time": "2022-03-18T15:40:18.327Z"
   },
   {
    "duration": 63,
    "start_time": "2022-03-18T15:40:18.516Z"
   },
   {
    "duration": 17,
    "start_time": "2022-03-18T15:40:18.582Z"
   },
   {
    "duration": 13,
    "start_time": "2022-03-18T15:40:18.602Z"
   },
   {
    "duration": 10,
    "start_time": "2022-03-18T15:40:18.617Z"
   },
   {
    "duration": 50,
    "start_time": "2022-03-18T15:40:18.630Z"
   },
   {
    "duration": 22,
    "start_time": "2022-03-18T15:40:18.683Z"
   },
   {
    "duration": 13,
    "start_time": "2022-03-18T15:40:18.709Z"
   },
   {
    "duration": 9,
    "start_time": "2022-03-18T15:40:18.724Z"
   },
   {
    "duration": 36,
    "start_time": "2022-03-18T15:40:18.735Z"
   },
   {
    "duration": 384,
    "start_time": "2022-03-18T15:40:18.774Z"
   },
   {
    "duration": 12,
    "start_time": "2022-03-18T15:40:19.169Z"
   },
   {
    "duration": 38,
    "start_time": "2022-03-18T15:40:19.187Z"
   },
   {
    "duration": 47,
    "start_time": "2022-03-18T15:40:19.229Z"
   },
   {
    "duration": 39,
    "start_time": "2022-03-18T15:40:19.280Z"
   },
   {
    "duration": 10,
    "start_time": "2022-03-18T15:40:19.322Z"
   },
   {
    "duration": 70,
    "start_time": "2022-03-18T15:40:19.336Z"
   },
   {
    "duration": 72,
    "start_time": "2022-03-18T15:40:19.408Z"
   },
   {
    "duration": 300,
    "start_time": "2022-03-18T15:40:19.484Z"
   },
   {
    "duration": 5,
    "start_time": "2022-03-18T15:43:53.527Z"
   },
   {
    "duration": 239,
    "start_time": "2022-03-18T15:43:53.542Z"
   },
   {
    "duration": 36,
    "start_time": "2022-03-18T15:43:53.786Z"
   },
   {
    "duration": 3047,
    "start_time": "2022-03-18T15:43:53.826Z"
   },
   {
    "duration": 840,
    "start_time": "2022-03-18T15:43:56.877Z"
   },
   {
    "duration": 47,
    "start_time": "2022-03-18T15:43:57.723Z"
   },
   {
    "duration": 25,
    "start_time": "2022-03-18T15:43:57.773Z"
   },
   {
    "duration": 175,
    "start_time": "2022-03-18T15:43:57.802Z"
   },
   {
    "duration": 49,
    "start_time": "2022-03-18T15:43:57.981Z"
   },
   {
    "duration": 41,
    "start_time": "2022-03-18T15:43:58.032Z"
   },
   {
    "duration": 20,
    "start_time": "2022-03-18T15:43:58.075Z"
   },
   {
    "duration": 9,
    "start_time": "2022-03-18T15:43:58.097Z"
   },
   {
    "duration": 11,
    "start_time": "2022-03-18T15:43:58.108Z"
   },
   {
    "duration": 9,
    "start_time": "2022-03-18T15:43:58.121Z"
   },
   {
    "duration": 43,
    "start_time": "2022-03-18T15:43:58.134Z"
   },
   {
    "duration": 13,
    "start_time": "2022-03-18T15:43:58.180Z"
   },
   {
    "duration": 10,
    "start_time": "2022-03-18T15:43:58.195Z"
   },
   {
    "duration": 372,
    "start_time": "2022-03-18T15:43:58.207Z"
   },
   {
    "duration": 9,
    "start_time": "2022-03-18T15:43:58.582Z"
   },
   {
    "duration": 24,
    "start_time": "2022-03-18T15:43:58.594Z"
   },
   {
    "duration": 74,
    "start_time": "2022-03-18T15:43:58.621Z"
   },
   {
    "duration": 40,
    "start_time": "2022-03-18T15:43:58.698Z"
   },
   {
    "duration": 36,
    "start_time": "2022-03-18T15:43:58.741Z"
   },
   {
    "duration": 36,
    "start_time": "2022-03-18T15:43:58.783Z"
   },
   {
    "duration": 66,
    "start_time": "2022-03-18T15:43:58.822Z"
   },
   {
    "duration": 262,
    "start_time": "2022-03-18T15:43:58.891Z"
   },
   {
    "duration": 67,
    "start_time": "2022-03-18T16:31:30.196Z"
   },
   {
    "duration": 8,
    "start_time": "2022-03-18T16:31:32.805Z"
   },
   {
    "duration": 154,
    "start_time": "2022-03-18T16:31:32.821Z"
   },
   {
    "duration": 22,
    "start_time": "2022-03-18T16:31:32.980Z"
   },
   {
    "duration": 1590,
    "start_time": "2022-03-18T16:31:33.004Z"
   },
   {
    "duration": 665,
    "start_time": "2022-03-18T16:31:34.597Z"
   },
   {
    "duration": 20,
    "start_time": "2022-03-18T16:31:35.269Z"
   },
   {
    "duration": 17,
    "start_time": "2022-03-18T16:31:35.291Z"
   },
   {
    "duration": 123,
    "start_time": "2022-03-18T16:31:35.310Z"
   },
   {
    "duration": 64,
    "start_time": "2022-03-18T16:31:35.436Z"
   },
   {
    "duration": 13,
    "start_time": "2022-03-18T16:31:35.502Z"
   },
   {
    "duration": 36,
    "start_time": "2022-03-18T16:31:35.517Z"
   },
   {
    "duration": 16,
    "start_time": "2022-03-18T16:31:35.556Z"
   },
   {
    "duration": 10,
    "start_time": "2022-03-18T16:31:35.574Z"
   },
   {
    "duration": 9,
    "start_time": "2022-03-18T16:31:35.587Z"
   },
   {
    "duration": 7,
    "start_time": "2022-03-18T16:31:35.600Z"
   },
   {
    "duration": 8,
    "start_time": "2022-03-18T16:31:35.610Z"
   },
   {
    "duration": 56,
    "start_time": "2022-03-18T16:31:35.620Z"
   },
   {
    "duration": 366,
    "start_time": "2022-03-18T16:31:35.679Z"
   },
   {
    "duration": 21,
    "start_time": "2022-03-18T16:31:36.047Z"
   },
   {
    "duration": 22,
    "start_time": "2022-03-18T16:31:36.070Z"
   },
   {
    "duration": 160,
    "start_time": "2022-03-18T16:31:36.095Z"
   },
   {
    "duration": 62,
    "start_time": "2022-03-18T16:31:36.257Z"
   },
   {
    "duration": 12,
    "start_time": "2022-03-18T16:31:36.321Z"
   },
   {
    "duration": 62,
    "start_time": "2022-03-18T16:31:36.336Z"
   },
   {
    "duration": 66,
    "start_time": "2022-03-18T16:31:36.401Z"
   },
   {
    "duration": 252,
    "start_time": "2022-03-18T16:31:36.470Z"
   },
   {
    "duration": 26,
    "start_time": "2022-03-18T17:22:49.458Z"
   },
   {
    "duration": 151,
    "start_time": "2022-03-18T17:23:00.266Z"
   },
   {
    "duration": 119,
    "start_time": "2022-03-18T17:23:29.625Z"
   },
   {
    "duration": 289,
    "start_time": "2022-03-18T17:23:43.205Z"
   },
   {
    "duration": 379,
    "start_time": "2022-03-18T17:25:39.692Z"
   },
   {
    "duration": 5136,
    "start_time": "2022-03-18T17:25:51.900Z"
   },
   {
    "duration": 5223,
    "start_time": "2022-03-18T17:26:22.039Z"
   },
   {
    "duration": 40,
    "start_time": "2022-03-18T17:41:25.176Z"
   },
   {
    "duration": 7,
    "start_time": "2022-03-18T17:41:33.190Z"
   },
   {
    "duration": 239,
    "start_time": "2022-03-18T17:41:33.203Z"
   },
   {
    "duration": 43,
    "start_time": "2022-03-18T17:41:33.447Z"
   },
   {
    "duration": 1596,
    "start_time": "2022-03-18T17:41:33.493Z"
   },
   {
    "duration": 557,
    "start_time": "2022-03-18T17:41:35.092Z"
   },
   {
    "duration": 31,
    "start_time": "2022-03-18T17:41:35.654Z"
   },
   {
    "duration": 17,
    "start_time": "2022-03-18T17:41:35.688Z"
   },
   {
    "duration": 118,
    "start_time": "2022-03-18T17:41:35.707Z"
   },
   {
    "duration": 57,
    "start_time": "2022-03-18T17:41:35.828Z"
   },
   {
    "duration": 12,
    "start_time": "2022-03-18T17:41:35.887Z"
   },
   {
    "duration": 25,
    "start_time": "2022-03-18T17:41:35.902Z"
   },
   {
    "duration": 14,
    "start_time": "2022-03-18T17:41:35.930Z"
   },
   {
    "duration": 25,
    "start_time": "2022-03-18T17:41:35.947Z"
   },
   {
    "duration": 10,
    "start_time": "2022-03-18T17:41:35.974Z"
   },
   {
    "duration": 25,
    "start_time": "2022-03-18T17:41:35.989Z"
   },
   {
    "duration": 17,
    "start_time": "2022-03-18T17:41:36.017Z"
   },
   {
    "duration": 33,
    "start_time": "2022-03-18T17:41:36.036Z"
   },
   {
    "duration": 350,
    "start_time": "2022-03-18T17:41:36.072Z"
   },
   {
    "duration": 10,
    "start_time": "2022-03-18T17:41:36.425Z"
   },
   {
    "duration": 53,
    "start_time": "2022-03-18T17:41:36.437Z"
   },
   {
    "duration": 26,
    "start_time": "2022-03-18T17:41:36.493Z"
   },
   {
    "duration": 75,
    "start_time": "2022-03-18T17:41:36.521Z"
   },
   {
    "duration": 9,
    "start_time": "2022-03-18T17:41:36.598Z"
   },
   {
    "duration": 72,
    "start_time": "2022-03-18T17:41:36.610Z"
   },
   {
    "duration": 44,
    "start_time": "2022-03-18T17:41:36.685Z"
   },
   {
    "duration": 404,
    "start_time": "2022-03-18T17:41:36.732Z"
   },
   {
    "duration": 5536,
    "start_time": "2022-03-18T17:41:37.139Z"
   },
   {
    "duration": 908,
    "start_time": "2022-03-18T17:41:51.227Z"
   },
   {
    "duration": 793,
    "start_time": "2022-03-18T18:56:42.174Z"
   },
   {
    "duration": 797,
    "start_time": "2022-03-18T19:00:40.312Z"
   },
   {
    "duration": 2244,
    "start_time": "2022-03-18T20:00:05.898Z"
   },
   {
    "duration": 198774,
    "start_time": "2022-03-18T20:00:21.647Z"
   },
   {
    "duration": 2273,
    "start_time": "2022-03-18T20:03:58.203Z"
   },
   {
    "duration": 174,
    "start_time": "2022-03-18T20:19:58.104Z"
   },
   {
    "duration": 304,
    "start_time": "2022-03-18T20:23:48.671Z"
   },
   {
    "duration": 7,
    "start_time": "2022-03-18T20:24:17.186Z"
   },
   {
    "duration": 137,
    "start_time": "2022-03-18T20:24:17.198Z"
   },
   {
    "duration": 40,
    "start_time": "2022-03-18T20:24:17.339Z"
   },
   {
    "duration": 1497,
    "start_time": "2022-03-18T20:24:17.381Z"
   },
   {
    "duration": 518,
    "start_time": "2022-03-18T20:24:18.881Z"
   },
   {
    "duration": 22,
    "start_time": "2022-03-18T20:24:19.404Z"
   },
   {
    "duration": 47,
    "start_time": "2022-03-18T20:24:19.430Z"
   },
   {
    "duration": 105,
    "start_time": "2022-03-18T20:24:19.479Z"
   },
   {
    "duration": 43,
    "start_time": "2022-03-18T20:24:19.587Z"
   },
   {
    "duration": 12,
    "start_time": "2022-03-18T20:24:19.632Z"
   },
   {
    "duration": 12,
    "start_time": "2022-03-18T20:24:19.668Z"
   },
   {
    "duration": 9,
    "start_time": "2022-03-18T20:24:19.682Z"
   },
   {
    "duration": 8,
    "start_time": "2022-03-18T20:24:19.693Z"
   },
   {
    "duration": 8,
    "start_time": "2022-03-18T20:24:19.704Z"
   },
   {
    "duration": 54,
    "start_time": "2022-03-18T20:24:19.717Z"
   },
   {
    "duration": 7,
    "start_time": "2022-03-18T20:24:19.774Z"
   },
   {
    "duration": 8,
    "start_time": "2022-03-18T20:24:19.784Z"
   },
   {
    "duration": 343,
    "start_time": "2022-03-18T20:24:19.794Z"
   },
   {
    "duration": 7,
    "start_time": "2022-03-18T20:24:20.139Z"
   },
   {
    "duration": 21,
    "start_time": "2022-03-18T20:24:20.167Z"
   },
   {
    "duration": 139,
    "start_time": "2022-03-18T20:24:20.190Z"
   },
   {
    "duration": 54,
    "start_time": "2022-03-18T20:24:20.332Z"
   },
   {
    "duration": 9,
    "start_time": "2022-03-18T20:24:20.388Z"
   },
   {
    "duration": 71,
    "start_time": "2022-03-18T20:24:20.399Z"
   },
   {
    "duration": 37,
    "start_time": "2022-03-18T20:24:20.473Z"
   },
   {
    "duration": 293,
    "start_time": "2022-03-18T20:24:20.513Z"
   },
   {
    "duration": 788,
    "start_time": "2022-03-18T20:24:20.809Z"
   },
   {
    "duration": 2354,
    "start_time": "2022-03-18T20:24:21.599Z"
   },
   {
    "duration": 418,
    "start_time": "2022-03-18T20:24:23.955Z"
   },
   {
    "duration": 788,
    "start_time": "2022-03-18T20:27:02.048Z"
   },
   {
    "duration": 2244,
    "start_time": "2022-03-18T20:27:55.272Z"
   },
   {
    "duration": 2269,
    "start_time": "2022-03-18T20:28:40.890Z"
   },
   {
    "duration": 366,
    "start_time": "2022-03-18T20:32:33.203Z"
   },
   {
    "duration": 843,
    "start_time": "2022-03-18T20:57:37.658Z"
   },
   {
    "duration": 808,
    "start_time": "2022-03-18T21:06:20.385Z"
   },
   {
    "duration": 2251,
    "start_time": "2022-03-18T21:25:53.117Z"
   },
   {
    "duration": 408,
    "start_time": "2022-03-18T21:30:57.361Z"
   },
   {
    "duration": 6,
    "start_time": "2022-03-18T22:01:36.806Z"
   },
   {
    "duration": 157,
    "start_time": "2022-03-18T22:01:36.815Z"
   },
   {
    "duration": 21,
    "start_time": "2022-03-18T22:01:36.974Z"
   },
   {
    "duration": 1617,
    "start_time": "2022-03-18T22:01:36.998Z"
   },
   {
    "duration": 531,
    "start_time": "2022-03-18T22:01:38.618Z"
   },
   {
    "duration": 29,
    "start_time": "2022-03-18T22:01:39.151Z"
   },
   {
    "duration": 18,
    "start_time": "2022-03-18T22:01:39.183Z"
   },
   {
    "duration": 128,
    "start_time": "2022-03-18T22:01:39.203Z"
   },
   {
    "duration": 63,
    "start_time": "2022-03-18T22:01:39.333Z"
   },
   {
    "duration": 14,
    "start_time": "2022-03-18T22:01:39.400Z"
   },
   {
    "duration": 10,
    "start_time": "2022-03-18T22:01:39.416Z"
   },
   {
    "duration": 40,
    "start_time": "2022-03-18T22:01:39.428Z"
   },
   {
    "duration": 9,
    "start_time": "2022-03-18T22:01:39.471Z"
   },
   {
    "duration": 10,
    "start_time": "2022-03-18T22:01:39.483Z"
   },
   {
    "duration": 10,
    "start_time": "2022-03-18T22:01:39.496Z"
   },
   {
    "duration": 15,
    "start_time": "2022-03-18T22:01:39.508Z"
   },
   {
    "duration": 46,
    "start_time": "2022-03-18T22:01:39.527Z"
   },
   {
    "duration": 339,
    "start_time": "2022-03-18T22:01:39.575Z"
   },
   {
    "duration": 9,
    "start_time": "2022-03-18T22:01:39.917Z"
   },
   {
    "duration": 51,
    "start_time": "2022-03-18T22:01:39.929Z"
   },
   {
    "duration": 25,
    "start_time": "2022-03-18T22:01:39.984Z"
   },
   {
    "duration": 70,
    "start_time": "2022-03-18T22:01:40.012Z"
   },
   {
    "duration": 10,
    "start_time": "2022-03-18T22:01:40.084Z"
   },
   {
    "duration": 36,
    "start_time": "2022-03-18T22:01:40.096Z"
   },
   {
    "duration": 30,
    "start_time": "2022-03-18T22:01:40.169Z"
   },
   {
    "duration": 273,
    "start_time": "2022-03-18T22:01:40.201Z"
   },
   {
    "duration": 845,
    "start_time": "2022-03-18T22:01:40.476Z"
   },
   {
    "duration": 2324,
    "start_time": "2022-03-18T22:01:41.326Z"
   },
   {
    "duration": 405,
    "start_time": "2022-03-18T22:01:43.667Z"
   },
   {
    "duration": 909,
    "start_time": "2022-03-18T22:01:44.075Z"
   },
   {
    "duration": 3087,
    "start_time": "2022-03-18T22:01:44.987Z"
   },
   {
    "duration": 393,
    "start_time": "2022-03-18T22:01:48.077Z"
   },
   {
    "duration": 4,
    "start_time": "2022-03-18T22:01:48.472Z"
   },
   {
    "duration": 1061,
    "start_time": "2022-03-18T22:17:24.491Z"
   },
   {
    "duration": 55,
    "start_time": "2022-03-18T22:26:11.160Z"
   },
   {
    "duration": 7,
    "start_time": "2022-03-18T22:26:17.492Z"
   },
   {
    "duration": 149,
    "start_time": "2022-03-18T22:26:17.501Z"
   },
   {
    "duration": 39,
    "start_time": "2022-03-18T22:26:17.652Z"
   },
   {
    "duration": 1639,
    "start_time": "2022-03-18T22:26:17.695Z"
   },
   {
    "duration": 508,
    "start_time": "2022-03-18T22:26:19.336Z"
   },
   {
    "duration": 45,
    "start_time": "2022-03-18T22:26:19.846Z"
   },
   {
    "duration": 17,
    "start_time": "2022-03-18T22:26:19.894Z"
   },
   {
    "duration": 118,
    "start_time": "2022-03-18T22:26:19.913Z"
   },
   {
    "duration": 62,
    "start_time": "2022-03-18T22:26:20.033Z"
   },
   {
    "duration": 12,
    "start_time": "2022-03-18T22:26:20.099Z"
   },
   {
    "duration": 9,
    "start_time": "2022-03-18T22:26:20.114Z"
   },
   {
    "duration": 10,
    "start_time": "2022-03-18T22:26:20.125Z"
   },
   {
    "duration": 10,
    "start_time": "2022-03-18T22:26:20.171Z"
   },
   {
    "duration": 8,
    "start_time": "2022-03-18T22:26:20.183Z"
   },
   {
    "duration": 11,
    "start_time": "2022-03-18T22:26:20.193Z"
   },
   {
    "duration": 11,
    "start_time": "2022-03-18T22:26:20.206Z"
   },
   {
    "duration": 9,
    "start_time": "2022-03-18T22:26:20.219Z"
   },
   {
    "duration": 412,
    "start_time": "2022-03-18T22:26:20.231Z"
   },
   {
    "duration": 29,
    "start_time": "2022-03-18T22:26:20.645Z"
   },
   {
    "duration": 25,
    "start_time": "2022-03-18T22:26:20.677Z"
   },
   {
    "duration": 31,
    "start_time": "2022-03-18T22:26:20.704Z"
   },
   {
    "duration": 65,
    "start_time": "2022-03-18T22:26:20.737Z"
   },
   {
    "duration": 9,
    "start_time": "2022-03-18T22:26:20.804Z"
   },
   {
    "duration": 69,
    "start_time": "2022-03-18T22:26:20.815Z"
   },
   {
    "duration": 32,
    "start_time": "2022-03-18T22:26:20.889Z"
   },
   {
    "duration": 287,
    "start_time": "2022-03-18T22:26:20.923Z"
   },
   {
    "duration": 994,
    "start_time": "2022-03-18T22:26:21.213Z"
   },
   {
    "duration": 0,
    "start_time": "2022-03-18T22:26:22.211Z"
   },
   {
    "duration": 0,
    "start_time": "2022-03-18T22:26:22.212Z"
   },
   {
    "duration": 0,
    "start_time": "2022-03-18T22:26:22.215Z"
   },
   {
    "duration": 0,
    "start_time": "2022-03-18T22:26:22.216Z"
   },
   {
    "duration": 0,
    "start_time": "2022-03-18T22:26:22.217Z"
   },
   {
    "duration": 0,
    "start_time": "2022-03-18T22:26:22.218Z"
   },
   {
    "duration": 7,
    "start_time": "2022-03-18T22:27:05.035Z"
   },
   {
    "duration": 180,
    "start_time": "2022-03-18T22:27:05.045Z"
   },
   {
    "duration": 21,
    "start_time": "2022-03-18T22:27:05.227Z"
   },
   {
    "duration": 1541,
    "start_time": "2022-03-18T22:27:05.269Z"
   },
   {
    "duration": 530,
    "start_time": "2022-03-18T22:27:06.813Z"
   },
   {
    "duration": 35,
    "start_time": "2022-03-18T22:27:07.346Z"
   },
   {
    "duration": 16,
    "start_time": "2022-03-18T22:27:07.384Z"
   },
   {
    "duration": 120,
    "start_time": "2022-03-18T22:27:07.402Z"
   },
   {
    "duration": 64,
    "start_time": "2022-03-18T22:27:07.524Z"
   },
   {
    "duration": 12,
    "start_time": "2022-03-18T22:27:07.592Z"
   },
   {
    "duration": 9,
    "start_time": "2022-03-18T22:27:07.606Z"
   },
   {
    "duration": 8,
    "start_time": "2022-03-18T22:27:07.617Z"
   },
   {
    "duration": 53,
    "start_time": "2022-03-18T22:27:07.627Z"
   },
   {
    "duration": 12,
    "start_time": "2022-03-18T22:27:07.683Z"
   },
   {
    "duration": 20,
    "start_time": "2022-03-18T22:27:07.697Z"
   },
   {
    "duration": 7,
    "start_time": "2022-03-18T22:27:07.719Z"
   },
   {
    "duration": 7,
    "start_time": "2022-03-18T22:27:07.729Z"
   },
   {
    "duration": 360,
    "start_time": "2022-03-18T22:27:07.738Z"
   },
   {
    "duration": 8,
    "start_time": "2022-03-18T22:27:08.100Z"
   },
   {
    "duration": 22,
    "start_time": "2022-03-18T22:27:08.110Z"
   },
   {
    "duration": 164,
    "start_time": "2022-03-18T22:27:08.134Z"
   },
   {
    "duration": 39,
    "start_time": "2022-03-18T22:27:08.301Z"
   },
   {
    "duration": 18,
    "start_time": "2022-03-18T22:27:08.368Z"
   },
   {
    "duration": 33,
    "start_time": "2022-03-18T22:27:08.389Z"
   },
   {
    "duration": 71,
    "start_time": "2022-03-18T22:27:08.424Z"
   },
   {
    "duration": 277,
    "start_time": "2022-03-18T22:27:08.497Z"
   },
   {
    "duration": 1141,
    "start_time": "2022-03-18T22:27:08.778Z"
   },
   {
    "duration": 2423,
    "start_time": "2022-03-18T22:27:09.926Z"
   },
   {
    "duration": 331,
    "start_time": "2022-03-18T22:27:12.352Z"
   },
   {
    "duration": 986,
    "start_time": "2022-03-18T22:27:12.768Z"
   },
   {
    "duration": 2418,
    "start_time": "2022-03-18T22:27:13.756Z"
   },
   {
    "duration": 706,
    "start_time": "2022-03-18T22:27:16.177Z"
   },
   {
    "duration": 4,
    "start_time": "2022-03-18T22:27:16.885Z"
   },
   {
    "duration": 984,
    "start_time": "2022-03-18T22:30:58.734Z"
   },
   {
    "duration": 983,
    "start_time": "2022-03-18T22:31:10.965Z"
   },
   {
    "duration": 976,
    "start_time": "2022-03-18T22:31:58.365Z"
   },
   {
    "duration": 2499,
    "start_time": "2022-03-18T22:32:28.028Z"
   },
   {
    "duration": 953,
    "start_time": "2022-03-18T22:32:38.555Z"
   },
   {
    "duration": 5049,
    "start_time": "2022-03-18T22:32:49.971Z"
   },
   {
    "duration": 10135,
    "start_time": "2022-03-18T22:33:04.219Z"
   },
   {
    "duration": 16115,
    "start_time": "2022-03-18T22:33:30.672Z"
   },
   {
    "duration": 961,
    "start_time": "2022-03-18T22:33:54.928Z"
   },
   {
    "duration": 2524,
    "start_time": "2022-03-18T22:41:24.701Z"
   },
   {
    "duration": 756,
    "start_time": "2022-03-18T22:55:25.084Z"
   },
   {
    "duration": 1123,
    "start_time": "2022-03-18T22:58:48.363Z"
   },
   {
    "duration": 988,
    "start_time": "2022-03-18T23:00:33.384Z"
   },
   {
    "duration": 2682,
    "start_time": "2022-03-18T23:01:10.435Z"
   },
   {
    "duration": 2500,
    "start_time": "2022-03-18T23:02:01.472Z"
   },
   {
    "duration": 2465,
    "start_time": "2022-03-18T23:03:18.249Z"
   },
   {
    "duration": 623,
    "start_time": "2022-03-18T23:06:21.810Z"
   },
   {
    "duration": 2877,
    "start_time": "2022-03-19T10:41:50.323Z"
   },
   {
    "duration": 146,
    "start_time": "2022-03-19T10:41:53.205Z"
   },
   {
    "duration": 21,
    "start_time": "2022-03-19T10:41:53.373Z"
   },
   {
    "duration": 1730,
    "start_time": "2022-03-19T10:41:53.397Z"
   },
   {
    "duration": 571,
    "start_time": "2022-03-19T10:41:55.130Z"
   },
   {
    "duration": 21,
    "start_time": "2022-03-19T10:41:55.704Z"
   },
   {
    "duration": 47,
    "start_time": "2022-03-19T10:41:55.728Z"
   },
   {
    "duration": 105,
    "start_time": "2022-03-19T10:41:55.778Z"
   },
   {
    "duration": 51,
    "start_time": "2022-03-19T10:41:55.886Z"
   },
   {
    "duration": 12,
    "start_time": "2022-03-19T10:41:55.974Z"
   },
   {
    "duration": 11,
    "start_time": "2022-03-19T10:41:55.988Z"
   },
   {
    "duration": 12,
    "start_time": "2022-03-19T10:41:56.001Z"
   },
   {
    "duration": 11,
    "start_time": "2022-03-19T10:41:56.015Z"
   },
   {
    "duration": 11,
    "start_time": "2022-03-19T10:41:56.028Z"
   },
   {
    "duration": 9,
    "start_time": "2022-03-19T10:41:56.074Z"
   },
   {
    "duration": 9,
    "start_time": "2022-03-19T10:41:56.085Z"
   },
   {
    "duration": 11,
    "start_time": "2022-03-19T10:41:56.097Z"
   },
   {
    "duration": 357,
    "start_time": "2022-03-19T10:41:56.110Z"
   },
   {
    "duration": 9,
    "start_time": "2022-03-19T10:41:56.475Z"
   },
   {
    "duration": 25,
    "start_time": "2022-03-19T10:41:56.487Z"
   },
   {
    "duration": 61,
    "start_time": "2022-03-19T10:41:56.515Z"
   },
   {
    "duration": 38,
    "start_time": "2022-03-19T10:41:56.578Z"
   },
   {
    "duration": 9,
    "start_time": "2022-03-19T10:41:56.619Z"
   },
   {
    "duration": 78,
    "start_time": "2022-03-19T10:41:56.631Z"
   },
   {
    "duration": 67,
    "start_time": "2022-03-19T10:41:56.712Z"
   },
   {
    "duration": 253,
    "start_time": "2022-03-19T10:41:56.781Z"
   },
   {
    "duration": 1038,
    "start_time": "2022-03-19T10:41:57.037Z"
   },
   {
    "duration": 2735,
    "start_time": "2022-03-19T10:41:58.080Z"
   },
   {
    "duration": 789,
    "start_time": "2022-03-19T10:42:00.817Z"
   },
   {
    "duration": 1104,
    "start_time": "2022-03-19T10:42:01.609Z"
   },
   {
    "duration": 2719,
    "start_time": "2022-03-19T10:42:02.715Z"
   },
   {
    "duration": 711,
    "start_time": "2022-03-19T10:42:05.436Z"
   },
   {
    "duration": 181,
    "start_time": "2022-03-19T11:33:25.418Z"
   },
   {
    "duration": 0,
    "start_time": "2022-03-19T11:33:25.604Z"
   },
   {
    "duration": 0,
    "start_time": "2022-03-19T11:33:25.606Z"
   },
   {
    "duration": 0,
    "start_time": "2022-03-19T11:33:25.609Z"
   },
   {
    "duration": 0,
    "start_time": "2022-03-19T11:33:25.611Z"
   },
   {
    "duration": 0,
    "start_time": "2022-03-19T11:33:25.613Z"
   },
   {
    "duration": 0,
    "start_time": "2022-03-19T11:33:25.615Z"
   },
   {
    "duration": 0,
    "start_time": "2022-03-19T11:33:25.617Z"
   },
   {
    "duration": 0,
    "start_time": "2022-03-19T11:33:25.620Z"
   },
   {
    "duration": 0,
    "start_time": "2022-03-19T11:33:25.621Z"
   },
   {
    "duration": 0,
    "start_time": "2022-03-19T11:33:25.624Z"
   },
   {
    "duration": 0,
    "start_time": "2022-03-19T11:33:25.626Z"
   },
   {
    "duration": 0,
    "start_time": "2022-03-19T11:33:25.629Z"
   },
   {
    "duration": 0,
    "start_time": "2022-03-19T11:33:25.631Z"
   },
   {
    "duration": 0,
    "start_time": "2022-03-19T11:33:25.674Z"
   },
   {
    "duration": 0,
    "start_time": "2022-03-19T11:33:25.677Z"
   },
   {
    "duration": 0,
    "start_time": "2022-03-19T11:33:25.679Z"
   },
   {
    "duration": 0,
    "start_time": "2022-03-19T11:33:25.681Z"
   },
   {
    "duration": 0,
    "start_time": "2022-03-19T11:33:25.684Z"
   },
   {
    "duration": 0,
    "start_time": "2022-03-19T11:33:25.686Z"
   },
   {
    "duration": 0,
    "start_time": "2022-03-19T11:33:25.688Z"
   },
   {
    "duration": 0,
    "start_time": "2022-03-19T11:33:25.690Z"
   },
   {
    "duration": 0,
    "start_time": "2022-03-19T11:33:25.693Z"
   },
   {
    "duration": 0,
    "start_time": "2022-03-19T11:33:25.695Z"
   },
   {
    "duration": 0,
    "start_time": "2022-03-19T11:33:25.697Z"
   },
   {
    "duration": 0,
    "start_time": "2022-03-19T11:33:25.700Z"
   },
   {
    "duration": 0,
    "start_time": "2022-03-19T11:33:25.702Z"
   },
   {
    "duration": 0,
    "start_time": "2022-03-19T11:33:25.704Z"
   },
   {
    "duration": 0,
    "start_time": "2022-03-19T11:33:25.706Z"
   },
   {
    "duration": 0,
    "start_time": "2022-03-19T11:33:25.711Z"
   },
   {
    "duration": 0,
    "start_time": "2022-03-19T11:33:25.774Z"
   },
   {
    "duration": 3103,
    "start_time": "2022-03-19T11:33:25.780Z"
   },
   {
    "duration": 997,
    "start_time": "2022-03-19T11:33:28.885Z"
   },
   {
    "duration": 16,
    "start_time": "2022-03-19T11:40:38.653Z"
   },
   {
    "duration": 32,
    "start_time": "2022-03-19T11:40:56.706Z"
   },
   {
    "duration": 17,
    "start_time": "2022-03-19T11:42:19.711Z"
   },
   {
    "duration": 0,
    "start_time": "2022-03-19T11:42:19.730Z"
   },
   {
    "duration": 0,
    "start_time": "2022-03-19T11:42:19.732Z"
   },
   {
    "duration": 0,
    "start_time": "2022-03-19T11:42:19.733Z"
   },
   {
    "duration": 0,
    "start_time": "2022-03-19T11:42:19.735Z"
   },
   {
    "duration": 0,
    "start_time": "2022-03-19T11:42:19.736Z"
   },
   {
    "duration": 0,
    "start_time": "2022-03-19T11:42:19.738Z"
   },
   {
    "duration": 1765,
    "start_time": "2022-03-19T11:42:19.741Z"
   },
   {
    "duration": 0,
    "start_time": "2022-03-19T11:42:21.510Z"
   },
   {
    "duration": 0,
    "start_time": "2022-03-19T11:42:21.512Z"
   },
   {
    "duration": 0,
    "start_time": "2022-03-19T11:42:21.513Z"
   },
   {
    "duration": 0,
    "start_time": "2022-03-19T11:42:21.515Z"
   },
   {
    "duration": 0,
    "start_time": "2022-03-19T11:42:21.516Z"
   },
   {
    "duration": 0,
    "start_time": "2022-03-19T11:42:21.518Z"
   },
   {
    "duration": 0,
    "start_time": "2022-03-19T11:42:21.520Z"
   },
   {
    "duration": 0,
    "start_time": "2022-03-19T11:42:21.521Z"
   },
   {
    "duration": 0,
    "start_time": "2022-03-19T11:42:21.523Z"
   },
   {
    "duration": 0,
    "start_time": "2022-03-19T11:42:21.525Z"
   },
   {
    "duration": 0,
    "start_time": "2022-03-19T11:42:21.526Z"
   },
   {
    "duration": 0,
    "start_time": "2022-03-19T11:42:21.528Z"
   },
   {
    "duration": 1,
    "start_time": "2022-03-19T11:42:21.529Z"
   },
   {
    "duration": 0,
    "start_time": "2022-03-19T11:42:21.531Z"
   },
   {
    "duration": 0,
    "start_time": "2022-03-19T11:42:21.533Z"
   },
   {
    "duration": 0,
    "start_time": "2022-03-19T11:42:21.534Z"
   },
   {
    "duration": 0,
    "start_time": "2022-03-19T11:42:21.536Z"
   },
   {
    "duration": 0,
    "start_time": "2022-03-19T11:42:21.537Z"
   },
   {
    "duration": 0,
    "start_time": "2022-03-19T11:42:21.539Z"
   },
   {
    "duration": 0,
    "start_time": "2022-03-19T11:42:21.541Z"
   },
   {
    "duration": 0,
    "start_time": "2022-03-19T11:42:21.542Z"
   },
   {
    "duration": 0,
    "start_time": "2022-03-19T11:42:21.544Z"
   },
   {
    "duration": 0,
    "start_time": "2022-03-19T11:42:21.545Z"
   },
   {
    "duration": 0,
    "start_time": "2022-03-19T11:42:21.574Z"
   },
   {
    "duration": 0,
    "start_time": "2022-03-19T11:42:21.576Z"
   },
   {
    "duration": 18,
    "start_time": "2022-03-19T11:42:51.458Z"
   },
   {
    "duration": 0,
    "start_time": "2022-03-19T11:42:51.478Z"
   },
   {
    "duration": 0,
    "start_time": "2022-03-19T11:42:51.480Z"
   },
   {
    "duration": 0,
    "start_time": "2022-03-19T11:42:51.482Z"
   },
   {
    "duration": 0,
    "start_time": "2022-03-19T11:42:51.483Z"
   },
   {
    "duration": 0,
    "start_time": "2022-03-19T11:42:51.485Z"
   },
   {
    "duration": 0,
    "start_time": "2022-03-19T11:42:51.487Z"
   },
   {
    "duration": 1524,
    "start_time": "2022-03-19T11:42:51.490Z"
   },
   {
    "duration": 0,
    "start_time": "2022-03-19T11:42:53.017Z"
   },
   {
    "duration": 0,
    "start_time": "2022-03-19T11:42:53.019Z"
   },
   {
    "duration": 0,
    "start_time": "2022-03-19T11:42:53.021Z"
   },
   {
    "duration": 0,
    "start_time": "2022-03-19T11:42:53.023Z"
   },
   {
    "duration": 0,
    "start_time": "2022-03-19T11:42:53.024Z"
   },
   {
    "duration": 0,
    "start_time": "2022-03-19T11:42:53.026Z"
   },
   {
    "duration": 0,
    "start_time": "2022-03-19T11:42:53.027Z"
   },
   {
    "duration": 0,
    "start_time": "2022-03-19T11:42:53.029Z"
   },
   {
    "duration": 0,
    "start_time": "2022-03-19T11:42:53.030Z"
   },
   {
    "duration": 0,
    "start_time": "2022-03-19T11:42:53.031Z"
   },
   {
    "duration": 0,
    "start_time": "2022-03-19T11:42:53.033Z"
   },
   {
    "duration": 0,
    "start_time": "2022-03-19T11:42:53.035Z"
   },
   {
    "duration": 0,
    "start_time": "2022-03-19T11:42:53.036Z"
   },
   {
    "duration": 0,
    "start_time": "2022-03-19T11:42:53.038Z"
   },
   {
    "duration": 0,
    "start_time": "2022-03-19T11:42:53.040Z"
   },
   {
    "duration": 0,
    "start_time": "2022-03-19T11:42:53.041Z"
   },
   {
    "duration": 0,
    "start_time": "2022-03-19T11:42:53.043Z"
   },
   {
    "duration": 0,
    "start_time": "2022-03-19T11:42:53.044Z"
   },
   {
    "duration": 0,
    "start_time": "2022-03-19T11:42:53.046Z"
   },
   {
    "duration": 0,
    "start_time": "2022-03-19T11:42:53.048Z"
   },
   {
    "duration": 0,
    "start_time": "2022-03-19T11:42:53.050Z"
   },
   {
    "duration": 0,
    "start_time": "2022-03-19T11:42:53.051Z"
   },
   {
    "duration": 0,
    "start_time": "2022-03-19T11:42:53.053Z"
   },
   {
    "duration": 0,
    "start_time": "2022-03-19T11:42:53.074Z"
   },
   {
    "duration": 0,
    "start_time": "2022-03-19T11:42:53.076Z"
   },
   {
    "duration": 17,
    "start_time": "2022-03-19T11:43:43.531Z"
   },
   {
    "duration": 0,
    "start_time": "2022-03-19T11:43:43.551Z"
   },
   {
    "duration": 0,
    "start_time": "2022-03-19T11:43:43.554Z"
   },
   {
    "duration": 0,
    "start_time": "2022-03-19T11:43:43.555Z"
   },
   {
    "duration": 0,
    "start_time": "2022-03-19T11:43:43.557Z"
   },
   {
    "duration": 0,
    "start_time": "2022-03-19T11:43:43.559Z"
   },
   {
    "duration": 0,
    "start_time": "2022-03-19T11:43:43.560Z"
   },
   {
    "duration": 1618,
    "start_time": "2022-03-19T11:43:43.564Z"
   },
   {
    "duration": 0,
    "start_time": "2022-03-19T11:43:45.185Z"
   },
   {
    "duration": 0,
    "start_time": "2022-03-19T11:43:45.187Z"
   },
   {
    "duration": 0,
    "start_time": "2022-03-19T11:43:45.188Z"
   },
   {
    "duration": 0,
    "start_time": "2022-03-19T11:43:45.189Z"
   },
   {
    "duration": 0,
    "start_time": "2022-03-19T11:43:45.191Z"
   },
   {
    "duration": 0,
    "start_time": "2022-03-19T11:43:45.192Z"
   },
   {
    "duration": 0,
    "start_time": "2022-03-19T11:43:45.194Z"
   },
   {
    "duration": 0,
    "start_time": "2022-03-19T11:43:45.195Z"
   },
   {
    "duration": 0,
    "start_time": "2022-03-19T11:43:45.197Z"
   },
   {
    "duration": 0,
    "start_time": "2022-03-19T11:43:45.198Z"
   },
   {
    "duration": 0,
    "start_time": "2022-03-19T11:43:45.200Z"
   },
   {
    "duration": 0,
    "start_time": "2022-03-19T11:43:45.201Z"
   },
   {
    "duration": 0,
    "start_time": "2022-03-19T11:43:45.203Z"
   },
   {
    "duration": 0,
    "start_time": "2022-03-19T11:43:45.204Z"
   },
   {
    "duration": 0,
    "start_time": "2022-03-19T11:43:45.206Z"
   },
   {
    "duration": 0,
    "start_time": "2022-03-19T11:43:45.207Z"
   },
   {
    "duration": 0,
    "start_time": "2022-03-19T11:43:45.209Z"
   },
   {
    "duration": 0,
    "start_time": "2022-03-19T11:43:45.210Z"
   },
   {
    "duration": 0,
    "start_time": "2022-03-19T11:43:45.212Z"
   },
   {
    "duration": 0,
    "start_time": "2022-03-19T11:43:45.214Z"
   },
   {
    "duration": 0,
    "start_time": "2022-03-19T11:43:45.216Z"
   },
   {
    "duration": 0,
    "start_time": "2022-03-19T11:43:45.219Z"
   },
   {
    "duration": 0,
    "start_time": "2022-03-19T11:43:45.274Z"
   },
   {
    "duration": 0,
    "start_time": "2022-03-19T11:43:45.276Z"
   },
   {
    "duration": 0,
    "start_time": "2022-03-19T11:43:45.278Z"
   },
   {
    "duration": 17,
    "start_time": "2022-03-19T11:44:05.401Z"
   },
   {
    "duration": 0,
    "start_time": "2022-03-19T11:44:05.420Z"
   },
   {
    "duration": 0,
    "start_time": "2022-03-19T11:44:05.423Z"
   },
   {
    "duration": 0,
    "start_time": "2022-03-19T11:44:05.424Z"
   },
   {
    "duration": 0,
    "start_time": "2022-03-19T11:44:05.426Z"
   },
   {
    "duration": 0,
    "start_time": "2022-03-19T11:44:05.427Z"
   },
   {
    "duration": 0,
    "start_time": "2022-03-19T11:44:05.429Z"
   },
   {
    "duration": 1622,
    "start_time": "2022-03-19T11:44:05.432Z"
   },
   {
    "duration": 0,
    "start_time": "2022-03-19T11:44:07.058Z"
   },
   {
    "duration": 0,
    "start_time": "2022-03-19T11:44:07.059Z"
   },
   {
    "duration": 0,
    "start_time": "2022-03-19T11:44:07.061Z"
   },
   {
    "duration": 0,
    "start_time": "2022-03-19T11:44:07.062Z"
   },
   {
    "duration": 0,
    "start_time": "2022-03-19T11:44:07.064Z"
   },
   {
    "duration": 0,
    "start_time": "2022-03-19T11:44:07.066Z"
   },
   {
    "duration": 0,
    "start_time": "2022-03-19T11:44:07.068Z"
   },
   {
    "duration": 0,
    "start_time": "2022-03-19T11:44:07.069Z"
   },
   {
    "duration": 0,
    "start_time": "2022-03-19T11:44:07.071Z"
   },
   {
    "duration": 0,
    "start_time": "2022-03-19T11:44:07.073Z"
   },
   {
    "duration": 0,
    "start_time": "2022-03-19T11:44:07.074Z"
   },
   {
    "duration": 0,
    "start_time": "2022-03-19T11:44:07.075Z"
   },
   {
    "duration": 0,
    "start_time": "2022-03-19T11:44:07.077Z"
   },
   {
    "duration": 0,
    "start_time": "2022-03-19T11:44:07.078Z"
   },
   {
    "duration": 0,
    "start_time": "2022-03-19T11:44:07.081Z"
   },
   {
    "duration": 0,
    "start_time": "2022-03-19T11:44:07.083Z"
   },
   {
    "duration": 0,
    "start_time": "2022-03-19T11:44:07.085Z"
   },
   {
    "duration": 0,
    "start_time": "2022-03-19T11:44:07.086Z"
   },
   {
    "duration": 0,
    "start_time": "2022-03-19T11:44:07.088Z"
   },
   {
    "duration": 0,
    "start_time": "2022-03-19T11:44:07.090Z"
   },
   {
    "duration": 0,
    "start_time": "2022-03-19T11:44:07.092Z"
   },
   {
    "duration": 0,
    "start_time": "2022-03-19T11:44:07.093Z"
   },
   {
    "duration": 0,
    "start_time": "2022-03-19T11:44:07.094Z"
   },
   {
    "duration": 0,
    "start_time": "2022-03-19T11:44:07.096Z"
   },
   {
    "duration": 0,
    "start_time": "2022-03-19T11:44:07.097Z"
   },
   {
    "duration": 6,
    "start_time": "2022-03-19T11:44:31.297Z"
   },
   {
    "duration": 7,
    "start_time": "2022-03-19T11:44:34.776Z"
   },
   {
    "duration": 159,
    "start_time": "2022-03-19T11:44:34.790Z"
   },
   {
    "duration": 40,
    "start_time": "2022-03-19T11:44:34.951Z"
   },
   {
    "duration": 1590,
    "start_time": "2022-03-19T11:44:34.994Z"
   },
   {
    "duration": 499,
    "start_time": "2022-03-19T11:44:36.586Z"
   },
   {
    "duration": 21,
    "start_time": "2022-03-19T11:44:37.088Z"
   },
   {
    "duration": 19,
    "start_time": "2022-03-19T11:44:37.111Z"
   },
   {
    "duration": 128,
    "start_time": "2022-03-19T11:44:37.132Z"
   },
   {
    "duration": 52,
    "start_time": "2022-03-19T11:44:37.262Z"
   },
   {
    "duration": 11,
    "start_time": "2022-03-19T11:44:37.316Z"
   },
   {
    "duration": 11,
    "start_time": "2022-03-19T11:44:37.329Z"
   },
   {
    "duration": 10,
    "start_time": "2022-03-19T11:44:37.375Z"
   },
   {
    "duration": 12,
    "start_time": "2022-03-19T11:44:37.387Z"
   },
   {
    "duration": 15,
    "start_time": "2022-03-19T11:44:37.401Z"
   },
   {
    "duration": 13,
    "start_time": "2022-03-19T11:44:37.421Z"
   },
   {
    "duration": 11,
    "start_time": "2022-03-19T11:44:37.436Z"
   },
   {
    "duration": 8,
    "start_time": "2022-03-19T11:44:37.474Z"
   },
   {
    "duration": 349,
    "start_time": "2022-03-19T11:44:37.484Z"
   },
   {
    "duration": 8,
    "start_time": "2022-03-19T11:44:37.835Z"
   },
   {
    "duration": 42,
    "start_time": "2022-03-19T11:44:37.845Z"
   },
   {
    "duration": 124,
    "start_time": "2022-03-19T11:44:37.889Z"
   },
   {
    "duration": 60,
    "start_time": "2022-03-19T11:44:38.015Z"
   },
   {
    "duration": 9,
    "start_time": "2022-03-19T11:44:38.078Z"
   },
   {
    "duration": 35,
    "start_time": "2022-03-19T11:44:38.090Z"
   },
   {
    "duration": 69,
    "start_time": "2022-03-19T11:44:38.127Z"
   },
   {
    "duration": 252,
    "start_time": "2022-03-19T11:44:38.198Z"
   },
   {
    "duration": 1006,
    "start_time": "2022-03-19T11:44:38.452Z"
   },
   {
    "duration": 2584,
    "start_time": "2022-03-19T11:44:39.460Z"
   },
   {
    "duration": 696,
    "start_time": "2022-03-19T11:44:42.047Z"
   },
   {
    "duration": 1049,
    "start_time": "2022-03-19T11:44:42.745Z"
   },
   {
    "duration": 30,
    "start_time": "2022-03-19T11:44:43.797Z"
   },
   {
    "duration": 0,
    "start_time": "2022-03-19T11:44:43.830Z"
   },
   {
    "duration": 0,
    "start_time": "2022-03-19T11:44:43.831Z"
   },
   {
    "duration": 30,
    "start_time": "2022-03-19T11:45:34.026Z"
   },
   {
    "duration": 29,
    "start_time": "2022-03-19T11:46:40.745Z"
   },
   {
    "duration": 9,
    "start_time": "2022-03-19T11:46:50.707Z"
   },
   {
    "duration": 166,
    "start_time": "2022-03-19T11:46:50.719Z"
   },
   {
    "duration": 21,
    "start_time": "2022-03-19T11:46:50.887Z"
   },
   {
    "duration": 1587,
    "start_time": "2022-03-19T11:46:50.911Z"
   },
   {
    "duration": 536,
    "start_time": "2022-03-19T11:46:52.500Z"
   },
   {
    "duration": 36,
    "start_time": "2022-03-19T11:46:53.038Z"
   },
   {
    "duration": 15,
    "start_time": "2022-03-19T11:46:53.076Z"
   },
   {
    "duration": 114,
    "start_time": "2022-03-19T11:46:53.094Z"
   },
   {
    "duration": 64,
    "start_time": "2022-03-19T11:46:53.210Z"
   },
   {
    "duration": 11,
    "start_time": "2022-03-19T11:46:53.278Z"
   },
   {
    "duration": 8,
    "start_time": "2022-03-19T11:46:53.292Z"
   },
   {
    "duration": 9,
    "start_time": "2022-03-19T11:46:53.302Z"
   },
   {
    "duration": 7,
    "start_time": "2022-03-19T11:46:53.314Z"
   },
   {
    "duration": 51,
    "start_time": "2022-03-19T11:46:53.324Z"
   },
   {
    "duration": 8,
    "start_time": "2022-03-19T11:46:53.377Z"
   },
   {
    "duration": 7,
    "start_time": "2022-03-19T11:46:53.387Z"
   },
   {
    "duration": 12,
    "start_time": "2022-03-19T11:46:53.396Z"
   },
   {
    "duration": 353,
    "start_time": "2022-03-19T11:46:53.410Z"
   },
   {
    "duration": 9,
    "start_time": "2022-03-19T11:46:53.773Z"
   },
   {
    "duration": 23,
    "start_time": "2022-03-19T11:46:53.785Z"
   },
   {
    "duration": 69,
    "start_time": "2022-03-19T11:46:53.811Z"
   },
   {
    "duration": 40,
    "start_time": "2022-03-19T11:46:53.883Z"
   },
   {
    "duration": 8,
    "start_time": "2022-03-19T11:46:53.925Z"
   },
   {
    "duration": 69,
    "start_time": "2022-03-19T11:46:53.936Z"
   },
   {
    "duration": 68,
    "start_time": "2022-03-19T11:46:54.008Z"
   },
   {
    "duration": 241,
    "start_time": "2022-03-19T11:46:54.078Z"
   },
   {
    "duration": 1020,
    "start_time": "2022-03-19T11:46:54.321Z"
   },
   {
    "duration": 2644,
    "start_time": "2022-03-19T11:46:55.346Z"
   },
   {
    "duration": 659,
    "start_time": "2022-03-19T11:46:57.993Z"
   },
   {
    "duration": 1731,
    "start_time": "2022-03-19T11:46:58.655Z"
   },
   {
    "duration": 100,
    "start_time": "2022-03-19T11:47:00.389Z"
   },
   {
    "duration": 0,
    "start_time": "2022-03-19T11:47:00.493Z"
   },
   {
    "duration": 0,
    "start_time": "2022-03-19T11:47:00.495Z"
   },
   {
    "duration": 30,
    "start_time": "2022-03-19T11:48:16.364Z"
   },
   {
    "duration": 7,
    "start_time": "2022-03-19T11:49:13.264Z"
   },
   {
    "duration": 195,
    "start_time": "2022-03-19T11:49:13.281Z"
   },
   {
    "duration": 25,
    "start_time": "2022-03-19T11:49:13.481Z"
   },
   {
    "duration": 1783,
    "start_time": "2022-03-19T11:49:13.509Z"
   },
   {
    "duration": 544,
    "start_time": "2022-03-19T11:49:15.294Z"
   },
   {
    "duration": 33,
    "start_time": "2022-03-19T11:49:15.841Z"
   },
   {
    "duration": 21,
    "start_time": "2022-03-19T11:49:15.877Z"
   },
   {
    "duration": 128,
    "start_time": "2022-03-19T11:49:15.901Z"
   },
   {
    "duration": 71,
    "start_time": "2022-03-19T11:49:16.031Z"
   },
   {
    "duration": 11,
    "start_time": "2022-03-19T11:49:16.104Z"
   },
   {
    "duration": 11,
    "start_time": "2022-03-19T11:49:16.117Z"
   },
   {
    "duration": 11,
    "start_time": "2022-03-19T11:49:16.131Z"
   },
   {
    "duration": 16,
    "start_time": "2022-03-19T11:49:16.175Z"
   },
   {
    "duration": 12,
    "start_time": "2022-03-19T11:49:16.193Z"
   },
   {
    "duration": 10,
    "start_time": "2022-03-19T11:49:16.209Z"
   },
   {
    "duration": 25,
    "start_time": "2022-03-19T11:49:16.221Z"
   },
   {
    "duration": 33,
    "start_time": "2022-03-19T11:49:16.248Z"
   },
   {
    "duration": 394,
    "start_time": "2022-03-19T11:49:16.285Z"
   },
   {
    "duration": 10,
    "start_time": "2022-03-19T11:49:16.682Z"
   },
   {
    "duration": 24,
    "start_time": "2022-03-19T11:49:16.694Z"
   },
   {
    "duration": 65,
    "start_time": "2022-03-19T11:49:16.720Z"
   },
   {
    "duration": 37,
    "start_time": "2022-03-19T11:49:16.788Z"
   },
   {
    "duration": 9,
    "start_time": "2022-03-19T11:49:16.827Z"
   },
   {
    "duration": 43,
    "start_time": "2022-03-19T11:49:16.874Z"
   },
   {
    "duration": 75,
    "start_time": "2022-03-19T11:49:16.919Z"
   },
   {
    "duration": 300,
    "start_time": "2022-03-19T11:49:16.997Z"
   },
   {
    "duration": 1096,
    "start_time": "2022-03-19T11:49:17.301Z"
   },
   {
    "duration": 2801,
    "start_time": "2022-03-19T11:49:18.400Z"
   },
   {
    "duration": 654,
    "start_time": "2022-03-19T11:49:21.203Z"
   },
   {
    "duration": 1116,
    "start_time": "2022-03-19T11:49:21.859Z"
   },
   {
    "duration": 34,
    "start_time": "2022-03-19T11:49:22.979Z"
   },
   {
    "duration": 0,
    "start_time": "2022-03-19T11:49:23.016Z"
   },
   {
    "duration": 0,
    "start_time": "2022-03-19T11:49:23.018Z"
   },
   {
    "duration": 20,
    "start_time": "2022-03-19T11:51:23.312Z"
   },
   {
    "duration": 24,
    "start_time": "2022-03-19T11:53:56.322Z"
   },
   {
    "duration": 23,
    "start_time": "2022-03-19T11:54:03.733Z"
   },
   {
    "duration": 27,
    "start_time": "2022-03-19T12:01:30.814Z"
   },
   {
    "duration": 31,
    "start_time": "2022-03-19T12:02:20.631Z"
   },
   {
    "duration": 1315,
    "start_time": "2022-03-19T12:03:27.786Z"
   },
   {
    "duration": 32,
    "start_time": "2022-03-19T12:03:50.618Z"
   },
   {
    "duration": 1623,
    "start_time": "2022-03-19T12:03:55.719Z"
   },
   {
    "duration": 29,
    "start_time": "2022-03-19T12:04:12.916Z"
   },
   {
    "duration": 1432,
    "start_time": "2022-03-19T12:04:21.797Z"
   },
   {
    "duration": 20,
    "start_time": "2022-03-19T12:10:37.399Z"
   },
   {
    "duration": 30,
    "start_time": "2022-03-19T12:10:52.098Z"
   },
   {
    "duration": 30,
    "start_time": "2022-03-19T12:11:17.116Z"
   },
   {
    "duration": 38,
    "start_time": "2022-03-19T12:11:44.843Z"
   },
   {
    "duration": 30,
    "start_time": "2022-03-19T12:11:50.662Z"
   },
   {
    "duration": 32,
    "start_time": "2022-03-19T12:11:55.947Z"
   },
   {
    "duration": 31,
    "start_time": "2022-03-19T12:12:03.224Z"
   },
   {
    "duration": 814,
    "start_time": "2022-03-19T12:13:09.711Z"
   },
   {
    "duration": 7,
    "start_time": "2022-03-19T12:18:21.988Z"
   },
   {
    "duration": 200,
    "start_time": "2022-03-19T12:18:22.030Z"
   },
   {
    "duration": 20,
    "start_time": "2022-03-19T12:18:22.233Z"
   },
   {
    "duration": 1790,
    "start_time": "2022-03-19T12:18:22.256Z"
   },
   {
    "duration": 533,
    "start_time": "2022-03-19T12:18:24.048Z"
   },
   {
    "duration": 26,
    "start_time": "2022-03-19T12:18:24.585Z"
   },
   {
    "duration": 21,
    "start_time": "2022-03-19T12:18:24.613Z"
   },
   {
    "duration": 190,
    "start_time": "2022-03-19T12:18:24.636Z"
   },
   {
    "duration": 67,
    "start_time": "2022-03-19T12:18:24.829Z"
   },
   {
    "duration": 13,
    "start_time": "2022-03-19T12:18:24.898Z"
   },
   {
    "duration": 17,
    "start_time": "2022-03-19T12:18:24.914Z"
   },
   {
    "duration": 41,
    "start_time": "2022-03-19T12:18:24.934Z"
   },
   {
    "duration": 8,
    "start_time": "2022-03-19T12:18:24.977Z"
   },
   {
    "duration": 11,
    "start_time": "2022-03-19T12:18:24.987Z"
   },
   {
    "duration": 7,
    "start_time": "2022-03-19T12:18:25.003Z"
   },
   {
    "duration": 11,
    "start_time": "2022-03-19T12:18:25.013Z"
   },
   {
    "duration": 8,
    "start_time": "2022-03-19T12:18:25.026Z"
   },
   {
    "duration": 329,
    "start_time": "2022-03-19T12:18:25.075Z"
   },
   {
    "duration": 8,
    "start_time": "2022-03-19T12:18:25.406Z"
   },
   {
    "duration": 23,
    "start_time": "2022-03-19T12:18:25.416Z"
   },
   {
    "duration": 52,
    "start_time": "2022-03-19T12:18:25.442Z"
   },
   {
    "duration": 39,
    "start_time": "2022-03-19T12:18:25.496Z"
   },
   {
    "duration": 42,
    "start_time": "2022-03-19T12:18:25.537Z"
   },
   {
    "duration": 35,
    "start_time": "2022-03-19T12:18:25.581Z"
   },
   {
    "duration": 67,
    "start_time": "2022-03-19T12:18:25.618Z"
   },
   {
    "duration": 254,
    "start_time": "2022-03-19T12:18:25.688Z"
   },
   {
    "duration": 1035,
    "start_time": "2022-03-19T12:18:25.945Z"
   },
   {
    "duration": 2686,
    "start_time": "2022-03-19T12:18:26.983Z"
   },
   {
    "duration": 689,
    "start_time": "2022-03-19T12:18:29.674Z"
   },
   {
    "duration": 1088,
    "start_time": "2022-03-19T12:18:30.375Z"
   },
   {
    "duration": 36,
    "start_time": "2022-03-19T12:18:31.465Z"
   },
   {
    "duration": 1328,
    "start_time": "2022-03-19T12:18:31.503Z"
   },
   {
    "duration": 47,
    "start_time": "2022-03-19T12:18:32.834Z"
   },
   {
    "duration": 913,
    "start_time": "2022-03-19T12:18:32.884Z"
   },
   {
    "duration": 2611,
    "start_time": "2022-03-19T12:18:33.800Z"
   },
   {
    "duration": 738,
    "start_time": "2022-03-19T12:18:36.414Z"
   },
   {
    "duration": 3581,
    "start_time": "2022-03-19T12:20:50.643Z"
   },
   {
    "duration": 1611,
    "start_time": "2022-03-19T20:36:49.080Z"
   },
   {
    "duration": 93,
    "start_time": "2022-03-19T20:36:50.693Z"
   },
   {
    "duration": 26,
    "start_time": "2022-03-19T20:36:50.788Z"
   },
   {
    "duration": 1205,
    "start_time": "2022-03-19T20:36:50.816Z"
   },
   {
    "duration": 354,
    "start_time": "2022-03-19T20:36:52.023Z"
   },
   {
    "duration": 14,
    "start_time": "2022-03-19T20:36:52.378Z"
   },
   {
    "duration": 21,
    "start_time": "2022-03-19T20:36:52.393Z"
   },
   {
    "duration": 52,
    "start_time": "2022-03-19T20:36:52.415Z"
   },
   {
    "duration": 53,
    "start_time": "2022-03-19T20:36:52.469Z"
   },
   {
    "duration": 8,
    "start_time": "2022-03-19T20:36:52.525Z"
   },
   {
    "duration": 6,
    "start_time": "2022-03-19T20:36:52.534Z"
   },
   {
    "duration": 6,
    "start_time": "2022-03-19T20:36:52.541Z"
   },
   {
    "duration": 6,
    "start_time": "2022-03-19T20:36:52.549Z"
   },
   {
    "duration": 5,
    "start_time": "2022-03-19T20:36:52.557Z"
   },
   {
    "duration": 5,
    "start_time": "2022-03-19T20:36:52.609Z"
   },
   {
    "duration": 11,
    "start_time": "2022-03-19T20:36:52.616Z"
   },
   {
    "duration": 10,
    "start_time": "2022-03-19T20:36:52.629Z"
   },
   {
    "duration": 205,
    "start_time": "2022-03-19T20:36:52.641Z"
   },
   {
    "duration": 6,
    "start_time": "2022-03-19T20:36:52.848Z"
   },
   {
    "duration": 15,
    "start_time": "2022-03-19T20:36:52.856Z"
   },
   {
    "duration": 38,
    "start_time": "2022-03-19T20:36:52.872Z"
   },
   {
    "duration": 24,
    "start_time": "2022-03-19T20:36:52.911Z"
   },
   {
    "duration": 6,
    "start_time": "2022-03-19T20:36:52.937Z"
   },
   {
    "duration": 22,
    "start_time": "2022-03-19T20:36:52.944Z"
   },
   {
    "duration": 53,
    "start_time": "2022-03-19T20:36:52.967Z"
   },
   {
    "duration": 161,
    "start_time": "2022-03-19T20:36:53.022Z"
   },
   {
    "duration": 690,
    "start_time": "2022-03-19T20:36:53.185Z"
   },
   {
    "duration": 1759,
    "start_time": "2022-03-19T20:36:53.879Z"
   },
   {
    "duration": 580,
    "start_time": "2022-03-19T20:36:55.640Z"
   },
   {
    "duration": 720,
    "start_time": "2022-03-19T20:36:56.222Z"
   },
   {
    "duration": 23,
    "start_time": "2022-03-19T20:36:56.943Z"
   },
   {
    "duration": 841,
    "start_time": "2022-03-19T20:36:56.967Z"
   },
   {
    "duration": 19,
    "start_time": "2022-03-19T20:36:57.810Z"
   },
   {
    "duration": 531,
    "start_time": "2022-03-19T20:36:57.830Z"
   },
   {
    "duration": 1715,
    "start_time": "2022-03-19T20:36:58.363Z"
   },
   {
    "duration": 2400,
    "start_time": "2022-03-19T20:37:00.080Z"
   },
   {
    "duration": 2376,
    "start_time": "2022-03-19T20:37:02.482Z"
   },
   {
    "duration": 830,
    "start_time": "2022-03-19T20:37:04.859Z"
   },
   {
    "duration": 802,
    "start_time": "2022-03-19T20:47:43.085Z"
   },
   {
    "duration": 821,
    "start_time": "2022-03-19T20:48:29.874Z"
   },
   {
    "duration": 593,
    "start_time": "2022-03-19T20:53:05.616Z"
   },
   {
    "duration": 851,
    "start_time": "2022-03-19T20:53:29.239Z"
   },
   {
    "duration": 1794,
    "start_time": "2022-03-19T20:58:12.964Z"
   },
   {
    "duration": 2279,
    "start_time": "2022-03-19T21:00:33.717Z"
   },
   {
    "duration": 1264,
    "start_time": "2022-03-19T21:05:19.390Z"
   },
   {
    "duration": 430,
    "start_time": "2022-03-19T21:08:45.590Z"
   },
   {
    "duration": 117,
    "start_time": "2022-03-19T21:12:25.995Z"
   },
   {
    "duration": 872,
    "start_time": "2022-03-19T21:12:49.548Z"
   },
   {
    "duration": 1353,
    "start_time": "2022-03-19T21:16:58.575Z"
   },
   {
    "duration": 1879,
    "start_time": "2022-03-19T21:21:59.130Z"
   },
   {
    "duration": 3840,
    "start_time": "2022-03-19T21:22:06.433Z"
   },
   {
    "duration": 5608,
    "start_time": "2022-03-19T21:22:18.290Z"
   },
   {
    "duration": 7336,
    "start_time": "2022-03-19T21:22:33.708Z"
   },
   {
    "duration": 9124,
    "start_time": "2022-03-19T21:22:52.887Z"
   },
   {
    "duration": 7604,
    "start_time": "2022-03-19T21:23:09.699Z"
   },
   {
    "duration": 7671,
    "start_time": "2022-03-19T21:24:26.815Z"
   },
   {
    "duration": 8739,
    "start_time": "2022-03-19T21:25:51.487Z"
   },
   {
    "duration": 4976,
    "start_time": "2022-03-19T21:27:14.446Z"
   },
   {
    "duration": 9621,
    "start_time": "2022-03-19T21:29:30.658Z"
   },
   {
    "duration": 36949,
    "start_time": "2022-03-19T21:29:49.836Z"
   },
   {
    "duration": 145903,
    "start_time": "2022-03-19T21:30:34.081Z"
   },
   {
    "duration": 140759,
    "start_time": "2022-03-19T21:38:08.984Z"
   },
   {
    "duration": 194622,
    "start_time": "2022-03-19T21:43:15.993Z"
   },
   {
    "duration": 90651,
    "start_time": "2022-03-19T21:50:11.538Z"
   },
   {
    "duration": 7438,
    "start_time": "2022-03-19T21:58:18.722Z"
   },
   {
    "duration": 7084,
    "start_time": "2022-03-19T21:58:49.750Z"
   },
   {
    "duration": 7423,
    "start_time": "2022-03-19T22:01:16.187Z"
   },
   {
    "duration": 7320,
    "start_time": "2022-03-19T22:03:08.581Z"
   },
   {
    "duration": 7344,
    "start_time": "2022-03-19T22:04:38.065Z"
   },
   {
    "duration": 7496,
    "start_time": "2022-03-19T22:05:52.518Z"
   },
   {
    "duration": 146733,
    "start_time": "2022-03-19T22:07:39.211Z"
   },
   {
    "duration": 477,
    "start_time": "2022-03-19T22:14:45.152Z"
   },
   {
    "duration": 7458,
    "start_time": "2022-03-19T22:16:53.038Z"
   },
   {
    "duration": 8748,
    "start_time": "2022-03-19T22:18:39.179Z"
   },
   {
    "duration": 5049,
    "start_time": "2022-03-19T22:20:14.927Z"
   },
   {
    "duration": 144710,
    "start_time": "2022-03-19T22:22:23.729Z"
   },
   {
    "duration": 198256,
    "start_time": "2022-03-19T22:26:26.970Z"
   },
   {
    "duration": 92943,
    "start_time": "2022-03-19T22:32:48.794Z"
   },
   {
    "duration": 602,
    "start_time": "2022-03-19T22:37:27.716Z"
   },
   {
    "duration": 618,
    "start_time": "2022-03-19T22:41:17.676Z"
   },
   {
    "duration": 501,
    "start_time": "2022-03-19T22:44:30.111Z"
   },
   {
    "duration": 4,
    "start_time": "2022-03-19T22:59:05.450Z"
   },
   {
    "duration": 63,
    "start_time": "2022-03-19T23:00:57.911Z"
   },
   {
    "duration": 68,
    "start_time": "2022-03-19T23:01:05.356Z"
   },
   {
    "duration": 86,
    "start_time": "2022-03-19T23:01:13.355Z"
   },
   {
    "duration": 65,
    "start_time": "2022-03-19T23:01:29.306Z"
   },
   {
    "duration": 4,
    "start_time": "2022-03-19T23:03:44.351Z"
   },
   {
    "duration": 10,
    "start_time": "2022-03-19T23:04:34.955Z"
   },
   {
    "duration": 333,
    "start_time": "2022-03-19T23:05:15.070Z"
   },
   {
    "duration": 9,
    "start_time": "2022-03-19T23:05:45.912Z"
   },
   {
    "duration": 262,
    "start_time": "2022-03-19T23:15:03.202Z"
   },
   {
    "duration": 250,
    "start_time": "2022-03-19T23:16:55.365Z"
   },
   {
    "duration": 253,
    "start_time": "2022-03-19T23:18:01.405Z"
   },
   {
    "duration": 2580,
    "start_time": "2022-03-20T08:02:16.868Z"
   },
   {
    "duration": 174,
    "start_time": "2022-03-20T08:02:19.451Z"
   },
   {
    "duration": 36,
    "start_time": "2022-03-20T08:02:19.628Z"
   },
   {
    "duration": 1733,
    "start_time": "2022-03-20T08:02:19.667Z"
   },
   {
    "duration": 521,
    "start_time": "2022-03-20T08:02:21.402Z"
   },
   {
    "duration": 37,
    "start_time": "2022-03-20T08:02:21.925Z"
   },
   {
    "duration": 18,
    "start_time": "2022-03-20T08:02:21.965Z"
   },
   {
    "duration": 132,
    "start_time": "2022-03-20T08:02:21.985Z"
   },
   {
    "duration": 64,
    "start_time": "2022-03-20T08:02:22.119Z"
   },
   {
    "duration": 11,
    "start_time": "2022-03-20T08:02:22.187Z"
   },
   {
    "duration": 11,
    "start_time": "2022-03-20T08:02:22.201Z"
   },
   {
    "duration": 39,
    "start_time": "2022-03-20T08:02:22.214Z"
   },
   {
    "duration": 19,
    "start_time": "2022-03-20T08:02:22.256Z"
   },
   {
    "duration": 14,
    "start_time": "2022-03-20T08:02:22.278Z"
   },
   {
    "duration": 12,
    "start_time": "2022-03-20T08:02:22.295Z"
   },
   {
    "duration": 9,
    "start_time": "2022-03-20T08:02:22.309Z"
   },
   {
    "duration": 14,
    "start_time": "2022-03-20T08:02:22.345Z"
   },
   {
    "duration": 374,
    "start_time": "2022-03-20T08:02:22.361Z"
   },
   {
    "duration": 13,
    "start_time": "2022-03-20T08:02:22.737Z"
   },
   {
    "duration": 32,
    "start_time": "2022-03-20T08:02:22.752Z"
   },
   {
    "duration": 26,
    "start_time": "2022-03-20T08:02:22.787Z"
   },
   {
    "duration": 47,
    "start_time": "2022-03-20T08:02:22.844Z"
   },
   {
    "duration": 9,
    "start_time": "2022-03-20T08:02:22.894Z"
   },
   {
    "duration": 67,
    "start_time": "2022-03-20T08:02:22.905Z"
   },
   {
    "duration": 28,
    "start_time": "2022-03-20T08:02:22.974Z"
   },
   {
    "duration": 240,
    "start_time": "2022-03-20T08:02:23.048Z"
   },
   {
    "duration": 10980,
    "start_time": "2022-03-20T08:02:23.290Z"
   },
   {
    "duration": 224645,
    "start_time": "2022-03-20T08:02:34.276Z"
   },
   {
    "duration": 592,
    "start_time": "2022-03-20T08:06:18.924Z"
   },
   {
    "duration": 11149,
    "start_time": "2022-03-20T08:06:19.519Z"
   },
   {
    "duration": 51,
    "start_time": "2022-03-20T08:06:30.671Z"
   },
   {
    "duration": 13593,
    "start_time": "2022-03-20T08:06:30.749Z"
   },
   {
    "duration": 32,
    "start_time": "2022-03-20T08:06:44.345Z"
   },
   {
    "duration": 7425,
    "start_time": "2022-03-20T08:06:44.379Z"
   },
   {
    "duration": 223980,
    "start_time": "2022-03-20T08:06:51.807Z"
   },
   {
    "duration": 323813,
    "start_time": "2022-03-20T08:10:35.789Z"
   },
   {
    "duration": 141702,
    "start_time": "2022-03-20T08:15:59.604Z"
   },
   {
    "duration": 1010,
    "start_time": "2022-03-20T08:18:21.308Z"
   },
   {
    "duration": 1100,
    "start_time": "2022-03-20T08:18:22.321Z"
   },
   {
    "duration": 728,
    "start_time": "2022-03-20T08:18:23.423Z"
   },
   {
    "duration": 179,
    "start_time": "2022-03-20T08:18:24.156Z"
   },
   {
    "duration": 0,
    "start_time": "2022-03-20T08:18:24.337Z"
   },
   {
    "duration": 0,
    "start_time": "2022-03-20T08:18:24.347Z"
   },
   {
    "duration": 14,
    "start_time": "2022-03-20T08:20:51.014Z"
   },
   {
    "duration": 204,
    "start_time": "2022-03-20T08:27:21.987Z"
   },
   {
    "duration": 302,
    "start_time": "2022-03-20T08:32:18.953Z"
   },
   {
    "duration": 21,
    "start_time": "2022-03-20T08:32:30.267Z"
   },
   {
    "duration": 22,
    "start_time": "2022-03-20T08:40:05.360Z"
   },
   {
    "duration": 28,
    "start_time": "2022-03-20T08:43:25.380Z"
   },
   {
    "duration": 29,
    "start_time": "2022-03-20T08:45:35.991Z"
   },
   {
    "duration": 26,
    "start_time": "2022-03-20T08:51:33.578Z"
   },
   {
    "duration": 29,
    "start_time": "2022-03-20T08:51:46.274Z"
   },
   {
    "duration": 233,
    "start_time": "2022-03-20T09:01:59.757Z"
   },
   {
    "duration": 388,
    "start_time": "2022-03-20T09:06:31.755Z"
   },
   {
    "duration": 399,
    "start_time": "2022-03-20T09:08:35.130Z"
   },
   {
    "duration": 309,
    "start_time": "2022-03-20T09:14:41.376Z"
   },
   {
    "duration": 389,
    "start_time": "2022-03-20T09:16:17.613Z"
   },
   {
    "duration": 18,
    "start_time": "2022-03-20T09:22:00.340Z"
   },
   {
    "duration": 13,
    "start_time": "2022-03-20T09:23:13.123Z"
   },
   {
    "duration": 292,
    "start_time": "2022-03-20T09:23:25.076Z"
   },
   {
    "duration": 16,
    "start_time": "2022-03-20T09:23:28.833Z"
   },
   {
    "duration": 10,
    "start_time": "2022-03-20T09:41:41.967Z"
   },
   {
    "duration": 292,
    "start_time": "2022-03-20T09:41:41.980Z"
   },
   {
    "duration": 21,
    "start_time": "2022-03-20T09:41:42.275Z"
   },
   {
    "duration": 1647,
    "start_time": "2022-03-20T09:41:42.299Z"
   },
   {
    "duration": 669,
    "start_time": "2022-03-20T09:41:43.949Z"
   },
   {
    "duration": 35,
    "start_time": "2022-03-20T09:41:44.620Z"
   },
   {
    "duration": 16,
    "start_time": "2022-03-20T09:41:44.658Z"
   },
   {
    "duration": 119,
    "start_time": "2022-03-20T09:41:44.677Z"
   },
   {
    "duration": 67,
    "start_time": "2022-03-20T09:41:44.798Z"
   },
   {
    "duration": 12,
    "start_time": "2022-03-20T09:41:44.869Z"
   },
   {
    "duration": 8,
    "start_time": "2022-03-20T09:41:44.884Z"
   },
   {
    "duration": 9,
    "start_time": "2022-03-20T09:41:44.894Z"
   },
   {
    "duration": 54,
    "start_time": "2022-03-20T09:41:44.905Z"
   },
   {
    "duration": 7,
    "start_time": "2022-03-20T09:41:44.962Z"
   },
   {
    "duration": 7,
    "start_time": "2022-03-20T09:41:44.971Z"
   },
   {
    "duration": 7,
    "start_time": "2022-03-20T09:41:44.980Z"
   },
   {
    "duration": 6,
    "start_time": "2022-03-20T09:41:44.989Z"
   },
   {
    "duration": 587,
    "start_time": "2022-03-20T09:41:44.997Z"
   },
   {
    "duration": 10,
    "start_time": "2022-03-20T09:41:45.587Z"
   },
   {
    "duration": 53,
    "start_time": "2022-03-20T09:41:45.600Z"
   },
   {
    "duration": 26,
    "start_time": "2022-03-20T09:41:45.656Z"
   },
   {
    "duration": 70,
    "start_time": "2022-03-20T09:41:45.685Z"
   },
   {
    "duration": 11,
    "start_time": "2022-03-20T09:41:45.757Z"
   },
   {
    "duration": 45,
    "start_time": "2022-03-20T09:41:45.770Z"
   },
   {
    "duration": 57,
    "start_time": "2022-03-20T09:41:45.817Z"
   },
   {
    "duration": 309,
    "start_time": "2022-03-20T09:41:45.877Z"
   },
   {
    "duration": 11368,
    "start_time": "2022-03-20T09:41:46.189Z"
   },
   {
    "duration": 253890,
    "start_time": "2022-03-20T09:41:57.563Z"
   },
   {
    "duration": 777,
    "start_time": "2022-03-20T09:46:11.456Z"
   },
   {
    "duration": 12209,
    "start_time": "2022-03-20T09:46:12.236Z"
   },
   {
    "duration": 41,
    "start_time": "2022-03-20T09:46:24.449Z"
   },
   {
    "duration": 15878,
    "start_time": "2022-03-20T09:46:24.492Z"
   },
   {
    "duration": 38,
    "start_time": "2022-03-20T09:46:40.373Z"
   },
   {
    "duration": 9809,
    "start_time": "2022-03-20T09:46:40.444Z"
   },
   {
    "duration": 238351,
    "start_time": "2022-03-20T09:46:50.257Z"
   },
   {
    "duration": 347039,
    "start_time": "2022-03-20T09:50:48.610Z"
   },
   {
    "duration": 171067,
    "start_time": "2022-03-20T09:56:35.655Z"
   },
   {
    "duration": 824,
    "start_time": "2022-03-20T09:59:26.727Z"
   },
   {
    "duration": 865,
    "start_time": "2022-03-20T09:59:27.554Z"
   },
   {
    "duration": 784,
    "start_time": "2022-03-20T09:59:28.422Z"
   },
   {
    "duration": 38,
    "start_time": "2022-03-20T09:59:29.209Z"
   },
   {
    "duration": 351,
    "start_time": "2022-03-20T09:59:29.249Z"
   },
   {
    "duration": 551,
    "start_time": "2022-03-20T09:59:29.603Z"
   },
   {
    "duration": 331,
    "start_time": "2022-03-20T09:59:30.157Z"
   },
   {
    "duration": 23,
    "start_time": "2022-03-20T09:59:30.490Z"
   },
   {
    "duration": 2139,
    "start_time": "2022-03-20T16:25:10.083Z"
   },
   {
    "duration": 169,
    "start_time": "2022-03-20T16:25:12.225Z"
   },
   {
    "duration": 24,
    "start_time": "2022-03-20T16:25:12.396Z"
   },
   {
    "duration": 1801,
    "start_time": "2022-03-20T16:25:12.443Z"
   },
   {
    "duration": 717,
    "start_time": "2022-03-20T16:25:14.247Z"
   },
   {
    "duration": 24,
    "start_time": "2022-03-20T16:25:14.967Z"
   },
   {
    "duration": 17,
    "start_time": "2022-03-20T16:25:14.993Z"
   },
   {
    "duration": 191,
    "start_time": "2022-03-20T16:25:15.013Z"
   },
   {
    "duration": 87,
    "start_time": "2022-03-20T16:25:15.207Z"
   },
   {
    "duration": 16,
    "start_time": "2022-03-20T16:25:15.299Z"
   },
   {
    "duration": 34,
    "start_time": "2022-03-20T16:25:15.318Z"
   },
   {
    "duration": 11,
    "start_time": "2022-03-20T16:25:15.354Z"
   },
   {
    "duration": 13,
    "start_time": "2022-03-20T16:25:15.367Z"
   },
   {
    "duration": 10,
    "start_time": "2022-03-20T16:25:15.382Z"
   },
   {
    "duration": 11,
    "start_time": "2022-03-20T16:25:15.394Z"
   },
   {
    "duration": 42,
    "start_time": "2022-03-20T16:25:15.408Z"
   },
   {
    "duration": 11,
    "start_time": "2022-03-20T16:25:15.452Z"
   },
   {
    "duration": 364,
    "start_time": "2022-03-20T16:25:15.466Z"
   },
   {
    "duration": 15,
    "start_time": "2022-03-20T16:25:15.833Z"
   },
   {
    "duration": 26,
    "start_time": "2022-03-20T16:25:15.850Z"
   },
   {
    "duration": 24,
    "start_time": "2022-03-20T16:25:15.879Z"
   },
   {
    "duration": 186,
    "start_time": "2022-03-20T16:25:15.904Z"
   },
   {
    "duration": 11,
    "start_time": "2022-03-20T16:25:16.093Z"
   },
   {
    "duration": 57,
    "start_time": "2022-03-20T16:25:16.106Z"
   },
   {
    "duration": 32,
    "start_time": "2022-03-20T16:25:16.165Z"
   },
   {
    "duration": 277,
    "start_time": "2022-03-20T16:25:16.199Z"
   },
   {
    "duration": 11100,
    "start_time": "2022-03-20T16:25:16.479Z"
   },
   {
    "duration": 226709,
    "start_time": "2022-03-20T16:25:27.585Z"
   },
   {
    "duration": 624,
    "start_time": "2022-03-20T16:29:14.297Z"
   },
   {
    "duration": 16236,
    "start_time": "2022-03-20T16:29:14.925Z"
   },
   {
    "duration": 51,
    "start_time": "2022-03-20T16:29:31.164Z"
   },
   {
    "duration": 14622,
    "start_time": "2022-03-20T16:29:31.244Z"
   },
   {
    "duration": 31,
    "start_time": "2022-03-20T16:29:45.869Z"
   },
   {
    "duration": 10125,
    "start_time": "2022-03-20T16:29:45.903Z"
   },
   {
    "duration": 215336,
    "start_time": "2022-03-20T16:29:56.030Z"
   },
   {
    "duration": 311798,
    "start_time": "2022-03-20T16:33:31.369Z"
   },
   {
    "duration": 138174,
    "start_time": "2022-03-20T16:38:43.170Z"
   },
   {
    "duration": 664,
    "start_time": "2022-03-20T16:41:01.347Z"
   },
   {
    "duration": 708,
    "start_time": "2022-03-20T16:41:02.014Z"
   },
   {
    "duration": 698,
    "start_time": "2022-03-20T16:41:02.725Z"
   },
   {
    "duration": 36,
    "start_time": "2022-03-20T16:41:03.426Z"
   },
   {
    "duration": 255,
    "start_time": "2022-03-20T16:41:03.464Z"
   },
   {
    "duration": 421,
    "start_time": "2022-03-20T16:41:03.722Z"
   },
   {
    "duration": 460,
    "start_time": "2022-03-20T16:41:04.145Z"
   },
   {
    "duration": 36,
    "start_time": "2022-03-20T16:41:04.607Z"
   },
   {
    "duration": 168,
    "start_time": "2022-03-20T19:34:34.817Z"
   },
   {
    "duration": 2341,
    "start_time": "2022-03-20T19:34:43.624Z"
   },
   {
    "duration": 188,
    "start_time": "2022-03-20T19:34:45.968Z"
   },
   {
    "duration": 20,
    "start_time": "2022-03-20T19:34:46.158Z"
   },
   {
    "duration": 1590,
    "start_time": "2022-03-20T19:34:46.181Z"
   },
   {
    "duration": 525,
    "start_time": "2022-03-20T19:34:47.774Z"
   },
   {
    "duration": 20,
    "start_time": "2022-03-20T19:34:48.301Z"
   },
   {
    "duration": 187,
    "start_time": "2022-03-20T19:34:48.324Z"
   },
   {
    "duration": 0,
    "start_time": "2022-03-20T19:34:48.514Z"
   },
   {
    "duration": 0,
    "start_time": "2022-03-20T19:34:48.516Z"
   },
   {
    "duration": 0,
    "start_time": "2022-03-20T19:34:48.518Z"
   },
   {
    "duration": 0,
    "start_time": "2022-03-20T19:34:48.520Z"
   },
   {
    "duration": 0,
    "start_time": "2022-03-20T19:34:48.521Z"
   },
   {
    "duration": 0,
    "start_time": "2022-03-20T19:34:48.523Z"
   },
   {
    "duration": 0,
    "start_time": "2022-03-20T19:34:48.525Z"
   },
   {
    "duration": 0,
    "start_time": "2022-03-20T19:34:48.526Z"
   },
   {
    "duration": 0,
    "start_time": "2022-03-20T19:34:48.543Z"
   },
   {
    "duration": 0,
    "start_time": "2022-03-20T19:34:48.545Z"
   },
   {
    "duration": 0,
    "start_time": "2022-03-20T19:34:48.546Z"
   },
   {
    "duration": 0,
    "start_time": "2022-03-20T19:34:48.547Z"
   },
   {
    "duration": 0,
    "start_time": "2022-03-20T19:34:48.549Z"
   },
   {
    "duration": 0,
    "start_time": "2022-03-20T19:34:48.550Z"
   },
   {
    "duration": 0,
    "start_time": "2022-03-20T19:34:48.551Z"
   },
   {
    "duration": 0,
    "start_time": "2022-03-20T19:34:48.553Z"
   },
   {
    "duration": 0,
    "start_time": "2022-03-20T19:34:48.554Z"
   },
   {
    "duration": 0,
    "start_time": "2022-03-20T19:34:48.556Z"
   },
   {
    "duration": 0,
    "start_time": "2022-03-20T19:34:48.557Z"
   },
   {
    "duration": 0,
    "start_time": "2022-03-20T19:34:48.558Z"
   },
   {
    "duration": 0,
    "start_time": "2022-03-20T19:34:48.561Z"
   },
   {
    "duration": 0,
    "start_time": "2022-03-20T19:34:48.562Z"
   },
   {
    "duration": 0,
    "start_time": "2022-03-20T19:34:48.563Z"
   },
   {
    "duration": 0,
    "start_time": "2022-03-20T19:34:48.565Z"
   },
   {
    "duration": 0,
    "start_time": "2022-03-20T19:34:48.567Z"
   },
   {
    "duration": 0,
    "start_time": "2022-03-20T19:34:48.568Z"
   },
   {
    "duration": 0,
    "start_time": "2022-03-20T19:34:48.569Z"
   },
   {
    "duration": 0,
    "start_time": "2022-03-20T19:34:48.571Z"
   },
   {
    "duration": 0,
    "start_time": "2022-03-20T19:34:48.572Z"
   },
   {
    "duration": 0,
    "start_time": "2022-03-20T19:34:48.574Z"
   },
   {
    "duration": 0,
    "start_time": "2022-03-20T19:34:48.575Z"
   },
   {
    "duration": 0,
    "start_time": "2022-03-20T19:34:48.577Z"
   },
   {
    "duration": 0,
    "start_time": "2022-03-20T19:34:48.578Z"
   },
   {
    "duration": 0,
    "start_time": "2022-03-20T19:34:48.579Z"
   },
   {
    "duration": 0,
    "start_time": "2022-03-20T19:34:48.580Z"
   },
   {
    "duration": 0,
    "start_time": "2022-03-20T19:34:48.581Z"
   },
   {
    "duration": 0,
    "start_time": "2022-03-20T19:34:48.643Z"
   },
   {
    "duration": 1,
    "start_time": "2022-03-20T19:34:48.645Z"
   },
   {
    "duration": 0,
    "start_time": "2022-03-20T19:34:48.648Z"
   },
   {
    "duration": 7,
    "start_time": "2022-03-20T19:34:59.991Z"
   },
   {
    "duration": 2564,
    "start_time": "2022-03-20T19:36:29.214Z"
   },
   {
    "duration": 190,
    "start_time": "2022-03-20T19:36:31.782Z"
   },
   {
    "duration": 24,
    "start_time": "2022-03-20T19:36:31.975Z"
   },
   {
    "duration": 1869,
    "start_time": "2022-03-20T19:36:32.003Z"
   },
   {
    "duration": 535,
    "start_time": "2022-03-20T19:36:33.875Z"
   },
   {
    "duration": 40,
    "start_time": "2022-03-20T19:36:34.412Z"
   },
   {
    "duration": 17,
    "start_time": "2022-03-20T19:36:34.455Z"
   },
   {
    "duration": 123,
    "start_time": "2022-03-20T19:36:34.474Z"
   },
   {
    "duration": 68,
    "start_time": "2022-03-20T19:36:34.600Z"
   },
   {
    "duration": 13,
    "start_time": "2022-03-20T19:36:34.671Z"
   },
   {
    "duration": 23,
    "start_time": "2022-03-20T19:36:34.687Z"
   },
   {
    "duration": 36,
    "start_time": "2022-03-20T19:36:34.713Z"
   },
   {
    "duration": 21,
    "start_time": "2022-03-20T19:36:34.751Z"
   },
   {
    "duration": 33,
    "start_time": "2022-03-20T19:36:34.775Z"
   },
   {
    "duration": 16,
    "start_time": "2022-03-20T19:36:34.811Z"
   },
   {
    "duration": 18,
    "start_time": "2022-03-20T19:36:34.830Z"
   },
   {
    "duration": 20,
    "start_time": "2022-03-20T19:36:34.851Z"
   },
   {
    "duration": 352,
    "start_time": "2022-03-20T19:36:34.873Z"
   },
   {
    "duration": 18,
    "start_time": "2022-03-20T19:36:35.227Z"
   },
   {
    "duration": 25,
    "start_time": "2022-03-20T19:36:35.248Z"
   },
   {
    "duration": 24,
    "start_time": "2022-03-20T19:36:35.275Z"
   },
   {
    "duration": 71,
    "start_time": "2022-03-20T19:36:35.301Z"
   },
   {
    "duration": 8,
    "start_time": "2022-03-20T19:36:35.374Z"
   },
   {
    "duration": 71,
    "start_time": "2022-03-20T19:36:35.385Z"
   },
   {
    "duration": 30,
    "start_time": "2022-03-20T19:36:35.458Z"
   },
   {
    "duration": 278,
    "start_time": "2022-03-20T19:36:35.491Z"
   },
   {
    "duration": 10615,
    "start_time": "2022-03-20T19:36:35.772Z"
   },
   {
    "duration": 218020,
    "start_time": "2022-03-20T19:36:46.393Z"
   },
   {
    "duration": 695,
    "start_time": "2022-03-20T19:40:24.415Z"
   },
   {
    "duration": 11069,
    "start_time": "2022-03-20T19:40:25.112Z"
   },
   {
    "duration": 59,
    "start_time": "2022-03-20T19:40:36.184Z"
   },
   {
    "duration": 13397,
    "start_time": "2022-03-20T19:40:36.245Z"
   },
   {
    "duration": 30,
    "start_time": "2022-03-20T19:40:49.645Z"
   },
   {
    "duration": 7652,
    "start_time": "2022-03-20T19:40:49.677Z"
   },
   {
    "duration": 215483,
    "start_time": "2022-03-20T19:40:57.332Z"
   },
   {
    "duration": 377107,
    "start_time": "2022-03-20T19:44:32.817Z"
   },
   {
    "duration": 162970,
    "start_time": "2022-03-20T19:50:49.927Z"
   },
   {
    "duration": 708,
    "start_time": "2022-03-20T19:53:32.899Z"
   },
   {
    "duration": 803,
    "start_time": "2022-03-20T19:53:33.610Z"
   },
   {
    "duration": 695,
    "start_time": "2022-03-20T19:53:34.415Z"
   },
   {
    "duration": 39,
    "start_time": "2022-03-20T19:53:35.112Z"
   },
   {
    "duration": 247,
    "start_time": "2022-03-20T19:53:35.153Z"
   },
   {
    "duration": 405,
    "start_time": "2022-03-20T19:53:35.403Z"
   },
   {
    "duration": 400,
    "start_time": "2022-03-20T19:53:35.810Z"
   },
   {
    "duration": 16,
    "start_time": "2022-03-20T19:53:36.213Z"
   },
   {
    "duration": 1617,
    "start_time": "2022-03-21T15:59:24.287Z"
   },
   {
    "duration": 268,
    "start_time": "2022-03-21T15:59:25.906Z"
   },
   {
    "duration": 13,
    "start_time": "2022-03-21T15:59:26.176Z"
   },
   {
    "duration": 1234,
    "start_time": "2022-03-21T15:59:26.191Z"
   },
   {
    "duration": 369,
    "start_time": "2022-03-21T15:59:27.427Z"
   },
   {
    "duration": 25,
    "start_time": "2022-03-21T15:59:27.797Z"
   },
   {
    "duration": 12,
    "start_time": "2022-03-21T15:59:27.823Z"
   },
   {
    "duration": 76,
    "start_time": "2022-03-21T15:59:27.836Z"
   },
   {
    "duration": 39,
    "start_time": "2022-03-21T15:59:27.914Z"
   },
   {
    "duration": 7,
    "start_time": "2022-03-21T15:59:27.956Z"
   },
   {
    "duration": 6,
    "start_time": "2022-03-21T15:59:27.965Z"
   },
   {
    "duration": 40,
    "start_time": "2022-03-21T15:59:27.973Z"
   },
   {
    "duration": 8,
    "start_time": "2022-03-21T15:59:28.015Z"
   },
   {
    "duration": 6,
    "start_time": "2022-03-21T15:59:28.025Z"
   },
   {
    "duration": 5,
    "start_time": "2022-03-21T15:59:28.033Z"
   },
   {
    "duration": 5,
    "start_time": "2022-03-21T15:59:28.040Z"
   },
   {
    "duration": 6,
    "start_time": "2022-03-21T15:59:28.047Z"
   },
   {
    "duration": 242,
    "start_time": "2022-03-21T15:59:28.055Z"
   },
   {
    "duration": 12,
    "start_time": "2022-03-21T15:59:28.299Z"
   },
   {
    "duration": 15,
    "start_time": "2022-03-21T15:59:28.313Z"
   },
   {
    "duration": 15,
    "start_time": "2022-03-21T15:59:28.330Z"
   },
   {
    "duration": 24,
    "start_time": "2022-03-21T15:59:28.347Z"
   },
   {
    "duration": 7,
    "start_time": "2022-03-21T15:59:28.411Z"
   },
   {
    "duration": 23,
    "start_time": "2022-03-21T15:59:28.419Z"
   },
   {
    "duration": 21,
    "start_time": "2022-03-21T15:59:28.444Z"
   },
   {
    "duration": 189,
    "start_time": "2022-03-21T15:59:28.466Z"
   },
   {
    "duration": 7427,
    "start_time": "2022-03-21T15:59:28.659Z"
   },
   {
    "duration": 142766,
    "start_time": "2022-03-21T15:59:36.090Z"
   },
   {
    "duration": 567,
    "start_time": "2022-03-21T16:01:58.858Z"
   },
   {
    "duration": 7174,
    "start_time": "2022-03-21T16:01:59.427Z"
   },
   {
    "duration": 22,
    "start_time": "2022-03-21T16:02:06.609Z"
   },
   {
    "duration": 8566,
    "start_time": "2022-03-21T16:02:06.633Z"
   },
   {
    "duration": 24,
    "start_time": "2022-03-21T16:02:15.201Z"
   },
   {
    "duration": 4859,
    "start_time": "2022-03-21T16:02:15.227Z"
   },
   {
    "duration": 139831,
    "start_time": "2022-03-21T16:02:20.087Z"
   },
   {
    "duration": 194249,
    "start_time": "2022-03-21T16:04:39.920Z"
   },
   {
    "duration": 89667,
    "start_time": "2022-03-21T16:07:54.171Z"
   },
   {
    "duration": 584,
    "start_time": "2022-03-21T16:09:23.840Z"
   },
   {
    "duration": 673,
    "start_time": "2022-03-21T16:09:24.426Z"
   },
   {
    "duration": 452,
    "start_time": "2022-03-21T16:09:25.109Z"
   },
   {
    "duration": 13,
    "start_time": "2022-03-21T16:09:25.563Z"
   },
   {
    "duration": 164,
    "start_time": "2022-03-21T16:09:25.577Z"
   },
   {
    "duration": 262,
    "start_time": "2022-03-21T16:09:25.743Z"
   },
   {
    "duration": 194,
    "start_time": "2022-03-21T16:09:26.009Z"
   },
   {
    "duration": 11,
    "start_time": "2022-03-21T16:09:26.208Z"
   },
   {
    "duration": 63,
    "start_time": "2022-03-21T18:07:40.814Z"
   },
   {
    "duration": 14,
    "start_time": "2022-03-21T18:08:36.871Z"
   },
   {
    "duration": 22,
    "start_time": "2022-03-21T18:08:49.916Z"
   },
   {
    "duration": 13,
    "start_time": "2022-03-21T18:09:10.179Z"
   },
   {
    "duration": 36,
    "start_time": "2022-03-21T18:09:43.560Z"
   },
   {
    "duration": 37,
    "start_time": "2022-03-21T18:10:22.348Z"
   },
   {
    "duration": 14,
    "start_time": "2022-03-21T18:10:36.252Z"
   },
   {
    "duration": 2,
    "start_time": "2022-03-21T18:11:47.571Z"
   },
   {
    "duration": 3,
    "start_time": "2022-03-21T18:12:58.313Z"
   },
   {
    "duration": 3,
    "start_time": "2022-03-21T18:13:04.085Z"
   },
   {
    "duration": 2,
    "start_time": "2022-03-21T18:13:11.619Z"
   },
   {
    "duration": 3,
    "start_time": "2022-03-21T18:13:19.081Z"
   },
   {
    "duration": 69,
    "start_time": "2022-03-21T18:18:14.922Z"
   },
   {
    "duration": 59,
    "start_time": "2022-03-21T18:24:38.985Z"
   },
   {
    "duration": 4,
    "start_time": "2022-03-21T18:24:42.538Z"
   },
   {
    "duration": 4,
    "start_time": "2022-03-21T18:25:00.369Z"
   },
   {
    "duration": 111,
    "start_time": "2022-03-21T18:25:36.152Z"
   },
   {
    "duration": 10,
    "start_time": "2022-03-21T18:25:55.001Z"
   },
   {
    "duration": 12,
    "start_time": "2022-03-21T18:26:14.216Z"
   },
   {
    "duration": 5,
    "start_time": "2022-03-21T18:26:36.981Z"
   },
   {
    "duration": 5,
    "start_time": "2022-03-21T18:26:41.467Z"
   },
   {
    "duration": 8,
    "start_time": "2022-03-21T18:26:56.099Z"
   },
   {
    "duration": 8,
    "start_time": "2022-03-21T18:27:13.006Z"
   },
   {
    "duration": 8,
    "start_time": "2022-03-21T18:27:17.656Z"
   },
   {
    "duration": 8,
    "start_time": "2022-03-21T18:27:26.003Z"
   },
   {
    "duration": 3,
    "start_time": "2022-03-21T18:28:06.518Z"
   },
   {
    "duration": 10,
    "start_time": "2022-03-21T18:28:11.548Z"
   },
   {
    "duration": 6,
    "start_time": "2022-03-21T18:28:20.839Z"
   },
   {
    "duration": 88,
    "start_time": "2022-03-21T18:29:28.751Z"
   },
   {
    "duration": 95,
    "start_time": "2022-03-21T18:30:40.598Z"
   },
   {
    "duration": 112,
    "start_time": "2022-03-21T18:31:40.584Z"
   },
   {
    "duration": 200,
    "start_time": "2022-03-21T18:32:30.459Z"
   },
   {
    "duration": 118,
    "start_time": "2022-03-21T18:32:40.940Z"
   },
   {
    "duration": 114,
    "start_time": "2022-03-21T18:32:50.243Z"
   },
   {
    "duration": 116,
    "start_time": "2022-03-21T18:33:38.346Z"
   },
   {
    "duration": 344,
    "start_time": "2022-03-21T18:35:35.126Z"
   },
   {
    "duration": 135,
    "start_time": "2022-03-21T18:35:40.502Z"
   },
   {
    "duration": 117,
    "start_time": "2022-03-21T18:35:46.803Z"
   },
   {
    "duration": 15,
    "start_time": "2022-03-21T18:36:23.580Z"
   },
   {
    "duration": 105,
    "start_time": "2022-03-21T18:36:29.653Z"
   },
   {
    "duration": 109,
    "start_time": "2022-03-21T18:37:34.629Z"
   },
   {
    "duration": 110,
    "start_time": "2022-03-21T18:37:40.436Z"
   },
   {
    "duration": 104,
    "start_time": "2022-03-21T18:37:45.842Z"
   },
   {
    "duration": 107,
    "start_time": "2022-03-21T18:38:54.820Z"
   },
   {
    "duration": 66,
    "start_time": "2022-03-21T18:39:11.678Z"
   },
   {
    "duration": 63,
    "start_time": "2022-03-21T18:39:17.725Z"
   },
   {
    "duration": 242,
    "start_time": "2022-03-21T18:41:10.723Z"
   },
   {
    "duration": 107,
    "start_time": "2022-03-21T18:41:14.868Z"
   },
   {
    "duration": 106,
    "start_time": "2022-03-21T18:44:24.896Z"
   },
   {
    "duration": 58,
    "start_time": "2022-03-21T18:44:34.340Z"
   },
   {
    "duration": 65,
    "start_time": "2022-03-21T18:44:40.462Z"
   },
   {
    "duration": 14,
    "start_time": "2022-03-21T18:47:19.063Z"
   },
   {
    "duration": 14,
    "start_time": "2022-03-21T18:47:28.848Z"
   },
   {
    "duration": 12,
    "start_time": "2022-03-21T18:47:41.428Z"
   },
   {
    "duration": 292,
    "start_time": "2022-03-21T18:47:49.374Z"
   },
   {
    "duration": 41511,
    "start_time": "2022-03-21T18:49:21.420Z"
   },
   {
    "duration": 107,
    "start_time": "2022-03-21T18:54:07.322Z"
   },
   {
    "duration": 107,
    "start_time": "2022-03-21T18:54:14.320Z"
   },
   {
    "duration": 109,
    "start_time": "2022-03-21T18:55:26.445Z"
   },
   {
    "duration": 67,
    "start_time": "2022-03-21T18:56:17.839Z"
   },
   {
    "duration": 63,
    "start_time": "2022-03-21T18:56:38.120Z"
   },
   {
    "duration": 103,
    "start_time": "2022-03-21T18:56:58.190Z"
   },
   {
    "duration": 5,
    "start_time": "2022-03-21T18:57:18.691Z"
   },
   {
    "duration": 116,
    "start_time": "2022-03-21T18:57:25.530Z"
   },
   {
    "duration": 114,
    "start_time": "2022-03-21T18:58:04.673Z"
   },
   {
    "duration": 0,
    "start_time": "2022-03-21T18:59:32.961Z"
   },
   {
    "duration": 83,
    "start_time": "2022-03-21T18:59:35.217Z"
   },
   {
    "duration": 95,
    "start_time": "2022-03-21T19:00:22.380Z"
   },
   {
    "duration": 90,
    "start_time": "2022-03-21T19:00:54.314Z"
   },
   {
    "duration": 104,
    "start_time": "2022-03-21T19:01:40.879Z"
   },
   {
    "duration": 103,
    "start_time": "2022-03-21T19:02:36.158Z"
   },
   {
    "duration": 5,
    "start_time": "2022-03-21T19:15:31.916Z"
   },
   {
    "duration": 116,
    "start_time": "2022-03-21T19:15:31.928Z"
   },
   {
    "duration": 14,
    "start_time": "2022-03-21T19:15:32.046Z"
   },
   {
    "duration": 1147,
    "start_time": "2022-03-21T19:15:32.061Z"
   },
   {
    "duration": 363,
    "start_time": "2022-03-21T19:15:33.210Z"
   },
   {
    "duration": 15,
    "start_time": "2022-03-21T19:15:33.576Z"
   },
   {
    "duration": 25,
    "start_time": "2022-03-21T19:15:33.592Z"
   },
   {
    "duration": 3,
    "start_time": "2022-03-21T19:15:33.618Z"
   },
   {
    "duration": 4,
    "start_time": "2022-03-21T19:15:33.622Z"
   },
   {
    "duration": 4,
    "start_time": "2022-03-21T19:15:33.628Z"
   },
   {
    "duration": 7,
    "start_time": "2022-03-21T19:15:33.634Z"
   },
   {
    "duration": 8,
    "start_time": "2022-03-21T19:15:33.643Z"
   },
   {
    "duration": 7,
    "start_time": "2022-03-21T19:15:33.653Z"
   },
   {
    "duration": 9,
    "start_time": "2022-03-21T19:15:33.662Z"
   },
   {
    "duration": 36,
    "start_time": "2022-03-21T19:15:33.674Z"
   },
   {
    "duration": 6,
    "start_time": "2022-03-21T19:15:33.711Z"
   },
   {
    "duration": 7,
    "start_time": "2022-03-21T19:15:33.718Z"
   },
   {
    "duration": 7,
    "start_time": "2022-03-21T19:15:33.727Z"
   },
   {
    "duration": 7,
    "start_time": "2022-03-21T19:15:33.736Z"
   },
   {
    "duration": 17,
    "start_time": "2022-03-21T19:15:33.745Z"
   },
   {
    "duration": 15,
    "start_time": "2022-03-21T19:15:33.764Z"
   },
   {
    "duration": 24,
    "start_time": "2022-03-21T19:15:33.808Z"
   },
   {
    "duration": 6,
    "start_time": "2022-03-21T19:15:33.833Z"
   },
   {
    "duration": 21,
    "start_time": "2022-03-21T19:15:33.840Z"
   },
   {
    "duration": 51,
    "start_time": "2022-03-21T19:15:33.863Z"
   },
   {
    "duration": 153,
    "start_time": "2022-03-21T19:15:33.915Z"
   },
   {
    "duration": 112,
    "start_time": "2022-03-21T19:15:34.070Z"
   },
   {
    "duration": 7078,
    "start_time": "2022-03-21T19:15:34.184Z"
   },
   {
    "duration": 139640,
    "start_time": "2022-03-21T19:15:41.263Z"
   },
   {
    "duration": 935,
    "start_time": "2022-03-21T19:18:00.909Z"
   },
   {
    "duration": 7265,
    "start_time": "2022-03-21T19:18:01.846Z"
   },
   {
    "duration": 21,
    "start_time": "2022-03-21T19:18:09.113Z"
   },
   {
    "duration": 8644,
    "start_time": "2022-03-21T19:18:09.135Z"
   },
   {
    "duration": 31,
    "start_time": "2022-03-21T19:18:17.781Z"
   },
   {
    "duration": 4712,
    "start_time": "2022-03-21T19:18:17.814Z"
   },
   {
    "duration": 140164,
    "start_time": "2022-03-21T19:18:22.528Z"
   },
   {
    "duration": 192118,
    "start_time": "2022-03-21T19:20:42.694Z"
   },
   {
    "duration": 89880,
    "start_time": "2022-03-21T19:23:54.814Z"
   },
   {
    "duration": 416,
    "start_time": "2022-03-21T19:25:24.697Z"
   },
   {
    "duration": 682,
    "start_time": "2022-03-21T19:25:25.115Z"
   },
   {
    "duration": 524,
    "start_time": "2022-03-21T19:25:25.799Z"
   },
   {
    "duration": 14,
    "start_time": "2022-03-21T19:25:26.327Z"
   },
   {
    "duration": 161,
    "start_time": "2022-03-21T19:25:26.343Z"
   },
   {
    "duration": 265,
    "start_time": "2022-03-21T19:25:26.509Z"
   },
   {
    "duration": 202,
    "start_time": "2022-03-21T19:25:26.775Z"
   },
   {
    "duration": 12,
    "start_time": "2022-03-21T19:25:26.979Z"
   }
  ],
  "kernelspec": {
   "display_name": "Python 3 (ipykernel)",
   "language": "python",
   "name": "python3"
  },
  "language_info": {
   "codemirror_mode": {
    "name": "ipython",
    "version": 3
   },
   "file_extension": ".py",
   "mimetype": "text/x-python",
   "name": "python",
   "nbconvert_exporter": "python",
   "pygments_lexer": "ipython3",
   "version": "3.9.12"
  },
  "toc": {
   "base_numbering": 1,
   "nav_menu": {},
   "number_sections": true,
   "sideBar": true,
   "skip_h1_title": true,
   "title_cell": "Содержание",
   "title_sidebar": "Содержание",
   "toc_cell": true,
   "toc_position": {
    "height": "calc(100% - 180px)",
    "left": "10px",
    "top": "150px",
    "width": "290px"
   },
   "toc_section_display": true,
   "toc_window_display": true
  },
  "varInspector": {
   "cols": {
    "lenName": 16,
    "lenType": 16,
    "lenVar": 40
   },
   "kernels_config": {
    "python": {
     "delete_cmd_postfix": "",
     "delete_cmd_prefix": "del ",
     "library": "var_list.py",
     "varRefreshCmd": "print(var_dic_list())"
    },
    "r": {
     "delete_cmd_postfix": ") ",
     "delete_cmd_prefix": "rm(",
     "library": "var_list.r",
     "varRefreshCmd": "cat(var_dic_list()) "
    }
   },
   "types_to_exclude": [
    "module",
    "function",
    "builtin_function_or_method",
    "instance",
    "_Feature"
   ],
   "window_display": false
  }
 },
 "nbformat": 4,
 "nbformat_minor": 2
}

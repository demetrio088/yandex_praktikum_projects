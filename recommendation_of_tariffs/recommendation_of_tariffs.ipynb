{
 "cells": [
  {
   "cell_type": "markdown",
   "metadata": {},
   "source": [
    "# Рекомендация тарифов"
   ]
  },
  {
   "cell_type": "markdown",
   "metadata": {},
   "source": [
    "В нашем распоряжении данные о поведении клиентов, которые уже перешли на эти тарифы. Построим модель для задачи классификации, которая выберет подходящий тариф.\n",
    "\n",
    "Задача - построить модель с максимально большим значением *accuracy*. Необходимо довести долю правильных ответов до 0.75. Проверим *accuracy* на тестовой выборке самостоятельно. Проверим адекватность построенных моделей."
   ]
  },
  {
   "cell_type": "markdown",
   "metadata": {
    "toc": true
   },
   "source": [
    "<h1>Содержание<span class=\"tocSkip\"></span></h1>\n",
    "<div class=\"toc\"><ul class=\"toc-item\"><li><span><a href=\"#Откроем-и-изучим-файл\" data-toc-modified-id=\"Откроем-и-изучим-файл-1\"><span class=\"toc-item-num\">1&nbsp;&nbsp;</span>Откроем и изучим файл</a></span></li><li><span><a href=\"#Исследуем-мультиколлинеарность-факторов/признаков-датасета\" data-toc-modified-id=\"Исследуем-мультиколлинеарность-факторов/признаков-датасета-2\"><span class=\"toc-item-num\">2&nbsp;&nbsp;</span>Исследуем мультиколлинеарность факторов/признаков датасета</a></span></li><li><span><a href=\"#Разобьем-данные-на-выборки\" data-toc-modified-id=\"Разобьем-данные-на-выборки-3\"><span class=\"toc-item-num\">3&nbsp;&nbsp;</span>Разобьем данные на выборки</a></span></li><li><span><a href=\"#Исследуем-модели\" data-toc-modified-id=\"Исследуем-модели-4\"><span class=\"toc-item-num\">4&nbsp;&nbsp;</span>Исследуем модели</a></span><ul class=\"toc-item\"><li><span><a href=\"#Подготовим-данные-для-обучения-и-теста-на-валидационной-выборке\" data-toc-modified-id=\"Подготовим-данные-для-обучения-и-теста-на-валидационной-выборке-4.1\"><span class=\"toc-item-num\">4.1&nbsp;&nbsp;</span>Подготовим данные для обучения и теста на валидационной выборке</a></span></li><li><span><a href=\"#Модель-на-основе-алгоритма-DecisionTreeClassifier\" data-toc-modified-id=\"Модель-на-основе-алгоритма-DecisionTreeClassifier-4.2\"><span class=\"toc-item-num\">4.2&nbsp;&nbsp;</span>Модель на основе алгоритма DecisionTreeClassifier</a></span></li><li><span><a href=\"#Модель-на-основе-алгоритма-RandomForestClassifier\" data-toc-modified-id=\"Модель-на-основе-алгоритма-RandomForestClassifier-4.3\"><span class=\"toc-item-num\">4.3&nbsp;&nbsp;</span>Модель на основе алгоритма RandomForestClassifier</a></span></li><li><span><a href=\"#Модель-на-основе-алгоритма-LogisticRegression\" data-toc-modified-id=\"Модель-на-основе-алгоритма-LogisticRegression-4.4\"><span class=\"toc-item-num\">4.4&nbsp;&nbsp;</span>Модель на основе алгоритма LogisticRegression</a></span></li></ul></li><li><span><a href=\"#Проверим-модели-на-тестовой-выборке\" data-toc-modified-id=\"Проверим-модели-на-тестовой-выборке-5\"><span class=\"toc-item-num\">5&nbsp;&nbsp;</span>Проверим модели на тестовой выборке</a></span><ul class=\"toc-item\"><li><span><a href=\"#Подготовим-данные-для-теста-на-тестовой-выборке\" data-toc-modified-id=\"Подготовим-данные-для-теста-на-тестовой-выборке-5.1\"><span class=\"toc-item-num\">5.1&nbsp;&nbsp;</span>Подготовим данные для теста на тестовой выборке</a></span></li><li><span><a href=\"#Проверим-модель-на-основе-алгоритма-DecisionTreeClassifier-на-тестовой-выборке\" data-toc-modified-id=\"Проверим-модель-на-основе-алгоритма-DecisionTreeClassifier-на-тестовой-выборке-5.2\"><span class=\"toc-item-num\">5.2&nbsp;&nbsp;</span>Проверим модель на основе алгоритма DecisionTreeClassifier на тестовой выборке</a></span></li><li><span><a href=\"#Проверим-модель-на-основе-алгоритма-RandomForestClassifier-на-тестовой-выборке\" data-toc-modified-id=\"Проверим-модель-на-основе-алгоритма-RandomForestClassifier-на-тестовой-выборке-5.3\"><span class=\"toc-item-num\">5.3&nbsp;&nbsp;</span>Проверим модель на основе алгоритма RandomForestClassifier на тестовой выборке</a></span></li><li><span><a href=\"#Проверим-модель-на-основе-алгоритма-LogisticRegression-на-тестовой-выборке\" data-toc-modified-id=\"Проверим-модель-на-основе-алгоритма-LogisticRegression-на-тестовой-выборке-5.4\"><span class=\"toc-item-num\">5.4&nbsp;&nbsp;</span>Проверим модель на основе алгоритма LogisticRegression на тестовой выборке</a></span></li><li><span><a href=\"#Сравнение-результатов-работы-моделей-и-вывод\" data-toc-modified-id=\"Сравнение-результатов-работы-моделей-и-вывод-5.5\"><span class=\"toc-item-num\">5.5&nbsp;&nbsp;</span>Сравнение результатов работы моделей и вывод</a></span></li></ul></li><li><span><a href=\"#Проверим-модели-на-адекватность\" data-toc-modified-id=\"Проверим-модели-на-адекватность-6\"><span class=\"toc-item-num\">6&nbsp;&nbsp;</span>Проверим модели на адекватность</a></span><ul class=\"toc-item\"><li><span><a href=\"#Сравним-модели-с-простейшей-моделью-наивного-байесовского-метода(Naive-Bayes)\" data-toc-modified-id=\"Сравним-модели-с-простейшей-моделью-наивного-байесовского-метода(Naive-Bayes)-6.1\"><span class=\"toc-item-num\">6.1&nbsp;&nbsp;</span>Сравним модели с простейшей моделью наивного байесовского метода(Naive Bayes)</a></span></li><li><span><a href=\"#Cделаем-оценку-и-сравнение-моделей-по-метрикам-Precision,--Recall,-F1-score.\" data-toc-modified-id=\"Cделаем-оценку-и-сравнение-моделей-по-метрикам-Precision,--Recall,-F1-score.-6.2\"><span class=\"toc-item-num\">6.2&nbsp;&nbsp;</span>Cделаем оценку и сравнение моделей по метрикам Precision,  Recall, F1 score.</a></span></li></ul></li></ul></div>"
   ]
  },
  {
   "cell_type": "markdown",
   "metadata": {},
   "source": [
    "## Откроем и изучим файл"
   ]
  },
  {
   "cell_type": "code",
   "execution_count": 162,
   "metadata": {},
   "outputs": [],
   "source": [
    "# импорт необходимых для проекта библиотек\n",
    "import pandas as pd\n",
    "from sklearn.tree import DecisionTreeClassifier # импорт структуры данных классификации дерева решений\n",
    "from sklearn.ensemble import RandomForestClassifier # импорт алгоритма классификации - случайный лес\n",
    "from sklearn.linear_model import LogisticRegression # импорт алгоритма логистической регрессии\n",
    "from sklearn.metrics import accuracy_score # импорт метрики для проверки доли правельных ответов\n",
    "from sklearn.model_selection import train_test_split # импортируюм функцию для разбивки датасета на обучающую, валидационную и тестовую выборки\n",
    "from sklearn.naive_bayes import GaussianNB # импорт алгоритма наивного байесовского классификатора\n",
    "from sklearn.metrics import precision_score, recall_score # импорт дополнительных метрик для оценки адекватности моделей: точность, полнота\n",
    "from sklearn.metrics import f1_score # F-мера\n",
    "import warnings # для удаления незначительных предупреждений\n",
    "import matplotlib.pyplot as plt # импорт библиотеки для создания графиков"
   ]
  },
  {
   "cell_type": "code",
   "execution_count": 163,
   "metadata": {},
   "outputs": [],
   "source": [
    "# убираем незначительные предупреждения\n",
    "warnings.filterwarnings('ignore')"
   ]
  },
  {
   "cell_type": "code",
   "execution_count": 164,
   "metadata": {},
   "outputs": [],
   "source": [
    "# убираем лимиты на максимальное количество отображаемых данных\n",
    "pd.set_option('display.max_rows', None)\n",
    "pd.set_option('display.max_columns', None)"
   ]
  },
  {
   "cell_type": "code",
   "execution_count": 165,
   "metadata": {
    "scrolled": true
   },
   "outputs": [
    {
     "name": "stdout",
     "output_type": "stream",
     "text": [
      "Head\n"
     ]
    },
    {
     "data": {
      "text/html": [
       "<div>\n",
       "<style scoped>\n",
       "    .dataframe tbody tr th:only-of-type {\n",
       "        vertical-align: middle;\n",
       "    }\n",
       "\n",
       "    .dataframe tbody tr th {\n",
       "        vertical-align: top;\n",
       "    }\n",
       "\n",
       "    .dataframe thead th {\n",
       "        text-align: right;\n",
       "    }\n",
       "</style>\n",
       "<table border=\"1\" class=\"dataframe\">\n",
       "  <thead>\n",
       "    <tr style=\"text-align: right;\">\n",
       "      <th></th>\n",
       "      <th>calls</th>\n",
       "      <th>minutes</th>\n",
       "      <th>messages</th>\n",
       "      <th>mb_used</th>\n",
       "      <th>is_ultra</th>\n",
       "    </tr>\n",
       "  </thead>\n",
       "  <tbody>\n",
       "    <tr>\n",
       "      <td>0</td>\n",
       "      <td>40.0</td>\n",
       "      <td>311.90</td>\n",
       "      <td>83.0</td>\n",
       "      <td>19915.42</td>\n",
       "      <td>0</td>\n",
       "    </tr>\n",
       "    <tr>\n",
       "      <td>1</td>\n",
       "      <td>85.0</td>\n",
       "      <td>516.75</td>\n",
       "      <td>56.0</td>\n",
       "      <td>22696.96</td>\n",
       "      <td>0</td>\n",
       "    </tr>\n",
       "    <tr>\n",
       "      <td>2</td>\n",
       "      <td>77.0</td>\n",
       "      <td>467.66</td>\n",
       "      <td>86.0</td>\n",
       "      <td>21060.45</td>\n",
       "      <td>0</td>\n",
       "    </tr>\n",
       "    <tr>\n",
       "      <td>3</td>\n",
       "      <td>106.0</td>\n",
       "      <td>745.53</td>\n",
       "      <td>81.0</td>\n",
       "      <td>8437.39</td>\n",
       "      <td>1</td>\n",
       "    </tr>\n",
       "    <tr>\n",
       "      <td>4</td>\n",
       "      <td>66.0</td>\n",
       "      <td>418.74</td>\n",
       "      <td>1.0</td>\n",
       "      <td>14502.75</td>\n",
       "      <td>0</td>\n",
       "    </tr>\n",
       "    <tr>\n",
       "      <td>5</td>\n",
       "      <td>58.0</td>\n",
       "      <td>344.56</td>\n",
       "      <td>21.0</td>\n",
       "      <td>15823.37</td>\n",
       "      <td>0</td>\n",
       "    </tr>\n",
       "    <tr>\n",
       "      <td>6</td>\n",
       "      <td>57.0</td>\n",
       "      <td>431.64</td>\n",
       "      <td>20.0</td>\n",
       "      <td>3738.90</td>\n",
       "      <td>1</td>\n",
       "    </tr>\n",
       "    <tr>\n",
       "      <td>7</td>\n",
       "      <td>15.0</td>\n",
       "      <td>132.40</td>\n",
       "      <td>6.0</td>\n",
       "      <td>21911.60</td>\n",
       "      <td>0</td>\n",
       "    </tr>\n",
       "    <tr>\n",
       "      <td>8</td>\n",
       "      <td>7.0</td>\n",
       "      <td>43.39</td>\n",
       "      <td>3.0</td>\n",
       "      <td>2538.67</td>\n",
       "      <td>1</td>\n",
       "    </tr>\n",
       "    <tr>\n",
       "      <td>9</td>\n",
       "      <td>90.0</td>\n",
       "      <td>665.41</td>\n",
       "      <td>38.0</td>\n",
       "      <td>17358.61</td>\n",
       "      <td>0</td>\n",
       "    </tr>\n",
       "  </tbody>\n",
       "</table>\n",
       "</div>"
      ],
      "text/plain": [
       "   calls  minutes  messages   mb_used  is_ultra\n",
       "0   40.0   311.90      83.0  19915.42         0\n",
       "1   85.0   516.75      56.0  22696.96         0\n",
       "2   77.0   467.66      86.0  21060.45         0\n",
       "3  106.0   745.53      81.0   8437.39         1\n",
       "4   66.0   418.74       1.0  14502.75         0\n",
       "5   58.0   344.56      21.0  15823.37         0\n",
       "6   57.0   431.64      20.0   3738.90         1\n",
       "7   15.0   132.40       6.0  21911.60         0\n",
       "8    7.0    43.39       3.0   2538.67         1\n",
       "9   90.0   665.41      38.0  17358.61         0"
      ]
     },
     "metadata": {},
     "output_type": "display_data"
    },
    {
     "name": "stdout",
     "output_type": "stream",
     "text": [
      "Tail\n"
     ]
    },
    {
     "data": {
      "text/html": [
       "<div>\n",
       "<style scoped>\n",
       "    .dataframe tbody tr th:only-of-type {\n",
       "        vertical-align: middle;\n",
       "    }\n",
       "\n",
       "    .dataframe tbody tr th {\n",
       "        vertical-align: top;\n",
       "    }\n",
       "\n",
       "    .dataframe thead th {\n",
       "        text-align: right;\n",
       "    }\n",
       "</style>\n",
       "<table border=\"1\" class=\"dataframe\">\n",
       "  <thead>\n",
       "    <tr style=\"text-align: right;\">\n",
       "      <th></th>\n",
       "      <th>calls</th>\n",
       "      <th>minutes</th>\n",
       "      <th>messages</th>\n",
       "      <th>mb_used</th>\n",
       "      <th>is_ultra</th>\n",
       "    </tr>\n",
       "  </thead>\n",
       "  <tbody>\n",
       "    <tr>\n",
       "      <td>3204</td>\n",
       "      <td>86.0</td>\n",
       "      <td>658.66</td>\n",
       "      <td>47.0</td>\n",
       "      <td>14153.10</td>\n",
       "      <td>0</td>\n",
       "    </tr>\n",
       "    <tr>\n",
       "      <td>3205</td>\n",
       "      <td>59.0</td>\n",
       "      <td>412.81</td>\n",
       "      <td>16.0</td>\n",
       "      <td>14105.03</td>\n",
       "      <td>0</td>\n",
       "    </tr>\n",
       "    <tr>\n",
       "      <td>3206</td>\n",
       "      <td>76.0</td>\n",
       "      <td>586.51</td>\n",
       "      <td>54.0</td>\n",
       "      <td>14345.74</td>\n",
       "      <td>0</td>\n",
       "    </tr>\n",
       "    <tr>\n",
       "      <td>3207</td>\n",
       "      <td>17.0</td>\n",
       "      <td>92.39</td>\n",
       "      <td>2.0</td>\n",
       "      <td>4299.25</td>\n",
       "      <td>0</td>\n",
       "    </tr>\n",
       "    <tr>\n",
       "      <td>3208</td>\n",
       "      <td>164.0</td>\n",
       "      <td>1016.98</td>\n",
       "      <td>71.0</td>\n",
       "      <td>17787.52</td>\n",
       "      <td>1</td>\n",
       "    </tr>\n",
       "    <tr>\n",
       "      <td>3209</td>\n",
       "      <td>122.0</td>\n",
       "      <td>910.98</td>\n",
       "      <td>20.0</td>\n",
       "      <td>35124.90</td>\n",
       "      <td>1</td>\n",
       "    </tr>\n",
       "    <tr>\n",
       "      <td>3210</td>\n",
       "      <td>25.0</td>\n",
       "      <td>190.36</td>\n",
       "      <td>0.0</td>\n",
       "      <td>3275.61</td>\n",
       "      <td>0</td>\n",
       "    </tr>\n",
       "    <tr>\n",
       "      <td>3211</td>\n",
       "      <td>97.0</td>\n",
       "      <td>634.44</td>\n",
       "      <td>70.0</td>\n",
       "      <td>13974.06</td>\n",
       "      <td>0</td>\n",
       "    </tr>\n",
       "    <tr>\n",
       "      <td>3212</td>\n",
       "      <td>64.0</td>\n",
       "      <td>462.32</td>\n",
       "      <td>90.0</td>\n",
       "      <td>31239.78</td>\n",
       "      <td>0</td>\n",
       "    </tr>\n",
       "    <tr>\n",
       "      <td>3213</td>\n",
       "      <td>80.0</td>\n",
       "      <td>566.09</td>\n",
       "      <td>6.0</td>\n",
       "      <td>29480.52</td>\n",
       "      <td>1</td>\n",
       "    </tr>\n",
       "  </tbody>\n",
       "</table>\n",
       "</div>"
      ],
      "text/plain": [
       "      calls  minutes  messages   mb_used  is_ultra\n",
       "3204   86.0   658.66      47.0  14153.10         0\n",
       "3205   59.0   412.81      16.0  14105.03         0\n",
       "3206   76.0   586.51      54.0  14345.74         0\n",
       "3207   17.0    92.39       2.0   4299.25         0\n",
       "3208  164.0  1016.98      71.0  17787.52         1\n",
       "3209  122.0   910.98      20.0  35124.90         1\n",
       "3210   25.0   190.36       0.0   3275.61         0\n",
       "3211   97.0   634.44      70.0  13974.06         0\n",
       "3212   64.0   462.32      90.0  31239.78         0\n",
       "3213   80.0   566.09       6.0  29480.52         1"
      ]
     },
     "metadata": {},
     "output_type": "display_data"
    },
    {
     "name": "stdout",
     "output_type": "stream",
     "text": [
      "Info\n",
      "<class 'pandas.core.frame.DataFrame'>\n",
      "RangeIndex: 3214 entries, 0 to 3213\n",
      "Data columns (total 5 columns):\n",
      "calls       3214 non-null float64\n",
      "minutes     3214 non-null float64\n",
      "messages    3214 non-null float64\n",
      "mb_used     3214 non-null float64\n",
      "is_ultra    3214 non-null int64\n",
      "dtypes: float64(4), int64(1)\n",
      "memory usage: 125.7 KB\n"
     ]
    },
    {
     "data": {
      "text/plain": [
       "None"
      ]
     },
     "metadata": {},
     "output_type": "display_data"
    },
    {
     "name": "stdout",
     "output_type": "stream",
     "text": [
      "Described info\n"
     ]
    },
    {
     "data": {
      "text/html": [
       "<div>\n",
       "<style scoped>\n",
       "    .dataframe tbody tr th:only-of-type {\n",
       "        vertical-align: middle;\n",
       "    }\n",
       "\n",
       "    .dataframe tbody tr th {\n",
       "        vertical-align: top;\n",
       "    }\n",
       "\n",
       "    .dataframe thead th {\n",
       "        text-align: right;\n",
       "    }\n",
       "</style>\n",
       "<table border=\"1\" class=\"dataframe\">\n",
       "  <thead>\n",
       "    <tr style=\"text-align: right;\">\n",
       "      <th></th>\n",
       "      <th>calls</th>\n",
       "      <th>minutes</th>\n",
       "      <th>messages</th>\n",
       "      <th>mb_used</th>\n",
       "      <th>is_ultra</th>\n",
       "    </tr>\n",
       "  </thead>\n",
       "  <tbody>\n",
       "    <tr>\n",
       "      <td>count</td>\n",
       "      <td>3214.000000</td>\n",
       "      <td>3214.000000</td>\n",
       "      <td>3214.000000</td>\n",
       "      <td>3214.000000</td>\n",
       "      <td>3214.000000</td>\n",
       "    </tr>\n",
       "    <tr>\n",
       "      <td>mean</td>\n",
       "      <td>63.038892</td>\n",
       "      <td>438.208787</td>\n",
       "      <td>38.281269</td>\n",
       "      <td>17207.673836</td>\n",
       "      <td>0.306472</td>\n",
       "    </tr>\n",
       "    <tr>\n",
       "      <td>std</td>\n",
       "      <td>33.236368</td>\n",
       "      <td>234.569872</td>\n",
       "      <td>36.148326</td>\n",
       "      <td>7570.968246</td>\n",
       "      <td>0.461100</td>\n",
       "    </tr>\n",
       "    <tr>\n",
       "      <td>min</td>\n",
       "      <td>0.000000</td>\n",
       "      <td>0.000000</td>\n",
       "      <td>0.000000</td>\n",
       "      <td>0.000000</td>\n",
       "      <td>0.000000</td>\n",
       "    </tr>\n",
       "    <tr>\n",
       "      <td>25%</td>\n",
       "      <td>40.000000</td>\n",
       "      <td>274.575000</td>\n",
       "      <td>9.000000</td>\n",
       "      <td>12491.902500</td>\n",
       "      <td>0.000000</td>\n",
       "    </tr>\n",
       "    <tr>\n",
       "      <td>50%</td>\n",
       "      <td>62.000000</td>\n",
       "      <td>430.600000</td>\n",
       "      <td>30.000000</td>\n",
       "      <td>16943.235000</td>\n",
       "      <td>0.000000</td>\n",
       "    </tr>\n",
       "    <tr>\n",
       "      <td>75%</td>\n",
       "      <td>82.000000</td>\n",
       "      <td>571.927500</td>\n",
       "      <td>57.000000</td>\n",
       "      <td>21424.700000</td>\n",
       "      <td>1.000000</td>\n",
       "    </tr>\n",
       "    <tr>\n",
       "      <td>max</td>\n",
       "      <td>244.000000</td>\n",
       "      <td>1632.060000</td>\n",
       "      <td>224.000000</td>\n",
       "      <td>49745.730000</td>\n",
       "      <td>1.000000</td>\n",
       "    </tr>\n",
       "  </tbody>\n",
       "</table>\n",
       "</div>"
      ],
      "text/plain": [
       "             calls      minutes     messages       mb_used     is_ultra\n",
       "count  3214.000000  3214.000000  3214.000000   3214.000000  3214.000000\n",
       "mean     63.038892   438.208787    38.281269  17207.673836     0.306472\n",
       "std      33.236368   234.569872    36.148326   7570.968246     0.461100\n",
       "min       0.000000     0.000000     0.000000      0.000000     0.000000\n",
       "25%      40.000000   274.575000     9.000000  12491.902500     0.000000\n",
       "50%      62.000000   430.600000    30.000000  16943.235000     0.000000\n",
       "75%      82.000000   571.927500    57.000000  21424.700000     1.000000\n",
       "max     244.000000  1632.060000   224.000000  49745.730000     1.000000"
      ]
     },
     "metadata": {},
     "output_type": "display_data"
    },
    {
     "name": "stdout",
     "output_type": "stream",
     "text": [
      "About distribution\n"
     ]
    },
    {
     "data": {
      "text/plain": [
       "0    2229\n",
       "1     985\n",
       "Name: is_ultra, dtype: int64"
      ]
     },
     "metadata": {},
     "output_type": "display_data"
    }
   ],
   "source": [
    "# чтение и изучение файла\n",
    "df = pd.read_csv('/datasets/users_behavior.csv')\n",
    "print('Head')\n",
    "display(df.head(10))\n",
    "print('Tail')\n",
    "display(df.tail(10))\n",
    "print('Info')\n",
    "display(df.info())\n",
    "print('Described info')\n",
    "display(df.describe())\n",
    "print('About distribution')\n",
    "display(df['is_ultra'].value_counts())"
   ]
  },
  {
   "cell_type": "markdown",
   "metadata": {},
   "source": [
    "В общем датасете 3214 строк уникальных пользователей. Все строки данных заполнены данными, нулевых значений не обнаружено. \n",
    "Каждый объект в наборе данных — это информация о поведении одного пользователя за месяц. Известно:\n",
    "   - сalls — количество звонков,\n",
    "   - minutes — суммарная длительность звонков в минутах,\n",
    "   - messages — количество sms-сообщений,\n",
    "   - mb_used — израсходованный интернет-трафик в Мб,\n",
    "   - is_ultra — каким тарифом пользовался в течение месяца («Ультра» — 1, «Смарт» — 0).\n",
    "\n",
    "Категорий всего 2(бинарная(двоичная) классификация), поэтому будут использованы модели для задачи классификации, которая выберет подходящий тариф."
   ]
  },
  {
   "cell_type": "markdown",
   "metadata": {},
   "source": [
    "## Исследуем мультиколлинеарность факторов/признаков датасета"
   ]
  },
  {
   "cell_type": "code",
   "execution_count": 166,
   "metadata": {
    "scrolled": true
   },
   "outputs": [
    {
     "name": "stdout",
     "output_type": "stream",
     "text": [
      "Корреляция между сalls и minutes: 0.9820832355742293\n"
     ]
    },
    {
     "data": {
      "image/png": "[encoded data removed]",
      "text/plain": [
       "<Figure size 432x288 with 1 Axes>"
      ]
     },
     "metadata": {
      "needs_background": "light"
     },
     "output_type": "display_data"
    },
    {
     "name": "stdout",
     "output_type": "stream",
     "text": [
      "Корреляция между сalls и messages: 0.17738450121769536\n"
     ]
    },
    {
     "data": {
      "image/png": "[encoded data removed]",
      "text/plain": [
       "<Figure size 432x288 with 1 Axes>"
      ]
     },
     "metadata": {
      "needs_background": "light"
     },
     "output_type": "display_data"
    },
    {
     "name": "stdout",
     "output_type": "stream",
     "text": [
      "Корреляция между сalls и mb_used: 0.28644151203505447\n"
     ]
    },
    {
     "data": {
      "image/png": "[encoded data removed]",
      "text/plain": [
       "<Figure size 432x288 with 1 Axes>"
      ]
     },
     "metadata": {
      "needs_background": "light"
     },
     "output_type": "display_data"
    },
    {
     "name": "stdout",
     "output_type": "stream",
     "text": [
      "Корреляция между minutes и messages: 0.1731102258096908\n"
     ]
    },
    {
     "data": {
      "image/png": "[encoded data removed]",
      "text/plain": [
       "<Figure size 432x288 with 1 Axes>"
      ]
     },
     "metadata": {
      "needs_background": "light"
     },
     "output_type": "display_data"
    },
    {
     "name": "stdout",
     "output_type": "stream",
     "text": [
      "Корреляция между minutes и mb_used: 0.28096693508821474\n"
     ]
    },
    {
     "data": {
      "image/png": "[encoded data removed]",
      "text/plain": [
       "<Figure size 432x288 with 1 Axes>"
      ]
     },
     "metadata": {
      "needs_background": "light"
     },
     "output_type": "display_data"
    },
    {
     "name": "stdout",
     "output_type": "stream",
     "text": [
      "Корреляция между messages и mb_used: 0.19572112095582153\n"
     ]
    },
    {
     "data": {
      "image/png": "[encoded data removed]",
      "text/plain": [
       "<Figure size 432x288 with 1 Axes>"
      ]
     },
     "metadata": {
      "needs_background": "light"
     },
     "output_type": "display_data"
    }
   ],
   "source": [
    "# проверим корреляцию между признаками вычислив коэффициент корреляции Пирсона: сalls, minutes, messages, mb_used\n",
    "# корреляция между сalls и minutes\n",
    "print('Корреляция между сalls и minutes:', df['calls'].corr(df['minutes']))\n",
    "df.sort_values('calls').plot(x='minutes', y='calls',kind='scatter', alpha=0.03)\n",
    "plt.show()\n",
    "# корреляция между сalls и messages\n",
    "print('Корреляция между сalls и messages:', df['calls'].corr(df['messages']))\n",
    "df.sort_values('calls').plot(x='messages', y='calls',kind='scatter', alpha=0.03)\n",
    "plt.show()\n",
    "# корреляция между сalls и mb_used\n",
    "print('Корреляция между сalls и mb_used:', df['calls'].corr(df['mb_used']))\n",
    "df.sort_values('calls').plot(x='mb_used', y='calls',kind='scatter', alpha=0.03)\n",
    "plt.show()\n",
    "# корреляция между minutes и messages\n",
    "print('Корреляция между minutes и messages:', df['minutes'].corr(df['messages']))\n",
    "df.sort_values('minutes').plot(x='messages', y='minutes',kind='scatter', alpha=0.03)\n",
    "plt.show()\n",
    "# корреляция между minutes и mb_used\n",
    "print('Корреляция между minutes и mb_used:', df['minutes'].corr(df['mb_used']))\n",
    "df.sort_values('minutes').plot(x='mb_used', y='minutes',kind='scatter', alpha=0.03)\n",
    "plt.show()\n",
    "# корреляция между messages и mb_used\n",
    "print('Корреляция между messages и mb_used:', df['messages'].corr(df['mb_used']))\n",
    "df.sort_values('messages').plot(x='mb_used', y='messages',kind='scatter', alpha=0.03)\n",
    "plt.show()"
   ]
  },
  {
   "cell_type": "markdown",
   "metadata": {},
   "source": [
    "По итогам анализа признаков на предмет мультиколлинеарности были расчитаны коэффициенты корреляции Пирсона между каждым из признаков. Признаки с наибольшей корреляцией 0.98 - сalls и minutes, поэтому примем решение убрать признак calls при дальнейшем расчете моделей с целью исключения возможного переобучения(с отсутствующим признаком сalls). Уберем calls, а не minutes, т.к. тарификацию операторы не производят по количетсву звонков, количество влияет в механике округления каждого из звонков, но в данном случае анализ округленных и не округленных звонков не производим."
   ]
  },
  {
   "cell_type": "code",
   "execution_count": 167,
   "metadata": {
    "scrolled": true
   },
   "outputs": [
    {
     "name": "stdout",
     "output_type": "stream",
     "text": [
      "<class 'pandas.core.frame.DataFrame'>\n",
      "RangeIndex: 3214 entries, 0 to 3213\n",
      "Data columns (total 4 columns):\n",
      "minutes     3214 non-null float64\n",
      "messages    3214 non-null float64\n",
      "mb_used     3214 non-null float64\n",
      "is_ultra    3214 non-null int64\n",
      "dtypes: float64(3), int64(1)\n",
      "memory usage: 100.6 KB\n"
     ]
    },
    {
     "data": {
      "text/plain": [
       "None"
      ]
     },
     "metadata": {},
     "output_type": "display_data"
    },
    {
     "data": {
      "text/plain": [
       "Index(['minutes', 'messages', 'mb_used', 'is_ultra'], dtype='object')"
      ]
     },
     "metadata": {},
     "output_type": "display_data"
    }
   ],
   "source": [
    "# уберем из датафрейма df столбец calls, чтобы наши модели пересчитались с учетом оставшегося перечня признаков\n",
    "df = df.drop(['calls'], axis=1)\n",
    "display(df.info())\n",
    "display(df.columns)"
   ]
  },
  {
   "cell_type": "markdown",
   "metadata": {},
   "source": [
    "## Разобьем данные на выборки"
   ]
  },
  {
   "cell_type": "code",
   "execution_count": 168,
   "metadata": {
    "scrolled": true
   },
   "outputs": [
    {
     "name": "stdout",
     "output_type": "stream",
     "text": [
      "Training sample\n",
      "<class 'pandas.core.frame.DataFrame'>\n",
      "Int64Index: 1928 entries, 93 to 7\n",
      "Data columns (total 4 columns):\n",
      "minutes     1928 non-null float64\n",
      "messages    1928 non-null float64\n",
      "mb_used     1928 non-null float64\n",
      "is_ultra    1928 non-null int64\n",
      "dtypes: float64(3), int64(1)\n",
      "memory usage: 75.3 KB\n"
     ]
    },
    {
     "data": {
      "text/plain": [
       "None"
      ]
     },
     "metadata": {},
     "output_type": "display_data"
    },
    {
     "name": "stdout",
     "output_type": "stream",
     "text": [
      "Valid sample\n",
      "<class 'pandas.core.frame.DataFrame'>\n",
      "Int64Index: 643 entries, 2795 to 3010\n",
      "Data columns (total 4 columns):\n",
      "minutes     643 non-null float64\n",
      "messages    643 non-null float64\n",
      "mb_used     643 non-null float64\n",
      "is_ultra    643 non-null int64\n",
      "dtypes: float64(3), int64(1)\n",
      "memory usage: 25.1 KB\n"
     ]
    },
    {
     "data": {
      "text/plain": [
       "None"
      ]
     },
     "metadata": {},
     "output_type": "display_data"
    },
    {
     "name": "stdout",
     "output_type": "stream",
     "text": [
      "Test sample\n",
      "<class 'pandas.core.frame.DataFrame'>\n",
      "Int64Index: 643 entries, 3004 to 2710\n",
      "Data columns (total 4 columns):\n",
      "minutes     643 non-null float64\n",
      "messages    643 non-null float64\n",
      "mb_used     643 non-null float64\n",
      "is_ultra    643 non-null int64\n",
      "dtypes: float64(3), int64(1)\n",
      "memory usage: 25.1 KB\n"
     ]
    },
    {
     "data": {
      "text/plain": [
       "None"
      ]
     },
     "metadata": {},
     "output_type": "display_data"
    }
   ],
   "source": [
    "# разобьем выборку на две части: тренировочная выборка - 60%, тестовая и валидационная выборка - 40% \n",
    "df_train, df_valid_test = train_test_split(df, test_size=0.4, random_state=782347)\n",
    "# разобьем выборку df_valid_test на две части: валидационная выборка - 50%, тестовая выборка - 50%\n",
    "df_test, df_valid = train_test_split(df_valid_test, test_size=0.5, random_state=782347)\n",
    "# проверим, что получилось\n",
    "print('Training sample')\n",
    "display(df_train.info())\n",
    "print('Valid sample')\n",
    "display(df_valid.info())\n",
    "print('Test sample')\n",
    "display(df_test.info())"
   ]
  },
  {
   "cell_type": "markdown",
   "metadata": {},
   "source": [
    "Отсутствует спрятанная тестовая выборка, поэтому данные разбиты на 3 части: обучающую, валидационную, тестовую. Размеры тестового и валидационного наборов сделали равными. Исходные данные разбиты  в два этапа в соотношении 3:1:1."
   ]
  },
  {
   "cell_type": "markdown",
   "metadata": {},
   "source": [
    "## Исследуем модели"
   ]
  },
  {
   "cell_type": "markdown",
   "metadata": {},
   "source": [
    "### Подготовим данные для обучения и теста на валидационной выборке"
   ]
  },
  {
   "cell_type": "code",
   "execution_count": 169,
   "metadata": {},
   "outputs": [],
   "source": [
    "# данные для тренировки на тренировочной выборке\n",
    "df_train_features = df_train.drop(['is_ultra'], axis=1)\n",
    "df_train_target = df_train['is_ultra']\n",
    "# данные для проверки на валидационной выборке\n",
    "df_valid_features = df_valid.drop(['is_ultra'], axis=1)\n",
    "df_valid_target = df_valid['is_ultra']"
   ]
  },
  {
   "cell_type": "markdown",
   "metadata": {},
   "source": [
    "### Модель на основе алгоритма DecisionTreeClassifier"
   ]
  },
  {
   "cell_type": "code",
   "execution_count": 170,
   "metadata": {
    "scrolled": true
   },
   "outputs": [
    {
     "name": "stdout",
     "output_type": "stream",
     "text": [
      "max_depth = 1\n",
      "Accuracy score train: 0.745850622406639\n",
      "Accuracy score valid: 0.7262830482115086\n",
      "max_depth = 2\n",
      "Accuracy score train: 0.7759336099585062\n",
      "Accuracy score valid: 0.7620528771384136\n",
      "max_depth = 3\n",
      "Accuracy score train: 0.7909751037344398\n",
      "Accuracy score valid: 0.7791601866251944\n",
      "max_depth = 4\n",
      "Accuracy score train: 0.8018672199170125\n",
      "Accuracy score valid: 0.7822706065318819\n",
      "max_depth = 5\n",
      "Accuracy score train: 0.8060165975103735\n",
      "Accuracy score valid: 0.7667185069984448\n",
      "max_depth = 6\n",
      "Accuracy score train: 0.816908713692946\n",
      "Accuracy score valid: 0.7527216174183515\n",
      "max_depth = 7\n",
      "Accuracy score train: 0.8314315352697096\n",
      "Accuracy score valid: 0.7744945567651633\n",
      "max_depth = 8\n",
      "Accuracy score train: 0.8438796680497925\n",
      "Accuracy score valid: 0.7636080870917574\n",
      "max_depth = 9\n",
      "Accuracy score train: 0.8641078838174274\n",
      "Accuracy score valid: 0.7698289269051322\n",
      "max_depth = 10\n",
      "Accuracy score train: 0.8838174273858921\n",
      "Accuracy score valid: 0.7651632970451011\n",
      "max_depth = 11\n",
      "Accuracy score train: 0.8973029045643154\n",
      "Accuracy score valid: 0.7589424572317263\n",
      "max_depth = 12\n",
      "Accuracy score train: 0.9076763485477178\n",
      "Accuracy score valid: 0.7542768273716952\n",
      "max_depth = 13\n",
      "Accuracy score train: 0.921161825726141\n",
      "Accuracy score valid: 0.7558320373250389\n",
      "max_depth = 14\n",
      "Accuracy score train: 0.9315352697095436\n",
      "Accuracy score valid: 0.7573872472783826\n",
      "max_depth = 15\n",
      "Accuracy score train: 0.941908713692946\n",
      "Accuracy score valid: 0.749611197511664\n",
      "max_depth = 16\n",
      "Accuracy score train: 0.9533195020746889\n",
      "Accuracy score valid: 0.7465007776049767\n",
      "max_depth = 17\n",
      "Accuracy score train: 0.9616182572614108\n",
      "Accuracy score valid: 0.7371695178849145\n",
      "max_depth = 18\n",
      "Accuracy score train: 0.9699170124481328\n",
      "Accuracy score valid: 0.7418351477449455\n",
      "max_depth = 19\n",
      "Accuracy score train: 0.9740663900414938\n",
      "Accuracy score valid: 0.7371695178849145\n",
      "max_depth = 20\n",
      "Accuracy score train: 0.9797717842323651\n",
      "Accuracy score valid: 0.7387247278382582\n",
      "max_depth = 21\n",
      "Accuracy score train: 0.9854771784232366\n",
      "Accuracy score valid: 0.7278382581648523\n",
      "max_depth = 22\n",
      "Accuracy score train: 0.9885892116182573\n",
      "Accuracy score valid: 0.7216174183514774\n",
      "max_depth = 23\n",
      "Accuracy score train: 0.9906639004149378\n",
      "Accuracy score valid: 0.7231726283048211\n",
      "max_depth = 24\n",
      "Accuracy score train: 0.9937759336099585\n",
      "Accuracy score valid: 0.7231726283048211\n",
      "max_depth = 25\n",
      "Accuracy score train: 0.9942946058091287\n",
      "Accuracy score valid: 0.7231726283048211\n",
      "max_depth = 26\n",
      "Accuracy score train: 0.9963692946058091\n",
      "Accuracy score valid: 0.7231726283048211\n",
      "max_depth = 27\n",
      "Accuracy score train: 0.9979253112033195\n",
      "Accuracy score valid: 0.7278382581648523\n",
      "max_depth = 28\n",
      "Accuracy score train: 0.9989626556016598\n",
      "Accuracy score valid: 0.7371695178849145\n",
      "max_depth = 29\n",
      "Accuracy score train: 0.9994813278008299\n",
      "Accuracy score valid: 0.7340590979782271\n",
      "max_depth = 30\n",
      "Accuracy score train: 0.9994813278008299\n",
      "Accuracy score valid: 0.7278382581648523\n",
      "max_depth = 31\n",
      "Accuracy score train: 1.0\n",
      "Accuracy score valid: 0.7325038880248833\n",
      "max_depth = 32\n",
      "Accuracy score train: 1.0\n",
      "Accuracy score valid: 0.7325038880248833\n",
      "max_depth = 33\n",
      "Accuracy score train: 1.0\n",
      "Accuracy score valid: 0.7325038880248833\n",
      "max_depth = 34\n",
      "Accuracy score train: 1.0\n",
      "Accuracy score valid: 0.7325038880248833\n",
      "max_depth = 35\n",
      "Accuracy score train: 1.0\n",
      "Accuracy score valid: 0.7325038880248833\n",
      "max_depth = 36\n",
      "Accuracy score train: 1.0\n",
      "Accuracy score valid: 0.7325038880248833\n",
      "max_depth = 37\n",
      "Accuracy score train: 1.0\n",
      "Accuracy score valid: 0.7325038880248833\n",
      "max_depth = 38\n",
      "Accuracy score train: 1.0\n",
      "Accuracy score valid: 0.7325038880248833\n",
      "max_depth = 39\n",
      "Accuracy score train: 1.0\n",
      "Accuracy score valid: 0.7325038880248833\n",
      "Accuracy лучшей модели на валидационной выборке: 0.7822706065318819\n",
      "Глубина при наилучшем accuracy на валидационной выборке: 4\n"
     ]
    }
   ],
   "source": [
    "# посмотрим как ведет себя модель при разной глубине дерева\n",
    "best_model = None\n",
    "best_result = 0\n",
    "best_depth = 0\n",
    "for depth in range(1, 40):\n",
    "    # инициализируем модель\n",
    "    model_dtc = DecisionTreeClassifier(random_state=782347, max_depth=depth)\n",
    "    # обучим модель на тренировочной выборке\n",
    "    model_dtc.fit(df_train_features, df_train_target)\n",
    "    # протестируем модель на тренировочной выборке\n",
    "    recieved_tariff_df_train = model_dtc.predict(df_train_features)\n",
    "    # протестируем модель на валидационной выборке\n",
    "    recieved_tariff_df_valid = model_dtc.predict(df_valid_features)\n",
    "    # получим результат - оценка правильности модели при определенной глубине дерева\n",
    "    result_train = accuracy_score(df_train_target, recieved_tariff_df_train)\n",
    "    result_valid = accuracy_score(df_valid_target, recieved_tariff_df_valid)\n",
    "    print('max_depth =', depth)\n",
    "    print('Accuracy score train:', result_train)\n",
    "    print('Accuracy score valid:', result_valid)\n",
    "    if result_valid > best_result:\n",
    "        best_model = model_dtc\n",
    "        best_result = result_valid\n",
    "        best_depth = depth\n",
    "        \n",
    "# посчитаем правильные ответы при тестировании на валидационной выборке\n",
    "print('Accuracy лучшей модели на валидационной выборке:', best_result)\n",
    "print('Глубина при наилучшем accuracy на валидационной выборке:', best_depth)"
   ]
  },
  {
   "cell_type": "markdown",
   "metadata": {},
   "source": [
    "Если охарактеризовать результаты модели на основе алгоритма DecisionTreeClassifier, то правильность лучшей модели с глубиной 4 составила на валидационной выборке 0.7822706065318819, что выше заданного условия, поэтому следует протестировать модель на тестовой выборке и сравнить с результатами других моделей. Следует отметить, что при глубине дерева со значением 31 правильность модели составляет 1, но правильность модели на валидационной выборке только 0.7325038880248833, что ниже, чем при глубине дерева 4."
   ]
  },
  {
   "cell_type": "markdown",
   "metadata": {},
   "source": [
    "### Модель на основе алгоритма RandomForestClassifier"
   ]
  },
  {
   "cell_type": "code",
   "execution_count": 171,
   "metadata": {
    "scrolled": true
   },
   "outputs": [
    {
     "name": "stdout",
     "output_type": "stream",
     "text": [
      "estimators = 1\n",
      "Accuracy score train: 0.9004149377593361\n",
      "Accuracy score valid: 0.6998444790046656\n",
      "estimators = 2\n",
      "Accuracy score train: 0.9050829875518672\n",
      "Accuracy score valid: 0.7636080870917574\n",
      "estimators = 3\n",
      "Accuracy score train: 0.9517634854771784\n",
      "Accuracy score valid: 0.7589424572317263\n",
      "estimators = 4\n",
      "Accuracy score train: 0.946058091286307\n",
      "Accuracy score valid: 0.7542768273716952\n",
      "estimators = 5\n",
      "Accuracy score train: 0.9673236514522822\n",
      "Accuracy score valid: 0.7511664074650077\n",
      "estimators = 6\n",
      "Accuracy score train: 0.9626556016597511\n",
      "Accuracy score valid: 0.7651632970451011\n",
      "estimators = 7\n",
      "Accuracy score train: 0.9813278008298755\n",
      "Accuracy score valid: 0.7636080870917574\n",
      "estimators = 8\n",
      "Accuracy score train: 0.9730290456431535\n",
      "Accuracy score valid: 0.7636080870917574\n",
      "estimators = 9\n",
      "Accuracy score train: 0.9823651452282157\n",
      "Accuracy score valid: 0.7636080870917574\n",
      "estimators = 10\n",
      "Accuracy score train: 0.9818464730290456\n",
      "Accuracy score valid: 0.7636080870917574\n",
      "estimators = 11\n",
      "Accuracy score train: 0.9885892116182573\n",
      "Accuracy score valid: 0.7682737169517885\n",
      "estimators = 12\n",
      "Accuracy score train: 0.9875518672199171\n",
      "Accuracy score valid: 0.7869362363919129\n",
      "estimators = 13\n",
      "Accuracy score train: 0.9922199170124482\n",
      "Accuracy score valid: 0.7698289269051322\n",
      "estimators = 14\n",
      "Accuracy score train: 0.9922199170124482\n",
      "Accuracy score valid: 0.776049766718507\n",
      "estimators = 15\n",
      "Accuracy score train: 0.9948132780082988\n",
      "Accuracy score valid: 0.7698289269051322\n",
      "estimators = 16\n",
      "Accuracy score train: 0.9932572614107884\n",
      "Accuracy score valid: 0.7807153965785381\n",
      "estimators = 17\n",
      "Accuracy score train: 0.9937759336099585\n",
      "Accuracy score valid: 0.7682737169517885\n",
      "estimators = 18\n",
      "Accuracy score train: 0.9927385892116183\n",
      "Accuracy score valid: 0.7744945567651633\n",
      "estimators = 19\n",
      "Accuracy score train: 0.9942946058091287\n",
      "Accuracy score valid: 0.7713841368584758\n",
      "estimators = 20\n",
      "Accuracy score train: 0.9942946058091287\n",
      "Accuracy score valid: 0.7776049766718507\n",
      "estimators = 21\n",
      "Accuracy score train: 0.995850622406639\n",
      "Accuracy score valid: 0.7698289269051322\n",
      "estimators = 22\n",
      "Accuracy score train: 0.9953319502074689\n",
      "Accuracy score valid: 0.7807153965785381\n",
      "estimators = 23\n",
      "Accuracy score train: 0.9979253112033195\n",
      "Accuracy score valid: 0.7776049766718507\n",
      "estimators = 24\n",
      "Accuracy score train: 0.9942946058091287\n",
      "Accuracy score valid: 0.7838258164852255\n",
      "estimators = 25\n",
      "Accuracy score train: 0.9968879668049793\n",
      "Accuracy score valid: 0.7776049766718507\n",
      "estimators = 26\n",
      "Accuracy score train: 0.9953319502074689\n",
      "Accuracy score valid: 0.7869362363919129\n",
      "estimators = 27\n",
      "Accuracy score train: 0.9968879668049793\n",
      "Accuracy score valid: 0.7807153965785381\n",
      "estimators = 28\n",
      "Accuracy score train: 0.9968879668049793\n",
      "Accuracy score valid: 0.7807153965785381\n",
      "estimators = 29\n",
      "Accuracy score train: 0.9984439834024896\n",
      "Accuracy score valid: 0.7807153965785381\n",
      "estimators = 30\n",
      "Accuracy score train: 0.9989626556016598\n",
      "Accuracy score valid: 0.7838258164852255\n",
      "estimators = 31\n",
      "Accuracy score train: 0.9989626556016598\n",
      "Accuracy score valid: 0.7838258164852255\n",
      "estimators = 32\n",
      "Accuracy score train: 0.9984439834024896\n",
      "Accuracy score valid: 0.7791601866251944\n",
      "estimators = 33\n",
      "Accuracy score train: 0.9994813278008299\n",
      "Accuracy score valid: 0.7791601866251944\n",
      "estimators = 34\n",
      "Accuracy score train: 0.9994813278008299\n",
      "Accuracy score valid: 0.7853810264385692\n",
      "estimators = 35\n",
      "Accuracy score train: 0.9994813278008299\n",
      "Accuracy score valid: 0.7838258164852255\n",
      "estimators = 36\n",
      "Accuracy score train: 0.9989626556016598\n",
      "Accuracy score valid: 0.7916018662519441\n",
      "estimators = 37\n",
      "Accuracy score train: 0.9994813278008299\n",
      "Accuracy score valid: 0.7869362363919129\n",
      "estimators = 38\n",
      "Accuracy score train: 0.9984439834024896\n",
      "Accuracy score valid: 0.7884914463452566\n",
      "estimators = 39\n",
      "Accuracy score train: 0.9989626556016598\n",
      "Accuracy score valid: 0.7869362363919129\n",
      "estimators = 40\n",
      "Accuracy score train: 0.9984439834024896\n",
      "Accuracy score valid: 0.7931570762052877\n",
      "estimators = 41\n",
      "Accuracy score train: 0.9989626556016598\n",
      "Accuracy score valid: 0.7807153965785381\n",
      "estimators = 42\n",
      "Accuracy score train: 0.9989626556016598\n",
      "Accuracy score valid: 0.7869362363919129\n",
      "estimators = 43\n",
      "Accuracy score train: 0.9989626556016598\n",
      "Accuracy score valid: 0.7822706065318819\n",
      "estimators = 44\n",
      "Accuracy score train: 0.9989626556016598\n",
      "Accuracy score valid: 0.7884914463452566\n",
      "estimators = 45\n",
      "Accuracy score train: 0.9989626556016598\n",
      "Accuracy score valid: 0.7853810264385692\n",
      "estimators = 46\n",
      "Accuracy score train: 0.9989626556016598\n",
      "Accuracy score valid: 0.7900466562986003\n",
      "estimators = 47\n",
      "Accuracy score train: 0.9989626556016598\n",
      "Accuracy score valid: 0.7869362363919129\n",
      "estimators = 48\n",
      "Accuracy score train: 0.9984439834024896\n",
      "Accuracy score valid: 0.7869362363919129\n",
      "estimators = 49\n",
      "Accuracy score train: 0.9984439834024896\n",
      "Accuracy score valid: 0.7884914463452566\n",
      "estimators = 50\n",
      "Accuracy score train: 0.9979253112033195\n",
      "Accuracy score valid: 0.7853810264385692\n",
      "estimators = 51\n",
      "Accuracy score train: 0.9979253112033195\n",
      "Accuracy score valid: 0.7807153965785381\n",
      "estimators = 52\n",
      "Accuracy score train: 0.9984439834024896\n",
      "Accuracy score valid: 0.7822706065318819\n",
      "estimators = 53\n",
      "Accuracy score train: 0.9989626556016598\n",
      "Accuracy score valid: 0.7822706065318819\n",
      "estimators = 54\n",
      "Accuracy score train: 0.9989626556016598\n",
      "Accuracy score valid: 0.7838258164852255\n",
      "estimators = 55\n",
      "Accuracy score train: 0.9989626556016598\n",
      "Accuracy score valid: 0.7822706065318819\n",
      "estimators = 56\n",
      "Accuracy score train: 0.9989626556016598\n",
      "Accuracy score valid: 0.7807153965785381\n",
      "estimators = 57\n",
      "Accuracy score train: 0.9989626556016598\n",
      "Accuracy score valid: 0.7853810264385692\n",
      "estimators = 58\n",
      "Accuracy score train: 0.9989626556016598\n",
      "Accuracy score valid: 0.7869362363919129\n",
      "estimators = 59\n",
      "Accuracy score train: 0.9989626556016598\n",
      "Accuracy score valid: 0.7838258164852255\n",
      "estimators = 60\n",
      "Accuracy score train: 0.9989626556016598\n",
      "Accuracy score valid: 0.7869362363919129\n",
      "estimators = 61\n",
      "Accuracy score train: 0.9994813278008299\n",
      "Accuracy score valid: 0.7853810264385692\n",
      "estimators = 62\n",
      "Accuracy score train: 0.9989626556016598\n",
      "Accuracy score valid: 0.7869362363919129\n",
      "estimators = 63\n",
      "Accuracy score train: 0.9994813278008299\n",
      "Accuracy score valid: 0.7838258164852255\n",
      "estimators = 64\n",
      "Accuracy score train: 0.9994813278008299\n",
      "Accuracy score valid: 0.7822706065318819\n",
      "estimators = 65\n",
      "Accuracy score train: 0.9994813278008299\n",
      "Accuracy score valid: 0.7791601866251944\n",
      "estimators = 66\n",
      "Accuracy score train: 0.9994813278008299\n",
      "Accuracy score valid: 0.7807153965785381\n",
      "estimators = 67\n",
      "Accuracy score train: 0.9994813278008299\n",
      "Accuracy score valid: 0.7838258164852255\n",
      "estimators = 68\n",
      "Accuracy score train: 0.9994813278008299\n",
      "Accuracy score valid: 0.7838258164852255\n",
      "estimators = 69\n",
      "Accuracy score train: 0.9994813278008299\n",
      "Accuracy score valid: 0.7822706065318819\n",
      "estimators = 70\n",
      "Accuracy score train: 0.9994813278008299\n",
      "Accuracy score valid: 0.7869362363919129\n",
      "estimators = 71\n",
      "Accuracy score train: 0.9994813278008299\n",
      "Accuracy score valid: 0.7822706065318819\n",
      "estimators = 72\n",
      "Accuracy score train: 0.9994813278008299\n",
      "Accuracy score valid: 0.7853810264385692\n",
      "estimators = 73\n",
      "Accuracy score train: 0.9994813278008299\n",
      "Accuracy score valid: 0.7791601866251944\n",
      "estimators = 74\n",
      "Accuracy score train: 0.9994813278008299\n",
      "Accuracy score valid: 0.7853810264385692\n",
      "estimators = 75\n",
      "Accuracy score train: 0.9994813278008299\n",
      "Accuracy score valid: 0.7807153965785381\n",
      "estimators = 76\n",
      "Accuracy score train: 0.9994813278008299\n",
      "Accuracy score valid: 0.7838258164852255\n",
      "estimators = 77\n",
      "Accuracy score train: 0.9994813278008299\n",
      "Accuracy score valid: 0.7776049766718507\n",
      "estimators = 78\n",
      "Accuracy score train: 0.9994813278008299\n",
      "Accuracy score valid: 0.7807153965785381\n",
      "estimators = 79\n",
      "Accuracy score train: 1.0\n",
      "Accuracy score valid: 0.7807153965785381\n",
      "estimators = 80\n",
      "Accuracy score train: 1.0\n",
      "Accuracy score valid: 0.7807153965785381\n",
      "estimators = 81\n",
      "Accuracy score train: 1.0\n",
      "Accuracy score valid: 0.7807153965785381\n",
      "estimators = 82\n",
      "Accuracy score train: 1.0\n",
      "Accuracy score valid: 0.7838258164852255\n",
      "estimators = 83\n",
      "Accuracy score train: 1.0\n",
      "Accuracy score valid: 0.7853810264385692\n",
      "estimators = 84\n",
      "Accuracy score train: 1.0\n",
      "Accuracy score valid: 0.7838258164852255\n",
      "estimators = 85\n",
      "Accuracy score train: 1.0\n",
      "Accuracy score valid: 0.7838258164852255\n",
      "estimators = 86\n",
      "Accuracy score train: 1.0\n",
      "Accuracy score valid: 0.7838258164852255\n",
      "estimators = 87\n",
      "Accuracy score train: 1.0\n",
      "Accuracy score valid: 0.7807153965785381\n",
      "estimators = 88\n",
      "Accuracy score train: 1.0\n",
      "Accuracy score valid: 0.7838258164852255\n",
      "estimators = 89\n",
      "Accuracy score train: 1.0\n",
      "Accuracy score valid: 0.7838258164852255\n",
      "estimators = 90\n",
      "Accuracy score train: 1.0\n",
      "Accuracy score valid: 0.7869362363919129\n",
      "estimators = 91\n",
      "Accuracy score train: 1.0\n",
      "Accuracy score valid: 0.7822706065318819\n",
      "estimators = 92\n",
      "Accuracy score train: 1.0\n",
      "Accuracy score valid: 0.7869362363919129\n",
      "estimators = 93\n",
      "Accuracy score train: 1.0\n",
      "Accuracy score valid: 0.7838258164852255\n",
      "estimators = 94\n",
      "Accuracy score train: 1.0\n",
      "Accuracy score valid: 0.7853810264385692\n",
      "estimators = 95\n",
      "Accuracy score train: 1.0\n",
      "Accuracy score valid: 0.7838258164852255\n",
      "estimators = 96\n",
      "Accuracy score train: 1.0\n",
      "Accuracy score valid: 0.7869362363919129\n",
      "estimators = 97\n",
      "Accuracy score train: 1.0\n",
      "Accuracy score valid: 0.7853810264385692\n",
      "estimators = 98\n",
      "Accuracy score train: 1.0\n",
      "Accuracy score valid: 0.7838258164852255\n",
      "estimators = 99\n",
      "Accuracy score train: 1.0\n",
      "Accuracy score valid: 0.7838258164852255\n",
      "Accuracy лучшей модели на валидационной выборке: 0.7931570762052877\n",
      "Количество деревьев при наилучшем accuracy на валидационной выборке: 40\n"
     ]
    }
   ],
   "source": [
    "# посмотрим как себя ведет модель при разном количестве деревьев\n",
    "best_model = None\n",
    "best_result = 0\n",
    "best_est = 0\n",
    "for est in range(1, 100):\n",
    "    model_rfc = RandomForestClassifier(random_state=782347, n_estimators=est)\n",
    "    model_rfc.fit(df_train_features, df_train_target)\n",
    "    recieved_tariff_df_train = model_rfc.predict(df_train_features)\n",
    "    recieved_tariff_df_valid = model_rfc.predict(df_valid_features)\n",
    "    result_train = accuracy_score(df_train_target, recieved_tariff_df_train)\n",
    "    result_valid = accuracy_score(df_valid_target, recieved_tariff_df_valid)\n",
    "    print('estimators =', est)\n",
    "    print('Accuracy score train:', result_train)\n",
    "    print('Accuracy score valid:', result_valid)\n",
    "    if result_valid > best_result:\n",
    "        best_model = model_rfc\n",
    "        best_result = result_valid\n",
    "        best_est = est\n",
    "        \n",
    "print('Accuracy лучшей модели на валидационной выборке:', best_result)\n",
    "print('Количество деревьев при наилучшем accuracy на валидационной выборке:', best_est)"
   ]
  },
  {
   "cell_type": "markdown",
   "metadata": {},
   "source": [
    "Если охарактеризовать результаты модели на основе алгоритма RandomForestClassifier, то правильность лучшей модели с количеством деревьев 40 составила на валидационной выборке 0.7931570762052877, что выше заданного условия, поэтому следует протестировать модель на тестовой выборке и сравнить с результатами других моделей. Следует отметить, что при количестве деревьев со значением 79 правильность модели ближайшая к 1, но правильность модели на валидационной выборке только 0.7807153965785381, что ниже, чем при количестве деревьев 40."
   ]
  },
  {
   "cell_type": "markdown",
   "metadata": {},
   "source": [
    "### Модель на основе алгоритма LogisticRegression"
   ]
  },
  {
   "cell_type": "code",
   "execution_count": 172,
   "metadata": {},
   "outputs": [
    {
     "name": "stdout",
     "output_type": "stream",
     "text": [
      "Accuracy модели на обучающей выборке: 0.7043568464730291\n",
      "Accuracy модели на валидационной выборке: 0.7076205287713841\n"
     ]
    }
   ],
   "source": [
    "model_lr = LogisticRegression(random_state=782347)\n",
    "model_lr.fit(df_train_features, df_train_target)\n",
    "recieved_tariff_df_train = model_lr.predict(df_train_features)\n",
    "recieved_tariff_df_valid = model_lr.predict(df_valid_features)\n",
    "result_train = accuracy_score(df_train_target, recieved_tariff_df_train)\n",
    "result_valid = accuracy_score(df_valid_target, recieved_tariff_df_valid)\n",
    "print('Accuracy модели на обучающей выборке:', result_train)\n",
    "print('Accuracy модели на валидационной выборке:', result_valid)"
   ]
  },
  {
   "cell_type": "markdown",
   "metadata": {},
   "source": [
    "Если охарактеризовать результаты модели на основе алгоритма LogisticRegression, то правильность модели составила на валидационной выборке 0.7076205287713841, что ниже заданного целевого условия, поэтому следует протестировать модель на тестовой выборке и сравнить с результатами других моделей. Следует отметить, что правильность модели на обучающей выборке 0.7043568464730291."
   ]
  },
  {
   "cell_type": "markdown",
   "metadata": {},
   "source": [
    "## Проверим модели на тестовой выборке"
   ]
  },
  {
   "cell_type": "markdown",
   "metadata": {},
   "source": [
    " ### Подготовим данные для теста на тестовой выборке"
   ]
  },
  {
   "cell_type": "code",
   "execution_count": 173,
   "metadata": {},
   "outputs": [],
   "source": [
    "# формирование тестовой выборки без целевого параметра\n",
    "df_test_features = df_test.drop(['is_ultra'], axis=1)\n",
    "# сохранение целевого параметра для сравнения\n",
    "df_test_target = df_test['is_ultra']"
   ]
  },
  {
   "cell_type": "markdown",
   "metadata": {},
   "source": [
    "### Проверим модель на основе алгоритма DecisionTreeClassifier на тестовой выборке"
   ]
  },
  {
   "cell_type": "code",
   "execution_count": 174,
   "metadata": {},
   "outputs": [
    {
     "name": "stdout",
     "output_type": "stream",
     "text": [
      "Accuracy лучшей модели по глубине на тестовой выборке: 0.8351477449455676\n"
     ]
    }
   ],
   "source": [
    "# проверка модели с алгоритмом DecisionTreeClassifier на тестовой выборке по лучшей глубине, вывод accuracy\n",
    "# инициализация модели с наилучшей глубиной 4 на валидационной выборке\n",
    "model_dtc_best_depth = DecisionTreeClassifier(random_state=782347, max_depth=4)\n",
    "# обучим модель на тренировочной выборке\n",
    "model_dtc_best_depth.fit(df_train_features, df_train_target)\n",
    "# применение модели с наилучшим параметром к тестовой выборке\n",
    "recieved_tariff_df_test_dtc = model_dtc_best_depth.predict(df_test_features)\n",
    "# посчитаем правильные ответы при тестировании на тестовой выборке\n",
    "print('Accuracy лучшей модели по глубине на тестовой выборке:', accuracy_score(df_test_target, recieved_tariff_df_test_dtc))"
   ]
  },
  {
   "cell_type": "code",
   "execution_count": 175,
   "metadata": {},
   "outputs": [
    {
     "name": "stdout",
     "output_type": "stream",
     "text": [
      "Accuracy модели по максимальной глубине на тестовой выборке: 0.7107309486780715\n"
     ]
    }
   ],
   "source": [
    "# проверка модели с алгоритмом DecisionTreeClassifier на тестовой выборке по максимальной рабочей глубине, вывод accuracy\n",
    "# инициализация модели с максимальной глубиной 31 на валидационной выборке\n",
    "model_dtc_max_depth = DecisionTreeClassifier(random_state=782347, max_depth=31)\n",
    "# обучим модель на тренировочной выборке\n",
    "model_dtc_max_depth.fit(df_train_features, df_train_target)\n",
    "# применение модели с наилучшим параметром к тестовой выборке\n",
    "recieved_tariff_df_test = model_dtc_max_depth.predict(df_test_features)\n",
    "# посчитаем правильные ответы при тестировании на тестовой выборке\n",
    "print('Accuracy модели по максимальной глубине на тестовой выборке:', accuracy_score(df_test_target, recieved_tariff_df_test))"
   ]
  },
  {
   "cell_type": "code",
   "execution_count": 176,
   "metadata": {},
   "outputs": [
    {
     "name": "stdout",
     "output_type": "stream",
     "text": [
      "Accuracy модели по минимальной глубине на тестовой выборке: 0.7931570762052877\n"
     ]
    }
   ],
   "source": [
    "# проверка модели с алгоритмом DecisionTreeClassifier на тестовой выборке по минимальной рабочей глубине, вывод accuracy\n",
    "# инициализация модели с глубиной 1\n",
    "model_dtc_min_depth = DecisionTreeClassifier(random_state=782347, max_depth=1)\n",
    "# обучим модель на тренировочной выборке\n",
    "model_dtc_min_depth.fit(df_train_features, df_train_target)\n",
    "# применение модели с наилучшим параметром к тестовой выборке\n",
    "recieved_tariff_df_test = model_dtc_min_depth.predict(df_test_features)\n",
    "# посчитаем правильные ответы при тестировании на тестовой выборке\n",
    "print('Accuracy модели по минимальной глубине на тестовой выборке:', accuracy_score(df_test_target, recieved_tariff_df_test))"
   ]
  },
  {
   "cell_type": "markdown",
   "metadata": {},
   "source": [
    "Для дальнейшего рассмотрения возьмем вмодель с глубиной 4, т.к. были получены максимальные значения accuracy на валидационной выборке 0.7822706065318819 и на тестовой выборке 0.8351477449455676. Для справки - весьма неплохой показатель accuracy дала модель с минимальной глубиной 1 - 0.7931570762052877."
   ]
  },
  {
   "cell_type": "markdown",
   "metadata": {},
   "source": [
    "### Проверим модель на основе алгоритма RandomForestClassifier на тестовой выборке"
   ]
  },
  {
   "cell_type": "code",
   "execution_count": 177,
   "metadata": {},
   "outputs": [
    {
     "name": "stdout",
     "output_type": "stream",
     "text": [
      "Accuracy лучшей модели по количеству деревьев на тестовой выборке: 0.8055987558320373\n"
     ]
    }
   ],
   "source": [
    "# проверка модели с алгоритмом RandomForestClassifier на тестовой выборке по лучшей модели с количеством деревьев 40, вывод accuracy\n",
    "# инициализация модели\n",
    "model_rfc_best_est = RandomForestClassifier(random_state=782347, n_estimators=40)\n",
    "# обучим модель на тренировочной выборке\n",
    "model_rfc_best_est.fit(df_train_features, df_train_target)\n",
    "# применение модели с наилучшим параметром к тестовой выборке\n",
    "recieved_tariff_df_test_rfc = model_rfc_best_est.predict(df_test_features)\n",
    "# посчитаем правильные ответы при тестировании на тестовой выборке\n",
    "print('Accuracy лучшей модели по количеству деревьев на тестовой выборке:', accuracy_score(df_test_target, recieved_tariff_df_test_rfc))"
   ]
  },
  {
   "cell_type": "code",
   "execution_count": 178,
   "metadata": {},
   "outputs": [
    {
     "name": "stdout",
     "output_type": "stream",
     "text": [
      "Accuracy модели по максимальному количеству деревьев на тестовой выборке: 0.8040435458786936\n"
     ]
    }
   ],
   "source": [
    "# проверка модели с алгоритмом RandomForestClassifier на тестовой выборке по максимальному количеству деревьев 79, вывод accuracy\n",
    "# инициализация модели\n",
    "model_rfc_max_est = RandomForestClassifier(random_state=782347, n_estimators=79)\n",
    "# обучим модель на тренировочной выборке\n",
    "model_rfc_max_est.fit(df_train_features, df_train_target)\n",
    "# применение модели с наилучшим параметром к тестовой выборке\n",
    "recieved_tariff_df_test = model_rfc_max_est.predict(df_test_features)\n",
    "# посчитаем правильные ответы при тестировании на тестовой выборке\n",
    "print('Accuracy модели по максимальному количеству деревьев на тестовой выборке:', accuracy_score(df_test_target, recieved_tariff_df_test))"
   ]
  },
  {
   "cell_type": "code",
   "execution_count": 179,
   "metadata": {},
   "outputs": [
    {
     "name": "stdout",
     "output_type": "stream",
     "text": [
      "Accuracy модели по минимальному количеству деревьев на тестовой выборке: 0.702954898911353\n"
     ]
    }
   ],
   "source": [
    "# проверка модели с алгоритмом RandomForestClassifier на тестовой выборке по минимальному количеству деревьев 1, вывод accuracy\n",
    "# инициализация модели\n",
    "model_rfc_min_est = RandomForestClassifier(random_state=782347, n_estimators=1)\n",
    "# обучим модель на тренировочной выборке\n",
    "model_rfc_min_est.fit(df_train_features, df_train_target)\n",
    "# применение модели с наилучшим параметром к тестовой выборке\n",
    "recieved_tariff_df_test = model_rfc_min_est.predict(df_test_features)\n",
    "# посчитаем правильные ответы при тестировании на тестовой выборке\n",
    "print('Accuracy модели по минимальному количеству деревьев на тестовой выборке:', accuracy_score(df_test_target, recieved_tariff_df_test))"
   ]
  },
  {
   "cell_type": "markdown",
   "metadata": {},
   "source": [
    "Для дальнейшего рассмотрения возьмем модель с количеством деревьев 40, т.к. были получены максимальные значения accuracy на валидационной выборке 0.7931570762052877 и на тестовой выборке 0.8055987558320373. Для справки - следущий показатель accuracy дала модель с минимальным количеством деревьев 1 - 0.702954898911353."
   ]
  },
  {
   "cell_type": "markdown",
   "metadata": {},
   "source": [
    "### Проверим модель на основе алгоритма LogisticRegression на тестовой выборке"
   ]
  },
  {
   "cell_type": "code",
   "execution_count": 180,
   "metadata": {},
   "outputs": [
    {
     "name": "stdout",
     "output_type": "stream",
     "text": [
      "Accuracy модели на тестовой выборке: 0.7480559875583204\n"
     ]
    }
   ],
   "source": [
    "# проверка модели с алгоритмом LogisticRegression на тестовой выборке вывод accuracy\n",
    "# инициализация модели\n",
    "model_lr = LogisticRegression(random_state=782347)\n",
    "# обучим модель на тренировочной выборке\n",
    "model_lr.fit(df_train_features, df_train_target)\n",
    "# применение модели с наилучшим параметром к тестовой выборке\n",
    "recieved_tariff_df_test_lr = model_lr.predict(df_test_features)\n",
    "# посчитаем правильные ответы при тестировании на тестовой выборке\n",
    "print('Accuracy модели на тестовой выборке:', accuracy_score(df_test_target, recieved_tariff_df_test_lr))"
   ]
  },
  {
   "cell_type": "markdown",
   "metadata": {},
   "source": [
    "Для дальнейшего рассмотрения возьмем эту модель, т.к. были получены максимальные значения accuracy на тестовой выборке 0.7480559875583204 близкие к целевому."
   ]
  },
  {
   "cell_type": "markdown",
   "metadata": {},
   "source": [
    "### Сравнение результатов работы моделей и вывод"
   ]
  },
  {
   "cell_type": "markdown",
   "metadata": {},
   "source": [
    "В рамках анализа и тестирования моделей на выборке было применено три модели:\n",
    "1. Модель на основе алгоритма DecisionTreeClassifier(дерево решений);\n",
    "2. Модель на основе алгоритма RandomForestClassifier(случайный лес);\n",
    "3. Модель на основе алгоритма LogisticRegression(логистическая регрессия).\n",
    "\n",
    "Отметим характерные гиперпараметры каждой модели и влияние их изменений на правильность моделей(accuracy) и скорость работы:\n",
    "   1) DecisionTreeClassifier(дерево решений): \n",
    "        \n",
    "        - глубина 1, accuracy 0.7931570762052877;\n",
    "        - глубина 4, accuracy 0.8351477449455676;\n",
    "        - глубина 31, accuracy 0.7107309486780715.\n",
    "   \n",
    "   2) RandomForestClassifier(случайный лес):\n",
    "        \n",
    "        - количество деревьев 1, accuracy 0.702954898911353;\n",
    "        - количество деревьев 40, accuracy 0.8055987558320373;\n",
    "        - количество деревьев 79, accuracy 0.8040435458786936.\n",
    "   \n",
    "   3) LogisticRegression(логистическая регрессия): accuracy 0.7480559875583204.\n",
    "\n",
    "Округлим до 2-х знаков после запятой. Самое высокое качество получилось у дерева решений при гиперпараметре глубины со значением 4, accuracy 0.83, при увелиении глубины качество модели и скорость работы падает. На втором месте по качеству находится модель случайного леса, при гиперпараметре количества деревьев 40 accuracy составила 0.80, при практиески удвоении и замедлении модели в два раза наблюдался незначительный рост качества обработки тестовой выборки и accuracy составило 0.80. Самая высокая по скорости модель логистической регрессии показала наихудший результат на границе допустимого в поставленной задаче, т.е. accuracy 0.75. Следует отметить, что при минимальных значениях гиперпараметров неплохо показала себя модель дерева решений со значением accuracy 0.79, модель случайного леса показала себя значительно хуже, значение accuracy составило 0.70.\n",
    "\n",
    "Рекомендуется поставить в приоритет на типовой выборке данных использование модели дерева решений, затем модель случайного леса, а затем модель логистической регрессии."
   ]
  },
  {
   "cell_type": "markdown",
   "metadata": {},
   "source": [
    "## Проверим модели на адекватность"
   ]
  },
  {
   "cell_type": "markdown",
   "metadata": {},
   "source": [
    "Для дополнительной оценки на адекватность моделей используем следующие подходы:\n",
    "1) введем новую простейшую модель, сравним accuracy моделей с простейшей моделью наивного байесовского метода(Naive Bayes);\n",
    "\n",
    "2) сделаем оценку и сравнение моделей по метрикам Precision & Recall, F1 score."
   ]
  },
  {
   "cell_type": "markdown",
   "metadata": {},
   "source": [
    "### Сравним модели с простейшей моделью наивного байесовского метода(Naive Bayes)"
   ]
  },
  {
   "cell_type": "code",
   "execution_count": 184,
   "metadata": {},
   "outputs": [
    {
     "name": "stdout",
     "output_type": "stream",
     "text": [
      "Accuracy модели на обучающей выборке: 0.7686721991701245\n",
      "Accuracy модели на валидационной выборке: 0.7682737169517885\n",
      "Accuracy модели на тестовой выборке: 0.8211508553654744\n"
     ]
    }
   ],
   "source": [
    "# инициируем, обучим и протестируем модель на валидационной и тестовой выборках\n",
    "model_nb = GaussianNB()\n",
    "model_nb.fit(df_train_features, df_train_target)\n",
    "recieved_tariff_df_train = model_nb.predict(df_train_features)\n",
    "recieved_tariff_df_valid = model_nb.predict(df_valid_features)\n",
    "recieved_tariff_df_test = model_nb.predict(df_test_features)\n",
    "result_train = accuracy_score(df_train_target, recieved_tariff_df_train)\n",
    "result_valid = accuracy_score(df_valid_target, recieved_tariff_df_valid)\n",
    "result_test = accuracy_score(df_test_target, recieved_tariff_df_test)\n",
    "        \n",
    "print('Accuracy модели на обучающей выборке:', result_train)\n",
    "print('Accuracy модели на валидационной выборке:', result_valid)\n",
    "print('Accuracy модели на тестовой выборке:', result_test)"
   ]
  },
  {
   "cell_type": "code",
   "execution_count": 185,
   "metadata": {},
   "outputs": [
    {
     "data": {
      "text/html": [
       "<div>\n",
       "<style scoped>\n",
       "    .dataframe tbody tr th:only-of-type {\n",
       "        vertical-align: middle;\n",
       "    }\n",
       "\n",
       "    .dataframe tbody tr th {\n",
       "        vertical-align: top;\n",
       "    }\n",
       "\n",
       "    .dataframe thead th {\n",
       "        text-align: right;\n",
       "    }\n",
       "</style>\n",
       "<table border=\"1\" class=\"dataframe\">\n",
       "  <thead>\n",
       "    <tr style=\"text-align: right;\">\n",
       "      <th></th>\n",
       "      <th>Название модели</th>\n",
       "      <th>Accuracy</th>\n",
       "    </tr>\n",
       "  </thead>\n",
       "  <tbody>\n",
       "    <tr>\n",
       "      <td>0</td>\n",
       "      <td>DecisionTreeClassifier(дерево решений)</td>\n",
       "      <td>0.83</td>\n",
       "    </tr>\n",
       "    <tr>\n",
       "      <td>3</td>\n",
       "      <td>Naive Bayes(наивный байесовский метод)</td>\n",
       "      <td>0.82</td>\n",
       "    </tr>\n",
       "    <tr>\n",
       "      <td>1</td>\n",
       "      <td>RandomForestClassifier(случайный лес)</td>\n",
       "      <td>0.80</td>\n",
       "    </tr>\n",
       "    <tr>\n",
       "      <td>2</td>\n",
       "      <td>LogisticRegression(логистическая регрессия)</td>\n",
       "      <td>0.75</td>\n",
       "    </tr>\n",
       "  </tbody>\n",
       "</table>\n",
       "</div>"
      ],
      "text/plain": [
       "                               Название модели  Accuracy\n",
       "0       DecisionTreeClassifier(дерево решений)      0.83\n",
       "3       Naive Bayes(наивный байесовский метод)      0.82\n",
       "1        RandomForestClassifier(случайный лес)      0.80\n",
       "2  LogisticRegression(логистическая регрессия)      0.75"
      ]
     },
     "metadata": {},
     "output_type": "display_data"
    }
   ],
   "source": [
    "# сформруем краткую аналитическую таблицу ранжированную по параметру accuracy моделей\n",
    "models = {\n",
    "    'DecisionTreeClassifier(дерево решений)':0.83,\n",
    "    'RandomForestClassifier(случайный лес)':0.80,\n",
    "    'LogisticRegression(логистическая регрессия)':0.75,\n",
    "    'Naive Bayes(наивный байесовский метод)':0.82\n",
    "}\n",
    "compare_df = pd.DataFrame(list(models.items()), columns=['Название модели', 'Accuracy'])\n",
    "display(compare_df.sort_values(by='Accuracy' ,ascending=False))"
   ]
  },
  {
   "cell_type": "markdown",
   "metadata": {},
   "source": [
    "Сравнив модели между собой можно сделать вывод, что наилучшим образом в предсказании тарифа проявила модель DecisionTreeClassifier(дерево решений) со значением accuracy 0.83, на втором месте Naive Bayes(наивный байесовский метод) со значением 0.82, на третьем месте RandomForestClassifier(случайный лес)\tсо значением 0.80, хуже всех проявила себя модель LogisticRegression(логистическая регрессия) с пограничным значением accuracy 0.75."
   ]
  },
  {
   "cell_type": "markdown",
   "metadata": {},
   "source": [
    "### Cделаем оценку и сравнение моделей по метрикам Precision,  Recall, F1 score."
   ]
  },
  {
   "cell_type": "code",
   "execution_count": 186,
   "metadata": {},
   "outputs": [
    {
     "name": "stdout",
     "output_type": "stream",
     "text": [
      "Оценка модели Naive Bayes(наивный байесовский метод)\n",
      "Точность модели: 0.7938144329896907\n",
      "Степень полноты модели: 0.4476744186046512\n",
      "Среднее между точностью и полнотой: 0.5724907063197027\n",
      "\n",
      "Оценка модели DecisionTreeClassifier(дерево решений)\n",
      "Точность модели: 0.7796610169491526\n",
      "Степень полноты модели: 0.5348837209302325\n",
      "Среднее между точностью и полнотой: 0.6344827586206897\n",
      "\n",
      "Оценка модели RandomForestClassifier(случайный лес)\n",
      "Точность модели: 0.6620689655172414\n",
      "Степень полноты модели: 0.5581395348837209\n",
      "Среднее между точностью и полнотой: 0.6056782334384857\n",
      "\n",
      "Оценка модели LogisticRegression(логистическая регрессия)\n",
      "Точность модели: 0.8125\n",
      "Степень полноты модели: 0.0755813953488372\n",
      "Среднее между точностью и полнотой: 0.13829787234042554\n",
      "\n"
     ]
    }
   ],
   "source": [
    "# оценка для наивного байесовского метода\n",
    "print('Оценка модели Naive Bayes(наивный байесовский метод)')\n",
    "# определение точности модели\n",
    "print('Точность модели:', precision_score(df_test_target, recieved_tariff_df_test))\n",
    "# определение степени полноты модели\n",
    "print('Степень полноты модели:', recall_score(df_test_target, recieved_tariff_df_test))\n",
    "# определение гармонического среднего между точностью и полнотой\n",
    "print('Среднее между точностью и полнотой:', f1_score(df_test_target, recieved_tariff_df_test))\n",
    "print()\n",
    "\n",
    "# оценка для DecisionTreeClassifier(дерево решений)\n",
    "print('Оценка модели DecisionTreeClassifier(дерево решений)')\n",
    "# определение точности модели\n",
    "print('Точность модели:', precision_score(df_test_target, recieved_tariff_df_test_dtc))\n",
    "# определение степени полноты модели\n",
    "print('Степень полноты модели:', recall_score(df_test_target, recieved_tariff_df_test_dtc))\n",
    "# определение гармонического среднего между точностью и полнотой\n",
    "print('Среднее между точностью и полнотой:', f1_score(df_test_target, recieved_tariff_df_test_dtc))\n",
    "print()\n",
    "\n",
    "# оценка для RandomForestClassifier(случайный лес)\n",
    "print('Оценка модели RandomForestClassifier(случайный лес)')\n",
    "# определение точности модели\n",
    "print('Точность модели:', precision_score(df_test_target, recieved_tariff_df_test_rfc))\n",
    "# определение степени полноты модели\n",
    "print('Степень полноты модели:', recall_score(df_test_target, recieved_tariff_df_test_rfc))\n",
    "# определение гармонического среднего между точностью и полнотой\n",
    "print('Среднее между точностью и полнотой:', f1_score(df_test_target, recieved_tariff_df_test_rfc))\n",
    "print()\n",
    "\n",
    "# оценка для LogisticRegression(логистическая регрессия)\n",
    "print('Оценка модели LogisticRegression(логистическая регрессия)')\n",
    "# определение точности модели\n",
    "print('Точность модели:', precision_score(df_test_target, recieved_tariff_df_test_lr))\n",
    "# определение степени полноты модели\n",
    "print('Степень полноты модели:', recall_score(df_test_target, recieved_tariff_df_test_lr))\n",
    "# определение гармонического среднего между точностью и полнотой\n",
    "print('Среднее между точностью и полнотой:', f1_score(df_test_target, recieved_tariff_df_test_lr))\n",
    "print()"
   ]
  },
  {
   "cell_type": "markdown",
   "metadata": {},
   "source": [
    "Сравнив модели между собой по метрикам Precision,  Recall, F1 score можно сделать следующие выводы:\n",
    "- получившиеся модели в большинстве своем адекватны решаемой задаче с заданным целевым качеством 0.75;\n",
    "- лучше всего себя проявили модели DecisionTreeClassifier(дерево решений), RandomForestClassifier(случайный лес), Naive Bayes(наивный байесовский метод), поэтому первоначальное предположение о том, чтобы использовать наиболее быструю модель с минимальной потерей качества - DecisionTreeClassifier(дерево решений) подтверждается, эта модель рекомендуется к использованию;\n",
    "- хуже всего себя проявила модель LogisticRegression(логистическая регрессия), среднее между точностью и полнотой минимально по причине низкого значения оценочного параметра полноты модели."
   ]
  }
 ],
 "metadata": {
  "ExecuteTimeLog": [
   {
    "duration": 205,
    "start_time": "2022-03-06T20:19:43.600Z"
   },
   {
    "duration": 178,
    "start_time": "2022-03-06T20:19:50.783Z"
   },
   {
    "duration": 564,
    "start_time": "2022-03-06T20:19:57.307Z"
   },
   {
    "duration": 29,
    "start_time": "2022-03-06T20:19:59.737Z"
   },
   {
    "duration": 23,
    "start_time": "2022-03-06T20:21:07.089Z"
   },
   {
    "duration": 25,
    "start_time": "2022-03-06T20:21:28.923Z"
   },
   {
    "duration": 182,
    "start_time": "2022-03-06T20:26:36.251Z"
   },
   {
    "duration": 2,
    "start_time": "2022-03-06T20:26:52.674Z"
   },
   {
    "duration": 3,
    "start_time": "2022-03-06T20:27:14.724Z"
   },
   {
    "duration": 2,
    "start_time": "2022-03-06T20:27:17.995Z"
   },
   {
    "duration": 26,
    "start_time": "2022-03-06T20:27:20.539Z"
   },
   {
    "duration": 28,
    "start_time": "2022-03-06T20:27:42.922Z"
   },
   {
    "duration": 27,
    "start_time": "2022-03-06T20:28:08.855Z"
   },
   {
    "duration": 48,
    "start_time": "2022-03-06T20:29:04.962Z"
   },
   {
    "duration": 52,
    "start_time": "2022-03-06T20:30:29.810Z"
   },
   {
    "duration": 53,
    "start_time": "2022-03-06T20:31:38.144Z"
   },
   {
    "duration": 55,
    "start_time": "2022-03-06T20:38:35.648Z"
   },
   {
    "duration": 53,
    "start_time": "2022-03-06T20:39:39.918Z"
   },
   {
    "duration": 54,
    "start_time": "2022-03-06T21:04:55.371Z"
   },
   {
    "duration": 60,
    "start_time": "2022-03-06T21:05:03.569Z"
   },
   {
    "duration": 469,
    "start_time": "2022-03-06T21:07:39.893Z"
   },
   {
    "duration": 3,
    "start_time": "2022-03-06T21:07:42.875Z"
   },
   {
    "duration": 55,
    "start_time": "2022-03-06T21:07:45.033Z"
   },
   {
    "duration": 7,
    "start_time": "2022-03-06T21:13:32.200Z"
   },
   {
    "duration": 6,
    "start_time": "2022-03-06T21:16:22.936Z"
   },
   {
    "duration": 10,
    "start_time": "2022-03-06T21:16:46.178Z"
   },
   {
    "duration": 15,
    "start_time": "2022-03-06T21:19:21.345Z"
   },
   {
    "duration": 18,
    "start_time": "2022-03-06T21:20:03.977Z"
   },
   {
    "duration": 11,
    "start_time": "2022-03-06T21:32:19.037Z"
   },
   {
    "duration": 3,
    "start_time": "2022-03-06T21:32:19.050Z"
   },
   {
    "duration": 79,
    "start_time": "2022-03-06T21:32:19.055Z"
   },
   {
    "duration": 22,
    "start_time": "2022-03-06T21:32:19.136Z"
   },
   {
    "duration": 965,
    "start_time": "2022-03-07T08:04:19.162Z"
   },
   {
    "duration": 2,
    "start_time": "2022-03-07T08:04:20.129Z"
   },
   {
    "duration": 73,
    "start_time": "2022-03-07T08:04:20.133Z"
   },
   {
    "duration": 17,
    "start_time": "2022-03-07T08:04:20.208Z"
   },
   {
    "duration": 4,
    "start_time": "2022-03-07T08:04:27.535Z"
   },
   {
    "duration": 4,
    "start_time": "2022-03-07T08:04:27.541Z"
   },
   {
    "duration": 61,
    "start_time": "2022-03-07T08:04:27.548Z"
   },
   {
    "duration": 21,
    "start_time": "2022-03-07T08:04:27.611Z"
   },
   {
    "duration": 1027,
    "start_time": "2022-03-07T19:12:55.668Z"
   },
   {
    "duration": 4,
    "start_time": "2022-03-07T19:12:56.697Z"
   },
   {
    "duration": 74,
    "start_time": "2022-03-07T19:12:56.703Z"
   },
   {
    "duration": 25,
    "start_time": "2022-03-07T19:12:56.778Z"
   },
   {
    "duration": 3,
    "start_time": "2022-03-07T20:46:52.957Z"
   },
   {
    "duration": 6,
    "start_time": "2022-03-07T20:46:52.962Z"
   },
   {
    "duration": 56,
    "start_time": "2022-03-07T20:46:52.969Z"
   },
   {
    "duration": 16,
    "start_time": "2022-03-07T20:46:53.026Z"
   },
   {
    "duration": 404,
    "start_time": "2022-03-07T21:00:03.209Z"
   },
   {
    "duration": 299,
    "start_time": "2022-03-07T21:00:43.720Z"
   },
   {
    "duration": 324,
    "start_time": "2022-03-07T21:01:03.306Z"
   },
   {
    "duration": 299,
    "start_time": "2022-03-07T21:27:36.733Z"
   },
   {
    "duration": 307,
    "start_time": "2022-03-07T21:29:37.593Z"
   },
   {
    "duration": 205,
    "start_time": "2022-03-07T21:35:05.146Z"
   },
   {
    "duration": 491,
    "start_time": "2022-03-07T21:35:17.018Z"
   },
   {
    "duration": 14,
    "start_time": "2022-03-07T21:35:22.106Z"
   },
   {
    "duration": 324,
    "start_time": "2022-03-07T21:45:30.585Z"
   },
   {
    "duration": 304,
    "start_time": "2022-03-07T21:45:45.716Z"
   },
   {
    "duration": 16,
    "start_time": "2022-03-07T21:46:01.606Z"
   },
   {
    "duration": 17,
    "start_time": "2022-03-07T21:46:50.456Z"
   },
   {
    "duration": 299,
    "start_time": "2022-03-07T21:54:02.133Z"
   },
   {
    "duration": 6,
    "start_time": "2022-03-07T21:54:23.935Z"
   },
   {
    "duration": 6,
    "start_time": "2022-03-07T21:54:31.424Z"
   },
   {
    "duration": 1008,
    "start_time": "2022-03-07T22:04:04.655Z"
   },
   {
    "duration": 1040,
    "start_time": "2022-03-07T22:05:59.173Z"
   },
   {
    "duration": 1022,
    "start_time": "2022-03-07T22:07:07.213Z"
   },
   {
    "duration": 61,
    "start_time": "2022-03-07T22:08:59.004Z"
   },
   {
    "duration": 256152,
    "start_time": "2022-03-07T22:09:07.077Z"
   },
   {
    "duration": 1014,
    "start_time": "2022-03-07T22:13:36.654Z"
   },
   {
    "duration": 272,
    "start_time": "2022-03-07T22:13:52.387Z"
   },
   {
    "duration": 496,
    "start_time": "2022-03-07T22:14:03.807Z"
   },
   {
    "duration": 401,
    "start_time": "2022-03-07T22:23:04.577Z"
   },
   {
    "duration": 418,
    "start_time": "2022-03-07T22:23:22.504Z"
   },
   {
    "duration": 863,
    "start_time": "2022-03-07T22:23:30.398Z"
   },
   {
    "duration": 6169,
    "start_time": "2022-03-07T22:23:36.997Z"
   },
   {
    "duration": 4476,
    "start_time": "2022-03-07T22:24:09.042Z"
   },
   {
    "duration": 830,
    "start_time": "2022-03-07T22:24:18.621Z"
   },
   {
    "duration": 751,
    "start_time": "2022-03-07T22:24:25.560Z"
   },
   {
    "duration": 503,
    "start_time": "2022-03-07T22:24:30.466Z"
   },
   {
    "duration": 398,
    "start_time": "2022-03-07T22:24:36.353Z"
   },
   {
    "duration": 306,
    "start_time": "2022-03-07T22:24:41.217Z"
   },
   {
    "duration": 49,
    "start_time": "2022-03-07T22:24:46.726Z"
   },
   {
    "duration": 828,
    "start_time": "2022-03-07T22:25:02.762Z"
   },
   {
    "duration": 839,
    "start_time": "2022-03-07T22:26:12.335Z"
   },
   {
    "duration": 6,
    "start_time": "2022-03-07T22:28:39.282Z"
   },
   {
    "duration": 993,
    "start_time": "2022-03-07T22:32:59.020Z"
   },
   {
    "duration": 474,
    "start_time": "2022-03-07T22:33:11.046Z"
   },
   {
    "duration": 331,
    "start_time": "2022-03-07T22:33:56.132Z"
   },
   {
    "duration": 1433,
    "start_time": "2022-03-08T08:31:55.918Z"
   },
   {
    "duration": 4,
    "start_time": "2022-03-08T08:31:57.354Z"
   },
   {
    "duration": 124,
    "start_time": "2022-03-08T08:31:57.361Z"
   },
   {
    "duration": 34,
    "start_time": "2022-03-08T08:31:57.487Z"
   },
   {
    "duration": 697,
    "start_time": "2022-03-08T08:31:57.524Z"
   },
   {
    "duration": 8,
    "start_time": "2022-03-08T08:31:58.223Z"
   },
   {
    "duration": 550,
    "start_time": "2022-03-08T08:36:27.103Z"
   },
   {
    "duration": 9,
    "start_time": "2022-03-08T08:36:35.445Z"
   },
   {
    "duration": 536,
    "start_time": "2022-03-08T08:36:47.504Z"
   },
   {
    "duration": 17,
    "start_time": "2022-03-08T08:39:39.425Z"
   },
   {
    "duration": 626,
    "start_time": "2022-03-08T08:42:57.187Z"
   },
   {
    "duration": 641,
    "start_time": "2022-03-08T08:43:20.264Z"
   },
   {
    "duration": 17,
    "start_time": "2022-03-08T09:24:32.048Z"
   },
   {
    "duration": 19,
    "start_time": "2022-03-08T09:24:46.350Z"
   },
   {
    "duration": 17,
    "start_time": "2022-03-08T09:26:18.259Z"
   },
   {
    "duration": 22,
    "start_time": "2022-03-08T09:27:14.418Z"
   },
   {
    "duration": 7,
    "start_time": "2022-03-08T09:34:16.511Z"
   },
   {
    "duration": 9,
    "start_time": "2022-03-08T09:34:54.009Z"
   },
   {
    "duration": 570,
    "start_time": "2022-03-08T09:34:58.204Z"
   },
   {
    "duration": 604,
    "start_time": "2022-03-08T09:35:53.726Z"
   },
   {
    "duration": 571,
    "start_time": "2022-03-08T09:36:51.934Z"
   },
   {
    "duration": 5,
    "start_time": "2022-03-08T09:41:58.691Z"
   },
   {
    "duration": 17,
    "start_time": "2022-03-08T09:42:01.022Z"
   },
   {
    "duration": 19,
    "start_time": "2022-03-08T09:42:13.925Z"
   },
   {
    "duration": 16,
    "start_time": "2022-03-08T09:43:01.821Z"
   },
   {
    "duration": 5,
    "start_time": "2022-03-08T09:43:03.280Z"
   },
   {
    "duration": 15,
    "start_time": "2022-03-08T09:43:04.142Z"
   },
   {
    "duration": 20,
    "start_time": "2022-03-08T09:43:04.941Z"
   },
   {
    "duration": 5,
    "start_time": "2022-03-08T09:43:42.282Z"
   },
   {
    "duration": 9,
    "start_time": "2022-03-08T09:43:42.290Z"
   },
   {
    "duration": 97,
    "start_time": "2022-03-08T09:43:42.303Z"
   },
   {
    "duration": 30,
    "start_time": "2022-03-08T09:43:42.403Z"
   },
   {
    "duration": 44,
    "start_time": "2022-03-08T09:43:42.435Z"
   },
   {
    "duration": 691,
    "start_time": "2022-03-08T09:43:42.482Z"
   },
   {
    "duration": 6,
    "start_time": "2022-03-08T09:43:43.175Z"
   },
   {
    "duration": 19,
    "start_time": "2022-03-08T09:43:43.185Z"
   },
   {
    "duration": 19,
    "start_time": "2022-03-08T09:43:43.207Z"
   },
   {
    "duration": 313,
    "start_time": "2022-03-08T10:08:40.235Z"
   },
   {
    "duration": 287,
    "start_time": "2022-03-08T10:09:35.512Z"
   },
   {
    "duration": 331,
    "start_time": "2022-03-08T10:09:43.053Z"
   },
   {
    "duration": 21,
    "start_time": "2022-03-08T10:22:50.265Z"
   },
   {
    "duration": 21,
    "start_time": "2022-03-08T10:22:54.554Z"
   },
   {
    "duration": 23,
    "start_time": "2022-03-08T10:23:18.254Z"
   },
   {
    "duration": 1290,
    "start_time": "2022-03-08T10:24:22.215Z"
   },
   {
    "duration": 2842,
    "start_time": "2022-03-08T10:24:32.927Z"
   },
   {
    "duration": 5086,
    "start_time": "2022-03-08T10:24:43.599Z"
   },
   {
    "duration": 5200,
    "start_time": "2022-03-08T10:25:14.409Z"
   },
   {
    "duration": 5293,
    "start_time": "2022-03-08T10:29:32.647Z"
   },
   {
    "duration": -515,
    "start_time": "2022-03-08T10:34:33.858Z"
   },
   {
    "duration": 4,
    "start_time": "2022-03-08T10:34:36.040Z"
   },
   {
    "duration": 8,
    "start_time": "2022-03-08T10:34:36.047Z"
   },
   {
    "duration": 119,
    "start_time": "2022-03-08T10:34:36.058Z"
   },
   {
    "duration": 49,
    "start_time": "2022-03-08T10:34:36.181Z"
   },
   {
    "duration": 9,
    "start_time": "2022-03-08T10:34:36.233Z"
   },
   {
    "duration": 829,
    "start_time": "2022-03-08T10:34:36.246Z"
   },
   {
    "duration": 89822,
    "start_time": "2022-03-08T10:34:37.080Z"
   },
   {
    "duration": -519,
    "start_time": "2022-03-08T10:36:07.424Z"
   },
   {
    "duration": -520,
    "start_time": "2022-03-08T10:36:07.426Z"
   },
   {
    "duration": -520,
    "start_time": "2022-03-08T10:36:07.427Z"
   },
   {
    "duration": 5,
    "start_time": "2022-03-08T10:36:09.219Z"
   },
   {
    "duration": 6,
    "start_time": "2022-03-08T10:36:09.228Z"
   },
   {
    "duration": 91,
    "start_time": "2022-03-08T10:36:09.238Z"
   },
   {
    "duration": 64,
    "start_time": "2022-03-08T10:36:09.332Z"
   },
   {
    "duration": 7,
    "start_time": "2022-03-08T10:36:09.398Z"
   },
   {
    "duration": 747,
    "start_time": "2022-03-08T10:36:09.408Z"
   },
   {
    "duration": 5411,
    "start_time": "2022-03-08T10:36:10.173Z"
   },
   {
    "duration": 6,
    "start_time": "2022-03-08T10:36:15.589Z"
   },
   {
    "duration": 17,
    "start_time": "2022-03-08T10:36:15.598Z"
   },
   {
    "duration": 19,
    "start_time": "2022-03-08T10:36:15.618Z"
   },
   {
    "duration": 296,
    "start_time": "2022-03-08T10:36:35.530Z"
   },
   {
    "duration": 324,
    "start_time": "2022-03-08T10:36:52.707Z"
   },
   {
    "duration": 5525,
    "start_time": "2022-03-08T10:37:13.522Z"
   },
   {
    "duration": 5360,
    "start_time": "2022-03-08T10:37:30.572Z"
   },
   {
    "duration": 4886,
    "start_time": "2022-03-08T10:41:42.627Z"
   },
   {
    "duration": 725,
    "start_time": "2022-03-08T10:42:43.390Z"
   },
   {
    "duration": 600,
    "start_time": "2022-03-08T10:43:08.415Z"
   },
   {
    "duration": 6168,
    "start_time": "2022-03-08T10:44:43.828Z"
   },
   {
    "duration": 27,
    "start_time": "2022-03-08T10:45:59.093Z"
   },
   {
    "duration": 288,
    "start_time": "2022-03-08T10:51:40.357Z"
   },
   {
    "duration": 89,
    "start_time": "2022-03-08T10:53:03.298Z"
   },
   {
    "duration": 265,
    "start_time": "2022-03-08T10:55:52.919Z"
   },
   {
    "duration": 5,
    "start_time": "2022-03-08T10:59:38.033Z"
   },
   {
    "duration": 9,
    "start_time": "2022-03-08T10:59:38.041Z"
   },
   {
    "duration": 88,
    "start_time": "2022-03-08T10:59:38.053Z"
   },
   {
    "duration": 56,
    "start_time": "2022-03-08T10:59:38.143Z"
   },
   {
    "duration": 7,
    "start_time": "2022-03-08T10:59:38.202Z"
   },
   {
    "duration": 726,
    "start_time": "2022-03-08T10:59:38.212Z"
   },
   {
    "duration": 5155,
    "start_time": "2022-03-08T10:59:38.941Z"
   },
   {
    "duration": 6,
    "start_time": "2022-03-08T10:59:44.100Z"
   },
   {
    "duration": 23,
    "start_time": "2022-03-08T10:59:44.109Z"
   },
   {
    "duration": 50,
    "start_time": "2022-03-08T10:59:44.135Z"
   },
   {
    "duration": 110,
    "start_time": "2022-03-08T10:59:44.187Z"
   },
   {
    "duration": 281,
    "start_time": "2022-03-08T10:59:44.300Z"
   },
   {
    "duration": 19,
    "start_time": "2022-03-08T11:06:30.514Z"
   },
   {
    "duration": 14,
    "start_time": "2022-03-08T11:15:17.713Z"
   },
   {
    "duration": 1374,
    "start_time": "2022-03-08T16:21:12.446Z"
   },
   {
    "duration": 4,
    "start_time": "2022-03-08T16:21:13.823Z"
   },
   {
    "duration": 113,
    "start_time": "2022-03-08T16:21:13.830Z"
   },
   {
    "duration": 63,
    "start_time": "2022-03-08T16:21:13.946Z"
   },
   {
    "duration": 7,
    "start_time": "2022-03-08T16:21:14.012Z"
   },
   {
    "duration": 662,
    "start_time": "2022-03-08T16:21:14.022Z"
   },
   {
    "duration": 4568,
    "start_time": "2022-03-08T16:21:14.687Z"
   },
   {
    "duration": 29,
    "start_time": "2022-03-08T16:21:19.258Z"
   },
   {
    "duration": 5,
    "start_time": "2022-03-08T16:21:19.289Z"
   },
   {
    "duration": 31,
    "start_time": "2022-03-08T16:21:19.296Z"
   },
   {
    "duration": 24,
    "start_time": "2022-03-08T16:21:19.330Z"
   },
   {
    "duration": 99,
    "start_time": "2022-03-08T16:21:19.356Z"
   },
   {
    "duration": 186,
    "start_time": "2022-03-08T16:21:19.457Z"
   },
   {
    "duration": 15,
    "start_time": "2022-03-08T16:21:19.646Z"
   },
   {
    "duration": 5,
    "start_time": "2022-03-08T17:23:06.113Z"
   },
   {
    "duration": 12,
    "start_time": "2022-03-08T17:23:06.120Z"
   },
   {
    "duration": 102,
    "start_time": "2022-03-08T17:23:06.134Z"
   },
   {
    "duration": 58,
    "start_time": "2022-03-08T17:23:06.238Z"
   },
   {
    "duration": 6,
    "start_time": "2022-03-08T17:23:06.298Z"
   },
   {
    "duration": 683,
    "start_time": "2022-03-08T17:23:06.307Z"
   },
   {
    "duration": 5093,
    "start_time": "2022-03-08T17:23:06.994Z"
   },
   {
    "duration": 17,
    "start_time": "2022-03-08T17:23:12.089Z"
   },
   {
    "duration": 6,
    "start_time": "2022-03-08T17:23:12.110Z"
   },
   {
    "duration": 25,
    "start_time": "2022-03-08T17:23:12.119Z"
   },
   {
    "duration": 60,
    "start_time": "2022-03-08T17:23:12.147Z"
   },
   {
    "duration": 141,
    "start_time": "2022-03-08T17:23:12.210Z"
   },
   {
    "duration": 216,
    "start_time": "2022-03-08T17:23:12.354Z"
   },
   {
    "duration": 19,
    "start_time": "2022-03-08T17:23:12.574Z"
   },
   {
    "duration": 11,
    "start_time": "2022-03-08T18:12:21.276Z"
   },
   {
    "duration": 16,
    "start_time": "2022-03-08T18:14:28.126Z"
   },
   {
    "duration": 9,
    "start_time": "2022-03-08T18:41:05.586Z"
   },
   {
    "duration": 6,
    "start_time": "2022-03-08T18:41:10.591Z"
   },
   {
    "duration": 13,
    "start_time": "2022-03-08T18:41:10.600Z"
   },
   {
    "duration": 105,
    "start_time": "2022-03-08T18:41:10.616Z"
   },
   {
    "duration": 66,
    "start_time": "2022-03-08T18:41:10.725Z"
   },
   {
    "duration": 6,
    "start_time": "2022-03-08T18:41:10.793Z"
   },
   {
    "duration": 648,
    "start_time": "2022-03-08T18:41:10.802Z"
   },
   {
    "duration": 4589,
    "start_time": "2022-03-08T18:41:11.452Z"
   },
   {
    "duration": 16,
    "start_time": "2022-03-08T18:41:16.043Z"
   },
   {
    "duration": 21,
    "start_time": "2022-03-08T18:41:16.062Z"
   },
   {
    "duration": 16,
    "start_time": "2022-03-08T18:41:16.086Z"
   },
   {
    "duration": 18,
    "start_time": "2022-03-08T18:41:16.105Z"
   },
   {
    "duration": 10,
    "start_time": "2022-03-08T18:41:16.126Z"
   },
   {
    "duration": 124,
    "start_time": "2022-03-08T18:41:16.139Z"
   },
   {
    "duration": 199,
    "start_time": "2022-03-08T18:41:16.265Z"
   },
   {
    "duration": 19,
    "start_time": "2022-03-08T18:41:16.467Z"
   },
   {
    "duration": 22,
    "start_time": "2022-03-08T18:41:16.489Z"
   },
   {
    "duration": 14,
    "start_time": "2022-03-08T18:41:16.514Z"
   },
   {
    "duration": 16,
    "start_time": "2022-03-08T18:43:02.446Z"
   },
   {
    "duration": 15,
    "start_time": "2022-03-08T18:43:57.083Z"
   },
   {
    "duration": 15,
    "start_time": "2022-03-08T18:46:57.680Z"
   },
   {
    "duration": 82,
    "start_time": "2022-03-08T18:48:33.503Z"
   },
   {
    "duration": 81,
    "start_time": "2022-03-08T18:48:42.921Z"
   },
   {
    "duration": 5,
    "start_time": "2022-03-08T18:50:55.453Z"
   },
   {
    "duration": 5,
    "start_time": "2022-03-08T18:52:34.658Z"
   },
   {
    "duration": 85,
    "start_time": "2022-03-08T18:53:52.050Z"
   },
   {
    "duration": 95,
    "start_time": "2022-03-08T18:53:58.187Z"
   },
   {
    "duration": 14,
    "start_time": "2022-03-08T18:54:09.368Z"
   },
   {
    "duration": 11,
    "start_time": "2022-03-08T18:56:01.293Z"
   },
   {
    "duration": 12,
    "start_time": "2022-03-08T18:57:01.820Z"
   },
   {
    "duration": 390,
    "start_time": "2022-03-08T18:57:43.014Z"
   },
   {
    "duration": 265,
    "start_time": "2022-03-08T18:57:48.812Z"
   },
   {
    "duration": 258,
    "start_time": "2022-03-08T18:58:14.589Z"
   },
   {
    "duration": 261,
    "start_time": "2022-03-08T18:58:23.202Z"
   },
   {
    "duration": 13,
    "start_time": "2022-03-08T19:01:18.332Z"
   },
   {
    "duration": 12,
    "start_time": "2022-03-08T19:01:35.768Z"
   },
   {
    "duration": 18,
    "start_time": "2022-03-08T19:02:35.478Z"
   },
   {
    "duration": 16,
    "start_time": "2022-03-08T19:02:36.615Z"
   },
   {
    "duration": 16,
    "start_time": "2022-03-08T19:02:37.529Z"
   },
   {
    "duration": 16,
    "start_time": "2022-03-08T19:02:38.348Z"
   },
   {
    "duration": 16,
    "start_time": "2022-03-08T19:02:39.101Z"
   },
   {
    "duration": 13,
    "start_time": "2022-03-08T19:02:42.520Z"
   },
   {
    "duration": 13,
    "start_time": "2022-03-08T19:05:27.922Z"
   },
   {
    "duration": 7,
    "start_time": "2022-03-08T19:10:37.375Z"
   },
   {
    "duration": 21,
    "start_time": "2022-03-08T19:10:37.386Z"
   },
   {
    "duration": 129,
    "start_time": "2022-03-08T19:10:37.411Z"
   },
   {
    "duration": 62,
    "start_time": "2022-03-08T19:10:37.543Z"
   },
   {
    "duration": 7,
    "start_time": "2022-03-08T19:10:37.607Z"
   },
   {
    "duration": 686,
    "start_time": "2022-03-08T19:10:37.616Z"
   },
   {
    "duration": 5742,
    "start_time": "2022-03-08T19:10:38.305Z"
   },
   {
    "duration": 32,
    "start_time": "2022-03-08T19:10:44.052Z"
   },
   {
    "duration": 5,
    "start_time": "2022-03-08T19:10:44.087Z"
   },
   {
    "duration": 30,
    "start_time": "2022-03-08T19:10:44.097Z"
   },
   {
    "duration": 20,
    "start_time": "2022-03-08T19:10:44.130Z"
   },
   {
    "duration": 37,
    "start_time": "2022-03-08T19:10:44.153Z"
   },
   {
    "duration": 104,
    "start_time": "2022-03-08T19:10:44.193Z"
   },
   {
    "duration": 198,
    "start_time": "2022-03-08T19:10:44.300Z"
   },
   {
    "duration": 19,
    "start_time": "2022-03-08T19:10:44.501Z"
   },
   {
    "duration": 14,
    "start_time": "2022-03-08T19:10:44.523Z"
   },
   {
    "duration": 48,
    "start_time": "2022-03-08T19:10:44.539Z"
   },
   {
    "duration": 13,
    "start_time": "2022-03-08T19:10:44.589Z"
   },
   {
    "duration": 7,
    "start_time": "2022-03-08T19:19:24.382Z"
   },
   {
    "duration": 9,
    "start_time": "2022-03-08T19:19:44.815Z"
   },
   {
    "duration": 12,
    "start_time": "2022-03-08T19:20:10.477Z"
   },
   {
    "duration": 12,
    "start_time": "2022-03-08T19:36:26.246Z"
   },
   {
    "duration": 16,
    "start_time": "2022-03-08T19:38:33.827Z"
   },
   {
    "duration": 17,
    "start_time": "2022-03-08T19:39:21.128Z"
   },
   {
    "duration": 20,
    "start_time": "2022-03-08T19:41:01.595Z"
   },
   {
    "duration": 88,
    "start_time": "2022-03-08T19:41:56.889Z"
   },
   {
    "duration": 88,
    "start_time": "2022-03-08T19:42:05.999Z"
   },
   {
    "duration": 20,
    "start_time": "2022-03-08T19:42:33.594Z"
   },
   {
    "duration": 19,
    "start_time": "2022-03-08T19:43:11.952Z"
   },
   {
    "duration": 20,
    "start_time": "2022-03-08T19:43:44.748Z"
   },
   {
    "duration": 25,
    "start_time": "2022-03-08T19:43:58.846Z"
   },
   {
    "duration": 23,
    "start_time": "2022-03-08T19:44:45.662Z"
   },
   {
    "duration": 23,
    "start_time": "2022-03-08T19:45:39.121Z"
   },
   {
    "duration": 89,
    "start_time": "2022-03-08T19:47:35.723Z"
   },
   {
    "duration": 29,
    "start_time": "2022-03-08T19:48:38.937Z"
   },
   {
    "duration": 15,
    "start_time": "2022-03-08T19:49:58.530Z"
   },
   {
    "duration": 38,
    "start_time": "2022-03-08T19:51:01.353Z"
   },
   {
    "duration": 39,
    "start_time": "2022-03-08T19:54:47.189Z"
   },
   {
    "duration": 5,
    "start_time": "2022-03-08T20:01:34.074Z"
   },
   {
    "duration": 3,
    "start_time": "2022-03-08T20:02:11.794Z"
   },
   {
    "duration": 6,
    "start_time": "2022-03-08T20:02:20.619Z"
   },
   {
    "duration": 19,
    "start_time": "2022-03-08T20:02:20.628Z"
   },
   {
    "duration": 12,
    "start_time": "2022-03-08T20:02:20.650Z"
   },
   {
    "duration": 100,
    "start_time": "2022-03-08T20:02:20.665Z"
   },
   {
    "duration": 31,
    "start_time": "2022-03-08T20:02:20.783Z"
   },
   {
    "duration": 6,
    "start_time": "2022-03-08T20:02:20.816Z"
   },
   {
    "duration": 625,
    "start_time": "2022-03-08T20:02:20.824Z"
   },
   {
    "duration": 4603,
    "start_time": "2022-03-08T20:02:21.452Z"
   },
   {
    "duration": 28,
    "start_time": "2022-03-08T20:02:26.058Z"
   },
   {
    "duration": 6,
    "start_time": "2022-03-08T20:02:26.089Z"
   },
   {
    "duration": 17,
    "start_time": "2022-03-08T20:02:26.098Z"
   },
   {
    "duration": 21,
    "start_time": "2022-03-08T20:02:26.117Z"
   },
   {
    "duration": 43,
    "start_time": "2022-03-08T20:02:26.140Z"
   },
   {
    "duration": 110,
    "start_time": "2022-03-08T20:02:26.186Z"
   },
   {
    "duration": 197,
    "start_time": "2022-03-08T20:02:26.299Z"
   },
   {
    "duration": 16,
    "start_time": "2022-03-08T20:02:26.499Z"
   },
   {
    "duration": 13,
    "start_time": "2022-03-08T20:02:26.517Z"
   },
   {
    "duration": 51,
    "start_time": "2022-03-08T20:02:26.532Z"
   },
   {
    "duration": 13,
    "start_time": "2022-03-08T20:02:26.586Z"
   },
   {
    "duration": 44,
    "start_time": "2022-03-08T20:02:26.601Z"
   },
   {
    "duration": 7,
    "start_time": "2022-03-08T20:05:55.258Z"
   },
   {
    "duration": 10,
    "start_time": "2022-03-08T20:05:55.268Z"
   },
   {
    "duration": 6,
    "start_time": "2022-03-08T20:05:55.281Z"
   },
   {
    "duration": 100,
    "start_time": "2022-03-08T20:05:55.289Z"
   },
   {
    "duration": 30,
    "start_time": "2022-03-08T20:05:55.392Z"
   },
   {
    "duration": 6,
    "start_time": "2022-03-08T20:05:55.424Z"
   },
   {
    "duration": 652,
    "start_time": "2022-03-08T20:05:55.433Z"
   },
   {
    "duration": 4594,
    "start_time": "2022-03-08T20:05:56.089Z"
   },
   {
    "duration": 16,
    "start_time": "2022-03-08T20:06:00.686Z"
   },
   {
    "duration": 5,
    "start_time": "2022-03-08T20:06:00.704Z"
   },
   {
    "duration": 24,
    "start_time": "2022-03-08T20:06:00.712Z"
   },
   {
    "duration": 49,
    "start_time": "2022-03-08T20:06:00.739Z"
   },
   {
    "duration": 12,
    "start_time": "2022-03-08T20:06:00.791Z"
   },
   {
    "duration": 121,
    "start_time": "2022-03-08T20:06:00.806Z"
   },
   {
    "duration": 198,
    "start_time": "2022-03-08T20:06:00.929Z"
   },
   {
    "duration": 16,
    "start_time": "2022-03-08T20:06:01.130Z"
   },
   {
    "duration": 37,
    "start_time": "2022-03-08T20:06:01.148Z"
   },
   {
    "duration": 21,
    "start_time": "2022-03-08T20:06:01.187Z"
   },
   {
    "duration": 31,
    "start_time": "2022-03-08T20:06:01.210Z"
   },
   {
    "duration": 58,
    "start_time": "2022-03-08T20:06:01.244Z"
   },
   {
    "duration": 5,
    "start_time": "2022-03-08T20:07:44.863Z"
   },
   {
    "duration": 14,
    "start_time": "2022-03-08T20:07:44.871Z"
   },
   {
    "duration": 7,
    "start_time": "2022-03-08T20:07:44.888Z"
   },
   {
    "duration": 94,
    "start_time": "2022-03-08T20:07:44.897Z"
   },
   {
    "duration": 35,
    "start_time": "2022-03-08T20:07:44.993Z"
   },
   {
    "duration": 7,
    "start_time": "2022-03-08T20:07:45.031Z"
   },
   {
    "duration": 670,
    "start_time": "2022-03-08T20:07:45.041Z"
   },
   {
    "duration": 4581,
    "start_time": "2022-03-08T20:07:45.715Z"
   },
   {
    "duration": 17,
    "start_time": "2022-03-08T20:07:50.299Z"
   },
   {
    "duration": 5,
    "start_time": "2022-03-08T20:07:50.318Z"
   },
   {
    "duration": 19,
    "start_time": "2022-03-08T20:07:50.325Z"
   },
   {
    "duration": 47,
    "start_time": "2022-03-08T20:07:50.347Z"
   },
   {
    "duration": 9,
    "start_time": "2022-03-08T20:07:50.397Z"
   },
   {
    "duration": 110,
    "start_time": "2022-03-08T20:07:50.408Z"
   },
   {
    "duration": 183,
    "start_time": "2022-03-08T20:07:50.520Z"
   },
   {
    "duration": 14,
    "start_time": "2022-03-08T20:07:50.706Z"
   },
   {
    "duration": 13,
    "start_time": "2022-03-08T20:07:50.723Z"
   },
   {
    "duration": 46,
    "start_time": "2022-03-08T20:07:50.738Z"
   },
   {
    "duration": 12,
    "start_time": "2022-03-08T20:07:50.787Z"
   },
   {
    "duration": 38,
    "start_time": "2022-03-08T20:07:50.802Z"
   },
   {
    "duration": 1299,
    "start_time": "2022-03-08T22:31:18.577Z"
   },
   {
    "duration": 3,
    "start_time": "2022-03-08T22:31:19.879Z"
   },
   {
    "duration": 10,
    "start_time": "2022-03-08T22:31:19.885Z"
   },
   {
    "duration": 101,
    "start_time": "2022-03-08T22:31:19.897Z"
   },
   {
    "duration": 29,
    "start_time": "2022-03-08T22:32:01.525Z"
   },
   {
    "duration": 6,
    "start_time": "2022-03-08T22:32:44.883Z"
   },
   {
    "duration": 542,
    "start_time": "2022-03-08T22:32:46.840Z"
   },
   {
    "duration": 4453,
    "start_time": "2022-03-08T22:33:26.122Z"
   },
   {
    "duration": 17,
    "start_time": "2022-03-08T22:34:00.827Z"
   },
   {
    "duration": 5,
    "start_time": "2022-03-08T22:34:22.868Z"
   },
   {
    "duration": 16,
    "start_time": "2022-03-08T22:34:25.756Z"
   },
   {
    "duration": 19,
    "start_time": "2022-03-08T22:34:26.879Z"
   },
   {
    "duration": 11,
    "start_time": "2022-03-08T22:34:27.434Z"
   },
   {
    "duration": 92,
    "start_time": "2022-03-08T22:34:37.576Z"
   },
   {
    "duration": 171,
    "start_time": "2022-03-08T22:34:40.167Z"
   },
   {
    "duration": 18,
    "start_time": "2022-03-08T22:34:41.071Z"
   },
   {
    "duration": 15,
    "start_time": "2022-03-08T22:34:42.331Z"
   },
   {
    "duration": 15,
    "start_time": "2022-03-08T22:34:49.004Z"
   },
   {
    "duration": 12,
    "start_time": "2022-03-08T22:34:52.098Z"
   },
   {
    "duration": 41,
    "start_time": "2022-03-08T22:34:54.455Z"
   },
   {
    "duration": 1287,
    "start_time": "2022-03-09T17:38:58.402Z"
   },
   {
    "duration": 3,
    "start_time": "2022-03-09T17:38:59.692Z"
   },
   {
    "duration": 7,
    "start_time": "2022-03-09T17:38:59.697Z"
   },
   {
    "duration": 116,
    "start_time": "2022-03-09T17:38:59.707Z"
   },
   {
    "duration": 33,
    "start_time": "2022-03-09T17:38:59.851Z"
   },
   {
    "duration": 7,
    "start_time": "2022-03-09T17:38:59.908Z"
   },
   {
    "duration": 662,
    "start_time": "2022-03-09T17:38:59.917Z"
   },
   {
    "duration": 5234,
    "start_time": "2022-03-09T17:39:00.583Z"
   },
   {
    "duration": 37,
    "start_time": "2022-03-09T17:39:05.822Z"
   },
   {
    "duration": 6,
    "start_time": "2022-03-09T17:39:05.862Z"
   },
   {
    "duration": 16,
    "start_time": "2022-03-09T17:39:05.872Z"
   },
   {
    "duration": 60,
    "start_time": "2022-03-09T17:39:05.891Z"
   },
   {
    "duration": 11,
    "start_time": "2022-03-09T17:39:05.954Z"
   },
   {
    "duration": 112,
    "start_time": "2022-03-09T17:39:05.967Z"
   },
   {
    "duration": 198,
    "start_time": "2022-03-09T17:39:06.081Z"
   },
   {
    "duration": 16,
    "start_time": "2022-03-09T17:39:06.282Z"
   },
   {
    "duration": 50,
    "start_time": "2022-03-09T17:39:06.301Z"
   },
   {
    "duration": 19,
    "start_time": "2022-03-09T17:39:06.353Z"
   },
   {
    "duration": 18,
    "start_time": "2022-03-09T17:39:06.376Z"
   },
   {
    "duration": 90,
    "start_time": "2022-03-09T17:39:06.397Z"
   },
   {
    "duration": 6293,
    "start_time": "2022-03-09T19:08:08.540Z"
   },
   {
    "duration": 6,
    "start_time": "2022-03-09T19:09:01.872Z"
   },
   {
    "duration": 571,
    "start_time": "2022-03-09T19:10:26.335Z"
   },
   {
    "duration": 583,
    "start_time": "2022-03-09T19:10:35.200Z"
   },
   {
    "duration": 8,
    "start_time": "2022-03-09T19:11:02.962Z"
   },
   {
    "duration": 6,
    "start_time": "2022-03-09T19:11:05.768Z"
   },
   {
    "duration": 8,
    "start_time": "2022-03-09T19:11:05.776Z"
   },
   {
    "duration": 5,
    "start_time": "2022-03-09T19:11:05.787Z"
   },
   {
    "duration": 103,
    "start_time": "2022-03-09T19:11:05.795Z"
   },
   {
    "duration": 609,
    "start_time": "2022-03-09T19:11:05.901Z"
   },
   {
    "duration": 54,
    "start_time": "2022-03-09T19:11:06.513Z"
   },
   {
    "duration": 7,
    "start_time": "2022-03-09T19:11:06.571Z"
   },
   {
    "duration": 741,
    "start_time": "2022-03-09T19:11:06.582Z"
   },
   {
    "duration": 5084,
    "start_time": "2022-03-09T19:11:07.325Z"
   },
   {
    "duration": 19,
    "start_time": "2022-03-09T19:11:12.412Z"
   },
   {
    "duration": 7,
    "start_time": "2022-03-09T19:11:12.452Z"
   },
   {
    "duration": 21,
    "start_time": "2022-03-09T19:11:12.462Z"
   },
   {
    "duration": 25,
    "start_time": "2022-03-09T19:11:12.487Z"
   },
   {
    "duration": 43,
    "start_time": "2022-03-09T19:11:12.514Z"
   },
   {
    "duration": 111,
    "start_time": "2022-03-09T19:11:12.560Z"
   },
   {
    "duration": 212,
    "start_time": "2022-03-09T19:11:12.674Z"
   },
   {
    "duration": 17,
    "start_time": "2022-03-09T19:11:12.892Z"
   },
   {
    "duration": 14,
    "start_time": "2022-03-09T19:11:12.912Z"
   },
   {
    "duration": 19,
    "start_time": "2022-03-09T19:11:12.953Z"
   },
   {
    "duration": 14,
    "start_time": "2022-03-09T19:11:12.975Z"
   },
   {
    "duration": 80,
    "start_time": "2022-03-09T19:11:12.992Z"
   },
   {
    "duration": 877,
    "start_time": "2022-03-09T19:11:55.503Z"
   },
   {
    "duration": 1343,
    "start_time": "2022-03-09T19:12:25.233Z"
   },
   {
    "duration": 1790,
    "start_time": "2022-03-09T19:13:05.519Z"
   },
   {
    "duration": 2342,
    "start_time": "2022-03-09T19:14:01.268Z"
   },
   {
    "duration": 2763,
    "start_time": "2022-03-09T19:15:16.499Z"
   },
   {
    "duration": 6,
    "start_time": "2022-03-09T19:27:52.435Z"
   },
   {
    "duration": 8,
    "start_time": "2022-03-09T19:27:52.444Z"
   },
   {
    "duration": 4,
    "start_time": "2022-03-09T19:27:52.456Z"
   },
   {
    "duration": 107,
    "start_time": "2022-03-09T19:27:52.463Z"
   },
   {
    "duration": 3482,
    "start_time": "2022-03-09T19:27:52.572Z"
   },
   {
    "duration": 30,
    "start_time": "2022-03-09T19:27:56.057Z"
   },
   {
    "duration": 6,
    "start_time": "2022-03-09T19:27:56.090Z"
   },
   {
    "duration": 1019,
    "start_time": "2022-03-09T19:27:56.152Z"
   },
   {
    "duration": 10419,
    "start_time": "2022-03-09T19:27:57.175Z"
   },
   {
    "duration": 70,
    "start_time": "2022-03-09T19:28:07.596Z"
   },
   {
    "duration": 6,
    "start_time": "2022-03-09T19:28:07.669Z"
   },
   {
    "duration": 77,
    "start_time": "2022-03-09T19:28:07.678Z"
   },
   {
    "duration": 20,
    "start_time": "2022-03-09T19:28:07.759Z"
   },
   {
    "duration": 13,
    "start_time": "2022-03-09T19:28:07.782Z"
   },
   {
    "duration": 144,
    "start_time": "2022-03-09T19:28:07.852Z"
   },
   {
    "duration": 396,
    "start_time": "2022-03-09T19:28:07.998Z"
   },
   {
    "duration": 72,
    "start_time": "2022-03-09T19:28:08.397Z"
   },
   {
    "duration": 17,
    "start_time": "2022-03-09T19:28:08.472Z"
   },
   {
    "duration": 77,
    "start_time": "2022-03-09T19:28:08.492Z"
   },
   {
    "duration": 17,
    "start_time": "2022-03-09T19:28:08.571Z"
   },
   {
    "duration": 95,
    "start_time": "2022-03-09T19:28:08.591Z"
   },
   {
    "duration": 4,
    "start_time": "2022-03-09T19:30:30.989Z"
   },
   {
    "duration": 6,
    "start_time": "2022-03-09T19:31:48.617Z"
   },
   {
    "duration": 7,
    "start_time": "2022-03-09T19:31:48.626Z"
   },
   {
    "duration": 6,
    "start_time": "2022-03-09T19:31:48.636Z"
   },
   {
    "duration": 88,
    "start_time": "2022-03-09T19:31:48.645Z"
   },
   {
    "duration": 2654,
    "start_time": "2022-03-09T19:31:48.751Z"
   },
   {
    "duration": 47,
    "start_time": "2022-03-09T19:31:51.408Z"
   },
   {
    "duration": 8,
    "start_time": "2022-03-09T19:31:51.457Z"
   },
   {
    "duration": 617,
    "start_time": "2022-03-09T19:31:51.469Z"
   },
   {
    "duration": 4912,
    "start_time": "2022-03-09T19:31:52.089Z"
   },
   {
    "duration": 17,
    "start_time": "2022-03-09T19:31:57.003Z"
   },
   {
    "duration": 4,
    "start_time": "2022-03-09T19:31:57.023Z"
   },
   {
    "duration": 18,
    "start_time": "2022-03-09T19:31:57.052Z"
   },
   {
    "duration": 19,
    "start_time": "2022-03-09T19:31:57.073Z"
   },
   {
    "duration": 11,
    "start_time": "2022-03-09T19:31:57.094Z"
   },
   {
    "duration": 125,
    "start_time": "2022-03-09T19:31:57.107Z"
   },
   {
    "duration": 194,
    "start_time": "2022-03-09T19:31:57.235Z"
   },
   {
    "duration": 22,
    "start_time": "2022-03-09T19:31:57.431Z"
   },
   {
    "duration": 13,
    "start_time": "2022-03-09T19:31:57.456Z"
   },
   {
    "duration": 15,
    "start_time": "2022-03-09T19:31:57.471Z"
   },
   {
    "duration": 12,
    "start_time": "2022-03-09T19:31:57.488Z"
   },
   {
    "duration": 87,
    "start_time": "2022-03-09T19:31:57.502Z"
   },
   {
    "duration": 523,
    "start_time": "2022-03-09T19:45:25.847Z"
   },
   {
    "duration": 652,
    "start_time": "2022-03-09T19:45:41.218Z"
   },
   {
    "duration": 312,
    "start_time": "2022-03-09T19:47:25.747Z"
   },
   {
    "duration": 5,
    "start_time": "2022-03-09T19:47:31.612Z"
   },
   {
    "duration": 8,
    "start_time": "2022-03-09T19:47:31.620Z"
   },
   {
    "duration": 12,
    "start_time": "2022-03-09T19:47:31.630Z"
   },
   {
    "duration": 106,
    "start_time": "2022-03-09T19:47:31.645Z"
   },
   {
    "duration": 2722,
    "start_time": "2022-03-09T19:47:31.753Z"
   },
   {
    "duration": 255,
    "start_time": "2022-03-09T19:47:34.477Z"
   },
   {
    "duration": -1633,
    "start_time": "2022-03-09T19:47:36.368Z"
   },
   {
    "duration": -1634,
    "start_time": "2022-03-09T19:47:36.370Z"
   },
   {
    "duration": -1636,
    "start_time": "2022-03-09T19:47:36.373Z"
   },
   {
    "duration": -1635,
    "start_time": "2022-03-09T19:47:36.374Z"
   },
   {
    "duration": -1636,
    "start_time": "2022-03-09T19:47:36.376Z"
   },
   {
    "duration": -1637,
    "start_time": "2022-03-09T19:47:36.378Z"
   },
   {
    "duration": -1638,
    "start_time": "2022-03-09T19:47:36.381Z"
   },
   {
    "duration": -1638,
    "start_time": "2022-03-09T19:47:36.382Z"
   },
   {
    "duration": -1643,
    "start_time": "2022-03-09T19:47:36.388Z"
   },
   {
    "duration": -1643,
    "start_time": "2022-03-09T19:47:36.390Z"
   },
   {
    "duration": -1643,
    "start_time": "2022-03-09T19:47:36.392Z"
   },
   {
    "duration": -1643,
    "start_time": "2022-03-09T19:47:36.394Z"
   },
   {
    "duration": -1644,
    "start_time": "2022-03-09T19:47:36.396Z"
   },
   {
    "duration": -1644,
    "start_time": "2022-03-09T19:47:36.398Z"
   },
   {
    "duration": -1645,
    "start_time": "2022-03-09T19:47:36.400Z"
   },
   {
    "duration": -1649,
    "start_time": "2022-03-09T19:47:36.405Z"
   },
   {
    "duration": 10,
    "start_time": "2022-03-09T19:47:56.225Z"
   },
   {
    "duration": 13,
    "start_time": "2022-03-09T19:48:18.053Z"
   },
   {
    "duration": 14,
    "start_time": "2022-03-09T19:48:43.347Z"
   },
   {
    "duration": 5,
    "start_time": "2022-03-09T19:57:57.593Z"
   },
   {
    "duration": 7,
    "start_time": "2022-03-09T19:57:57.601Z"
   },
   {
    "duration": 4,
    "start_time": "2022-03-09T19:57:57.611Z"
   },
   {
    "duration": 85,
    "start_time": "2022-03-09T19:57:57.618Z"
   },
   {
    "duration": 2769,
    "start_time": "2022-03-09T19:57:57.705Z"
   },
   {
    "duration": 14,
    "start_time": "2022-03-09T19:58:00.477Z"
   },
   {
    "duration": 62,
    "start_time": "2022-03-09T19:58:00.494Z"
   },
   {
    "duration": 6,
    "start_time": "2022-03-09T19:58:00.559Z"
   },
   {
    "duration": 552,
    "start_time": "2022-03-09T19:58:00.568Z"
   },
   {
    "duration": 3739,
    "start_time": "2022-03-09T19:58:01.122Z"
   },
   {
    "duration": 15,
    "start_time": "2022-03-09T19:58:04.863Z"
   },
   {
    "duration": 4,
    "start_time": "2022-03-09T19:58:04.880Z"
   },
   {
    "duration": 13,
    "start_time": "2022-03-09T19:58:04.887Z"
   },
   {
    "duration": 54,
    "start_time": "2022-03-09T19:58:04.902Z"
   },
   {
    "duration": 9,
    "start_time": "2022-03-09T19:58:04.959Z"
   },
   {
    "duration": 88,
    "start_time": "2022-03-09T19:58:04.971Z"
   },
   {
    "duration": 148,
    "start_time": "2022-03-09T19:58:05.062Z"
   },
   {
    "duration": 14,
    "start_time": "2022-03-09T19:58:05.212Z"
   },
   {
    "duration": 33,
    "start_time": "2022-03-09T19:58:05.228Z"
   },
   {
    "duration": 18,
    "start_time": "2022-03-09T19:58:05.264Z"
   },
   {
    "duration": 13,
    "start_time": "2022-03-09T19:58:05.285Z"
   },
   {
    "duration": 77,
    "start_time": "2022-03-09T19:58:05.301Z"
   },
   {
    "duration": 6,
    "start_time": "2022-03-09T19:58:20.453Z"
   },
   {
    "duration": 22,
    "start_time": "2022-03-09T19:58:20.461Z"
   },
   {
    "duration": 18,
    "start_time": "2022-03-09T19:58:20.486Z"
   },
   {
    "duration": 84,
    "start_time": "2022-03-09T19:58:20.507Z"
   },
   {
    "duration": 2681,
    "start_time": "2022-03-09T19:58:20.593Z"
   },
   {
    "duration": 15,
    "start_time": "2022-03-09T19:58:23.277Z"
   },
   {
    "duration": 60,
    "start_time": "2022-03-09T19:58:23.295Z"
   },
   {
    "duration": 6,
    "start_time": "2022-03-09T19:58:23.359Z"
   },
   {
    "duration": 561,
    "start_time": "2022-03-09T19:58:23.369Z"
   },
   {
    "duration": 3759,
    "start_time": "2022-03-09T19:58:23.932Z"
   },
   {
    "duration": 15,
    "start_time": "2022-03-09T19:58:27.693Z"
   },
   {
    "duration": 4,
    "start_time": "2022-03-09T19:58:27.711Z"
   },
   {
    "duration": 43,
    "start_time": "2022-03-09T19:58:27.717Z"
   },
   {
    "duration": 17,
    "start_time": "2022-03-09T19:58:27.763Z"
   },
   {
    "duration": 10,
    "start_time": "2022-03-09T19:58:27.782Z"
   },
   {
    "duration": 102,
    "start_time": "2022-03-09T19:58:27.795Z"
   },
   {
    "duration": 144,
    "start_time": "2022-03-09T19:58:27.899Z"
   },
   {
    "duration": 17,
    "start_time": "2022-03-09T19:58:28.051Z"
   },
   {
    "duration": 12,
    "start_time": "2022-03-09T19:58:28.070Z"
   },
   {
    "duration": 14,
    "start_time": "2022-03-09T19:58:28.085Z"
   },
   {
    "duration": 49,
    "start_time": "2022-03-09T19:58:28.102Z"
   },
   {
    "duration": 38,
    "start_time": "2022-03-09T19:58:28.153Z"
   },
   {
    "duration": 5887,
    "start_time": "2022-03-09T20:03:11.234Z"
   },
   {
    "duration": 23540,
    "start_time": "2022-03-09T20:03:23.347Z"
   },
   {
    "duration": 22950,
    "start_time": "2022-03-09T20:04:57.308Z"
   },
   {
    "duration": 17,
    "start_time": "2022-03-09T20:05:35.712Z"
   },
   {
    "duration": 12,
    "start_time": "2022-03-09T20:07:16.694Z"
   },
   {
    "duration": 20,
    "start_time": "2022-03-09T20:07:19.249Z"
   },
   {
    "duration": 12,
    "start_time": "2022-03-09T20:07:21.636Z"
   },
   {
    "duration": 159,
    "start_time": "2022-03-09T20:10:53.304Z"
   },
   {
    "duration": 326,
    "start_time": "2022-03-09T20:11:09.007Z"
   },
   {
    "duration": 16,
    "start_time": "2022-03-09T20:11:17.639Z"
   },
   {
    "duration": 16,
    "start_time": "2022-03-09T20:15:34.004Z"
   },
   {
    "duration": 5,
    "start_time": "2022-03-09T20:16:04.642Z"
   },
   {
    "duration": 9,
    "start_time": "2022-03-09T20:16:04.650Z"
   },
   {
    "duration": 5,
    "start_time": "2022-03-09T20:16:04.662Z"
   },
   {
    "duration": 111,
    "start_time": "2022-03-09T20:16:04.670Z"
   },
   {
    "duration": 2691,
    "start_time": "2022-03-09T20:16:04.784Z"
   },
   {
    "duration": 15,
    "start_time": "2022-03-09T20:16:07.477Z"
   },
   {
    "duration": 64,
    "start_time": "2022-03-09T20:16:07.494Z"
   },
   {
    "duration": 7,
    "start_time": "2022-03-09T20:16:07.562Z"
   },
   {
    "duration": 543,
    "start_time": "2022-03-09T20:16:07.571Z"
   },
   {
    "duration": 22093,
    "start_time": "2022-03-09T20:16:08.117Z"
   },
   {
    "duration": 16,
    "start_time": "2022-03-09T20:16:30.212Z"
   },
   {
    "duration": 22,
    "start_time": "2022-03-09T20:16:30.231Z"
   },
   {
    "duration": 14,
    "start_time": "2022-03-09T20:16:30.256Z"
   },
   {
    "duration": 21,
    "start_time": "2022-03-09T20:16:30.273Z"
   },
   {
    "duration": 10,
    "start_time": "2022-03-09T20:16:30.296Z"
   },
   {
    "duration": 213,
    "start_time": "2022-03-09T20:16:30.309Z"
   },
   {
    "duration": 326,
    "start_time": "2022-03-09T20:16:30.525Z"
   },
   {
    "duration": 14,
    "start_time": "2022-03-09T20:16:30.853Z"
   },
   {
    "duration": 14,
    "start_time": "2022-03-09T20:16:30.870Z"
   },
   {
    "duration": 22,
    "start_time": "2022-03-09T20:16:30.887Z"
   },
   {
    "duration": 41,
    "start_time": "2022-03-09T20:16:30.912Z"
   },
   {
    "duration": 42,
    "start_time": "2022-03-09T20:16:30.956Z"
   },
   {
    "duration": 16,
    "start_time": "2022-03-09T20:26:32.153Z"
   },
   {
    "duration": 14,
    "start_time": "2022-03-09T20:26:40.168Z"
   },
   {
    "duration": 39,
    "start_time": "2022-03-09T20:27:28.550Z"
   },
   {
    "duration": 82,
    "start_time": "2022-03-09T20:42:08.159Z"
   },
   {
    "duration": 95,
    "start_time": "2022-03-09T20:42:30.941Z"
   },
   {
    "duration": 245,
    "start_time": "2022-03-09T20:42:40.648Z"
   },
   {
    "duration": 270,
    "start_time": "2022-03-09T20:43:15.479Z"
   },
   {
    "duration": 254,
    "start_time": "2022-03-09T20:44:46.283Z"
   },
   {
    "duration": 252,
    "start_time": "2022-03-09T20:45:53.268Z"
   }
  ],
  "kernelspec": {
   "display_name": "Python 3 (ipykernel)",
   "language": "python",
   "name": "python3"
  },
  "language_info": {
   "codemirror_mode": {
    "name": "ipython",
    "version": 3
   },
   "file_extension": ".py",
   "mimetype": "text/x-python",
   "name": "python",
   "nbconvert_exporter": "python",
   "pygments_lexer": "ipython3",
   "version": "3.9.12"
  },
  "toc": {
   "base_numbering": 1,
   "nav_menu": {
    "height": "138px",
    "width": "346px"
   },
   "number_sections": true,
   "sideBar": true,
   "skip_h1_title": true,
   "title_cell": "Содержание",
   "title_sidebar": "Содержание",
   "toc_cell": true,
   "toc_position": {
    "height": "calc(100% - 180px)",
    "left": "10px",
    "top": "150px",
    "width": "254px"
   },
   "toc_section_display": true,
   "toc_window_display": true
  },
  "varInspector": {
   "cols": {
    "lenName": 16,
    "lenType": 16,
    "lenVar": 40
   },
   "kernels_config": {
    "python": {
     "delete_cmd_postfix": "",
     "delete_cmd_prefix": "del ",
     "library": "var_list.py",
     "varRefreshCmd": "print(var_dic_list())"
    },
    "r": {
     "delete_cmd_postfix": ") ",
     "delete_cmd_prefix": "rm(",
     "library": "var_list.r",
     "varRefreshCmd": "cat(var_dic_list()) "
    }
   },
   "types_to_exclude": [
    "module",
    "function",
    "builtin_function_or_method",
    "instance",
    "_Feature"
   ],
   "window_display": false
  }
 },
 "nbformat": 4,
 "nbformat_minor": 2
}

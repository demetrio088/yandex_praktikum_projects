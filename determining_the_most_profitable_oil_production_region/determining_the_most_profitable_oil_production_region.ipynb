{
 "cells": [
  {
   "cell_type": "markdown",
   "metadata": {},
   "source": [
    "# Выбор локации для скважины"
   ]
  },
  {
   "cell_type": "markdown",
   "metadata": {},
   "source": [
    "Мы работаем в добывающей компании «ГлавРосГосНефть». Нужно решить, где бурить новую скважину.\n",
    "\n",
    "Нам предоставлены пробы нефти в трёх регионах: в каждом 10 000 месторождений, где измерили качество нефти и объём её запасов. Построим модель машинного обучения, которая поможет определить регион, где добыча принесёт наибольшую прибыль. Проанализируем возможную прибыль и риски техникой Bootstrap.\n",
    "\n",
    "Шаги для выбора локации:\n",
    "\n",
    "- В избранном регионе ищут месторождения, для каждого определяют значения признаков;\n",
    "- Строят модель и оценивают объём запасов;\n",
    "- Выбирают месторождения с самым высокими оценками значений. Количество месторождений зависит от бюджета компании и стоимости разработки одной скважины;\n",
    "- Прибыль равна суммарной прибыли отобранных месторождений."
   ]
  },
  {
   "cell_type": "markdown",
   "metadata": {
    "toc": true
   },
   "source": [
    "<h1>Содержание<span class=\"tocSkip\"></span></h1>\n",
    "<div class=\"toc\"><ul class=\"toc-item\"><li><span><a href=\"#Загрузка-и-подготовка-данных\" data-toc-modified-id=\"Загрузка-и-подготовка-данных-1\"><span class=\"toc-item-num\">1&nbsp;&nbsp;</span>Загрузка и подготовка данных</a></span><ul class=\"toc-item\"><li><span><a href=\"#Оценка-входных-данных\" data-toc-modified-id=\"Оценка-входных-данных-1.1\"><span class=\"toc-item-num\">1.1&nbsp;&nbsp;</span>Оценка входных данных</a></span></li><li><span><a href=\"#Описание-данных\" data-toc-modified-id=\"Описание-данных-1.2\"><span class=\"toc-item-num\">1.2&nbsp;&nbsp;</span>Описание данных</a></span></li><li><span><a href=\"#Проверка-признаков-на-мультиколлинеарность\" data-toc-modified-id=\"Проверка-признаков-на-мультиколлинеарность-1.3\"><span class=\"toc-item-num\">1.3&nbsp;&nbsp;</span>Проверка признаков на мультиколлинеарность</a></span><ul class=\"toc-item\"><li><span><a href=\"#Проверка-мультиколлинеарности-по-1-региону\" data-toc-modified-id=\"Проверка-мультиколлинеарности-по-1-региону-1.3.1\"><span class=\"toc-item-num\">1.3.1&nbsp;&nbsp;</span>Проверка мультиколлинеарности по 1 региону</a></span></li><li><span><a href=\"#Проверка-мультиколлинераности-по-2-региону\" data-toc-modified-id=\"Проверка-мультиколлинераности-по-2-региону-1.3.2\"><span class=\"toc-item-num\">1.3.2&nbsp;&nbsp;</span>Проверка мультиколлинераности по 2 региону</a></span></li><li><span><a href=\"#Проверка-мультиколлинеарности-по-3-региону\" data-toc-modified-id=\"Проверка-мультиколлинеарности-по-3-региону-1.3.3\"><span class=\"toc-item-num\">1.3.3&nbsp;&nbsp;</span>Проверка мультиколлинеарности по 3 региону</a></span></li><li><span><a href=\"#Описание-этапа-проверки-данных\" data-toc-modified-id=\"Описание-этапа-проверки-данных-1.3.4\"><span class=\"toc-item-num\">1.3.4&nbsp;&nbsp;</span>Описание этапа проверки данных</a></span></li></ul></li><li><span><a href=\"#Проверка-дубликатов\" data-toc-modified-id=\"Проверка-дубликатов-1.4\"><span class=\"toc-item-num\">1.4&nbsp;&nbsp;</span>Проверка дубликатов</a></span><ul class=\"toc-item\"><li><span><a href=\"#Описание-этапа-проверки-дубликатов\" data-toc-modified-id=\"Описание-этапа-проверки-дубликатов-1.4.1\"><span class=\"toc-item-num\">1.4.1&nbsp;&nbsp;</span>Описание этапа проверки дубликатов</a></span></li></ul></li></ul></li><li><span><a href=\"#Обучение-и-проверка-модели\" data-toc-modified-id=\"Обучение-и-проверка-модели-2\"><span class=\"toc-item-num\">2&nbsp;&nbsp;</span>Обучение и проверка модели</a></span></li><li><span><a href=\"#Подготовка-к-расчёту-прибыли\" data-toc-modified-id=\"Подготовка-к-расчёту-прибыли-3\"><span class=\"toc-item-num\">3&nbsp;&nbsp;</span>Подготовка к расчёту прибыли</a></span><ul class=\"toc-item\"><li><span><a href=\"#Рассчитаем-достаточный-объем-сырья-для-безубыточной-разработки-новой-скважины.\" data-toc-modified-id=\"Рассчитаем-достаточный-объем-сырья-для-безубыточной-разработки-новой-скважины.-3.1\"><span class=\"toc-item-num\">3.1&nbsp;&nbsp;</span>Рассчитаем достаточный объем сырья для безубыточной разработки новой скважины.</a></span><ul class=\"toc-item\"><li><span><a href=\"#Расчет(в-млн.-руб.):\" data-toc-modified-id=\"Расчет(в-млн.-руб.):-3.1.1\"><span class=\"toc-item-num\">3.1.1&nbsp;&nbsp;</span>Расчет(в млн. руб.):</a></span></li><li><span><a href=\"#Напишем-функцию-для-расчета-прибыли-по-выбранным-скважинам-и-предсказаниям-модели\" data-toc-modified-id=\"Напишем-функцию-для-расчета-прибыли-по-выбранным-скважинам-и-предсказаниям-модели-3.1.2\"><span class=\"toc-item-num\">3.1.2&nbsp;&nbsp;</span>Напишем функцию для расчета прибыли по выбранным скважинам и предсказаниям модели</a></span></li></ul></li></ul></li><li><span><a href=\"#Расчёт-прибыли-и-рисков\" data-toc-modified-id=\"Расчёт-прибыли-и-рисков-4\"><span class=\"toc-item-num\">4&nbsp;&nbsp;</span>Расчёт прибыли и рисков</a></span></li></ul></div>"
   ]
  },
  {
   "cell_type": "markdown",
   "metadata": {},
   "source": [
    "## Загрузка и подготовка данных"
   ]
  },
  {
   "cell_type": "markdown",
   "metadata": {},
   "source": [
    "### Оценка входных данных"
   ]
  },
  {
   "cell_type": "code",
   "execution_count": 1,
   "metadata": {},
   "outputs": [],
   "source": [
    "# импортируем необходимые библиотеки для работы\n",
    "import pandas as pd\n",
    "import numpy as np\n",
    "import warnings\n",
    "import matplotlib.pyplot as plt\n",
    "import seaborn as sns\n",
    "from sklearn.model_selection import train_test_split\n",
    "from sklearn.linear_model import LinearRegression\n",
    "from sklearn.metrics import mean_squared_error\n",
    "\n",
    "# убираем незначительные предупреждения\n",
    "warnings.filterwarnings('ignore')\n",
    "# убираем лимиты на максимальное количество отображаемых данных\n",
    "pd.set_option('display.max_rows', None)\n",
    "pd.set_option('display.max_columns', None)"
   ]
  },
  {
   "cell_type": "code",
   "execution_count": 2,
   "metadata": {},
   "outputs": [],
   "source": [
    "# откроем и сохраним файлы выборок для дальнейшей работы\n",
    "try:\n",
    "    data_0 = pd.read_csv('C:/Users/fokin/OneDrive/Рабочий стол/Дата Сайнс/Машинное обучение в бизнесе/Проект/geo_data_0.csv')\n",
    "    data_1 = pd.read_csv('C:/Users/fokin/OneDrive/Рабочий стол/Дата Сайнс/Машинное обучение в бизнесе/Проект/geo_data_1.csv')\n",
    "    data_2 = pd.read_csv('C:/Users/fokin/OneDrive/Рабочий стол/Дата Сайнс/Машинное обучение в бизнесе/Проект/geo_data_2.csv')\n",
    "except:\n",
    "    data_0 = pd.read_csv('/datasets/geo_data_0.csv')\n",
    "    data_1 = pd.read_csv('/datasets/geo_data_1.csv')\n",
    "    data_2 = pd.read_csv('/datasets/geo_data_2.csv')"
   ]
  },
  {
   "cell_type": "code",
   "execution_count": 3,
   "metadata": {
    "scrolled": true
   },
   "outputs": [
    {
     "name": "stdout",
     "output_type": "stream",
     "text": [
      "Выборка по 1 региону\n"
     ]
    },
    {
     "data": {
      "text/html": [
       "<div>\n",
       "<style scoped>\n",
       "    .dataframe tbody tr th:only-of-type {\n",
       "        vertical-align: middle;\n",
       "    }\n",
       "\n",
       "    .dataframe tbody tr th {\n",
       "        vertical-align: top;\n",
       "    }\n",
       "\n",
       "    .dataframe thead th {\n",
       "        text-align: right;\n",
       "    }\n",
       "</style>\n",
       "<table border=\"1\" class=\"dataframe\">\n",
       "  <thead>\n",
       "    <tr style=\"text-align: right;\">\n",
       "      <th></th>\n",
       "      <th>id</th>\n",
       "      <th>f0</th>\n",
       "      <th>f1</th>\n",
       "      <th>f2</th>\n",
       "      <th>product</th>\n",
       "    </tr>\n",
       "  </thead>\n",
       "  <tbody>\n",
       "    <tr>\n",
       "      <th>0</th>\n",
       "      <td>txEyH</td>\n",
       "      <td>0.705745</td>\n",
       "      <td>-0.497823</td>\n",
       "      <td>1.221170</td>\n",
       "      <td>105.280062</td>\n",
       "    </tr>\n",
       "    <tr>\n",
       "      <th>1</th>\n",
       "      <td>2acmU</td>\n",
       "      <td>1.334711</td>\n",
       "      <td>-0.340164</td>\n",
       "      <td>4.365080</td>\n",
       "      <td>73.037750</td>\n",
       "    </tr>\n",
       "    <tr>\n",
       "      <th>2</th>\n",
       "      <td>409Wp</td>\n",
       "      <td>1.022732</td>\n",
       "      <td>0.151990</td>\n",
       "      <td>1.419926</td>\n",
       "      <td>85.265647</td>\n",
       "    </tr>\n",
       "    <tr>\n",
       "      <th>3</th>\n",
       "      <td>iJLyR</td>\n",
       "      <td>-0.032172</td>\n",
       "      <td>0.139033</td>\n",
       "      <td>2.978566</td>\n",
       "      <td>168.620776</td>\n",
       "    </tr>\n",
       "    <tr>\n",
       "      <th>4</th>\n",
       "      <td>Xdl7t</td>\n",
       "      <td>1.988431</td>\n",
       "      <td>0.155413</td>\n",
       "      <td>4.751769</td>\n",
       "      <td>154.036647</td>\n",
       "    </tr>\n",
       "    <tr>\n",
       "      <th>5</th>\n",
       "      <td>wX4Hy</td>\n",
       "      <td>0.969570</td>\n",
       "      <td>0.489775</td>\n",
       "      <td>-0.735383</td>\n",
       "      <td>64.741541</td>\n",
       "    </tr>\n",
       "    <tr>\n",
       "      <th>6</th>\n",
       "      <td>tL6pL</td>\n",
       "      <td>0.645075</td>\n",
       "      <td>0.530656</td>\n",
       "      <td>1.780266</td>\n",
       "      <td>49.055285</td>\n",
       "    </tr>\n",
       "    <tr>\n",
       "      <th>7</th>\n",
       "      <td>BYPU6</td>\n",
       "      <td>-0.400648</td>\n",
       "      <td>0.808337</td>\n",
       "      <td>-5.624670</td>\n",
       "      <td>72.943292</td>\n",
       "    </tr>\n",
       "    <tr>\n",
       "      <th>8</th>\n",
       "      <td>j9Oui</td>\n",
       "      <td>0.643105</td>\n",
       "      <td>-0.551583</td>\n",
       "      <td>2.372141</td>\n",
       "      <td>113.356160</td>\n",
       "    </tr>\n",
       "    <tr>\n",
       "      <th>9</th>\n",
       "      <td>OLuZU</td>\n",
       "      <td>2.173381</td>\n",
       "      <td>0.563698</td>\n",
       "      <td>9.441852</td>\n",
       "      <td>127.910945</td>\n",
       "    </tr>\n",
       "  </tbody>\n",
       "</table>\n",
       "</div>"
      ],
      "text/plain": [
       "      id        f0        f1        f2     product\n",
       "0  txEyH  0.705745 -0.497823  1.221170  105.280062\n",
       "1  2acmU  1.334711 -0.340164  4.365080   73.037750\n",
       "2  409Wp  1.022732  0.151990  1.419926   85.265647\n",
       "3  iJLyR -0.032172  0.139033  2.978566  168.620776\n",
       "4  Xdl7t  1.988431  0.155413  4.751769  154.036647\n",
       "5  wX4Hy  0.969570  0.489775 -0.735383   64.741541\n",
       "6  tL6pL  0.645075  0.530656  1.780266   49.055285\n",
       "7  BYPU6 -0.400648  0.808337 -5.624670   72.943292\n",
       "8  j9Oui  0.643105 -0.551583  2.372141  113.356160\n",
       "9  OLuZU  2.173381  0.563698  9.441852  127.910945"
      ]
     },
     "metadata": {},
     "output_type": "display_data"
    },
    {
     "data": {
      "text/html": [
       "<div>\n",
       "<style scoped>\n",
       "    .dataframe tbody tr th:only-of-type {\n",
       "        vertical-align: middle;\n",
       "    }\n",
       "\n",
       "    .dataframe tbody tr th {\n",
       "        vertical-align: top;\n",
       "    }\n",
       "\n",
       "    .dataframe thead th {\n",
       "        text-align: right;\n",
       "    }\n",
       "</style>\n",
       "<table border=\"1\" class=\"dataframe\">\n",
       "  <thead>\n",
       "    <tr style=\"text-align: right;\">\n",
       "      <th></th>\n",
       "      <th>id</th>\n",
       "      <th>f0</th>\n",
       "      <th>f1</th>\n",
       "      <th>f2</th>\n",
       "      <th>product</th>\n",
       "    </tr>\n",
       "  </thead>\n",
       "  <tbody>\n",
       "    <tr>\n",
       "      <th>99990</th>\n",
       "      <td>uQHju</td>\n",
       "      <td>-0.169592</td>\n",
       "      <td>0.988432</td>\n",
       "      <td>5.153578</td>\n",
       "      <td>121.253686</td>\n",
       "    </tr>\n",
       "    <tr>\n",
       "      <th>99991</th>\n",
       "      <td>5aJ79</td>\n",
       "      <td>-0.880711</td>\n",
       "      <td>0.173065</td>\n",
       "      <td>6.962537</td>\n",
       "      <td>152.614843</td>\n",
       "    </tr>\n",
       "    <tr>\n",
       "      <th>99992</th>\n",
       "      <td>vgK5D</td>\n",
       "      <td>0.637601</td>\n",
       "      <td>0.751503</td>\n",
       "      <td>2.918322</td>\n",
       "      <td>95.180855</td>\n",
       "    </tr>\n",
       "    <tr>\n",
       "      <th>99993</th>\n",
       "      <td>sOhIk</td>\n",
       "      <td>-0.176367</td>\n",
       "      <td>0.912145</td>\n",
       "      <td>5.241132</td>\n",
       "      <td>89.619662</td>\n",
       "    </tr>\n",
       "    <tr>\n",
       "      <th>99994</th>\n",
       "      <td>hWIah</td>\n",
       "      <td>1.562007</td>\n",
       "      <td>-0.311641</td>\n",
       "      <td>1.315442</td>\n",
       "      <td>50.092191</td>\n",
       "    </tr>\n",
       "    <tr>\n",
       "      <th>99995</th>\n",
       "      <td>DLsed</td>\n",
       "      <td>0.971957</td>\n",
       "      <td>0.370953</td>\n",
       "      <td>6.075346</td>\n",
       "      <td>110.744026</td>\n",
       "    </tr>\n",
       "    <tr>\n",
       "      <th>99996</th>\n",
       "      <td>QKivN</td>\n",
       "      <td>1.392429</td>\n",
       "      <td>-0.382606</td>\n",
       "      <td>1.273912</td>\n",
       "      <td>122.346843</td>\n",
       "    </tr>\n",
       "    <tr>\n",
       "      <th>99997</th>\n",
       "      <td>3rnvd</td>\n",
       "      <td>1.029585</td>\n",
       "      <td>0.018787</td>\n",
       "      <td>-1.348308</td>\n",
       "      <td>64.375443</td>\n",
       "    </tr>\n",
       "    <tr>\n",
       "      <th>99998</th>\n",
       "      <td>7kl59</td>\n",
       "      <td>0.998163</td>\n",
       "      <td>-0.528582</td>\n",
       "      <td>1.583869</td>\n",
       "      <td>74.040764</td>\n",
       "    </tr>\n",
       "    <tr>\n",
       "      <th>99999</th>\n",
       "      <td>1CWhH</td>\n",
       "      <td>1.764754</td>\n",
       "      <td>-0.266417</td>\n",
       "      <td>5.722849</td>\n",
       "      <td>149.633246</td>\n",
       "    </tr>\n",
       "  </tbody>\n",
       "</table>\n",
       "</div>"
      ],
      "text/plain": [
       "          id        f0        f1        f2     product\n",
       "99990  uQHju -0.169592  0.988432  5.153578  121.253686\n",
       "99991  5aJ79 -0.880711  0.173065  6.962537  152.614843\n",
       "99992  vgK5D  0.637601  0.751503  2.918322   95.180855\n",
       "99993  sOhIk -0.176367  0.912145  5.241132   89.619662\n",
       "99994  hWIah  1.562007 -0.311641  1.315442   50.092191\n",
       "99995  DLsed  0.971957  0.370953  6.075346  110.744026\n",
       "99996  QKivN  1.392429 -0.382606  1.273912  122.346843\n",
       "99997  3rnvd  1.029585  0.018787 -1.348308   64.375443\n",
       "99998  7kl59  0.998163 -0.528582  1.583869   74.040764\n",
       "99999  1CWhH  1.764754 -0.266417  5.722849  149.633246"
      ]
     },
     "metadata": {},
     "output_type": "display_data"
    },
    {
     "name": "stdout",
     "output_type": "stream",
     "text": [
      "\n",
      "Выборка по 2 региону\n"
     ]
    },
    {
     "data": {
      "text/html": [
       "<div>\n",
       "<style scoped>\n",
       "    .dataframe tbody tr th:only-of-type {\n",
       "        vertical-align: middle;\n",
       "    }\n",
       "\n",
       "    .dataframe tbody tr th {\n",
       "        vertical-align: top;\n",
       "    }\n",
       "\n",
       "    .dataframe thead th {\n",
       "        text-align: right;\n",
       "    }\n",
       "</style>\n",
       "<table border=\"1\" class=\"dataframe\">\n",
       "  <thead>\n",
       "    <tr style=\"text-align: right;\">\n",
       "      <th></th>\n",
       "      <th>id</th>\n",
       "      <th>f0</th>\n",
       "      <th>f1</th>\n",
       "      <th>f2</th>\n",
       "      <th>product</th>\n",
       "    </tr>\n",
       "  </thead>\n",
       "  <tbody>\n",
       "    <tr>\n",
       "      <th>0</th>\n",
       "      <td>kBEdx</td>\n",
       "      <td>-15.001348</td>\n",
       "      <td>-8.276000</td>\n",
       "      <td>-0.005876</td>\n",
       "      <td>3.179103</td>\n",
       "    </tr>\n",
       "    <tr>\n",
       "      <th>1</th>\n",
       "      <td>62mP7</td>\n",
       "      <td>14.272088</td>\n",
       "      <td>-3.475083</td>\n",
       "      <td>0.999183</td>\n",
       "      <td>26.953261</td>\n",
       "    </tr>\n",
       "    <tr>\n",
       "      <th>2</th>\n",
       "      <td>vyE1P</td>\n",
       "      <td>6.263187</td>\n",
       "      <td>-5.948386</td>\n",
       "      <td>5.001160</td>\n",
       "      <td>134.766305</td>\n",
       "    </tr>\n",
       "    <tr>\n",
       "      <th>3</th>\n",
       "      <td>KcrkZ</td>\n",
       "      <td>-13.081196</td>\n",
       "      <td>-11.506057</td>\n",
       "      <td>4.999415</td>\n",
       "      <td>137.945408</td>\n",
       "    </tr>\n",
       "    <tr>\n",
       "      <th>4</th>\n",
       "      <td>AHL4O</td>\n",
       "      <td>12.702195</td>\n",
       "      <td>-8.147433</td>\n",
       "      <td>5.004363</td>\n",
       "      <td>134.766305</td>\n",
       "    </tr>\n",
       "    <tr>\n",
       "      <th>5</th>\n",
       "      <td>HHckp</td>\n",
       "      <td>-3.327590</td>\n",
       "      <td>-2.205276</td>\n",
       "      <td>3.003647</td>\n",
       "      <td>84.038886</td>\n",
       "    </tr>\n",
       "    <tr>\n",
       "      <th>6</th>\n",
       "      <td>h5Ujo</td>\n",
       "      <td>-11.142655</td>\n",
       "      <td>-10.133399</td>\n",
       "      <td>4.002382</td>\n",
       "      <td>110.992147</td>\n",
       "    </tr>\n",
       "    <tr>\n",
       "      <th>7</th>\n",
       "      <td>muH9x</td>\n",
       "      <td>4.234715</td>\n",
       "      <td>-0.001354</td>\n",
       "      <td>2.004588</td>\n",
       "      <td>53.906522</td>\n",
       "    </tr>\n",
       "    <tr>\n",
       "      <th>8</th>\n",
       "      <td>YiRkx</td>\n",
       "      <td>13.355129</td>\n",
       "      <td>-0.332068</td>\n",
       "      <td>4.998647</td>\n",
       "      <td>134.766305</td>\n",
       "    </tr>\n",
       "    <tr>\n",
       "      <th>9</th>\n",
       "      <td>jG6Gi</td>\n",
       "      <td>1.069227</td>\n",
       "      <td>-11.025667</td>\n",
       "      <td>4.997844</td>\n",
       "      <td>137.945408</td>\n",
       "    </tr>\n",
       "  </tbody>\n",
       "</table>\n",
       "</div>"
      ],
      "text/plain": [
       "      id         f0         f1        f2     product\n",
       "0  kBEdx -15.001348  -8.276000 -0.005876    3.179103\n",
       "1  62mP7  14.272088  -3.475083  0.999183   26.953261\n",
       "2  vyE1P   6.263187  -5.948386  5.001160  134.766305\n",
       "3  KcrkZ -13.081196 -11.506057  4.999415  137.945408\n",
       "4  AHL4O  12.702195  -8.147433  5.004363  134.766305\n",
       "5  HHckp  -3.327590  -2.205276  3.003647   84.038886\n",
       "6  h5Ujo -11.142655 -10.133399  4.002382  110.992147\n",
       "7  muH9x   4.234715  -0.001354  2.004588   53.906522\n",
       "8  YiRkx  13.355129  -0.332068  4.998647  134.766305\n",
       "9  jG6Gi   1.069227 -11.025667  4.997844  137.945408"
      ]
     },
     "metadata": {},
     "output_type": "display_data"
    },
    {
     "data": {
      "text/html": [
       "<div>\n",
       "<style scoped>\n",
       "    .dataframe tbody tr th:only-of-type {\n",
       "        vertical-align: middle;\n",
       "    }\n",
       "\n",
       "    .dataframe tbody tr th {\n",
       "        vertical-align: top;\n",
       "    }\n",
       "\n",
       "    .dataframe thead th {\n",
       "        text-align: right;\n",
       "    }\n",
       "</style>\n",
       "<table border=\"1\" class=\"dataframe\">\n",
       "  <thead>\n",
       "    <tr style=\"text-align: right;\">\n",
       "      <th></th>\n",
       "      <th>id</th>\n",
       "      <th>f0</th>\n",
       "      <th>f1</th>\n",
       "      <th>f2</th>\n",
       "      <th>product</th>\n",
       "    </tr>\n",
       "  </thead>\n",
       "  <tbody>\n",
       "    <tr>\n",
       "      <th>99990</th>\n",
       "      <td>6HSBo</td>\n",
       "      <td>4.280434</td>\n",
       "      <td>-1.692187</td>\n",
       "      <td>1.011469</td>\n",
       "      <td>26.953261</td>\n",
       "    </tr>\n",
       "    <tr>\n",
       "      <th>99991</th>\n",
       "      <td>obwpN</td>\n",
       "      <td>2.233158</td>\n",
       "      <td>-1.970310</td>\n",
       "      <td>1.004117</td>\n",
       "      <td>26.953261</td>\n",
       "    </tr>\n",
       "    <tr>\n",
       "      <th>99992</th>\n",
       "      <td>BYhdw</td>\n",
       "      <td>-2.150114</td>\n",
       "      <td>-13.278717</td>\n",
       "      <td>3.002298</td>\n",
       "      <td>84.038886</td>\n",
       "    </tr>\n",
       "    <tr>\n",
       "      <th>99993</th>\n",
       "      <td>FOKH6</td>\n",
       "      <td>-8.421251</td>\n",
       "      <td>-2.813906</td>\n",
       "      <td>4.997337</td>\n",
       "      <td>137.945408</td>\n",
       "    </tr>\n",
       "    <tr>\n",
       "      <th>99994</th>\n",
       "      <td>VfVub</td>\n",
       "      <td>-8.646179</td>\n",
       "      <td>-3.661656</td>\n",
       "      <td>-0.003027</td>\n",
       "      <td>3.179103</td>\n",
       "    </tr>\n",
       "    <tr>\n",
       "      <th>99995</th>\n",
       "      <td>QywKC</td>\n",
       "      <td>9.535637</td>\n",
       "      <td>-6.878139</td>\n",
       "      <td>1.998296</td>\n",
       "      <td>53.906522</td>\n",
       "    </tr>\n",
       "    <tr>\n",
       "      <th>99996</th>\n",
       "      <td>ptvty</td>\n",
       "      <td>-10.160631</td>\n",
       "      <td>-12.558096</td>\n",
       "      <td>5.005581</td>\n",
       "      <td>137.945408</td>\n",
       "    </tr>\n",
       "    <tr>\n",
       "      <th>99997</th>\n",
       "      <td>09gWa</td>\n",
       "      <td>-7.378891</td>\n",
       "      <td>-3.084104</td>\n",
       "      <td>4.998651</td>\n",
       "      <td>137.945408</td>\n",
       "    </tr>\n",
       "    <tr>\n",
       "      <th>99998</th>\n",
       "      <td>rqwUm</td>\n",
       "      <td>0.665714</td>\n",
       "      <td>-6.152593</td>\n",
       "      <td>1.000146</td>\n",
       "      <td>30.132364</td>\n",
       "    </tr>\n",
       "    <tr>\n",
       "      <th>99999</th>\n",
       "      <td>relB0</td>\n",
       "      <td>-3.426139</td>\n",
       "      <td>-7.794274</td>\n",
       "      <td>-0.003299</td>\n",
       "      <td>3.179103</td>\n",
       "    </tr>\n",
       "  </tbody>\n",
       "</table>\n",
       "</div>"
      ],
      "text/plain": [
       "          id         f0         f1        f2     product\n",
       "99990  6HSBo   4.280434  -1.692187  1.011469   26.953261\n",
       "99991  obwpN   2.233158  -1.970310  1.004117   26.953261\n",
       "99992  BYhdw  -2.150114 -13.278717  3.002298   84.038886\n",
       "99993  FOKH6  -8.421251  -2.813906  4.997337  137.945408\n",
       "99994  VfVub  -8.646179  -3.661656 -0.003027    3.179103\n",
       "99995  QywKC   9.535637  -6.878139  1.998296   53.906522\n",
       "99996  ptvty -10.160631 -12.558096  5.005581  137.945408\n",
       "99997  09gWa  -7.378891  -3.084104  4.998651  137.945408\n",
       "99998  rqwUm   0.665714  -6.152593  1.000146   30.132364\n",
       "99999  relB0  -3.426139  -7.794274 -0.003299    3.179103"
      ]
     },
     "metadata": {},
     "output_type": "display_data"
    },
    {
     "name": "stdout",
     "output_type": "stream",
     "text": [
      "\n",
      "Выборка по 3 региону\n"
     ]
    },
    {
     "data": {
      "text/html": [
       "<div>\n",
       "<style scoped>\n",
       "    .dataframe tbody tr th:only-of-type {\n",
       "        vertical-align: middle;\n",
       "    }\n",
       "\n",
       "    .dataframe tbody tr th {\n",
       "        vertical-align: top;\n",
       "    }\n",
       "\n",
       "    .dataframe thead th {\n",
       "        text-align: right;\n",
       "    }\n",
       "</style>\n",
       "<table border=\"1\" class=\"dataframe\">\n",
       "  <thead>\n",
       "    <tr style=\"text-align: right;\">\n",
       "      <th></th>\n",
       "      <th>id</th>\n",
       "      <th>f0</th>\n",
       "      <th>f1</th>\n",
       "      <th>f2</th>\n",
       "      <th>product</th>\n",
       "    </tr>\n",
       "  </thead>\n",
       "  <tbody>\n",
       "    <tr>\n",
       "      <th>0</th>\n",
       "      <td>fwXo0</td>\n",
       "      <td>-1.146987</td>\n",
       "      <td>0.963328</td>\n",
       "      <td>-0.828965</td>\n",
       "      <td>27.758673</td>\n",
       "    </tr>\n",
       "    <tr>\n",
       "      <th>1</th>\n",
       "      <td>WJtFt</td>\n",
       "      <td>0.262778</td>\n",
       "      <td>0.269839</td>\n",
       "      <td>-2.530187</td>\n",
       "      <td>56.069697</td>\n",
       "    </tr>\n",
       "    <tr>\n",
       "      <th>2</th>\n",
       "      <td>ovLUW</td>\n",
       "      <td>0.194587</td>\n",
       "      <td>0.289035</td>\n",
       "      <td>-5.586433</td>\n",
       "      <td>62.871910</td>\n",
       "    </tr>\n",
       "    <tr>\n",
       "      <th>3</th>\n",
       "      <td>q6cA6</td>\n",
       "      <td>2.236060</td>\n",
       "      <td>-0.553760</td>\n",
       "      <td>0.930038</td>\n",
       "      <td>114.572842</td>\n",
       "    </tr>\n",
       "    <tr>\n",
       "      <th>4</th>\n",
       "      <td>WPMUX</td>\n",
       "      <td>-0.515993</td>\n",
       "      <td>1.716266</td>\n",
       "      <td>5.899011</td>\n",
       "      <td>149.600746</td>\n",
       "    </tr>\n",
       "    <tr>\n",
       "      <th>5</th>\n",
       "      <td>LzZXx</td>\n",
       "      <td>-0.758092</td>\n",
       "      <td>0.710691</td>\n",
       "      <td>2.585887</td>\n",
       "      <td>90.222465</td>\n",
       "    </tr>\n",
       "    <tr>\n",
       "      <th>6</th>\n",
       "      <td>WBHRv</td>\n",
       "      <td>-0.574891</td>\n",
       "      <td>0.317727</td>\n",
       "      <td>1.773745</td>\n",
       "      <td>45.641478</td>\n",
       "    </tr>\n",
       "    <tr>\n",
       "      <th>7</th>\n",
       "      <td>XO8fn</td>\n",
       "      <td>-1.906649</td>\n",
       "      <td>-2.458350</td>\n",
       "      <td>-0.177097</td>\n",
       "      <td>72.480640</td>\n",
       "    </tr>\n",
       "    <tr>\n",
       "      <th>8</th>\n",
       "      <td>ybmQ5</td>\n",
       "      <td>1.776292</td>\n",
       "      <td>-0.279356</td>\n",
       "      <td>3.004156</td>\n",
       "      <td>106.616832</td>\n",
       "    </tr>\n",
       "    <tr>\n",
       "      <th>9</th>\n",
       "      <td>OilcN</td>\n",
       "      <td>-1.214452</td>\n",
       "      <td>-0.439314</td>\n",
       "      <td>5.922514</td>\n",
       "      <td>52.954532</td>\n",
       "    </tr>\n",
       "  </tbody>\n",
       "</table>\n",
       "</div>"
      ],
      "text/plain": [
       "      id        f0        f1        f2     product\n",
       "0  fwXo0 -1.146987  0.963328 -0.828965   27.758673\n",
       "1  WJtFt  0.262778  0.269839 -2.530187   56.069697\n",
       "2  ovLUW  0.194587  0.289035 -5.586433   62.871910\n",
       "3  q6cA6  2.236060 -0.553760  0.930038  114.572842\n",
       "4  WPMUX -0.515993  1.716266  5.899011  149.600746\n",
       "5  LzZXx -0.758092  0.710691  2.585887   90.222465\n",
       "6  WBHRv -0.574891  0.317727  1.773745   45.641478\n",
       "7  XO8fn -1.906649 -2.458350 -0.177097   72.480640\n",
       "8  ybmQ5  1.776292 -0.279356  3.004156  106.616832\n",
       "9  OilcN -1.214452 -0.439314  5.922514   52.954532"
      ]
     },
     "metadata": {},
     "output_type": "display_data"
    },
    {
     "data": {
      "text/html": [
       "<div>\n",
       "<style scoped>\n",
       "    .dataframe tbody tr th:only-of-type {\n",
       "        vertical-align: middle;\n",
       "    }\n",
       "\n",
       "    .dataframe tbody tr th {\n",
       "        vertical-align: top;\n",
       "    }\n",
       "\n",
       "    .dataframe thead th {\n",
       "        text-align: right;\n",
       "    }\n",
       "</style>\n",
       "<table border=\"1\" class=\"dataframe\">\n",
       "  <thead>\n",
       "    <tr style=\"text-align: right;\">\n",
       "      <th></th>\n",
       "      <th>id</th>\n",
       "      <th>f0</th>\n",
       "      <th>f1</th>\n",
       "      <th>f2</th>\n",
       "      <th>product</th>\n",
       "    </tr>\n",
       "  </thead>\n",
       "  <tbody>\n",
       "    <tr>\n",
       "      <th>99990</th>\n",
       "      <td>QlYmx</td>\n",
       "      <td>-1.182179</td>\n",
       "      <td>2.127844</td>\n",
       "      <td>2.338479</td>\n",
       "      <td>78.502786</td>\n",
       "    </tr>\n",
       "    <tr>\n",
       "      <th>99991</th>\n",
       "      <td>AAcyW</td>\n",
       "      <td>1.570887</td>\n",
       "      <td>-2.430724</td>\n",
       "      <td>5.733563</td>\n",
       "      <td>83.577214</td>\n",
       "    </tr>\n",
       "    <tr>\n",
       "      <th>99992</th>\n",
       "      <td>yDrAl</td>\n",
       "      <td>-2.365583</td>\n",
       "      <td>0.148640</td>\n",
       "      <td>2.062216</td>\n",
       "      <td>151.374166</td>\n",
       "    </tr>\n",
       "    <tr>\n",
       "      <th>99993</th>\n",
       "      <td>uHI1Q</td>\n",
       "      <td>2.633658</td>\n",
       "      <td>1.873285</td>\n",
       "      <td>-0.498951</td>\n",
       "      <td>33.627420</td>\n",
       "    </tr>\n",
       "    <tr>\n",
       "      <th>99994</th>\n",
       "      <td>B2U80</td>\n",
       "      <td>-1.889398</td>\n",
       "      <td>0.851823</td>\n",
       "      <td>6.805412</td>\n",
       "      <td>96.866615</td>\n",
       "    </tr>\n",
       "    <tr>\n",
       "      <th>99995</th>\n",
       "      <td>4GxBu</td>\n",
       "      <td>-1.777037</td>\n",
       "      <td>1.125220</td>\n",
       "      <td>6.263374</td>\n",
       "      <td>172.327046</td>\n",
       "    </tr>\n",
       "    <tr>\n",
       "      <th>99996</th>\n",
       "      <td>YKFjq</td>\n",
       "      <td>-1.261523</td>\n",
       "      <td>-0.894828</td>\n",
       "      <td>2.524545</td>\n",
       "      <td>138.748846</td>\n",
       "    </tr>\n",
       "    <tr>\n",
       "      <th>99997</th>\n",
       "      <td>tKPY3</td>\n",
       "      <td>-1.199934</td>\n",
       "      <td>-2.957637</td>\n",
       "      <td>5.219411</td>\n",
       "      <td>157.080080</td>\n",
       "    </tr>\n",
       "    <tr>\n",
       "      <th>99998</th>\n",
       "      <td>nmxp2</td>\n",
       "      <td>-2.419896</td>\n",
       "      <td>2.417221</td>\n",
       "      <td>-5.548444</td>\n",
       "      <td>51.795253</td>\n",
       "    </tr>\n",
       "    <tr>\n",
       "      <th>99999</th>\n",
       "      <td>V9kWn</td>\n",
       "      <td>-2.551421</td>\n",
       "      <td>-2.025625</td>\n",
       "      <td>6.090891</td>\n",
       "      <td>102.775767</td>\n",
       "    </tr>\n",
       "  </tbody>\n",
       "</table>\n",
       "</div>"
      ],
      "text/plain": [
       "          id        f0        f1        f2     product\n",
       "99990  QlYmx -1.182179  2.127844  2.338479   78.502786\n",
       "99991  AAcyW  1.570887 -2.430724  5.733563   83.577214\n",
       "99992  yDrAl -2.365583  0.148640  2.062216  151.374166\n",
       "99993  uHI1Q  2.633658  1.873285 -0.498951   33.627420\n",
       "99994  B2U80 -1.889398  0.851823  6.805412   96.866615\n",
       "99995  4GxBu -1.777037  1.125220  6.263374  172.327046\n",
       "99996  YKFjq -1.261523 -0.894828  2.524545  138.748846\n",
       "99997  tKPY3 -1.199934 -2.957637  5.219411  157.080080\n",
       "99998  nmxp2 -2.419896  2.417221 -5.548444   51.795253\n",
       "99999  V9kWn -2.551421 -2.025625  6.090891  102.775767"
      ]
     },
     "metadata": {},
     "output_type": "display_data"
    },
    {
     "name": "stdout",
     "output_type": "stream",
     "text": [
      "\n"
     ]
    }
   ],
   "source": [
    "# отобразим данные на экране для предварительного ознакомления\n",
    "# выборка по 1 региону\n",
    "print('Выборка по 1 региону')\n",
    "display(data_0.head(10))\n",
    "display(data_0.tail(10))\n",
    "print()\n",
    "# выборка по 2 региону\n",
    "print('Выборка по 2 региону')\n",
    "display(data_1.head(10))\n",
    "display(data_1.tail(10))\n",
    "print()\n",
    "# выборка по 3 региону\n",
    "print('Выборка по 3 региону')\n",
    "display(data_2.head(10))\n",
    "display(data_2.tail(10))\n",
    "print()"
   ]
  },
  {
   "cell_type": "code",
   "execution_count": 4,
   "metadata": {
    "scrolled": true
   },
   "outputs": [
    {
     "name": "stdout",
     "output_type": "stream",
     "text": [
      "Выборка по 1 региону\n",
      "<class 'pandas.core.frame.DataFrame'>\n",
      "RangeIndex: 100000 entries, 0 to 99999\n",
      "Data columns (total 5 columns):\n",
      " #   Column   Non-Null Count   Dtype  \n",
      "---  ------   --------------   -----  \n",
      " 0   id       100000 non-null  object \n",
      " 1   f0       100000 non-null  float64\n",
      " 2   f1       100000 non-null  float64\n",
      " 3   f2       100000 non-null  float64\n",
      " 4   product  100000 non-null  float64\n",
      "dtypes: float64(4), object(1)\n",
      "memory usage: 3.8+ MB\n"
     ]
    },
    {
     "data": {
      "text/plain": [
       "None"
      ]
     },
     "metadata": {},
     "output_type": "display_data"
    },
    {
     "data": {
      "text/plain": [
       "Index(['id', 'f0', 'f1', 'f2', 'product'], dtype='object')"
      ]
     },
     "metadata": {},
     "output_type": "display_data"
    },
    {
     "data": {
      "text/html": [
       "<div>\n",
       "<style scoped>\n",
       "    .dataframe tbody tr th:only-of-type {\n",
       "        vertical-align: middle;\n",
       "    }\n",
       "\n",
       "    .dataframe tbody tr th {\n",
       "        vertical-align: top;\n",
       "    }\n",
       "\n",
       "    .dataframe thead th {\n",
       "        text-align: right;\n",
       "    }\n",
       "</style>\n",
       "<table border=\"1\" class=\"dataframe\">\n",
       "  <thead>\n",
       "    <tr style=\"text-align: right;\">\n",
       "      <th></th>\n",
       "      <th>f0</th>\n",
       "      <th>f1</th>\n",
       "      <th>f2</th>\n",
       "      <th>product</th>\n",
       "    </tr>\n",
       "  </thead>\n",
       "  <tbody>\n",
       "    <tr>\n",
       "      <th>count</th>\n",
       "      <td>100000.000000</td>\n",
       "      <td>100000.000000</td>\n",
       "      <td>100000.000000</td>\n",
       "      <td>100000.000000</td>\n",
       "    </tr>\n",
       "    <tr>\n",
       "      <th>mean</th>\n",
       "      <td>0.500419</td>\n",
       "      <td>0.250143</td>\n",
       "      <td>2.502647</td>\n",
       "      <td>92.500000</td>\n",
       "    </tr>\n",
       "    <tr>\n",
       "      <th>std</th>\n",
       "      <td>0.871832</td>\n",
       "      <td>0.504433</td>\n",
       "      <td>3.248248</td>\n",
       "      <td>44.288691</td>\n",
       "    </tr>\n",
       "    <tr>\n",
       "      <th>min</th>\n",
       "      <td>-1.408605</td>\n",
       "      <td>-0.848218</td>\n",
       "      <td>-12.088328</td>\n",
       "      <td>0.000000</td>\n",
       "    </tr>\n",
       "    <tr>\n",
       "      <th>25%</th>\n",
       "      <td>-0.072580</td>\n",
       "      <td>-0.200881</td>\n",
       "      <td>0.287748</td>\n",
       "      <td>56.497507</td>\n",
       "    </tr>\n",
       "    <tr>\n",
       "      <th>50%</th>\n",
       "      <td>0.502360</td>\n",
       "      <td>0.250252</td>\n",
       "      <td>2.515969</td>\n",
       "      <td>91.849972</td>\n",
       "    </tr>\n",
       "    <tr>\n",
       "      <th>75%</th>\n",
       "      <td>1.073581</td>\n",
       "      <td>0.700646</td>\n",
       "      <td>4.715088</td>\n",
       "      <td>128.564089</td>\n",
       "    </tr>\n",
       "    <tr>\n",
       "      <th>max</th>\n",
       "      <td>2.362331</td>\n",
       "      <td>1.343769</td>\n",
       "      <td>16.003790</td>\n",
       "      <td>185.364347</td>\n",
       "    </tr>\n",
       "  </tbody>\n",
       "</table>\n",
       "</div>"
      ],
      "text/plain": [
       "                  f0             f1             f2        product\n",
       "count  100000.000000  100000.000000  100000.000000  100000.000000\n",
       "mean        0.500419       0.250143       2.502647      92.500000\n",
       "std         0.871832       0.504433       3.248248      44.288691\n",
       "min        -1.408605      -0.848218     -12.088328       0.000000\n",
       "25%        -0.072580      -0.200881       0.287748      56.497507\n",
       "50%         0.502360       0.250252       2.515969      91.849972\n",
       "75%         1.073581       0.700646       4.715088     128.564089\n",
       "max         2.362331       1.343769      16.003790     185.364347"
      ]
     },
     "metadata": {},
     "output_type": "display_data"
    },
    {
     "name": "stdout",
     "output_type": "stream",
     "text": [
      "\n",
      "Выборка по 2 региону\n",
      "<class 'pandas.core.frame.DataFrame'>\n",
      "RangeIndex: 100000 entries, 0 to 99999\n",
      "Data columns (total 5 columns):\n",
      " #   Column   Non-Null Count   Dtype  \n",
      "---  ------   --------------   -----  \n",
      " 0   id       100000 non-null  object \n",
      " 1   f0       100000 non-null  float64\n",
      " 2   f1       100000 non-null  float64\n",
      " 3   f2       100000 non-null  float64\n",
      " 4   product  100000 non-null  float64\n",
      "dtypes: float64(4), object(1)\n",
      "memory usage: 3.8+ MB\n"
     ]
    },
    {
     "data": {
      "text/plain": [
       "None"
      ]
     },
     "metadata": {},
     "output_type": "display_data"
    },
    {
     "data": {
      "text/plain": [
       "Index(['id', 'f0', 'f1', 'f2', 'product'], dtype='object')"
      ]
     },
     "metadata": {},
     "output_type": "display_data"
    },
    {
     "data": {
      "text/html": [
       "<div>\n",
       "<style scoped>\n",
       "    .dataframe tbody tr th:only-of-type {\n",
       "        vertical-align: middle;\n",
       "    }\n",
       "\n",
       "    .dataframe tbody tr th {\n",
       "        vertical-align: top;\n",
       "    }\n",
       "\n",
       "    .dataframe thead th {\n",
       "        text-align: right;\n",
       "    }\n",
       "</style>\n",
       "<table border=\"1\" class=\"dataframe\">\n",
       "  <thead>\n",
       "    <tr style=\"text-align: right;\">\n",
       "      <th></th>\n",
       "      <th>f0</th>\n",
       "      <th>f1</th>\n",
       "      <th>f2</th>\n",
       "      <th>product</th>\n",
       "    </tr>\n",
       "  </thead>\n",
       "  <tbody>\n",
       "    <tr>\n",
       "      <th>count</th>\n",
       "      <td>100000.000000</td>\n",
       "      <td>100000.000000</td>\n",
       "      <td>100000.000000</td>\n",
       "      <td>100000.000000</td>\n",
       "    </tr>\n",
       "    <tr>\n",
       "      <th>mean</th>\n",
       "      <td>1.141296</td>\n",
       "      <td>-4.796579</td>\n",
       "      <td>2.494541</td>\n",
       "      <td>68.825000</td>\n",
       "    </tr>\n",
       "    <tr>\n",
       "      <th>std</th>\n",
       "      <td>8.965932</td>\n",
       "      <td>5.119872</td>\n",
       "      <td>1.703572</td>\n",
       "      <td>45.944423</td>\n",
       "    </tr>\n",
       "    <tr>\n",
       "      <th>min</th>\n",
       "      <td>-31.609576</td>\n",
       "      <td>-26.358598</td>\n",
       "      <td>-0.018144</td>\n",
       "      <td>0.000000</td>\n",
       "    </tr>\n",
       "    <tr>\n",
       "      <th>25%</th>\n",
       "      <td>-6.298551</td>\n",
       "      <td>-8.267985</td>\n",
       "      <td>1.000021</td>\n",
       "      <td>26.953261</td>\n",
       "    </tr>\n",
       "    <tr>\n",
       "      <th>50%</th>\n",
       "      <td>1.153055</td>\n",
       "      <td>-4.813172</td>\n",
       "      <td>2.011479</td>\n",
       "      <td>57.085625</td>\n",
       "    </tr>\n",
       "    <tr>\n",
       "      <th>75%</th>\n",
       "      <td>8.621015</td>\n",
       "      <td>-1.332816</td>\n",
       "      <td>3.999904</td>\n",
       "      <td>107.813044</td>\n",
       "    </tr>\n",
       "    <tr>\n",
       "      <th>max</th>\n",
       "      <td>29.421755</td>\n",
       "      <td>18.734063</td>\n",
       "      <td>5.019721</td>\n",
       "      <td>137.945408</td>\n",
       "    </tr>\n",
       "  </tbody>\n",
       "</table>\n",
       "</div>"
      ],
      "text/plain": [
       "                  f0             f1             f2        product\n",
       "count  100000.000000  100000.000000  100000.000000  100000.000000\n",
       "mean        1.141296      -4.796579       2.494541      68.825000\n",
       "std         8.965932       5.119872       1.703572      45.944423\n",
       "min       -31.609576     -26.358598      -0.018144       0.000000\n",
       "25%        -6.298551      -8.267985       1.000021      26.953261\n",
       "50%         1.153055      -4.813172       2.011479      57.085625\n",
       "75%         8.621015      -1.332816       3.999904     107.813044\n",
       "max        29.421755      18.734063       5.019721     137.945408"
      ]
     },
     "metadata": {},
     "output_type": "display_data"
    },
    {
     "name": "stdout",
     "output_type": "stream",
     "text": [
      "\n",
      "Выборка по 3 региону\n",
      "<class 'pandas.core.frame.DataFrame'>\n",
      "RangeIndex: 100000 entries, 0 to 99999\n",
      "Data columns (total 5 columns):\n",
      " #   Column   Non-Null Count   Dtype  \n",
      "---  ------   --------------   -----  \n",
      " 0   id       100000 non-null  object \n",
      " 1   f0       100000 non-null  float64\n",
      " 2   f1       100000 non-null  float64\n",
      " 3   f2       100000 non-null  float64\n",
      " 4   product  100000 non-null  float64\n",
      "dtypes: float64(4), object(1)\n",
      "memory usage: 3.8+ MB\n"
     ]
    },
    {
     "data": {
      "text/plain": [
       "None"
      ]
     },
     "metadata": {},
     "output_type": "display_data"
    },
    {
     "data": {
      "text/plain": [
       "Index(['id', 'f0', 'f1', 'f2', 'product'], dtype='object')"
      ]
     },
     "metadata": {},
     "output_type": "display_data"
    },
    {
     "data": {
      "text/html": [
       "<div>\n",
       "<style scoped>\n",
       "    .dataframe tbody tr th:only-of-type {\n",
       "        vertical-align: middle;\n",
       "    }\n",
       "\n",
       "    .dataframe tbody tr th {\n",
       "        vertical-align: top;\n",
       "    }\n",
       "\n",
       "    .dataframe thead th {\n",
       "        text-align: right;\n",
       "    }\n",
       "</style>\n",
       "<table border=\"1\" class=\"dataframe\">\n",
       "  <thead>\n",
       "    <tr style=\"text-align: right;\">\n",
       "      <th></th>\n",
       "      <th>f0</th>\n",
       "      <th>f1</th>\n",
       "      <th>f2</th>\n",
       "      <th>product</th>\n",
       "    </tr>\n",
       "  </thead>\n",
       "  <tbody>\n",
       "    <tr>\n",
       "      <th>count</th>\n",
       "      <td>100000.000000</td>\n",
       "      <td>100000.000000</td>\n",
       "      <td>100000.000000</td>\n",
       "      <td>100000.000000</td>\n",
       "    </tr>\n",
       "    <tr>\n",
       "      <th>mean</th>\n",
       "      <td>0.002023</td>\n",
       "      <td>-0.002081</td>\n",
       "      <td>2.495128</td>\n",
       "      <td>95.000000</td>\n",
       "    </tr>\n",
       "    <tr>\n",
       "      <th>std</th>\n",
       "      <td>1.732045</td>\n",
       "      <td>1.730417</td>\n",
       "      <td>3.473445</td>\n",
       "      <td>44.749921</td>\n",
       "    </tr>\n",
       "    <tr>\n",
       "      <th>min</th>\n",
       "      <td>-8.760004</td>\n",
       "      <td>-7.084020</td>\n",
       "      <td>-11.970335</td>\n",
       "      <td>0.000000</td>\n",
       "    </tr>\n",
       "    <tr>\n",
       "      <th>25%</th>\n",
       "      <td>-1.162288</td>\n",
       "      <td>-1.174820</td>\n",
       "      <td>0.130359</td>\n",
       "      <td>59.450441</td>\n",
       "    </tr>\n",
       "    <tr>\n",
       "      <th>50%</th>\n",
       "      <td>0.009424</td>\n",
       "      <td>-0.009482</td>\n",
       "      <td>2.484236</td>\n",
       "      <td>94.925613</td>\n",
       "    </tr>\n",
       "    <tr>\n",
       "      <th>75%</th>\n",
       "      <td>1.158535</td>\n",
       "      <td>1.163678</td>\n",
       "      <td>4.858794</td>\n",
       "      <td>130.595027</td>\n",
       "    </tr>\n",
       "    <tr>\n",
       "      <th>max</th>\n",
       "      <td>7.238262</td>\n",
       "      <td>7.844801</td>\n",
       "      <td>16.739402</td>\n",
       "      <td>190.029838</td>\n",
       "    </tr>\n",
       "  </tbody>\n",
       "</table>\n",
       "</div>"
      ],
      "text/plain": [
       "                  f0             f1             f2        product\n",
       "count  100000.000000  100000.000000  100000.000000  100000.000000\n",
       "mean        0.002023      -0.002081       2.495128      95.000000\n",
       "std         1.732045       1.730417       3.473445      44.749921\n",
       "min        -8.760004      -7.084020     -11.970335       0.000000\n",
       "25%        -1.162288      -1.174820       0.130359      59.450441\n",
       "50%         0.009424      -0.009482       2.484236      94.925613\n",
       "75%         1.158535       1.163678       4.858794     130.595027\n",
       "max         7.238262       7.844801      16.739402     190.029838"
      ]
     },
     "metadata": {},
     "output_type": "display_data"
    },
    {
     "name": "stdout",
     "output_type": "stream",
     "text": [
      "\n"
     ]
    }
   ],
   "source": [
    "# отобразим сводную информацию о данных по регионам\n",
    "# выборка по 1 региону\n",
    "print('Выборка по 1 региону')\n",
    "display(data_0.info())\n",
    "display(data_0.columns)\n",
    "display(data_0.describe())\n",
    "print()\n",
    "# выборка по 2 региону\n",
    "print('Выборка по 2 региону')\n",
    "display(data_1.info())\n",
    "display(data_1.columns)\n",
    "display(data_1.describe())\n",
    "print()\n",
    "# выборка по 3 региону\n",
    "print('Выборка по 3 региону')\n",
    "display(data_2.info())\n",
    "display(data_2.columns)\n",
    "display(data_2.describe())\n",
    "print()"
   ]
  },
  {
   "cell_type": "markdown",
   "metadata": {},
   "source": [
    "### Описание данных"
   ]
  },
  {
   "cell_type": "markdown",
   "metadata": {},
   "source": [
    "Данные геологоразведки трёх регионов были получены из файлов:\n",
    "- /datasets/geo_data_0.csv\n",
    "- /datasets/geo_data_1.csv\n",
    "- /datasets/geo_data_2.csv\n",
    "\n",
    "В датасетах присутствовали следующие признаки:\n",
    "- id — уникальный идентификатор скважины;\n",
    "- f0, f1, f2 — три признака точек (нет информации, что они означают, но сами признаки значимы);\n",
    "- product — объём запасов в скважине (тыс. баррелей).\n",
    "\n",
    "Исходя из входных данных будем эти данные нет необходимости масштабировать, т.к. объемы запасов - это целевой признак, а признаки точек все значимы. Вносить каких-либо явных корректировок нет необходимости."
   ]
  },
  {
   "cell_type": "markdown",
   "metadata": {},
   "source": [
    "### Проверка признаков на мультиколлинеарность"
   ]
  },
  {
   "cell_type": "markdown",
   "metadata": {},
   "source": [
    "#### Проверка мультиколлинеарности по 1 региону"
   ]
  },
  {
   "cell_type": "code",
   "execution_count": 5,
   "metadata": {
    "scrolled": true
   },
   "outputs": [
    {
     "data": {
      "image/png": "[encoded data removed]",
      "text/plain": [
       "<Figure size 1080x720 with 2 Axes>"
      ]
     },
     "metadata": {
      "needs_background": "light"
     },
     "output_type": "display_data"
    }
   ],
   "source": [
    "# построим хитмэп для наглядного отображения корреляций\n",
    "plt.figure(figsize=(15,10))\n",
    "sns.heatmap(data_0.corr(), vmin=-1, vmax=1, annot=True, cmap='coolwarm')\n",
    "plt.show()"
   ]
  },
  {
   "cell_type": "code",
   "execution_count": 6,
   "metadata": {
    "scrolled": false
   },
   "outputs": [
    {
     "data": {
      "image/png": "[encoded data removed]",
      "text/plain": [
       "<Figure size 720x360 with 2 Axes>"
      ]
     },
     "metadata": {
      "needs_background": "light"
     },
     "output_type": "display_data"
    }
   ],
   "source": [
    "# построим хитмэп по целевому признаку и выявим корреляции\n",
    "plt.figure(figsize=(10,5))\n",
    "sns.heatmap(data_0.corr()[['product']], vmin=-1, vmax=1, annot=True, cmap='coolwarm')\n",
    "plt.show()"
   ]
  },
  {
   "cell_type": "markdown",
   "metadata": {},
   "source": [
    "#### Проверка мультиколлинераности по 2 региону"
   ]
  },
  {
   "cell_type": "code",
   "execution_count": 7,
   "metadata": {
    "scrolled": true
   },
   "outputs": [
    {
     "data": {
      "image/png": "[encoded data removed]",
      "text/plain": [
       "<Figure size 1080x720 with 2 Axes>"
      ]
     },
     "metadata": {
      "needs_background": "light"
     },
     "output_type": "display_data"
    }
   ],
   "source": [
    "# построим хитмэп для наглядного отображения корреляций\n",
    "plt.figure(figsize=(15,10))\n",
    "sns.heatmap(data_1.corr(), vmin=-1, vmax=1, annot=True, cmap='coolwarm')\n",
    "plt.show()"
   ]
  },
  {
   "cell_type": "code",
   "execution_count": 8,
   "metadata": {
    "scrolled": true
   },
   "outputs": [
    {
     "data": {
      "image/png": "[encoded data removed]",
      "text/plain": [
       "<Figure size 720x360 with 2 Axes>"
      ]
     },
     "metadata": {
      "needs_background": "light"
     },
     "output_type": "display_data"
    }
   ],
   "source": [
    "# построим хитмэп по целевому признаку и выявим корреляции\n",
    "plt.figure(figsize=(10,5))\n",
    "sns.heatmap(data_1.corr()[['product']], vmin=-1, vmax=1, annot=True, cmap='coolwarm')\n",
    "plt.show()"
   ]
  },
  {
   "cell_type": "markdown",
   "metadata": {},
   "source": [
    "#### Проверка мультиколлинеарности по 3 региону"
   ]
  },
  {
   "cell_type": "code",
   "execution_count": 9,
   "metadata": {
    "scrolled": true
   },
   "outputs": [
    {
     "data": {
      "image/png": "[encoded data removed]",
      "text/plain": [
       "<Figure size 1080x720 with 2 Axes>"
      ]
     },
     "metadata": {
      "needs_background": "light"
     },
     "output_type": "display_data"
    }
   ],
   "source": [
    "# построим хитмэп для наглядного отображения корреляций\n",
    "plt.figure(figsize=(15,10))\n",
    "sns.heatmap(data_2.corr(), vmin=-1, vmax=1, annot=True, cmap='coolwarm')\n",
    "plt.show()"
   ]
  },
  {
   "cell_type": "code",
   "execution_count": 10,
   "metadata": {
    "scrolled": true
   },
   "outputs": [
    {
     "data": {
      "image/png": "[encoded data removed]",
      "text/plain": [
       "<Figure size 720x360 with 2 Axes>"
      ]
     },
     "metadata": {
      "needs_background": "light"
     },
     "output_type": "display_data"
    }
   ],
   "source": [
    "# построим хитмэп по целевому признаку и выявим корреляции\n",
    "plt.figure(figsize=(10,5))\n",
    "sns.heatmap(data_2.corr()[['product']], vmin=-1, vmax=1, annot=True, cmap='coolwarm')\n",
    "plt.show()"
   ]
  },
  {
   "cell_type": "markdown",
   "metadata": {},
   "source": [
    "#### Описание этапа проверки данных"
   ]
  },
  {
   "cell_type": "markdown",
   "metadata": {},
   "source": [
    "Максимальные обнаруженные корреляции:\n",
    "- выборка 1 региона: признак f2 и product - 0.48, корреляция не значимая; наибольшая незначимая обратная корреляция между признаком f0 и f1 - 0.44, \n",
    "- выборка 2 региона: признак f2 и product - 1, корреляция значимая,\n",
    "- выборка 3 региона: признак f2 и product - 0.45, корреляция не значимая.\n",
    "\n",
    "Исходя из того, что во 2 регионе корреляция значимая - рекомендуется обсудить связанный признак с заказчиком и, возможно, уточнить входящие признаки таким образом."
   ]
  },
  {
   "cell_type": "markdown",
   "metadata": {},
   "source": [
    "### Проверка дубликатов"
   ]
  },
  {
   "cell_type": "code",
   "execution_count": 11,
   "metadata": {
    "scrolled": false
   },
   "outputs": [
    {
     "name": "stdout",
     "output_type": "stream",
     "text": [
      "Количество дубликатов в выборке 1 региона\n"
     ]
    },
    {
     "data": {
      "text/plain": [
       "0"
      ]
     },
     "metadata": {},
     "output_type": "display_data"
    },
    {
     "name": "stdout",
     "output_type": "stream",
     "text": [
      "Количество дубликатов в выборке 2 региона\n"
     ]
    },
    {
     "data": {
      "text/plain": [
       "0"
      ]
     },
     "metadata": {},
     "output_type": "display_data"
    },
    {
     "name": "stdout",
     "output_type": "stream",
     "text": [
      "Количество дубликатов в выборке 3 региона\n"
     ]
    },
    {
     "data": {
      "text/plain": [
       "0"
      ]
     },
     "metadata": {},
     "output_type": "display_data"
    }
   ],
   "source": [
    "print('Количество дубликатов в выборке 1 региона')\n",
    "display(data_0.duplicated().sum())\n",
    "print('Количество дубликатов в выборке 2 региона')\n",
    "display(data_1.duplicated().sum())\n",
    "print('Количество дубликатов в выборке 3 региона')\n",
    "display(data_2.duplicated().sum())"
   ]
  },
  {
   "cell_type": "markdown",
   "metadata": {},
   "source": [
    "#### Описание этапа проверки дубликатов"
   ]
  },
  {
   "cell_type": "markdown",
   "metadata": {},
   "source": [
    "Проверка на предмет наличия дубликатов, результат проверки - отсутствие дубликатов в выборках подтверждено."
   ]
  },
  {
   "cell_type": "markdown",
   "metadata": {},
   "source": [
    "## Обучение и проверка модели"
   ]
  },
  {
   "cell_type": "code",
   "execution_count": 12,
   "metadata": {},
   "outputs": [],
   "source": [
    "# удалим id из наборов данных\n",
    "data_0 = data_0.drop('id', axis=1)\n",
    "data_1 = data_1.drop('id', axis=1)\n",
    "data_2 = data_2.drop('id', axis=1)"
   ]
  },
  {
   "cell_type": "code",
   "execution_count": 13,
   "metadata": {},
   "outputs": [],
   "source": [
    "# напишем функцию по моделированию по алгоритму линейной регрессии\n",
    "def teach_model_linear_regression(region_data, region_number):\n",
    "    target_region = region_data['product']\n",
    "    features_region = region_data.drop('product', axis=1)\n",
    "    features_region_train, features_region_valid, target_region_train, target_region_valid = train_test_split(features_region,  target_region, train_size=0.75, random_state=654321)\n",
    "    model_region = LinearRegression()\n",
    "    model_region.fit(features_region, target_region)\n",
    "    predicted_valid_region = model_region.predict(features_region_valid)\n",
    "    mean = predicted_valid_region.mean()\n",
    "    rmse = mean_squared_error(target_region_valid, predicted_valid_region)**0.5\n",
    "    print('Данные по региону №', region_number)\n",
    "    print('Средний запас предсказанного сырья:', mean)\n",
    "    print('RMSE модели:', rmse)\n",
    "    print()\n",
    "    return features_region_train, features_region_valid, target_region_train, target_region_valid, mean, rmse, target_region, features_region, predicted_valid_region"
   ]
  },
  {
   "cell_type": "code",
   "execution_count": 14,
   "metadata": {
    "scrolled": true
   },
   "outputs": [
    {
     "name": "stdout",
     "output_type": "stream",
     "text": [
      "Данные по региону № 1\n",
      "Средний запас предсказанного сырья: 92.73982518380957\n",
      "RMSE модели: 37.62457066954666\n",
      "\n",
      "Данные по региону № 2\n",
      "Средний запас предсказанного сырья: 68.86338170838809\n",
      "RMSE модели: 0.8919342277999035\n",
      "\n",
      "Данные по региону № 3\n",
      "Средний запас предсказанного сырья: 95.09453903333966\n",
      "RMSE модели: 40.28076872409114\n",
      "\n"
     ]
    }
   ],
   "source": [
    "# получим данные по 3-м регионам\n",
    "features_region_0_train, features_region_0_valid, target_region_0_train, target_region_0_valid, mean_region_0, rmse_region_0, target_region_0, features_region_0, predicted_valid_region_0 = teach_model_linear_regression(data_0, 1)\n",
    "features_region_1_train, features_region_1_valid, target_region_1_train, target_region_1_valid, mean_region_1, rmse_region_1, target_region_1, features_region_1, predicted_valid_region_1 = teach_model_linear_regression(data_1, 2)\n",
    "features_region_2_train, features_region_2_valid, target_region_2_train, target_region_2_valid, mean_region_2, rmse_region_2, target_region_2, features_region_2, predicted_valid_region_2 = teach_model_linear_regression(data_2, 3)"
   ]
  },
  {
   "cell_type": "markdown",
   "metadata": {},
   "source": [
    "По итогам предварительного анализа смоделированных показателей при помощи модели линейной регрессии по регионам были получены следующие показатели:\n",
    "1. Регион №1: \n",
    "    - средний запас предсказанного сырья - 92.73982518380957;\n",
    "    - средний запас сырья во входных данных - 92.500000, медиана - 91.849972;\n",
    "    - RMSE модели - 37.62457066954666.\n",
    "2. Регион №2: \n",
    "    - средний запас предсказанного сырья - 68.86338170838809;\n",
    "    - средний запас сырья во входных данных - 68.825000, медиана - 57.085625;\n",
    "    - RMSE модели - 0.8919342277999035.    \n",
    "3. Регион №3: \n",
    "    - средний запас предсказанного сырья - 95.09453903333966;\n",
    "    - средний запас сырья во входных данных - 95.000000, медиана - 94.925613;\n",
    "    - RMSE модели - 40.28076872409114.  \n",
    "    \n",
    "Максимальная величина среднеквадратической ошибки в 3 регионе, минимальная во 2 регионе."
   ]
  },
  {
   "cell_type": "markdown",
   "metadata": {},
   "source": [
    "## Подготовка к расчёту прибыли"
   ]
  },
  {
   "cell_type": "markdown",
   "metadata": {},
   "source": [
    "Ключевыми значениями для расчета прибыли будут значения объемов потенциальной добычи, а это сохраненные на предыдущем этапе переменные: для 1 региона - target_region_0, для 2 региона - target_region_1, для 3 региона - target_region_2."
   ]
  },
  {
   "cell_type": "markdown",
   "metadata": {},
   "source": [
    "### Рассчитаем достаточный объем сырья для безубыточной разработки новой скважины.\n",
    "\n",
    "Вводные для расчета:\n",
    "1. Бюджет на разработку скважин в регионе - 10 млрд. руб.,\n",
    "2. Для разработки выбирают 200 лучших точек из общего количества разведанных в регионе,\n",
    "3. Выручка на 1 тыс. баррелей сырья - 450 тыс. руб."
   ]
  },
  {
   "cell_type": "markdown",
   "metadata": {},
   "source": [
    "#### Расчет(в млн. руб.):"
   ]
  },
  {
   "cell_type": "markdown",
   "metadata": {},
   "source": [
    "1) Величина выручки на 1 точку:"
   ]
  },
  {
   "cell_type": "code",
   "execution_count": 15,
   "metadata": {},
   "outputs": [],
   "source": [
    "POINT_INCOME = 0.450"
   ]
  },
  {
   "cell_type": "markdown",
   "metadata": {},
   "source": [
    "2) Себестоимость 1  точки:"
   ]
  },
  {
   "cell_type": "code",
   "execution_count": 16,
   "metadata": {},
   "outputs": [
    {
     "name": "stdout",
     "output_type": "stream",
     "text": [
      "50.0\n"
     ]
    }
   ],
   "source": [
    "BEST_POINT_NUM = 200\n",
    "WIDE_POINT_NUM = 500\n",
    "REGION_BUDGET = 10000\n",
    "POINT_COST = REGION_BUDGET / BEST_POINT_NUM\n",
    "print(POINT_COST)"
   ]
  },
  {
   "cell_type": "markdown",
   "metadata": {},
   "source": [
    "3) Точка безубыточности для 1 точки в тыс. баррелей:"
   ]
  },
  {
   "cell_type": "code",
   "execution_count": 17,
   "metadata": {},
   "outputs": [
    {
     "name": "stdout",
     "output_type": "stream",
     "text": [
      "111.11111111111111\n"
     ]
    }
   ],
   "source": [
    "BREAK_EVEN_POINT = POINT_COST / POINT_INCOME\n",
    "print(BREAK_EVEN_POINT)"
   ]
  },
  {
   "cell_type": "markdown",
   "metadata": {},
   "source": [
    "По итогам расчета точки безубыточности выяснили, что при объемах добычи для 1 точки ниже 111 тыс. баррелей процесс будет убыточен. Соотношение среднего запаса сырья и величины точки безубыточности приведем в таблице ниже. Отклонения средних объемов отрицательные, т.е. по всем регионам средний объем сырья значительно ниже объема в точке безубыточности."
   ]
  },
  {
   "cell_type": "code",
   "execution_count": 18,
   "metadata": {},
   "outputs": [
    {
     "data": {
      "text/html": [
       "<div>\n",
       "<style scoped>\n",
       "    .dataframe tbody tr th:only-of-type {\n",
       "        vertical-align: middle;\n",
       "    }\n",
       "\n",
       "    .dataframe tbody tr th {\n",
       "        vertical-align: top;\n",
       "    }\n",
       "\n",
       "    .dataframe thead th {\n",
       "        text-align: right;\n",
       "    }\n",
       "</style>\n",
       "<table border=\"1\" class=\"dataframe\">\n",
       "  <thead>\n",
       "    <tr style=\"text-align: right;\">\n",
       "      <th></th>\n",
       "      <th>Регионы</th>\n",
       "      <th>Средний объем сырья</th>\n",
       "      <th>Точка безубыточности</th>\n",
       "      <th>Отклонение</th>\n",
       "      <th>%</th>\n",
       "    </tr>\n",
       "  </thead>\n",
       "  <tbody>\n",
       "    <tr>\n",
       "      <th>0</th>\n",
       "      <td>Регион 1</td>\n",
       "      <td>92.500</td>\n",
       "      <td>111.111111</td>\n",
       "      <td>-18.611111</td>\n",
       "      <td>-16.7500</td>\n",
       "    </tr>\n",
       "    <tr>\n",
       "      <th>1</th>\n",
       "      <td>Регион 2</td>\n",
       "      <td>68.825</td>\n",
       "      <td>111.111111</td>\n",
       "      <td>-42.286111</td>\n",
       "      <td>-38.0575</td>\n",
       "    </tr>\n",
       "    <tr>\n",
       "      <th>2</th>\n",
       "      <td>Регион 3</td>\n",
       "      <td>95.000</td>\n",
       "      <td>111.111111</td>\n",
       "      <td>-16.111111</td>\n",
       "      <td>-14.5000</td>\n",
       "    </tr>\n",
       "  </tbody>\n",
       "</table>\n",
       "</div>"
      ],
      "text/plain": [
       "    Регионы  Средний объем сырья  Точка безубыточности  Отклонение        %\n",
       "0  Регион 1               92.500            111.111111  -18.611111 -16.7500\n",
       "1  Регион 2               68.825            111.111111  -42.286111 -38.0575\n",
       "2  Регион 3               95.000            111.111111  -16.111111 -14.5000"
      ]
     },
     "metadata": {},
     "output_type": "display_data"
    }
   ],
   "source": [
    "fast_view = {'Регионы':['Регион 1', 'Регион 2', 'Регион 3'],\n",
    "            'Средний объем сырья': [target_region_0.mean(), target_region_1.mean(), target_region_2.mean()],\n",
    "            'Точка безубыточности': [BREAK_EVEN_POINT, BREAK_EVEN_POINT, BREAK_EVEN_POINT]}\n",
    "fast_view = pd.DataFrame(fast_view)\n",
    "fast_view['Отклонение'] = fast_view['Средний объем сырья'] - fast_view['Точка безубыточности']\n",
    "fast_view['%'] = fast_view['Отклонение']/fast_view['Точка безубыточности'] * 100\n",
    "display(fast_view)"
   ]
  },
  {
   "cell_type": "markdown",
   "metadata": {},
   "source": [
    "#### Напишем функцию для расчета прибыли по выбранным скважинам и предсказаниям модели"
   ]
  },
  {
   "cell_type": "code",
   "execution_count": 19,
   "metadata": {},
   "outputs": [],
   "source": [
    "# обработаем данные моделей по регионам\n",
    "# по 1 региону\n",
    "target_region_0_valid = pd.Series(target_region_0_valid)\n",
    "predicted_valid_region_0 = pd.Series(predicted_valid_region_0)\n",
    "target_region_0_valid = target_region_0_valid.reset_index(drop=True)\n",
    "predicted_valid_region_0 = predicted_valid_region_0.reset_index(drop=True)  \n",
    "# по 2 региону\n",
    "target_region_1_valid = pd.Series(target_region_1_valid)\n",
    "predicted_valid_region_1 = pd.Series(predicted_valid_region_1)\n",
    "target_region_1_valid = target_region_1_valid.reset_index(drop=True)\n",
    "predicted_valid_region_1 = predicted_valid_region_1.reset_index(drop=True)  \n",
    "# по 3 региону\n",
    "target_region_2_valid = pd.Series(target_region_2_valid)\n",
    "predicted_valid_region_2 = pd.Series(predicted_valid_region_2)\n",
    "target_region_2_valid = target_region_2_valid.reset_index(drop=True)\n",
    "predicted_valid_region_2 = predicted_valid_region_2.reset_index(drop=True)"
   ]
  },
  {
   "cell_type": "code",
   "execution_count": 20,
   "metadata": {},
   "outputs": [
    {
     "name": "stdout",
     "output_type": "stream",
     "text": [
      "Регион 1 тест\n",
      "3468.3728511441677\n",
      "Регион 2 тест\n",
      "2415.086696681512\n",
      "Регион 3 тест\n",
      "2310.7956115313846\n"
     ]
    }
   ],
   "source": [
    "# в качестве входных данных используем следующие значения:\n",
    "# 1. product_value_target - объем сырья фактически предоставленный\n",
    "# 2. product_value_predict - предсказанный объем сырья\n",
    "# 3. best_point_number - количество лучших точек для разработки(по умолчанию было 200)\n",
    "# 4. point_income - нормативная выручка одной точки(по умолчанию 0.45 млн. руб.)\n",
    "# 5. point_cost - нормативная себестоимость одной точки из расчета 10000 млн. руб. на 1 регион(200 точек)\n",
    "# Формула расчета прибыли: суммарный объем сырья по выбранному количеству точек * выручка на 1 точку - значение себестоимости по региональному бюджету\n",
    "def profit(product_value_target, product_value_predict):    \n",
    "    predict_sorted = product_value_predict.sort_values(ascending=False).head(BEST_POINT_NUM)\n",
    "    summary_product = product_value_target[predict_sorted.index][:BEST_POINT_NUM]\n",
    "    profit_region = summary_product.sum() * POINT_INCOME - REGION_BUDGET\n",
    "    return profit_region\n",
    "\n",
    "# тест функции с полученными значениями\n",
    "print('Регион 1 тест')\n",
    "print(profit(target_region_0_valid, predicted_valid_region_0))\n",
    "print('Регион 2 тест')\n",
    "print(profit(target_region_1_valid, predicted_valid_region_1))\n",
    "print('Регион 3 тест')\n",
    "print(profit(target_region_2_valid, predicted_valid_region_2))"
   ]
  },
  {
   "cell_type": "markdown",
   "metadata": {},
   "source": [
    "## Расчёт прибыли и рисков "
   ]
  },
  {
   "cell_type": "markdown",
   "metadata": {},
   "source": [
    "1. Применим технику Bootstrap с 1000 выборок, чтобы найти распределение прибыли;\n",
    "2. Найдём среднюю прибыль, 95%-й доверительный интервал и риск убытков;\n",
    "3. Предложим регион для разработки скважин и обоснуем выбор."
   ]
  },
  {
   "cell_type": "code",
   "execution_count": 21,
   "metadata": {},
   "outputs": [],
   "source": [
    "# применим технику Bootstrap и сформируем функцию расчета рисков и прибыли для регионов\n",
    "state = np.random.RandomState(654321)\n",
    "\n",
    "def result(target, prediction):\n",
    "    values = []\n",
    "    for i in range(1000):\n",
    "        target_subsample = target.sample(n=WIDE_POINT_NUM, replace=True, random_state=state)\n",
    "        probs_subsample = prediction[target_subsample.index]\n",
    "        result = profit(target_subsample, probs_subsample)\n",
    "        values.append(result)\n",
    "    values = pd.Series(values)\n",
    "    lower = values.quantile(0.025)\n",
    "    high = values.quantile(0.975)\n",
    "    mean = values.mean()\n",
    "    percent_negative = (values[values < 0].count()) / len(values)\n",
    "    print('Средняя прибыль по региону в млн. руб.: ', mean)\n",
    "    print('Вероятность убытков по региону в %: ', percent_negative * 100)\n",
    "    print('Нижняя граница 95% доверительного интервала в млн. руб.: ', lower)\n",
    "    print('Верхняя граница 95% доверительного интервала в млн. руб.: ', high)\n",
    "    print('Длина target_sample:', len(target_subsample))\n",
    "    print('Длина target:', len(target))"
   ]
  },
  {
   "cell_type": "code",
   "execution_count": 22,
   "metadata": {},
   "outputs": [
    {
     "name": "stdout",
     "output_type": "stream",
     "text": [
      "Результаты исследований по 1 региону\n",
      "Средняя прибыль по региону в млн. руб.:  520.4499684777904\n",
      "Вероятность убытков по региону в %:  3.1\n",
      "Нижняя граница 95% доверительного интервала в млн. руб.:  -12.109270168103057\n",
      "Верхняя граница 95% доверительного интервала в млн. руб.:  1023.8601392809554\n",
      "Длина target_sample: 500\n",
      "Длина target: 25000\n"
     ]
    }
   ],
   "source": [
    "# посчитаем показатели по 1 региону\n",
    "print('Результаты исследований по 1 региону')\n",
    "result(target_region_0_valid, predicted_valid_region_0)"
   ]
  },
  {
   "cell_type": "code",
   "execution_count": 23,
   "metadata": {},
   "outputs": [
    {
     "name": "stdout",
     "output_type": "stream",
     "text": [
      "Результаты исследований по 2 региону\n",
      "Средняя прибыль по региону в млн. руб.:  509.6709407360135\n",
      "Вероятность убытков по региону в %:  1.0\n",
      "Нижняя граница 95% доверительного интервала в млн. руб.:  90.98993104270812\n",
      "Верхняя граница 95% доверительного интервала в млн. руб.:  943.5210591383701\n",
      "Длина target_sample: 500\n",
      "Длина target: 25000\n"
     ]
    }
   ],
   "source": [
    "# посчитаем показатели по 2 региону\n",
    "print('Результаты исследований по 2 региону')\n",
    "result(target_region_1_valid, predicted_valid_region_1)"
   ]
  },
  {
   "cell_type": "code",
   "execution_count": 24,
   "metadata": {},
   "outputs": [
    {
     "name": "stdout",
     "output_type": "stream",
     "text": [
      "Результаты исследований по 3 региону\n",
      "Средняя прибыль по региону в млн. руб.:  439.36401190851154\n",
      "Вероятность убытков по региону в %:  6.0\n",
      "Нижняя граница 95% доверительного интервала в млн. руб.:  -123.86200955222202\n",
      "Верхняя граница 95% доверительного интервала в млн. руб.:  997.8334488369351\n",
      "Длина target_sample: 500\n",
      "Длина target: 25000\n"
     ]
    }
   ],
   "source": [
    "# посчитаем показатели по 3 региону\n",
    "print('Результаты исследований по 3 региону')\n",
    "result(target_region_2_valid, predicted_valid_region_2)"
   ]
  },
  {
   "cell_type": "markdown",
   "metadata": {},
   "source": [
    "По итогам анализа 3 регионов с целью разработки скважин рекомендуется выбрать регион №2(как наименее рисковый), т.к. при наименьшем риске в 1% средний показатель по прибыли среди регионов средний(2 место по показателю) и составляет 509 млн. руб., нижняя граница по прибыли единственная среди регионов имеет положительное значение и составляет 91 млн. руб., а верхняя граница по прибыли составила 943 млн. руб., что лишь на 7.8% ниже максимальной возможной среди регионов. "
   ]
  }
 ],
 "metadata": {
  "ExecuteTimeLog": [
   {
    "duration": 2153,
    "start_time": "2022-04-01T17:03:33.318Z"
   },
   {
    "duration": 710,
    "start_time": "2022-04-01T17:03:47.544Z"
   },
   {
    "duration": 75,
    "start_time": "2022-04-01T17:03:56.294Z"
   },
   {
    "duration": 241,
    "start_time": "2022-04-01T17:04:29.767Z"
   },
   {
    "duration": 97,
    "start_time": "2022-04-01T17:05:08.944Z"
   },
   {
    "duration": 593,
    "start_time": "2022-04-01T17:05:46.797Z"
   },
   {
    "duration": 388,
    "start_time": "2022-04-01T17:05:59.150Z"
   },
   {
    "duration": 401,
    "start_time": "2022-04-01T17:06:09.894Z"
   },
   {
    "duration": 519,
    "start_time": "2022-04-01T17:06:27.932Z"
   },
   {
    "duration": 466,
    "start_time": "2022-04-01T17:06:35.593Z"
   },
   {
    "duration": 503,
    "start_time": "2022-04-01T17:06:53.567Z"
   },
   {
    "duration": 431,
    "start_time": "2022-04-01T17:07:06.908Z"
   },
   {
    "duration": 547,
    "start_time": "2022-04-01T17:07:41.300Z"
   },
   {
    "duration": 204,
    "start_time": "2022-04-01T17:08:17.166Z"
   },
   {
    "duration": 19,
    "start_time": "2022-04-01T17:08:50.628Z"
   },
   {
    "duration": 71,
    "start_time": "2022-04-01T17:08:59.795Z"
   },
   {
    "duration": 35,
    "start_time": "2022-04-01T17:09:14.479Z"
   },
   {
    "duration": 34,
    "start_time": "2022-04-01T17:09:22.926Z"
   },
   {
    "duration": 4,
    "start_time": "2022-04-01T17:11:00.842Z"
   },
   {
    "duration": 4,
    "start_time": "2022-04-01T17:11:19.979Z"
   },
   {
    "duration": 4,
    "start_time": "2022-04-01T17:11:36.039Z"
   },
   {
    "duration": 22,
    "start_time": "2022-04-01T17:11:54.719Z"
   },
   {
    "duration": 9,
    "start_time": "2022-04-01T17:12:20.300Z"
   },
   {
    "duration": 22,
    "start_time": "2022-04-01T17:12:28.124Z"
   },
   {
    "duration": 8,
    "start_time": "2022-04-01T17:12:57.758Z"
   },
   {
    "duration": 1666,
    "start_time": "2022-04-01T17:13:05.676Z"
   },
   {
    "duration": 1667,
    "start_time": "2022-04-01T17:13:14.261Z"
   },
   {
    "duration": 1644,
    "start_time": "2022-04-01T17:13:20.713Z"
   },
   {
    "duration": 5,
    "start_time": "2022-04-01T17:15:02.429Z"
   },
   {
    "duration": 495,
    "start_time": "2022-04-01T17:15:02.437Z"
   },
   {
    "duration": 74,
    "start_time": "2022-04-01T17:15:02.935Z"
   },
   {
    "duration": 235,
    "start_time": "2022-04-01T17:15:03.012Z"
   },
   {
    "duration": 501,
    "start_time": "2022-04-01T17:15:03.268Z"
   },
   {
    "duration": 377,
    "start_time": "2022-04-01T17:15:03.772Z"
   },
   {
    "duration": 507,
    "start_time": "2022-04-01T17:15:04.151Z"
   },
   {
    "duration": 368,
    "start_time": "2022-04-01T17:15:04.668Z"
   },
   {
    "duration": 521,
    "start_time": "2022-04-01T17:15:05.039Z"
   },
   {
    "duration": 364,
    "start_time": "2022-04-01T17:15:05.566Z"
   },
   {
    "duration": 201,
    "start_time": "2022-04-01T17:15:05.932Z"
   },
   {
    "duration": 17,
    "start_time": "2022-04-01T17:15:06.135Z"
   },
   {
    "duration": 30,
    "start_time": "2022-04-01T17:15:06.168Z"
   },
   {
    "duration": 121,
    "start_time": "2022-04-01T17:15:06.270Z"
   },
   {
    "duration": 122,
    "start_time": "2022-04-01T17:15:06.470Z"
   },
   {
    "duration": 4,
    "start_time": "2022-04-01T17:15:06.670Z"
   },
   {
    "duration": 102,
    "start_time": "2022-04-01T17:15:06.677Z"
   },
   {
    "duration": 7,
    "start_time": "2022-04-01T17:15:06.781Z"
   },
   {
    "duration": 19,
    "start_time": "2022-04-01T17:15:06.790Z"
   },
   {
    "duration": 8,
    "start_time": "2022-04-01T17:15:06.812Z"
   },
   {
    "duration": 56,
    "start_time": "2022-04-01T17:15:06.822Z"
   },
   {
    "duration": 105,
    "start_time": "2022-04-01T17:15:06.880Z"
   },
   {
    "duration": 1679,
    "start_time": "2022-04-01T17:15:06.988Z"
   },
   {
    "duration": 1598,
    "start_time": "2022-04-01T17:15:08.671Z"
   },
   {
    "duration": 1636,
    "start_time": "2022-04-01T17:15:10.271Z"
   },
   {
    "duration": 86481,
    "start_time": "2022-04-02T14:30:04.805Z"
   },
   {
    "duration": 0,
    "start_time": "2022-04-02T14:31:31.289Z"
   },
   {
    "duration": 1,
    "start_time": "2022-04-02T14:31:31.290Z"
   },
   {
    "duration": 0,
    "start_time": "2022-04-02T14:31:31.292Z"
   },
   {
    "duration": 0,
    "start_time": "2022-04-02T14:31:31.294Z"
   },
   {
    "duration": 0,
    "start_time": "2022-04-02T14:31:31.295Z"
   },
   {
    "duration": 0,
    "start_time": "2022-04-02T14:31:31.298Z"
   },
   {
    "duration": 0,
    "start_time": "2022-04-02T14:31:31.299Z"
   },
   {
    "duration": 0,
    "start_time": "2022-04-02T14:31:31.301Z"
   },
   {
    "duration": 0,
    "start_time": "2022-04-02T14:31:31.302Z"
   },
   {
    "duration": 0,
    "start_time": "2022-04-02T14:31:31.304Z"
   },
   {
    "duration": 0,
    "start_time": "2022-04-02T14:31:31.306Z"
   },
   {
    "duration": 0,
    "start_time": "2022-04-02T14:31:31.307Z"
   },
   {
    "duration": 0,
    "start_time": "2022-04-02T14:31:31.309Z"
   },
   {
    "duration": 0,
    "start_time": "2022-04-02T14:31:31.311Z"
   },
   {
    "duration": 0,
    "start_time": "2022-04-02T14:31:31.312Z"
   },
   {
    "duration": 0,
    "start_time": "2022-04-02T14:31:31.314Z"
   },
   {
    "duration": 0,
    "start_time": "2022-04-02T14:31:31.315Z"
   },
   {
    "duration": 0,
    "start_time": "2022-04-02T14:31:31.317Z"
   },
   {
    "duration": 0,
    "start_time": "2022-04-02T14:31:31.319Z"
   },
   {
    "duration": 0,
    "start_time": "2022-04-02T14:31:31.320Z"
   },
   {
    "duration": 0,
    "start_time": "2022-04-02T14:31:31.343Z"
   },
   {
    "duration": 269377,
    "start_time": "2022-04-02T14:35:12.299Z"
   },
   {
    "duration": 59204,
    "start_time": "2022-04-02T14:40:23.154Z"
   },
   {
    "duration": 2053,
    "start_time": "2022-04-02T19:13:05.379Z"
   },
   {
    "duration": 444,
    "start_time": "2022-04-02T19:13:07.435Z"
   },
   {
    "duration": 70,
    "start_time": "2022-04-02T19:13:07.881Z"
   },
   {
    "duration": 253,
    "start_time": "2022-04-02T19:13:07.954Z"
   },
   {
    "duration": 572,
    "start_time": "2022-04-02T19:13:08.210Z"
   },
   {
    "duration": 360,
    "start_time": "2022-04-02T19:13:08.784Z"
   },
   {
    "duration": 504,
    "start_time": "2022-04-02T19:13:09.147Z"
   },
   {
    "duration": 383,
    "start_time": "2022-04-02T19:13:09.653Z"
   },
   {
    "duration": 602,
    "start_time": "2022-04-02T19:13:10.038Z"
   },
   {
    "duration": 385,
    "start_time": "2022-04-02T19:13:10.643Z"
   },
   {
    "duration": 212,
    "start_time": "2022-04-02T19:13:11.030Z"
   },
   {
    "duration": 39,
    "start_time": "2022-04-02T19:13:11.244Z"
   },
   {
    "duration": 102,
    "start_time": "2022-04-02T19:13:11.286Z"
   },
   {
    "duration": 119,
    "start_time": "2022-04-02T19:13:11.391Z"
   },
   {
    "duration": 128,
    "start_time": "2022-04-02T19:13:11.585Z"
   },
   {
    "duration": 5,
    "start_time": "2022-04-02T19:13:11.785Z"
   },
   {
    "duration": 99,
    "start_time": "2022-04-02T19:13:11.792Z"
   },
   {
    "duration": 7,
    "start_time": "2022-04-02T19:13:11.893Z"
   },
   {
    "duration": 22,
    "start_time": "2022-04-02T19:13:11.902Z"
   },
   {
    "duration": 9,
    "start_time": "2022-04-02T19:13:11.926Z"
   },
   {
    "duration": 57,
    "start_time": "2022-04-02T19:13:11.937Z"
   },
   {
    "duration": 7,
    "start_time": "2022-04-02T19:13:11.996Z"
   },
   {
    "duration": 1616,
    "start_time": "2022-04-02T19:13:12.006Z"
   },
   {
    "duration": 1567,
    "start_time": "2022-04-02T19:13:13.624Z"
   },
   {
    "duration": 1549,
    "start_time": "2022-04-02T19:13:15.194Z"
   },
   {
    "duration": 5,
    "start_time": "2022-04-02T19:45:33.996Z"
   },
   {
    "duration": 6,
    "start_time": "2022-04-02T19:49:34.760Z"
   },
   {
    "duration": 151,
    "start_time": "2022-04-02T19:50:10.803Z"
   },
   {
    "duration": 9,
    "start_time": "2022-04-02T19:52:32.982Z"
   },
   {
    "duration": 23,
    "start_time": "2022-04-02T19:52:33.964Z"
   },
   {
    "duration": 23,
    "start_time": "2022-04-02T19:52:35.942Z"
   },
   {
    "duration": 39,
    "start_time": "2022-04-02T19:53:04.883Z"
   },
   {
    "duration": 9,
    "start_time": "2022-04-02T19:53:08.680Z"
   },
   {
    "duration": 37,
    "start_time": "2022-04-02T19:53:10.347Z"
   },
   {
    "duration": 9,
    "start_time": "2022-04-02T19:53:48.527Z"
   },
   {
    "duration": 54,
    "start_time": "2022-04-02T19:53:49.520Z"
   },
   {
    "duration": 6,
    "start_time": "2022-04-02T19:54:05.087Z"
   },
   {
    "duration": 69,
    "start_time": "2022-04-02T19:54:05.122Z"
   },
   {
    "duration": 151,
    "start_time": "2022-04-02T19:54:06.438Z"
   },
   {
    "duration": 6,
    "start_time": "2022-04-02T19:54:27.886Z"
   },
   {
    "duration": 5077,
    "start_time": "2022-04-02T19:54:28.906Z"
   },
   {
    "duration": 5139,
    "start_time": "2022-04-02T19:54:52.143Z"
   },
   {
    "duration": 93,
    "start_time": "2022-04-02T19:57:51.392Z"
   },
   {
    "duration": 6,
    "start_time": "2022-04-02T19:58:28.666Z"
   },
   {
    "duration": 30,
    "start_time": "2022-04-02T19:58:29.662Z"
   },
   {
    "duration": 483,
    "start_time": "2022-04-02T20:27:00.201Z"
   },
   {
    "duration": 468,
    "start_time": "2022-04-02T20:27:11.020Z"
   },
   {
    "duration": 5,
    "start_time": "2022-04-02T20:28:20.999Z"
   },
   {
    "duration": 4,
    "start_time": "2022-04-02T20:28:22.294Z"
   },
   {
    "duration": 3,
    "start_time": "2022-04-02T20:28:36.179Z"
   },
   {
    "duration": 6,
    "start_time": "2022-04-02T20:28:44.924Z"
   },
   {
    "duration": 465,
    "start_time": "2022-04-02T20:28:47.034Z"
   },
   {
    "duration": 4,
    "start_time": "2022-04-02T20:35:04.282Z"
   },
   {
    "duration": 4,
    "start_time": "2022-04-02T20:35:05.455Z"
   },
   {
    "duration": 4,
    "start_time": "2022-04-02T20:35:48.406Z"
   },
   {
    "duration": 18,
    "start_time": "2022-04-02T20:36:00.292Z"
   },
   {
    "duration": 9,
    "start_time": "2022-04-02T20:36:16.404Z"
   },
   {
    "duration": 37,
    "start_time": "2022-04-02T20:36:22.280Z"
   },
   {
    "duration": 206,
    "start_time": "2022-04-02T20:37:15.927Z"
   },
   {
    "duration": 17,
    "start_time": "2022-04-02T20:39:29.415Z"
   },
   {
    "duration": 16,
    "start_time": "2022-04-02T20:39:37.503Z"
   },
   {
    "duration": 20,
    "start_time": "2022-04-02T20:40:00.845Z"
   },
   {
    "duration": 5,
    "start_time": "2022-04-02T20:42:44.566Z"
   },
   {
    "duration": 11,
    "start_time": "2022-04-02T20:43:11.341Z"
   },
   {
    "duration": 148,
    "start_time": "2022-04-02T20:44:03.720Z"
   },
   {
    "duration": 7,
    "start_time": "2022-04-02T20:45:26.146Z"
   },
   {
    "duration": 1572,
    "start_time": "2022-04-02T20:45:28.851Z"
   },
   {
    "duration": 1548,
    "start_time": "2022-04-02T20:45:31.846Z"
   },
   {
    "duration": 1553,
    "start_time": "2022-04-02T20:45:34.786Z"
   },
   {
    "duration": 5,
    "start_time": "2022-04-02T20:46:14.270Z"
   },
   {
    "duration": 493,
    "start_time": "2022-04-02T20:46:14.278Z"
   },
   {
    "duration": 69,
    "start_time": "2022-04-02T20:46:14.773Z"
   },
   {
    "duration": 252,
    "start_time": "2022-04-02T20:46:14.847Z"
   },
   {
    "duration": 519,
    "start_time": "2022-04-02T20:46:15.102Z"
   },
   {
    "duration": 383,
    "start_time": "2022-04-02T20:46:15.624Z"
   },
   {
    "duration": 498,
    "start_time": "2022-04-02T20:46:16.010Z"
   },
   {
    "duration": 393,
    "start_time": "2022-04-02T20:46:16.511Z"
   },
   {
    "duration": 474,
    "start_time": "2022-04-02T20:46:16.908Z"
   },
   {
    "duration": 334,
    "start_time": "2022-04-02T20:46:17.384Z"
   },
   {
    "duration": 194,
    "start_time": "2022-04-02T20:46:17.721Z"
   },
   {
    "duration": 16,
    "start_time": "2022-04-02T20:46:17.917Z"
   },
   {
    "duration": 6,
    "start_time": "2022-04-02T20:46:17.935Z"
   },
   {
    "duration": 7,
    "start_time": "2022-04-02T20:46:17.943Z"
   },
   {
    "duration": 30,
    "start_time": "2022-04-02T20:46:17.952Z"
   },
   {
    "duration": 7,
    "start_time": "2022-04-02T20:46:17.984Z"
   },
   {
    "duration": 398,
    "start_time": "2022-04-02T20:46:17.993Z"
   },
   {
    "duration": 89,
    "start_time": "2022-04-02T20:46:18.394Z"
   },
   {
    "duration": 97,
    "start_time": "2022-04-02T20:46:18.487Z"
   },
   {
    "duration": 7,
    "start_time": "2022-04-02T20:46:18.587Z"
   },
   {
    "duration": 19,
    "start_time": "2022-04-02T20:46:18.596Z"
   },
   {
    "duration": 9,
    "start_time": "2022-04-02T20:46:18.617Z"
   },
   {
    "duration": 71,
    "start_time": "2022-04-02T20:46:18.628Z"
   },
   {
    "duration": 7,
    "start_time": "2022-04-02T20:46:18.703Z"
   },
   {
    "duration": 1593,
    "start_time": "2022-04-02T20:46:18.712Z"
   },
   {
    "duration": 1599,
    "start_time": "2022-04-02T20:46:20.307Z"
   },
   {
    "duration": 1577,
    "start_time": "2022-04-02T20:46:21.908Z"
   },
   {
    "duration": 6,
    "start_time": "2022-04-02T20:47:22.841Z"
   },
   {
    "duration": 453,
    "start_time": "2022-04-02T20:47:22.850Z"
   },
   {
    "duration": 84,
    "start_time": "2022-04-02T20:47:23.305Z"
   },
   {
    "duration": 209,
    "start_time": "2022-04-02T20:47:23.392Z"
   },
   {
    "duration": 490,
    "start_time": "2022-04-02T20:47:23.603Z"
   },
   {
    "duration": 366,
    "start_time": "2022-04-02T20:47:24.095Z"
   },
   {
    "duration": 591,
    "start_time": "2022-04-02T20:47:24.463Z"
   },
   {
    "duration": 377,
    "start_time": "2022-04-02T20:47:25.057Z"
   },
   {
    "duration": 509,
    "start_time": "2022-04-02T20:47:25.438Z"
   },
   {
    "duration": 385,
    "start_time": "2022-04-02T20:47:25.949Z"
   },
   {
    "duration": 191,
    "start_time": "2022-04-02T20:47:26.336Z"
   },
   {
    "duration": 16,
    "start_time": "2022-04-02T20:47:26.529Z"
   },
   {
    "duration": 7,
    "start_time": "2022-04-02T20:47:26.547Z"
   },
   {
    "duration": 405,
    "start_time": "2022-04-02T20:47:26.583Z"
   },
   {
    "duration": 93,
    "start_time": "2022-04-02T20:47:26.991Z"
   },
   {
    "duration": 96,
    "start_time": "2022-04-02T20:47:27.088Z"
   },
   {
    "duration": 6,
    "start_time": "2022-04-02T20:47:27.187Z"
   },
   {
    "duration": 20,
    "start_time": "2022-04-02T20:47:27.195Z"
   },
   {
    "duration": 8,
    "start_time": "2022-04-02T20:47:27.218Z"
   },
   {
    "duration": 58,
    "start_time": "2022-04-02T20:47:27.228Z"
   },
   {
    "duration": 7,
    "start_time": "2022-04-02T20:47:27.289Z"
   },
   {
    "duration": 1574,
    "start_time": "2022-04-02T20:47:27.298Z"
   },
   {
    "duration": 1621,
    "start_time": "2022-04-02T20:47:28.874Z"
   },
   {
    "duration": 1600,
    "start_time": "2022-04-02T20:47:30.499Z"
   },
   {
    "duration": 156,
    "start_time": "2022-04-02T20:50:33.618Z"
   },
   {
    "duration": 8,
    "start_time": "2022-04-02T20:50:39.370Z"
   },
   {
    "duration": 1585,
    "start_time": "2022-04-02T20:50:41.184Z"
   },
   {
    "duration": 8,
    "start_time": "2022-04-02T20:51:46.221Z"
   },
   {
    "duration": 1582,
    "start_time": "2022-04-02T20:51:48.627Z"
   },
   {
    "duration": 1609,
    "start_time": "2022-04-02T20:51:59.341Z"
   },
   {
    "duration": 1693,
    "start_time": "2022-04-02T20:52:02.992Z"
   },
   {
    "duration": 8,
    "start_time": "2022-04-02T20:53:04.882Z"
   },
   {
    "duration": 5,
    "start_time": "2022-04-02T20:53:09.770Z"
   },
   {
    "duration": 441,
    "start_time": "2022-04-02T20:53:09.778Z"
   },
   {
    "duration": 83,
    "start_time": "2022-04-02T20:53:10.221Z"
   },
   {
    "duration": 225,
    "start_time": "2022-04-02T20:53:10.307Z"
   },
   {
    "duration": 495,
    "start_time": "2022-04-02T20:53:10.534Z"
   },
   {
    "duration": 372,
    "start_time": "2022-04-02T20:53:11.032Z"
   },
   {
    "duration": 469,
    "start_time": "2022-04-02T20:53:11.406Z"
   },
   {
    "duration": 360,
    "start_time": "2022-04-02T20:53:11.877Z"
   },
   {
    "duration": 514,
    "start_time": "2022-04-02T20:53:12.241Z"
   },
   {
    "duration": 381,
    "start_time": "2022-04-02T20:53:12.757Z"
   },
   {
    "duration": 193,
    "start_time": "2022-04-02T20:53:13.140Z"
   },
   {
    "duration": 15,
    "start_time": "2022-04-02T20:53:13.336Z"
   },
   {
    "duration": 30,
    "start_time": "2022-04-02T20:53:13.353Z"
   },
   {
    "duration": 408,
    "start_time": "2022-04-02T20:53:13.385Z"
   },
   {
    "duration": 88,
    "start_time": "2022-04-02T20:53:13.796Z"
   },
   {
    "duration": 100,
    "start_time": "2022-04-02T20:53:13.888Z"
   },
   {
    "duration": 6,
    "start_time": "2022-04-02T20:53:13.992Z"
   },
   {
    "duration": 20,
    "start_time": "2022-04-02T20:53:14.000Z"
   },
   {
    "duration": 9,
    "start_time": "2022-04-02T20:53:14.022Z"
   },
   {
    "duration": 56,
    "start_time": "2022-04-02T20:53:14.033Z"
   },
   {
    "duration": 8,
    "start_time": "2022-04-02T20:53:14.092Z"
   },
   {
    "duration": 1588,
    "start_time": "2022-04-02T20:53:14.102Z"
   },
   {
    "duration": 1562,
    "start_time": "2022-04-02T20:53:15.693Z"
   },
   {
    "duration": 1597,
    "start_time": "2022-04-02T20:53:17.259Z"
   },
   {
    "duration": 25343,
    "start_time": "2022-04-03T09:47:29.800Z"
   },
   {
    "duration": 473,
    "start_time": "2022-04-03T09:48:33.956Z"
   },
   {
    "duration": 109,
    "start_time": "2022-04-03T09:48:37.078Z"
   },
   {
    "duration": 256,
    "start_time": "2022-04-03T09:48:39.790Z"
   },
   {
    "duration": 587,
    "start_time": "2022-04-03T09:48:46.034Z"
   },
   {
    "duration": 361,
    "start_time": "2022-04-03T09:48:49.694Z"
   },
   {
    "duration": 510,
    "start_time": "2022-04-03T09:48:53.151Z"
   },
   {
    "duration": 493,
    "start_time": "2022-04-03T09:49:03.295Z"
   },
   {
    "duration": 558,
    "start_time": "2022-04-03T09:49:07.791Z"
   },
   {
    "duration": 458,
    "start_time": "2022-04-03T09:49:11.682Z"
   },
   {
    "duration": 199,
    "start_time": "2022-04-03T09:49:15.397Z"
   },
   {
    "duration": 20,
    "start_time": "2022-04-03T09:49:20.162Z"
   },
   {
    "duration": 6,
    "start_time": "2022-04-03T09:49:22.416Z"
   },
   {
    "duration": 508,
    "start_time": "2022-04-03T09:49:24.985Z"
   },
   {
    "duration": 3,
    "start_time": "2022-04-03T09:49:30.655Z"
   },
   {
    "duration": 5,
    "start_time": "2022-04-03T09:49:32.517Z"
   },
   {
    "duration": 4,
    "start_time": "2022-04-03T09:49:35.389Z"
   },
   {
    "duration": 207,
    "start_time": "2022-04-03T09:49:40.177Z"
   },
   {
    "duration": 16,
    "start_time": "2022-04-03T09:50:06.237Z"
   },
   {
    "duration": 1800,
    "start_time": "2022-04-03T13:11:07.202Z"
   },
   {
    "duration": 452,
    "start_time": "2022-04-03T13:11:09.004Z"
   },
   {
    "duration": 56,
    "start_time": "2022-04-03T13:11:09.458Z"
   },
   {
    "duration": 160,
    "start_time": "2022-04-03T13:11:09.516Z"
   },
   {
    "duration": 420,
    "start_time": "2022-04-03T13:11:09.678Z"
   },
   {
    "duration": 270,
    "start_time": "2022-04-03T13:11:10.100Z"
   },
   {
    "duration": 362,
    "start_time": "2022-04-03T13:11:10.372Z"
   },
   {
    "duration": 278,
    "start_time": "2022-04-03T13:11:10.736Z"
   },
   {
    "duration": 431,
    "start_time": "2022-04-03T13:11:11.015Z"
   },
   {
    "duration": 283,
    "start_time": "2022-04-03T13:11:11.449Z"
   },
   {
    "duration": 151,
    "start_time": "2022-04-03T13:11:11.734Z"
   },
   {
    "duration": 30,
    "start_time": "2022-04-03T13:11:11.887Z"
   },
   {
    "duration": 7,
    "start_time": "2022-04-03T13:11:11.919Z"
   },
   {
    "duration": 395,
    "start_time": "2022-04-03T13:11:11.929Z"
   },
   {
    "duration": 77,
    "start_time": "2022-04-03T13:11:12.327Z"
   },
   {
    "duration": 92,
    "start_time": "2022-04-03T13:11:12.409Z"
   },
   {
    "duration": 5,
    "start_time": "2022-04-03T13:11:12.503Z"
   },
   {
    "duration": 124,
    "start_time": "2022-04-03T13:11:12.509Z"
   },
   {
    "duration": 1,
    "start_time": "2022-04-03T13:11:12.636Z"
   },
   {
    "duration": 0,
    "start_time": "2022-04-03T13:11:12.638Z"
   },
   {
    "duration": 0,
    "start_time": "2022-04-03T13:11:12.640Z"
   },
   {
    "duration": 0,
    "start_time": "2022-04-03T13:11:12.642Z"
   },
   {
    "duration": 0,
    "start_time": "2022-04-03T13:11:12.643Z"
   },
   {
    "duration": 0,
    "start_time": "2022-04-03T13:11:12.645Z"
   },
   {
    "duration": 4,
    "start_time": "2022-04-03T13:15:12.561Z"
   },
   {
    "duration": 509,
    "start_time": "2022-04-03T13:15:12.569Z"
   },
   {
    "duration": 55,
    "start_time": "2022-04-03T13:15:13.080Z"
   },
   {
    "duration": 195,
    "start_time": "2022-04-03T13:15:13.137Z"
   },
   {
    "duration": 373,
    "start_time": "2022-04-03T13:15:13.334Z"
   },
   {
    "duration": 282,
    "start_time": "2022-04-03T13:15:13.711Z"
   },
   {
    "duration": 349,
    "start_time": "2022-04-03T13:15:13.995Z"
   },
   {
    "duration": 301,
    "start_time": "2022-04-03T13:15:14.346Z"
   },
   {
    "duration": 558,
    "start_time": "2022-04-03T13:15:14.649Z"
   },
   {
    "duration": 441,
    "start_time": "2022-04-03T13:15:15.210Z"
   },
   {
    "duration": 177,
    "start_time": "2022-04-03T13:15:15.653Z"
   },
   {
    "duration": 16,
    "start_time": "2022-04-03T13:15:15.831Z"
   },
   {
    "duration": 7,
    "start_time": "2022-04-03T13:15:15.849Z"
   },
   {
    "duration": 555,
    "start_time": "2022-04-03T13:15:15.858Z"
   },
   {
    "duration": 3,
    "start_time": "2022-04-03T13:15:16.502Z"
   },
   {
    "duration": 5,
    "start_time": "2022-04-03T13:15:16.507Z"
   },
   {
    "duration": 6,
    "start_time": "2022-04-03T13:15:16.514Z"
   },
   {
    "duration": 14,
    "start_time": "2022-04-03T13:15:16.522Z"
   },
   {
    "duration": 0,
    "start_time": "2022-04-03T13:15:16.538Z"
   },
   {
    "duration": 0,
    "start_time": "2022-04-03T13:15:16.539Z"
   },
   {
    "duration": 0,
    "start_time": "2022-04-03T13:15:16.541Z"
   },
   {
    "duration": 0,
    "start_time": "2022-04-03T13:15:16.542Z"
   },
   {
    "duration": 0,
    "start_time": "2022-04-03T13:15:16.544Z"
   },
   {
    "duration": 0,
    "start_time": "2022-04-03T13:15:16.545Z"
   },
   {
    "duration": 5,
    "start_time": "2022-04-03T13:21:36.794Z"
   },
   {
    "duration": 387,
    "start_time": "2022-04-03T13:21:37.825Z"
   },
   {
    "duration": 3,
    "start_time": "2022-04-03T13:21:43.667Z"
   },
   {
    "duration": 4,
    "start_time": "2022-04-03T13:21:44.759Z"
   },
   {
    "duration": 4,
    "start_time": "2022-04-03T13:21:46.602Z"
   },
   {
    "duration": 19,
    "start_time": "2022-04-03T13:21:48.539Z"
   },
   {
    "duration": 19,
    "start_time": "2022-04-03T13:21:49.708Z"
   },
   {
    "duration": 236,
    "start_time": "2022-04-03T13:22:14.957Z"
   },
   {
    "duration": 28,
    "start_time": "2022-04-03T13:22:26.978Z"
   },
   {
    "duration": 17,
    "start_time": "2022-04-03T13:22:32.440Z"
   },
   {
    "duration": 5,
    "start_time": "2022-04-03T13:23:47.853Z"
   },
   {
    "duration": 329,
    "start_time": "2022-04-03T13:23:50.087Z"
   },
   {
    "duration": 3,
    "start_time": "2022-04-03T13:23:56.202Z"
   },
   {
    "duration": 4,
    "start_time": "2022-04-03T13:23:58.677Z"
   },
   {
    "duration": 4,
    "start_time": "2022-04-03T13:24:01.432Z"
   },
   {
    "duration": 22,
    "start_time": "2022-04-03T13:24:03.956Z"
   },
   {
    "duration": 10,
    "start_time": "2022-04-03T13:24:17.254Z"
   },
   {
    "duration": 9,
    "start_time": "2022-04-03T13:24:23.948Z"
   },
   {
    "duration": 23,
    "start_time": "2022-04-03T13:24:27.636Z"
   },
   {
    "duration": 8,
    "start_time": "2022-04-03T13:24:46.952Z"
   },
   {
    "duration": 1166,
    "start_time": "2022-04-03T13:24:50.006Z"
   },
   {
    "duration": 1059,
    "start_time": "2022-04-03T13:24:53.437Z"
   },
   {
    "duration": 1324,
    "start_time": "2022-04-03T13:24:56.691Z"
   },
   {
    "duration": 1762,
    "start_time": "2022-04-03T13:25:18.796Z"
   },
   {
    "duration": 637,
    "start_time": "2022-04-03T13:25:20.561Z"
   },
   {
    "duration": 52,
    "start_time": "2022-04-03T13:25:21.202Z"
   },
   {
    "duration": 200,
    "start_time": "2022-04-03T13:25:21.256Z"
   },
   {
    "duration": 420,
    "start_time": "2022-04-03T13:25:21.459Z"
   },
   {
    "duration": 304,
    "start_time": "2022-04-03T13:25:21.882Z"
   },
   {
    "duration": 371,
    "start_time": "2022-04-03T13:25:22.188Z"
   },
   {
    "duration": 321,
    "start_time": "2022-04-03T13:25:22.562Z"
   },
   {
    "duration": 458,
    "start_time": "2022-04-03T13:25:22.885Z"
   },
   {
    "duration": 306,
    "start_time": "2022-04-03T13:25:23.345Z"
   },
   {
    "duration": 160,
    "start_time": "2022-04-03T13:25:23.653Z"
   },
   {
    "duration": 17,
    "start_time": "2022-04-03T13:25:23.815Z"
   },
   {
    "duration": 9,
    "start_time": "2022-04-03T13:25:23.834Z"
   },
   {
    "duration": 361,
    "start_time": "2022-04-03T13:25:23.846Z"
   },
   {
    "duration": 4,
    "start_time": "2022-04-03T13:25:24.210Z"
   },
   {
    "duration": 92,
    "start_time": "2022-04-03T13:25:24.215Z"
   },
   {
    "duration": 5,
    "start_time": "2022-04-03T13:25:24.310Z"
   },
   {
    "duration": 22,
    "start_time": "2022-04-03T13:25:24.400Z"
   },
   {
    "duration": 7,
    "start_time": "2022-04-03T13:25:24.424Z"
   },
   {
    "duration": 28,
    "start_time": "2022-04-03T13:25:24.433Z"
   },
   {
    "duration": 9,
    "start_time": "2022-04-03T13:25:24.463Z"
   },
   {
    "duration": 1102,
    "start_time": "2022-04-03T13:25:24.474Z"
   },
   {
    "duration": 1044,
    "start_time": "2022-04-03T13:25:25.577Z"
   },
   {
    "duration": 1091,
    "start_time": "2022-04-03T13:25:26.623Z"
   },
   {
    "duration": 200,
    "start_time": "2022-04-03T13:28:16.153Z"
   },
   {
    "duration": 1744,
    "start_time": "2022-04-03T13:32:13.165Z"
   },
   {
    "duration": 487,
    "start_time": "2022-04-03T13:32:14.911Z"
   },
   {
    "duration": 54,
    "start_time": "2022-04-03T13:32:15.400Z"
   },
   {
    "duration": 194,
    "start_time": "2022-04-03T13:32:15.456Z"
   },
   {
    "duration": 419,
    "start_time": "2022-04-03T13:32:15.652Z"
   },
   {
    "duration": 410,
    "start_time": "2022-04-03T13:32:16.072Z"
   },
   {
    "duration": 549,
    "start_time": "2022-04-03T13:32:16.484Z"
   },
   {
    "duration": 286,
    "start_time": "2022-04-03T13:32:17.035Z"
   },
   {
    "duration": 446,
    "start_time": "2022-04-03T13:32:17.322Z"
   },
   {
    "duration": 310,
    "start_time": "2022-04-03T13:32:17.771Z"
   },
   {
    "duration": 162,
    "start_time": "2022-04-03T13:32:18.083Z"
   },
   {
    "duration": 16,
    "start_time": "2022-04-03T13:32:18.247Z"
   },
   {
    "duration": 6,
    "start_time": "2022-04-03T13:32:18.265Z"
   },
   {
    "duration": 443,
    "start_time": "2022-04-03T13:32:18.272Z"
   },
   {
    "duration": 3,
    "start_time": "2022-04-03T13:32:18.718Z"
   },
   {
    "duration": 11,
    "start_time": "2022-04-03T13:32:18.801Z"
   },
   {
    "duration": 6,
    "start_time": "2022-04-03T13:32:18.900Z"
   },
   {
    "duration": 23,
    "start_time": "2022-04-03T13:32:18.908Z"
   },
   {
    "duration": 7,
    "start_time": "2022-04-03T13:32:18.933Z"
   },
   {
    "duration": 22,
    "start_time": "2022-04-03T13:32:18.942Z"
   },
   {
    "duration": 7,
    "start_time": "2022-04-03T13:32:18.966Z"
   },
   {
    "duration": 1110,
    "start_time": "2022-04-03T13:32:18.975Z"
   },
   {
    "duration": 1065,
    "start_time": "2022-04-03T13:32:20.087Z"
   },
   {
    "duration": 1198,
    "start_time": "2022-04-03T13:32:21.154Z"
   },
   {
    "duration": 26080,
    "start_time": "2022-04-03T15:37:43.233Z"
   },
   {
    "duration": 530,
    "start_time": "2022-04-03T15:38:09.316Z"
   },
   {
    "duration": 98,
    "start_time": "2022-04-03T15:38:09.848Z"
   },
   {
    "duration": 274,
    "start_time": "2022-04-03T15:38:09.949Z"
   },
   {
    "duration": 566,
    "start_time": "2022-04-03T15:38:10.227Z"
   },
   {
    "duration": 396,
    "start_time": "2022-04-03T15:38:10.796Z"
   },
   {
    "duration": 523,
    "start_time": "2022-04-03T15:38:11.194Z"
   },
   {
    "duration": 401,
    "start_time": "2022-04-03T15:38:11.719Z"
   },
   {
    "duration": 638,
    "start_time": "2022-04-03T15:38:12.122Z"
   },
   {
    "duration": 382,
    "start_time": "2022-04-03T15:38:12.762Z"
   },
   {
    "duration": 292,
    "start_time": "2022-04-03T15:38:13.146Z"
   },
   {
    "duration": 43,
    "start_time": "2022-04-03T15:38:13.441Z"
   },
   {
    "duration": 10,
    "start_time": "2022-04-03T15:38:13.487Z"
   },
   {
    "duration": 381,
    "start_time": "2022-04-03T15:38:13.502Z"
   },
   {
    "duration": 7,
    "start_time": "2022-04-03T15:38:13.892Z"
   },
   {
    "duration": 24,
    "start_time": "2022-04-03T15:38:13.975Z"
   },
   {
    "duration": 10,
    "start_time": "2022-04-03T15:38:14.001Z"
   },
   {
    "duration": 27,
    "start_time": "2022-04-03T15:38:14.014Z"
   },
   {
    "duration": 9,
    "start_time": "2022-04-03T15:38:14.043Z"
   },
   {
    "duration": 39,
    "start_time": "2022-04-03T15:38:14.054Z"
   },
   {
    "duration": 13,
    "start_time": "2022-04-03T15:38:14.095Z"
   },
   {
    "duration": 1969,
    "start_time": "2022-04-03T15:38:14.110Z"
   },
   {
    "duration": 1979,
    "start_time": "2022-04-03T15:38:16.082Z"
   },
   {
    "duration": 1758,
    "start_time": "2022-04-03T15:38:18.063Z"
   }
  ],
  "kernelspec": {
   "display_name": "Python 3 (ipykernel)",
   "language": "python",
   "name": "python3"
  },
  "language_info": {
   "codemirror_mode": {
    "name": "ipython",
    "version": 3
   },
   "file_extension": ".py",
   "mimetype": "text/x-python",
   "name": "python",
   "nbconvert_exporter": "python",
   "pygments_lexer": "ipython3",
   "version": "3.9.12"
  },
  "toc": {
   "base_numbering": 1,
   "nav_menu": {},
   "number_sections": true,
   "sideBar": true,
   "skip_h1_title": true,
   "title_cell": "Содержание",
   "title_sidebar": "Содержание",
   "toc_cell": true,
   "toc_position": {},
   "toc_section_display": true,
   "toc_window_display": true
  },
  "varInspector": {
   "cols": {
    "lenName": 16,
    "lenType": 16,
    "lenVar": 40
   },
   "kernels_config": {
    "python": {
     "delete_cmd_postfix": "",
     "delete_cmd_prefix": "del ",
     "library": "var_list.py",
     "varRefreshCmd": "print(var_dic_list())"
    },
    "r": {
     "delete_cmd_postfix": ") ",
     "delete_cmd_prefix": "rm(",
     "library": "var_list.r",
     "varRefreshCmd": "cat(var_dic_list()) "
    }
   },
   "types_to_exclude": [
    "module",
    "function",
    "builtin_function_or_method",
    "instance",
    "_Feature"
   ],
   "window_display": false
  }
 },
 "nbformat": 4,
 "nbformat_minor": 2
}
